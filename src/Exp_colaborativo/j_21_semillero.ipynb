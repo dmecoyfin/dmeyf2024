{
  "cells": [
    {
      "cell_type": "markdown",
      "metadata": {
        "id": "d_xvJXPhCkMA"
      },
      "source": [
        "# Semillero\n",
        "\n",
        "### Autor: Federico Picado\n",
        "### Fecha de última modificación: 28/10/2024\n",
        "### Descripción: Entrenar y guardar modelos solamente cambiando la semillla.\n",
        "\n",
        "Este script creara N modelos cambiando solo la semilla y se guardaran en la carpeta especificada, de la siguiente forma :\n",
        "\n",
        "- `<modelo_nombre>_<numero_seed>.ipynb`"
      ]
    },
    {
      "cell_type": "markdown",
      "metadata": {
        "id": "qRTSvXdLHkpB"
      },
      "source": [
        "## Parámetro\n",
        "\n",
        "N_Seeds: Cantidad de semillas aleatoria de 1000 a 100000 elegir."
      ]
    },
    {
      "cell_type": "code",
      "execution_count": 83,
      "metadata": {
        "id": "yMU00Fl7IIfm"
      },
      "outputs": [],
      "source": [
        "N_Seeds= 50\n",
        "mes_train = 202104\n",
        "mes_test = 202106"
      ]
    },
    {
      "cell_type": "markdown",
      "metadata": {
        "id": "sH5VivJSIM42"
      },
      "source": [
        "## Input"
      ]
    },
    {
      "cell_type": "code",
      "execution_count": 84,
      "metadata": {},
      "outputs": [],
      "source": [
        "# Ya en el input se ejecutan cosas\n",
        "import pandas as pd\n",
        "import numpy as np\n",
        "import random\n",
        "import lightgbm as lgb\n",
        "import optuna\n",
        "import os"
      ]
    },
    {
      "cell_type": "code",
      "execution_count": 85,
      "metadata": {},
      "outputs": [],
      "source": [
        "base_path = 'C:/Users/Federico/Desktop/Maestria Data mining/DM EyF/'# Cambiar\n",
        "dataset_path = base_path + 'datasets/'\n",
        "modelos_path = base_path + 'modelos/'\n",
        "db_path = base_path + 'db/'\n",
        "dataset_file = 'competencia_01_DQ.csv'#df con las columnas que entrene \n",
        "\n",
        "# carpeta donde se guardan los modelos\n",
        "nombre_carpeta = \"modelo_shap\" # Cambiar\n",
        "modelo_nombre= \"modelo_shap\"# Cambiar\n",
        "\n",
        "# me traigo la optimizacion del modelo\n",
        "storage_name = \"sqlite:///\" + db_path + \"optimizacion_LGBM_competencia_01.db\"# Cambiar\n",
        "study_name = \"modelo_22\"# Cambiar"
      ]
    },
    {
      "cell_type": "code",
      "execution_count": 86,
      "metadata": {
        "id": "MEk4Fj7VIv7g"
      },
      "outputs": [
        {
          "name": "stderr",
          "output_type": "stream",
          "text": [
            "[I 2024-10-28 20:44:03,467] Using an existing study with name 'modelo_22' instead of creating a new one.\n"
          ]
        }
      ],
      "source": [
        "# creo el study\n",
        "study_1= optuna.create_study(\n",
        "    direction=\"maximize\",\n",
        "    study_name=study_name,\n",
        "    storage=storage_name,\n",
        "    load_if_exists=True,\n",
        ")\n",
        "\n",
        "study=study_1\n",
        "best_iter=study_1.best_trial.user_attrs[\"best_iter\"]\n",
        "\n",
        "# Definir los mejores parámetros del modelo\n",
        "best_params = {\n",
        "    'objective': 'binary',\n",
        "    'boosting_type': 'gbdt',\n",
        "    'first_metric_only': True,\n",
        "    'boost_from_average': True,\n",
        "    'feature_pre_filter': False,\n",
        "    'max_bin': 31,\n",
        "    'num_leaves': study.best_trial.params['num_leaves'],\n",
        "    'learning_rate': study.best_trial.params['learning_rate'],\n",
        "    'min_data_in_leaf': study.best_trial.params['min_data_in_leaf'],\n",
        "    'feature_fraction': study.best_trial.params['feature_fraction'],\n",
        "    'bagging_fraction': study.best_trial.params['bagging_fraction'],\n",
        "    'verbose': 0\n",
        "    #agregue los que su modelo considere\n",
        "}"
      ]
    },
    {
      "cell_type": "markdown",
      "metadata": {},
      "source": [
        "Esta parte podria estar en procesamiento pero creo que aca se va a poder modificar mejor en el caso que el modelo no sea el mismo"
      ]
    },
    {
      "cell_type": "code",
      "execution_count": 87,
      "metadata": {},
      "outputs": [
        {
          "name": "stderr",
          "output_type": "stream",
          "text": [
            "C:\\Users\\Federico\\AppData\\Local\\Temp\\ipykernel_1188\\599366075.py:2: DtypeWarning: Columns (97) have mixed types. Specify dtype option on import or set low_memory=False.\n",
            "  data = pd.read_csv(dataset_path + dataset_file)\n"
          ]
        }
      ],
      "source": [
        "### El modelo que entre yo es un LGBM, creando la clase binaria y separe los datos para entrenamiento\n",
        "data = pd.read_csv(dataset_path + dataset_file)\n",
        "df=data.copy()\n",
        "\n",
        "df['clase_peso'] = 1.0\n",
        "df['clase_binaria'] = 0\n",
        "df['clase_binaria'] = np.where(df['clase_ternaria'] == 'CONTINUA', 0, 1)\n",
        "\n",
        "df.loc[df['clase_binaria'] == 1, 'clase_peso'] = 1.0001\n",
        "\n",
        "### train. Los datos con los que realize la optimizacion\n",
        "train_data = df[df['foto_mes'] == mes_train]\n",
        "X_train = train_data.drop(['clase_ternaria', 'clase_peso', 'clase_binaria'], axis=1)\n",
        "y_train_binaria = train_data['clase_binaria']\n",
        "w_train = train_data['clase_peso']"
      ]
    },
    {
      "cell_type": "markdown",
      "metadata": {
        "id": "fQ6MUhENI0Ya"
      },
      "source": [
        "## Output\n",
        "\n",
        "< Archivos, bases de datos, modelos que va a generar el job>"
      ]
    },
    {
      "cell_type": "code",
      "execution_count": 88,
      "metadata": {
        "id": "ZT3kxlkFIv4p"
      },
      "outputs": [],
      "source": [
        "base_path = 'C:/Users/Federico/Desktop/Maestria Data mining/DM EyF/'# cambiar la ruta\n",
        "modelos_path = base_path + 'modelos/'\n",
        "# dentro de modelos_path se creara una carpeta y se guardaran los modelos entrenados"
      ]
    },
    {
      "cell_type": "markdown",
      "metadata": {},
      "source": [
        "# MAIN"
      ]
    },
    {
      "cell_type": "markdown",
      "metadata": {},
      "source": [
        "### Funciones "
      ]
    },
    {
      "cell_type": "code",
      "execution_count": 89,
      "metadata": {},
      "outputs": [],
      "source": [
        "def entrenar_modelos_con_varias_semillas(best_params, X_train, y_train_binaria, w_train, best_iter, semillas,modelo_nombre):\n",
        "    \"\"\"\n",
        "    Entrena modelos de LightGBM utilizando los mejores parámetros y una lista de semillas.\n",
        "    \n",
        "    Parámetros:\n",
        "    - best_params: dict, contiene los mejores parámetros del estudio de optimización.\n",
        "    - X_train: dataframe, las características de entrenamiento.\n",
        "    - y_train_binaria: array-like, la variable objetivo binaria.\n",
        "    - w_train: array-like, los pesos para las observaciones de entrenamiento.\n",
        "    - best_iter: int, la mejor cantidad de árboles según el estudio de optimización.\n",
        "    - semillas: lista de int, las semillas para entrenar cada modelo.\n",
        "    \n",
        "    Retorna:\n",
        "    - modelos_entrenados: diccionario de modelos de LightGBM entrenados, con nombres basados en la semilla.\n",
        "    \"\"\"\n",
        "    modelos_entrenados = {}\n",
        "\n",
        "    # Crear el dataset de entrenamiento\n",
        "    train_data = lgb.Dataset(X_train, label=y_train_binaria, weight=w_train)\n",
        "\n",
        "    # Entrenar un modelo por cada semilla\n",
        "    for seed in semillas:\n",
        "        # Actualizar el parámetro de la semilla\n",
        "        params = best_params.copy()\n",
        "        params['seed'] = seed\n",
        "        \n",
        "        # Entrenar el modelo\n",
        "        model = lgb.train(params, train_data, num_boost_round=best_iter)\n",
        "        \n",
        "        # Asignar el nombre del modelo como \"modelo_semilla\"\n",
        "        nombre_modelo = f\"{modelo_nombre}_{seed}\"\n",
        "        modelos_entrenados[nombre_modelo] = model\n",
        "        \n",
        "        print(f\"Modelo entrenado con semilla {seed} guardado como {nombre_modelo}\")\n",
        "    \n",
        "    return modelos_entrenados\n",
        "\n",
        "\n",
        "def crear_semillas_primas_aleatorias(N, inicio=1000, fin=100000):\n",
        "    def es_primo(n):\n",
        "        if n < 2:\n",
        "            return False\n",
        "        for i in range(2, int(n**0.5) + 1):\n",
        "            if n % i == 0:\n",
        "                return False\n",
        "        return True\n",
        "\n",
        "    semillas = set()  # Usamos un conjunto para evitar duplicados\n",
        "    while len(semillas) < N:\n",
        "        num = random.randint(inicio, fin)\n",
        "        if es_primo(num):\n",
        "            semillas.add(num)\n",
        "    return list(semillas)"
      ]
    },
    {
      "cell_type": "code",
      "execution_count": 90,
      "metadata": {},
      "outputs": [],
      "source": [
        "# Creo las semillas\n",
        "semillas = crear_semillas_primas_aleatorias(N_Seeds)"
      ]
    },
    {
      "cell_type": "code",
      "execution_count": 91,
      "metadata": {},
      "outputs": [
        {
          "name": "stdout",
          "output_type": "stream",
          "text": [
            "Modelo entrenado con semilla 95233 guardado como modelo_shap_95233\n",
            "Modelo entrenado con semilla 13697 guardado como modelo_shap_13697\n",
            "Modelo entrenado con semilla 53381 guardado como modelo_shap_53381\n",
            "Modelo entrenado con semilla 37643 guardado como modelo_shap_37643\n",
            "Modelo entrenado con semilla 49807 guardado como modelo_shap_49807\n",
            "Modelo entrenado con semilla 76303 guardado como modelo_shap_76303\n",
            "Modelo entrenado con semilla 23059 guardado como modelo_shap_23059\n",
            "Modelo entrenado con semilla 27541 guardado como modelo_shap_27541\n",
            "Modelo entrenado con semilla 30869 guardado como modelo_shap_30869\n",
            "Modelo entrenado con semilla 23321 guardado como modelo_shap_23321\n",
            "Modelo entrenado con semilla 53147 guardado como modelo_shap_53147\n",
            "Modelo entrenado con semilla 42139 guardado como modelo_shap_42139\n",
            "Modelo entrenado con semilla 35999 guardado como modelo_shap_35999\n",
            "Modelo entrenado con semilla 99487 guardado como modelo_shap_99487\n",
            "Modelo entrenado con semilla 96419 guardado como modelo_shap_96419\n",
            "Modelo entrenado con semilla 93479 guardado como modelo_shap_93479\n",
            "Modelo entrenado con semilla 67247 guardado como modelo_shap_67247\n",
            "Modelo entrenado con semilla 79279 guardado como modelo_shap_79279\n",
            "Modelo entrenado con semilla 43961 guardado como modelo_shap_43961\n",
            "Modelo entrenado con semilla 39359 guardado como modelo_shap_39359\n",
            "Modelo entrenado con semilla 33599 guardado como modelo_shap_33599\n",
            "Modelo entrenado con semilla 50753 guardado como modelo_shap_50753\n",
            "Modelo entrenado con semilla 88897 guardado como modelo_shap_88897\n",
            "Modelo entrenado con semilla 17093 guardado como modelo_shap_17093\n",
            "Modelo entrenado con semilla 6469 guardado como modelo_shap_6469\n",
            "Modelo entrenado con semilla 46663 guardado como modelo_shap_46663\n",
            "Modelo entrenado con semilla 17483 guardado como modelo_shap_17483\n",
            "Modelo entrenado con semilla 40013 guardado como modelo_shap_40013\n",
            "Modelo entrenado con semilla 1997 guardado como modelo_shap_1997\n",
            "Modelo entrenado con semilla 83921 guardado como modelo_shap_83921\n",
            "Modelo entrenado con semilla 6911 guardado como modelo_shap_6911\n",
            "Modelo entrenado con semilla 78167 guardado como modelo_shap_78167\n",
            "Modelo entrenado con semilla 25561 guardado como modelo_shap_25561\n",
            "Modelo entrenado con semilla 72031 guardado como modelo_shap_72031\n",
            "Modelo entrenado con semilla 18401 guardado como modelo_shap_18401\n",
            "Modelo entrenado con semilla 69859 guardado como modelo_shap_69859\n",
            "Modelo entrenado con semilla 60899 guardado como modelo_shap_60899\n",
            "Modelo entrenado con semilla 24547 guardado como modelo_shap_24547\n",
            "Modelo entrenado con semilla 54629 guardado como modelo_shap_54629\n",
            "Modelo entrenado con semilla 20983 guardado como modelo_shap_20983\n",
            "Modelo entrenado con semilla 59627 guardado como modelo_shap_59627\n",
            "Modelo entrenado con semilla 2027 guardado como modelo_shap_2027\n",
            "Modelo entrenado con semilla 21997 guardado como modelo_shap_21997\n",
            "Modelo entrenado con semilla 96493 guardado como modelo_shap_96493\n",
            "Modelo entrenado con semilla 15601 guardado como modelo_shap_15601\n",
            "Modelo entrenado con semilla 86131 guardado como modelo_shap_86131\n",
            "Modelo entrenado con semilla 58997 guardado como modelo_shap_58997\n",
            "Modelo entrenado con semilla 32887 guardado como modelo_shap_32887\n",
            "Modelo entrenado con semilla 20857 guardado como modelo_shap_20857\n",
            "Modelo entrenado con semilla 39679 guardado como modelo_shap_39679\n"
          ]
        }
      ],
      "source": [
        "# Entrenar los modelos\n",
        "modelos_entrenado = entrenar_modelos_con_varias_semillas(best_params, X_train, y_train_binaria, w_train, best_iter, semillas, modelo_nombre)"
      ]
    },
    {
      "cell_type": "code",
      "execution_count": 92,
      "metadata": {},
      "outputs": [],
      "source": [
        "def crear_carpeta(base_ruta, nombre_carpeta):\n",
        "    \"\"\"\n",
        "    Crea una carpeta en la ruta especificada si no existe y devuelve la ruta completa.\n",
        "    \n",
        "    Parámetros:\n",
        "    - base_ruta: str, ruta base donde se creará la carpeta.\n",
        "    - nombre_carpeta: str, nombre de la carpeta a crear.\n",
        "    \n",
        "    Retorna:\n",
        "    - ruta_completa: str, la ruta completa de la carpeta creada.\n",
        "    \"\"\"\n",
        "    # Construye la ruta completa de la carpeta\n",
        "    ruta_completa = os.path.join(base_ruta, nombre_carpeta)\n",
        "    \n",
        "    # Verifica si la carpeta ya existe; si no, la crea\n",
        "    if not os.path.exists(ruta_completa):\n",
        "        os.makedirs(ruta_completa)\n",
        "        print(f\"Carpeta creada en: {ruta_completa}\")\n",
        "    else:\n",
        "        print(f\"La carpeta ya existe en: {ruta_completa}\")\n",
        "    \n",
        "    # Retorna la ruta completa de la carpeta\n",
        "    return ruta_completa"
      ]
    },
    {
      "cell_type": "code",
      "execution_count": 93,
      "metadata": {},
      "outputs": [
        {
          "name": "stdout",
          "output_type": "stream",
          "text": [
            "Carpeta creada en: C:/Users/Federico/Desktop/Maestria Data mining/DM EyF/modelos/modelo_shap\n"
          ]
        }
      ],
      "source": [
        "ruta_modelos=crear_carpeta(modelos_path, nombre_carpeta)"
      ]
    },
    {
      "cell_type": "code",
      "execution_count": 94,
      "metadata": {},
      "outputs": [],
      "source": [
        "def guardar_modelo(model, modelos_carpeta_path, nombre_archivo):\n",
        "    \"\"\"\n",
        "    Guarda un modelo de LightGBM en un archivo especificado.\n",
        "    \n",
        "    Parámetros:\n",
        "    - model: el modelo de LightGBM entrenado.\n",
        "    - modelos_path: str, la ruta de la carpeta donde se guardará el modelo.\n",
        "    - nombre_archivo: str, el nombre del archivo (incluyendo la extensión .txt) para guardar el modelo.\n",
        "    \"\"\"\n",
        "    # Asegurar que la carpeta existe\n",
        "    if not os.path.exists(modelos_carpeta_path):\n",
        "        os.makedirs(modelos_carpeta_path)\n",
        "    \n",
        "    # Construir la ruta completa del archivo\n",
        "    ruta_completa = os.path.join(modelos_carpeta_path, nombre_archivo)\n",
        "    \n",
        "    # Guardar el modelo en la ruta especificada\n",
        "    model.save_model(ruta_completa)"
      ]
    },
    {
      "cell_type": "code",
      "execution_count": 95,
      "metadata": {},
      "outputs": [],
      "source": [
        "for nombre_modelo, modelo in modelos_entrenado.items():\n",
        "    guardar_modelo(modelo, ruta_modelos, f\"{nombre_modelo}.txt\")"
      ]
    }
  ],
  "metadata": {
    "colab": {
      "provenance": []
    },
    "kernelspec": {
      "display_name": "Python 3",
      "name": "python3"
    },
    "language_info": {
      "codemirror_mode": {
        "name": "ipython",
        "version": 3
      },
      "file_extension": ".py",
      "mimetype": "text/x-python",
      "name": "python",
      "nbconvert_exporter": "python",
      "pygments_lexer": "ipython3",
      "version": "3.12.5"
    }
  },
  "nbformat": 4,
  "nbformat_minor": 0
}
