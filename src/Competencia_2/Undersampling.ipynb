{
 "cells": [
  {
   "cell_type": "markdown",
   "id": "e2d38595-4b99-4c95-9c9d-189d57524034",
   "metadata": {},
   "source": [
    "# Codigo sacado de Eugenio Negrin"
   ]
  },
  {
   "cell_type": "raw",
   "id": "fadb4be6-b9c0-4187-ad6a-4264eb8d8e24",
   "metadata": {},
   "source": [
    "!pip install imbalanced-learn"
   ]
  },
  {
   "cell_type": "code",
   "execution_count": 1,
   "id": "c9b5a994-96bc-4221-8892-2688d7e5912d",
   "metadata": {},
   "outputs": [],
   "source": [
    "import pandas as pd\n",
    "import numpy as np\n",
    "\n",
    "from imblearn.under_sampling import RandomUnderSampler"
   ]
  },
  {
   "cell_type": "raw",
   "id": "f9c59a45-8b8f-4194-96cd-c7bee421eaa9",
   "metadata": {},
   "source": [
    "!gsutil cp /home/fedepicado/buckets/b1/datasets/competencia_02_DQ_ft.parquet /home/fedepicado/datasets/"
   ]
  },
  {
   "cell_type": "code",
   "execution_count": 2,
   "id": "edb95fc1-cd48-467b-8f07-af95e4eb0910",
   "metadata": {},
   "outputs": [],
   "source": [
    "base_path = '/home/fedepicado/'\n",
    "modelos_path = base_path + 'buckets/b1/modelos/'\n",
    "db_path = base_path + 'buckets/b1/db/'\n",
    "dataset_path = base_path + 'buckets/b1/datasets/'\n",
    "exp_path = base_path + 'buckets/b1/exp/'\n",
    "dataset_file = 'competencia_02_DQ_ft.parquet'\n",
    "full_path = dataset_path + dataset_file"
   ]
  },
  {
   "cell_type": "code",
   "execution_count": 3,
   "id": "581b4b06-1fc1-4afe-a0fd-8ae17ffc2b2f",
   "metadata": {},
   "outputs": [],
   "source": [
    "#semillas\n",
    "semillas = [540079,250829,314299,302111,801007]\n",
    "\n",
    "#meses entrenamiento\n",
    "meses_train = [202012,202101,202102,202103,202104]"
   ]
  },
  {
   "cell_type": "code",
   "execution_count": 4,
   "id": "95c4ccb4-6ddd-4a86-a88e-b874ced3b1e9",
   "metadata": {},
   "outputs": [],
   "source": [
    "data = pd.read_parquet(dataset_path + dataset_file)"
   ]
  },
  {
   "cell_type": "code",
   "execution_count": 6,
   "id": "68e762a8-bcb4-445f-8ab5-7f63ab7d9035",
   "metadata": {},
   "outputs": [],
   "source": [
    "data['clase_binaria'] = 0\n",
    "data['clase_binaria'] = np.where(data['clase_ternaria'] == 'BAJA+2', 1, 0)"
   ]
  },
  {
   "cell_type": "code",
   "execution_count": 7,
   "id": "939e19c2-724e-429a-b099-d05cb52030ef",
   "metadata": {},
   "outputs": [],
   "source": [
    "data = data[data['foto_mes'].isin(meses_train)]"
   ]
  },
  {
   "cell_type": "code",
   "execution_count": 9,
   "id": "d4c9f1db-7f4e-457e-ab84-fb9dbe6d24ea",
   "metadata": {},
   "outputs": [
    {
     "data": {
      "text/html": [
       "<div>\n",
       "<style scoped>\n",
       "    .dataframe tbody tr th:only-of-type {\n",
       "        vertical-align: middle;\n",
       "    }\n",
       "\n",
       "    .dataframe tbody tr th {\n",
       "        vertical-align: top;\n",
       "    }\n",
       "\n",
       "    .dataframe thead th {\n",
       "        text-align: right;\n",
       "    }\n",
       "</style>\n",
       "<table border=\"1\" class=\"dataframe\">\n",
       "  <thead>\n",
       "    <tr style=\"text-align: right;\">\n",
       "      <th></th>\n",
       "      <th>foto_mes</th>\n",
       "      <th>proportion_0</th>\n",
       "      <th>proportion_1</th>\n",
       "    </tr>\n",
       "  </thead>\n",
       "  <tbody>\n",
       "    <tr>\n",
       "      <th>0</th>\n",
       "      <td>202012</td>\n",
       "      <td>0.996075</td>\n",
       "      <td>0.003925</td>\n",
       "    </tr>\n",
       "    <tr>\n",
       "      <th>1</th>\n",
       "      <td>202101</td>\n",
       "      <td>0.995155</td>\n",
       "      <td>0.004845</td>\n",
       "    </tr>\n",
       "    <tr>\n",
       "      <th>2</th>\n",
       "      <td>202102</td>\n",
       "      <td>0.993747</td>\n",
       "      <td>0.006253</td>\n",
       "    </tr>\n",
       "    <tr>\n",
       "      <th>3</th>\n",
       "      <td>202103</td>\n",
       "      <td>0.994007</td>\n",
       "      <td>0.005993</td>\n",
       "    </tr>\n",
       "    <tr>\n",
       "      <th>4</th>\n",
       "      <td>202104</td>\n",
       "      <td>0.992754</td>\n",
       "      <td>0.007246</td>\n",
       "    </tr>\n",
       "  </tbody>\n",
       "</table>\n",
       "</div>"
      ],
      "text/plain": [
       "   foto_mes  proportion_0  proportion_1\n",
       "0    202012      0.996075      0.003925\n",
       "1    202101      0.995155      0.004845\n",
       "2    202102      0.993747      0.006253\n",
       "3    202103      0.994007      0.005993\n",
       "4    202104      0.992754      0.007246"
      ]
     },
     "execution_count": 9,
     "metadata": {},
     "output_type": "execute_result"
    }
   ],
   "source": [
    "df_prop = (\n",
    "    data.groupby('foto_mes')['clase_binaria']\n",
    "    .value_counts(normalize=True)\n",
    "    .unstack(fill_value=0)\n",
    "    .reset_index()\n",
    ")\n",
    "\n",
    "df_prop.columns = ['foto_mes', 'proportion_0', 'proportion_1']\n",
    "df_prop"
   ]
  },
  {
   "cell_type": "code",
   "execution_count": 11,
   "id": "172cd273-1408-4301-9687-4459817ff490",
   "metadata": {},
   "outputs": [
    {
     "name": "stdout",
     "output_type": "stream",
     "text": [
      "Original proportion:0.003925064695466983\n",
      "Original proportion:0.004844901435572068\n",
      "Original proportion:0.006252843598981838\n",
      "Original proportion:0.0059932186822250055\n",
      "Original proportion:0.007246023523676031\n"
     ]
    }
   ],
   "source": [
    "df_subsampled = []\n",
    "\n",
    "for mes, group in data.groupby(\"foto_mes\"):\n",
    "\n",
    "    X = group.drop(columns=\"clase_binaria\")\n",
    "    y = group[\"clase_binaria\"]\n",
    "    \n",
    "    # Calculo la proporcion de bajas\n",
    "    minority_proportion = y.value_counts(normalize=True).get(1, 0)\n",
    "    print(f'Original proportion:{minority_proportion}')\n",
    "    \n",
    "    # voy a incrementar esa proporcion por 10\n",
    "    new_proportion = minority_proportion * 10\n",
    "\n",
    "    # Apply RandomUnderSampler with the calculated strategy\n",
    "    rus = RandomUnderSampler(sampling_strategy=new_proportion, random_state=semillas[0])\n",
    "    X_res, y_res = rus.fit_resample(X, y)\n",
    "\n",
    "    # Rebuild the resampled DataFrame for the group\n",
    "    group_resampled = pd.concat([X_res, y_res], axis=1)\n",
    "    group_resampled[\"foto_mes\"] = mes  # Add back the 'foto_mes' column\n",
    "\n",
    "    # Add the resampled DataFrame to the list\n",
    "    df_subsampled.append(group_resampled)\n",
    "\n",
    "# Concatenate all resampled groups into a single DataFrame\n",
    "data = pd.concat(df_subsampled, ignore_index=True)"
   ]
  },
  {
   "cell_type": "code",
   "execution_count": 12,
   "id": "ea5ef5d4-85d2-48fd-aac5-5f83412ab811",
   "metadata": {},
   "outputs": [
    {
     "data": {
      "text/plain": [
       "(86001, 289)"
      ]
     },
     "execution_count": 12,
     "metadata": {},
     "output_type": "execute_result"
    }
   ],
   "source": [
    "data.shape"
   ]
  },
  {
   "cell_type": "code",
   "execution_count": 14,
   "id": "7bf80ca5-6a53-4332-bf01-70e45ac8a5a3",
   "metadata": {},
   "outputs": [
    {
     "data": {
      "text/html": [
       "<div>\n",
       "<style scoped>\n",
       "    .dataframe tbody tr th:only-of-type {\n",
       "        vertical-align: middle;\n",
       "    }\n",
       "\n",
       "    .dataframe tbody tr th {\n",
       "        vertical-align: top;\n",
       "    }\n",
       "\n",
       "    .dataframe thead th {\n",
       "        text-align: right;\n",
       "    }\n",
       "</style>\n",
       "<table border=\"1\" class=\"dataframe\">\n",
       "  <thead>\n",
       "    <tr style=\"text-align: right;\">\n",
       "      <th></th>\n",
       "      <th>foto_mes</th>\n",
       "      <th>proportion_0</th>\n",
       "      <th>proportion_1</th>\n",
       "    </tr>\n",
       "  </thead>\n",
       "  <tbody>\n",
       "    <tr>\n",
       "      <th>0</th>\n",
       "      <td>202012</td>\n",
       "      <td>0.962230</td>\n",
       "      <td>0.037770</td>\n",
       "    </tr>\n",
       "    <tr>\n",
       "      <th>1</th>\n",
       "      <td>202101</td>\n",
       "      <td>0.953788</td>\n",
       "      <td>0.046212</td>\n",
       "    </tr>\n",
       "    <tr>\n",
       "      <th>2</th>\n",
       "      <td>202102</td>\n",
       "      <td>0.941149</td>\n",
       "      <td>0.058851</td>\n",
       "    </tr>\n",
       "    <tr>\n",
       "      <th>3</th>\n",
       "      <td>202103</td>\n",
       "      <td>0.943455</td>\n",
       "      <td>0.056545</td>\n",
       "    </tr>\n",
       "    <tr>\n",
       "      <th>4</th>\n",
       "      <td>202104</td>\n",
       "      <td>0.932436</td>\n",
       "      <td>0.067564</td>\n",
       "    </tr>\n",
       "  </tbody>\n",
       "</table>\n",
       "</div>"
      ],
      "text/plain": [
       "   foto_mes  proportion_0  proportion_1\n",
       "0    202012      0.962230      0.037770\n",
       "1    202101      0.953788      0.046212\n",
       "2    202102      0.941149      0.058851\n",
       "3    202103      0.943455      0.056545\n",
       "4    202104      0.932436      0.067564"
      ]
     },
     "execution_count": 14,
     "metadata": {},
     "output_type": "execute_result"
    }
   ],
   "source": [
    "df_prop = (\n",
    "    data.groupby('foto_mes')['clase_binaria']\n",
    "    .value_counts(normalize=True)\n",
    "    .unstack(fill_value=0)\n",
    "    .reset_index()\n",
    ")\n",
    "\n",
    "df_prop.columns = ['foto_mes', 'proportion_0', 'proportion_1']\n",
    "df_prop"
   ]
  },
  {
   "cell_type": "code",
   "execution_count": 15,
   "id": "1262165e-2d7d-4b03-80ff-150137c32635",
   "metadata": {},
   "outputs": [],
   "source": [
    "dataset_file1 = 'competencia_02_DQ_ft_under_5meses.parquet'\n",
    "full_path1 = dataset_path + dataset_file1\n",
    "\n",
    "# Guarda el DataFrame en formato Parquet\n",
    "data.to_parquet(full_path1, engine='pyarrow') "
   ]
  }
 ],
 "metadata": {
  "kernelspec": {
   "display_name": "Python 3 (ipykernel)",
   "language": "python",
   "name": "python3"
  },
  "language_info": {
   "codemirror_mode": {
    "name": "ipython",
    "version": 3
   },
   "file_extension": ".py",
   "mimetype": "text/x-python",
   "name": "python",
   "nbconvert_exporter": "python",
   "pygments_lexer": "ipython3",
   "version": "3.12.3"
  }
 },
 "nbformat": 4,
 "nbformat_minor": 5
}
