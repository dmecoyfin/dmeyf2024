{
 "cells": [
  {
   "cell_type": "code",
   "execution_count": 1,
   "metadata": {},
   "outputs": [
    {
     "name": "stderr",
     "output_type": "stream",
     "text": [
      "c:\\Users\\Federico\\AppData\\Local\\Programs\\Python\\Python312\\Lib\\site-packages\\tqdm\\auto.py:21: TqdmWarning: IProgress not found. Please update jupyter and ipywidgets. See https://ipywidgets.readthedocs.io/en/stable/user_install.html\n",
      "  from .autonotebook import tqdm as notebook_tqdm\n"
     ]
    }
   ],
   "source": [
    "import pandas as pd\n",
    "import numpy as np\n",
    "import seaborn as sns\n",
    "import matplotlib.pyplot as plt\n",
    "import plotly \n",
    "\n",
    "from sklearn.tree import DecisionTreeClassifier, plot_tree,  _tree\n",
    "from sklearn.ensemble import RandomForestClassifierr\n",
    "from sklearn.model_selection import train_test_split0\n",
    "from sklearn.model_selection import ShuffleSplit, StratifiedShuffleSplit\n",
    "from sklearn.metrics import classification_report, accuracy_score\n",
    "\n",
    "from joblib import Parallel, delayed\n",
    "\n",
    "from time import time\n",
    "\n",
    "import optuna\n",
    "from optuna.visualization import plot_param_importances, plot_contour,  plot_slice, plot_optimization_history\n",
    "-  \n",
    "import os\n",
    "\n",
    "# pd.set_option('display.max_colwidth', None)\n",
    "# pd.options.display.max_columns = None"
   ]
  },
  {
   "cell_type": "code",
   "execution_count": 4,
   "metadata": {},
   "outputs": [],
   "source": [
    "# dataset_path = 'C:/Users/Federico/Desktop/Maestria Data mining/DM EyF/datasets/'\n",
    "# dataset_file = 'competencia_01.csv'\n",
    "\n",
    "base_path = 'C:/Users/Federico/Desktop/Maestria Data mining/DM EyF/'\n",
    "dataset_path = base_path + 'datasets/'\n",
    "modelos_path = base_path + 'modelos/'\n",
    "db_path = base_path + 'db/'\n",
    "dataset_file = 'competencia_01_fe.csv'\n",
    "\n",
    "\n",
    "ganancia_acierto = 273000\n",
    "costo_estimulo = 7000\n",
    "\n",
    "mes_train = 202104\n",
    "mes_test = 202106\n",
    "\n",
    "# agregue sus semillas\n",
    "semillas = [540079, 250829, 314299, 302111, 801007]\n",
    "\n",
    "data = pd.read_csv(dataset_path + dataset_file)"
   ]
  },
  {
   "cell_type": "code",
   "execution_count": 5,
   "metadata": {},
   "outputs": [
    {
     "data": {
      "text/plain": [
       "(981946, 155)"
      ]
     },
     "execution_count": 5,
     "metadata": {},
     "output_type": "execute_result"
    }
   ],
   "source": [
    "df=data.copy()\n",
    "df.shape"
   ]
  },
  {
   "cell_type": "code",
   "execution_count": 13,
   "metadata": {},
   "outputs": [
    {
     "data": {
      "text/html": [
       "<div>\n",
       "<style scoped>\n",
       "    .dataframe tbody tr th:only-of-type {\n",
       "        vertical-align: middle;\n",
       "    }\n",
       "\n",
       "    .dataframe tbody tr th {\n",
       "        vertical-align: top;\n",
       "    }\n",
       "\n",
       "    .dataframe thead th {\n",
       "        text-align: right;\n",
       "    }\n",
       "</style>\n",
       "<table border=\"1\" class=\"dataframe\">\n",
       "  <thead>\n",
       "    <tr style=\"text-align: right;\">\n",
       "      <th></th>\n",
       "      <th>ctarjeta_master</th>\n",
       "    </tr>\n",
       "  </thead>\n",
       "  <tbody>\n",
       "    <tr>\n",
       "      <th>0</th>\n",
       "      <td>1</td>\n",
       "    </tr>\n",
       "    <tr>\n",
       "      <th>1</th>\n",
       "      <td>1</td>\n",
       "    </tr>\n",
       "    <tr>\n",
       "      <th>2</th>\n",
       "      <td>1</td>\n",
       "    </tr>\n",
       "    <tr>\n",
       "      <th>3</th>\n",
       "      <td>1</td>\n",
       "    </tr>\n",
       "    <tr>\n",
       "      <th>4</th>\n",
       "      <td>1</td>\n",
       "    </tr>\n",
       "    <tr>\n",
       "      <th>...</th>\n",
       "      <td>...</td>\n",
       "    </tr>\n",
       "    <tr>\n",
       "      <th>981941</th>\n",
       "      <td>1</td>\n",
       "    </tr>\n",
       "    <tr>\n",
       "      <th>981942</th>\n",
       "      <td>1</td>\n",
       "    </tr>\n",
       "    <tr>\n",
       "      <th>981943</th>\n",
       "      <td>1</td>\n",
       "    </tr>\n",
       "    <tr>\n",
       "      <th>981944</th>\n",
       "      <td>1</td>\n",
       "    </tr>\n",
       "    <tr>\n",
       "      <th>981945</th>\n",
       "      <td>1</td>\n",
       "    </tr>\n",
       "  </tbody>\n",
       "</table>\n",
       "<p>981946 rows × 1 columns</p>\n",
       "</div>"
      ],
      "text/plain": [
       "        ctarjeta_master\n",
       "0                     1\n",
       "1                     1\n",
       "2                     1\n",
       "3                     1\n",
       "4                     1\n",
       "...                 ...\n",
       "981941                1\n",
       "981942                1\n",
       "981943                1\n",
       "981944                1\n",
       "981945                1\n",
       "\n",
       "[981946 rows x 1 columns]"
      ]
     },
     "execution_count": 13,
     "metadata": {},
     "output_type": "execute_result"
    }
   ],
   "source": [
    "df[[\"ctarjeta_master\"]]"
   ]
  },
  {
   "cell_type": "code",
   "execution_count": 4,
   "metadata": {},
   "outputs": [],
   "source": [
    "# mes de entrenamiento\n",
    "train= df[df['foto_mes'] == mes_train]\n",
    "predecir = df[df['foto_mes'] == mes_test]"
   ]
  },
  {
   "cell_type": "code",
   "execution_count": 6,
   "metadata": {},
   "outputs": [
    {
     "name": "stderr",
     "output_type": "stream",
     "text": [
      "C:\\Users\\Federico\\AppData\\Local\\Temp\\ipykernel_14972\\2177770977.py:2: FutureWarning: The 'downcast' keyword in fillna is deprecated and will be removed in a future version. Use res.infer_objects(copy=False) to infer non-object dtype, or pd.to_numeric with the 'downcast' keyword to downcast numeric results.\n",
      "  train.fillna(0, inplace=True, downcast= \"infer\")\n",
      "C:\\Users\\Federico\\AppData\\Local\\Temp\\ipykernel_14972\\2177770977.py:2: SettingWithCopyWarning: \n",
      "A value is trying to be set on a copy of a slice from a DataFrame\n",
      "\n",
      "See the caveats in the documentation: https://pandas.pydata.org/pandas-docs/stable/user_guide/indexing.html#returning-a-view-versus-a-copy\n",
      "  train.fillna(0, inplace=True, downcast= \"infer\")\n"
     ]
    }
   ],
   "source": [
    "## relleno todo con 0 de momento\n",
    "#train.fillna(0, inplace=True, downcast= \"infer\")"
   ]
  },
  {
   "cell_type": "markdown",
   "metadata": {},
   "source": [
    "# Cuales son las variables mas importantes para un arbol de decision?"
   ]
  },
  {
   "cell_type": "code",
   "execution_count": 26,
   "metadata": {},
   "outputs": [
    {
     "name": "stdout",
     "output_type": "stream",
     "text": [
      "Accuracy: 0.9869583765007008\n",
      "Classification Report:\n"
     ]
    },
    {
     "name": "stderr",
     "output_type": "stream",
     "text": [
      "c:\\Users\\Federico\\AppData\\Local\\Programs\\Python\\Python312\\Lib\\site-packages\\sklearn\\metrics\\_classification.py:1531: UndefinedMetricWarning: Precision is ill-defined and being set to 0.0 in labels with no predicted samples. Use `zero_division` parameter to control this behavior.\n",
      "  _warn_prf(average, modifier, f\"{metric.capitalize()} is\", len(result))\n"
     ]
    },
    {
     "name": "stdout",
     "output_type": "stream",
     "text": [
      "              precision    recall  f1-score   support\n",
      "\n",
      "      BAJA+1       0.00      0.00      0.00       204\n",
      "      BAJA+2       0.00      0.00      0.00       224\n",
      "    CONTINUA       0.99      1.00      0.99     32390\n",
      "\n",
      "    accuracy                           0.99     32818\n",
      "   macro avg       0.33      0.33      0.33     32818\n",
      "weighted avg       0.97      0.99      0.98     32818\n",
      "\n"
     ]
    },
    {
     "name": "stderr",
     "output_type": "stream",
     "text": [
      "c:\\Users\\Federico\\AppData\\Local\\Programs\\Python\\Python312\\Lib\\site-packages\\sklearn\\metrics\\_classification.py:1531: UndefinedMetricWarning: Precision is ill-defined and being set to 0.0 in labels with no predicted samples. Use `zero_division` parameter to control this behavior.\n",
      "  _warn_prf(average, modifier, f\"{metric.capitalize()} is\", len(result))\n",
      "c:\\Users\\Federico\\AppData\\Local\\Programs\\Python\\Python312\\Lib\\site-packages\\sklearn\\metrics\\_classification.py:1531: UndefinedMetricWarning: Precision is ill-defined and being set to 0.0 in labels with no predicted samples. Use `zero_division` parameter to control this behavior.\n",
      "  _warn_prf(average, modifier, f\"{metric.capitalize()} is\", len(result))\n"
     ]
    }
   ],
   "source": [
    "# Separar las características y el target\n",
    "X = train.drop(columns=['clase_ternaria'])  # Variables predictoras\n",
    "y = train['clase_ternaria']  # Variable objetivo\n",
    "\n",
    "# Dividir los datos en entrenamiento y prueba\n",
    "X_train, X_test, y_train, y_test = train_test_split(X, y, test_size=0.2, random_state=42)\n",
    "\n",
    "# Definir el modelo Random Forest con parámetros generales\n",
    "rf_model = DecisionTreeClassifier(\n",
    "    criterion= 'gini',       # criterio\n",
    "    max_depth=5,            # Profundidad máxima de cada árbol\n",
    "    min_samples_split=10,   # Mínima cantidad de muestras para dividir un nodo\n",
    "    min_samples_leaf=80,     # Mínima cantidad de muestras en una hoja\n",
    "    random_state=semillas[0]\n",
    ")\n",
    "\n",
    "# Entrenar el modelo\n",
    "rf_model.fit(X_train, y_train)\n",
    "\n",
    "# Predecir sobre el conjunto de prueba\n",
    "y_pred = rf_model.predict(X_test)\n",
    "\n",
    "# Evaluar el modelo\n",
    "print(\"Accuracy:\", accuracy_score(y_test, y_pred))\n",
    "print(\"Classification Report:\")\n",
    "print(classification_report(y_test, y_pred))\n",
    "\n",
    "# Obtener las variables más importantes\n",
    "importances = rf_model.feature_importances_\n",
    "feature_names = X.columns\n",
    "\n",
    "# Crear un DataFrame con las importancias de cada variable\n",
    "importance_df = pd.DataFrame({\n",
    "    'Feature': feature_names,\n",
    "    'Importance': importances\n",
    "}).sort_values(by='Importance', ascending=False)\n",
    "\n"
   ]
  },
  {
   "cell_type": "code",
   "execution_count": 27,
   "metadata": {},
   "outputs": [
    {
     "data": {
      "text/html": [
       "<div>\n",
       "<style scoped>\n",
       "    .dataframe tbody tr th:only-of-type {\n",
       "        vertical-align: middle;\n",
       "    }\n",
       "\n",
       "    .dataframe tbody tr th {\n",
       "        vertical-align: top;\n",
       "    }\n",
       "\n",
       "    .dataframe thead th {\n",
       "        text-align: right;\n",
       "    }\n",
       "</style>\n",
       "<table border=\"1\" class=\"dataframe\">\n",
       "  <thead>\n",
       "    <tr style=\"text-align: right;\">\n",
       "      <th></th>\n",
       "      <th>Feature</th>\n",
       "      <th>Importance</th>\n",
       "    </tr>\n",
       "  </thead>\n",
       "  <tbody>\n",
       "    <tr>\n",
       "      <th>107</th>\n",
       "      <td>ctrx_quarter</td>\n",
       "      <td>0.359070</td>\n",
       "    </tr>\n",
       "    <tr>\n",
       "      <th>22</th>\n",
       "      <td>mcuentas_saldo</td>\n",
       "      <td>0.153203</td>\n",
       "    </tr>\n",
       "    <tr>\n",
       "      <th>111</th>\n",
       "      <td>Master_status</td>\n",
       "      <td>0.152655</td>\n",
       "    </tr>\n",
       "    <tr>\n",
       "      <th>33</th>\n",
       "      <td>mprestamos_personales</td>\n",
       "      <td>0.149380</td>\n",
       "    </tr>\n",
       "    <tr>\n",
       "      <th>133</th>\n",
       "      <td>Visa_status</td>\n",
       "      <td>0.057169</td>\n",
       "    </tr>\n",
       "    <tr>\n",
       "      <th>16</th>\n",
       "      <td>mcuenta_corriente</td>\n",
       "      <td>0.053803</td>\n",
       "    </tr>\n",
       "    <tr>\n",
       "      <th>18</th>\n",
       "      <td>mcaja_ahorro</td>\n",
       "      <td>0.023468</td>\n",
       "    </tr>\n",
       "    <tr>\n",
       "      <th>127</th>\n",
       "      <td>Master_fechaalta</td>\n",
       "      <td>0.014814</td>\n",
       "    </tr>\n",
       "    <tr>\n",
       "      <th>51</th>\n",
       "      <td>cpayroll_trx</td>\n",
       "      <td>0.011745</td>\n",
       "    </tr>\n",
       "    <tr>\n",
       "      <th>11</th>\n",
       "      <td>mpasivos_margen</td>\n",
       "      <td>0.009328</td>\n",
       "    </tr>\n",
       "    <tr>\n",
       "      <th>99</th>\n",
       "      <td>ccajas_consultas</td>\n",
       "      <td>0.007791</td>\n",
       "    </tr>\n",
       "    <tr>\n",
       "      <th>52</th>\n",
       "      <td>mpayroll</td>\n",
       "      <td>0.005183</td>\n",
       "    </tr>\n",
       "    <tr>\n",
       "      <th>21</th>\n",
       "      <td>cdescubierto_preacordado</td>\n",
       "      <td>0.001413</td>\n",
       "    </tr>\n",
       "    <tr>\n",
       "      <th>72</th>\n",
       "      <td>mcomisiones_mantenimiento</td>\n",
       "      <td>0.000521</td>\n",
       "    </tr>\n",
       "    <tr>\n",
       "      <th>0</th>\n",
       "      <td>numero_de_cliente</td>\n",
       "      <td>0.000456</td>\n",
       "    </tr>\n",
       "    <tr>\n",
       "      <th>5</th>\n",
       "      <td>cliente_edad</td>\n",
       "      <td>0.000000</td>\n",
       "    </tr>\n",
       "    <tr>\n",
       "      <th>12</th>\n",
       "      <td>cproductos</td>\n",
       "      <td>0.000000</td>\n",
       "    </tr>\n",
       "    <tr>\n",
       "      <th>13</th>\n",
       "      <td>tcuentas</td>\n",
       "      <td>0.000000</td>\n",
       "    </tr>\n",
       "    <tr>\n",
       "      <th>9</th>\n",
       "      <td>mcomisiones</td>\n",
       "      <td>0.000000</td>\n",
       "    </tr>\n",
       "    <tr>\n",
       "      <th>8</th>\n",
       "      <td>mrentabilidad_annual</td>\n",
       "      <td>0.000000</td>\n",
       "    </tr>\n",
       "    <tr>\n",
       "      <th>7</th>\n",
       "      <td>mrentabilidad</td>\n",
       "      <td>0.000000</td>\n",
       "    </tr>\n",
       "    <tr>\n",
       "      <th>6</th>\n",
       "      <td>cliente_antiguedad</td>\n",
       "      <td>0.000000</td>\n",
       "    </tr>\n",
       "    <tr>\n",
       "      <th>2</th>\n",
       "      <td>active_quarter</td>\n",
       "      <td>0.000000</td>\n",
       "    </tr>\n",
       "    <tr>\n",
       "      <th>3</th>\n",
       "      <td>cliente_vip</td>\n",
       "      <td>0.000000</td>\n",
       "    </tr>\n",
       "    <tr>\n",
       "      <th>4</th>\n",
       "      <td>internet</td>\n",
       "      <td>0.000000</td>\n",
       "    </tr>\n",
       "    <tr>\n",
       "      <th>1</th>\n",
       "      <td>foto_mes</td>\n",
       "      <td>0.000000</td>\n",
       "    </tr>\n",
       "    <tr>\n",
       "      <th>25</th>\n",
       "      <td>mautoservicio</td>\n",
       "      <td>0.000000</td>\n",
       "    </tr>\n",
       "    <tr>\n",
       "      <th>24</th>\n",
       "      <td>ctarjeta_debito_transacciones</td>\n",
       "      <td>0.000000</td>\n",
       "    </tr>\n",
       "    <tr>\n",
       "      <th>23</th>\n",
       "      <td>ctarjeta_debito</td>\n",
       "      <td>0.000000</td>\n",
       "    </tr>\n",
       "    <tr>\n",
       "      <th>20</th>\n",
       "      <td>mcaja_ahorro_dolares</td>\n",
       "      <td>0.000000</td>\n",
       "    </tr>\n",
       "  </tbody>\n",
       "</table>\n",
       "</div>"
      ],
      "text/plain": [
       "                           Feature  Importance\n",
       "107                   ctrx_quarter    0.359070\n",
       "22                  mcuentas_saldo    0.153203\n",
       "111                  Master_status    0.152655\n",
       "33           mprestamos_personales    0.149380\n",
       "133                    Visa_status    0.057169\n",
       "16               mcuenta_corriente    0.053803\n",
       "18                    mcaja_ahorro    0.023468\n",
       "127               Master_fechaalta    0.014814\n",
       "51                    cpayroll_trx    0.011745\n",
       "11                 mpasivos_margen    0.009328\n",
       "99                ccajas_consultas    0.007791\n",
       "52                        mpayroll    0.005183\n",
       "21        cdescubierto_preacordado    0.001413\n",
       "72       mcomisiones_mantenimiento    0.000521\n",
       "0                numero_de_cliente    0.000456\n",
       "5                     cliente_edad    0.000000\n",
       "12                      cproductos    0.000000\n",
       "13                        tcuentas    0.000000\n",
       "9                      mcomisiones    0.000000\n",
       "8             mrentabilidad_annual    0.000000\n",
       "7                    mrentabilidad    0.000000\n",
       "6               cliente_antiguedad    0.000000\n",
       "2                   active_quarter    0.000000\n",
       "3                      cliente_vip    0.000000\n",
       "4                         internet    0.000000\n",
       "1                         foto_mes    0.000000\n",
       "25                   mautoservicio    0.000000\n",
       "24   ctarjeta_debito_transacciones    0.000000\n",
       "23                 ctarjeta_debito    0.000000\n",
       "20            mcaja_ahorro_dolares    0.000000"
      ]
     },
     "execution_count": 27,
     "metadata": {},
     "output_type": "execute_result"
    }
   ],
   "source": [
    "importance_df.head(30)"
   ]
  },
  {
   "cell_type": "markdown",
   "metadata": {},
   "source": [
    "## Optimizacion de parametros"
   ]
  },
  {
   "cell_type": "code",
   "execution_count": 19,
   "metadata": {},
   "outputs": [],
   "source": [
    "def ganancia(model, X, y, prop=1, threshold=0.025):\n",
    "\n",
    "  class_index = np.where(model.classes_ == 1)[0][0]\n",
    "  y_hat = model.predict_proba(X)\n",
    "\n",
    "  @np.vectorize\n",
    "  def ganancia_row(predicted, actual, threshold=0.025):\n",
    "    return  (predicted >= threshold) * (ganancia_acierto if actual == 1 else -costo_estimulo)\n",
    "\n",
    "  return ganancia_row(y_hat[:,class_index], y).sum() / prop"
   ]
  },
  {
   "cell_type": "code",
   "execution_count": 10,
   "metadata": {},
   "outputs": [
    {
     "name": "stderr",
     "output_type": "stream",
     "text": [
      "[I 2024-09-11 22:58:49,560] A new study created in memory with name: exp_101_decision-tree-opt\n"
     ]
    }
   ],
   "source": [
    "sss_opt = ShuffleSplit(n_splits=5, test_size=0.3, random_state=semillas[1])\n",
    "\n",
    "def objective(trial, X, y, sss):\n",
    "  criterion = trial.suggest_categorical('criterion', ['gini', 'entropy'])\n",
    "  max_depth = trial.suggest_int('max_depth', 2, 20)\n",
    "  min_samples_split = trial.suggest_int('min_samples_split', 2, 150)\n",
    "  min_samples_leaf = trial.suggest_int('min_samples_leaf', 1, 150)\n",
    "  max_leaf_nodes = trial.suggest_int('max_leaf_nodes', 2, 150)\n",
    "\n",
    "  def train_and_evaluate(train_index, test_index, X, y):\n",
    "    m = DecisionTreeClassifier(\n",
    "        criterion=criterion,\n",
    "        max_depth=max_depth,\n",
    "        min_samples_split=min_samples_split,\n",
    "        min_samples_leaf=min_samples_leaf,\n",
    "        max_leaf_nodes=max_leaf_nodes,\n",
    "        random_state=semillas[0],\n",
    "    )\n",
    "    m.fit(X.iloc[train_index],y.iloc[train_index])\n",
    "    ganancia_value = ganancia(m, X.iloc[test_index], y.iloc[test_index], prop=0.3)\n",
    "    return ganancia_value\n",
    "\n",
    "  results = Parallel(n_jobs=-1)(\n",
    "      delayed(train_and_evaluate)(train_index, test_index, X, y)\n",
    "      for train_index, test_index in sss.split(X)\n",
    "  )\n",
    "\n",
    "  return np.mean(results)sss_opt = ShuffleSplit(n_splits=5, test_size=0.3, random_state=semillas[1])\n",
    "\n",
    "def objective(trial, X, y, sss):\n",
    "  criterion = trial.suggest_categorical('criterion', ['gini', 'entropy'])\n",
    "  max_depth = trial.suggest_int('max_depth', 2, 20)\n",
    "  min_samples_split = trial.suggest_int('min_samples_split', 2, 150)\n",
    "  min_samples_leaf = trial.suggest_int('min_samples_leaf', 1, 150)\n",
    "  max_leaf_nodes = trial.suggest_int('max_leaf_nodes', 2, 150)\n",
    "\n",
    "  def train_and_evaluate(train_index, test_index, X, y):\n",
    "    m = DecisionTreeClassifier(\n",
    "        criterion=criterion,\n",
    "        max_depth=max_depth,\n",
    "        min_samples_split=min_samples_split,\n",
    "        min_samples_leaf=min_samples_leaf,\n",
    "        max_leaf_nodes=max_leaf_nodes,\n",
    "        random_state=semillas[0],\n",
    "    )\n",
    "    m.fit(X.iloc[train_index],y.iloc[train_index])\n",
    "    ganancia_value = ganancia(m, X.iloc[test_index], y.iloc[test_index], prop=0.3)\n",
    "    return ganancia_value\n",
    "\n",
    "  results = Parallel(n_jobs=-1)(\n",
    "      delayed(train_and_evaluate)(train_index, test_index, X, y)\n",
    "      for train_index, test_index in sss.split(X)\n",
    "  )\n",
    "\n",
    "  return np.mean(results)\n",
    "\n",
    "#storage_name = \"sqlite:///G:/DM EyF/optimization_tree.db\"\n",
    "study_name = \"exp_101_decision-tree-opt\"\n",
    "\n",
    "study = optuna.create_study(\n",
    "    direction=\"maximize\",\n",
    "    study_name=study_name,\n",
    "    #storage=storage_name,\n",
    "    #load_if_exists=True,\n",
    ")"
   ]
  },
  {
   "cell_type": "code",
   "execution_count": 44,
   "metadata": {},
   "outputs": [
    {
     "name": "stderr",
     "output_type": "stream",
     "text": [
      "[I 2024-09-10 23:34:14,084] Trial 0 finished with value: 114856000.0 and parameters: {'criterion': 'gini', 'max_depth': 15, 'min_samples_split': 51, 'min_samples_leaf': 94, 'max_leaf_nodes': 23}. Best is trial 0 with value: 114856000.0.\n",
      "[I 2024-09-10 23:34:18,751] Trial 1 finished with value: 106339333.33333334 and parameters: {'criterion': 'entropy', 'max_depth': 2, 'min_samples_split': 64, 'min_samples_leaf': 47, 'max_leaf_nodes': 86}. Best is trial 0 with value: 114856000.0.\n",
      "[I 2024-09-10 23:34:22,303] Trial 2 finished with value: 103954666.66666669 and parameters: {'criterion': 'gini', 'max_depth': 2, 'min_samples_split': 111, 'min_samples_leaf': 31, 'max_leaf_nodes': 11}. Best is trial 0 with value: 114856000.0.\n",
      "[I 2024-09-10 23:34:27,101] Trial 3 finished with value: 113143333.33333334 and parameters: {'criterion': 'entropy', 'max_depth': 3, 'min_samples_split': 65, 'min_samples_leaf': 13, 'max_leaf_nodes': 143}. Best is trial 0 with value: 114856000.0.\n",
      "[I 2024-09-10 23:34:34,827] Trial 4 finished with value: 105032666.66666667 and parameters: {'criterion': 'gini', 'max_depth': 16, 'min_samples_split': 26, 'min_samples_leaf': 73, 'max_leaf_nodes': 147}. Best is trial 0 with value: 114856000.0.\n",
      "[I 2024-09-10 23:34:44,496] Trial 5 finished with value: 118085333.33333334 and parameters: {'criterion': 'entropy', 'max_depth': 11, 'min_samples_split': 145, 'min_samples_leaf': 94, 'max_leaf_nodes': 100}. Best is trial 5 with value: 118085333.33333334.\n",
      "[I 2024-09-10 23:34:48,386] Trial 6 finished with value: 106339333.33333334 and parameters: {'criterion': 'entropy', 'max_depth': 2, 'min_samples_split': 52, 'min_samples_leaf': 57, 'max_leaf_nodes': 102}. Best is trial 5 with value: 118085333.33333334.\n",
      "[I 2024-09-10 23:34:56,374] Trial 7 finished with value: 113288000.0 and parameters: {'criterion': 'gini', 'max_depth': 9, 'min_samples_split': 70, 'min_samples_leaf': 2, 'max_leaf_nodes': 88}. Best is trial 5 with value: 118085333.33333334.\n",
      "[I 2024-09-10 23:35:02,672] Trial 8 finished with value: 115831333.33333334 and parameters: {'criterion': 'gini', 'max_depth': 20, 'min_samples_split': 127, 'min_samples_leaf': 70, 'max_leaf_nodes': 55}. Best is trial 5 with value: 118085333.33333334.\n",
      "[I 2024-09-10 23:35:12,230] Trial 9 finished with value: 117833333.33333334 and parameters: {'criterion': 'entropy', 'max_depth': 18, 'min_samples_split': 10, 'min_samples_leaf': 123, 'max_leaf_nodes': 99}. Best is trial 5 with value: 118085333.33333334.\n",
      "[I 2024-09-10 23:35:20,702] Trial 10 finished with value: 129378666.66666667 and parameters: {'criterion': 'entropy', 'max_depth': 9, 'min_samples_split': 149, 'min_samples_leaf': 136, 'max_leaf_nodes': 53}. Best is trial 10 with value: 129378666.66666667.\n",
      "[I 2024-09-10 23:35:29,582] Trial 11 finished with value: 128394000.0 and parameters: {'criterion': 'entropy', 'max_depth': 9, 'min_samples_split': 149, 'min_samples_leaf': 149, 'max_leaf_nodes': 54}. Best is trial 10 with value: 129378666.66666667.\n",
      "[I 2024-09-10 23:35:38,219] Trial 12 finished with value: 128860666.66666667 and parameters: {'criterion': 'entropy', 'max_depth': 7, 'min_samples_split': 106, 'min_samples_leaf': 149, 'max_leaf_nodes': 49}. Best is trial 10 with value: 129378666.66666667.\n",
      "[I 2024-09-10 23:35:46,113] Trial 13 finished with value: 127502666.66666667 and parameters: {'criterion': 'entropy', 'max_depth': 6, 'min_samples_split': 98, 'min_samples_leaf': 150, 'max_leaf_nodes': 44}. Best is trial 10 with value: 129378666.66666667.\n",
      "[I 2024-09-10 23:35:54,601] Trial 14 finished with value: 128235333.33333334 and parameters: {'criterion': 'entropy', 'max_depth': 7, 'min_samples_split': 95, 'min_samples_leaf': 124, 'max_leaf_nodes': 41}. Best is trial 10 with value: 129378666.66666667.\n",
      "[I 2024-09-10 23:36:03,728] Trial 15 finished with value: 124455333.33333334 and parameters: {'criterion': 'entropy', 'max_depth': 13, 'min_samples_split': 124, 'min_samples_leaf': 126, 'max_leaf_nodes': 62}. Best is trial 10 with value: 129378666.66666667.\n",
      "[I 2024-09-10 23:36:10,833] Trial 16 finished with value: 126886666.66666667 and parameters: {'criterion': 'entropy', 'max_depth': 5, 'min_samples_split': 90, 'min_samples_leaf': 104, 'max_leaf_nodes': 27}. Best is trial 10 with value: 129378666.66666667.\n",
      "[I 2024-09-10 23:36:20,400] Trial 17 finished with value: 126336000.0 and parameters: {'criterion': 'entropy', 'max_depth': 10, 'min_samples_split': 132, 'min_samples_leaf': 136, 'max_leaf_nodes': 72}. Best is trial 10 with value: 129378666.66666667.\n",
      "[I 2024-09-10 23:36:24,575] Trial 18 finished with value: 88312000.0 and parameters: {'criterion': 'entropy', 'max_depth': 13, 'min_samples_split': 112, 'min_samples_leaf': 111, 'max_leaf_nodes': 2}. Best is trial 10 with value: 129378666.66666667.\n",
      "[I 2024-09-10 23:36:31,706] Trial 19 finished with value: 126368666.66666667 and parameters: {'criterion': 'entropy', 'max_depth': 5, 'min_samples_split': 110, 'min_samples_leaf': 138, 'max_leaf_nodes': 125}. Best is trial 10 with value: 129378666.66666667.\n",
      "[I 2024-09-10 23:36:39,460] Trial 20 finished with value: 130470666.66666667 and parameters: {'criterion': 'entropy', 'max_depth': 8, 'min_samples_split': 84, 'min_samples_leaf': 88, 'max_leaf_nodes': 34}. Best is trial 20 with value: 130470666.66666667.\n",
      "[I 2024-09-10 23:36:46,811] Trial 21 finished with value: 129980666.66666667 and parameters: {'criterion': 'entropy', 'max_depth': 8, 'min_samples_split': 84, 'min_samples_leaf': 93, 'max_leaf_nodes': 38}. Best is trial 20 with value: 130470666.66666667.\n",
      "[I 2024-09-10 23:36:53,998] Trial 22 finished with value: 131656000.0 and parameters: {'criterion': 'entropy', 'max_depth': 8, 'min_samples_split': 79, 'min_samples_leaf': 86, 'max_leaf_nodes': 31}. Best is trial 22 with value: 131656000.0.\n",
      "[I 2024-09-10 23:37:02,279] Trial 23 finished with value: 131427333.33333334 and parameters: {'criterion': 'entropy', 'max_depth': 12, 'min_samples_split': 81, 'min_samples_leaf': 88, 'max_leaf_nodes': 31}. Best is trial 22 with value: 131656000.0.\n",
      "[I 2024-09-10 23:37:09,974] Trial 24 finished with value: 129481333.33333334 and parameters: {'criterion': 'entropy', 'max_depth': 12, 'min_samples_split': 46, 'min_samples_leaf': 84, 'max_leaf_nodes': 25}. Best is trial 22 with value: 131656000.0.\n",
      "[I 2024-09-10 23:37:16,583] Trial 25 finished with value: 125356000.0 and parameters: {'criterion': 'entropy', 'max_depth': 11, 'min_samples_split': 83, 'min_samples_leaf': 51, 'max_leaf_nodes': 15}. Best is trial 22 with value: 131656000.0.\n",
      "[I 2024-09-10 23:37:23,679] Trial 26 finished with value: 114146666.66666667 and parameters: {'criterion': 'gini', 'max_depth': 13, 'min_samples_split': 77, 'min_samples_leaf': 63, 'max_leaf_nodes': 30}. Best is trial 22 with value: 131656000.0.\n",
      "[I 2024-09-10 23:37:34,094] Trial 27 finished with value: 120432666.66666667 and parameters: {'criterion': 'entropy', 'max_depth': 15, 'min_samples_split': 32, 'min_samples_leaf': 83, 'max_leaf_nodes': 68}. Best is trial 22 with value: 131656000.0.\n",
      "[I 2024-09-10 23:37:39,983] Trial 28 finished with value: 109666666.66666667 and parameters: {'criterion': 'entropy', 'max_depth': 7, 'min_samples_split': 63, 'min_samples_leaf': 110, 'max_leaf_nodes': 6}. Best is trial 22 with value: 131656000.0.\n",
      "[I 2024-09-10 23:37:46,214] Trial 29 finished with value: 113768666.66666667 and parameters: {'criterion': 'gini', 'max_depth': 16, 'min_samples_split': 52, 'min_samples_leaf': 85, 'max_leaf_nodes': 20}. Best is trial 22 with value: 131656000.0.\n",
      "[I 2024-09-10 23:37:52,939] Trial 30 finished with value: 123559333.33333334 and parameters: {'criterion': 'entropy', 'max_depth': 4, 'min_samples_split': 77, 'min_samples_leaf': 102, 'max_leaf_nodes': 35}. Best is trial 22 with value: 131656000.0.\n",
      "[I 2024-09-10 23:38:01,493] Trial 31 finished with value: 130237333.33333334 and parameters: {'criterion': 'entropy', 'max_depth': 8, 'min_samples_split': 88, 'min_samples_leaf': 94, 'max_leaf_nodes': 37}. Best is trial 22 with value: 131656000.0.\n",
      "[I 2024-09-10 23:38:08,686] Trial 32 finished with value: 127446666.66666667 and parameters: {'criterion': 'entropy', 'max_depth': 10, 'min_samples_split': 88, 'min_samples_leaf': 73, 'max_leaf_nodes': 18}. Best is trial 22 with value: 131656000.0.\n",
      "[I 2024-09-10 23:38:17,168] Trial 33 finished with value: 130657333.33333334 and parameters: {'criterion': 'entropy', 'max_depth': 8, 'min_samples_split': 101, 'min_samples_leaf': 36, 'max_leaf_nodes': 33}. Best is trial 22 with value: 131656000.0.\n",
      "[I 2024-09-10 23:38:23,430] Trial 34 finished with value: 117651333.33333334 and parameters: {'criterion': 'entropy', 'max_depth': 6, 'min_samples_split': 100, 'min_samples_leaf': 38, 'max_leaf_nodes': 11}. Best is trial 22 with value: 131656000.0.\n",
      "[I 2024-09-10 23:38:31,353] Trial 35 finished with value: 129546666.66666667 and parameters: {'criterion': 'entropy', 'max_depth': 10, 'min_samples_split': 61, 'min_samples_leaf': 21, 'max_leaf_nodes': 29}. Best is trial 22 with value: 131656000.0.\n",
      "[I 2024-09-10 23:38:37,770] Trial 36 finished with value: 113619333.33333334 and parameters: {'criterion': 'gini', 'max_depth': 12, 'min_samples_split': 71, 'min_samples_leaf': 35, 'max_leaf_nodes': 63}. Best is trial 22 with value: 131656000.0.\n",
      "[I 2024-09-10 23:38:47,959] Trial 37 finished with value: 124642000.0 and parameters: {'criterion': 'entropy', 'max_depth': 8, 'min_samples_split': 116, 'min_samples_leaf': 64, 'max_leaf_nodes': 79}. Best is trial 22 with value: 131656000.0.\n",
      "[I 2024-09-10 23:38:57,013] Trial 38 finished with value: 128660000.0 and parameters: {'criterion': 'entropy', 'max_depth': 15, 'min_samples_split': 41, 'min_samples_leaf': 46, 'max_leaf_nodes': 46}. Best is trial 22 with value: 131656000.0.\n",
      "[I 2024-09-10 23:39:03,334] Trial 39 finished with value: 113717333.33333333 and parameters: {'criterion': 'gini', 'max_depth': 11, 'min_samples_split': 104, 'min_samples_leaf': 80, 'max_leaf_nodes': 22}. Best is trial 22 with value: 131656000.0.\n",
      "[I 2024-09-10 23:39:09,346] Trial 40 finished with value: 118094666.66666667 and parameters: {'criterion': 'entropy', 'max_depth': 5, 'min_samples_split': 58, 'min_samples_leaf': 23, 'max_leaf_nodes': 11}. Best is trial 22 with value: 131656000.0.\n",
      "[I 2024-09-10 23:39:17,795] Trial 41 finished with value: 130699333.33333334 and parameters: {'criterion': 'entropy', 'max_depth': 8, 'min_samples_split': 93, 'min_samples_leaf': 99, 'max_leaf_nodes': 34}. Best is trial 22 with value: 131656000.0.\n",
      "[I 2024-09-10 23:39:26,187] Trial 42 finished with value: 131656000.0 and parameters: {'criterion': 'entropy', 'max_depth': 9, 'min_samples_split': 74, 'min_samples_leaf': 91, 'max_leaf_nodes': 31}. Best is trial 22 with value: 131656000.0.\n",
      "[I 2024-09-10 23:39:35,667] Trial 43 finished with value: 126168000.0 and parameters: {'criterion': 'entropy', 'max_depth': 9, 'min_samples_split': 70, 'min_samples_leaf': 100, 'max_leaf_nodes': 59}. Best is trial 22 with value: 131656000.0.\n",
      "[I 2024-09-10 23:39:43,998] Trial 44 finished with value: 126751333.33333334 and parameters: {'criterion': 'entropy', 'max_depth': 6, 'min_samples_split': 75, 'min_samples_leaf': 112, 'max_leaf_nodes': 46}. Best is trial 22 with value: 131656000.0.\n",
      "[I 2024-09-10 23:39:51,843] Trial 45 finished with value: 131600000.00000003 and parameters: {'criterion': 'entropy', 'max_depth': 10, 'min_samples_split': 94, 'min_samples_leaf': 69, 'max_leaf_nodes': 30}. Best is trial 22 with value: 131656000.0.\n",
      "[I 2024-09-10 23:39:58,748] Trial 46 finished with value: 125043333.33333334 and parameters: {'criterion': 'entropy', 'max_depth': 12, 'min_samples_split': 80, 'min_samples_leaf': 76, 'max_leaf_nodes': 16}. Best is trial 22 with value: 131656000.0.\n",
      "[I 2024-09-10 23:40:05,399] Trial 47 finished with value: 117474000.0 and parameters: {'criterion': 'gini', 'max_depth': 10, 'min_samples_split': 93, 'min_samples_leaf': 67, 'max_leaf_nodes': 53}. Best is trial 22 with value: 131656000.0.\n",
      "[I 2024-09-10 23:40:13,118] Trial 48 finished with value: 128870000.0 and parameters: {'criterion': 'entropy', 'max_depth': 14, 'min_samples_split': 70, 'min_samples_leaf': 91, 'max_leaf_nodes': 24}. Best is trial 22 with value: 131656000.0.\n",
      "[I 2024-09-10 23:40:23,590] Trial 49 finished with value: 120880666.66666667 and parameters: {'criterion': 'entropy', 'max_depth': 9, 'min_samples_split': 56, 'min_samples_leaf': 55, 'max_leaf_nodes': 117}. Best is trial 22 with value: 131656000.0.\n"
     ]
    }
   ],
   "source": [
    "study.optimize(lambda trial: objective(trial, X, y, sss_opt), n_trials=50)"
   ]
  },
  {
   "cell_type": "code",
   "execution_count": 45,
   "metadata": {},
   "outputs": [
    {
     "data": {
      "application/vnd.plotly.v1+json": {
       "config": {
        "plotlyServerURL": "https://plot.ly"
       },
       "data": [
        {
         "mode": "markers",
         "name": "Objective Value",
         "type": "scatter",
         "x": [
          0,
          1,
          2,
          3,
          4,
          5,
          6,
          7,
          8,
          9,
          10,
          11,
          12,
          13,
          14,
          15,
          16,
          17,
          18,
          19,
          20,
          21,
          22,
          23,
          24,
          25,
          26,
          27,
          28,
          29,
          30,
          31,
          32,
          33,
          34,
          35,
          36,
          37,
          38,
          39,
          40,
          41,
          42,
          43,
          44,
          45,
          46,
          47,
          48,
          49
         ],
         "y": [
          114856000,
          106339333.33333334,
          103954666.66666669,
          113143333.33333334,
          105032666.66666667,
          118085333.33333334,
          106339333.33333334,
          113288000,
          115831333.33333334,
          117833333.33333334,
          129378666.66666667,
          128394000,
          128860666.66666667,
          127502666.66666667,
          128235333.33333334,
          124455333.33333334,
          126886666.66666667,
          126336000,
          88312000,
          126368666.66666667,
          130470666.66666667,
          129980666.66666667,
          131656000,
          131427333.33333334,
          129481333.33333334,
          125356000,
          114146666.66666667,
          120432666.66666667,
          109666666.66666667,
          113768666.66666667,
          123559333.33333334,
          130237333.33333334,
          127446666.66666667,
          130657333.33333334,
          117651333.33333334,
          129546666.66666667,
          113619333.33333334,
          124642000,
          128660000,
          113717333.33333333,
          118094666.66666667,
          130699333.33333334,
          131656000,
          126168000,
          126751333.33333334,
          131600000.00000003,
          125043333.33333334,
          117474000,
          128870000,
          120880666.66666667
         ]
        },
        {
         "mode": "lines",
         "name": "Best Value",
         "type": "scatter",
         "x": [
          0,
          1,
          2,
          3,
          4,
          5,
          6,
          7,
          8,
          9,
          10,
          11,
          12,
          13,
          14,
          15,
          16,
          17,
          18,
          19,
          20,
          21,
          22,
          23,
          24,
          25,
          26,
          27,
          28,
          29,
          30,
          31,
          32,
          33,
          34,
          35,
          36,
          37,
          38,
          39,
          40,
          41,
          42,
          43,
          44,
          45,
          46,
          47,
          48,
          49
         ],
         "y": [
          114856000,
          114856000,
          114856000,
          114856000,
          114856000,
          118085333.33333334,
          118085333.33333334,
          118085333.33333334,
          118085333.33333334,
          118085333.33333334,
          129378666.66666667,
          129378666.66666667,
          129378666.66666667,
          129378666.66666667,
          129378666.66666667,
          129378666.66666667,
          129378666.66666667,
          129378666.66666667,
          129378666.66666667,
          129378666.66666667,
          130470666.66666667,
          130470666.66666667,
          131656000,
          131656000,
          131656000,
          131656000,
          131656000,
          131656000,
          131656000,
          131656000,
          131656000,
          131656000,
          131656000,
          131656000,
          131656000,
          131656000,
          131656000,
          131656000,
          131656000,
          131656000,
          131656000,
          131656000,
          131656000,
          131656000,
          131656000,
          131656000,
          131656000,
          131656000,
          131656000,
          131656000
         ]
        },
        {
         "marker": {
          "color": "#cccccc"
         },
         "mode": "markers",
         "name": "Infeasible Trial",
         "showlegend": false,
         "type": "scatter",
         "x": [],
         "y": []
        }
       ],
       "layout": {
        "template": {
         "data": {
          "bar": [
           {
            "error_x": {
             "color": "#2a3f5f"
            },
            "error_y": {
             "color": "#2a3f5f"
            },
            "marker": {
             "line": {
              "color": "#E5ECF6",
              "width": 0.5
             },
             "pattern": {
              "fillmode": "overlay",
              "size": 10,
              "solidity": 0.2
             }
            },
            "type": "bar"
           }
          ],
          "barpolar": [
           {
            "marker": {
             "line": {
              "color": "#E5ECF6",
              "width": 0.5
             },
             "pattern": {
              "fillmode": "overlay",
              "size": 10,
              "solidity": 0.2
             }
            },
            "type": "barpolar"
           }
          ],
          "carpet": [
           {
            "aaxis": {
             "endlinecolor": "#2a3f5f",
             "gridcolor": "white",
             "linecolor": "white",
             "minorgridcolor": "white",
             "startlinecolor": "#2a3f5f"
            },
            "baxis": {
             "endlinecolor": "#2a3f5f",
             "gridcolor": "white",
             "linecolor": "white",
             "minorgridcolor": "white",
             "startlinecolor": "#2a3f5f"
            },
            "type": "carpet"
           }
          ],
          "choropleth": [
           {
            "colorbar": {
             "outlinewidth": 0,
             "ticks": ""
            },
            "type": "choropleth"
           }
          ],
          "contour": [
           {
            "colorbar": {
             "outlinewidth": 0,
             "ticks": ""
            },
            "colorscale": [
             [
              0,
              "#0d0887"
             ],
             [
              0.1111111111111111,
              "#46039f"
             ],
             [
              0.2222222222222222,
              "#7201a8"
             ],
             [
              0.3333333333333333,
              "#9c179e"
             ],
             [
              0.4444444444444444,
              "#bd3786"
             ],
             [
              0.5555555555555556,
              "#d8576b"
             ],
             [
              0.6666666666666666,
              "#ed7953"
             ],
             [
              0.7777777777777778,
              "#fb9f3a"
             ],
             [
              0.8888888888888888,
              "#fdca26"
             ],
             [
              1,
              "#f0f921"
             ]
            ],
            "type": "contour"
           }
          ],
          "contourcarpet": [
           {
            "colorbar": {
             "outlinewidth": 0,
             "ticks": ""
            },
            "type": "contourcarpet"
           }
          ],
          "heatmap": [
           {
            "colorbar": {
             "outlinewidth": 0,
             "ticks": ""
            },
            "colorscale": [
             [
              0,
              "#0d0887"
             ],
             [
              0.1111111111111111,
              "#46039f"
             ],
             [
              0.2222222222222222,
              "#7201a8"
             ],
             [
              0.3333333333333333,
              "#9c179e"
             ],
             [
              0.4444444444444444,
              "#bd3786"
             ],
             [
              0.5555555555555556,
              "#d8576b"
             ],
             [
              0.6666666666666666,
              "#ed7953"
             ],
             [
              0.7777777777777778,
              "#fb9f3a"
             ],
             [
              0.8888888888888888,
              "#fdca26"
             ],
             [
              1,
              "#f0f921"
             ]
            ],
            "type": "heatmap"
           }
          ],
          "heatmapgl": [
           {
            "colorbar": {
             "outlinewidth": 0,
             "ticks": ""
            },
            "colorscale": [
             [
              0,
              "#0d0887"
             ],
             [
              0.1111111111111111,
              "#46039f"
             ],
             [
              0.2222222222222222,
              "#7201a8"
             ],
             [
              0.3333333333333333,
              "#9c179e"
             ],
             [
              0.4444444444444444,
              "#bd3786"
             ],
             [
              0.5555555555555556,
              "#d8576b"
             ],
             [
              0.6666666666666666,
              "#ed7953"
             ],
             [
              0.7777777777777778,
              "#fb9f3a"
             ],
             [
              0.8888888888888888,
              "#fdca26"
             ],
             [
              1,
              "#f0f921"
             ]
            ],
            "type": "heatmapgl"
           }
          ],
          "histogram": [
           {
            "marker": {
             "pattern": {
              "fillmode": "overlay",
              "size": 10,
              "solidity": 0.2
             }
            },
            "type": "histogram"
           }
          ],
          "histogram2d": [
           {
            "colorbar": {
             "outlinewidth": 0,
             "ticks": ""
            },
            "colorscale": [
             [
              0,
              "#0d0887"
             ],
             [
              0.1111111111111111,
              "#46039f"
             ],
             [
              0.2222222222222222,
              "#7201a8"
             ],
             [
              0.3333333333333333,
              "#9c179e"
             ],
             [
              0.4444444444444444,
              "#bd3786"
             ],
             [
              0.5555555555555556,
              "#d8576b"
             ],
             [
              0.6666666666666666,
              "#ed7953"
             ],
             [
              0.7777777777777778,
              "#fb9f3a"
             ],
             [
              0.8888888888888888,
              "#fdca26"
             ],
             [
              1,
              "#f0f921"
             ]
            ],
            "type": "histogram2d"
           }
          ],
          "histogram2dcontour": [
           {
            "colorbar": {
             "outlinewidth": 0,
             "ticks": ""
            },
            "colorscale": [
             [
              0,
              "#0d0887"
             ],
             [
              0.1111111111111111,
              "#46039f"
             ],
             [
              0.2222222222222222,
              "#7201a8"
             ],
             [
              0.3333333333333333,
              "#9c179e"
             ],
             [
              0.4444444444444444,
              "#bd3786"
             ],
             [
              0.5555555555555556,
              "#d8576b"
             ],
             [
              0.6666666666666666,
              "#ed7953"
             ],
             [
              0.7777777777777778,
              "#fb9f3a"
             ],
             [
              0.8888888888888888,
              "#fdca26"
             ],
             [
              1,
              "#f0f921"
             ]
            ],
            "type": "histogram2dcontour"
           }
          ],
          "mesh3d": [
           {
            "colorbar": {
             "outlinewidth": 0,
             "ticks": ""
            },
            "type": "mesh3d"
           }
          ],
          "parcoords": [
           {
            "line": {
             "colorbar": {
              "outlinewidth": 0,
              "ticks": ""
             }
            },
            "type": "parcoords"
           }
          ],
          "pie": [
           {
            "automargin": true,
            "type": "pie"
           }
          ],
          "scatter": [
           {
            "fillpattern": {
             "fillmode": "overlay",
             "size": 10,
             "solidity": 0.2
            },
            "type": "scatter"
           }
          ],
          "scatter3d": [
           {
            "line": {
             "colorbar": {
              "outlinewidth": 0,
              "ticks": ""
             }
            },
            "marker": {
             "colorbar": {
              "outlinewidth": 0,
              "ticks": ""
             }
            },
            "type": "scatter3d"
           }
          ],
          "scattercarpet": [
           {
            "marker": {
             "colorbar": {
              "outlinewidth": 0,
              "ticks": ""
             }
            },
            "type": "scattercarpet"
           }
          ],
          "scattergeo": [
           {
            "marker": {
             "colorbar": {
              "outlinewidth": 0,
              "ticks": ""
             }
            },
            "type": "scattergeo"
           }
          ],
          "scattergl": [
           {
            "marker": {
             "colorbar": {
              "outlinewidth": 0,
              "ticks": ""
             }
            },
            "type": "scattergl"
           }
          ],
          "scattermapbox": [
           {
            "marker": {
             "colorbar": {
              "outlinewidth": 0,
              "ticks": ""
             }
            },
            "type": "scattermapbox"
           }
          ],
          "scatterpolar": [
           {
            "marker": {
             "colorbar": {
              "outlinewidth": 0,
              "ticks": ""
             }
            },
            "type": "scatterpolar"
           }
          ],
          "scatterpolargl": [
           {
            "marker": {
             "colorbar": {
              "outlinewidth": 0,
              "ticks": ""
             }
            },
            "type": "scatterpolargl"
           }
          ],
          "scatterternary": [
           {
            "marker": {
             "colorbar": {
              "outlinewidth": 0,
              "ticks": ""
             }
            },
            "type": "scatterternary"
           }
          ],
          "surface": [
           {
            "colorbar": {
             "outlinewidth": 0,
             "ticks": ""
            },
            "colorscale": [
             [
              0,
              "#0d0887"
             ],
             [
              0.1111111111111111,
              "#46039f"
             ],
             [
              0.2222222222222222,
              "#7201a8"
             ],
             [
              0.3333333333333333,
              "#9c179e"
             ],
             [
              0.4444444444444444,
              "#bd3786"
             ],
             [
              0.5555555555555556,
              "#d8576b"
             ],
             [
              0.6666666666666666,
              "#ed7953"
             ],
             [
              0.7777777777777778,
              "#fb9f3a"
             ],
             [
              0.8888888888888888,
              "#fdca26"
             ],
             [
              1,
              "#f0f921"
             ]
            ],
            "type": "surface"
           }
          ],
          "table": [
           {
            "cells": {
             "fill": {
              "color": "#EBF0F8"
             },
             "line": {
              "color": "white"
             }
            },
            "header": {
             "fill": {
              "color": "#C8D4E3"
             },
             "line": {
              "color": "white"
             }
            },
            "type": "table"
           }
          ]
         },
         "layout": {
          "annotationdefaults": {
           "arrowcolor": "#2a3f5f",
           "arrowhead": 0,
           "arrowwidth": 1
          },
          "autotypenumbers": "strict",
          "coloraxis": {
           "colorbar": {
            "outlinewidth": 0,
            "ticks": ""
           }
          },
          "colorscale": {
           "diverging": [
            [
             0,
             "#8e0152"
            ],
            [
             0.1,
             "#c51b7d"
            ],
            [
             0.2,
             "#de77ae"
            ],
            [
             0.3,
             "#f1b6da"
            ],
            [
             0.4,
             "#fde0ef"
            ],
            [
             0.5,
             "#f7f7f7"
            ],
            [
             0.6,
             "#e6f5d0"
            ],
            [
             0.7,
             "#b8e186"
            ],
            [
             0.8,
             "#7fbc41"
            ],
            [
             0.9,
             "#4d9221"
            ],
            [
             1,
             "#276419"
            ]
           ],
           "sequential": [
            [
             0,
             "#0d0887"
            ],
            [
             0.1111111111111111,
             "#46039f"
            ],
            [
             0.2222222222222222,
             "#7201a8"
            ],
            [
             0.3333333333333333,
             "#9c179e"
            ],
            [
             0.4444444444444444,
             "#bd3786"
            ],
            [
             0.5555555555555556,
             "#d8576b"
            ],
            [
             0.6666666666666666,
             "#ed7953"
            ],
            [
             0.7777777777777778,
             "#fb9f3a"
            ],
            [
             0.8888888888888888,
             "#fdca26"
            ],
            [
             1,
             "#f0f921"
            ]
           ],
           "sequentialminus": [
            [
             0,
             "#0d0887"
            ],
            [
             0.1111111111111111,
             "#46039f"
            ],
            [
             0.2222222222222222,
             "#7201a8"
            ],
            [
             0.3333333333333333,
             "#9c179e"
            ],
            [
             0.4444444444444444,
             "#bd3786"
            ],
            [
             0.5555555555555556,
             "#d8576b"
            ],
            [
             0.6666666666666666,
             "#ed7953"
            ],
            [
             0.7777777777777778,
             "#fb9f3a"
            ],
            [
             0.8888888888888888,
             "#fdca26"
            ],
            [
             1,
             "#f0f921"
            ]
           ]
          },
          "colorway": [
           "#636efa",
           "#EF553B",
           "#00cc96",
           "#ab63fa",
           "#FFA15A",
           "#19d3f3",
           "#FF6692",
           "#B6E880",
           "#FF97FF",
           "#FECB52"
          ],
          "font": {
           "color": "#2a3f5f"
          },
          "geo": {
           "bgcolor": "white",
           "lakecolor": "white",
           "landcolor": "#E5ECF6",
           "showlakes": true,
           "showland": true,
           "subunitcolor": "white"
          },
          "hoverlabel": {
           "align": "left"
          },
          "hovermode": "closest",
          "mapbox": {
           "style": "light"
          },
          "paper_bgcolor": "white",
          "plot_bgcolor": "#E5ECF6",
          "polar": {
           "angularaxis": {
            "gridcolor": "white",
            "linecolor": "white",
            "ticks": ""
           },
           "bgcolor": "#E5ECF6",
           "radialaxis": {
            "gridcolor": "white",
            "linecolor": "white",
            "ticks": ""
           }
          },
          "scene": {
           "xaxis": {
            "backgroundcolor": "#E5ECF6",
            "gridcolor": "white",
            "gridwidth": 2,
            "linecolor": "white",
            "showbackground": true,
            "ticks": "",
            "zerolinecolor": "white"
           },
           "yaxis": {
            "backgroundcolor": "#E5ECF6",
            "gridcolor": "white",
            "gridwidth": 2,
            "linecolor": "white",
            "showbackground": true,
            "ticks": "",
            "zerolinecolor": "white"
           },
           "zaxis": {
            "backgroundcolor": "#E5ECF6",
            "gridcolor": "white",
            "gridwidth": 2,
            "linecolor": "white",
            "showbackground": true,
            "ticks": "",
            "zerolinecolor": "white"
           }
          },
          "shapedefaults": {
           "line": {
            "color": "#2a3f5f"
           }
          },
          "ternary": {
           "aaxis": {
            "gridcolor": "white",
            "linecolor": "white",
            "ticks": ""
           },
           "baxis": {
            "gridcolor": "white",
            "linecolor": "white",
            "ticks": ""
           },
           "bgcolor": "#E5ECF6",
           "caxis": {
            "gridcolor": "white",
            "linecolor": "white",
            "ticks": ""
           }
          },
          "title": {
           "x": 0.05
          },
          "xaxis": {
           "automargin": true,
           "gridcolor": "white",
           "linecolor": "white",
           "ticks": "",
           "title": {
            "standoff": 15
           },
           "zerolinecolor": "white",
           "zerolinewidth": 2
          },
          "yaxis": {
           "automargin": true,
           "gridcolor": "white",
           "linecolor": "white",
           "ticks": "",
           "title": {
            "standoff": 15
           },
           "zerolinecolor": "white",
           "zerolinewidth": 2
          }
         }
        },
        "title": {
         "text": "Optimization History Plot"
        },
        "xaxis": {
         "title": {
          "text": "Trial"
         }
        },
        "yaxis": {
         "title": {
          "text": "Objective Value"
         }
        }
       }
      }
     },
     "metadata": {},
     "output_type": "display_data"
    }
   ],
   "source": [
    "optuna.visualization.plot_optimization_history(study)"
   ]
  },
  {
   "cell_type": "code",
   "execution_count": 46,
   "metadata": {},
   "outputs": [
    {
     "data": {
      "application/vnd.plotly.v1+json": {
       "config": {
        "plotlyServerURL": "https://plot.ly"
       },
       "data": [
        {
         "cliponaxis": false,
         "hovertemplate": [
          "min_samples_leaf (IntDistribution): 0.05222715548365231<extra></extra>",
          "min_samples_split (IntDistribution): 0.058609660300731566<extra></extra>",
          "max_depth (IntDistribution): 0.10973350510593458<extra></extra>",
          "criterion (CategoricalDistribution): 0.3786219029708892<extra></extra>",
          "max_leaf_nodes (IntDistribution): 0.4008077761387923<extra></extra>"
         ],
         "name": "Objective Value",
         "orientation": "h",
         "text": [
          "0.05",
          "0.06",
          "0.11",
          "0.38",
          "0.40"
         ],
         "textposition": "outside",
         "type": "bar",
         "x": [
          0.05222715548365231,
          0.058609660300731566,
          0.10973350510593458,
          0.3786219029708892,
          0.4008077761387923
         ],
         "y": [
          "min_samples_leaf",
          "min_samples_split",
          "max_depth",
          "criterion",
          "max_leaf_nodes"
         ]
        }
       ],
       "layout": {
        "template": {
         "data": {
          "bar": [
           {
            "error_x": {
             "color": "#2a3f5f"
            },
            "error_y": {
             "color": "#2a3f5f"
            },
            "marker": {
             "line": {
              "color": "#E5ECF6",
              "width": 0.5
             },
             "pattern": {
              "fillmode": "overlay",
              "size": 10,
              "solidity": 0.2
             }
            },
            "type": "bar"
           }
          ],
          "barpolar": [
           {
            "marker": {
             "line": {
              "color": "#E5ECF6",
              "width": 0.5
             },
             "pattern": {
              "fillmode": "overlay",
              "size": 10,
              "solidity": 0.2
             }
            },
            "type": "barpolar"
           }
          ],
          "carpet": [
           {
            "aaxis": {
             "endlinecolor": "#2a3f5f",
             "gridcolor": "white",
             "linecolor": "white",
             "minorgridcolor": "white",
             "startlinecolor": "#2a3f5f"
            },
            "baxis": {
             "endlinecolor": "#2a3f5f",
             "gridcolor": "white",
             "linecolor": "white",
             "minorgridcolor": "white",
             "startlinecolor": "#2a3f5f"
            },
            "type": "carpet"
           }
          ],
          "choropleth": [
           {
            "colorbar": {
             "outlinewidth": 0,
             "ticks": ""
            },
            "type": "choropleth"
           }
          ],
          "contour": [
           {
            "colorbar": {
             "outlinewidth": 0,
             "ticks": ""
            },
            "colorscale": [
             [
              0,
              "#0d0887"
             ],
             [
              0.1111111111111111,
              "#46039f"
             ],
             [
              0.2222222222222222,
              "#7201a8"
             ],
             [
              0.3333333333333333,
              "#9c179e"
             ],
             [
              0.4444444444444444,
              "#bd3786"
             ],
             [
              0.5555555555555556,
              "#d8576b"
             ],
             [
              0.6666666666666666,
              "#ed7953"
             ],
             [
              0.7777777777777778,
              "#fb9f3a"
             ],
             [
              0.8888888888888888,
              "#fdca26"
             ],
             [
              1,
              "#f0f921"
             ]
            ],
            "type": "contour"
           }
          ],
          "contourcarpet": [
           {
            "colorbar": {
             "outlinewidth": 0,
             "ticks": ""
            },
            "type": "contourcarpet"
           }
          ],
          "heatmap": [
           {
            "colorbar": {
             "outlinewidth": 0,
             "ticks": ""
            },
            "colorscale": [
             [
              0,
              "#0d0887"
             ],
             [
              0.1111111111111111,
              "#46039f"
             ],
             [
              0.2222222222222222,
              "#7201a8"
             ],
             [
              0.3333333333333333,
              "#9c179e"
             ],
             [
              0.4444444444444444,
              "#bd3786"
             ],
             [
              0.5555555555555556,
              "#d8576b"
             ],
             [
              0.6666666666666666,
              "#ed7953"
             ],
             [
              0.7777777777777778,
              "#fb9f3a"
             ],
             [
              0.8888888888888888,
              "#fdca26"
             ],
             [
              1,
              "#f0f921"
             ]
            ],
            "type": "heatmap"
           }
          ],
          "heatmapgl": [
           {
            "colorbar": {
             "outlinewidth": 0,
             "ticks": ""
            },
            "colorscale": [
             [
              0,
              "#0d0887"
             ],
             [
              0.1111111111111111,
              "#46039f"
             ],
             [
              0.2222222222222222,
              "#7201a8"
             ],
             [
              0.3333333333333333,
              "#9c179e"
             ],
             [
              0.4444444444444444,
              "#bd3786"
             ],
             [
              0.5555555555555556,
              "#d8576b"
             ],
             [
              0.6666666666666666,
              "#ed7953"
             ],
             [
              0.7777777777777778,
              "#fb9f3a"
             ],
             [
              0.8888888888888888,
              "#fdca26"
             ],
             [
              1,
              "#f0f921"
             ]
            ],
            "type": "heatmapgl"
           }
          ],
          "histogram": [
           {
            "marker": {
             "pattern": {
              "fillmode": "overlay",
              "size": 10,
              "solidity": 0.2
             }
            },
            "type": "histogram"
           }
          ],
          "histogram2d": [
           {
            "colorbar": {
             "outlinewidth": 0,
             "ticks": ""
            },
            "colorscale": [
             [
              0,
              "#0d0887"
             ],
             [
              0.1111111111111111,
              "#46039f"
             ],
             [
              0.2222222222222222,
              "#7201a8"
             ],
             [
              0.3333333333333333,
              "#9c179e"
             ],
             [
              0.4444444444444444,
              "#bd3786"
             ],
             [
              0.5555555555555556,
              "#d8576b"
             ],
             [
              0.6666666666666666,
              "#ed7953"
             ],
             [
              0.7777777777777778,
              "#fb9f3a"
             ],
             [
              0.8888888888888888,
              "#fdca26"
             ],
             [
              1,
              "#f0f921"
             ]
            ],
            "type": "histogram2d"
           }
          ],
          "histogram2dcontour": [
           {
            "colorbar": {
             "outlinewidth": 0,
             "ticks": ""
            },
            "colorscale": [
             [
              0,
              "#0d0887"
             ],
             [
              0.1111111111111111,
              "#46039f"
             ],
             [
              0.2222222222222222,
              "#7201a8"
             ],
             [
              0.3333333333333333,
              "#9c179e"
             ],
             [
              0.4444444444444444,
              "#bd3786"
             ],
             [
              0.5555555555555556,
              "#d8576b"
             ],
             [
              0.6666666666666666,
              "#ed7953"
             ],
             [
              0.7777777777777778,
              "#fb9f3a"
             ],
             [
              0.8888888888888888,
              "#fdca26"
             ],
             [
              1,
              "#f0f921"
             ]
            ],
            "type": "histogram2dcontour"
           }
          ],
          "mesh3d": [
           {
            "colorbar": {
             "outlinewidth": 0,
             "ticks": ""
            },
            "type": "mesh3d"
           }
          ],
          "parcoords": [
           {
            "line": {
             "colorbar": {
              "outlinewidth": 0,
              "ticks": ""
             }
            },
            "type": "parcoords"
           }
          ],
          "pie": [
           {
            "automargin": true,
            "type": "pie"
           }
          ],
          "scatter": [
           {
            "fillpattern": {
             "fillmode": "overlay",
             "size": 10,
             "solidity": 0.2
            },
            "type": "scatter"
           }
          ],
          "scatter3d": [
           {
            "line": {
             "colorbar": {
              "outlinewidth": 0,
              "ticks": ""
             }
            },
            "marker": {
             "colorbar": {
              "outlinewidth": 0,
              "ticks": ""
             }
            },
            "type": "scatter3d"
           }
          ],
          "scattercarpet": [
           {
            "marker": {
             "colorbar": {
              "outlinewidth": 0,
              "ticks": ""
             }
            },
            "type": "scattercarpet"
           }
          ],
          "scattergeo": [
           {
            "marker": {
             "colorbar": {
              "outlinewidth": 0,
              "ticks": ""
             }
            },
            "type": "scattergeo"
           }
          ],
          "scattergl": [
           {
            "marker": {
             "colorbar": {
              "outlinewidth": 0,
              "ticks": ""
             }
            },
            "type": "scattergl"
           }
          ],
          "scattermapbox": [
           {
            "marker": {
             "colorbar": {
              "outlinewidth": 0,
              "ticks": ""
             }
            },
            "type": "scattermapbox"
           }
          ],
          "scatterpolar": [
           {
            "marker": {
             "colorbar": {
              "outlinewidth": 0,
              "ticks": ""
             }
            },
            "type": "scatterpolar"
           }
          ],
          "scatterpolargl": [
           {
            "marker": {
             "colorbar": {
              "outlinewidth": 0,
              "ticks": ""
             }
            },
            "type": "scatterpolargl"
           }
          ],
          "scatterternary": [
           {
            "marker": {
             "colorbar": {
              "outlinewidth": 0,
              "ticks": ""
             }
            },
            "type": "scatterternary"
           }
          ],
          "surface": [
           {
            "colorbar": {
             "outlinewidth": 0,
             "ticks": ""
            },
            "colorscale": [
             [
              0,
              "#0d0887"
             ],
             [
              0.1111111111111111,
              "#46039f"
             ],
             [
              0.2222222222222222,
              "#7201a8"
             ],
             [
              0.3333333333333333,
              "#9c179e"
             ],
             [
              0.4444444444444444,
              "#bd3786"
             ],
             [
              0.5555555555555556,
              "#d8576b"
             ],
             [
              0.6666666666666666,
              "#ed7953"
             ],
             [
              0.7777777777777778,
              "#fb9f3a"
             ],
             [
              0.8888888888888888,
              "#fdca26"
             ],
             [
              1,
              "#f0f921"
             ]
            ],
            "type": "surface"
           }
          ],
          "table": [
           {
            "cells": {
             "fill": {
              "color": "#EBF0F8"
             },
             "line": {
              "color": "white"
             }
            },
            "header": {
             "fill": {
              "color": "#C8D4E3"
             },
             "line": {
              "color": "white"
             }
            },
            "type": "table"
           }
          ]
         },
         "layout": {
          "annotationdefaults": {
           "arrowcolor": "#2a3f5f",
           "arrowhead": 0,
           "arrowwidth": 1
          },
          "autotypenumbers": "strict",
          "coloraxis": {
           "colorbar": {
            "outlinewidth": 0,
            "ticks": ""
           }
          },
          "colorscale": {
           "diverging": [
            [
             0,
             "#8e0152"
            ],
            [
             0.1,
             "#c51b7d"
            ],
            [
             0.2,
             "#de77ae"
            ],
            [
             0.3,
             "#f1b6da"
            ],
            [
             0.4,
             "#fde0ef"
            ],
            [
             0.5,
             "#f7f7f7"
            ],
            [
             0.6,
             "#e6f5d0"
            ],
            [
             0.7,
             "#b8e186"
            ],
            [
             0.8,
             "#7fbc41"
            ],
            [
             0.9,
             "#4d9221"
            ],
            [
             1,
             "#276419"
            ]
           ],
           "sequential": [
            [
             0,
             "#0d0887"
            ],
            [
             0.1111111111111111,
             "#46039f"
            ],
            [
             0.2222222222222222,
             "#7201a8"
            ],
            [
             0.3333333333333333,
             "#9c179e"
            ],
            [
             0.4444444444444444,
             "#bd3786"
            ],
            [
             0.5555555555555556,
             "#d8576b"
            ],
            [
             0.6666666666666666,
             "#ed7953"
            ],
            [
             0.7777777777777778,
             "#fb9f3a"
            ],
            [
             0.8888888888888888,
             "#fdca26"
            ],
            [
             1,
             "#f0f921"
            ]
           ],
           "sequentialminus": [
            [
             0,
             "#0d0887"
            ],
            [
             0.1111111111111111,
             "#46039f"
            ],
            [
             0.2222222222222222,
             "#7201a8"
            ],
            [
             0.3333333333333333,
             "#9c179e"
            ],
            [
             0.4444444444444444,
             "#bd3786"
            ],
            [
             0.5555555555555556,
             "#d8576b"
            ],
            [
             0.6666666666666666,
             "#ed7953"
            ],
            [
             0.7777777777777778,
             "#fb9f3a"
            ],
            [
             0.8888888888888888,
             "#fdca26"
            ],
            [
             1,
             "#f0f921"
            ]
           ]
          },
          "colorway": [
           "#636efa",
           "#EF553B",
           "#00cc96",
           "#ab63fa",
           "#FFA15A",
           "#19d3f3",
           "#FF6692",
           "#B6E880",
           "#FF97FF",
           "#FECB52"
          ],
          "font": {
           "color": "#2a3f5f"
          },
          "geo": {
           "bgcolor": "white",
           "lakecolor": "white",
           "landcolor": "#E5ECF6",
           "showlakes": true,
           "showland": true,
           "subunitcolor": "white"
          },
          "hoverlabel": {
           "align": "left"
          },
          "hovermode": "closest",
          "mapbox": {
           "style": "light"
          },
          "paper_bgcolor": "white",
          "plot_bgcolor": "#E5ECF6",
          "polar": {
           "angularaxis": {
            "gridcolor": "white",
            "linecolor": "white",
            "ticks": ""
           },
           "bgcolor": "#E5ECF6",
           "radialaxis": {
            "gridcolor": "white",
            "linecolor": "white",
            "ticks": ""
           }
          },
          "scene": {
           "xaxis": {
            "backgroundcolor": "#E5ECF6",
            "gridcolor": "white",
            "gridwidth": 2,
            "linecolor": "white",
            "showbackground": true,
            "ticks": "",
            "zerolinecolor": "white"
           },
           "yaxis": {
            "backgroundcolor": "#E5ECF6",
            "gridcolor": "white",
            "gridwidth": 2,
            "linecolor": "white",
            "showbackground": true,
            "ticks": "",
            "zerolinecolor": "white"
           },
           "zaxis": {
            "backgroundcolor": "#E5ECF6",
            "gridcolor": "white",
            "gridwidth": 2,
            "linecolor": "white",
            "showbackground": true,
            "ticks": "",
            "zerolinecolor": "white"
           }
          },
          "shapedefaults": {
           "line": {
            "color": "#2a3f5f"
           }
          },
          "ternary": {
           "aaxis": {
            "gridcolor": "white",
            "linecolor": "white",
            "ticks": ""
           },
           "baxis": {
            "gridcolor": "white",
            "linecolor": "white",
            "ticks": ""
           },
           "bgcolor": "#E5ECF6",
           "caxis": {
            "gridcolor": "white",
            "linecolor": "white",
            "ticks": ""
           }
          },
          "title": {
           "x": 0.05
          },
          "xaxis": {
           "automargin": true,
           "gridcolor": "white",
           "linecolor": "white",
           "ticks": "",
           "title": {
            "standoff": 15
           },
           "zerolinecolor": "white",
           "zerolinewidth": 2
          },
          "yaxis": {
           "automargin": true,
           "gridcolor": "white",
           "linecolor": "white",
           "ticks": "",
           "title": {
            "standoff": 15
           },
           "zerolinecolor": "white",
           "zerolinewidth": 2
          }
         }
        },
        "title": {
         "text": "Hyperparameter Importances"
        },
        "xaxis": {
         "title": {
          "text": "Hyperparameter Importance"
         }
        },
        "yaxis": {
         "title": {
          "text": "Hyperparameter"
         }
        }
       }
      }
     },
     "metadata": {},
     "output_type": "display_data"
    }
   ],
   "source": [
    "plot_param_importances(study)"
   ]
  },
  {
   "cell_type": "code",
   "execution_count": 47,
   "metadata": {},
   "outputs": [
    {
     "data": {
      "application/vnd.plotly.v1+json": {
       "config": {
        "plotlyServerURL": "https://plot.ly"
       },
       "data": [
        {
         "marker": {
          "color": [
           0,
           1,
           2,
           3,
           4,
           5,
           6,
           7,
           8,
           9,
           10,
           11,
           12,
           13,
           14,
           15,
           16,
           17,
           18,
           19,
           20,
           21,
           22,
           23,
           24,
           25,
           26,
           27,
           28,
           29,
           30,
           31,
           32,
           33,
           34,
           35,
           36,
           37,
           38,
           39,
           40,
           41,
           42,
           43,
           44,
           45,
           46,
           47,
           48,
           49
          ],
          "colorbar": {
           "title": {
            "text": "Trial"
           },
           "x": 1,
           "xpad": 40
          },
          "colorscale": [
           [
            0,
            "rgb(247,251,255)"
           ],
           [
            0.125,
            "rgb(222,235,247)"
           ],
           [
            0.25,
            "rgb(198,219,239)"
           ],
           [
            0.375,
            "rgb(158,202,225)"
           ],
           [
            0.5,
            "rgb(107,174,214)"
           ],
           [
            0.625,
            "rgb(66,146,198)"
           ],
           [
            0.75,
            "rgb(33,113,181)"
           ],
           [
            0.875,
            "rgb(8,81,156)"
           ],
           [
            1,
            "rgb(8,48,107)"
           ]
          ],
          "line": {
           "color": "Grey",
           "width": 0.5
          },
          "showscale": true
         },
         "mode": "markers",
         "name": "Feasible Trial",
         "showlegend": false,
         "type": "scatter",
         "x": [
          "gini",
          "entropy",
          "gini",
          "entropy",
          "gini",
          "entropy",
          "entropy",
          "gini",
          "gini",
          "entropy",
          "entropy",
          "entropy",
          "entropy",
          "entropy",
          "entropy",
          "entropy",
          "entropy",
          "entropy",
          "entropy",
          "entropy",
          "entropy",
          "entropy",
          "entropy",
          "entropy",
          "entropy",
          "entropy",
          "gini",
          "entropy",
          "entropy",
          "gini",
          "entropy",
          "entropy",
          "entropy",
          "entropy",
          "entropy",
          "entropy",
          "gini",
          "entropy",
          "entropy",
          "gini",
          "entropy",
          "entropy",
          "entropy",
          "entropy",
          "entropy",
          "entropy",
          "entropy",
          "gini",
          "entropy",
          "entropy"
         ],
         "xaxis": "x",
         "y": [
          114856000,
          106339333.33333334,
          103954666.66666669,
          113143333.33333334,
          105032666.66666667,
          118085333.33333334,
          106339333.33333334,
          113288000,
          115831333.33333334,
          117833333.33333334,
          129378666.66666667,
          128394000,
          128860666.66666667,
          127502666.66666667,
          128235333.33333334,
          124455333.33333334,
          126886666.66666667,
          126336000,
          88312000,
          126368666.66666667,
          130470666.66666667,
          129980666.66666667,
          131656000,
          131427333.33333334,
          129481333.33333334,
          125356000,
          114146666.66666667,
          120432666.66666667,
          109666666.66666667,
          113768666.66666667,
          123559333.33333334,
          130237333.33333334,
          127446666.66666667,
          130657333.33333334,
          117651333.33333334,
          129546666.66666667,
          113619333.33333334,
          124642000,
          128660000,
          113717333.33333333,
          118094666.66666667,
          130699333.33333334,
          131656000,
          126168000,
          126751333.33333334,
          131600000.00000003,
          125043333.33333334,
          117474000,
          128870000,
          120880666.66666667
         ],
         "yaxis": "y"
        },
        {
         "marker": {
          "color": [
           0,
           1,
           2,
           3,
           4,
           5,
           6,
           7,
           8,
           9,
           10,
           11,
           12,
           13,
           14,
           15,
           16,
           17,
           18,
           19,
           20,
           21,
           22,
           23,
           24,
           25,
           26,
           27,
           28,
           29,
           30,
           31,
           32,
           33,
           34,
           35,
           36,
           37,
           38,
           39,
           40,
           41,
           42,
           43,
           44,
           45,
           46,
           47,
           48,
           49
          ],
          "colorbar": {
           "title": {
            "text": "Trial"
           },
           "x": 1,
           "xpad": 40
          },
          "colorscale": [
           [
            0,
            "rgb(247,251,255)"
           ],
           [
            0.125,
            "rgb(222,235,247)"
           ],
           [
            0.25,
            "rgb(198,219,239)"
           ],
           [
            0.375,
            "rgb(158,202,225)"
           ],
           [
            0.5,
            "rgb(107,174,214)"
           ],
           [
            0.625,
            "rgb(66,146,198)"
           ],
           [
            0.75,
            "rgb(33,113,181)"
           ],
           [
            0.875,
            "rgb(8,81,156)"
           ],
           [
            1,
            "rgb(8,48,107)"
           ]
          ],
          "line": {
           "color": "Grey",
           "width": 0.5
          },
          "showscale": false
         },
         "mode": "markers",
         "name": "Feasible Trial",
         "showlegend": false,
         "type": "scatter",
         "x": [
          15,
          2,
          2,
          3,
          16,
          11,
          2,
          9,
          20,
          18,
          9,
          9,
          7,
          6,
          7,
          13,
          5,
          10,
          13,
          5,
          8,
          8,
          8,
          12,
          12,
          11,
          13,
          15,
          7,
          16,
          4,
          8,
          10,
          8,
          6,
          10,
          12,
          8,
          15,
          11,
          5,
          8,
          9,
          9,
          6,
          10,
          12,
          10,
          14,
          9
         ],
         "xaxis": "x2",
         "y": [
          114856000,
          106339333.33333334,
          103954666.66666669,
          113143333.33333334,
          105032666.66666667,
          118085333.33333334,
          106339333.33333334,
          113288000,
          115831333.33333334,
          117833333.33333334,
          129378666.66666667,
          128394000,
          128860666.66666667,
          127502666.66666667,
          128235333.33333334,
          124455333.33333334,
          126886666.66666667,
          126336000,
          88312000,
          126368666.66666667,
          130470666.66666667,
          129980666.66666667,
          131656000,
          131427333.33333334,
          129481333.33333334,
          125356000,
          114146666.66666667,
          120432666.66666667,
          109666666.66666667,
          113768666.66666667,
          123559333.33333334,
          130237333.33333334,
          127446666.66666667,
          130657333.33333334,
          117651333.33333334,
          129546666.66666667,
          113619333.33333334,
          124642000,
          128660000,
          113717333.33333333,
          118094666.66666667,
          130699333.33333334,
          131656000,
          126168000,
          126751333.33333334,
          131600000.00000003,
          125043333.33333334,
          117474000,
          128870000,
          120880666.66666667
         ],
         "yaxis": "y2"
        },
        {
         "marker": {
          "color": [
           0,
           1,
           2,
           3,
           4,
           5,
           6,
           7,
           8,
           9,
           10,
           11,
           12,
           13,
           14,
           15,
           16,
           17,
           18,
           19,
           20,
           21,
           22,
           23,
           24,
           25,
           26,
           27,
           28,
           29,
           30,
           31,
           32,
           33,
           34,
           35,
           36,
           37,
           38,
           39,
           40,
           41,
           42,
           43,
           44,
           45,
           46,
           47,
           48,
           49
          ],
          "colorbar": {
           "title": {
            "text": "Trial"
           },
           "x": 1,
           "xpad": 40
          },
          "colorscale": [
           [
            0,
            "rgb(247,251,255)"
           ],
           [
            0.125,
            "rgb(222,235,247)"
           ],
           [
            0.25,
            "rgb(198,219,239)"
           ],
           [
            0.375,
            "rgb(158,202,225)"
           ],
           [
            0.5,
            "rgb(107,174,214)"
           ],
           [
            0.625,
            "rgb(66,146,198)"
           ],
           [
            0.75,
            "rgb(33,113,181)"
           ],
           [
            0.875,
            "rgb(8,81,156)"
           ],
           [
            1,
            "rgb(8,48,107)"
           ]
          ],
          "line": {
           "color": "Grey",
           "width": 0.5
          },
          "showscale": false
         },
         "mode": "markers",
         "name": "Feasible Trial",
         "showlegend": false,
         "type": "scatter",
         "x": [
          23,
          86,
          11,
          143,
          147,
          100,
          102,
          88,
          55,
          99,
          53,
          54,
          49,
          44,
          41,
          62,
          27,
          72,
          2,
          125,
          34,
          38,
          31,
          31,
          25,
          15,
          30,
          68,
          6,
          20,
          35,
          37,
          18,
          33,
          11,
          29,
          63,
          79,
          46,
          22,
          11,
          34,
          31,
          59,
          46,
          30,
          16,
          53,
          24,
          117
         ],
         "xaxis": "x3",
         "y": [
          114856000,
          106339333.33333334,
          103954666.66666669,
          113143333.33333334,
          105032666.66666667,
          118085333.33333334,
          106339333.33333334,
          113288000,
          115831333.33333334,
          117833333.33333334,
          129378666.66666667,
          128394000,
          128860666.66666667,
          127502666.66666667,
          128235333.33333334,
          124455333.33333334,
          126886666.66666667,
          126336000,
          88312000,
          126368666.66666667,
          130470666.66666667,
          129980666.66666667,
          131656000,
          131427333.33333334,
          129481333.33333334,
          125356000,
          114146666.66666667,
          120432666.66666667,
          109666666.66666667,
          113768666.66666667,
          123559333.33333334,
          130237333.33333334,
          127446666.66666667,
          130657333.33333334,
          117651333.33333334,
          129546666.66666667,
          113619333.33333334,
          124642000,
          128660000,
          113717333.33333333,
          118094666.66666667,
          130699333.33333334,
          131656000,
          126168000,
          126751333.33333334,
          131600000.00000003,
          125043333.33333334,
          117474000,
          128870000,
          120880666.66666667
         ],
         "yaxis": "y3"
        },
        {
         "marker": {
          "color": [
           0,
           1,
           2,
           3,
           4,
           5,
           6,
           7,
           8,
           9,
           10,
           11,
           12,
           13,
           14,
           15,
           16,
           17,
           18,
           19,
           20,
           21,
           22,
           23,
           24,
           25,
           26,
           27,
           28,
           29,
           30,
           31,
           32,
           33,
           34,
           35,
           36,
           37,
           38,
           39,
           40,
           41,
           42,
           43,
           44,
           45,
           46,
           47,
           48,
           49
          ],
          "colorbar": {
           "title": {
            "text": "Trial"
           },
           "x": 1,
           "xpad": 40
          },
          "colorscale": [
           [
            0,
            "rgb(247,251,255)"
           ],
           [
            0.125,
            "rgb(222,235,247)"
           ],
           [
            0.25,
            "rgb(198,219,239)"
           ],
           [
            0.375,
            "rgb(158,202,225)"
           ],
           [
            0.5,
            "rgb(107,174,214)"
           ],
           [
            0.625,
            "rgb(66,146,198)"
           ],
           [
            0.75,
            "rgb(33,113,181)"
           ],
           [
            0.875,
            "rgb(8,81,156)"
           ],
           [
            1,
            "rgb(8,48,107)"
           ]
          ],
          "line": {
           "color": "Grey",
           "width": 0.5
          },
          "showscale": false
         },
         "mode": "markers",
         "name": "Feasible Trial",
         "showlegend": false,
         "type": "scatter",
         "x": [
          94,
          47,
          31,
          13,
          73,
          94,
          57,
          2,
          70,
          123,
          136,
          149,
          149,
          150,
          124,
          126,
          104,
          136,
          111,
          138,
          88,
          93,
          86,
          88,
          84,
          51,
          63,
          83,
          110,
          85,
          102,
          94,
          73,
          36,
          38,
          21,
          35,
          64,
          46,
          80,
          23,
          99,
          91,
          100,
          112,
          69,
          76,
          67,
          91,
          55
         ],
         "xaxis": "x4",
         "y": [
          114856000,
          106339333.33333334,
          103954666.66666669,
          113143333.33333334,
          105032666.66666667,
          118085333.33333334,
          106339333.33333334,
          113288000,
          115831333.33333334,
          117833333.33333334,
          129378666.66666667,
          128394000,
          128860666.66666667,
          127502666.66666667,
          128235333.33333334,
          124455333.33333334,
          126886666.66666667,
          126336000,
          88312000,
          126368666.66666667,
          130470666.66666667,
          129980666.66666667,
          131656000,
          131427333.33333334,
          129481333.33333334,
          125356000,
          114146666.66666667,
          120432666.66666667,
          109666666.66666667,
          113768666.66666667,
          123559333.33333334,
          130237333.33333334,
          127446666.66666667,
          130657333.33333334,
          117651333.33333334,
          129546666.66666667,
          113619333.33333334,
          124642000,
          128660000,
          113717333.33333333,
          118094666.66666667,
          130699333.33333334,
          131656000,
          126168000,
          126751333.33333334,
          131600000.00000003,
          125043333.33333334,
          117474000,
          128870000,
          120880666.66666667
         ],
         "yaxis": "y4"
        },
        {
         "marker": {
          "color": [
           0,
           1,
           2,
           3,
           4,
           5,
           6,
           7,
           8,
           9,
           10,
           11,
           12,
           13,
           14,
           15,
           16,
           17,
           18,
           19,
           20,
           21,
           22,
           23,
           24,
           25,
           26,
           27,
           28,
           29,
           30,
           31,
           32,
           33,
           34,
           35,
           36,
           37,
           38,
           39,
           40,
           41,
           42,
           43,
           44,
           45,
           46,
           47,
           48,
           49
          ],
          "colorbar": {
           "title": {
            "text": "Trial"
           },
           "x": 1,
           "xpad": 40
          },
          "colorscale": [
           [
            0,
            "rgb(247,251,255)"
           ],
           [
            0.125,
            "rgb(222,235,247)"
           ],
           [
            0.25,
            "rgb(198,219,239)"
           ],
           [
            0.375,
            "rgb(158,202,225)"
           ],
           [
            0.5,
            "rgb(107,174,214)"
           ],
           [
            0.625,
            "rgb(66,146,198)"
           ],
           [
            0.75,
            "rgb(33,113,181)"
           ],
           [
            0.875,
            "rgb(8,81,156)"
           ],
           [
            1,
            "rgb(8,48,107)"
           ]
          ],
          "line": {
           "color": "Grey",
           "width": 0.5
          },
          "showscale": false
         },
         "mode": "markers",
         "name": "Feasible Trial",
         "showlegend": false,
         "type": "scatter",
         "x": [
          51,
          64,
          111,
          65,
          26,
          145,
          52,
          70,
          127,
          10,
          149,
          149,
          106,
          98,
          95,
          124,
          90,
          132,
          112,
          110,
          84,
          84,
          79,
          81,
          46,
          83,
          77,
          32,
          63,
          52,
          77,
          88,
          88,
          101,
          100,
          61,
          71,
          116,
          41,
          104,
          58,
          93,
          74,
          70,
          75,
          94,
          80,
          93,
          70,
          56
         ],
         "xaxis": "x5",
         "y": [
          114856000,
          106339333.33333334,
          103954666.66666669,
          113143333.33333334,
          105032666.66666667,
          118085333.33333334,
          106339333.33333334,
          113288000,
          115831333.33333334,
          117833333.33333334,
          129378666.66666667,
          128394000,
          128860666.66666667,
          127502666.66666667,
          128235333.33333334,
          124455333.33333334,
          126886666.66666667,
          126336000,
          88312000,
          126368666.66666667,
          130470666.66666667,
          129980666.66666667,
          131656000,
          131427333.33333334,
          129481333.33333334,
          125356000,
          114146666.66666667,
          120432666.66666667,
          109666666.66666667,
          113768666.66666667,
          123559333.33333334,
          130237333.33333334,
          127446666.66666667,
          130657333.33333334,
          117651333.33333334,
          129546666.66666667,
          113619333.33333334,
          124642000,
          128660000,
          113717333.33333333,
          118094666.66666667,
          130699333.33333334,
          131656000,
          126168000,
          126751333.33333334,
          131600000.00000003,
          125043333.33333334,
          117474000,
          128870000,
          120880666.66666667
         ],
         "yaxis": "y5"
        }
       ],
       "layout": {
        "template": {
         "data": {
          "bar": [
           {
            "error_x": {
             "color": "#2a3f5f"
            },
            "error_y": {
             "color": "#2a3f5f"
            },
            "marker": {
             "line": {
              "color": "#E5ECF6",
              "width": 0.5
             },
             "pattern": {
              "fillmode": "overlay",
              "size": 10,
              "solidity": 0.2
             }
            },
            "type": "bar"
           }
          ],
          "barpolar": [
           {
            "marker": {
             "line": {
              "color": "#E5ECF6",
              "width": 0.5
             },
             "pattern": {
              "fillmode": "overlay",
              "size": 10,
              "solidity": 0.2
             }
            },
            "type": "barpolar"
           }
          ],
          "carpet": [
           {
            "aaxis": {
             "endlinecolor": "#2a3f5f",
             "gridcolor": "white",
             "linecolor": "white",
             "minorgridcolor": "white",
             "startlinecolor": "#2a3f5f"
            },
            "baxis": {
             "endlinecolor": "#2a3f5f",
             "gridcolor": "white",
             "linecolor": "white",
             "minorgridcolor": "white",
             "startlinecolor": "#2a3f5f"
            },
            "type": "carpet"
           }
          ],
          "choropleth": [
           {
            "colorbar": {
             "outlinewidth": 0,
             "ticks": ""
            },
            "type": "choropleth"
           }
          ],
          "contour": [
           {
            "colorbar": {
             "outlinewidth": 0,
             "ticks": ""
            },
            "colorscale": [
             [
              0,
              "#0d0887"
             ],
             [
              0.1111111111111111,
              "#46039f"
             ],
             [
              0.2222222222222222,
              "#7201a8"
             ],
             [
              0.3333333333333333,
              "#9c179e"
             ],
             [
              0.4444444444444444,
              "#bd3786"
             ],
             [
              0.5555555555555556,
              "#d8576b"
             ],
             [
              0.6666666666666666,
              "#ed7953"
             ],
             [
              0.7777777777777778,
              "#fb9f3a"
             ],
             [
              0.8888888888888888,
              "#fdca26"
             ],
             [
              1,
              "#f0f921"
             ]
            ],
            "type": "contour"
           }
          ],
          "contourcarpet": [
           {
            "colorbar": {
             "outlinewidth": 0,
             "ticks": ""
            },
            "type": "contourcarpet"
           }
          ],
          "heatmap": [
           {
            "colorbar": {
             "outlinewidth": 0,
             "ticks": ""
            },
            "colorscale": [
             [
              0,
              "#0d0887"
             ],
             [
              0.1111111111111111,
              "#46039f"
             ],
             [
              0.2222222222222222,
              "#7201a8"
             ],
             [
              0.3333333333333333,
              "#9c179e"
             ],
             [
              0.4444444444444444,
              "#bd3786"
             ],
             [
              0.5555555555555556,
              "#d8576b"
             ],
             [
              0.6666666666666666,
              "#ed7953"
             ],
             [
              0.7777777777777778,
              "#fb9f3a"
             ],
             [
              0.8888888888888888,
              "#fdca26"
             ],
             [
              1,
              "#f0f921"
             ]
            ],
            "type": "heatmap"
           }
          ],
          "heatmapgl": [
           {
            "colorbar": {
             "outlinewidth": 0,
             "ticks": ""
            },
            "colorscale": [
             [
              0,
              "#0d0887"
             ],
             [
              0.1111111111111111,
              "#46039f"
             ],
             [
              0.2222222222222222,
              "#7201a8"
             ],
             [
              0.3333333333333333,
              "#9c179e"
             ],
             [
              0.4444444444444444,
              "#bd3786"
             ],
             [
              0.5555555555555556,
              "#d8576b"
             ],
             [
              0.6666666666666666,
              "#ed7953"
             ],
             [
              0.7777777777777778,
              "#fb9f3a"
             ],
             [
              0.8888888888888888,
              "#fdca26"
             ],
             [
              1,
              "#f0f921"
             ]
            ],
            "type": "heatmapgl"
           }
          ],
          "histogram": [
           {
            "marker": {
             "pattern": {
              "fillmode": "overlay",
              "size": 10,
              "solidity": 0.2
             }
            },
            "type": "histogram"
           }
          ],
          "histogram2d": [
           {
            "colorbar": {
             "outlinewidth": 0,
             "ticks": ""
            },
            "colorscale": [
             [
              0,
              "#0d0887"
             ],
             [
              0.1111111111111111,
              "#46039f"
             ],
             [
              0.2222222222222222,
              "#7201a8"
             ],
             [
              0.3333333333333333,
              "#9c179e"
             ],
             [
              0.4444444444444444,
              "#bd3786"
             ],
             [
              0.5555555555555556,
              "#d8576b"
             ],
             [
              0.6666666666666666,
              "#ed7953"
             ],
             [
              0.7777777777777778,
              "#fb9f3a"
             ],
             [
              0.8888888888888888,
              "#fdca26"
             ],
             [
              1,
              "#f0f921"
             ]
            ],
            "type": "histogram2d"
           }
          ],
          "histogram2dcontour": [
           {
            "colorbar": {
             "outlinewidth": 0,
             "ticks": ""
            },
            "colorscale": [
             [
              0,
              "#0d0887"
             ],
             [
              0.1111111111111111,
              "#46039f"
             ],
             [
              0.2222222222222222,
              "#7201a8"
             ],
             [
              0.3333333333333333,
              "#9c179e"
             ],
             [
              0.4444444444444444,
              "#bd3786"
             ],
             [
              0.5555555555555556,
              "#d8576b"
             ],
             [
              0.6666666666666666,
              "#ed7953"
             ],
             [
              0.7777777777777778,
              "#fb9f3a"
             ],
             [
              0.8888888888888888,
              "#fdca26"
             ],
             [
              1,
              "#f0f921"
             ]
            ],
            "type": "histogram2dcontour"
           }
          ],
          "mesh3d": [
           {
            "colorbar": {
             "outlinewidth": 0,
             "ticks": ""
            },
            "type": "mesh3d"
           }
          ],
          "parcoords": [
           {
            "line": {
             "colorbar": {
              "outlinewidth": 0,
              "ticks": ""
             }
            },
            "type": "parcoords"
           }
          ],
          "pie": [
           {
            "automargin": true,
            "type": "pie"
           }
          ],
          "scatter": [
           {
            "fillpattern": {
             "fillmode": "overlay",
             "size": 10,
             "solidity": 0.2
            },
            "type": "scatter"
           }
          ],
          "scatter3d": [
           {
            "line": {
             "colorbar": {
              "outlinewidth": 0,
              "ticks": ""
             }
            },
            "marker": {
             "colorbar": {
              "outlinewidth": 0,
              "ticks": ""
             }
            },
            "type": "scatter3d"
           }
          ],
          "scattercarpet": [
           {
            "marker": {
             "colorbar": {
              "outlinewidth": 0,
              "ticks": ""
             }
            },
            "type": "scattercarpet"
           }
          ],
          "scattergeo": [
           {
            "marker": {
             "colorbar": {
              "outlinewidth": 0,
              "ticks": ""
             }
            },
            "type": "scattergeo"
           }
          ],
          "scattergl": [
           {
            "marker": {
             "colorbar": {
              "outlinewidth": 0,
              "ticks": ""
             }
            },
            "type": "scattergl"
           }
          ],
          "scattermapbox": [
           {
            "marker": {
             "colorbar": {
              "outlinewidth": 0,
              "ticks": ""
             }
            },
            "type": "scattermapbox"
           }
          ],
          "scatterpolar": [
           {
            "marker": {
             "colorbar": {
              "outlinewidth": 0,
              "ticks": ""
             }
            },
            "type": "scatterpolar"
           }
          ],
          "scatterpolargl": [
           {
            "marker": {
             "colorbar": {
              "outlinewidth": 0,
              "ticks": ""
             }
            },
            "type": "scatterpolargl"
           }
          ],
          "scatterternary": [
           {
            "marker": {
             "colorbar": {
              "outlinewidth": 0,
              "ticks": ""
             }
            },
            "type": "scatterternary"
           }
          ],
          "surface": [
           {
            "colorbar": {
             "outlinewidth": 0,
             "ticks": ""
            },
            "colorscale": [
             [
              0,
              "#0d0887"
             ],
             [
              0.1111111111111111,
              "#46039f"
             ],
             [
              0.2222222222222222,
              "#7201a8"
             ],
             [
              0.3333333333333333,
              "#9c179e"
             ],
             [
              0.4444444444444444,
              "#bd3786"
             ],
             [
              0.5555555555555556,
              "#d8576b"
             ],
             [
              0.6666666666666666,
              "#ed7953"
             ],
             [
              0.7777777777777778,
              "#fb9f3a"
             ],
             [
              0.8888888888888888,
              "#fdca26"
             ],
             [
              1,
              "#f0f921"
             ]
            ],
            "type": "surface"
           }
          ],
          "table": [
           {
            "cells": {
             "fill": {
              "color": "#EBF0F8"
             },
             "line": {
              "color": "white"
             }
            },
            "header": {
             "fill": {
              "color": "#C8D4E3"
             },
             "line": {
              "color": "white"
             }
            },
            "type": "table"
           }
          ]
         },
         "layout": {
          "annotationdefaults": {
           "arrowcolor": "#2a3f5f",
           "arrowhead": 0,
           "arrowwidth": 1
          },
          "autotypenumbers": "strict",
          "coloraxis": {
           "colorbar": {
            "outlinewidth": 0,
            "ticks": ""
           }
          },
          "colorscale": {
           "diverging": [
            [
             0,
             "#8e0152"
            ],
            [
             0.1,
             "#c51b7d"
            ],
            [
             0.2,
             "#de77ae"
            ],
            [
             0.3,
             "#f1b6da"
            ],
            [
             0.4,
             "#fde0ef"
            ],
            [
             0.5,
             "#f7f7f7"
            ],
            [
             0.6,
             "#e6f5d0"
            ],
            [
             0.7,
             "#b8e186"
            ],
            [
             0.8,
             "#7fbc41"
            ],
            [
             0.9,
             "#4d9221"
            ],
            [
             1,
             "#276419"
            ]
           ],
           "sequential": [
            [
             0,
             "#0d0887"
            ],
            [
             0.1111111111111111,
             "#46039f"
            ],
            [
             0.2222222222222222,
             "#7201a8"
            ],
            [
             0.3333333333333333,
             "#9c179e"
            ],
            [
             0.4444444444444444,
             "#bd3786"
            ],
            [
             0.5555555555555556,
             "#d8576b"
            ],
            [
             0.6666666666666666,
             "#ed7953"
            ],
            [
             0.7777777777777778,
             "#fb9f3a"
            ],
            [
             0.8888888888888888,
             "#fdca26"
            ],
            [
             1,
             "#f0f921"
            ]
           ],
           "sequentialminus": [
            [
             0,
             "#0d0887"
            ],
            [
             0.1111111111111111,
             "#46039f"
            ],
            [
             0.2222222222222222,
             "#7201a8"
            ],
            [
             0.3333333333333333,
             "#9c179e"
            ],
            [
             0.4444444444444444,
             "#bd3786"
            ],
            [
             0.5555555555555556,
             "#d8576b"
            ],
            [
             0.6666666666666666,
             "#ed7953"
            ],
            [
             0.7777777777777778,
             "#fb9f3a"
            ],
            [
             0.8888888888888888,
             "#fdca26"
            ],
            [
             1,
             "#f0f921"
            ]
           ]
          },
          "colorway": [
           "#636efa",
           "#EF553B",
           "#00cc96",
           "#ab63fa",
           "#FFA15A",
           "#19d3f3",
           "#FF6692",
           "#B6E880",
           "#FF97FF",
           "#FECB52"
          ],
          "font": {
           "color": "#2a3f5f"
          },
          "geo": {
           "bgcolor": "white",
           "lakecolor": "white",
           "landcolor": "#E5ECF6",
           "showlakes": true,
           "showland": true,
           "subunitcolor": "white"
          },
          "hoverlabel": {
           "align": "left"
          },
          "hovermode": "closest",
          "mapbox": {
           "style": "light"
          },
          "paper_bgcolor": "white",
          "plot_bgcolor": "#E5ECF6",
          "polar": {
           "angularaxis": {
            "gridcolor": "white",
            "linecolor": "white",
            "ticks": ""
           },
           "bgcolor": "#E5ECF6",
           "radialaxis": {
            "gridcolor": "white",
            "linecolor": "white",
            "ticks": ""
           }
          },
          "scene": {
           "xaxis": {
            "backgroundcolor": "#E5ECF6",
            "gridcolor": "white",
            "gridwidth": 2,
            "linecolor": "white",
            "showbackground": true,
            "ticks": "",
            "zerolinecolor": "white"
           },
           "yaxis": {
            "backgroundcolor": "#E5ECF6",
            "gridcolor": "white",
            "gridwidth": 2,
            "linecolor": "white",
            "showbackground": true,
            "ticks": "",
            "zerolinecolor": "white"
           },
           "zaxis": {
            "backgroundcolor": "#E5ECF6",
            "gridcolor": "white",
            "gridwidth": 2,
            "linecolor": "white",
            "showbackground": true,
            "ticks": "",
            "zerolinecolor": "white"
           }
          },
          "shapedefaults": {
           "line": {
            "color": "#2a3f5f"
           }
          },
          "ternary": {
           "aaxis": {
            "gridcolor": "white",
            "linecolor": "white",
            "ticks": ""
           },
           "baxis": {
            "gridcolor": "white",
            "linecolor": "white",
            "ticks": ""
           },
           "bgcolor": "#E5ECF6",
           "caxis": {
            "gridcolor": "white",
            "linecolor": "white",
            "ticks": ""
           }
          },
          "title": {
           "x": 0.05
          },
          "xaxis": {
           "automargin": true,
           "gridcolor": "white",
           "linecolor": "white",
           "ticks": "",
           "title": {
            "standoff": 15
           },
           "zerolinecolor": "white",
           "zerolinewidth": 2
          },
          "yaxis": {
           "automargin": true,
           "gridcolor": "white",
           "linecolor": "white",
           "ticks": "",
           "title": {
            "standoff": 15
           },
           "zerolinecolor": "white",
           "zerolinewidth": 2
          }
         }
        },
        "title": {
         "text": "Slice Plot"
        },
        "width": 1500,
        "xaxis": {
         "anchor": "y",
         "categoryarray": [
          "gini",
          "entropy"
         ],
         "categoryorder": "array",
         "domain": [
          0,
          0.16799999999999998
         ],
         "title": {
          "text": "criterion"
         },
         "type": "category"
        },
        "xaxis2": {
         "anchor": "y2",
         "domain": [
          0.208,
          0.376
         ],
         "title": {
          "text": "max_depth"
         }
        },
        "xaxis3": {
         "anchor": "y3",
         "domain": [
          0.416,
          0.584
         ],
         "title": {
          "text": "max_leaf_nodes"
         }
        },
        "xaxis4": {
         "anchor": "y4",
         "domain": [
          0.624,
          0.792
         ],
         "title": {
          "text": "min_samples_leaf"
         }
        },
        "xaxis5": {
         "anchor": "y5",
         "domain": [
          0.832,
          1
         ],
         "title": {
          "text": "min_samples_split"
         }
        },
        "yaxis": {
         "anchor": "x",
         "domain": [
          0,
          1
         ],
         "title": {
          "text": "Objective Value"
         }
        },
        "yaxis2": {
         "anchor": "x2",
         "domain": [
          0,
          1
         ],
         "matches": "y",
         "showticklabels": false
        },
        "yaxis3": {
         "anchor": "x3",
         "domain": [
          0,
          1
         ],
         "matches": "y",
         "showticklabels": false
        },
        "yaxis4": {
         "anchor": "x4",
         "domain": [
          0,
          1
         ],
         "matches": "y",
         "showticklabels": false
        },
        "yaxis5": {
         "anchor": "x5",
         "domain": [
          0,
          1
         ],
         "matches": "y",
         "showticklabels": false
        }
       }
      }
     },
     "metadata": {},
     "output_type": "display_data"
    }
   ],
   "source": [
    "plot_slice(study)"
   ]
  },
  {
   "cell_type": "code",
   "execution_count": 48,
   "metadata": {},
   "outputs": [
    {
     "name": "stdout",
     "output_type": "stream",
     "text": [
      "Mejor modelo: {'criterion': 'entropy', 'max_depth': 8, 'min_samples_split': 79, 'min_samples_leaf': 86, 'max_leaf_nodes': 31}\n"
     ]
    }
   ],
   "source": [
    "best_trial = study.best_trial\n",
    "best_model_params = best_trial.params\n",
    "print(\"Mejor modelo:\", best_model_params)"
   ]
  },
  {
   "cell_type": "code",
   "execution_count": 30,
   "metadata": {},
   "outputs": [
    {
     "name": "stdout",
     "output_type": "stream",
     "text": [
      "Accuracy: 0.9869583765007008\n",
      "Classification Report:\n"
     ]
    },
    {
     "name": "stderr",
     "output_type": "stream",
     "text": [
      "c:\\Users\\Federico\\AppData\\Local\\Programs\\Python\\Python312\\Lib\\site-packages\\sklearn\\metrics\\_classification.py:1531: UndefinedMetricWarning: Precision is ill-defined and being set to 0.0 in labels with no predicted samples. Use `zero_division` parameter to control this behavior.\n",
      "  _warn_prf(average, modifier, f\"{metric.capitalize()} is\", len(result))\n"
     ]
    },
    {
     "name": "stdout",
     "output_type": "stream",
     "text": [
      "              precision    recall  f1-score   support\n",
      "\n",
      "      BAJA+1       0.00      0.00      0.00       204\n",
      "      BAJA+2       0.00      0.00      0.00       224\n",
      "    CONTINUA       0.99      1.00      0.99     32390\n",
      "\n",
      "    accuracy                           0.99     32818\n",
      "   macro avg       0.33      0.33      0.33     32818\n",
      "weighted avg       0.97      0.99      0.98     32818\n",
      "\n"
     ]
    },
    {
     "name": "stderr",
     "output_type": "stream",
     "text": [
      "c:\\Users\\Federico\\AppData\\Local\\Programs\\Python\\Python312\\Lib\\site-packages\\sklearn\\metrics\\_classification.py:1531: UndefinedMetricWarning: Precision is ill-defined and being set to 0.0 in labels with no predicted samples. Use `zero_division` parameter to control this behavior.\n",
      "  _warn_prf(average, modifier, f\"{metric.capitalize()} is\", len(result))\n",
      "c:\\Users\\Federico\\AppData\\Local\\Programs\\Python\\Python312\\Lib\\site-packages\\sklearn\\metrics\\_classification.py:1531: UndefinedMetricWarning: Precision is ill-defined and being set to 0.0 in labels with no predicted samples. Use `zero_division` parameter to control this behavior.\n",
      "  _warn_prf(average, modifier, f\"{metric.capitalize()} is\", len(result))\n"
     ]
    }
   ],
   "source": [
    "# Definir el modelo arbol de decision con los mejores parametros que encontre\n",
    "rf_model = DecisionTreeClassifier(\n",
    "    criterion= 'entropy',       # criterio\n",
    "    max_depth=8,            # Profundidad máxima de cada árbol\n",
    "    min_samples_split=700,   \n",
    "    min_samples_leaf=86,\n",
    "    max_leaf_nodes= 31,    \n",
    "    random_state=semillas[0]\n",
    ")\n",
    "\n",
    "# Entrenar el modelo\n",
    "rf_model.fit(X_train, y_train)\n",
    "\n",
    "# Predecir sobre el conjunto de prueba\n",
    "y_pred = rf_model.predict(X_test)\n",
    "\n",
    "# Evaluar el modelo\n",
    "print(\"Accuracy:\", accuracy_score(y_test, y_pred))\n",
    "print(\"Classification Report:\")\n",
    "print(classification_report(y_test, y_pred))\n",
    "\n",
    "# Obtener las variables más importantes\n",
    "importances = rf_model.feature_importances_\n",
    "feature_names = X.columns\n",
    "\n",
    "# Crear un DataFrame con las importancias de cada variable\n",
    "importance_df = pd.DataFrame({\n",
    "    'Feature': feature_names,\n",
    "    'Importance': importances\n",
    "}).sort_values(by='Importance', ascending=False)"
   ]
  },
  {
   "cell_type": "code",
   "execution_count": 31,
   "metadata": {},
   "outputs": [
    {
     "data": {
      "text/html": [
       "<div>\n",
       "<style scoped>\n",
       "    .dataframe tbody tr th:only-of-type {\n",
       "        vertical-align: middle;\n",
       "    }\n",
       "\n",
       "    .dataframe tbody tr th {\n",
       "        vertical-align: top;\n",
       "    }\n",
       "\n",
       "    .dataframe thead th {\n",
       "        text-align: right;\n",
       "    }\n",
       "</style>\n",
       "<table border=\"1\" class=\"dataframe\">\n",
       "  <thead>\n",
       "    <tr style=\"text-align: right;\">\n",
       "      <th></th>\n",
       "      <th>Feature</th>\n",
       "      <th>Importance</th>\n",
       "    </tr>\n",
       "  </thead>\n",
       "  <tbody>\n",
       "    <tr>\n",
       "      <th>107</th>\n",
       "      <td>ctrx_quarter</td>\n",
       "      <td>0.467382</td>\n",
       "    </tr>\n",
       "    <tr>\n",
       "      <th>52</th>\n",
       "      <td>mpayroll</td>\n",
       "      <td>0.131074</td>\n",
       "    </tr>\n",
       "    <tr>\n",
       "      <th>22</th>\n",
       "      <td>mcuentas_saldo</td>\n",
       "      <td>0.093377</td>\n",
       "    </tr>\n",
       "    <tr>\n",
       "      <th>33</th>\n",
       "      <td>mprestamos_personales</td>\n",
       "      <td>0.071196</td>\n",
       "    </tr>\n",
       "    <tr>\n",
       "      <th>11</th>\n",
       "      <td>mpasivos_margen</td>\n",
       "      <td>0.058927</td>\n",
       "    </tr>\n",
       "    <tr>\n",
       "      <th>29</th>\n",
       "      <td>ctarjeta_master</td>\n",
       "      <td>0.050536</td>\n",
       "    </tr>\n",
       "    <tr>\n",
       "      <th>137</th>\n",
       "      <td>Visa_msaldototal</td>\n",
       "      <td>0.026079</td>\n",
       "    </tr>\n",
       "    <tr>\n",
       "      <th>27</th>\n",
       "      <td>ctarjeta_visa_transacciones</td>\n",
       "      <td>0.017635</td>\n",
       "    </tr>\n",
       "    <tr>\n",
       "      <th>8</th>\n",
       "      <td>mrentabilidad_annual</td>\n",
       "      <td>0.017540</td>\n",
       "    </tr>\n",
       "    <tr>\n",
       "      <th>16</th>\n",
       "      <td>mcuenta_corriente</td>\n",
       "      <td>0.015618</td>\n",
       "    </tr>\n",
       "    <tr>\n",
       "      <th>18</th>\n",
       "      <td>mcaja_ahorro</td>\n",
       "      <td>0.009783</td>\n",
       "    </tr>\n",
       "    <tr>\n",
       "      <th>150</th>\n",
       "      <td>Visa_mconsumototal</td>\n",
       "      <td>0.008401</td>\n",
       "    </tr>\n",
       "    <tr>\n",
       "      <th>21</th>\n",
       "      <td>cdescubierto_preacordado</td>\n",
       "      <td>0.007276</td>\n",
       "    </tr>\n",
       "    <tr>\n",
       "      <th>127</th>\n",
       "      <td>Master_fechaalta</td>\n",
       "      <td>0.006064</td>\n",
       "    </tr>\n",
       "    <tr>\n",
       "      <th>10</th>\n",
       "      <td>mactivos_margen</td>\n",
       "      <td>0.005927</td>\n",
       "    </tr>\n",
       "    <tr>\n",
       "      <th>72</th>\n",
       "      <td>mcomisiones_mantenimiento</td>\n",
       "      <td>0.005616</td>\n",
       "    </tr>\n",
       "    <tr>\n",
       "      <th>153</th>\n",
       "      <td>Visa_mpagominimo</td>\n",
       "      <td>0.004066</td>\n",
       "    </tr>\n",
       "    <tr>\n",
       "      <th>48</th>\n",
       "      <td>cseguro_vivienda</td>\n",
       "      <td>0.003503</td>\n",
       "    </tr>\n",
       "    <tr>\n",
       "      <th>9</th>\n",
       "      <td>mcomisiones</td>\n",
       "      <td>0.000000</td>\n",
       "    </tr>\n",
       "    <tr>\n",
       "      <th>7</th>\n",
       "      <td>mrentabilidad</td>\n",
       "      <td>0.000000</td>\n",
       "    </tr>\n",
       "    <tr>\n",
       "      <th>6</th>\n",
       "      <td>cliente_antiguedad</td>\n",
       "      <td>0.000000</td>\n",
       "    </tr>\n",
       "    <tr>\n",
       "      <th>5</th>\n",
       "      <td>cliente_edad</td>\n",
       "      <td>0.000000</td>\n",
       "    </tr>\n",
       "    <tr>\n",
       "      <th>3</th>\n",
       "      <td>cliente_vip</td>\n",
       "      <td>0.000000</td>\n",
       "    </tr>\n",
       "    <tr>\n",
       "      <th>2</th>\n",
       "      <td>active_quarter</td>\n",
       "      <td>0.000000</td>\n",
       "    </tr>\n",
       "    <tr>\n",
       "      <th>1</th>\n",
       "      <td>foto_mes</td>\n",
       "      <td>0.000000</td>\n",
       "    </tr>\n",
       "    <tr>\n",
       "      <th>0</th>\n",
       "      <td>numero_de_cliente</td>\n",
       "      <td>0.000000</td>\n",
       "    </tr>\n",
       "    <tr>\n",
       "      <th>25</th>\n",
       "      <td>mautoservicio</td>\n",
       "      <td>0.000000</td>\n",
       "    </tr>\n",
       "    <tr>\n",
       "      <th>24</th>\n",
       "      <td>ctarjeta_debito_transacciones</td>\n",
       "      <td>0.000000</td>\n",
       "    </tr>\n",
       "    <tr>\n",
       "      <th>23</th>\n",
       "      <td>ctarjeta_debito</td>\n",
       "      <td>0.000000</td>\n",
       "    </tr>\n",
       "    <tr>\n",
       "      <th>20</th>\n",
       "      <td>mcaja_ahorro_dolares</td>\n",
       "      <td>0.000000</td>\n",
       "    </tr>\n",
       "  </tbody>\n",
       "</table>\n",
       "</div>"
      ],
      "text/plain": [
       "                           Feature  Importance\n",
       "107                   ctrx_quarter    0.467382\n",
       "52                        mpayroll    0.131074\n",
       "22                  mcuentas_saldo    0.093377\n",
       "33           mprestamos_personales    0.071196\n",
       "11                 mpasivos_margen    0.058927\n",
       "29                 ctarjeta_master    0.050536\n",
       "137               Visa_msaldototal    0.026079\n",
       "27     ctarjeta_visa_transacciones    0.017635\n",
       "8             mrentabilidad_annual    0.017540\n",
       "16               mcuenta_corriente    0.015618\n",
       "18                    mcaja_ahorro    0.009783\n",
       "150             Visa_mconsumototal    0.008401\n",
       "21        cdescubierto_preacordado    0.007276\n",
       "127               Master_fechaalta    0.006064\n",
       "10                 mactivos_margen    0.005927\n",
       "72       mcomisiones_mantenimiento    0.005616\n",
       "153               Visa_mpagominimo    0.004066\n",
       "48                cseguro_vivienda    0.003503\n",
       "9                      mcomisiones    0.000000\n",
       "7                    mrentabilidad    0.000000\n",
       "6               cliente_antiguedad    0.000000\n",
       "5                     cliente_edad    0.000000\n",
       "3                      cliente_vip    0.000000\n",
       "2                   active_quarter    0.000000\n",
       "1                         foto_mes    0.000000\n",
       "0                numero_de_cliente    0.000000\n",
       "25                   mautoservicio    0.000000\n",
       "24   ctarjeta_debito_transacciones    0.000000\n",
       "23                 ctarjeta_debito    0.000000\n",
       "20            mcaja_ahorro_dolares    0.000000"
      ]
     },
     "execution_count": 31,
     "metadata": {},
     "output_type": "execute_result"
    }
   ],
   "source": [
    "importance_df.head(30)"
   ]
  },
  {
   "cell_type": "markdown",
   "metadata": {},
   "source": [
    "## Ahora quiero predecir sobre junio, para eso entreno el modelo con todos los datos de abril "
   ]
  },
  {
   "cell_type": "code",
   "execution_count": 32,
   "metadata": {},
   "outputs": [
    {
     "data": {
      "text/html": [
       "<style>#sk-container-id-2 {\n",
       "  /* Definition of color scheme common for light and dark mode */\n",
       "  --sklearn-color-text: black;\n",
       "  --sklearn-color-line: gray;\n",
       "  /* Definition of color scheme for unfitted estimators */\n",
       "  --sklearn-color-unfitted-level-0: #fff5e6;\n",
       "  --sklearn-color-unfitted-level-1: #f6e4d2;\n",
       "  --sklearn-color-unfitted-level-2: #ffe0b3;\n",
       "  --sklearn-color-unfitted-level-3: chocolate;\n",
       "  /* Definition of color scheme for fitted estimators */\n",
       "  --sklearn-color-fitted-level-0: #f0f8ff;\n",
       "  --sklearn-color-fitted-level-1: #d4ebff;\n",
       "  --sklearn-color-fitted-level-2: #b3dbfd;\n",
       "  --sklearn-color-fitted-level-3: cornflowerblue;\n",
       "\n",
       "  /* Specific color for light theme */\n",
       "  --sklearn-color-text-on-default-background: var(--sg-text-color, var(--theme-code-foreground, var(--jp-content-font-color1, black)));\n",
       "  --sklearn-color-background: var(--sg-background-color, var(--theme-background, var(--jp-layout-color0, white)));\n",
       "  --sklearn-color-border-box: var(--sg-text-color, var(--theme-code-foreground, var(--jp-content-font-color1, black)));\n",
       "  --sklearn-color-icon: #696969;\n",
       "\n",
       "  @media (prefers-color-scheme: dark) {\n",
       "    /* Redefinition of color scheme for dark theme */\n",
       "    --sklearn-color-text-on-default-background: var(--sg-text-color, var(--theme-code-foreground, var(--jp-content-font-color1, white)));\n",
       "    --sklearn-color-background: var(--sg-background-color, var(--theme-background, var(--jp-layout-color0, #111)));\n",
       "    --sklearn-color-border-box: var(--sg-text-color, var(--theme-code-foreground, var(--jp-content-font-color1, white)));\n",
       "    --sklearn-color-icon: #878787;\n",
       "  }\n",
       "}\n",
       "\n",
       "#sk-container-id-2 {\n",
       "  color: var(--sklearn-color-text);\n",
       "}\n",
       "\n",
       "#sk-container-id-2 pre {\n",
       "  padding: 0;\n",
       "}\n",
       "\n",
       "#sk-container-id-2 input.sk-hidden--visually {\n",
       "  border: 0;\n",
       "  clip: rect(1px 1px 1px 1px);\n",
       "  clip: rect(1px, 1px, 1px, 1px);\n",
       "  height: 1px;\n",
       "  margin: -1px;\n",
       "  overflow: hidden;\n",
       "  padding: 0;\n",
       "  position: absolute;\n",
       "  width: 1px;\n",
       "}\n",
       "\n",
       "#sk-container-id-2 div.sk-dashed-wrapped {\n",
       "  border: 1px dashed var(--sklearn-color-line);\n",
       "  margin: 0 0.4em 0.5em 0.4em;\n",
       "  box-sizing: border-box;\n",
       "  padding-bottom: 0.4em;\n",
       "  background-color: var(--sklearn-color-background);\n",
       "}\n",
       "\n",
       "#sk-container-id-2 div.sk-container {\n",
       "  /* jupyter's `normalize.less` sets `[hidden] { display: none; }`\n",
       "     but bootstrap.min.css set `[hidden] { display: none !important; }`\n",
       "     so we also need the `!important` here to be able to override the\n",
       "     default hidden behavior on the sphinx rendered scikit-learn.org.\n",
       "     See: https://github.com/scikit-learn/scikit-learn/issues/21755 */\n",
       "  display: inline-block !important;\n",
       "  position: relative;\n",
       "}\n",
       "\n",
       "#sk-container-id-2 div.sk-text-repr-fallback {\n",
       "  display: none;\n",
       "}\n",
       "\n",
       "div.sk-parallel-item,\n",
       "div.sk-serial,\n",
       "div.sk-item {\n",
       "  /* draw centered vertical line to link estimators */\n",
       "  background-image: linear-gradient(var(--sklearn-color-text-on-default-background), var(--sklearn-color-text-on-default-background));\n",
       "  background-size: 2px 100%;\n",
       "  background-repeat: no-repeat;\n",
       "  background-position: center center;\n",
       "}\n",
       "\n",
       "/* Parallel-specific style estimator block */\n",
       "\n",
       "#sk-container-id-2 div.sk-parallel-item::after {\n",
       "  content: \"\";\n",
       "  width: 100%;\n",
       "  border-bottom: 2px solid var(--sklearn-color-text-on-default-background);\n",
       "  flex-grow: 1;\n",
       "}\n",
       "\n",
       "#sk-container-id-2 div.sk-parallel {\n",
       "  display: flex;\n",
       "  align-items: stretch;\n",
       "  justify-content: center;\n",
       "  background-color: var(--sklearn-color-background);\n",
       "  position: relative;\n",
       "}\n",
       "\n",
       "#sk-container-id-2 div.sk-parallel-item {\n",
       "  display: flex;\n",
       "  flex-direction: column;\n",
       "}\n",
       "\n",
       "#sk-container-id-2 div.sk-parallel-item:first-child::after {\n",
       "  align-self: flex-end;\n",
       "  width: 50%;\n",
       "}\n",
       "\n",
       "#sk-container-id-2 div.sk-parallel-item:last-child::after {\n",
       "  align-self: flex-start;\n",
       "  width: 50%;\n",
       "}\n",
       "\n",
       "#sk-container-id-2 div.sk-parallel-item:only-child::after {\n",
       "  width: 0;\n",
       "}\n",
       "\n",
       "/* Serial-specific style estimator block */\n",
       "\n",
       "#sk-container-id-2 div.sk-serial {\n",
       "  display: flex;\n",
       "  flex-direction: column;\n",
       "  align-items: center;\n",
       "  background-color: var(--sklearn-color-background);\n",
       "  padding-right: 1em;\n",
       "  padding-left: 1em;\n",
       "}\n",
       "\n",
       "\n",
       "/* Toggleable style: style used for estimator/Pipeline/ColumnTransformer box that is\n",
       "clickable and can be expanded/collapsed.\n",
       "- Pipeline and ColumnTransformer use this feature and define the default style\n",
       "- Estimators will overwrite some part of the style using the `sk-estimator` class\n",
       "*/\n",
       "\n",
       "/* Pipeline and ColumnTransformer style (default) */\n",
       "\n",
       "#sk-container-id-2 div.sk-toggleable {\n",
       "  /* Default theme specific background. It is overwritten whether we have a\n",
       "  specific estimator or a Pipeline/ColumnTransformer */\n",
       "  background-color: var(--sklearn-color-background);\n",
       "}\n",
       "\n",
       "/* Toggleable label */\n",
       "#sk-container-id-2 label.sk-toggleable__label {\n",
       "  cursor: pointer;\n",
       "  display: block;\n",
       "  width: 100%;\n",
       "  margin-bottom: 0;\n",
       "  padding: 0.5em;\n",
       "  box-sizing: border-box;\n",
       "  text-align: center;\n",
       "}\n",
       "\n",
       "#sk-container-id-2 label.sk-toggleable__label-arrow:before {\n",
       "  /* Arrow on the left of the label */\n",
       "  content: \"▸\";\n",
       "  float: left;\n",
       "  margin-right: 0.25em;\n",
       "  color: var(--sklearn-color-icon);\n",
       "}\n",
       "\n",
       "#sk-container-id-2 label.sk-toggleable__label-arrow:hover:before {\n",
       "  color: var(--sklearn-color-text);\n",
       "}\n",
       "\n",
       "/* Toggleable content - dropdown */\n",
       "\n",
       "#sk-container-id-2 div.sk-toggleable__content {\n",
       "  max-height: 0;\n",
       "  max-width: 0;\n",
       "  overflow: hidden;\n",
       "  text-align: left;\n",
       "  /* unfitted */\n",
       "  background-color: var(--sklearn-color-unfitted-level-0);\n",
       "}\n",
       "\n",
       "#sk-container-id-2 div.sk-toggleable__content.fitted {\n",
       "  /* fitted */\n",
       "  background-color: var(--sklearn-color-fitted-level-0);\n",
       "}\n",
       "\n",
       "#sk-container-id-2 div.sk-toggleable__content pre {\n",
       "  margin: 0.2em;\n",
       "  border-radius: 0.25em;\n",
       "  color: var(--sklearn-color-text);\n",
       "  /* unfitted */\n",
       "  background-color: var(--sklearn-color-unfitted-level-0);\n",
       "}\n",
       "\n",
       "#sk-container-id-2 div.sk-toggleable__content.fitted pre {\n",
       "  /* unfitted */\n",
       "  background-color: var(--sklearn-color-fitted-level-0);\n",
       "}\n",
       "\n",
       "#sk-container-id-2 input.sk-toggleable__control:checked~div.sk-toggleable__content {\n",
       "  /* Expand drop-down */\n",
       "  max-height: 200px;\n",
       "  max-width: 100%;\n",
       "  overflow: auto;\n",
       "}\n",
       "\n",
       "#sk-container-id-2 input.sk-toggleable__control:checked~label.sk-toggleable__label-arrow:before {\n",
       "  content: \"▾\";\n",
       "}\n",
       "\n",
       "/* Pipeline/ColumnTransformer-specific style */\n",
       "\n",
       "#sk-container-id-2 div.sk-label input.sk-toggleable__control:checked~label.sk-toggleable__label {\n",
       "  color: var(--sklearn-color-text);\n",
       "  background-color: var(--sklearn-color-unfitted-level-2);\n",
       "}\n",
       "\n",
       "#sk-container-id-2 div.sk-label.fitted input.sk-toggleable__control:checked~label.sk-toggleable__label {\n",
       "  background-color: var(--sklearn-color-fitted-level-2);\n",
       "}\n",
       "\n",
       "/* Estimator-specific style */\n",
       "\n",
       "/* Colorize estimator box */\n",
       "#sk-container-id-2 div.sk-estimator input.sk-toggleable__control:checked~label.sk-toggleable__label {\n",
       "  /* unfitted */\n",
       "  background-color: var(--sklearn-color-unfitted-level-2);\n",
       "}\n",
       "\n",
       "#sk-container-id-2 div.sk-estimator.fitted input.sk-toggleable__control:checked~label.sk-toggleable__label {\n",
       "  /* fitted */\n",
       "  background-color: var(--sklearn-color-fitted-level-2);\n",
       "}\n",
       "\n",
       "#sk-container-id-2 div.sk-label label.sk-toggleable__label,\n",
       "#sk-container-id-2 div.sk-label label {\n",
       "  /* The background is the default theme color */\n",
       "  color: var(--sklearn-color-text-on-default-background);\n",
       "}\n",
       "\n",
       "/* On hover, darken the color of the background */\n",
       "#sk-container-id-2 div.sk-label:hover label.sk-toggleable__label {\n",
       "  color: var(--sklearn-color-text);\n",
       "  background-color: var(--sklearn-color-unfitted-level-2);\n",
       "}\n",
       "\n",
       "/* Label box, darken color on hover, fitted */\n",
       "#sk-container-id-2 div.sk-label.fitted:hover label.sk-toggleable__label.fitted {\n",
       "  color: var(--sklearn-color-text);\n",
       "  background-color: var(--sklearn-color-fitted-level-2);\n",
       "}\n",
       "\n",
       "/* Estimator label */\n",
       "\n",
       "#sk-container-id-2 div.sk-label label {\n",
       "  font-family: monospace;\n",
       "  font-weight: bold;\n",
       "  display: inline-block;\n",
       "  line-height: 1.2em;\n",
       "}\n",
       "\n",
       "#sk-container-id-2 div.sk-label-container {\n",
       "  text-align: center;\n",
       "}\n",
       "\n",
       "/* Estimator-specific */\n",
       "#sk-container-id-2 div.sk-estimator {\n",
       "  font-family: monospace;\n",
       "  border: 1px dotted var(--sklearn-color-border-box);\n",
       "  border-radius: 0.25em;\n",
       "  box-sizing: border-box;\n",
       "  margin-bottom: 0.5em;\n",
       "  /* unfitted */\n",
       "  background-color: var(--sklearn-color-unfitted-level-0);\n",
       "}\n",
       "\n",
       "#sk-container-id-2 div.sk-estimator.fitted {\n",
       "  /* fitted */\n",
       "  background-color: var(--sklearn-color-fitted-level-0);\n",
       "}\n",
       "\n",
       "/* on hover */\n",
       "#sk-container-id-2 div.sk-estimator:hover {\n",
       "  /* unfitted */\n",
       "  background-color: var(--sklearn-color-unfitted-level-2);\n",
       "}\n",
       "\n",
       "#sk-container-id-2 div.sk-estimator.fitted:hover {\n",
       "  /* fitted */\n",
       "  background-color: var(--sklearn-color-fitted-level-2);\n",
       "}\n",
       "\n",
       "/* Specification for estimator info (e.g. \"i\" and \"?\") */\n",
       "\n",
       "/* Common style for \"i\" and \"?\" */\n",
       "\n",
       ".sk-estimator-doc-link,\n",
       "a:link.sk-estimator-doc-link,\n",
       "a:visited.sk-estimator-doc-link {\n",
       "  float: right;\n",
       "  font-size: smaller;\n",
       "  line-height: 1em;\n",
       "  font-family: monospace;\n",
       "  background-color: var(--sklearn-color-background);\n",
       "  border-radius: 1em;\n",
       "  height: 1em;\n",
       "  width: 1em;\n",
       "  text-decoration: none !important;\n",
       "  margin-left: 1ex;\n",
       "  /* unfitted */\n",
       "  border: var(--sklearn-color-unfitted-level-1) 1pt solid;\n",
       "  color: var(--sklearn-color-unfitted-level-1);\n",
       "}\n",
       "\n",
       ".sk-estimator-doc-link.fitted,\n",
       "a:link.sk-estimator-doc-link.fitted,\n",
       "a:visited.sk-estimator-doc-link.fitted {\n",
       "  /* fitted */\n",
       "  border: var(--sklearn-color-fitted-level-1) 1pt solid;\n",
       "  color: var(--sklearn-color-fitted-level-1);\n",
       "}\n",
       "\n",
       "/* On hover */\n",
       "div.sk-estimator:hover .sk-estimator-doc-link:hover,\n",
       ".sk-estimator-doc-link:hover,\n",
       "div.sk-label-container:hover .sk-estimator-doc-link:hover,\n",
       ".sk-estimator-doc-link:hover {\n",
       "  /* unfitted */\n",
       "  background-color: var(--sklearn-color-unfitted-level-3);\n",
       "  color: var(--sklearn-color-background);\n",
       "  text-decoration: none;\n",
       "}\n",
       "\n",
       "div.sk-estimator.fitted:hover .sk-estimator-doc-link.fitted:hover,\n",
       ".sk-estimator-doc-link.fitted:hover,\n",
       "div.sk-label-container:hover .sk-estimator-doc-link.fitted:hover,\n",
       ".sk-estimator-doc-link.fitted:hover {\n",
       "  /* fitted */\n",
       "  background-color: var(--sklearn-color-fitted-level-3);\n",
       "  color: var(--sklearn-color-background);\n",
       "  text-decoration: none;\n",
       "}\n",
       "\n",
       "/* Span, style for the box shown on hovering the info icon */\n",
       ".sk-estimator-doc-link span {\n",
       "  display: none;\n",
       "  z-index: 9999;\n",
       "  position: relative;\n",
       "  font-weight: normal;\n",
       "  right: .2ex;\n",
       "  padding: .5ex;\n",
       "  margin: .5ex;\n",
       "  width: min-content;\n",
       "  min-width: 20ex;\n",
       "  max-width: 50ex;\n",
       "  color: var(--sklearn-color-text);\n",
       "  box-shadow: 2pt 2pt 4pt #999;\n",
       "  /* unfitted */\n",
       "  background: var(--sklearn-color-unfitted-level-0);\n",
       "  border: .5pt solid var(--sklearn-color-unfitted-level-3);\n",
       "}\n",
       "\n",
       ".sk-estimator-doc-link.fitted span {\n",
       "  /* fitted */\n",
       "  background: var(--sklearn-color-fitted-level-0);\n",
       "  border: var(--sklearn-color-fitted-level-3);\n",
       "}\n",
       "\n",
       ".sk-estimator-doc-link:hover span {\n",
       "  display: block;\n",
       "}\n",
       "\n",
       "/* \"?\"-specific style due to the `<a>` HTML tag */\n",
       "\n",
       "#sk-container-id-2 a.estimator_doc_link {\n",
       "  float: right;\n",
       "  font-size: 1rem;\n",
       "  line-height: 1em;\n",
       "  font-family: monospace;\n",
       "  background-color: var(--sklearn-color-background);\n",
       "  border-radius: 1rem;\n",
       "  height: 1rem;\n",
       "  width: 1rem;\n",
       "  text-decoration: none;\n",
       "  /* unfitted */\n",
       "  color: var(--sklearn-color-unfitted-level-1);\n",
       "  border: var(--sklearn-color-unfitted-level-1) 1pt solid;\n",
       "}\n",
       "\n",
       "#sk-container-id-2 a.estimator_doc_link.fitted {\n",
       "  /* fitted */\n",
       "  border: var(--sklearn-color-fitted-level-1) 1pt solid;\n",
       "  color: var(--sklearn-color-fitted-level-1);\n",
       "}\n",
       "\n",
       "/* On hover */\n",
       "#sk-container-id-2 a.estimator_doc_link:hover {\n",
       "  /* unfitted */\n",
       "  background-color: var(--sklearn-color-unfitted-level-3);\n",
       "  color: var(--sklearn-color-background);\n",
       "  text-decoration: none;\n",
       "}\n",
       "\n",
       "#sk-container-id-2 a.estimator_doc_link.fitted:hover {\n",
       "  /* fitted */\n",
       "  background-color: var(--sklearn-color-fitted-level-3);\n",
       "}\n",
       "</style><div id=\"sk-container-id-2\" class=\"sk-top-container\"><div class=\"sk-text-repr-fallback\"><pre>DecisionTreeClassifier(criterion=&#x27;entropy&#x27;, max_depth=8, max_leaf_nodes=31,\n",
       "                       min_samples_leaf=86, min_samples_split=700,\n",
       "                       random_state=540079)</pre><b>In a Jupyter environment, please rerun this cell to show the HTML representation or trust the notebook. <br />On GitHub, the HTML representation is unable to render, please try loading this page with nbviewer.org.</b></div><div class=\"sk-container\" hidden><div class=\"sk-item\"><div class=\"sk-estimator fitted sk-toggleable\"><input class=\"sk-toggleable__control sk-hidden--visually\" id=\"sk-estimator-id-2\" type=\"checkbox\" checked><label for=\"sk-estimator-id-2\" class=\"sk-toggleable__label fitted sk-toggleable__label-arrow fitted\">&nbsp;&nbsp;DecisionTreeClassifier<a class=\"sk-estimator-doc-link fitted\" rel=\"noreferrer\" target=\"_blank\" href=\"https://scikit-learn.org/1.5/modules/generated/sklearn.tree.DecisionTreeClassifier.html\">?<span>Documentation for DecisionTreeClassifier</span></a><span class=\"sk-estimator-doc-link fitted\">i<span>Fitted</span></span></label><div class=\"sk-toggleable__content fitted\"><pre>DecisionTreeClassifier(criterion=&#x27;entropy&#x27;, max_depth=8, max_leaf_nodes=31,\n",
       "                       min_samples_leaf=86, min_samples_split=700,\n",
       "                       random_state=540079)</pre></div> </div></div></div></div>"
      ],
      "text/plain": [
       "DecisionTreeClassifier(criterion='entropy', max_depth=8, max_leaf_nodes=31,\n",
       "                       min_samples_leaf=86, min_samples_split=700,\n",
       "                       random_state=540079)"
      ]
     },
     "execution_count": 32,
     "metadata": {},
     "output_type": "execute_result"
    }
   ],
   "source": [
    "# Entrenar el modelo con todos los datos de abril\n",
    "rf_model.fit(X, y)"
   ]
  },
  {
   "cell_type": "code",
   "execution_count": 33,
   "metadata": {},
   "outputs": [],
   "source": [
    "X_predecir = predecir.drop(columns=['clase_ternaria'])  # Variables predictoras"
   ]
  },
  {
   "cell_type": "code",
   "execution_count": 34,
   "metadata": {},
   "outputs": [],
   "source": [
    "y_pred = rf_model.predict_proba(X_predecir)"
   ]
  },
  {
   "cell_type": "code",
   "execution_count": 35,
   "metadata": {},
   "outputs": [
    {
     "data": {
      "text/plain": [
       "array([[2.26250031e-04, 3.14236155e-04, 9.99459514e-01],\n",
       "       [1.06882290e-03, 1.48705795e-03, 9.97444119e-01],\n",
       "       [1.06882290e-03, 1.48705795e-03, 9.97444119e-01],\n",
       "       ...,\n",
       "       [1.06882290e-03, 1.48705795e-03, 9.97444119e-01],\n",
       "       [9.91831972e-03, 7.00116686e-03, 9.83080513e-01],\n",
       "       [2.26250031e-04, 3.14236155e-04, 9.99459514e-01]])"
      ]
     },
     "execution_count": 35,
     "metadata": {},
     "output_type": "execute_result"
    }
   ],
   "source": [
    "y_pred"
   ]
  },
  {
   "cell_type": "code",
   "execution_count": 36,
   "metadata": {},
   "outputs": [
    {
     "name": "stderr",
     "output_type": "stream",
     "text": [
      "C:\\Users\\Federico\\AppData\\Local\\Temp\\ipykernel_14972\\2009958921.py:6: SettingWithCopyWarning: \n",
      "A value is trying to be set on a copy of a slice from a DataFrame.\n",
      "Try using .loc[row_indexer,col_indexer] = value instead\n",
      "\n",
      "See the caveats in the documentation: https://pandas.pydata.org/pandas-docs/stable/user_guide/indexing.html#returning-a-view-versus-a-copy\n",
      "  predecir['prob_baja2'] = prediccion_df['BAJA+2']\n",
      "C:\\Users\\Federico\\AppData\\Local\\Temp\\ipykernel_14972\\2009958921.py:9: SettingWithCopyWarning: \n",
      "A value is trying to be set on a copy of a slice from a DataFrame.\n",
      "Try using .loc[row_indexer,col_indexer] = value instead\n",
      "\n",
      "See the caveats in the documentation: https://pandas.pydata.org/pandas-docs/stable/user_guide/indexing.html#returning-a-view-versus-a-copy\n",
      "  predecir['Predicted'] = (predecir['prob_baja2'] > 1 / 40).astype(int)\n"
     ]
    }
   ],
   "source": [
    "import os\n",
    "# Convertir las predicciones a un DataFrame para fácil manejo\n",
    "prediccion_df = pd.DataFrame(y_pred, columns=rf_model.classes_)\n",
    "\n",
    "# Agregar la probabilidad de 'BAJA+2' al dataframe de aplicación\n",
    "predecir['prob_baja2'] = prediccion_df['BAJA+2']\n",
    "\n",
    "# Crear la columna 'Predicted' donde la probabilidad de 'BAJA+2' sea mayor a 1/40\n",
    "predecir['Predicted'] = (predecir['prob_baja2'] > 1 / 40).astype(int)\n",
    "\n",
    "# Generar el archivo para Kaggles\n",
    "# Crear el directorio si no existe\n",
    "os.makedirs(\"./exp/KA2001\", exist_ok=True)\n",
    "\n",
    "# Seleccionar solo los campos necesarios para Kaggle\n",
    "kaggle_submission = predecir[['numero_de_cliente', 'Predicted']]\n",
    "\n",
    "# Guardar el archivo\n",
    "kaggle_submission.to_csv(\"./exp/KA2001/K101_003.csv\", index=False, sep=\",\")"
   ]
  },
  {
   "cell_type": "code",
   "execution_count": 41,
   "metadata": {},
   "outputs": [
    {
     "data": {
      "text/html": [
       "<div>\n",
       "<style scoped>\n",
       "    .dataframe tbody tr th:only-of-type {\n",
       "        vertical-align: middle;\n",
       "    }\n",
       "\n",
       "    .dataframe tbody tr th {\n",
       "        vertical-align: top;\n",
       "    }\n",
       "\n",
       "    .dataframe thead th {\n",
       "        text-align: right;\n",
       "    }\n",
       "</style>\n",
       "<table border=\"1\" class=\"dataframe\">\n",
       "  <thead>\n",
       "    <tr style=\"text-align: right;\">\n",
       "      <th></th>\n",
       "      <th>numero_de_cliente</th>\n",
       "      <th>foto_mes</th>\n",
       "      <th>active_quarter</th>\n",
       "      <th>cliente_vip</th>\n",
       "      <th>internet</th>\n",
       "      <th>cliente_edad</th>\n",
       "      <th>cliente_antiguedad</th>\n",
       "      <th>mrentabilidad</th>\n",
       "      <th>mrentabilidad_annual</th>\n",
       "      <th>mcomisiones</th>\n",
       "      <th>...</th>\n",
       "      <th>Visa_mpagosdolares</th>\n",
       "      <th>Visa_fechaalta</th>\n",
       "      <th>Visa_mconsumototal</th>\n",
       "      <th>Visa_cconsumos</th>\n",
       "      <th>Visa_cadelantosefectivo</th>\n",
       "      <th>Visa_mpagominimo</th>\n",
       "      <th>clase_ternaria</th>\n",
       "      <th>clase_binaria</th>\n",
       "      <th>prob_baja</th>\n",
       "      <th>Predicted</th>\n",
       "    </tr>\n",
       "  </thead>\n",
       "  <tbody>\n",
       "    <tr>\n",
       "      <th>23</th>\n",
       "      <td>250892233</td>\n",
       "      <td>202106</td>\n",
       "      <td>1</td>\n",
       "      <td>0</td>\n",
       "      <td>0</td>\n",
       "      <td>69</td>\n",
       "      <td>325</td>\n",
       "      <td>898.92</td>\n",
       "      <td>-4775.41</td>\n",
       "      <td>315.37</td>\n",
       "      <td>...</td>\n",
       "      <td>NaN</td>\n",
       "      <td>314.0</td>\n",
       "      <td>NaN</td>\n",
       "      <td>NaN</td>\n",
       "      <td>NaN</td>\n",
       "      <td>0.00</td>\n",
       "      <td>NaN</td>\n",
       "      <td>1</td>\n",
       "      <td>0.026667</td>\n",
       "      <td>1</td>\n",
       "    </tr>\n",
       "    <tr>\n",
       "      <th>57</th>\n",
       "      <td>252966056</td>\n",
       "      <td>202106</td>\n",
       "      <td>1</td>\n",
       "      <td>0</td>\n",
       "      <td>0</td>\n",
       "      <td>56</td>\n",
       "      <td>218</td>\n",
       "      <td>1924.55</td>\n",
       "      <td>31626.42</td>\n",
       "      <td>4114.42</td>\n",
       "      <td>...</td>\n",
       "      <td>0.00</td>\n",
       "      <td>8661.0</td>\n",
       "      <td>27764.42</td>\n",
       "      <td>8.0</td>\n",
       "      <td>0.0</td>\n",
       "      <td>5313.69</td>\n",
       "      <td>NaN</td>\n",
       "      <td>1</td>\n",
       "      <td>0.060870</td>\n",
       "      <td>1</td>\n",
       "    </tr>\n",
       "    <tr>\n",
       "      <th>87</th>\n",
       "      <td>255614475</td>\n",
       "      <td>202106</td>\n",
       "      <td>1</td>\n",
       "      <td>0</td>\n",
       "      <td>0</td>\n",
       "      <td>65</td>\n",
       "      <td>283</td>\n",
       "      <td>5732.54</td>\n",
       "      <td>41402.14</td>\n",
       "      <td>746.84</td>\n",
       "      <td>...</td>\n",
       "      <td>0.00</td>\n",
       "      <td>6128.0</td>\n",
       "      <td>12695.07</td>\n",
       "      <td>7.0</td>\n",
       "      <td>0.0</td>\n",
       "      <td>656.88</td>\n",
       "      <td>NaN</td>\n",
       "      <td>1</td>\n",
       "      <td>0.060694</td>\n",
       "      <td>1</td>\n",
       "    </tr>\n",
       "    <tr>\n",
       "      <th>158</th>\n",
       "      <td>259824701</td>\n",
       "      <td>202106</td>\n",
       "      <td>1</td>\n",
       "      <td>0</td>\n",
       "      <td>0</td>\n",
       "      <td>56</td>\n",
       "      <td>79</td>\n",
       "      <td>1016.80</td>\n",
       "      <td>-1740.48</td>\n",
       "      <td>737.50</td>\n",
       "      <td>...</td>\n",
       "      <td>0.00</td>\n",
       "      <td>2347.0</td>\n",
       "      <td>5728.81</td>\n",
       "      <td>4.0</td>\n",
       "      <td>0.0</td>\n",
       "      <td>480.93</td>\n",
       "      <td>NaN</td>\n",
       "      <td>1</td>\n",
       "      <td>0.060870</td>\n",
       "      <td>1</td>\n",
       "    </tr>\n",
       "    <tr>\n",
       "      <th>218</th>\n",
       "      <td>264937841</td>\n",
       "      <td>202106</td>\n",
       "      <td>1</td>\n",
       "      <td>0</td>\n",
       "      <td>0</td>\n",
       "      <td>49</td>\n",
       "      <td>159</td>\n",
       "      <td>-74.32</td>\n",
       "      <td>7306.47</td>\n",
       "      <td>3147.26</td>\n",
       "      <td>...</td>\n",
       "      <td>0.00</td>\n",
       "      <td>4816.0</td>\n",
       "      <td>1489.47</td>\n",
       "      <td>4.0</td>\n",
       "      <td>0.0</td>\n",
       "      <td>7002.81</td>\n",
       "      <td>NaN</td>\n",
       "      <td>1</td>\n",
       "      <td>0.083984</td>\n",
       "      <td>1</td>\n",
       "    </tr>\n",
       "    <tr>\n",
       "      <th>...</th>\n",
       "      <td>...</td>\n",
       "      <td>...</td>\n",
       "      <td>...</td>\n",
       "      <td>...</td>\n",
       "      <td>...</td>\n",
       "      <td>...</td>\n",
       "      <td>...</td>\n",
       "      <td>...</td>\n",
       "      <td>...</td>\n",
       "      <td>...</td>\n",
       "      <td>...</td>\n",
       "      <td>...</td>\n",
       "      <td>...</td>\n",
       "      <td>...</td>\n",
       "      <td>...</td>\n",
       "      <td>...</td>\n",
       "      <td>...</td>\n",
       "      <td>...</td>\n",
       "      <td>...</td>\n",
       "      <td>...</td>\n",
       "      <td>...</td>\n",
       "    </tr>\n",
       "    <tr>\n",
       "      <th>164659</th>\n",
       "      <td>329821777</td>\n",
       "      <td>202106</td>\n",
       "      <td>1</td>\n",
       "      <td>0</td>\n",
       "      <td>0</td>\n",
       "      <td>48</td>\n",
       "      <td>265</td>\n",
       "      <td>5945.80</td>\n",
       "      <td>58356.22</td>\n",
       "      <td>3397.81</td>\n",
       "      <td>...</td>\n",
       "      <td>1.16</td>\n",
       "      <td>7909.0</td>\n",
       "      <td>7184.12</td>\n",
       "      <td>4.0</td>\n",
       "      <td>0.0</td>\n",
       "      <td>1653.93</td>\n",
       "      <td>NaN</td>\n",
       "      <td>1</td>\n",
       "      <td>0.026667</td>\n",
       "      <td>1</td>\n",
       "    </tr>\n",
       "    <tr>\n",
       "      <th>164677</th>\n",
       "      <td>331819759</td>\n",
       "      <td>202106</td>\n",
       "      <td>1</td>\n",
       "      <td>0</td>\n",
       "      <td>0</td>\n",
       "      <td>72</td>\n",
       "      <td>296</td>\n",
       "      <td>2730.62</td>\n",
       "      <td>30327.77</td>\n",
       "      <td>3026.83</td>\n",
       "      <td>...</td>\n",
       "      <td>0.00</td>\n",
       "      <td>8990.0</td>\n",
       "      <td>52955.81</td>\n",
       "      <td>19.0</td>\n",
       "      <td>0.0</td>\n",
       "      <td>2744.82</td>\n",
       "      <td>NaN</td>\n",
       "      <td>1</td>\n",
       "      <td>0.083984</td>\n",
       "      <td>1</td>\n",
       "    </tr>\n",
       "    <tr>\n",
       "      <th>164695</th>\n",
       "      <td>332496302</td>\n",
       "      <td>202106</td>\n",
       "      <td>1</td>\n",
       "      <td>0</td>\n",
       "      <td>0</td>\n",
       "      <td>42</td>\n",
       "      <td>177</td>\n",
       "      <td>-498.60</td>\n",
       "      <td>-2193.25</td>\n",
       "      <td>797.59</td>\n",
       "      <td>...</td>\n",
       "      <td>34.39</td>\n",
       "      <td>5344.0</td>\n",
       "      <td>36799.83</td>\n",
       "      <td>19.0</td>\n",
       "      <td>0.0</td>\n",
       "      <td>6439.77</td>\n",
       "      <td>NaN</td>\n",
       "      <td>1</td>\n",
       "      <td>0.066007</td>\n",
       "      <td>1</td>\n",
       "    </tr>\n",
       "    <tr>\n",
       "      <th>164749</th>\n",
       "      <td>339121872</td>\n",
       "      <td>202106</td>\n",
       "      <td>1</td>\n",
       "      <td>0</td>\n",
       "      <td>0</td>\n",
       "      <td>55</td>\n",
       "      <td>378</td>\n",
       "      <td>547.26</td>\n",
       "      <td>28134.24</td>\n",
       "      <td>27.84</td>\n",
       "      <td>...</td>\n",
       "      <td>0.00</td>\n",
       "      <td>9365.0</td>\n",
       "      <td>2457.43</td>\n",
       "      <td>1.0</td>\n",
       "      <td>0.0</td>\n",
       "      <td>117.30</td>\n",
       "      <td>NaN</td>\n",
       "      <td>1</td>\n",
       "      <td>0.083172</td>\n",
       "      <td>1</td>\n",
       "    </tr>\n",
       "    <tr>\n",
       "      <th>164808</th>\n",
       "      <td>346739904</td>\n",
       "      <td>202106</td>\n",
       "      <td>1</td>\n",
       "      <td>0</td>\n",
       "      <td>0</td>\n",
       "      <td>55</td>\n",
       "      <td>325</td>\n",
       "      <td>2068.82</td>\n",
       "      <td>12905.73</td>\n",
       "      <td>761.10</td>\n",
       "      <td>...</td>\n",
       "      <td>0.00</td>\n",
       "      <td>5496.0</td>\n",
       "      <td>6003.95</td>\n",
       "      <td>10.0</td>\n",
       "      <td>0.0</td>\n",
       "      <td>5876.73</td>\n",
       "      <td>NaN</td>\n",
       "      <td>1</td>\n",
       "      <td>0.132394</td>\n",
       "      <td>1</td>\n",
       "    </tr>\n",
       "  </tbody>\n",
       "</table>\n",
       "<p>3095 rows × 158 columns</p>\n",
       "</div>"
      ],
      "text/plain": [
       "        numero_de_cliente  foto_mes  active_quarter  cliente_vip  internet  \\\n",
       "23              250892233    202106               1            0         0   \n",
       "57              252966056    202106               1            0         0   \n",
       "87              255614475    202106               1            0         0   \n",
       "158             259824701    202106               1            0         0   \n",
       "218             264937841    202106               1            0         0   \n",
       "...                   ...       ...             ...          ...       ...   \n",
       "164659          329821777    202106               1            0         0   \n",
       "164677          331819759    202106               1            0         0   \n",
       "164695          332496302    202106               1            0         0   \n",
       "164749          339121872    202106               1            0         0   \n",
       "164808          346739904    202106               1            0         0   \n",
       "\n",
       "        cliente_edad  cliente_antiguedad  mrentabilidad  mrentabilidad_annual  \\\n",
       "23                69                 325         898.92              -4775.41   \n",
       "57                56                 218        1924.55              31626.42   \n",
       "87                65                 283        5732.54              41402.14   \n",
       "158               56                  79        1016.80              -1740.48   \n",
       "218               49                 159         -74.32               7306.47   \n",
       "...              ...                 ...            ...                   ...   \n",
       "164659            48                 265        5945.80              58356.22   \n",
       "164677            72                 296        2730.62              30327.77   \n",
       "164695            42                 177        -498.60              -2193.25   \n",
       "164749            55                 378         547.26              28134.24   \n",
       "164808            55                 325        2068.82              12905.73   \n",
       "\n",
       "        mcomisiones  ...  Visa_mpagosdolares  Visa_fechaalta  \\\n",
       "23           315.37  ...                 NaN           314.0   \n",
       "57          4114.42  ...                0.00          8661.0   \n",
       "87           746.84  ...                0.00          6128.0   \n",
       "158          737.50  ...                0.00          2347.0   \n",
       "218         3147.26  ...                0.00          4816.0   \n",
       "...             ...  ...                 ...             ...   \n",
       "164659      3397.81  ...                1.16          7909.0   \n",
       "164677      3026.83  ...                0.00          8990.0   \n",
       "164695       797.59  ...               34.39          5344.0   \n",
       "164749        27.84  ...                0.00          9365.0   \n",
       "164808       761.10  ...                0.00          5496.0   \n",
       "\n",
       "        Visa_mconsumototal  Visa_cconsumos  Visa_cadelantosefectivo  \\\n",
       "23                     NaN             NaN                      NaN   \n",
       "57                27764.42             8.0                      0.0   \n",
       "87                12695.07             7.0                      0.0   \n",
       "158                5728.81             4.0                      0.0   \n",
       "218                1489.47             4.0                      0.0   \n",
       "...                    ...             ...                      ...   \n",
       "164659             7184.12             4.0                      0.0   \n",
       "164677            52955.81            19.0                      0.0   \n",
       "164695            36799.83            19.0                      0.0   \n",
       "164749             2457.43             1.0                      0.0   \n",
       "164808             6003.95            10.0                      0.0   \n",
       "\n",
       "        Visa_mpagominimo  clase_ternaria  clase_binaria  prob_baja  Predicted  \n",
       "23                  0.00             NaN              1   0.026667          1  \n",
       "57               5313.69             NaN              1   0.060870          1  \n",
       "87                656.88             NaN              1   0.060694          1  \n",
       "158               480.93             NaN              1   0.060870          1  \n",
       "218              7002.81             NaN              1   0.083984          1  \n",
       "...                  ...             ...            ...        ...        ...  \n",
       "164659           1653.93             NaN              1   0.026667          1  \n",
       "164677           2744.82             NaN              1   0.083984          1  \n",
       "164695           6439.77             NaN              1   0.066007          1  \n",
       "164749            117.30             NaN              1   0.083172          1  \n",
       "164808           5876.73             NaN              1   0.132394          1  \n",
       "\n",
       "[3095 rows x 158 columns]"
      ]
     },
     "execution_count": 41,
     "metadata": {},
     "output_type": "execute_result"
    }
   ],
   "source": [
    "predecir[predecir['Predicted']==1]"
   ]
  },
  {
   "cell_type": "code",
   "execution_count": null,
   "metadata": {},
   "outputs": [],
   "source": [
    "# me da tan mal que empizo de nuevo, unifico las clases baja+1 y baja+2"
   ]
  },
  {
   "cell_type": "code",
   "execution_count": 16,
   "metadata": {},
   "outputs": [],
   "source": [
    "df['clase_binaria'] = df['clase_ternaria'].apply(lambda x: 0 if x == 'CONTINUA' else 1)\n",
    "\n",
    "train= df[df['foto_mes'] == mes_train]\n",
    "predecir = df[df['foto_mes'] == mes_test]\n",
    "\n",
    "# Separar las características y el target\n",
    "X = train.drop(columns=['clase_ternaria',\"clase_binaria\"])  # Variables predictoras\n",
    "y = train['clase_binaria']  # Variable objetivo\n",
    "\n",
    "# Dividir los datos en entrenamiento y prueba\n",
    "X_train, X_test, y_train, y_test = train_test_split(X, y, test_size=0.2, random_state=semillas[0])"
   ]
  },
  {
   "cell_type": "code",
   "execution_count": 20,
   "metadata": {},
   "outputs": [
    {
     "name": "stderr",
     "output_type": "stream",
     "text": [
      "[I 2024-09-12 00:04:32,587] A new study created in memory with name: exp_101_decision-tree-opt\n"
     ]
    }
   ],
   "source": [
    "sss_opt = ShuffleSplit(n_splits=5, test_size=0.3, random_state=semillas[1])\n",
    "\n",
    "def objective(trial, X, y, sss):\n",
    "  criterion = trial.suggest_categorical('criterion', ['gini', 'entropy'])\n",
    "  max_depth = trial.suggest_int('max_depth', 2, 20)\n",
    "  min_samples_split = trial.suggest_int('min_samples_split', 2, 150)\n",
    "  min_samples_leaf = trial.suggest_int('min_samples_leaf', 1, 150)\n",
    "  max_leaf_nodes = trial.suggest_int('max_leaf_nodes', 2, 150)\n",
    "\n",
    "  def train_and_evaluate(train_index, test_index, X, y):\n",
    "    m = DecisionTreeClassifier(\n",
    "        criterion=criterion,\n",
    "        max_depth=max_depth,\n",
    "        min_samples_split=min_samples_split,\n",
    "        min_samples_leaf=min_samples_leaf,\n",
    "        max_leaf_nodes=max_leaf_nodes,\n",
    "        random_state=semillas[0],\n",
    "    )\n",
    "    m.fit(X.iloc[train_index],y.iloc[train_index])\n",
    "    ganancia_value = ganancia(m, X.iloc[test_index], y.iloc[test_index], prop=0.3)\n",
    "    return ganancia_value\n",
    "\n",
    "  results = Parallel(n_jobs=-1)(\n",
    "      delayed(train_and_evaluate)(train_index, test_index, X, y)\n",
    "      for train_index, test_index in sss.split(X)\n",
    "  )\n",
    "\n",
    "  return np.mean(results)\n",
    "\n",
    "#storage_name = \"sqlite:///G:/DM EyF/optimization_tree.db\"\n",
    "study_name = \"exp_101_decision-tree-opt\"\n",
    "\n",
    "study = optuna.create_study(\n",
    "    direction=\"maximize\",\n",
    "    study_name=study_name,\n",
    "    #storage=storage_name,\n",
    "    #load_if_exists=True,\n",
    ")"
   ]
  },
  {
   "cell_type": "code",
   "execution_count": 21,
   "metadata": {},
   "outputs": [
    {
     "name": "stderr",
     "output_type": "stream",
     "text": [
      "[I 2024-09-12 00:04:45,586] Trial 0 finished with value: 281372000.0 and parameters: {'criterion': 'gini', 'max_depth': 16, 'min_samples_split': 114, 'min_samples_leaf': 45, 'max_leaf_nodes': 133}. Best is trial 0 with value: 281372000.0.\n",
      "[I 2024-09-12 00:04:54,952] Trial 1 finished with value: 313282666.6666667 and parameters: {'criterion': 'entropy', 'max_depth': 19, 'min_samples_split': 88, 'min_samples_leaf': 148, 'max_leaf_nodes': 64}. Best is trial 1 with value: 313282666.6666667.\n",
      "[I 2024-09-12 00:05:01,874] Trial 2 finished with value: 318976000.00000006 and parameters: {'criterion': 'entropy', 'max_depth': 12, 'min_samples_split': 58, 'min_samples_leaf': 37, 'max_leaf_nodes': 28}. Best is trial 2 with value: 318976000.00000006.\n",
      "[I 2024-09-12 00:05:04,924] Trial 3 finished with value: 242942000.0 and parameters: {'criterion': 'gini', 'max_depth': 2, 'min_samples_split': 4, 'min_samples_leaf': 48, 'max_leaf_nodes': 28}. Best is trial 2 with value: 318976000.00000006.\n",
      "[I 2024-09-12 00:05:08,201] Trial 4 finished with value: 263032000.0 and parameters: {'criterion': 'entropy', 'max_depth': 2, 'min_samples_split': 29, 'min_samples_leaf': 89, 'max_leaf_nodes': 121}. Best is trial 2 with value: 318976000.00000006.\n",
      "[I 2024-09-12 00:05:11,734] Trial 5 finished with value: 273000000.0 and parameters: {'criterion': 'gini', 'max_depth': 3, 'min_samples_split': 98, 'min_samples_leaf': 3, 'max_leaf_nodes': 70}. Best is trial 2 with value: 318976000.00000006.\n",
      "[I 2024-09-12 00:05:16,353] Trial 6 finished with value: 282641333.3333334 and parameters: {'criterion': 'gini', 'max_depth': 10, 'min_samples_split': 36, 'min_samples_leaf': 120, 'max_leaf_nodes': 15}. Best is trial 2 with value: 318976000.00000006.\n",
      "[I 2024-09-12 00:05:22,273] Trial 7 finished with value: 304822000.0 and parameters: {'criterion': 'gini', 'max_depth': 16, 'min_samples_split': 46, 'min_samples_leaf': 120, 'max_leaf_nodes': 57}. Best is trial 2 with value: 318976000.00000006.\n",
      "[I 2024-09-12 00:05:26,567] Trial 8 finished with value: 276332000.00000006 and parameters: {'criterion': 'entropy', 'max_depth': 3, 'min_samples_split': 67, 'min_samples_leaf': 45, 'max_leaf_nodes': 83}. Best is trial 2 with value: 318976000.00000006.\n",
      "[I 2024-09-12 00:05:32,053] Trial 9 finished with value: 289650666.6666667 and parameters: {'criterion': 'gini', 'max_depth': 5, 'min_samples_split': 15, 'min_samples_leaf': 66, 'max_leaf_nodes': 132}. Best is trial 2 with value: 318976000.00000006.\n",
      "[I 2024-09-12 00:05:36,571] Trial 10 finished with value: 263032000.0 and parameters: {'criterion': 'entropy', 'max_depth': 10, 'min_samples_split': 147, 'min_samples_leaf': 6, 'max_leaf_nodes': 4}. Best is trial 2 with value: 318976000.00000006.\n",
      "[I 2024-09-12 00:05:44,287] Trial 11 finished with value: 311985333.3333334 and parameters: {'criterion': 'entropy', 'max_depth': 20, 'min_samples_split': 81, 'min_samples_leaf': 149, 'max_leaf_nodes': 46}. Best is trial 2 with value: 318976000.00000006.\n",
      "[I 2024-09-12 00:05:53,109] Trial 12 finished with value: 303809333.3333334 and parameters: {'criterion': 'entropy', 'max_depth': 14, 'min_samples_split': 65, 'min_samples_leaf': 94, 'max_leaf_nodes': 99}. Best is trial 2 with value: 318976000.00000006.\n",
      "[I 2024-09-12 00:06:00,506] Trial 13 finished with value: 319676000.00000006 and parameters: {'criterion': 'entropy', 'max_depth': 20, 'min_samples_split': 120, 'min_samples_leaf': 20, 'max_leaf_nodes': 35}. Best is trial 13 with value: 319676000.00000006.\n",
      "[I 2024-09-12 00:06:07,778] Trial 14 finished with value: 319228000.0 and parameters: {'criterion': 'entropy', 'max_depth': 7, 'min_samples_split': 134, 'min_samples_leaf': 20, 'max_leaf_nodes': 35}. Best is trial 13 with value: 319676000.00000006.\n",
      "[I 2024-09-12 00:06:15,189] Trial 15 finished with value: 317996000.0 and parameters: {'criterion': 'entropy', 'max_depth': 7, 'min_samples_split': 149, 'min_samples_leaf': 21, 'max_leaf_nodes': 37}. Best is trial 13 with value: 319676000.00000006.\n",
      "[I 2024-09-12 00:06:23,979] Trial 16 finished with value: 304994666.6666667 and parameters: {'criterion': 'entropy', 'max_depth': 8, 'min_samples_split': 122, 'min_samples_leaf': 25, 'max_leaf_nodes': 93}. Best is trial 13 with value: 319676000.00000006.\n",
      "[I 2024-09-12 00:06:31,360] Trial 17 finished with value: 306357333.3333334 and parameters: {'criterion': 'entropy', 'max_depth': 6, 'min_samples_split': 128, 'min_samples_leaf': 69, 'max_leaf_nodes': 51}. Best is trial 13 with value: 319676000.00000006.\n",
      "[I 2024-09-12 00:06:36,691] Trial 18 finished with value: 297075333.3333334 and parameters: {'criterion': 'entropy', 'max_depth': 13, 'min_samples_split': 106, 'min_samples_leaf': 18, 'max_leaf_nodes': 13}. Best is trial 13 with value: 319676000.00000006.\n",
      "[I 2024-09-12 00:06:43,289] Trial 19 finished with value: 318150000.00000006 and parameters: {'criterion': 'entropy', 'max_depth': 17, 'min_samples_split': 132, 'min_samples_leaf': 31, 'max_leaf_nodes': 33}. Best is trial 13 with value: 319676000.00000006.\n",
      "[I 2024-09-12 00:06:51,674] Trial 20 finished with value: 308172666.6666667 and parameters: {'criterion': 'entropy', 'max_depth': 8, 'min_samples_split': 98, 'min_samples_leaf': 58, 'max_leaf_nodes': 83}. Best is trial 13 with value: 319676000.00000006.\n",
      "[I 2024-09-12 00:06:58,112] Trial 21 finished with value: 312307333.3333334 and parameters: {'criterion': 'entropy', 'max_depth': 13, 'min_samples_split': 54, 'min_samples_leaf': 31, 'max_leaf_nodes': 24}. Best is trial 13 with value: 319676000.00000006.\n",
      "[I 2024-09-12 00:07:05,939] Trial 22 finished with value: 322233333.3333334 and parameters: {'criterion': 'entropy', 'max_depth': 11, 'min_samples_split': 139, 'min_samples_leaf': 13, 'max_leaf_nodes': 43}. Best is trial 22 with value: 322233333.3333334.\n",
      "[I 2024-09-12 00:07:13,543] Trial 23 finished with value: 322354666.6666667 and parameters: {'criterion': 'entropy', 'max_depth': 10, 'min_samples_split': 138, 'min_samples_leaf': 13, 'max_leaf_nodes': 44}. Best is trial 23 with value: 322354666.6666667.\n",
      "[I 2024-09-12 00:07:21,478] Trial 24 finished with value: 322135333.3333334 and parameters: {'criterion': 'entropy', 'max_depth': 10, 'min_samples_split': 140, 'min_samples_leaf': 1, 'max_leaf_nodes': 45}. Best is trial 23 with value: 322354666.6666667.\n",
      "[I 2024-09-12 00:07:30,128] Trial 25 finished with value: 321827333.3333334 and parameters: {'criterion': 'entropy', 'max_depth': 10, 'min_samples_split': 141, 'min_samples_leaf': 3, 'max_leaf_nodes': 46}. Best is trial 23 with value: 322354666.6666667.\n",
      "[I 2024-09-12 00:07:39,876] Trial 26 finished with value: 319386666.6666667 and parameters: {'criterion': 'entropy', 'max_depth': 11, 'min_samples_split': 111, 'min_samples_leaf': 12, 'max_leaf_nodes': 59}. Best is trial 23 with value: 322354666.6666667.\n",
      "[I 2024-09-12 00:07:49,848] Trial 27 finished with value: 321482000.0 and parameters: {'criterion': 'entropy', 'max_depth': 9, 'min_samples_split': 150, 'min_samples_leaf': 8, 'max_leaf_nodes': 47}. Best is trial 23 with value: 322354666.6666667.\n",
      "[I 2024-09-12 00:08:00,699] Trial 28 finished with value: 310898000.00000006 and parameters: {'criterion': 'entropy', 'max_depth': 14, 'min_samples_split': 134, 'min_samples_leaf': 35, 'max_leaf_nodes': 77}. Best is trial 23 with value: 322354666.6666667.\n",
      "[I 2024-09-12 00:08:09,267] Trial 29 finished with value: 294779333.3333334 and parameters: {'criterion': 'gini', 'max_depth': 12, 'min_samples_split': 119, 'min_samples_leaf': 50, 'max_leaf_nodes': 105}. Best is trial 23 with value: 322354666.6666667.\n",
      "[I 2024-09-12 00:08:21,175] Trial 30 finished with value: 295348666.6666666 and parameters: {'criterion': 'entropy', 'max_depth': 15, 'min_samples_split': 103, 'min_samples_leaf': 82, 'max_leaf_nodes': 149}. Best is trial 23 with value: 322354666.6666667.\n",
      "[I 2024-09-12 00:08:30,983] Trial 31 finished with value: 322228666.6666667 and parameters: {'criterion': 'entropy', 'max_depth': 10, 'min_samples_split': 141, 'min_samples_leaf': 3, 'max_leaf_nodes': 45}. Best is trial 23 with value: 322354666.6666667.\n",
      "[I 2024-09-12 00:08:40,804] Trial 32 finished with value: 314346666.6666667 and parameters: {'criterion': 'entropy', 'max_depth': 11, 'min_samples_split': 142, 'min_samples_leaf': 14, 'max_leaf_nodes': 68}. Best is trial 23 with value: 322354666.6666667.\n",
      "[I 2024-09-12 00:08:48,613] Trial 33 finished with value: 313651333.3333334 and parameters: {'criterion': 'entropy', 'max_depth': 9, 'min_samples_split': 127, 'min_samples_leaf': 2, 'max_leaf_nodes': 18}. Best is trial 23 with value: 322354666.6666667.\n",
      "[I 2024-09-12 00:08:58,102] Trial 34 finished with value: 316740666.6666667 and parameters: {'criterion': 'entropy', 'max_depth': 12, 'min_samples_split': 138, 'min_samples_leaf': 41, 'max_leaf_nodes': 54}. Best is trial 23 with value: 322354666.6666667.\n",
      "[I 2024-09-12 00:09:07,808] Trial 35 finished with value: 316376666.6666667 and parameters: {'criterion': 'entropy', 'max_depth': 11, 'min_samples_split': 114, 'min_samples_leaf': 28, 'max_leaf_nodes': 62}. Best is trial 23 with value: 322354666.6666667.\n",
      "[I 2024-09-12 00:09:15,337] Trial 36 finished with value: 316040666.6666667 and parameters: {'criterion': 'entropy', 'max_depth': 9, 'min_samples_split': 126, 'min_samples_leaf': 13, 'max_leaf_nodes': 26}. Best is trial 23 with value: 322354666.6666667.\n",
      "[I 2024-09-12 00:09:21,562] Trial 37 finished with value: 292338666.6666667 and parameters: {'criterion': 'gini', 'max_depth': 5, 'min_samples_split': 87, 'min_samples_leaf': 108, 'max_leaf_nodes': 41}. Best is trial 23 with value: 322354666.6666667.\n",
      "[I 2024-09-12 00:09:30,901] Trial 38 finished with value: 314328000.00000006 and parameters: {'criterion': 'entropy', 'max_depth': 13, 'min_samples_split': 141, 'min_samples_leaf': 11, 'max_leaf_nodes': 74}. Best is trial 23 with value: 322354666.6666667.\n",
      "[I 2024-09-12 00:09:34,340] Trial 39 finished with value: 214181333.33333334 and parameters: {'criterion': 'gini', 'max_depth': 10, 'min_samples_split': 113, 'min_samples_leaf': 37, 'max_leaf_nodes': 4}. Best is trial 23 with value: 322354666.6666667.\n",
      "[I 2024-09-12 00:09:43,816] Trial 40 finished with value: 314673333.3333334 and parameters: {'criterion': 'entropy', 'max_depth': 8, 'min_samples_split': 92, 'min_samples_leaf': 1, 'max_leaf_nodes': 64}. Best is trial 23 with value: 322354666.6666667.\n",
      "[I 2024-09-12 00:09:52,618] Trial 41 finished with value: 322065333.3333334 and parameters: {'criterion': 'entropy', 'max_depth': 10, 'min_samples_split': 142, 'min_samples_leaf': 2, 'max_leaf_nodes': 43}. Best is trial 23 with value: 322354666.6666667.\n",
      "[I 2024-09-12 00:10:01,108] Trial 42 finished with value: 323642666.6666667 and parameters: {'criterion': 'entropy', 'max_depth': 12, 'min_samples_split': 142, 'min_samples_leaf': 9, 'max_leaf_nodes': 41}. Best is trial 42 with value: 323642666.6666667.\n",
      "[I 2024-09-12 00:10:10,503] Trial 43 finished with value: 312909333.3333334 and parameters: {'criterion': 'entropy', 'max_depth': 12, 'min_samples_split': 150, 'min_samples_leaf': 138, 'max_leaf_nodes': 53}. Best is trial 42 with value: 323642666.6666667.\n",
      "[I 2024-09-12 00:10:18,382] Trial 44 finished with value: 314734000.00000006 and parameters: {'criterion': 'entropy', 'max_depth': 11, 'min_samples_split': 133, 'min_samples_leaf': 25, 'max_leaf_nodes': 19}. Best is trial 42 with value: 323642666.6666667.\n",
      "[I 2024-09-12 00:10:25,384] Trial 45 finished with value: 289870000.0 and parameters: {'criterion': 'gini', 'max_depth': 14, 'min_samples_split': 126, 'min_samples_leaf': 15, 'max_leaf_nodes': 30}. Best is trial 42 with value: 323642666.6666667.\n",
      "[I 2024-09-12 00:10:34,563] Trial 46 finished with value: 323474666.6666667 and parameters: {'criterion': 'entropy', 'max_depth': 17, 'min_samples_split': 137, 'min_samples_leaf': 8, 'max_leaf_nodes': 40}. Best is trial 42 with value: 323642666.6666667.\n",
      "[I 2024-09-12 00:10:43,817] Trial 47 finished with value: 323474666.6666667 and parameters: {'criterion': 'entropy', 'max_depth': 17, 'min_samples_split': 119, 'min_samples_leaf': 10, 'max_leaf_nodes': 40}. Best is trial 42 with value: 323642666.6666667.\n",
      "[I 2024-09-12 00:10:49,450] Trial 48 finished with value: 297448666.6666666 and parameters: {'criterion': 'entropy', 'max_depth': 18, 'min_samples_split': 116, 'min_samples_leaf': 52, 'max_leaf_nodes': 12}. Best is trial 42 with value: 323642666.6666667.\n",
      "[I 2024-09-12 00:10:57,937] Trial 49 finished with value: 321304666.6666667 and parameters: {'criterion': 'entropy', 'max_depth': 17, 'min_samples_split': 123, 'min_samples_leaf': 23, 'max_leaf_nodes': 38}. Best is trial 42 with value: 323642666.6666667.\n"
     ]
    }
   ],
   "source": [
    "study.optimize(lambda trial: objective(trial, X, y, sss_opt), n_trials=50)"
   ]
  },
  {
   "cell_type": "code",
   "execution_count": 22,
   "metadata": {},
   "outputs": [
    {
     "name": "stdout",
     "output_type": "stream",
     "text": [
      "Mejor modelo: {'criterion': 'entropy', 'max_depth': 12, 'min_samples_split': 142, 'min_samples_leaf': 9, 'max_leaf_nodes': 41}\n"
     ]
    }
   ],
   "source": [
    "best_trial = study.best_trial\n",
    "best_model_params = best_trial.params\n",
    "print(\"Mejor modelo:\", best_model_params)"
   ]
  },
  {
   "cell_type": "code",
   "execution_count": 31,
   "metadata": {},
   "outputs": [],
   "source": [
    "# Definir conjunto de entrenamiento y donde voy a predecir\n",
    "train = df[df['foto_mes'] == 202104].copy()\n",
    "predecir = df[df['foto_mes'] == 202106].copy()\n",
    "\n",
    "modelo = DecisionTreeClassifier(\n",
    "    criterion= 'entropy',       # criterio\n",
    "    max_depth=12,            # Profundidad máxima de cada árbol\n",
    "    min_samples_split=142,   \n",
    "    min_samples_leaf=9,\n",
    "    max_leaf_nodes= 41,    \n",
    "    random_state=semillas[0]\n",
    ")\n",
    "\n",
    "# Entrenar el modelo\n",
    "X_train = train.drop(columns=['clase_binaria', 'clase_ternaria'])\n",
    "y_train = train['clase_binaria']\n",
    "modelo.fit(X_train, y_train)\n",
    "\n",
    "# Aplicar el modelo a los datos nuevos\n",
    "X_predecir = predecir.drop(columns=['clase_binaria', 'clase_ternaria'])\n",
    "y_pred = modelo.predict_proba(X_predecir)\n",
    "\n",
    "# Crear un DataFrame con las probabilidades\n",
    "prediccion_df = pd.DataFrame(y_pred, columns=modelo.classes_)\n",
    "\n",
    "# Agregar la probabilidad de clase '1' (BAJA) al dataframe de aplicación\n",
    "predecir['prob_baja'] = prediccion_df[1]  # '1' es la clase correspondiente a BAJA\n",
    "\n",
    "# Crear la columna 'Predicted' donde la probabilidad de 'BAJA' sea mayor a 1/40\n",
    "predecir['Predicted'] = (predecir['prob_baja'] > 1 / 40).astype(int)\n",
    "\n",
    "# Generar el archivo para Kaggle\n",
    "# Crear el directorio si no existe\n",
    "os.makedirs(\"./exp/KA2001\", exist_ok=True)\n",
    "\n",
    "# Seleccionar solo los campos necesarios para Kaggle\n",
    "kaggle_submission = predecir[['numero_de_cliente', 'Predicted']]\n",
    "\n",
    "# Guardar el archivo\n",
    "kaggle_submission.to_csv(\"./exp/KA2001/K101_003.csv\", index=False, sep=\",\")"
   ]
  },
  {
   "cell_type": "code",
   "execution_count": 32,
   "metadata": {},
   "outputs": [
    {
     "data": {
      "text/html": [
       "<div>\n",
       "<style scoped>\n",
       "    .dataframe tbody tr th:only-of-type {\n",
       "        vertical-align: middle;\n",
       "    }\n",
       "\n",
       "    .dataframe tbody tr th {\n",
       "        vertical-align: top;\n",
       "    }\n",
       "\n",
       "    .dataframe thead th {\n",
       "        text-align: right;\n",
       "    }\n",
       "</style>\n",
       "<table border=\"1\" class=\"dataframe\">\n",
       "  <thead>\n",
       "    <tr style=\"text-align: right;\">\n",
       "      <th></th>\n",
       "      <th>numero_de_cliente</th>\n",
       "      <th>foto_mes</th>\n",
       "      <th>active_quarter</th>\n",
       "      <th>cliente_vip</th>\n",
       "      <th>internet</th>\n",
       "      <th>cliente_edad</th>\n",
       "      <th>cliente_antiguedad</th>\n",
       "      <th>mrentabilidad</th>\n",
       "      <th>mrentabilidad_annual</th>\n",
       "      <th>mcomisiones</th>\n",
       "      <th>...</th>\n",
       "      <th>Visa_mpagosdolares</th>\n",
       "      <th>Visa_fechaalta</th>\n",
       "      <th>Visa_mconsumototal</th>\n",
       "      <th>Visa_cconsumos</th>\n",
       "      <th>Visa_cadelantosefectivo</th>\n",
       "      <th>Visa_mpagominimo</th>\n",
       "      <th>clase_ternaria</th>\n",
       "      <th>clase_binaria</th>\n",
       "      <th>prob_baja</th>\n",
       "      <th>Predicted</th>\n",
       "    </tr>\n",
       "  </thead>\n",
       "  <tbody>\n",
       "    <tr>\n",
       "      <th>57</th>\n",
       "      <td>252966056</td>\n",
       "      <td>202106</td>\n",
       "      <td>1</td>\n",
       "      <td>0</td>\n",
       "      <td>0</td>\n",
       "      <td>56</td>\n",
       "      <td>218</td>\n",
       "      <td>1924.55</td>\n",
       "      <td>31626.42</td>\n",
       "      <td>4114.42</td>\n",
       "      <td>...</td>\n",
       "      <td>0.00</td>\n",
       "      <td>8661.0</td>\n",
       "      <td>27764.42</td>\n",
       "      <td>8.0</td>\n",
       "      <td>0.0</td>\n",
       "      <td>5313.69</td>\n",
       "      <td>NaN</td>\n",
       "      <td>1</td>\n",
       "      <td>0.027088</td>\n",
       "      <td>1</td>\n",
       "    </tr>\n",
       "    <tr>\n",
       "      <th>87</th>\n",
       "      <td>255614475</td>\n",
       "      <td>202106</td>\n",
       "      <td>1</td>\n",
       "      <td>0</td>\n",
       "      <td>0</td>\n",
       "      <td>65</td>\n",
       "      <td>283</td>\n",
       "      <td>5732.54</td>\n",
       "      <td>41402.14</td>\n",
       "      <td>746.84</td>\n",
       "      <td>...</td>\n",
       "      <td>0.00</td>\n",
       "      <td>6128.0</td>\n",
       "      <td>12695.07</td>\n",
       "      <td>7.0</td>\n",
       "      <td>0.0</td>\n",
       "      <td>656.88</td>\n",
       "      <td>NaN</td>\n",
       "      <td>1</td>\n",
       "      <td>0.085811</td>\n",
       "      <td>1</td>\n",
       "    </tr>\n",
       "    <tr>\n",
       "      <th>158</th>\n",
       "      <td>259824701</td>\n",
       "      <td>202106</td>\n",
       "      <td>1</td>\n",
       "      <td>0</td>\n",
       "      <td>0</td>\n",
       "      <td>56</td>\n",
       "      <td>79</td>\n",
       "      <td>1016.80</td>\n",
       "      <td>-1740.48</td>\n",
       "      <td>737.50</td>\n",
       "      <td>...</td>\n",
       "      <td>0.00</td>\n",
       "      <td>2347.0</td>\n",
       "      <td>5728.81</td>\n",
       "      <td>4.0</td>\n",
       "      <td>0.0</td>\n",
       "      <td>480.93</td>\n",
       "      <td>NaN</td>\n",
       "      <td>1</td>\n",
       "      <td>0.027088</td>\n",
       "      <td>1</td>\n",
       "    </tr>\n",
       "    <tr>\n",
       "      <th>218</th>\n",
       "      <td>264937841</td>\n",
       "      <td>202106</td>\n",
       "      <td>1</td>\n",
       "      <td>0</td>\n",
       "      <td>0</td>\n",
       "      <td>49</td>\n",
       "      <td>159</td>\n",
       "      <td>-74.32</td>\n",
       "      <td>7306.47</td>\n",
       "      <td>3147.26</td>\n",
       "      <td>...</td>\n",
       "      <td>0.00</td>\n",
       "      <td>4816.0</td>\n",
       "      <td>1489.47</td>\n",
       "      <td>4.0</td>\n",
       "      <td>0.0</td>\n",
       "      <td>7002.81</td>\n",
       "      <td>NaN</td>\n",
       "      <td>1</td>\n",
       "      <td>0.067002</td>\n",
       "      <td>1</td>\n",
       "    </tr>\n",
       "    <tr>\n",
       "      <th>230</th>\n",
       "      <td>268128619</td>\n",
       "      <td>202106</td>\n",
       "      <td>1</td>\n",
       "      <td>0</td>\n",
       "      <td>0</td>\n",
       "      <td>65</td>\n",
       "      <td>288</td>\n",
       "      <td>2207.76</td>\n",
       "      <td>41356.07</td>\n",
       "      <td>715.27</td>\n",
       "      <td>...</td>\n",
       "      <td>0.00</td>\n",
       "      <td>5397.0</td>\n",
       "      <td>3775.87</td>\n",
       "      <td>1.0</td>\n",
       "      <td>0.0</td>\n",
       "      <td>1184.73</td>\n",
       "      <td>NaN</td>\n",
       "      <td>1</td>\n",
       "      <td>0.321818</td>\n",
       "      <td>1</td>\n",
       "    </tr>\n",
       "    <tr>\n",
       "      <th>...</th>\n",
       "      <td>...</td>\n",
       "      <td>...</td>\n",
       "      <td>...</td>\n",
       "      <td>...</td>\n",
       "      <td>...</td>\n",
       "      <td>...</td>\n",
       "      <td>...</td>\n",
       "      <td>...</td>\n",
       "      <td>...</td>\n",
       "      <td>...</td>\n",
       "      <td>...</td>\n",
       "      <td>...</td>\n",
       "      <td>...</td>\n",
       "      <td>...</td>\n",
       "      <td>...</td>\n",
       "      <td>...</td>\n",
       "      <td>...</td>\n",
       "      <td>...</td>\n",
       "      <td>...</td>\n",
       "      <td>...</td>\n",
       "      <td>...</td>\n",
       "    </tr>\n",
       "    <tr>\n",
       "      <th>164587</th>\n",
       "      <td>322502746</td>\n",
       "      <td>202106</td>\n",
       "      <td>1</td>\n",
       "      <td>0</td>\n",
       "      <td>0</td>\n",
       "      <td>47</td>\n",
       "      <td>204</td>\n",
       "      <td>855.38</td>\n",
       "      <td>3965.81</td>\n",
       "      <td>436.91</td>\n",
       "      <td>...</td>\n",
       "      <td>0.00</td>\n",
       "      <td>5963.0</td>\n",
       "      <td>19093.07</td>\n",
       "      <td>6.0</td>\n",
       "      <td>0.0</td>\n",
       "      <td>2557.14</td>\n",
       "      <td>NaN</td>\n",
       "      <td>1</td>\n",
       "      <td>0.074205</td>\n",
       "      <td>1</td>\n",
       "    </tr>\n",
       "    <tr>\n",
       "      <th>164689</th>\n",
       "      <td>332435849</td>\n",
       "      <td>202106</td>\n",
       "      <td>1</td>\n",
       "      <td>0</td>\n",
       "      <td>0</td>\n",
       "      <td>57</td>\n",
       "      <td>260</td>\n",
       "      <td>15492.70</td>\n",
       "      <td>139250.38</td>\n",
       "      <td>3202.23</td>\n",
       "      <td>...</td>\n",
       "      <td>0.00</td>\n",
       "      <td>7918.0</td>\n",
       "      <td>557.73</td>\n",
       "      <td>1.0</td>\n",
       "      <td>0.0</td>\n",
       "      <td>11.73</td>\n",
       "      <td>NaN</td>\n",
       "      <td>1</td>\n",
       "      <td>0.067002</td>\n",
       "      <td>1</td>\n",
       "    </tr>\n",
       "    <tr>\n",
       "      <th>164695</th>\n",
       "      <td>332496302</td>\n",
       "      <td>202106</td>\n",
       "      <td>1</td>\n",
       "      <td>0</td>\n",
       "      <td>0</td>\n",
       "      <td>42</td>\n",
       "      <td>177</td>\n",
       "      <td>-498.60</td>\n",
       "      <td>-2193.25</td>\n",
       "      <td>797.59</td>\n",
       "      <td>...</td>\n",
       "      <td>34.39</td>\n",
       "      <td>5344.0</td>\n",
       "      <td>36799.83</td>\n",
       "      <td>19.0</td>\n",
       "      <td>0.0</td>\n",
       "      <td>6439.77</td>\n",
       "      <td>NaN</td>\n",
       "      <td>1</td>\n",
       "      <td>0.067002</td>\n",
       "      <td>1</td>\n",
       "    </tr>\n",
       "    <tr>\n",
       "      <th>164749</th>\n",
       "      <td>339121872</td>\n",
       "      <td>202106</td>\n",
       "      <td>1</td>\n",
       "      <td>0</td>\n",
       "      <td>0</td>\n",
       "      <td>55</td>\n",
       "      <td>378</td>\n",
       "      <td>547.26</td>\n",
       "      <td>28134.24</td>\n",
       "      <td>27.84</td>\n",
       "      <td>...</td>\n",
       "      <td>0.00</td>\n",
       "      <td>9365.0</td>\n",
       "      <td>2457.43</td>\n",
       "      <td>1.0</td>\n",
       "      <td>0.0</td>\n",
       "      <td>117.30</td>\n",
       "      <td>NaN</td>\n",
       "      <td>1</td>\n",
       "      <td>0.085811</td>\n",
       "      <td>1</td>\n",
       "    </tr>\n",
       "    <tr>\n",
       "      <th>164808</th>\n",
       "      <td>346739904</td>\n",
       "      <td>202106</td>\n",
       "      <td>1</td>\n",
       "      <td>0</td>\n",
       "      <td>0</td>\n",
       "      <td>55</td>\n",
       "      <td>325</td>\n",
       "      <td>2068.82</td>\n",
       "      <td>12905.73</td>\n",
       "      <td>761.10</td>\n",
       "      <td>...</td>\n",
       "      <td>0.00</td>\n",
       "      <td>5496.0</td>\n",
       "      <td>6003.95</td>\n",
       "      <td>10.0</td>\n",
       "      <td>0.0</td>\n",
       "      <td>5876.73</td>\n",
       "      <td>NaN</td>\n",
       "      <td>1</td>\n",
       "      <td>0.154459</td>\n",
       "      <td>1</td>\n",
       "    </tr>\n",
       "  </tbody>\n",
       "</table>\n",
       "<p>2320 rows × 158 columns</p>\n",
       "</div>"
      ],
      "text/plain": [
       "        numero_de_cliente  foto_mes  active_quarter  cliente_vip  internet  \\\n",
       "57              252966056    202106               1            0         0   \n",
       "87              255614475    202106               1            0         0   \n",
       "158             259824701    202106               1            0         0   \n",
       "218             264937841    202106               1            0         0   \n",
       "230             268128619    202106               1            0         0   \n",
       "...                   ...       ...             ...          ...       ...   \n",
       "164587          322502746    202106               1            0         0   \n",
       "164689          332435849    202106               1            0         0   \n",
       "164695          332496302    202106               1            0         0   \n",
       "164749          339121872    202106               1            0         0   \n",
       "164808          346739904    202106               1            0         0   \n",
       "\n",
       "        cliente_edad  cliente_antiguedad  mrentabilidad  mrentabilidad_annual  \\\n",
       "57                56                 218        1924.55              31626.42   \n",
       "87                65                 283        5732.54              41402.14   \n",
       "158               56                  79        1016.80              -1740.48   \n",
       "218               49                 159         -74.32               7306.47   \n",
       "230               65                 288        2207.76              41356.07   \n",
       "...              ...                 ...            ...                   ...   \n",
       "164587            47                 204         855.38               3965.81   \n",
       "164689            57                 260       15492.70             139250.38   \n",
       "164695            42                 177        -498.60              -2193.25   \n",
       "164749            55                 378         547.26              28134.24   \n",
       "164808            55                 325        2068.82              12905.73   \n",
       "\n",
       "        mcomisiones  ...  Visa_mpagosdolares  Visa_fechaalta  \\\n",
       "57          4114.42  ...                0.00          8661.0   \n",
       "87           746.84  ...                0.00          6128.0   \n",
       "158          737.50  ...                0.00          2347.0   \n",
       "218         3147.26  ...                0.00          4816.0   \n",
       "230          715.27  ...                0.00          5397.0   \n",
       "...             ...  ...                 ...             ...   \n",
       "164587       436.91  ...                0.00          5963.0   \n",
       "164689      3202.23  ...                0.00          7918.0   \n",
       "164695       797.59  ...               34.39          5344.0   \n",
       "164749        27.84  ...                0.00          9365.0   \n",
       "164808       761.10  ...                0.00          5496.0   \n",
       "\n",
       "        Visa_mconsumototal  Visa_cconsumos  Visa_cadelantosefectivo  \\\n",
       "57                27764.42             8.0                      0.0   \n",
       "87                12695.07             7.0                      0.0   \n",
       "158                5728.81             4.0                      0.0   \n",
       "218                1489.47             4.0                      0.0   \n",
       "230                3775.87             1.0                      0.0   \n",
       "...                    ...             ...                      ...   \n",
       "164587            19093.07             6.0                      0.0   \n",
       "164689              557.73             1.0                      0.0   \n",
       "164695            36799.83            19.0                      0.0   \n",
       "164749             2457.43             1.0                      0.0   \n",
       "164808             6003.95            10.0                      0.0   \n",
       "\n",
       "        Visa_mpagominimo  clase_ternaria  clase_binaria  prob_baja  Predicted  \n",
       "57               5313.69             NaN              1   0.027088          1  \n",
       "87                656.88             NaN              1   0.085811          1  \n",
       "158               480.93             NaN              1   0.027088          1  \n",
       "218              7002.81             NaN              1   0.067002          1  \n",
       "230              1184.73             NaN              1   0.321818          1  \n",
       "...                  ...             ...            ...        ...        ...  \n",
       "164587           2557.14             NaN              1   0.074205          1  \n",
       "164689             11.73             NaN              1   0.067002          1  \n",
       "164695           6439.77             NaN              1   0.067002          1  \n",
       "164749            117.30             NaN              1   0.085811          1  \n",
       "164808           5876.73             NaN              1   0.154459          1  \n",
       "\n",
       "[2320 rows x 158 columns]"
      ]
     },
     "execution_count": 32,
     "metadata": {},
     "output_type": "execute_result"
    }
   ],
   "source": [
    "predecir[predecir['Predicted']==1]"
   ]
  }
 ],
 "metadata": {
  "kernelspec": {
   "display_name": "Python 3",
   "language": "python",
   "name": "python3"
  },
  "language_info": {
   "codemirror_mode": {
    "name": "ipython",
    "version": 3
   },
   "file_extension": ".py",
   "mimetype": "text/x-python",
   "name": "python",
   "nbconvert_exporter": "python",
   "pygments_lexer": "ipython3",
   "version": "3.12.5"
  }
 },
 "nbformat": 4,
 "nbformat_minor": 2
}
