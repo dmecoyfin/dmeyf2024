{
 "cells": [
  {
   "cell_type": "markdown",
   "metadata": {
    "id": "pVzZPzOXT19D"
   },
   "source": [
    "# Crear la clase  Target\n",
    "\n",
    "## Ejercicio 1\n",
    "\n",
    "Cree el archivo competencia_01.csv, usando el competencia_01_crudo.csv con una variable adicional llamada clase_ternaria, que contenga las categorías **CONTINUA, BAJA+1 y BAJA+2**\n",
    "\n",
    "Ayudita\n",
    "Para practicar el muy útil y necesario lenguaje **SQL**, vamos a utilizar una base de datos **OLAP** llamada **DuckDB**.\n",
    "\n",
    "La documentación la puede encontrar [aquí](https://duckdb.org/docs/archive/0.8.1/sql/introduction) Procedemos a instalarla, esto se debe ejecutar una sola vez"
   ]
  },
  {
   "cell_type": "code",
   "execution_count": 1,
   "metadata": {
    "id": "44HVghTmUHwS"
   },
   "outputs": [
    {
     "name": "stdout",
     "output_type": "stream",
     "text": [
      "Requirement already satisfied: duckdb in /home/bita/.pyenv/versions/3.12.3/envs/dmeyf/lib/python3.12/site-packages (1.0.0)\n"
     ]
    },
    {
     "name": "stderr",
     "output_type": "stream",
     "text": [
      "\n",
      "\u001b[1m[\u001b[0m\u001b[34;49mnotice\u001b[0m\u001b[1;39;49m]\u001b[0m\u001b[39;49m A new release of pip is available: \u001b[0m\u001b[31;49m24.0\u001b[0m\u001b[39;49m -> \u001b[0m\u001b[32;49m24.2\u001b[0m\n",
      "\u001b[1m[\u001b[0m\u001b[34;49mnotice\u001b[0m\u001b[1;39;49m]\u001b[0m\u001b[39;49m To update, run: \u001b[0m\u001b[32;49mpython -m pip install --upgrade pip\u001b[0m\n"
     ]
    },
    {
     "name": "stdout",
     "output_type": "stream",
     "text": [
      "Requirement already satisfied: jupysql in /home/bita/.pyenv/versions/3.12.3/envs/dmeyf/lib/python3.12/site-packages (0.10.12)\n",
      "Requirement already satisfied: prettytable in /home/bita/.pyenv/versions/3.12.3/envs/dmeyf/lib/python3.12/site-packages (from jupysql) (3.11.0)\n",
      "Requirement already satisfied: sqlalchemy in /home/bita/.pyenv/versions/3.12.3/envs/dmeyf/lib/python3.12/site-packages (from jupysql) (2.0.32)\n",
      "Requirement already satisfied: sqlparse in /home/bita/.pyenv/versions/3.12.3/envs/dmeyf/lib/python3.12/site-packages (from jupysql) (0.5.1)\n",
      "Requirement already satisfied: ipython-genutils>=0.1.0 in /home/bita/.pyenv/versions/3.12.3/envs/dmeyf/lib/python3.12/site-packages (from jupysql) (0.2.0)\n",
      "Requirement already satisfied: jinja2 in /home/bita/.pyenv/versions/3.12.3/envs/dmeyf/lib/python3.12/site-packages (from jupysql) (3.1.4)\n",
      "Requirement already satisfied: sqlglot>=11.3.7 in /home/bita/.pyenv/versions/3.12.3/envs/dmeyf/lib/python3.12/site-packages (from jupysql) (25.12.0)\n",
      "Requirement already satisfied: jupysql-plugin>=0.4.2 in /home/bita/.pyenv/versions/3.12.3/envs/dmeyf/lib/python3.12/site-packages (from jupysql) (0.4.4)\n",
      "Requirement already satisfied: ploomber-core>=0.2.7 in /home/bita/.pyenv/versions/3.12.3/envs/dmeyf/lib/python3.12/site-packages (from jupysql) (0.2.25)\n",
      "Requirement already satisfied: ploomber-extension in /home/bita/.pyenv/versions/3.12.3/envs/dmeyf/lib/python3.12/site-packages (from jupysql) (0.1.1)\n",
      "Requirement already satisfied: pyyaml in /home/bita/.pyenv/versions/3.12.3/envs/dmeyf/lib/python3.12/site-packages (from ploomber-core>=0.2.7->jupysql) (6.0.2)\n",
      "Requirement already satisfied: posthog in /home/bita/.pyenv/versions/3.12.3/envs/dmeyf/lib/python3.12/site-packages (from ploomber-core>=0.2.7->jupysql) (3.5.0)\n",
      "Requirement already satisfied: MarkupSafe>=2.0 in /home/bita/.pyenv/versions/3.12.3/envs/dmeyf/lib/python3.12/site-packages (from jinja2->jupysql) (2.1.5)\n",
      "Requirement already satisfied: wcwidth in /home/bita/.pyenv/versions/3.12.3/envs/dmeyf/lib/python3.12/site-packages (from prettytable->jupysql) (0.2.13)\n",
      "Requirement already satisfied: typing-extensions>=4.6.0 in /home/bita/.pyenv/versions/3.12.3/envs/dmeyf/lib/python3.12/site-packages (from sqlalchemy->jupysql) (4.12.2)\n",
      "Requirement already satisfied: greenlet!=0.4.17 in /home/bita/.pyenv/versions/3.12.3/envs/dmeyf/lib/python3.12/site-packages (from sqlalchemy->jupysql) (3.0.3)\n",
      "Requirement already satisfied: requests<3.0,>=2.7 in /home/bita/.pyenv/versions/3.12.3/envs/dmeyf/lib/python3.12/site-packages (from posthog->ploomber-core>=0.2.7->jupysql) (2.32.3)\n",
      "Requirement already satisfied: six>=1.5 in /home/bita/.pyenv/versions/3.12.3/envs/dmeyf/lib/python3.12/site-packages (from posthog->ploomber-core>=0.2.7->jupysql) (1.16.0)\n",
      "Requirement already satisfied: monotonic>=1.5 in /home/bita/.pyenv/versions/3.12.3/envs/dmeyf/lib/python3.12/site-packages (from posthog->ploomber-core>=0.2.7->jupysql) (1.6)\n",
      "Requirement already satisfied: backoff>=1.10.0 in /home/bita/.pyenv/versions/3.12.3/envs/dmeyf/lib/python3.12/site-packages (from posthog->ploomber-core>=0.2.7->jupysql) (2.2.1)\n",
      "Requirement already satisfied: python-dateutil>2.1 in /home/bita/.pyenv/versions/3.12.3/envs/dmeyf/lib/python3.12/site-packages (from posthog->ploomber-core>=0.2.7->jupysql) (2.9.0.post0)\n",
      "Requirement already satisfied: charset-normalizer<4,>=2 in /home/bita/.pyenv/versions/3.12.3/envs/dmeyf/lib/python3.12/site-packages (from requests<3.0,>=2.7->posthog->ploomber-core>=0.2.7->jupysql) (3.3.2)\n",
      "Requirement already satisfied: idna<4,>=2.5 in /home/bita/.pyenv/versions/3.12.3/envs/dmeyf/lib/python3.12/site-packages (from requests<3.0,>=2.7->posthog->ploomber-core>=0.2.7->jupysql) (3.7)\n",
      "Requirement already satisfied: urllib3<3,>=1.21.1 in /home/bita/.pyenv/versions/3.12.3/envs/dmeyf/lib/python3.12/site-packages (from requests<3.0,>=2.7->posthog->ploomber-core>=0.2.7->jupysql) (2.2.2)\n",
      "Requirement already satisfied: certifi>=2017.4.17 in /home/bita/.pyenv/versions/3.12.3/envs/dmeyf/lib/python3.12/site-packages (from requests<3.0,>=2.7->posthog->ploomber-core>=0.2.7->jupysql) (2024.7.4)\n"
     ]
    },
    {
     "name": "stderr",
     "output_type": "stream",
     "text": [
      "\n",
      "\u001b[1m[\u001b[0m\u001b[34;49mnotice\u001b[0m\u001b[1;39;49m]\u001b[0m\u001b[39;49m A new release of pip is available: \u001b[0m\u001b[31;49m24.0\u001b[0m\u001b[39;49m -> \u001b[0m\u001b[32;49m24.2\u001b[0m\n",
      "\u001b[1m[\u001b[0m\u001b[34;49mnotice\u001b[0m\u001b[1;39;49m]\u001b[0m\u001b[39;49m To update, run: \u001b[0m\u001b[32;49mpython -m pip install --upgrade pip\u001b[0m\n"
     ]
    },
    {
     "name": "stdout",
     "output_type": "stream",
     "text": [
      "Requirement already satisfied: duckdb-engine in /home/bita/.pyenv/versions/3.12.3/envs/dmeyf/lib/python3.12/site-packages (0.13.1)\n",
      "Requirement already satisfied: duckdb>=0.5.0 in /home/bita/.pyenv/versions/3.12.3/envs/dmeyf/lib/python3.12/site-packages (from duckdb-engine) (1.0.0)\n",
      "Requirement already satisfied: packaging>=21 in /home/bita/.pyenv/versions/3.12.3/envs/dmeyf/lib/python3.12/site-packages (from duckdb-engine) (24.1)\n",
      "Requirement already satisfied: sqlalchemy>=1.3.22 in /home/bita/.pyenv/versions/3.12.3/envs/dmeyf/lib/python3.12/site-packages (from duckdb-engine) (2.0.32)\n",
      "Requirement already satisfied: typing-extensions>=4.6.0 in /home/bita/.pyenv/versions/3.12.3/envs/dmeyf/lib/python3.12/site-packages (from sqlalchemy>=1.3.22->duckdb-engine) (4.12.2)\n",
      "Requirement already satisfied: greenlet!=0.4.17 in /home/bita/.pyenv/versions/3.12.3/envs/dmeyf/lib/python3.12/site-packages (from sqlalchemy>=1.3.22->duckdb-engine) (3.0.3)\n"
     ]
    },
    {
     "name": "stderr",
     "output_type": "stream",
     "text": [
      "\n",
      "\u001b[1m[\u001b[0m\u001b[34;49mnotice\u001b[0m\u001b[1;39;49m]\u001b[0m\u001b[39;49m A new release of pip is available: \u001b[0m\u001b[31;49m24.0\u001b[0m\u001b[39;49m -> \u001b[0m\u001b[32;49m24.2\u001b[0m\n",
      "\u001b[1m[\u001b[0m\u001b[34;49mnotice\u001b[0m\u001b[1;39;49m]\u001b[0m\u001b[39;49m To update, run: \u001b[0m\u001b[32;49mpython -m pip install --upgrade pip\u001b[0m\n"
     ]
    }
   ],
   "source": [
    "%%bash\n",
    "pip install duckdb\n",
    "pip install jupysql\n",
    "pip install duckdb-engine"
   ]
  },
  {
   "cell_type": "markdown",
   "metadata": {
    "id": "wNaT9UiaUPOZ"
   },
   "source": [
    "Configuramos el entorno de ejecución. Si ya tiene todo instalado, solo necesita ejecutar esta celda para empezar a usar **duckdb**"
   ]
  },
  {
   "cell_type": "code",
   "execution_count": 2,
   "metadata": {
    "id": "ynyJ8u7fUVVO"
   },
   "outputs": [],
   "source": [
    "import duckdb\n",
    "import pandas as pd\n",
    "\n",
    "%load_ext sql\n",
    "%config SqlMagic.autopandas = True\n",
    "%config SqlMagic.feedback = False\n",
    "%config SqlMagic.displaycon = False\n",
    "\n",
    "%sql duckdb://"
   ]
  },
  {
   "cell_type": "markdown",
   "metadata": {
    "id": "EBGhTysbUZCv"
   },
   "source": [
    "Y ya podemos usar **SQL** dentro de una notebook!"
   ]
  },
  {
   "cell_type": "code",
   "execution_count": 3,
   "metadata": {
    "id": "_ZAW6zikUaZ7"
   },
   "outputs": [
    {
     "data": {
      "text/html": [
       "<div>\n",
       "<style scoped>\n",
       "    .dataframe tbody tr th:only-of-type {\n",
       "        vertical-align: middle;\n",
       "    }\n",
       "\n",
       "    .dataframe tbody tr th {\n",
       "        vertical-align: top;\n",
       "    }\n",
       "\n",
       "    .dataframe thead th {\n",
       "        text-align: right;\n",
       "    }\n",
       "</style>\n",
       "<table border=\"1\" class=\"dataframe\">\n",
       "  <thead>\n",
       "    <tr style=\"text-align: right;\">\n",
       "      <th></th>\n",
       "      <th>'hola mundo'</th>\n",
       "    </tr>\n",
       "  </thead>\n",
       "  <tbody>\n",
       "    <tr>\n",
       "      <th>0</th>\n",
       "      <td>hola mundo</td>\n",
       "    </tr>\n",
       "  </tbody>\n",
       "</table>\n",
       "</div>"
      ],
      "text/plain": [
       "  'hola mundo'\n",
       "0   hola mundo"
      ]
     },
     "execution_count": 3,
     "metadata": {},
     "output_type": "execute_result"
    }
   ],
   "source": [
    "%%sql\n",
    "select 'hola mundo'"
   ]
  },
  {
   "cell_type": "markdown",
   "metadata": {
    "id": "ryBbnrxaUdzc"
   },
   "source": [
    "Para cargar el archivo `.csv` a una tabla pasando su ubicación a través de la variable `dataset_path`:"
   ]
  },
  {
   "cell_type": "code",
   "execution_count": 4,
   "metadata": {
    "id": "U-Sp5eNSUtdI"
   },
   "outputs": [],
   "source": [
    "dataset_path = '/home/bita/dmeyf/datasets/'\n",
    "dataset_file = 'competencia_01_crudo.csv'"
   ]
  },
  {
   "cell_type": "code",
   "execution_count": 5,
   "metadata": {
    "id": "tXDmDCN1UjPe"
   },
   "outputs": [
    {
     "data": {
      "text/html": [
       "<div>\n",
       "<style scoped>\n",
       "    .dataframe tbody tr th:only-of-type {\n",
       "        vertical-align: middle;\n",
       "    }\n",
       "\n",
       "    .dataframe tbody tr th {\n",
       "        vertical-align: top;\n",
       "    }\n",
       "\n",
       "    .dataframe thead th {\n",
       "        text-align: right;\n",
       "    }\n",
       "</style>\n",
       "<table border=\"1\" class=\"dataframe\">\n",
       "  <thead>\n",
       "    <tr style=\"text-align: right;\">\n",
       "      <th></th>\n",
       "      <th>Success</th>\n",
       "    </tr>\n",
       "  </thead>\n",
       "  <tbody>\n",
       "  </tbody>\n",
       "</table>\n",
       "</div>"
      ],
      "text/plain": [
       "Empty DataFrame\n",
       "Columns: [Success]\n",
       "Index: []"
      ]
     },
     "execution_count": 5,
     "metadata": {},
     "output_type": "execute_result"
    }
   ],
   "source": [
    "%%sql\n",
    "create or replace table competencia_01_crudo as\n",
    "select\n",
    "    *\n",
    "from read_csv_auto(\"{{dataset_path + dataset_file}}\")"
   ]
  },
  {
   "cell_type": "markdown",
   "metadata": {
    "id": "adhNnPNzVH2L"
   },
   "source": [
    "Hagamos unas queries básicas para comprobar que todo esta funcionando bien."
   ]
  },
  {
   "cell_type": "code",
   "execution_count": 6,
   "metadata": {
    "id": "OwAFMhLiVfVN"
   },
   "outputs": [
    {
     "data": {
      "text/html": [
       "<div>\n",
       "<style scoped>\n",
       "    .dataframe tbody tr th:only-of-type {\n",
       "        vertical-align: middle;\n",
       "    }\n",
       "\n",
       "    .dataframe tbody tr th {\n",
       "        vertical-align: top;\n",
       "    }\n",
       "\n",
       "    .dataframe thead th {\n",
       "        text-align: right;\n",
       "    }\n",
       "</style>\n",
       "<table border=\"1\" class=\"dataframe\">\n",
       "  <thead>\n",
       "    <tr style=\"text-align: right;\">\n",
       "      <th></th>\n",
       "      <th>numero_de_cliente</th>\n",
       "      <th>foto_mes</th>\n",
       "      <th>active_quarter</th>\n",
       "      <th>cliente_vip</th>\n",
       "      <th>internet</th>\n",
       "      <th>cliente_edad</th>\n",
       "      <th>cliente_antiguedad</th>\n",
       "      <th>mrentabilidad</th>\n",
       "      <th>mrentabilidad_annual</th>\n",
       "      <th>mcomisiones</th>\n",
       "      <th>...</th>\n",
       "      <th>Visa_madelantodolares</th>\n",
       "      <th>Visa_fultimo_cierre</th>\n",
       "      <th>Visa_mpagado</th>\n",
       "      <th>Visa_mpagospesos</th>\n",
       "      <th>Visa_mpagosdolares</th>\n",
       "      <th>Visa_fechaalta</th>\n",
       "      <th>Visa_mconsumototal</th>\n",
       "      <th>Visa_cconsumos</th>\n",
       "      <th>Visa_cadelantosefectivo</th>\n",
       "      <th>Visa_mpagominimo</th>\n",
       "    </tr>\n",
       "  </thead>\n",
       "  <tbody>\n",
       "    <tr>\n",
       "      <th>0</th>\n",
       "      <td>249221109</td>\n",
       "      <td>202101</td>\n",
       "      <td>1</td>\n",
       "      <td>0</td>\n",
       "      <td>0</td>\n",
       "      <td>61</td>\n",
       "      <td>300</td>\n",
       "      <td>1664.94</td>\n",
       "      <td>17994.40</td>\n",
       "      <td>1605.81</td>\n",
       "      <td>...</td>\n",
       "      <td>0.0</td>\n",
       "      <td>4</td>\n",
       "      <td>0.0</td>\n",
       "      <td>-37098.90</td>\n",
       "      <td>0.0</td>\n",
       "      <td>7867</td>\n",
       "      <td>118514.88</td>\n",
       "      <td>10</td>\n",
       "      <td>0</td>\n",
       "      <td>76538.25</td>\n",
       "    </tr>\n",
       "    <tr>\n",
       "      <th>1</th>\n",
       "      <td>249221468</td>\n",
       "      <td>202101</td>\n",
       "      <td>1</td>\n",
       "      <td>0</td>\n",
       "      <td>0</td>\n",
       "      <td>53</td>\n",
       "      <td>37</td>\n",
       "      <td>4879.78</td>\n",
       "      <td>18640.95</td>\n",
       "      <td>1149.08</td>\n",
       "      <td>...</td>\n",
       "      <td>0.0</td>\n",
       "      <td>4</td>\n",
       "      <td>0.0</td>\n",
       "      <td>-9864.93</td>\n",
       "      <td>0.0</td>\n",
       "      <td>1124</td>\n",
       "      <td>31427.14</td>\n",
       "      <td>14</td>\n",
       "      <td>0</td>\n",
       "      <td>0.00</td>\n",
       "    </tr>\n",
       "    <tr>\n",
       "      <th>2</th>\n",
       "      <td>249223005</td>\n",
       "      <td>202101</td>\n",
       "      <td>1</td>\n",
       "      <td>0</td>\n",
       "      <td>0</td>\n",
       "      <td>48</td>\n",
       "      <td>202</td>\n",
       "      <td>1828.35</td>\n",
       "      <td>37789.01</td>\n",
       "      <td>610.12</td>\n",
       "      <td>...</td>\n",
       "      <td>0.0</td>\n",
       "      <td>4</td>\n",
       "      <td>0.0</td>\n",
       "      <td>-32119.08</td>\n",
       "      <td>0.0</td>\n",
       "      <td>3486</td>\n",
       "      <td>855.11</td>\n",
       "      <td>2</td>\n",
       "      <td>0</td>\n",
       "      <td>19389.69</td>\n",
       "    </tr>\n",
       "    <tr>\n",
       "      <th>3</th>\n",
       "      <td>249228180</td>\n",
       "      <td>202101</td>\n",
       "      <td>1</td>\n",
       "      <td>0</td>\n",
       "      <td>0</td>\n",
       "      <td>66</td>\n",
       "      <td>320</td>\n",
       "      <td>175.87</td>\n",
       "      <td>2600.67</td>\n",
       "      <td>276.22</td>\n",
       "      <td>...</td>\n",
       "      <td>0.0</td>\n",
       "      <td>4</td>\n",
       "      <td>0.0</td>\n",
       "      <td>-10891.30</td>\n",
       "      <td>0.0</td>\n",
       "      <td>8925</td>\n",
       "      <td>7517.73</td>\n",
       "      <td>6</td>\n",
       "      <td>0</td>\n",
       "      <td>516.12</td>\n",
       "    </tr>\n",
       "    <tr>\n",
       "      <th>4</th>\n",
       "      <td>249232117</td>\n",
       "      <td>202101</td>\n",
       "      <td>1</td>\n",
       "      <td>0</td>\n",
       "      <td>0</td>\n",
       "      <td>79</td>\n",
       "      <td>373</td>\n",
       "      <td>16600.69</td>\n",
       "      <td>32270.07</td>\n",
       "      <td>16367.13</td>\n",
       "      <td>...</td>\n",
       "      <td>0.0</td>\n",
       "      <td>4</td>\n",
       "      <td>0.0</td>\n",
       "      <td>-43610.75</td>\n",
       "      <td>0.0</td>\n",
       "      <td>8607</td>\n",
       "      <td>37309.25</td>\n",
       "      <td>5</td>\n",
       "      <td>0</td>\n",
       "      <td>3084.99</td>\n",
       "    </tr>\n",
       "  </tbody>\n",
       "</table>\n",
       "<p>5 rows × 154 columns</p>\n",
       "</div>"
      ],
      "text/plain": [
       "   numero_de_cliente  foto_mes  active_quarter  cliente_vip  internet  \\\n",
       "0          249221109    202101               1            0         0   \n",
       "1          249221468    202101               1            0         0   \n",
       "2          249223005    202101               1            0         0   \n",
       "3          249228180    202101               1            0         0   \n",
       "4          249232117    202101               1            0         0   \n",
       "\n",
       "   cliente_edad  cliente_antiguedad  mrentabilidad  mrentabilidad_annual  \\\n",
       "0            61                 300        1664.94              17994.40   \n",
       "1            53                  37        4879.78              18640.95   \n",
       "2            48                 202        1828.35              37789.01   \n",
       "3            66                 320         175.87               2600.67   \n",
       "4            79                 373       16600.69              32270.07   \n",
       "\n",
       "   mcomisiones  ...  Visa_madelantodolares  Visa_fultimo_cierre  Visa_mpagado  \\\n",
       "0      1605.81  ...                    0.0                    4           0.0   \n",
       "1      1149.08  ...                    0.0                    4           0.0   \n",
       "2       610.12  ...                    0.0                    4           0.0   \n",
       "3       276.22  ...                    0.0                    4           0.0   \n",
       "4     16367.13  ...                    0.0                    4           0.0   \n",
       "\n",
       "   Visa_mpagospesos  Visa_mpagosdolares  Visa_fechaalta  Visa_mconsumototal  \\\n",
       "0         -37098.90                 0.0            7867           118514.88   \n",
       "1          -9864.93                 0.0            1124            31427.14   \n",
       "2         -32119.08                 0.0            3486              855.11   \n",
       "3         -10891.30                 0.0            8925             7517.73   \n",
       "4         -43610.75                 0.0            8607            37309.25   \n",
       "\n",
       "   Visa_cconsumos  Visa_cadelantosefectivo  Visa_mpagominimo  \n",
       "0              10                        0          76538.25  \n",
       "1              14                        0              0.00  \n",
       "2               2                        0          19389.69  \n",
       "3               6                        0            516.12  \n",
       "4               5                        0           3084.99  \n",
       "\n",
       "[5 rows x 154 columns]"
      ]
     },
     "execution_count": 6,
     "metadata": {},
     "output_type": "execute_result"
    }
   ],
   "source": [
    "%sql select * from competencia_01_crudo limit 5"
   ]
  },
  {
   "cell_type": "code",
   "execution_count": 7,
   "metadata": {
    "id": "_Xzf9v9zVihU"
   },
   "outputs": [
    {
     "data": {
      "text/html": [
       "<div>\n",
       "<style scoped>\n",
       "    .dataframe tbody tr th:only-of-type {\n",
       "        vertical-align: middle;\n",
       "    }\n",
       "\n",
       "    .dataframe tbody tr th {\n",
       "        vertical-align: top;\n",
       "    }\n",
       "\n",
       "    .dataframe thead th {\n",
       "        text-align: right;\n",
       "    }\n",
       "</style>\n",
       "<table border=\"1\" class=\"dataframe\">\n",
       "  <thead>\n",
       "    <tr style=\"text-align: right;\">\n",
       "      <th></th>\n",
       "      <th>foto_mes</th>\n",
       "      <th>cantidad</th>\n",
       "    </tr>\n",
       "  </thead>\n",
       "  <tbody>\n",
       "    <tr>\n",
       "      <th>0</th>\n",
       "      <td>202101</td>\n",
       "      <td>162026</td>\n",
       "    </tr>\n",
       "    <tr>\n",
       "      <th>1</th>\n",
       "      <td>202102</td>\n",
       "      <td>162646</td>\n",
       "    </tr>\n",
       "    <tr>\n",
       "      <th>2</th>\n",
       "      <td>202103</td>\n",
       "      <td>163685</td>\n",
       "    </tr>\n",
       "    <tr>\n",
       "      <th>3</th>\n",
       "      <td>202104</td>\n",
       "      <td>164090</td>\n",
       "    </tr>\n",
       "    <tr>\n",
       "      <th>4</th>\n",
       "      <td>202105</td>\n",
       "      <td>164623</td>\n",
       "    </tr>\n",
       "    <tr>\n",
       "      <th>5</th>\n",
       "      <td>202106</td>\n",
       "      <td>164876</td>\n",
       "    </tr>\n",
       "  </tbody>\n",
       "</table>\n",
       "</div>"
      ],
      "text/plain": [
       "   foto_mes  cantidad\n",
       "0    202101    162026\n",
       "1    202102    162646\n",
       "2    202103    163685\n",
       "3    202104    164090\n",
       "4    202105    164623\n",
       "5    202106    164876"
      ]
     },
     "execution_count": 7,
     "metadata": {},
     "output_type": "execute_result"
    }
   ],
   "source": [
    "%%sql\n",
    "select\n",
    "    foto_mes\n",
    "    , count(*) as cantidad -- cuenta cuantos casos hay en cada foto_mes\n",
    "                           -- y lo guarda en un campo llamado cantidad\n",
    "from competencia_01_crudo\n",
    "group by foto_mes"
   ]
  },
  {
   "cell_type": "markdown",
   "metadata": {
    "id": "wWfNQsvZVljl"
   },
   "source": [
    "Perfecto, ahora cree una nueva tabla con la variable adicional que se le pide."
   ]
  },
  {
   "cell_type": "code",
   "execution_count": 8,
   "metadata": {},
   "outputs": [
    {
     "data": {
      "text/html": [
       "<div>\n",
       "<style scoped>\n",
       "    .dataframe tbody tr th:only-of-type {\n",
       "        vertical-align: middle;\n",
       "    }\n",
       "\n",
       "    .dataframe tbody tr th {\n",
       "        vertical-align: top;\n",
       "    }\n",
       "\n",
       "    .dataframe thead th {\n",
       "        text-align: right;\n",
       "    }\n",
       "</style>\n",
       "<table border=\"1\" class=\"dataframe\">\n",
       "  <thead>\n",
       "    <tr style=\"text-align: right;\">\n",
       "      <th></th>\n",
       "      <th>Success</th>\n",
       "    </tr>\n",
       "  </thead>\n",
       "  <tbody>\n",
       "  </tbody>\n",
       "</table>\n",
       "</div>"
      ],
      "text/plain": [
       "Empty DataFrame\n",
       "Columns: [Success]\n",
       "Index: []"
      ]
     },
     "execution_count": 8,
     "metadata": {},
     "output_type": "execute_result"
    }
   ],
   "source": [
    "%%sql\n",
    "CREATE OR REPLACE TABLE clientes_por_mes AS\n",
    "SELECT DISTINCT numero_de_cliente, foto_mes\n",
    "FROM competencia_01_crudo;"
   ]
  },
  {
   "cell_type": "code",
   "execution_count": 9,
   "metadata": {},
   "outputs": [
    {
     "data": {
      "text/html": [
       "<div>\n",
       "<style scoped>\n",
       "    .dataframe tbody tr th:only-of-type {\n",
       "        vertical-align: middle;\n",
       "    }\n",
       "\n",
       "    .dataframe tbody tr th {\n",
       "        vertical-align: top;\n",
       "    }\n",
       "\n",
       "    .dataframe thead th {\n",
       "        text-align: right;\n",
       "    }\n",
       "</style>\n",
       "<table border=\"1\" class=\"dataframe\">\n",
       "  <thead>\n",
       "    <tr style=\"text-align: right;\">\n",
       "      <th></th>\n",
       "      <th>Success</th>\n",
       "    </tr>\n",
       "  </thead>\n",
       "  <tbody>\n",
       "  </tbody>\n",
       "</table>\n",
       "</div>"
      ],
      "text/plain": [
       "Empty DataFrame\n",
       "Columns: [Success]\n",
       "Index: []"
      ]
     },
     "execution_count": 9,
     "metadata": {},
     "output_type": "execute_result"
    }
   ],
   "source": [
    "%%sql\n",
    "-- Crear una tabla temporal para obtener el estado de los clientes\n",
    "CREATE OR REPLACE TABLE clientes_estado AS\n",
    "WITH clientes_foto_mes AS (\n",
    "    SELECT\n",
    "        c1.numero_de_cliente,\n",
    "        c1.foto_mes AS foto_mes_actual,\n",
    "        c2.foto_mes AS foto_mes_siguiente,\n",
    "        c3.foto_mes AS foto_mes_dos_meses\n",
    "    FROM clientes_por_mes c1\n",
    "    LEFT JOIN clientes_por_mes c2\n",
    "        ON c1.numero_de_cliente = c2.numero_de_cliente\n",
    "        AND c2.foto_mes = c1.foto_mes + 1\n",
    "    LEFT JOIN clientes_por_mes c3\n",
    "        ON c1.numero_de_cliente = c3.numero_de_cliente\n",
    "        AND c3.foto_mes = c1.foto_mes + 2\n",
    ")\n",
    "SELECT\n",
    "    numero_de_cliente,\n",
    "    foto_mes_actual,\n",
    "    CASE\n",
    "        WHEN foto_mes_siguiente IS NOT NULL AND foto_mes_dos_meses IS NOT NULL THEN 'CONTINUA'\n",
    "        WHEN foto_mes_siguiente IS NULL AND foto_mes_dos_meses IS NOT NULL THEN 'BAJA+1'\n",
    "        WHEN foto_mes_siguiente IS NULL AND foto_mes_dos_meses IS NULL THEN 'BAJA+2'\n",
    "        ELSE NULL\n",
    "    END AS clase_ternaria\n",
    "FROM clientes_foto_mes;\n"
   ]
  },
  {
   "cell_type": "code",
   "execution_count": 10,
   "metadata": {},
   "outputs": [
    {
     "data": {
      "text/html": [
       "<div>\n",
       "<style scoped>\n",
       "    .dataframe tbody tr th:only-of-type {\n",
       "        vertical-align: middle;\n",
       "    }\n",
       "\n",
       "    .dataframe tbody tr th {\n",
       "        vertical-align: top;\n",
       "    }\n",
       "\n",
       "    .dataframe thead th {\n",
       "        text-align: right;\n",
       "    }\n",
       "</style>\n",
       "<table border=\"1\" class=\"dataframe\">\n",
       "  <thead>\n",
       "    <tr style=\"text-align: right;\">\n",
       "      <th></th>\n",
       "      <th>Success</th>\n",
       "    </tr>\n",
       "  </thead>\n",
       "  <tbody>\n",
       "  </tbody>\n",
       "</table>\n",
       "</div>"
      ],
      "text/plain": [
       "Empty DataFrame\n",
       "Columns: [Success]\n",
       "Index: []"
      ]
     },
     "execution_count": 10,
     "metadata": {},
     "output_type": "execute_result"
    }
   ],
   "source": [
    "%%sql\n",
    "CREATE OR REPLACE TABLE competencia_01 AS\n",
    "SELECT c.*, e.clase_ternaria\n",
    "FROM competencia_01_crudo c\n",
    "LEFT JOIN clientes_estado e\n",
    "    ON c.numero_de_cliente = e.numero_de_cliente\n",
    "    AND c.foto_mes = e.foto_mes_actual;"
   ]
  },
  {
   "cell_type": "code",
   "execution_count": 11,
   "metadata": {
    "id": "0D5fdoMabGhI"
   },
   "outputs": [
    {
     "data": {
      "text/html": [
       "<div>\n",
       "<style scoped>\n",
       "    .dataframe tbody tr th:only-of-type {\n",
       "        vertical-align: middle;\n",
       "    }\n",
       "\n",
       "    .dataframe tbody tr th {\n",
       "        vertical-align: top;\n",
       "    }\n",
       "\n",
       "    .dataframe thead th {\n",
       "        text-align: right;\n",
       "    }\n",
       "</style>\n",
       "<table border=\"1\" class=\"dataframe\">\n",
       "  <thead>\n",
       "    <tr style=\"text-align: right;\">\n",
       "      <th></th>\n",
       "      <th>numero_de_cliente</th>\n",
       "      <th>foto_mes</th>\n",
       "      <th>active_quarter</th>\n",
       "      <th>cliente_vip</th>\n",
       "      <th>internet</th>\n",
       "      <th>cliente_edad</th>\n",
       "      <th>cliente_antiguedad</th>\n",
       "      <th>mrentabilidad</th>\n",
       "      <th>mrentabilidad_annual</th>\n",
       "      <th>mcomisiones</th>\n",
       "      <th>...</th>\n",
       "      <th>Visa_fultimo_cierre</th>\n",
       "      <th>Visa_mpagado</th>\n",
       "      <th>Visa_mpagospesos</th>\n",
       "      <th>Visa_mpagosdolares</th>\n",
       "      <th>Visa_fechaalta</th>\n",
       "      <th>Visa_mconsumototal</th>\n",
       "      <th>Visa_cconsumos</th>\n",
       "      <th>Visa_cadelantosefectivo</th>\n",
       "      <th>Visa_mpagominimo</th>\n",
       "      <th>clase_ternaria</th>\n",
       "    </tr>\n",
       "  </thead>\n",
       "  <tbody>\n",
       "    <tr>\n",
       "      <th>0</th>\n",
       "      <td>301268134</td>\n",
       "      <td>202103</td>\n",
       "      <td>1</td>\n",
       "      <td>0</td>\n",
       "      <td>0</td>\n",
       "      <td>50</td>\n",
       "      <td>322</td>\n",
       "      <td>26322.14</td>\n",
       "      <td>118447.18</td>\n",
       "      <td>1319.62</td>\n",
       "      <td>...</td>\n",
       "      <td>7</td>\n",
       "      <td>0.00</td>\n",
       "      <td>-67236.36</td>\n",
       "      <td>0.0</td>\n",
       "      <td>5221</td>\n",
       "      <td>50168.68</td>\n",
       "      <td>49.0</td>\n",
       "      <td>5.0</td>\n",
       "      <td>69019.32</td>\n",
       "      <td>CONTINUA</td>\n",
       "    </tr>\n",
       "    <tr>\n",
       "      <th>1</th>\n",
       "      <td>301272583</td>\n",
       "      <td>202103</td>\n",
       "      <td>1</td>\n",
       "      <td>0</td>\n",
       "      <td>0</td>\n",
       "      <td>59</td>\n",
       "      <td>322</td>\n",
       "      <td>2015.63</td>\n",
       "      <td>19569.12</td>\n",
       "      <td>2010.69</td>\n",
       "      <td>...</td>\n",
       "      <td>7</td>\n",
       "      <td>0.00</td>\n",
       "      <td>-18660.33</td>\n",
       "      <td>0.0</td>\n",
       "      <td>7440</td>\n",
       "      <td>19730.69</td>\n",
       "      <td>13.0</td>\n",
       "      <td>0.0</td>\n",
       "      <td>1020.51</td>\n",
       "      <td>CONTINUA</td>\n",
       "    </tr>\n",
       "    <tr>\n",
       "      <th>2</th>\n",
       "      <td>301274914</td>\n",
       "      <td>202103</td>\n",
       "      <td>1</td>\n",
       "      <td>0</td>\n",
       "      <td>0</td>\n",
       "      <td>68</td>\n",
       "      <td>133</td>\n",
       "      <td>1664.39</td>\n",
       "      <td>-3524.50</td>\n",
       "      <td>2305.61</td>\n",
       "      <td>...</td>\n",
       "      <td>1</td>\n",
       "      <td>0.00</td>\n",
       "      <td>-10325.59</td>\n",
       "      <td>0.0</td>\n",
       "      <td>3810</td>\n",
       "      <td>457.47</td>\n",
       "      <td>1.0</td>\n",
       "      <td>0.0</td>\n",
       "      <td>3038.07</td>\n",
       "      <td>CONTINUA</td>\n",
       "    </tr>\n",
       "    <tr>\n",
       "      <th>3</th>\n",
       "      <td>301280892</td>\n",
       "      <td>202103</td>\n",
       "      <td>1</td>\n",
       "      <td>0</td>\n",
       "      <td>0</td>\n",
       "      <td>46</td>\n",
       "      <td>182</td>\n",
       "      <td>6391.98</td>\n",
       "      <td>50678.79</td>\n",
       "      <td>1904.15</td>\n",
       "      <td>...</td>\n",
       "      <td>7</td>\n",
       "      <td>13085.94</td>\n",
       "      <td>-12558.11</td>\n",
       "      <td>0.0</td>\n",
       "      <td>4704</td>\n",
       "      <td>1977.16</td>\n",
       "      <td>4.0</td>\n",
       "      <td>0.0</td>\n",
       "      <td>1313.76</td>\n",
       "      <td>CONTINUA</td>\n",
       "    </tr>\n",
       "    <tr>\n",
       "      <th>4</th>\n",
       "      <td>301282429</td>\n",
       "      <td>202103</td>\n",
       "      <td>1</td>\n",
       "      <td>0</td>\n",
       "      <td>0</td>\n",
       "      <td>51</td>\n",
       "      <td>184</td>\n",
       "      <td>1925.65</td>\n",
       "      <td>18761.07</td>\n",
       "      <td>1592.20</td>\n",
       "      <td>...</td>\n",
       "      <td>1</td>\n",
       "      <td>0.00</td>\n",
       "      <td>NaN</td>\n",
       "      <td>NaN</td>\n",
       "      <td>5589</td>\n",
       "      <td>NaN</td>\n",
       "      <td>NaN</td>\n",
       "      <td>NaN</td>\n",
       "      <td>0.00</td>\n",
       "      <td>CONTINUA</td>\n",
       "    </tr>\n",
       "  </tbody>\n",
       "</table>\n",
       "<p>5 rows × 155 columns</p>\n",
       "</div>"
      ],
      "text/plain": [
       "   numero_de_cliente  foto_mes  active_quarter  cliente_vip  internet  \\\n",
       "0          301268134    202103               1            0         0   \n",
       "1          301272583    202103               1            0         0   \n",
       "2          301274914    202103               1            0         0   \n",
       "3          301280892    202103               1            0         0   \n",
       "4          301282429    202103               1            0         0   \n",
       "\n",
       "   cliente_edad  cliente_antiguedad  mrentabilidad  mrentabilidad_annual  \\\n",
       "0            50                 322       26322.14             118447.18   \n",
       "1            59                 322        2015.63              19569.12   \n",
       "2            68                 133        1664.39              -3524.50   \n",
       "3            46                 182        6391.98              50678.79   \n",
       "4            51                 184        1925.65              18761.07   \n",
       "\n",
       "   mcomisiones  ...  Visa_fultimo_cierre  Visa_mpagado  Visa_mpagospesos  \\\n",
       "0      1319.62  ...                    7          0.00         -67236.36   \n",
       "1      2010.69  ...                    7          0.00         -18660.33   \n",
       "2      2305.61  ...                    1          0.00         -10325.59   \n",
       "3      1904.15  ...                    7      13085.94         -12558.11   \n",
       "4      1592.20  ...                    1          0.00               NaN   \n",
       "\n",
       "   Visa_mpagosdolares  Visa_fechaalta  Visa_mconsumototal  Visa_cconsumos  \\\n",
       "0                 0.0            5221            50168.68            49.0   \n",
       "1                 0.0            7440            19730.69            13.0   \n",
       "2                 0.0            3810              457.47             1.0   \n",
       "3                 0.0            4704             1977.16             4.0   \n",
       "4                 NaN            5589                 NaN             NaN   \n",
       "\n",
       "   Visa_cadelantosefectivo  Visa_mpagominimo  clase_ternaria  \n",
       "0                      5.0          69019.32        CONTINUA  \n",
       "1                      0.0           1020.51        CONTINUA  \n",
       "2                      0.0           3038.07        CONTINUA  \n",
       "3                      0.0           1313.76        CONTINUA  \n",
       "4                      NaN              0.00        CONTINUA  \n",
       "\n",
       "[5 rows x 155 columns]"
      ]
     },
     "execution_count": 11,
     "metadata": {},
     "output_type": "execute_result"
    }
   ],
   "source": [
    "%sql select * from competencia_01 limit 5"
   ]
  },
  {
   "cell_type": "markdown",
   "metadata": {
    "id": "BqDqo0WrV9F2"
   },
   "source": [
    "## Ejercicio 1.1\n",
    "* ¿Cuál es la nominalidad de cada clase?\n"
   ]
  },
  {
   "cell_type": "code",
   "execution_count": 12,
   "metadata": {
    "id": "YdzS2DsIYbWL",
    "scrolled": true
   },
   "outputs": [
    {
     "data": {
      "text/html": [
       "<div>\n",
       "<style scoped>\n",
       "    .dataframe tbody tr th:only-of-type {\n",
       "        vertical-align: middle;\n",
       "    }\n",
       "\n",
       "    .dataframe tbody tr th {\n",
       "        vertical-align: top;\n",
       "    }\n",
       "\n",
       "    .dataframe thead th {\n",
       "        text-align: right;\n",
       "    }\n",
       "</style>\n",
       "<table border=\"1\" class=\"dataframe\">\n",
       "  <thead>\n",
       "    <tr style=\"text-align: right;\">\n",
       "      <th></th>\n",
       "      <th>foto_mes</th>\n",
       "      <th>BAJA+1</th>\n",
       "      <th>BAJA+2</th>\n",
       "      <th>CONTINUA</th>\n",
       "    </tr>\n",
       "  </thead>\n",
       "  <tbody>\n",
       "    <tr>\n",
       "      <th>0</th>\n",
       "      <td>202101</td>\n",
       "      <td>1</td>\n",
       "      <td>635</td>\n",
       "      <td>160605</td>\n",
       "    </tr>\n",
       "    <tr>\n",
       "      <th>1</th>\n",
       "      <td>202102</td>\n",
       "      <td>5</td>\n",
       "      <td>785</td>\n",
       "      <td>160839</td>\n",
       "    </tr>\n",
       "    <tr>\n",
       "      <th>2</th>\n",
       "      <td>202103</td>\n",
       "      <td>3</td>\n",
       "      <td>1020</td>\n",
       "      <td>161681</td>\n",
       "    </tr>\n",
       "    <tr>\n",
       "      <th>3</th>\n",
       "      <td>202104</td>\n",
       "      <td>5</td>\n",
       "      <td>982</td>\n",
       "      <td>161914</td>\n",
       "    </tr>\n",
       "    <tr>\n",
       "      <th>4</th>\n",
       "      <td>202105</td>\n",
       "      <td>0</td>\n",
       "      <td>1192</td>\n",
       "      <td>0</td>\n",
       "    </tr>\n",
       "    <tr>\n",
       "      <th>5</th>\n",
       "      <td>202106</td>\n",
       "      <td>0</td>\n",
       "      <td>164876</td>\n",
       "      <td>0</td>\n",
       "    </tr>\n",
       "  </tbody>\n",
       "</table>\n",
       "</div>"
      ],
      "text/plain": [
       "   foto_mes  BAJA+1  BAJA+2  CONTINUA\n",
       "0    202101       1     635    160605\n",
       "1    202102       5     785    160839\n",
       "2    202103       3    1020    161681\n",
       "3    202104       5     982    161914\n",
       "4    202105       0    1192         0\n",
       "5    202106       0  164876         0"
      ]
     },
     "execution_count": 12,
     "metadata": {},
     "output_type": "execute_result"
    }
   ],
   "source": [
    "%%sql\n",
    "PIVOT competencia_01\n",
    "on clase_ternaria\n",
    "USING count(numero_de_cliente)\n",
    "GROUP BY foto_mes"
   ]
  },
  {
   "cell_type": "code",
   "execution_count": 13,
   "metadata": {},
   "outputs": [
    {
     "data": {
      "text/html": [
       "<div>\n",
       "<style scoped>\n",
       "    .dataframe tbody tr th:only-of-type {\n",
       "        vertical-align: middle;\n",
       "    }\n",
       "\n",
       "    .dataframe tbody tr th {\n",
       "        vertical-align: top;\n",
       "    }\n",
       "\n",
       "    .dataframe thead th {\n",
       "        text-align: right;\n",
       "    }\n",
       "</style>\n",
       "<table border=\"1\" class=\"dataframe\">\n",
       "  <thead>\n",
       "    <tr style=\"text-align: right;\">\n",
       "      <th></th>\n",
       "      <th>clase_ternaria</th>\n",
       "      <th>cantidad_clientes</th>\n",
       "    </tr>\n",
       "  </thead>\n",
       "  <tbody>\n",
       "    <tr>\n",
       "      <th>0</th>\n",
       "      <td>None</td>\n",
       "      <td>167403</td>\n",
       "    </tr>\n",
       "    <tr>\n",
       "      <th>1</th>\n",
       "      <td>BAJA+2</td>\n",
       "      <td>169490</td>\n",
       "    </tr>\n",
       "    <tr>\n",
       "      <th>2</th>\n",
       "      <td>CONTINUA</td>\n",
       "      <td>645039</td>\n",
       "    </tr>\n",
       "    <tr>\n",
       "      <th>3</th>\n",
       "      <td>BAJA+1</td>\n",
       "      <td>14</td>\n",
       "    </tr>\n",
       "  </tbody>\n",
       "</table>\n",
       "</div>"
      ],
      "text/plain": [
       "  clase_ternaria  cantidad_clientes\n",
       "0           None             167403\n",
       "1         BAJA+2             169490\n",
       "2       CONTINUA             645039\n",
       "3         BAJA+1                 14"
      ]
     },
     "execution_count": 13,
     "metadata": {},
     "output_type": "execute_result"
    }
   ],
   "source": [
    "%%sql\n",
    "SELECT clase_ternaria,\n",
    "       COUNT(*) AS cantidad_clientes\n",
    "FROM competencia_01\n",
    "GROUP BY clase_ternaria;"
   ]
  },
  {
   "cell_type": "markdown",
   "metadata": {
    "id": "ejh1jzO2Y7jY"
   },
   "source": [
    "* ¿Cuál es la proporción del target?\n",
    "\n",
    "## Guardar tabla en .csv\n",
    "\n",
    "Para guardar a un `.csv` simplemente debe ejecutar la siguiente sentencia"
   ]
  },
  {
   "cell_type": "code",
   "execution_count": 15,
   "metadata": {
    "id": "I9venBPpWs86"
   },
   "outputs": [
    {
     "data": {
      "text/html": [
       "<div>\n",
       "<style scoped>\n",
       "    .dataframe tbody tr th:only-of-type {\n",
       "        vertical-align: middle;\n",
       "    }\n",
       "\n",
       "    .dataframe tbody tr th {\n",
       "        vertical-align: top;\n",
       "    }\n",
       "\n",
       "    .dataframe thead th {\n",
       "        text-align: right;\n",
       "    }\n",
       "</style>\n",
       "<table border=\"1\" class=\"dataframe\">\n",
       "  <thead>\n",
       "    <tr style=\"text-align: right;\">\n",
       "      <th></th>\n",
       "      <th>Success</th>\n",
       "    </tr>\n",
       "  </thead>\n",
       "  <tbody>\n",
       "  </tbody>\n",
       "</table>\n",
       "</div>"
      ],
      "text/plain": [
       "Empty DataFrame\n",
       "Columns: [Success]\n",
       "Index: []"
      ]
     },
     "execution_count": 15,
     "metadata": {},
     "output_type": "execute_result"
    }
   ],
   "source": [
    "%sql COPY competencia_01 TO '{{dataset_path}}competencia_01.csv' (FORMAT CSV, HEADER)"
   ]
  },
  {
   "cell_type": "code",
   "execution_count": null,
   "metadata": {},
   "outputs": [],
   "source": []
  }
 ],
 "metadata": {
  "colab": {
   "authorship_tag": "ABX9TyMB3mxGMLKGI0GbGagPD3Ci",
   "provenance": []
  },
  "kernelspec": {
   "display_name": "Python 3 (ipykernel)",
   "language": "python",
   "name": "python3"
  },
  "language_info": {
   "codemirror_mode": {
    "name": "ipython",
    "version": 3
   },
   "file_extension": ".py",
   "mimetype": "text/x-python",
   "name": "python",
   "nbconvert_exporter": "python",
   "pygments_lexer": "ipython3",
   "version": "3.12.3"
  },
  "toc": {
   "base_numbering": 1,
   "nav_menu": {},
   "number_sections": true,
   "sideBar": true,
   "skip_h1_title": false,
   "title_cell": "Table of Contents",
   "title_sidebar": "Contents",
   "toc_cell": false,
   "toc_position": {},
   "toc_section_display": true,
   "toc_window_display": false
  }
 },
 "nbformat": 4,
 "nbformat_minor": 4
}
