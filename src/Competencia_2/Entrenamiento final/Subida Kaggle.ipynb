{
 "cells": [
  {
   "cell_type": "code",
   "execution_count": 1,
   "metadata": {},
   "outputs": [],
   "source": [
    "import pandas as pd\n",
    "import numpy as np\n",
    "import seaborn as sns\n",
    "import matplotlib.pyplot as plt\n",
    "import os \n",
    "from time import time\n",
    "from kaggle.api.kaggle_api_extended import KaggleApi"
   ]
  },
  {
   "cell_type": "code",
   "execution_count": 15,
   "metadata": {},
   "outputs": [],
   "source": [
    "base_path = 'C:/Users/Federico/Desktop/Maestria Data mining/DM EyF/'\n",
    "dataset_path = base_path + 'datasets/Competencia_02/'\n",
    "modelos_path = base_path + 'modelos/'\n",
    "db_path = base_path + 'db/'\n",
    "name_predict = 'predicciones_Modelo_final_predicciones_bootstrap.csv'\n",
    "\n",
    "tb_entrega=pd.read_csv(dataset_path + name_predict)"
   ]
  },
  {
   "cell_type": "code",
   "execution_count": 16,
   "metadata": {},
   "outputs": [
    {
     "data": {
      "text/html": [
       "<div>\n",
       "<style scoped>\n",
       "    .dataframe tbody tr th:only-of-type {\n",
       "        vertical-align: middle;\n",
       "    }\n",
       "\n",
       "    .dataframe tbody tr th {\n",
       "        vertical-align: top;\n",
       "    }\n",
       "\n",
       "    .dataframe thead th {\n",
       "        text-align: right;\n",
       "    }\n",
       "</style>\n",
       "<table border=\"1\" class=\"dataframe\">\n",
       "  <thead>\n",
       "    <tr style=\"text-align: right;\">\n",
       "      <th></th>\n",
       "      <th>numero_de_cliente</th>\n",
       "      <th>Probabilidad</th>\n",
       "    </tr>\n",
       "  </thead>\n",
       "  <tbody>\n",
       "    <tr>\n",
       "      <th>0</th>\n",
       "      <td>279155483</td>\n",
       "      <td>0.493631</td>\n",
       "    </tr>\n",
       "    <tr>\n",
       "      <th>1</th>\n",
       "      <td>812939367</td>\n",
       "      <td>0.461952</td>\n",
       "    </tr>\n",
       "    <tr>\n",
       "      <th>2</th>\n",
       "      <td>278801707</td>\n",
       "      <td>0.399629</td>\n",
       "    </tr>\n",
       "    <tr>\n",
       "      <th>3</th>\n",
       "      <td>814123845</td>\n",
       "      <td>0.389046</td>\n",
       "    </tr>\n",
       "    <tr>\n",
       "      <th>4</th>\n",
       "      <td>873571147</td>\n",
       "      <td>0.359570</td>\n",
       "    </tr>\n",
       "    <tr>\n",
       "      <th>...</th>\n",
       "      <td>...</td>\n",
       "      <td>...</td>\n",
       "    </tr>\n",
       "    <tr>\n",
       "      <th>165437</th>\n",
       "      <td>484616620</td>\n",
       "      <td>0.000007</td>\n",
       "    </tr>\n",
       "    <tr>\n",
       "      <th>165438</th>\n",
       "      <td>354075280</td>\n",
       "      <td>0.000006</td>\n",
       "    </tr>\n",
       "    <tr>\n",
       "      <th>165439</th>\n",
       "      <td>619341858</td>\n",
       "      <td>0.000006</td>\n",
       "    </tr>\n",
       "    <tr>\n",
       "      <th>165440</th>\n",
       "      <td>261332109</td>\n",
       "      <td>0.000006</td>\n",
       "    </tr>\n",
       "    <tr>\n",
       "      <th>165441</th>\n",
       "      <td>644817320</td>\n",
       "      <td>0.000005</td>\n",
       "    </tr>\n",
       "  </tbody>\n",
       "</table>\n",
       "<p>165442 rows × 2 columns</p>\n",
       "</div>"
      ],
      "text/plain": [
       "        numero_de_cliente  Probabilidad\n",
       "0               279155483      0.493631\n",
       "1               812939367      0.461952\n",
       "2               278801707      0.399629\n",
       "3               814123845      0.389046\n",
       "4               873571147      0.359570\n",
       "...                   ...           ...\n",
       "165437          484616620      0.000007\n",
       "165438          354075280      0.000006\n",
       "165439          619341858      0.000006\n",
       "165440          261332109      0.000006\n",
       "165441          644817320      0.000005\n",
       "\n",
       "[165442 rows x 2 columns]"
      ]
     },
     "execution_count": 16,
     "metadata": {},
     "output_type": "execute_result"
    }
   ],
   "source": [
    "tb_entrega"
   ]
  },
  {
   "cell_type": "code",
   "execution_count": 5,
   "metadata": {},
   "outputs": [],
   "source": [
    "api = KaggleApi()\n",
    "api.authenticate()"
   ]
  },
  {
   "cell_type": "code",
   "execution_count": 19,
   "metadata": {},
   "outputs": [
    {
     "name": "stdout",
     "output_type": "stream",
     "text": [
      "Cantidad de clientes 10000\n"
     ]
    },
    {
     "name": "stderr",
     "output_type": "stream",
     "text": [
      "100%|██████████| 2.09M/2.09M [00:01<00:00, 1.38MB/s]\n"
     ]
    },
    {
     "name": "stdout",
     "output_type": "stream",
     "text": [
      "Submission successful!\n",
      "Cantidad de clientes 10250\n"
     ]
    },
    {
     "name": "stderr",
     "output_type": "stream",
     "text": [
      "100%|██████████| 2.09M/2.09M [00:01<00:00, 1.37MB/s]\n"
     ]
    },
    {
     "name": "stdout",
     "output_type": "stream",
     "text": [
      "Submission successful!\n",
      "Cantidad de clientes 10500\n"
     ]
    },
    {
     "name": "stderr",
     "output_type": "stream",
     "text": [
      "100%|██████████| 2.09M/2.09M [00:01<00:00, 1.34MB/s]\n"
     ]
    },
    {
     "name": "stdout",
     "output_type": "stream",
     "text": [
      "Submission successful!\n",
      "Cantidad de clientes 10750\n"
     ]
    },
    {
     "name": "stderr",
     "output_type": "stream",
     "text": [
      "100%|██████████| 2.09M/2.09M [00:01<00:00, 1.31MB/s]\n"
     ]
    },
    {
     "name": "stdout",
     "output_type": "stream",
     "text": [
      "Submission successful!\n",
      "Cantidad de clientes 11000\n"
     ]
    },
    {
     "name": "stderr",
     "output_type": "stream",
     "text": [
      "100%|██████████| 2.09M/2.09M [00:01<00:00, 1.36MB/s]\n"
     ]
    },
    {
     "name": "stdout",
     "output_type": "stream",
     "text": [
      "Submission successful!\n",
      "Cantidad de clientes 11250\n"
     ]
    },
    {
     "name": "stderr",
     "output_type": "stream",
     "text": [
      "100%|██████████| 2.09M/2.09M [00:01<00:00, 1.35MB/s]\n"
     ]
    },
    {
     "name": "stdout",
     "output_type": "stream",
     "text": [
      "Submission successful!\n",
      "Cantidad de clientes 11500\n"
     ]
    },
    {
     "name": "stderr",
     "output_type": "stream",
     "text": [
      "100%|██████████| 2.09M/2.09M [00:01<00:00, 1.36MB/s]\n"
     ]
    },
    {
     "name": "stdout",
     "output_type": "stream",
     "text": [
      "Submission successful!\n",
      "Cantidad de clientes 11750\n"
     ]
    },
    {
     "name": "stderr",
     "output_type": "stream",
     "text": [
      "100%|██████████| 2.09M/2.09M [00:01<00:00, 1.33MB/s]\n"
     ]
    },
    {
     "name": "stdout",
     "output_type": "stream",
     "text": [
      "Submission successful!\n",
      "Cantidad de clientes 12000\n"
     ]
    },
    {
     "name": "stderr",
     "output_type": "stream",
     "text": [
      "100%|██████████| 2.09M/2.09M [00:01<00:00, 1.34MB/s]\n"
     ]
    },
    {
     "name": "stdout",
     "output_type": "stream",
     "text": [
      "Submission successful!\n",
      "Cantidad de clientes 12250\n"
     ]
    },
    {
     "name": "stderr",
     "output_type": "stream",
     "text": [
      "100%|██████████| 2.09M/2.09M [00:01<00:00, 1.41MB/s]\n"
     ]
    },
    {
     "name": "stdout",
     "output_type": "stream",
     "text": [
      "Submission successful!\n",
      "Cantidad de clientes 12500\n"
     ]
    },
    {
     "name": "stderr",
     "output_type": "stream",
     "text": [
      "100%|██████████| 2.09M/2.09M [00:01<00:00, 1.39MB/s]\n"
     ]
    },
    {
     "name": "stdout",
     "output_type": "stream",
     "text": [
      "Submission successful!\n",
      "Cantidad de clientes 12750\n"
     ]
    },
    {
     "name": "stderr",
     "output_type": "stream",
     "text": [
      "100%|██████████| 2.09M/2.09M [00:01<00:00, 1.32MB/s]\n"
     ]
    },
    {
     "name": "stdout",
     "output_type": "stream",
     "text": [
      "Submission successful!\n",
      "Cantidad de clientes 13000\n"
     ]
    },
    {
     "name": "stderr",
     "output_type": "stream",
     "text": [
      "100%|██████████| 2.09M/2.09M [00:01<00:00, 1.40MB/s]\n"
     ]
    },
    {
     "name": "stdout",
     "output_type": "stream",
     "text": [
      "Submission successful!\n",
      "Cantidad de clientes 13250\n"
     ]
    },
    {
     "name": "stderr",
     "output_type": "stream",
     "text": [
      "100%|██████████| 2.09M/2.09M [00:01<00:00, 1.33MB/s]\n"
     ]
    },
    {
     "name": "stdout",
     "output_type": "stream",
     "text": [
      "Submission successful!\n",
      "Cantidad de clientes 13500\n"
     ]
    },
    {
     "name": "stderr",
     "output_type": "stream",
     "text": [
      "100%|██████████| 2.09M/2.09M [00:01<00:00, 1.29MB/s]\n"
     ]
    },
    {
     "name": "stdout",
     "output_type": "stream",
     "text": [
      "Submission successful!\n",
      "Cantidad de clientes 13750\n"
     ]
    },
    {
     "name": "stderr",
     "output_type": "stream",
     "text": [
      "100%|██████████| 2.09M/2.09M [00:01<00:00, 1.44MB/s]\n"
     ]
    },
    {
     "name": "stdout",
     "output_type": "stream",
     "text": [
      "Submission successful!\n",
      "Cantidad de clientes 14000\n"
     ]
    },
    {
     "name": "stderr",
     "output_type": "stream",
     "text": [
      "100%|██████████| 2.09M/2.09M [00:01<00:00, 1.39MB/s]\n"
     ]
    },
    {
     "name": "stdout",
     "output_type": "stream",
     "text": [
      "Submission successful!\n"
     ]
    }
   ],
   "source": [
    "cortes = range(10000,14250,250)\n",
    "#v. Generamos las distintas predicciones de clases a partir de los distintos cortes posibles.\n",
    "num_subida_kaggle = 1\n",
    "for envios in cortes:\n",
    "    #1. Le ponemos clase 1 (\"BAJA\") a los primeros \"envios\" con mayor probabilidad.\n",
    "    tb_entrega['Predicted'] = 0\n",
    "    tb_entrega.iloc[:envios, tb_entrega.columns.get_loc('Predicted')] = 1\n",
    "    resultados = tb_entrega[[\"numero_de_cliente\", 'Predicted']].reset_index(drop=True)\n",
    "    \n",
    "    print(\"Cantidad de clientes {}\".format(envios))\n",
    "    #2. Guardamos el archivo para Kaggle.\n",
    "    nombre_archivo = \"Modelo final{}.csv\".format(num_subida_kaggle)\n",
    "    ruta_archivo= \"../../../../exp/{}\".format(nombre_archivo)\n",
    "    resultados.to_csv(ruta_archivo, index=False)\n",
    "    \n",
    "    num_subida_kaggle += 1\n",
    "    \n",
    "    #3. Envío a Kaggle.\n",
    "    #a. Defino los parámetros claves.\n",
    "    mensaje = f'Archivo {nombre_archivo}.Punto_corte: {envios}.'\n",
    "    competencia = 'dm-ey-f-2024-segunda'\n",
    "    #c. Subo la Submission.\n",
    "    while True:\n",
    "        try:\n",
    "            api.competition_submit(file_name=ruta_archivo, message=mensaje, competition=competencia)\n",
    "            print(\"Submission successful!\")\n",
    "            break\n",
    "        except ApiException as e:\n",
    "            print(f\"Error: {e}\")  # Imprime la excepción completa para ver qué atributos tiene\n",
    "            if e.status == 429:  # Reemplaza esto si `status` no es correcto\n",
    "                print(\"Rate limit exceeded. Retrying after 30 seconds...\")\n",
    "                time.sleep(30)\n",
    "            else:\n",
    "                raise e  # Re-raise other exceptions"
   ]
  }
 ],
 "metadata": {
  "kernelspec": {
   "display_name": "Python 3",
   "language": "python",
   "name": "python3"
  },
  "language_info": {
   "codemirror_mode": {
    "name": "ipython",
    "version": 3
   },
   "file_extension": ".py",
   "mimetype": "text/x-python",
   "name": "python",
   "nbconvert_exporter": "python",
   "pygments_lexer": "ipython3",
   "version": "3.12.5"
  }
 },
 "nbformat": 4,
 "nbformat_minor": 2
}
