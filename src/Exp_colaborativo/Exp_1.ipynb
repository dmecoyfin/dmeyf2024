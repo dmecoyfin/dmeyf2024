{
 "cells": [
  {
   "cell_type": "markdown",
   "metadata": {},
   "source": [
    "# Optimizar punto de corte, usando semillero para crear multiples learboard Publicos/Privados"
   ]
  },
  {
   "cell_type": "code",
   "execution_count": 10,
   "metadata": {},
   "outputs": [],
   "source": [
    "import pandas as pd\n",
    "import numpy as np\n",
    "from sklearn.model_selection import train_test_split"
   ]
  },
  {
   "cell_type": "code",
   "execution_count": 11,
   "metadata": {},
   "outputs": [],
   "source": [
    "base_path = 'C:/Users/Federico/Desktop/Maestria Data mining/DM EyF/'\n",
    "dataset_path = base_path + 'datasets/'\n",
    "dataset_file = 'Competencia_01_tagg.csv' # N_cliente, clase_ternaria para junio\n",
    "dataset_file_shap = 'ensamble_shpa_200_semillas.csv' #N_cliente, Probabiliadd\n",
    "dataset_file_gv = 'ensamble_gustavo_200_semillas.csv' #N_cliente, Probabiliadd\n",
    "dataset_file_ensamble='ensamble_shap_gustavo.csv'\n",
    "\n",
    "\n",
    "clientes_baja_junio= pd.read_csv(dataset_path + dataset_file)\n",
    "data_shap = pd.read_csv(dataset_path + dataset_file_shap)\n",
    "data_gv = pd.read_csv(dataset_path + dataset_file_gv)\n",
    "ensamble= pd.read_csv(dataset_path + dataset_file_gv)"
   ]
  },
  {
   "cell_type": "code",
   "execution_count": 28,
   "metadata": {},
   "outputs": [],
   "source": [
    "def calculoGanancia(bajas,prediccion,corte):\n",
    "    ''' \n",
    "    bajas: Columnas: \"numero_de_cliente, clase_ternaria\"\n",
    "    prediccion: \"numero_de_cliente, Probabilidad\"\n",
    "    corte: cantidad de estimulos\n",
    "    '''\n",
    "    # 1. Realizar el split en público y privado\n",
    "    Publico, Privado = train_test_split(\n",
    "        bajas,\n",
    "        test_size=0.7,\n",
    "        stratify=bajas['clase_ternaria'],\n",
    "        random_state=123\n",
    "    )\n",
    "\n",
    "    # 2. Obtener los estímulos según el modelo\n",
    "    estimulos = prediccion.iloc[:corte] \n",
    "\n",
    "    # 3. Obtener los estímulos en el conjunto público y privado\n",
    "    estimulos_publico = pd.merge(estimulos, Publico, on='numero_de_cliente', how='inner')\n",
    "    estimulos_privado = pd.merge(estimulos, Privado, on='numero_de_cliente', how='inner')\n",
    "\n",
    "    # 4. Calcular los verdaderos positivos en cada conjunto\n",
    "    TP_publico = estimulos_publico[estimulos_publico['clase_ternaria'] == 'BAJA+2']\n",
    "    TP_privado = estimulos_privado[estimulos_privado['clase_ternaria'] == 'BAJA+2']\n",
    "\n",
    "    # 5. Calcular la ganancia para cada conjunto con normalización\n",
    "    # Primero, calculamos la ganancia en cada conjunto\n",
    "    ganancia_publico_sin_norm = (len(TP_publico) * 273000) - ((len(estimulos_publico) - len(TP_publico)) * 7000)\n",
    "    ganancia_privado_sin_norm = (len(TP_privado) * 273000) - ((len(estimulos_privado) - len(TP_privado)) * 7000)\n",
    "\n",
    "    # Luego, normalizamos dividiendo por el porcentaje correspondiente\n",
    "    ganancia_publico = ganancia_publico_sin_norm / 0.3\n",
    "    ganancia_privado = ganancia_privado_sin_norm / 0.7\n",
    "\n",
    "    print(f\"Ganancia público normalizada: {ganancia_publico}\") , print(f\"Ganancia privado normalizada: {ganancia_privado}\")"
   ]
  },
  {
   "cell_type": "code",
   "execution_count": 30,
   "metadata": {},
   "outputs": [
    {
     "name": "stdout",
     "output_type": "stream",
     "text": [
      "Ganancia público normalizada: 87406666.66666667\n",
      "Ganancia privado normalizada: 96540000.0\n"
     ]
    }
   ],
   "source": [
    "calculoGanancia(clientes_baja_junio,data_shap,11000)"
   ]
  },
  {
   "cell_type": "markdown",
   "metadata": {},
   "source": [
    "## Tengo el problema que segun la semilla con la que dividi el publico privado me puede dar distinto.. hago semillero"
   ]
  },
  {
   "cell_type": "code",
   "execution_count": 32,
   "metadata": {},
   "outputs": [],
   "source": [
    "def calculoGanancia(bajas, prediccion, corte, random_state):\n",
    "    ''' \n",
    "    Calcula la ganancia para una semilla específica.\n",
    "    \n",
    "    Parámetros:\n",
    "    bajas: DataFrame con columnas \"numero_de_cliente\" y \"clase_ternaria\".\n",
    "    prediccion: DataFrame con columnas \"numero_de_cliente\" y \"Probabilidad\".\n",
    "    corte: int, cantidad de estímulos.\n",
    "    random_state: int, semilla para train_test_split.\n",
    "    \n",
    "    Retorna:\n",
    "    ganancia_publico: Ganancia normalizada para el conjunto público.\n",
    "    ganancia_privado: Ganancia normalizada para el conjunto privado.\n",
    "    '''\n",
    "    # 1. Realizar el split en público y privado\n",
    "    Publico, Privado = train_test_split(\n",
    "        bajas,\n",
    "        test_size=0.7,\n",
    "        stratify=bajas['clase_ternaria'],\n",
    "        random_state=random_state\n",
    "    )\n",
    "\n",
    "    # 2. Obtener los estímulos según el modelo\n",
    "    estimulos = prediccion.iloc[:corte] \n",
    "\n",
    "    # 3. Obtener los estímulos en el conjunto público y privado\n",
    "    estimulos_publico = pd.merge(estimulos, Publico, on='numero_de_cliente', how='inner')\n",
    "    estimulos_privado = pd.merge(estimulos, Privado, on='numero_de_cliente', how='inner')\n",
    "\n",
    "    # 4. Calcular los verdaderos positivos en cada conjunto\n",
    "    TP_publico = estimulos_publico[estimulos_publico['clase_ternaria'] == 'BAJA+2']\n",
    "    TP_privado = estimulos_privado[estimulos_privado['clase_ternaria'] == 'BAJA+2']\n",
    "\n",
    "    # 5. Calcular la ganancia para cada conjunto con normalización\n",
    "    # Calculamos la ganancia sin normalizar\n",
    "    ganancia_publico_sin_norm = (len(TP_publico) * 273000) - ((len(estimulos_publico) - len(TP_publico)) * 7000)\n",
    "    ganancia_privado_sin_norm = (len(TP_privado) * 273000) - ((len(estimulos_privado) - len(TP_privado)) * 7000)\n",
    "\n",
    "    # Normalizamos dividiendo por el porcentaje correspondiente\n",
    "    ganancia_publico = ganancia_publico_sin_norm / 0.3\n",
    "    ganancia_privado = ganancia_privado_sin_norm / 0.7\n",
    "\n",
    "    return ganancia_publico, ganancia_privado\n",
    "\n",
    "def calculoGananciaPromedio(bajas, prediccion, corte, n_seeds=200):\n",
    "    '''\n",
    "    Calcula la ganancia promedio para múltiples semillas aleatorias.\n",
    "    \n",
    "    Parámetros:\n",
    "    bajas: DataFrame con columnas \"numero_de_cliente\" y \"clase_ternaria\".\n",
    "    prediccion: DataFrame con columnas \"numero_de_cliente\" y \"Probabilidad\".\n",
    "    corte: int, cantidad de estímulos.\n",
    "    n_seeds: int, número de semillas aleatorias (por defecto 200).\n",
    "    \n",
    "    Retorna:\n",
    "    promedio_ganancia_publico: Ganancia promedio normalizada para el conjunto público.\n",
    "    promedio_ganancia_privado: Ganancia promedio normalizada para el conjunto privado.\n",
    "    '''\n",
    "    # Generar 200 semillas aleatorias \n",
    "    seeds = np.random.randint(1000, 100001, size=n_seeds)\n",
    "    ganancias_publico = []\n",
    "    ganancias_privado = []\n",
    "\n",
    "    for seed in seeds:\n",
    "        ganancia_publico, ganancia_privado = calculoGanancia(bajas, prediccion, corte, random_state=seed)\n",
    "        ganancias_publico.append(ganancia_publico)\n",
    "        ganancias_privado.append(ganancia_privado)\n",
    "\n",
    "    promedio_ganancia_publico = np.mean(ganancias_publico)\n",
    "    promedio_ganancia_privado = np.mean(ganancias_privado)\n",
    "\n",
    "    print(f\"Ganancia promedio público: {promedio_ganancia_publico}\")\n",
    "    print(f\"Ganancia promedio privado: {promedio_ganancia_privado}\")\n",
    "\n",
    "    return promedio_ganancia_publico, promedio_ganancia_privado\n"
   ]
  },
  {
   "cell_type": "code",
   "execution_count": 35,
   "metadata": {},
   "outputs": [
    {
     "name": "stdout",
     "output_type": "stream",
     "text": [
      "Ganancia promedio público: 92520866.66666669\n",
      "Ganancia promedio privado: 92748200.0\n"
     ]
    },
    {
     "data": {
      "text/plain": [
       "(np.float64(92520866.66666669), np.float64(92748200.0))"
      ]
     },
     "execution_count": 35,
     "metadata": {},
     "output_type": "execute_result"
    }
   ],
   "source": [
    "calculoGananciaPromedio(clientes_baja_junio,ensamble,11200)"
   ]
  }
 ],
 "metadata": {
  "kernelspec": {
   "display_name": "Python 3",
   "language": "python",
   "name": "python3"
  },
  "language_info": {
   "codemirror_mode": {
    "name": "ipython",
    "version": 3
   },
   "file_extension": ".py",
   "mimetype": "text/x-python",
   "name": "python",
   "nbconvert_exporter": "python",
   "pygments_lexer": "ipython3",
   "version": "3.12.5"
  }
 },
 "nbformat": 4,
 "nbformat_minor": 2
}
