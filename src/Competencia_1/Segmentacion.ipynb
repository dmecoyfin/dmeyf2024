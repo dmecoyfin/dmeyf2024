{
  "cells": [
    {
      "cell_type": "markdown",
      "metadata": {
        "id": "FX-Vq4mgJS_t"
      },
      "source": [
        "# Segmentando clientes\n",
        "\n",
        "En esta notebook se verá una forma sobre como segmentar a los clientes, cuando cuenta con una gran cantidad de estos sobre una base de datos de una gran (?) cantidad de dimensiones.\n",
        "\n",
        "Empezaremos cargando el entorno e instalando los requerimentos necesarios."
      ]
    },
    {
      "cell_type": "code",
      "execution_count": null,
      "metadata": {
        "colab": {
          "base_uri": "https://localhost:8080/"
        },
        "id": "CqrQIDd8JRlJ",
        "outputId": "28396bd0-b03c-4514-9f77-39c0930afb05"
      },
      "outputs": [
        {
          "name": "stdout",
          "output_type": "stream",
          "text": [
            "Requirement already satisfied: umap in /usr/local/lib/python3.10/dist-packages (0.1.1)\n",
            "Requirement already satisfied: umap-learn in /usr/local/lib/python3.10/dist-packages (0.5.6)\n",
            "Requirement already satisfied: numpy>=1.17 in /usr/local/lib/python3.10/dist-packages (from umap-learn) (1.26.4)\n",
            "Requirement already satisfied: scipy>=1.3.1 in /usr/local/lib/python3.10/dist-packages (from umap-learn) (1.13.1)\n",
            "Requirement already satisfied: scikit-learn>=0.22 in /usr/local/lib/python3.10/dist-packages (from umap-learn) (1.3.2)\n",
            "Requirement already satisfied: numba>=0.51.2 in /usr/local/lib/python3.10/dist-packages (from umap-learn) (0.60.0)\n",
            "Requirement already satisfied: pynndescent>=0.5 in /usr/local/lib/python3.10/dist-packages (from umap-learn) (0.5.13)\n",
            "Requirement already satisfied: tqdm in /usr/local/lib/python3.10/dist-packages (from umap-learn) (4.66.5)\n",
            "Requirement already satisfied: llvmlite<0.44,>=0.43.0dev0 in /usr/local/lib/python3.10/dist-packages (from numba>=0.51.2->umap-learn) (0.43.0)\n",
            "Requirement already satisfied: joblib>=0.11 in /usr/local/lib/python3.10/dist-packages (from pynndescent>=0.5->umap-learn) (1.4.2)\n",
            "Requirement already satisfied: threadpoolctl>=2.0.0 in /usr/local/lib/python3.10/dist-packages (from scikit-learn>=0.22->umap-learn) (3.5.0)\n"
          ]
        }
      ],
      "source": [
        "#%pip install scikit-learn==1.3.2\n",
        "#%pip install seaborn==0.13.1\n",
        "#%pip install numpy==1.26.4\n",
        "#%pip install matplotlib==3.7.1\n",
        "%pip install umap\n",
        "%pip install umap-learn"
      ]
    },
    {
      "cell_type": "code",
      "execution_count": 1,
      "metadata": {
        "id": "T8x1jAl_kqFt"
      },
      "outputs": [
        {
          "name": "stderr",
          "output_type": "stream",
          "text": [
            "c:\\Users\\Federico\\AppData\\Local\\Programs\\Python\\Python312\\Lib\\site-packages\\tqdm\\auto.py:21: TqdmWarning: IProgress not found. Please update jupyter and ipywidgets. See https://ipywidgets.readthedocs.io/en/stable/user_install.html\n",
            "  from .autonotebook import tqdm as notebook_tqdm\n"
          ]
        }
      ],
      "source": [
        "import pandas as pd\n",
        "import numpy as np\n",
        "import seaborn as sns\n",
        "\n",
        "from umap import UMAP\n",
        "import matplotlib.pyplot as plt\n",
        "from sklearn.cluster import DBSCAN\n",
        "from sklearn.ensemble import  RandomForestClassifier\n",
        "from sklearn.impute import SimpleImputer\n",
        "\n",
        "import optuna\n",
        "from optuna.visualization import plot_param_importances, plot_contour,  plot_slice, plot_optimization_history"
      ]
    },
    {
      "cell_type": "code",
      "execution_count": 3,
      "metadata": {
        "id": "R58qDmLYtVXk"
      },
      "outputs": [],
      "source": [
        "dataset_path = 'C:/Users/Federico/Desktop/Maestria Data mining/DM EyF/datasets/'\n",
        "dataset_lag_delta = 'competencia_01_lag_delta.csv'\n",
        "dataset_avg = 'competencia_01_avg.csv'\n",
        "dataset_regr_slope = 'competencia_01_regr_slope.csv'\n",
        "dataset_percent_rank = 'competencia_01_percent_rank.csv'\n",
        "dataset_suma_division='competencia_01_suma_division.csv'\n",
        "\n",
        "dataset_final_abril='competencia_01_fe_abril.csv'\n",
        "\n",
        "base_path = 'C:/Users/Federico/Desktop/Maestria Data mining/DM EyF/'\n",
        "dataset_path = base_path + 'datasets/'\n",
        "modelos_path = base_path + 'modelos/'\n",
        "db_path = base_path + 'db/'\n",
        "\n",
        "\n",
        "ganancia_acierto = 273000\n",
        "costo_estimulo = 7000\n",
        "\n",
        "# agregue sus semillas\n",
        "semillas = [540079, 250829, 314299, 302111, 801007]\n"
      ]
    },
    {
      "cell_type": "markdown",
      "metadata": {},
      "source": [
        "# Introduccion\n",
        "\n",
        "Quise crear un df con casi 1200 columnas pero me era imposible de manejar. Suponia que muchas de las columnas que cree eran basura. \n",
        "Decidi crear 5 dataset -> esta en el escript de feature eng\n",
        "\n",
        "1) Todas las columnas originales y algunas sumas y ratios\n",
        "2) Lag delta de hasta 2 meses\n",
        "3) avg de cada variables\n",
        "4) regr_slope\n",
        "5) percent_rank, de las que me parecian mas importante, (tardaba una eternidad y desisti)\n",
        "\n",
        "Necesitaba saber que variables podrian a llegar a tener importancia para el modelo. Por eso entrene 1 rf con cada uno de los dataset y agarre las variales de mayor peso"
      ]
    },
    {
      "cell_type": "code",
      "execution_count": 3,
      "metadata": {},
      "outputs": [
        {
          "data": {
            "text/plain": [
              "(981946, 202)"
            ]
          },
          "execution_count": 3,
          "metadata": {},
          "output_type": "execute_result"
        }
      ],
      "source": [
        "df_train = pd.read_csv(dataset_path + dataset_suma_division)## todas las columnas mas algunas sumas y ratios\n",
        "df_train.shape"
      ]
    },
    {
      "cell_type": "code",
      "execution_count": 4,
      "metadata": {
        "id": "bpzFTT_HkzLx"
      },
      "outputs": [
        {
          "data": {
            "text/plain": [
              "(981946, 619)"
            ]
          },
          "execution_count": 4,
          "metadata": {},
          "output_type": "execute_result"
        }
      ],
      "source": [
        "df_train_lag_delta = pd.read_csv(dataset_path + dataset_lag_delta)\n",
        "df_train_lag_delta['clase_ternaria'] = df_train['clase_ternaria']\n",
        "df_train_lag_delta.shape"
      ]
    },
    {
      "cell_type": "code",
      "execution_count": 5,
      "metadata": {},
      "outputs": [
        {
          "data": {
            "text/plain": [
              "(981946, 157)"
            ]
          },
          "execution_count": 5,
          "metadata": {},
          "output_type": "execute_result"
        }
      ],
      "source": [
        "df_train_avg = pd.read_csv(dataset_path + dataset_avg)\n",
        "df_train_avg['clase_ternaria'] = df_train['clase_ternaria']\n",
        "df_train_avg.shape"
      ]
    },
    {
      "cell_type": "code",
      "execution_count": 6,
      "metadata": {},
      "outputs": [
        {
          "data": {
            "text/plain": [
              "(981946, 157)"
            ]
          },
          "execution_count": 6,
          "metadata": {},
          "output_type": "execute_result"
        }
      ],
      "source": [
        "df_train_regr_slope = pd.read_csv(dataset_path + dataset_regr_slope)\n",
        "df_train_regr_slope['clase_ternaria'] = df_train['clase_ternaria']\n",
        "df_train_regr_slope.shape"
      ]
    },
    {
      "cell_type": "code",
      "execution_count": 7,
      "metadata": {},
      "outputs": [
        {
          "data": {
            "text/plain": [
              "(981946, 12)"
            ]
          },
          "execution_count": 7,
          "metadata": {},
          "output_type": "execute_result"
        }
      ],
      "source": [
        "df_train_percent_rank = pd.read_csv(dataset_path + dataset_percent_rank)\n",
        "df_train_percent_rank['clase_ternaria'] = df_train['clase_ternaria']\n",
        "df_train_percent_rank.shape"
      ]
    },
    {
      "cell_type": "markdown",
      "metadata": {
        "id": "AEDRaksFthSF"
      },
      "source": [
        "Solo segmentaremos a los clientes de abril, dado que necesitaremos variables en algún momento agregar variables históricas para entender su comportamiento previo a la **baja**"
      ]
    },
    {
      "cell_type": "code",
      "execution_count": 8,
      "metadata": {
        "id": "MNZ1Vrg4k9r8"
      },
      "outputs": [],
      "source": [
        "df_train = df_train[df_train['foto_mes']==202104] ##suma division\n",
        "df_train_lag_delta = df_train_lag_delta[df_train_lag_delta['foto_mes']==202104]\n",
        "df_train_avg = df_train_avg[df_train_avg['foto_mes']==202104]\n",
        "df_train_regr_slope = df_train_regr_slope[df_train_regr_slope['foto_mes']==202104]\n",
        "df_train_percent_rank = df_train_percent_rank[df_train_percent_rank['foto_mes']==202104]"
      ]
    },
    {
      "cell_type": "code",
      "execution_count": 9,
      "metadata": {},
      "outputs": [
        {
          "data": {
            "text/plain": [
              "(164090, 12)"
            ]
          },
          "execution_count": 9,
          "metadata": {},
          "output_type": "execute_result"
        }
      ],
      "source": [
        "df_train_percent_rank.shape"
      ]
    },
    {
      "cell_type": "markdown",
      "metadata": {},
      "source": [
        "# Preparo la data para entrenar cada modelo"
      ]
    },
    {
      "cell_type": "code",
      "execution_count": 5,
      "metadata": {},
      "outputs": [
        {
          "ename": "NameError",
          "evalue": "name 'df_train' is not defined",
          "output_type": "error",
          "traceback": [
            "\u001b[1;31m---------------------------------------------------------------------------\u001b[0m",
            "\u001b[1;31mNameError\u001b[0m                                 Traceback (most recent call last)",
            "Cell \u001b[1;32mIn[5], line 7\u001b[0m\n\u001b[0;32m      4\u001b[0m     \u001b[38;5;28;01mreturn\u001b[39;00m X, y\n\u001b[0;32m      6\u001b[0m \u001b[38;5;66;03m# Ejemplo de uso para cada dataframe:\u001b[39;00m\n\u001b[1;32m----> 7\u001b[0m Xtrain, ytrain \u001b[38;5;241m=\u001b[39m prepare_data(\u001b[43mdf_train\u001b[49m)\u001b[38;5;66;03m## para suma y division\u001b[39;00m\n\u001b[0;32m      8\u001b[0m Xtrain1, ytrain1 \u001b[38;5;241m=\u001b[39m prepare_data(df_train_lag_delta)\u001b[38;5;66;03m## para lag_delta\u001b[39;00m\n\u001b[0;32m      9\u001b[0m Xtrain2, ytrain2 \u001b[38;5;241m=\u001b[39m prepare_data(df_train_avg)\u001b[38;5;66;03m## para avg\u001b[39;00m\n",
            "\u001b[1;31mNameError\u001b[0m: name 'df_train' is not defined"
          ]
        }
      ],
      "source": [
        "def prepare_data(df):\n",
        "    y = df[\"clase_ternaria\"].map(lambda x: 0 if x == \"CONTINUA\" else 1)\n",
        "    X = df.drop(\"clase_ternaria\", axis=1)\n",
        "    return X, y\n",
        "\n",
        "# Ejemplo de uso para cada dataframe:\n",
        "Xtrain, ytrain = prepare_data(df_train)## para suma y division\n",
        "Xtrain1, ytrain1 = prepare_data(df_train_lag_delta)## para lag_delta\n",
        "Xtrain2, ytrain2 = prepare_data(df_train_avg)## para avg\n",
        "Xtrain3, ytrain3 = prepare_data(df_train_regr_slope)## para regr_slope\n",
        "Xtrain4, ytrain4 = prepare_data(df_train_percent_rank)## para percent_rank"
      ]
    },
    {
      "cell_type": "markdown",
      "metadata": {
        "id": "G9omJU4KnsVE"
      },
      "source": [
        "Decido trabajar con todos los bajas y 10000 continua"
      ]
    },
    {
      "cell_type": "code",
      "execution_count": 11,
      "metadata": {},
      "outputs": [],
      "source": [
        "def sample_data(X, y, sample_size=10000, seed=17):\n",
        "\n",
        "    np.random.seed(seed)\n",
        "    continua_sample = y[y == 0].sample(sample_size).index  # Muestra aleatoria de clase 0\n",
        "    bajas_1_2 = y[y == 1].index  # Índices de clase 1\n",
        "    rf_index = continua_sample.union(bajas_1_2)  # Unión de índices\n",
        "\n",
        "    X_sample = X.loc[rf_index]  # Filtra X usando los índices seleccionados\n",
        "    y_sample = y.loc[rf_index]  # Filtra y usando los índices seleccionados\n",
        "\n",
        "    return X_sample, y_sample\n",
        "\n",
        "Xtrain_rf, ytrain_rf = sample_data(Xtrain, ytrain)\n",
        "Xtrain_rf1, ytrain_rf1 = sample_data(Xtrain1, ytrain1)\n",
        "Xtrain_rf2, ytrain_rf2 = sample_data(Xtrain2, ytrain2)\n",
        "Xtrain_rf3, ytrain_rf3 = sample_data(Xtrain3, ytrain3)\n",
        "Xtrain_rf4, ytrain_rf4 = sample_data(Xtrain4, ytrain4)"
      ]
    },
    {
      "cell_type": "markdown",
      "metadata": {
        "id": "CFTvRro4yv2C"
      },
      "source": [
        "Entreno 5 simples **rf**, esto solo para saber que variables dentro de cada dataset tiene sentido tomar\n"
      ]
    },
    {
      "cell_type": "code",
      "execution_count": 12,
      "metadata": {},
      "outputs": [],
      "source": [
        "def train_random_forest(X, y, n_estimators=100, max_features=20, min_samples_leaf=400, strategy='median', random_state=17):\n",
        "\n",
        "    # Imputar valores faltantes\n",
        "    imp_mean = SimpleImputer(missing_values=np.nan, strategy=strategy)\n",
        "    X_imputed = imp_mean.fit_transform(X)\n",
        "\n",
        "    # Entrenar RandomForestClassifier\n",
        "    model = RandomForestClassifier(\n",
        "        n_estimators=n_estimators,\n",
        "        max_features=max_features,\n",
        "        min_samples_leaf=min_samples_leaf,\n",
        "        random_state=random_state\n",
        "    )\n",
        "    \n",
        "    model.fit(X_imputed, y)\n",
        "\n",
        "    return model, X_imputed\n",
        "\n",
        "# Ejemplo de uso:\n",
        "model_rf, Xtrain_rf_imp = train_random_forest(Xtrain_rf, ytrain_rf)\n",
        "model_rf1, Xtrain_rf_imp1 = train_random_forest(Xtrain_rf1, ytrain_rf1)\n",
        "model_rf2, Xtrain_rf_imp2 = train_random_forest(Xtrain_rf2, ytrain_rf2)\n",
        "model_rf3, Xtrain_rf_imp3 = train_random_forest(Xtrain_rf3, ytrain_rf3)\n",
        "model_rf4, Xtrain_rf_imp4 = train_random_forest(Xtrain_rf4, ytrain_rf4)"
      ]
    },
    {
      "cell_type": "markdown",
      "metadata": {},
      "source": [
        "Miro la importancia de cada df y anoto las que mejor dan. "
      ]
    },
    {
      "cell_type": "code",
      "execution_count": 13,
      "metadata": {},
      "outputs": [
        {
          "name": "stdout",
          "output_type": "stream",
          "text": [
            "                           feature  importance\n",
            "107                   ctrx_quarter    0.108582\n",
            "18                    mcaja_ahorro    0.075680\n",
            "182              mtarjetas_consumo    0.072016\n",
            "11                 mpasivos_margen    0.063072\n",
            "28           mtarjeta_visa_consumo    0.058176\n",
            "181          cant_transac_tarjetas    0.051555\n",
            "163              msaldototal_total    0.047271\n",
            "184                m_payroll_total    0.040876\n",
            "27     ctarjeta_visa_transacciones    0.040653\n",
            "51                    cpayroll_trx    0.036747\n",
            "52                        mpayroll    0.036561\n",
            "25                   mautoservicio    0.036383\n",
            "173              mpagospesos_total    0.035631\n",
            "164              msaldopesos_total    0.029866\n",
            "22                  mcuentas_saldo    0.027200\n",
            "185               m_cpayroll_total    0.022524\n",
            "24   ctarjeta_debito_transacciones    0.018962\n",
            "72       mcomisiones_mantenimiento    0.016158\n",
            "81       mtransferencias_recibidas    0.014729\n",
            "179              mpagominimo_total    0.014124\n",
            "26                   ctarjeta_visa    0.012375\n",
            "12                      cproductos    0.011556\n",
            "71       ccomisiones_mantenimiento    0.009325\n",
            "177                cconsumos_total    0.007551\n",
            "84        cextraccion_autoservicio    0.007331\n"
          ]
        }
      ],
      "source": [
        "def get_feature_importance(model, X, top_n=25):\n",
        "    importances = model.feature_importances_  # Obtiene la importancia de las características\n",
        "    features = X.columns  # Nombres de las características\n",
        "    feat_importances = pd.DataFrame({'feature': features, 'importance': importances})  # Crea un DataFrame\n",
        "    feat_importances = feat_importances.sort_values('importance', ascending=False)  # Ordena por importancia\n",
        "\n",
        "    return feat_importances.head(top_n)  # Devuelve las principales `top_n` características\n",
        "\n",
        "# Ejemplo de uso:\n",
        "top_features = get_feature_importance(model_rf, Xtrain_rf)\n",
        "top_features1 = get_feature_importance(model_rf1, Xtrain_rf1)\n",
        "top_features2 = get_feature_importance(model_rf2, Xtrain_rf2)\n",
        "top_features3 = get_feature_importance(model_rf3, Xtrain_rf3)\n",
        "top_features4 = get_feature_importance(model_rf4, Xtrain_rf4)\n",
        "print(top_features)\n"
      ]
    },
    {
      "cell_type": "markdown",
      "metadata": {},
      "source": [
        "Saco el nombre de las primeras 30 features de cada df (percent_rank que son 11 y algo hicieron, capaz tendria que agregar mas..)"
      ]
    },
    {
      "cell_type": "code",
      "execution_count": 14,
      "metadata": {},
      "outputs": [],
      "source": [
        "def get_top_features(model, X, top_n=40):\n",
        "\n",
        "    importances = model.feature_importances_  # Importancia de las características\n",
        "    features = X.columns  # Nombres de las características\n",
        "    feat_importances = pd.DataFrame({'feature': features, 'importance': importances})  # Crea un DataFrame\n",
        "    feat_importances = feat_importances.sort_values('importance', ascending=False)  # Ordena por importancia\n",
        "\n",
        "    top_features = feat_importances['feature'].head(top_n).tolist()  # Obtiene los nombres de las top_n características\n",
        "\n",
        "    return top_features\n",
        "\n",
        "# Ejemplo de uso:\n",
        "top_features = get_top_features(model_rf, Xtrain_rf)\n",
        "top_features1 = get_top_features(model_rf1, Xtrain_rf1)\n",
        "top_features2 = get_top_features(model_rf2, Xtrain_rf2)\n",
        "top_features3 = get_top_features(model_rf3, Xtrain_rf3)\n",
        "top_features4 = get_top_features(model_rf4, Xtrain_rf4)\n"
      ]
    },
    {
      "cell_type": "code",
      "execution_count": 19,
      "metadata": {},
      "outputs": [
        {
          "name": "stdout",
          "output_type": "stream",
          "text": [
            "['percent_rank_mpasivos_margen', 'percent_rank_mcuentas_saldo', 'numero_de_cliente', 'percent_rank_mtarjeta_visa_consumo', 'percent_rank_mcaja_ahorro', 'percent_rank_ctrx_quarter', 'percent_rank_mprestamos_personales', 'percent_rank_cproductos', 'percent_rank_mcomisiones_mantenimiento', 'percent_rank_cpayroll_trx', 'foto_mes']\n"
          ]
        }
      ],
      "source": [
        "print(top_features4)"
      ]
    },
    {
      "cell_type": "code",
      "execution_count": 152,
      "metadata": {},
      "outputs": [],
      "source": [
        "df_train_filtro = df_train[top_features]\n",
        "df_train_lag_delta_filtro = df_train_lag_delta[top_features1]\n",
        "df_train_avg_filtro = df_train_avg[top_features2]\n",
        "df_train_regr_slope_filtro = df_train_regr_slope[top_features3]\n",
        "df_train_percent_rank_filtro = df_train_percent_rank## aca no filtre nada, me guarda clase ternaria --mantengo nomezclatura"
      ]
    },
    {
      "cell_type": "code",
      "execution_count": 159,
      "metadata": {},
      "outputs": [
        {
          "data": {
            "text/plain": [
              "(164090, 12)"
            ]
          },
          "execution_count": 159,
          "metadata": {},
          "output_type": "execute_result"
        }
      ],
      "source": [
        "df_train_percent_rank.shape"
      ]
    },
    {
      "cell_type": "markdown",
      "metadata": {},
      "source": [
        "## aca se me armo un problemon, pense que iba a poder mergear las tablas cada una tenia distinta cantidad de clientes.... asi que tuve que volver con el nombre de las variables mas importantes y seleccionar las columnas directamente desde sql"
      ]
    },
    {
      "cell_type": "code",
      "execution_count": 148,
      "metadata": {},
      "outputs": [],
      "source": [
        "def concatenate_and_remove_duplicates(dfs):\n",
        "    df_concatenated = pd.concat(dfs, axis=1)  # Concatena los dataframes en columnas\n",
        "    df_concatenated = df_concatenated.loc[:, ~df_concatenated.columns.duplicated()]  # Elimina columnas duplicadas\n",
        "\n",
        "    return df_concatenated\n",
        "\n",
        "dfs = [df_train_filtro, df_train_lag_delta_filtro]\n",
        "\n",
        "\n",
        "df_final = concatenate_and_remove_duplicates(dfs)"
      ]
    },
    {
      "cell_type": "code",
      "execution_count": 149,
      "metadata": {},
      "outputs": [
        {
          "data": {
            "text/plain": [
              "(301335, 80)"
            ]
          },
          "execution_count": 149,
          "metadata": {},
          "output_type": "execute_result"
        }
      ],
      "source": [
        "df_final.shape"
      ]
    },
    {
      "cell_type": "code",
      "execution_count": 150,
      "metadata": {},
      "outputs": [],
      "source": [
        "def merge_and_remove_duplicates(dfs):\n",
        "    df_merged = dfs[0]  # Iniciar con el primer dataframe\n",
        "    for df in dfs[1:]:\n",
        "        df_merged = pd.merge(df_merged, df, left_index=True, right_index=True, how='outer')  # Fusiona por índice\n",
        "        \n",
        "    df_merged = df_merged.loc[:, ~df_merged.columns.duplicated()]  # Elimina columnas duplicadas\n",
        "\n",
        "    return df_merged\n",
        "\n",
        "# Aplicación:\n",
        "dfs = [df_train_filtro, df_train_lag_delta_filtro, df_train_avg_filtro, df_train_regr_slope_filtro]\n",
        "df_final = merge_and_remove_duplicates(dfs)"
      ]
    },
    {
      "cell_type": "code",
      "execution_count": 151,
      "metadata": {},
      "outputs": [
        {
          "data": {
            "text/plain": [
              "(509812, 160)"
            ]
          },
          "execution_count": 151,
          "metadata": {},
          "output_type": "execute_result"
        }
      ],
      "source": [
        "df_final.shape#### aca me quedaban muchas mas filas que las correspondientes para el mes de abril"
      ]
    },
    {
      "cell_type": "markdown",
      "metadata": {},
      "source": [
        "# Cargo el dataset final para abril con las columnas mas importantes"
      ]
    },
    {
      "cell_type": "code",
      "execution_count": 6,
      "metadata": {},
      "outputs": [
        {
          "data": {
            "text/plain": [
              "(164090, 166)"
            ]
          },
          "execution_count": 6,
          "metadata": {},
          "output_type": "execute_result"
        }
      ],
      "source": [
        "df_train = pd.read_csv(dataset_path + dataset_final_abril)## todas las columnas mas algunas sumas y ratios\n",
        "df_train.shape"
      ]
    },
    {
      "cell_type": "code",
      "execution_count": 7,
      "metadata": {},
      "outputs": [],
      "source": [
        "def prepare_data(df):\n",
        "    y = df[\"clase_ternaria\"].map(lambda x: 0 if x == \"CONTINUA\" else 1)\n",
        "    X = df.drop(\"clase_ternaria\", axis=1)\n",
        "    return X, y\n",
        "\n",
        "def sample_data(X, y, sample_size=10000, seed=17):\n",
        "\n",
        "    np.random.seed(seed)\n",
        "    continua_sample = y[y == 0].sample(sample_size).index  # Muestra aleatoria de clase 0\n",
        "    bajas_1_2 = y[y == 1].index  # Índices de clase 1\n",
        "    rf_index = continua_sample.union(bajas_1_2)  # Unión de índices\n",
        "\n",
        "    X_sample = X.loc[rf_index]  # Filtra X usando los índices seleccionados\n",
        "    y_sample = y.loc[rf_index]  # Filtra y usando los índices seleccionados\n",
        "\n",
        "    return X_sample, y_sample\n",
        "\n",
        "def ganancia_prob(y_hat, y, prop=1, class_index=1, threshold=0.025):\n",
        "  @np.vectorize\n",
        "  def ganancia_row(predicted, actual, threshold=0.025):\n",
        "    return  (predicted >= threshold) * (ganancia_acierto if actual == 1 else -costo_estimulo)\n",
        "\n",
        "  return ganancia_row(y_hat[:,class_index], y).sum() / prop\n",
        "\n",
        "Xtrain, ytrain = prepare_data(df_train)\n",
        "Xtrain_rf, ytrain_rf = sample_data(Xtrain, ytrain)\n"
      ]
    },
    {
      "cell_type": "code",
      "execution_count": 8,
      "metadata": {},
      "outputs": [],
      "source": [
        "def train_random_forest(X, y, n_estimators=100, max_features=20, min_samples_leaf=400, strategy='median', random_state=17):\n",
        "\n",
        "    # Imputar valores faltantes\n",
        "    imp_mean = SimpleImputer(missing_values=np.nan, strategy=strategy)\n",
        "    X_imputed = imp_mean.fit_transform(X)\n",
        "\n",
        "    # Entrenar RandomForestClassifier\n",
        "    model = RandomForestClassifier(\n",
        "        n_estimators=n_estimators,\n",
        "        max_features=max_features,\n",
        "        min_samples_leaf=min_samples_leaf,\n",
        "        random_state=random_state\n",
        "    )\n",
        "    \n",
        "    model.fit(X_imputed, y)\n",
        "\n",
        "    return model, X_imputed\n",
        "\n",
        "# entreno el modelo \n",
        "model_rf, Xtrain_rf_imp = train_random_forest(Xtrain_rf, ytrain_rf)"
      ]
    },
    {
      "cell_type": "code",
      "execution_count": 10,
      "metadata": {},
      "outputs": [
        {
          "name": "stdout",
          "output_type": "stream",
          "text": [
            "                                feature  importance\n",
            "2                          ctrx_quarter    0.137478\n",
            "160           percent_rank_ctrx_quarter    0.097706\n",
            "102                  avg_3_ctrx_quarter    0.077636\n",
            "3                          mcaja_ahorro    0.065614\n",
            "159           percent_rank_mcaja_ahorro    0.058816\n",
            "54                   lag_1_mcaja_ahorro    0.055622\n",
            "4                     mtarjetas_consumo    0.054006\n",
            "5                       mpasivos_margen    0.031804\n",
            "6                 mtarjeta_visa_consumo    0.029047\n",
            "92                   avg_3_mcaja_ahorro    0.029003\n",
            "156        percent_rank_mpasivos_margen    0.028729\n",
            "11                         cpayroll_trx    0.027218\n",
            "89                avg_3_mpasivos_margen    0.023145\n",
            "9                       m_payroll_total    0.021968\n",
            "10          ctarjeta_visa_transacciones    0.019039\n",
            "158  percent_rank_mtarjeta_visa_consumo    0.018934\n",
            "17                     m_cpayroll_total    0.018488\n",
            "53                lag_1_mpasivos_margen    0.017233\n",
            "164           percent_rank_cpayroll_trx    0.016064\n",
            "113                      avg_3_mpayroll    0.014608\n",
            "157         percent_rank_mcuentas_saldo    0.014508\n",
            "12                             mpayroll    0.013927\n",
            "16                       mcuentas_saldo    0.009430\n",
            "15                    msaldopesos_total    0.008302\n",
            "57                lag_2_mpasivos_margen    0.007359\n"
          ]
        }
      ],
      "source": [
        "def get_feature_importance(model, X, top_n=25):\n",
        "    importances = model.feature_importances_  # Obtiene la importancia de las características\n",
        "    features = X.columns  # Nombres de las características\n",
        "    feat_importances = pd.DataFrame({'feature': features, 'importance': importances})  # Crea un DataFrame\n",
        "    feat_importances = feat_importances.sort_values('importance', ascending=False)  # Ordena por importancia\n",
        "\n",
        "    return feat_importances.head(top_n)  # Devuelve las principales `top_n` características\n",
        "\n",
        "# Ejemplo de uso:\n",
        "top_features = get_feature_importance(model_rf, Xtrain_rf)\n",
        "print(top_features)"
      ]
    },
    {
      "cell_type": "markdown",
      "metadata": {},
      "source": [
        "# Optimizacion del mejor modelo"
      ]
    },
    {
      "cell_type": "code",
      "execution_count": 11,
      "metadata": {},
      "outputs": [
        {
          "name": "stderr",
          "output_type": "stream",
          "text": [
            "[I 2024-09-19 16:54:12,702] A new study created in RDB with name: exp_suma_division_random-forest-opt-abril_final\n"
          ]
        }
      ],
      "source": [
        "imp_mean = SimpleImputer(missing_values=np.nan, strategy='mean')\n",
        "Xtrain_rf_imp = imp_mean.fit_transform(Xtrain_rf)\n",
        "\n",
        "# Optimizacion extendida\n",
        "def objective(trial):\n",
        "    # Hiperparámetros adicionales\n",
        "    n_estimators = trial.suggest_int('n_estimators', 100, 500)  # Número de árboles\n",
        "    max_depth = trial.suggest_int('max_depth', 5, 15)  # Profundidad máxima del árbol\n",
        "    min_samples_split = trial.suggest_int('min_samples_split', 50, 300)  # Mínimas muestras para dividir un nodo\n",
        "    min_samples_leaf = trial.suggest_int('min_samples_leaf', 1, 200)  # Mínimas muestras por hoja\n",
        "    \n",
        "    model = RandomForestClassifier(\n",
        "        n_estimators=n_estimators,\n",
        "        max_depth=max_depth,\n",
        "        min_samples_split=min_samples_split,\n",
        "        min_samples_leaf=min_samples_leaf,\n",
        "        criterion=\"entropy\",\n",
        "        random_state=semillas[0],\n",
        "        n_jobs=-1,\n",
        "        oob_score=True  # Se mantiene para evaluar con muestras fuera de bolsa\n",
        "    )\n",
        "\n",
        "    model.fit(Xtrain_rf_imp, ytrain_rf)\n",
        "\n",
        "    return ganancia_prob(model.oob_decision_function_, ytrain_rf)\n",
        "\n",
        "storage_name = \"sqlite:///\" + db_path + \"optimization_tree_abril_final.db\"\n",
        "study_name = \"exp_suma_division_random-forest-opt-abril_final\"\n",
        "\n",
        "study = optuna.create_study(\n",
        "    direction=\"maximize\",\n",
        "    study_name=study_name,\n",
        "    storage=storage_name,\n",
        "    load_if_exists=True,\n",
        ")"
      ]
    },
    {
      "cell_type": "code",
      "execution_count": 12,
      "metadata": {},
      "outputs": [
        {
          "name": "stderr",
          "output_type": "stream",
          "text": [
            "[I 2024-09-19 16:54:25,263] Trial 0 finished with value: 544348000.0 and parameters: {'n_estimators': 235, 'max_depth': 10, 'min_samples_split': 210, 'min_samples_leaf': 119}. Best is trial 0 with value: 544348000.0.\n",
            "[I 2024-09-19 16:54:27,308] Trial 1 finished with value: 544614000.0 and parameters: {'n_estimators': 152, 'max_depth': 15, 'min_samples_split': 63, 'min_samples_leaf': 110}. Best is trial 1 with value: 544614000.0.\n",
            "[I 2024-09-19 16:54:30,305] Trial 2 finished with value: 544754000.0 and parameters: {'n_estimators': 238, 'max_depth': 6, 'min_samples_split': 171, 'min_samples_leaf': 95}. Best is trial 2 with value: 544754000.0.\n",
            "[I 2024-09-19 16:54:32,450] Trial 3 finished with value: 543655000.0 and parameters: {'n_estimators': 176, 'max_depth': 14, 'min_samples_split': 54, 'min_samples_leaf': 180}. Best is trial 2 with value: 544754000.0.\n",
            "[I 2024-09-19 16:54:34,999] Trial 4 finished with value: 545027000.0 and parameters: {'n_estimators': 184, 'max_depth': 13, 'min_samples_split': 278, 'min_samples_leaf': 68}. Best is trial 4 with value: 545027000.0.\n",
            "[I 2024-09-19 16:54:37,966] Trial 5 finished with value: 545811000.0 and parameters: {'n_estimators': 188, 'max_depth': 10, 'min_samples_split': 190, 'min_samples_leaf': 34}. Best is trial 5 with value: 545811000.0.\n",
            "[I 2024-09-19 16:54:39,385] Trial 6 finished with value: 544439000.0 and parameters: {'n_estimators': 106, 'max_depth': 11, 'min_samples_split': 219, 'min_samples_leaf': 127}. Best is trial 5 with value: 545811000.0.\n",
            "[I 2024-09-19 16:54:41,429] Trial 7 finished with value: 543907000.0 and parameters: {'n_estimators': 179, 'max_depth': 5, 'min_samples_split': 265, 'min_samples_leaf': 114}. Best is trial 5 with value: 545811000.0.\n",
            "[I 2024-09-19 16:54:47,023] Trial 8 finished with value: 546119000.0 and parameters: {'n_estimators': 344, 'max_depth': 14, 'min_samples_split': 93, 'min_samples_leaf': 28}. Best is trial 8 with value: 546119000.0.\n",
            "[I 2024-09-19 16:54:53,097] Trial 9 finished with value: 543676000.0 and parameters: {'n_estimators': 484, 'max_depth': 15, 'min_samples_split': 156, 'min_samples_leaf': 143}. Best is trial 8 with value: 546119000.0.\n",
            "[I 2024-09-19 16:55:00,041] Trial 10 finished with value: 546378000.0 and parameters: {'n_estimators': 404, 'max_depth': 12, 'min_samples_split': 111, 'min_samples_leaf': 2}. Best is trial 10 with value: 546378000.0.\n",
            "[I 2024-09-19 16:55:06,804] Trial 11 finished with value: 546399000.0 and parameters: {'n_estimators': 387, 'max_depth': 12, 'min_samples_split': 111, 'min_samples_leaf': 2}. Best is trial 11 with value: 546399000.0.\n",
            "[I 2024-09-19 16:55:13,936] Trial 12 finished with value: 546266000.0 and parameters: {'n_estimators': 390, 'max_depth': 12, 'min_samples_split': 107, 'min_samples_leaf': 3}. Best is trial 11 with value: 546399000.0.\n",
            "[I 2024-09-19 16:55:21,423] Trial 13 finished with value: 546063000.0 and parameters: {'n_estimators': 435, 'max_depth': 8, 'min_samples_split': 118, 'min_samples_leaf': 4}. Best is trial 11 with value: 546399000.0.\n",
            "[I 2024-09-19 16:55:26,939] Trial 14 finished with value: 545328000.0 and parameters: {'n_estimators': 325, 'max_depth': 9, 'min_samples_split': 129, 'min_samples_leaf': 51}. Best is trial 11 with value: 546399000.0.\n",
            "[I 2024-09-19 16:55:32,529] Trial 15 finished with value: 544726000.0 and parameters: {'n_estimators': 375, 'max_depth': 12, 'min_samples_split': 138, 'min_samples_leaf': 78}. Best is trial 11 with value: 546399000.0.\n",
            "[I 2024-09-19 16:55:40,658] Trial 16 finished with value: 546287000.0 and parameters: {'n_estimators': 462, 'max_depth': 12, 'min_samples_split': 85, 'min_samples_leaf': 21}. Best is trial 11 with value: 546399000.0.\n",
            "[I 2024-09-19 16:55:46,974] Trial 17 finished with value: 545832000.0 and parameters: {'n_estimators': 415, 'max_depth': 8, 'min_samples_split': 79, 'min_samples_leaf': 49}. Best is trial 11 with value: 546399000.0.\n",
            "[I 2024-09-19 16:55:50,315] Trial 18 finished with value: 543256000.0 and parameters: {'n_estimators': 268, 'max_depth': 11, 'min_samples_split': 148, 'min_samples_leaf': 168}. Best is trial 11 with value: 546399000.0.\n",
            "[I 2024-09-19 16:55:54,856] Trial 19 finished with value: 545734000.0 and parameters: {'n_estimators': 302, 'max_depth': 13, 'min_samples_split': 239, 'min_samples_leaf': 52}. Best is trial 11 with value: 546399000.0.\n",
            "[I 2024-09-19 16:56:00,044] Trial 20 finished with value: 545797000.0 and parameters: {'n_estimators': 356, 'max_depth': 11, 'min_samples_split': 109, 'min_samples_leaf': 83}. Best is trial 11 with value: 546399000.0.\n",
            "[I 2024-09-19 16:56:08,512] Trial 21 finished with value: 546889000.0 and parameters: {'n_estimators': 494, 'max_depth': 12, 'min_samples_split': 85, 'min_samples_leaf': 19}. Best is trial 21 with value: 546889000.0.\n",
            "[I 2024-09-19 16:56:18,334] Trial 22 finished with value: 546791000.0 and parameters: {'n_estimators': 498, 'max_depth': 13, 'min_samples_split': 78, 'min_samples_leaf': 1}. Best is trial 21 with value: 546889000.0.\n",
            "[I 2024-09-19 16:56:26,658] Trial 23 finished with value: 545937000.0 and parameters: {'n_estimators': 480, 'max_depth': 13, 'min_samples_split': 50, 'min_samples_leaf': 26}. Best is trial 21 with value: 546889000.0.\n",
            "[I 2024-09-19 16:56:34,390] Trial 24 finished with value: 546882000.0 and parameters: {'n_estimators': 442, 'max_depth': 14, 'min_samples_split': 79, 'min_samples_leaf': 15}. Best is trial 21 with value: 546889000.0.\n",
            "[I 2024-09-19 16:56:42,684] Trial 25 finished with value: 546658000.0 and parameters: {'n_estimators': 499, 'max_depth': 14, 'min_samples_split': 73, 'min_samples_leaf': 40}. Best is trial 21 with value: 546889000.0.\n",
            "[I 2024-09-19 16:56:50,579] Trial 26 finished with value: 546399000.0 and parameters: {'n_estimators': 441, 'max_depth': 15, 'min_samples_split': 92, 'min_samples_leaf': 18}. Best is trial 21 with value: 546889000.0.\n",
            "[I 2024-09-19 16:56:58,106] Trial 27 finished with value: 546140000.0 and parameters: {'n_estimators': 449, 'max_depth': 14, 'min_samples_split': 71, 'min_samples_leaf': 63}. Best is trial 21 with value: 546889000.0.\n",
            "[I 2024-09-19 16:57:06,441] Trial 28 finished with value: 545860000.0 and parameters: {'n_estimators': 498, 'max_depth': 13, 'min_samples_split': 168, 'min_samples_leaf': 15}. Best is trial 21 with value: 546889000.0.\n",
            "[I 2024-09-19 16:57:13,348] Trial 29 finished with value: 545538000.0 and parameters: {'n_estimators': 420, 'max_depth': 10, 'min_samples_split': 193, 'min_samples_leaf': 44}. Best is trial 21 with value: 546889000.0.\n",
            "[I 2024-09-19 16:57:21,060] Trial 30 finished with value: 546420000.0 and parameters: {'n_estimators': 468, 'max_depth': 14, 'min_samples_split': 95, 'min_samples_leaf': 66}. Best is trial 21 with value: 546889000.0.\n",
            "[I 2024-09-19 16:57:29,668] Trial 31 finished with value: 546623000.0 and parameters: {'n_estimators': 500, 'max_depth': 14, 'min_samples_split': 69, 'min_samples_leaf': 41}. Best is trial 21 with value: 546889000.0.\n",
            "[I 2024-09-19 16:57:38,713] Trial 32 finished with value: 547267000.0 and parameters: {'n_estimators': 468, 'max_depth': 15, 'min_samples_split': 66, 'min_samples_leaf': 14}. Best is trial 32 with value: 547267000.0.\n",
            "[I 2024-09-19 16:57:47,685] Trial 33 finished with value: 547309000.0 and parameters: {'n_estimators': 454, 'max_depth': 15, 'min_samples_split': 50, 'min_samples_leaf': 14}. Best is trial 33 with value: 547309000.0.\n",
            "[I 2024-09-19 16:57:56,686] Trial 34 finished with value: 546350000.0 and parameters: {'n_estimators': 449, 'max_depth': 15, 'min_samples_split': 58, 'min_samples_leaf': 18}. Best is trial 33 with value: 547309000.0.\n",
            "[I 2024-09-19 16:58:04,763] Trial 35 finished with value: 546427000.0 and parameters: {'n_estimators': 427, 'max_depth': 15, 'min_samples_split': 52, 'min_samples_leaf': 32}. Best is trial 33 with value: 547309000.0.\n",
            "[I 2024-09-19 16:58:11,185] Trial 36 finished with value: 543039000.0 and parameters: {'n_estimators': 463, 'max_depth': 15, 'min_samples_split': 63, 'min_samples_leaf': 199}. Best is trial 33 with value: 547309000.0.\n",
            "[I 2024-09-19 16:58:15,560] Trial 37 finished with value: 546420000.0 and parameters: {'n_estimators': 224, 'max_depth': 15, 'min_samples_split': 129, 'min_samples_leaf': 13}. Best is trial 33 with value: 547309000.0.\n",
            "[I 2024-09-19 16:58:22,516] Trial 38 finished with value: 544516000.0 and parameters: {'n_estimators': 409, 'max_depth': 13, 'min_samples_split': 99, 'min_samples_leaf': 92}. Best is trial 33 with value: 547309000.0.\n",
            "[I 2024-09-19 16:58:31,567] Trial 39 finished with value: 546224000.0 and parameters: {'n_estimators': 472, 'max_depth': 14, 'min_samples_split': 62, 'min_samples_leaf': 34}. Best is trial 33 with value: 547309000.0.\n",
            "[I 2024-09-19 16:58:39,485] Trial 40 finished with value: 544915000.0 and parameters: {'n_estimators': 444, 'max_depth': 14, 'min_samples_split': 86, 'min_samples_leaf': 59}. Best is trial 33 with value: 547309000.0.\n",
            "[I 2024-09-19 16:58:49,540] Trial 41 finished with value: 546364000.0 and parameters: {'n_estimators': 476, 'max_depth': 13, 'min_samples_split': 75, 'min_samples_leaf': 9}. Best is trial 33 with value: 547309000.0.\n",
            "[I 2024-09-19 16:58:59,133] Trial 42 finished with value: 546630000.0 and parameters: {'n_estimators': 485, 'max_depth': 15, 'min_samples_split': 81, 'min_samples_leaf': 23}. Best is trial 33 with value: 547309000.0.\n",
            "[I 2024-09-19 16:59:01,540] Trial 43 finished with value: 547253000.0 and parameters: {'n_estimators': 103, 'max_depth': 11, 'min_samples_split': 68, 'min_samples_leaf': 11}. Best is trial 33 with value: 547309000.0.\n",
            "[I 2024-09-19 16:59:05,913] Trial 44 finished with value: 547785000.0 and parameters: {'n_estimators': 208, 'max_depth': 11, 'min_samples_split': 52, 'min_samples_leaf': 28}. Best is trial 44 with value: 547785000.0.\n",
            "[I 2024-09-19 16:59:08,342] Trial 45 finished with value: 546238000.0 and parameters: {'n_estimators': 125, 'max_depth': 11, 'min_samples_split': 52, 'min_samples_leaf': 34}. Best is trial 44 with value: 547785000.0.\n",
            "[I 2024-09-19 16:59:10,812] Trial 46 finished with value: 543711000.0 and parameters: {'n_estimators': 157, 'max_depth': 9, 'min_samples_split': 298, 'min_samples_leaf': 127}. Best is trial 44 with value: 547785000.0.\n",
            "[I 2024-09-19 16:59:15,518] Trial 47 finished with value: 546245000.0 and parameters: {'n_estimators': 220, 'max_depth': 10, 'min_samples_split': 64, 'min_samples_leaf': 10}. Best is trial 44 with value: 547785000.0.\n",
            "[I 2024-09-19 16:59:20,330] Trial 48 finished with value: 547169000.0 and parameters: {'n_estimators': 260, 'max_depth': 9, 'min_samples_split': 99, 'min_samples_leaf': 29}. Best is trial 44 with value: 547785000.0.\n",
            "[I 2024-09-19 16:59:24,791] Trial 49 finished with value: 545699000.0 and parameters: {'n_estimators': 260, 'max_depth': 7, 'min_samples_split': 119, 'min_samples_leaf': 30}. Best is trial 44 with value: 547785000.0.\n",
            "[I 2024-09-19 16:59:28,158] Trial 50 finished with value: 546259000.0 and parameters: {'n_estimators': 202, 'max_depth': 9, 'min_samples_split': 95, 'min_samples_leaf': 75}. Best is trial 44 with value: 547785000.0.\n",
            "[I 2024-09-19 16:59:30,174] Trial 51 finished with value: 546063000.0 and parameters: {'n_estimators': 100, 'max_depth': 11, 'min_samples_split': 64, 'min_samples_leaf': 25}. Best is trial 44 with value: 547785000.0.\n",
            "[I 2024-09-19 16:59:35,533] Trial 52 finished with value: 547925000.0 and parameters: {'n_estimators': 262, 'max_depth': 10, 'min_samples_split': 51, 'min_samples_leaf': 10}. Best is trial 52 with value: 547925000.0.\n",
            "[I 2024-09-19 16:59:40,445] Trial 53 finished with value: 546007000.0 and parameters: {'n_estimators': 259, 'max_depth': 8, 'min_samples_split': 50, 'min_samples_leaf': 8}. Best is trial 52 with value: 547925000.0.\n",
            "[I 2024-09-19 16:59:45,607] Trial 54 finished with value: 546588000.0 and parameters: {'n_estimators': 281, 'max_depth': 9, 'min_samples_split': 59, 'min_samples_leaf': 38}. Best is trial 52 with value: 547925000.0.\n",
            "[I 2024-09-19 16:59:49,915] Trial 55 finished with value: 543830000.0 and parameters: {'n_estimators': 312, 'max_depth': 5, 'min_samples_split': 103, 'min_samples_leaf': 106}. Best is trial 52 with value: 547925000.0.\n",
            "[I 2024-09-19 16:59:54,582] Trial 56 finished with value: 546287000.0 and parameters: {'n_estimators': 247, 'max_depth': 10, 'min_samples_split': 67, 'min_samples_leaf': 53}. Best is trial 52 with value: 547925000.0.\n",
            "[I 2024-09-19 16:59:56,845] Trial 57 finished with value: 544803000.0 and parameters: {'n_estimators': 129, 'max_depth': 7, 'min_samples_split': 236, 'min_samples_leaf': 1}. Best is trial 52 with value: 547925000.0.\n",
            "[I 2024-09-19 17:00:00,544] Trial 58 finished with value: 545846000.0 and parameters: {'n_estimators': 193, 'max_depth': 10, 'min_samples_split': 90, 'min_samples_leaf': 24}. Best is trial 52 with value: 547925000.0.\n",
            "[I 2024-09-19 17:00:04,722] Trial 59 finished with value: 543130000.0 and parameters: {'n_estimators': 288, 'max_depth': 8, 'min_samples_split': 58, 'min_samples_leaf': 156}. Best is trial 52 with value: 547925000.0.\n",
            "[I 2024-09-19 17:00:10,705] Trial 60 finished with value: 545622000.0 and parameters: {'n_estimators': 337, 'max_depth': 11, 'min_samples_split': 74, 'min_samples_leaf': 46}. Best is trial 52 with value: 547925000.0.\n",
            "[I 2024-09-19 17:00:13,832] Trial 61 finished with value: 546462000.0 and parameters: {'n_estimators': 151, 'max_depth': 12, 'min_samples_split': 84, 'min_samples_leaf': 10}. Best is trial 52 with value: 547925000.0.\n",
            "[I 2024-09-19 17:00:17,127] Trial 62 finished with value: 546812000.0 and parameters: {'n_estimators': 168, 'max_depth': 10, 'min_samples_split': 70, 'min_samples_leaf': 19}. Best is trial 52 with value: 547925000.0.\n",
            "[I 2024-09-19 17:00:21,606] Trial 63 finished with value: 545797000.0 and parameters: {'n_estimators': 239, 'max_depth': 12, 'min_samples_split': 116, 'min_samples_leaf': 28}. Best is trial 52 with value: 547925000.0.\n",
            "[I 2024-09-19 17:00:27,420] Trial 64 finished with value: 547211000.0 and parameters: {'n_estimators': 275, 'max_depth': 11, 'min_samples_split': 86, 'min_samples_leaf': 6}. Best is trial 52 with value: 547925000.0.\n",
            "[I 2024-09-19 17:00:32,898] Trial 65 finished with value: 546644000.0 and parameters: {'n_estimators': 278, 'max_depth': 9, 'min_samples_split': 57, 'min_samples_leaf': 8}. Best is trial 52 with value: 547925000.0.\n",
            "[I 2024-09-19 17:00:37,241] Trial 66 finished with value: 547848000.0 and parameters: {'n_estimators': 222, 'max_depth': 11, 'min_samples_split': 103, 'min_samples_leaf': 13}. Best is trial 52 with value: 547925000.0.\n",
            "[I 2024-09-19 17:00:41,923] Trial 67 finished with value: 546875000.0 and parameters: {'n_estimators': 225, 'max_depth': 11, 'min_samples_split': 78, 'min_samples_leaf': 6}. Best is trial 52 with value: 547925000.0.\n",
            "[I 2024-09-19 17:00:46,200] Trial 68 finished with value: 547876000.0 and parameters: {'n_estimators': 210, 'max_depth': 11, 'min_samples_split': 50, 'min_samples_leaf': 14}. Best is trial 52 with value: 547925000.0.\n",
            "[I 2024-09-19 17:00:50,498] Trial 69 finished with value: 546847000.0 and parameters: {'n_estimators': 210, 'max_depth': 11, 'min_samples_split': 52, 'min_samples_leaf': 17}. Best is trial 52 with value: 547925000.0.\n",
            "[I 2024-09-19 17:00:54,226] Trial 70 finished with value: 546868000.0 and parameters: {'n_estimators': 181, 'max_depth': 12, 'min_samples_split': 68, 'min_samples_leaf': 14}. Best is trial 52 with value: 547925000.0.\n",
            "[I 2024-09-19 17:00:59,555] Trial 71 finished with value: 546756000.0 and parameters: {'n_estimators': 243, 'max_depth': 11, 'min_samples_split': 60, 'min_samples_leaf': 2}. Best is trial 52 with value: 547925000.0.\n",
            "[I 2024-09-19 17:01:03,617] Trial 72 finished with value: 546651000.0 and parameters: {'n_estimators': 207, 'max_depth': 11, 'min_samples_split': 50, 'min_samples_leaf': 22}. Best is trial 52 with value: 547925000.0.\n",
            "[I 2024-09-19 17:01:09,428] Trial 73 finished with value: 546119000.0 and parameters: {'n_estimators': 298, 'max_depth': 10, 'min_samples_split': 73, 'min_samples_leaf': 14}. Best is trial 52 with value: 547925000.0.\n",
            "[I 2024-09-19 17:01:15,273] Trial 74 finished with value: 546343000.0 and parameters: {'n_estimators': 317, 'max_depth': 10, 'min_samples_split': 87, 'min_samples_leaf': 39}. Best is trial 52 with value: 547925000.0.\n",
            "[I 2024-09-19 17:01:22,355] Trial 75 finished with value: 545328000.0 and parameters: {'n_estimators': 380, 'max_depth': 11, 'min_samples_split': 201, 'min_samples_leaf': 7}. Best is trial 52 with value: 547925000.0.\n",
            "[I 2024-09-19 17:01:26,203] Trial 76 finished with value: 545685000.0 and parameters: {'n_estimators': 194, 'max_depth': 12, 'min_samples_split': 174, 'min_samples_leaf': 1}. Best is trial 52 with value: 547925000.0.\n",
            "[I 2024-09-19 17:01:30,791] Trial 77 finished with value: 545825000.0 and parameters: {'n_estimators': 234, 'max_depth': 11, 'min_samples_split': 146, 'min_samples_leaf': 21}. Best is trial 52 with value: 547925000.0.\n",
            "[I 2024-09-19 17:01:35,908] Trial 78 finished with value: 546021000.0 and parameters: {'n_estimators': 251, 'max_depth': 12, 'min_samples_split': 57, 'min_samples_leaf': 15}. Best is trial 52 with value: 547925000.0.\n",
            "[I 2024-09-19 17:01:40,916] Trial 79 finished with value: 546700000.0 and parameters: {'n_estimators': 271, 'max_depth': 13, 'min_samples_split': 66, 'min_samples_leaf': 36}. Best is trial 52 with value: 547925000.0.\n",
            "[I 2024-09-19 17:01:47,587] Trial 80 finished with value: 546273000.0 and parameters: {'n_estimators': 358, 'max_depth': 10, 'min_samples_split': 80, 'min_samples_leaf': 27}. Best is trial 52 with value: 547925000.0.\n",
            "[I 2024-09-19 17:01:52,370] Trial 81 finished with value: 546084000.0 and parameters: {'n_estimators': 263, 'max_depth': 9, 'min_samples_split': 101, 'min_samples_leaf': 31}. Best is trial 52 with value: 547925000.0.\n",
            "[I 2024-09-19 17:01:57,832] Trial 82 finished with value: 546182000.0 and parameters: {'n_estimators': 294, 'max_depth': 9, 'min_samples_split': 128, 'min_samples_leaf': 11}. Best is trial 52 with value: 547925000.0.\n",
            "[I 2024-09-19 17:02:02,364] Trial 83 finished with value: 545972000.0 and parameters: {'n_estimators': 218, 'max_depth': 10, 'min_samples_split': 105, 'min_samples_leaf': 6}. Best is trial 52 with value: 547925000.0.\n",
            "[I 2024-09-19 17:02:06,744] Trial 84 finished with value: 546560000.0 and parameters: {'n_estimators': 229, 'max_depth': 11, 'min_samples_split': 89, 'min_samples_leaf': 21}. Best is trial 52 with value: 547925000.0.\n",
            "[I 2024-09-19 17:02:11,453] Trial 85 finished with value: 546497000.0 and parameters: {'n_estimators': 253, 'max_depth': 10, 'min_samples_split': 74, 'min_samples_leaf': 30}. Best is trial 52 with value: 547925000.0.\n",
            "[I 2024-09-19 17:02:16,484] Trial 86 finished with value: 545160000.0 and parameters: {'n_estimators': 272, 'max_depth': 8, 'min_samples_split': 63, 'min_samples_leaf': 13}. Best is trial 52 with value: 547925000.0.\n",
            "[I 2024-09-19 17:02:24,458] Trial 87 finished with value: 545937000.0 and parameters: {'n_estimators': 458, 'max_depth': 11, 'min_samples_split': 165, 'min_samples_leaf': 44}. Best is trial 52 with value: 547925000.0.\n",
            "[I 2024-09-19 17:02:26,723] Trial 88 finished with value: 545643000.0 and parameters: {'n_estimators': 114, 'max_depth': 15, 'min_samples_split': 56, 'min_samples_leaf': 23}. Best is trial 52 with value: 547925000.0.\n",
            "[I 2024-09-19 17:02:29,521] Trial 89 finished with value: 546000000.0 and parameters: {'n_estimators': 143, 'max_depth': 9, 'min_samples_split': 98, 'min_samples_leaf': 5}. Best is trial 52 with value: 547925000.0.\n",
            "[I 2024-09-19 17:02:35,331] Trial 90 finished with value: 546413000.0 and parameters: {'n_estimators': 308, 'max_depth': 10, 'min_samples_split': 183, 'min_samples_leaf': 18}. Best is trial 52 with value: 547925000.0.\n",
            "[I 2024-09-19 17:02:44,505] Trial 91 finished with value: 546336000.0 and parameters: {'n_estimators': 491, 'max_depth': 12, 'min_samples_split': 110, 'min_samples_leaf': 25}. Best is trial 52 with value: 547925000.0.\n",
            "[I 2024-09-19 17:02:52,248] Trial 92 finished with value: 546742000.0 and parameters: {'n_estimators': 399, 'max_depth': 11, 'min_samples_split': 94, 'min_samples_leaf': 13}. Best is trial 52 with value: 547925000.0.\n",
            "[I 2024-09-19 17:02:55,645] Trial 93 finished with value: 546147000.0 and parameters: {'n_estimators': 172, 'max_depth': 12, 'min_samples_split': 82, 'min_samples_leaf': 18}. Best is trial 52 with value: 547925000.0.\n",
            "[I 2024-09-19 17:03:01,777] Trial 94 finished with value: 546168000.0 and parameters: {'n_estimators': 327, 'max_depth': 11, 'min_samples_split': 69, 'min_samples_leaf': 28}. Best is trial 52 with value: 547925000.0.\n",
            "[I 2024-09-19 17:03:07,384] Trial 95 finished with value: 546063000.0 and parameters: {'n_estimators': 288, 'max_depth': 14, 'min_samples_split': 62, 'min_samples_leaf': 34}. Best is trial 52 with value: 547925000.0.\n",
            "[I 2024-09-19 17:03:17,358] Trial 96 finished with value: 547442000.0 and parameters: {'n_estimators': 483, 'max_depth': 15, 'min_samples_split': 76, 'min_samples_leaf': 10}. Best is trial 52 with value: 547925000.0.\n",
            "[I 2024-09-19 17:03:26,789] Trial 97 finished with value: 547736000.0 and parameters: {'n_estimators': 430, 'max_depth': 15, 'min_samples_split': 54, 'min_samples_leaf': 5}. Best is trial 52 with value: 547925000.0.\n",
            "[I 2024-09-19 17:03:36,489] Trial 98 finished with value: 547176000.0 and parameters: {'n_estimators': 434, 'max_depth': 15, 'min_samples_split': 54, 'min_samples_leaf': 4}. Best is trial 52 with value: 547925000.0.\n",
            "[I 2024-09-19 17:03:46,053] Trial 99 finished with value: 546735000.0 and parameters: {'n_estimators': 458, 'max_depth': 15, 'min_samples_split': 77, 'min_samples_leaf': 9}. Best is trial 52 with value: 547925000.0.\n"
          ]
        }
      ],
      "source": [
        "study.optimize(objective,n_trials=100)"
      ]
    },
    {
      "cell_type": "code",
      "execution_count": 13,
      "metadata": {},
      "outputs": [
        {
          "data": {
            "application/vnd.plotly.v1+json": {
              "config": {
                "plotlyServerURL": "https://plot.ly"
              },
              "data": [
                {
                  "mode": "markers",
                  "name": "Objective Value",
                  "type": "scatter",
                  "x": [
                    0,
                    1,
                    2,
                    3,
                    4,
                    5,
                    6,
                    7,
                    8,
                    9,
                    10,
                    11,
                    12,
                    13,
                    14,
                    15,
                    16,
                    17,
                    18,
                    19,
                    20,
                    21,
                    22,
                    23,
                    24,
                    25,
                    26,
                    27,
                    28,
                    29,
                    30,
                    31,
                    32,
                    33,
                    34,
                    35,
                    36,
                    37,
                    38,
                    39,
                    40,
                    41,
                    42,
                    43,
                    44,
                    45,
                    46,
                    47,
                    48,
                    49,
                    50,
                    51,
                    52,
                    53,
                    54,
                    55,
                    56,
                    57,
                    58,
                    59,
                    60,
                    61,
                    62,
                    63,
                    64,
                    65,
                    66,
                    67,
                    68,
                    69,
                    70,
                    71,
                    72,
                    73,
                    74,
                    75,
                    76,
                    77,
                    78,
                    79,
                    80,
                    81,
                    82,
                    83,
                    84,
                    85,
                    86,
                    87,
                    88,
                    89,
                    90,
                    91,
                    92,
                    93,
                    94,
                    95,
                    96,
                    97,
                    98,
                    99
                  ],
                  "y": [
                    544348000,
                    544614000,
                    544754000,
                    543655000,
                    545027000,
                    545811000,
                    544439000,
                    543907000,
                    546119000,
                    543676000,
                    546378000,
                    546399000,
                    546266000,
                    546063000,
                    545328000,
                    544726000,
                    546287000,
                    545832000,
                    543256000,
                    545734000,
                    545797000,
                    546889000,
                    546791000,
                    545937000,
                    546882000,
                    546658000,
                    546399000,
                    546140000,
                    545860000,
                    545538000,
                    546420000,
                    546623000,
                    547267000,
                    547309000,
                    546350000,
                    546427000,
                    543039000,
                    546420000,
                    544516000,
                    546224000,
                    544915000,
                    546364000,
                    546630000,
                    547253000,
                    547785000,
                    546238000,
                    543711000,
                    546245000,
                    547169000,
                    545699000,
                    546259000,
                    546063000,
                    547925000,
                    546007000,
                    546588000,
                    543830000,
                    546287000,
                    544803000,
                    545846000,
                    543130000,
                    545622000,
                    546462000,
                    546812000,
                    545797000,
                    547211000,
                    546644000,
                    547848000,
                    546875000,
                    547876000,
                    546847000,
                    546868000,
                    546756000,
                    546651000,
                    546119000,
                    546343000,
                    545328000,
                    545685000,
                    545825000,
                    546021000,
                    546700000,
                    546273000,
                    546084000,
                    546182000,
                    545972000,
                    546560000,
                    546497000,
                    545160000,
                    545937000,
                    545643000,
                    546000000,
                    546413000,
                    546336000,
                    546742000,
                    546147000,
                    546168000,
                    546063000,
                    547442000,
                    547736000,
                    547176000,
                    546735000
                  ]
                },
                {
                  "mode": "lines",
                  "name": "Best Value",
                  "type": "scatter",
                  "x": [
                    0,
                    1,
                    2,
                    3,
                    4,
                    5,
                    6,
                    7,
                    8,
                    9,
                    10,
                    11,
                    12,
                    13,
                    14,
                    15,
                    16,
                    17,
                    18,
                    19,
                    20,
                    21,
                    22,
                    23,
                    24,
                    25,
                    26,
                    27,
                    28,
                    29,
                    30,
                    31,
                    32,
                    33,
                    34,
                    35,
                    36,
                    37,
                    38,
                    39,
                    40,
                    41,
                    42,
                    43,
                    44,
                    45,
                    46,
                    47,
                    48,
                    49,
                    50,
                    51,
                    52,
                    53,
                    54,
                    55,
                    56,
                    57,
                    58,
                    59,
                    60,
                    61,
                    62,
                    63,
                    64,
                    65,
                    66,
                    67,
                    68,
                    69,
                    70,
                    71,
                    72,
                    73,
                    74,
                    75,
                    76,
                    77,
                    78,
                    79,
                    80,
                    81,
                    82,
                    83,
                    84,
                    85,
                    86,
                    87,
                    88,
                    89,
                    90,
                    91,
                    92,
                    93,
                    94,
                    95,
                    96,
                    97,
                    98,
                    99
                  ],
                  "y": [
                    544348000,
                    544614000,
                    544754000,
                    544754000,
                    545027000,
                    545811000,
                    545811000,
                    545811000,
                    546119000,
                    546119000,
                    546378000,
                    546399000,
                    546399000,
                    546399000,
                    546399000,
                    546399000,
                    546399000,
                    546399000,
                    546399000,
                    546399000,
                    546399000,
                    546889000,
                    546889000,
                    546889000,
                    546889000,
                    546889000,
                    546889000,
                    546889000,
                    546889000,
                    546889000,
                    546889000,
                    546889000,
                    547267000,
                    547309000,
                    547309000,
                    547309000,
                    547309000,
                    547309000,
                    547309000,
                    547309000,
                    547309000,
                    547309000,
                    547309000,
                    547309000,
                    547785000,
                    547785000,
                    547785000,
                    547785000,
                    547785000,
                    547785000,
                    547785000,
                    547785000,
                    547925000,
                    547925000,
                    547925000,
                    547925000,
                    547925000,
                    547925000,
                    547925000,
                    547925000,
                    547925000,
                    547925000,
                    547925000,
                    547925000,
                    547925000,
                    547925000,
                    547925000,
                    547925000,
                    547925000,
                    547925000,
                    547925000,
                    547925000,
                    547925000,
                    547925000,
                    547925000,
                    547925000,
                    547925000,
                    547925000,
                    547925000,
                    547925000,
                    547925000,
                    547925000,
                    547925000,
                    547925000,
                    547925000,
                    547925000,
                    547925000,
                    547925000,
                    547925000,
                    547925000,
                    547925000,
                    547925000,
                    547925000,
                    547925000,
                    547925000,
                    547925000,
                    547925000,
                    547925000,
                    547925000,
                    547925000
                  ]
                },
                {
                  "marker": {
                    "color": "#cccccc"
                  },
                  "mode": "markers",
                  "name": "Infeasible Trial",
                  "showlegend": false,
                  "type": "scatter",
                  "x": [],
                  "y": []
                }
              ],
              "layout": {
                "template": {
                  "data": {
                    "bar": [
                      {
                        "error_x": {
                          "color": "#2a3f5f"
                        },
                        "error_y": {
                          "color": "#2a3f5f"
                        },
                        "marker": {
                          "line": {
                            "color": "#E5ECF6",
                            "width": 0.5
                          },
                          "pattern": {
                            "fillmode": "overlay",
                            "size": 10,
                            "solidity": 0.2
                          }
                        },
                        "type": "bar"
                      }
                    ],
                    "barpolar": [
                      {
                        "marker": {
                          "line": {
                            "color": "#E5ECF6",
                            "width": 0.5
                          },
                          "pattern": {
                            "fillmode": "overlay",
                            "size": 10,
                            "solidity": 0.2
                          }
                        },
                        "type": "barpolar"
                      }
                    ],
                    "carpet": [
                      {
                        "aaxis": {
                          "endlinecolor": "#2a3f5f",
                          "gridcolor": "white",
                          "linecolor": "white",
                          "minorgridcolor": "white",
                          "startlinecolor": "#2a3f5f"
                        },
                        "baxis": {
                          "endlinecolor": "#2a3f5f",
                          "gridcolor": "white",
                          "linecolor": "white",
                          "minorgridcolor": "white",
                          "startlinecolor": "#2a3f5f"
                        },
                        "type": "carpet"
                      }
                    ],
                    "choropleth": [
                      {
                        "colorbar": {
                          "outlinewidth": 0,
                          "ticks": ""
                        },
                        "type": "choropleth"
                      }
                    ],
                    "contour": [
                      {
                        "colorbar": {
                          "outlinewidth": 0,
                          "ticks": ""
                        },
                        "colorscale": [
                          [
                            0,
                            "#0d0887"
                          ],
                          [
                            0.1111111111111111,
                            "#46039f"
                          ],
                          [
                            0.2222222222222222,
                            "#7201a8"
                          ],
                          [
                            0.3333333333333333,
                            "#9c179e"
                          ],
                          [
                            0.4444444444444444,
                            "#bd3786"
                          ],
                          [
                            0.5555555555555556,
                            "#d8576b"
                          ],
                          [
                            0.6666666666666666,
                            "#ed7953"
                          ],
                          [
                            0.7777777777777778,
                            "#fb9f3a"
                          ],
                          [
                            0.8888888888888888,
                            "#fdca26"
                          ],
                          [
                            1,
                            "#f0f921"
                          ]
                        ],
                        "type": "contour"
                      }
                    ],
                    "contourcarpet": [
                      {
                        "colorbar": {
                          "outlinewidth": 0,
                          "ticks": ""
                        },
                        "type": "contourcarpet"
                      }
                    ],
                    "heatmap": [
                      {
                        "colorbar": {
                          "outlinewidth": 0,
                          "ticks": ""
                        },
                        "colorscale": [
                          [
                            0,
                            "#0d0887"
                          ],
                          [
                            0.1111111111111111,
                            "#46039f"
                          ],
                          [
                            0.2222222222222222,
                            "#7201a8"
                          ],
                          [
                            0.3333333333333333,
                            "#9c179e"
                          ],
                          [
                            0.4444444444444444,
                            "#bd3786"
                          ],
                          [
                            0.5555555555555556,
                            "#d8576b"
                          ],
                          [
                            0.6666666666666666,
                            "#ed7953"
                          ],
                          [
                            0.7777777777777778,
                            "#fb9f3a"
                          ],
                          [
                            0.8888888888888888,
                            "#fdca26"
                          ],
                          [
                            1,
                            "#f0f921"
                          ]
                        ],
                        "type": "heatmap"
                      }
                    ],
                    "heatmapgl": [
                      {
                        "colorbar": {
                          "outlinewidth": 0,
                          "ticks": ""
                        },
                        "colorscale": [
                          [
                            0,
                            "#0d0887"
                          ],
                          [
                            0.1111111111111111,
                            "#46039f"
                          ],
                          [
                            0.2222222222222222,
                            "#7201a8"
                          ],
                          [
                            0.3333333333333333,
                            "#9c179e"
                          ],
                          [
                            0.4444444444444444,
                            "#bd3786"
                          ],
                          [
                            0.5555555555555556,
                            "#d8576b"
                          ],
                          [
                            0.6666666666666666,
                            "#ed7953"
                          ],
                          [
                            0.7777777777777778,
                            "#fb9f3a"
                          ],
                          [
                            0.8888888888888888,
                            "#fdca26"
                          ],
                          [
                            1,
                            "#f0f921"
                          ]
                        ],
                        "type": "heatmapgl"
                      }
                    ],
                    "histogram": [
                      {
                        "marker": {
                          "pattern": {
                            "fillmode": "overlay",
                            "size": 10,
                            "solidity": 0.2
                          }
                        },
                        "type": "histogram"
                      }
                    ],
                    "histogram2d": [
                      {
                        "colorbar": {
                          "outlinewidth": 0,
                          "ticks": ""
                        },
                        "colorscale": [
                          [
                            0,
                            "#0d0887"
                          ],
                          [
                            0.1111111111111111,
                            "#46039f"
                          ],
                          [
                            0.2222222222222222,
                            "#7201a8"
                          ],
                          [
                            0.3333333333333333,
                            "#9c179e"
                          ],
                          [
                            0.4444444444444444,
                            "#bd3786"
                          ],
                          [
                            0.5555555555555556,
                            "#d8576b"
                          ],
                          [
                            0.6666666666666666,
                            "#ed7953"
                          ],
                          [
                            0.7777777777777778,
                            "#fb9f3a"
                          ],
                          [
                            0.8888888888888888,
                            "#fdca26"
                          ],
                          [
                            1,
                            "#f0f921"
                          ]
                        ],
                        "type": "histogram2d"
                      }
                    ],
                    "histogram2dcontour": [
                      {
                        "colorbar": {
                          "outlinewidth": 0,
                          "ticks": ""
                        },
                        "colorscale": [
                          [
                            0,
                            "#0d0887"
                          ],
                          [
                            0.1111111111111111,
                            "#46039f"
                          ],
                          [
                            0.2222222222222222,
                            "#7201a8"
                          ],
                          [
                            0.3333333333333333,
                            "#9c179e"
                          ],
                          [
                            0.4444444444444444,
                            "#bd3786"
                          ],
                          [
                            0.5555555555555556,
                            "#d8576b"
                          ],
                          [
                            0.6666666666666666,
                            "#ed7953"
                          ],
                          [
                            0.7777777777777778,
                            "#fb9f3a"
                          ],
                          [
                            0.8888888888888888,
                            "#fdca26"
                          ],
                          [
                            1,
                            "#f0f921"
                          ]
                        ],
                        "type": "histogram2dcontour"
                      }
                    ],
                    "mesh3d": [
                      {
                        "colorbar": {
                          "outlinewidth": 0,
                          "ticks": ""
                        },
                        "type": "mesh3d"
                      }
                    ],
                    "parcoords": [
                      {
                        "line": {
                          "colorbar": {
                            "outlinewidth": 0,
                            "ticks": ""
                          }
                        },
                        "type": "parcoords"
                      }
                    ],
                    "pie": [
                      {
                        "automargin": true,
                        "type": "pie"
                      }
                    ],
                    "scatter": [
                      {
                        "fillpattern": {
                          "fillmode": "overlay",
                          "size": 10,
                          "solidity": 0.2
                        },
                        "type": "scatter"
                      }
                    ],
                    "scatter3d": [
                      {
                        "line": {
                          "colorbar": {
                            "outlinewidth": 0,
                            "ticks": ""
                          }
                        },
                        "marker": {
                          "colorbar": {
                            "outlinewidth": 0,
                            "ticks": ""
                          }
                        },
                        "type": "scatter3d"
                      }
                    ],
                    "scattercarpet": [
                      {
                        "marker": {
                          "colorbar": {
                            "outlinewidth": 0,
                            "ticks": ""
                          }
                        },
                        "type": "scattercarpet"
                      }
                    ],
                    "scattergeo": [
                      {
                        "marker": {
                          "colorbar": {
                            "outlinewidth": 0,
                            "ticks": ""
                          }
                        },
                        "type": "scattergeo"
                      }
                    ],
                    "scattergl": [
                      {
                        "marker": {
                          "colorbar": {
                            "outlinewidth": 0,
                            "ticks": ""
                          }
                        },
                        "type": "scattergl"
                      }
                    ],
                    "scattermapbox": [
                      {
                        "marker": {
                          "colorbar": {
                            "outlinewidth": 0,
                            "ticks": ""
                          }
                        },
                        "type": "scattermapbox"
                      }
                    ],
                    "scatterpolar": [
                      {
                        "marker": {
                          "colorbar": {
                            "outlinewidth": 0,
                            "ticks": ""
                          }
                        },
                        "type": "scatterpolar"
                      }
                    ],
                    "scatterpolargl": [
                      {
                        "marker": {
                          "colorbar": {
                            "outlinewidth": 0,
                            "ticks": ""
                          }
                        },
                        "type": "scatterpolargl"
                      }
                    ],
                    "scatterternary": [
                      {
                        "marker": {
                          "colorbar": {
                            "outlinewidth": 0,
                            "ticks": ""
                          }
                        },
                        "type": "scatterternary"
                      }
                    ],
                    "surface": [
                      {
                        "colorbar": {
                          "outlinewidth": 0,
                          "ticks": ""
                        },
                        "colorscale": [
                          [
                            0,
                            "#0d0887"
                          ],
                          [
                            0.1111111111111111,
                            "#46039f"
                          ],
                          [
                            0.2222222222222222,
                            "#7201a8"
                          ],
                          [
                            0.3333333333333333,
                            "#9c179e"
                          ],
                          [
                            0.4444444444444444,
                            "#bd3786"
                          ],
                          [
                            0.5555555555555556,
                            "#d8576b"
                          ],
                          [
                            0.6666666666666666,
                            "#ed7953"
                          ],
                          [
                            0.7777777777777778,
                            "#fb9f3a"
                          ],
                          [
                            0.8888888888888888,
                            "#fdca26"
                          ],
                          [
                            1,
                            "#f0f921"
                          ]
                        ],
                        "type": "surface"
                      }
                    ],
                    "table": [
                      {
                        "cells": {
                          "fill": {
                            "color": "#EBF0F8"
                          },
                          "line": {
                            "color": "white"
                          }
                        },
                        "header": {
                          "fill": {
                            "color": "#C8D4E3"
                          },
                          "line": {
                            "color": "white"
                          }
                        },
                        "type": "table"
                      }
                    ]
                  },
                  "layout": {
                    "annotationdefaults": {
                      "arrowcolor": "#2a3f5f",
                      "arrowhead": 0,
                      "arrowwidth": 1
                    },
                    "autotypenumbers": "strict",
                    "coloraxis": {
                      "colorbar": {
                        "outlinewidth": 0,
                        "ticks": ""
                      }
                    },
                    "colorscale": {
                      "diverging": [
                        [
                          0,
                          "#8e0152"
                        ],
                        [
                          0.1,
                          "#c51b7d"
                        ],
                        [
                          0.2,
                          "#de77ae"
                        ],
                        [
                          0.3,
                          "#f1b6da"
                        ],
                        [
                          0.4,
                          "#fde0ef"
                        ],
                        [
                          0.5,
                          "#f7f7f7"
                        ],
                        [
                          0.6,
                          "#e6f5d0"
                        ],
                        [
                          0.7,
                          "#b8e186"
                        ],
                        [
                          0.8,
                          "#7fbc41"
                        ],
                        [
                          0.9,
                          "#4d9221"
                        ],
                        [
                          1,
                          "#276419"
                        ]
                      ],
                      "sequential": [
                        [
                          0,
                          "#0d0887"
                        ],
                        [
                          0.1111111111111111,
                          "#46039f"
                        ],
                        [
                          0.2222222222222222,
                          "#7201a8"
                        ],
                        [
                          0.3333333333333333,
                          "#9c179e"
                        ],
                        [
                          0.4444444444444444,
                          "#bd3786"
                        ],
                        [
                          0.5555555555555556,
                          "#d8576b"
                        ],
                        [
                          0.6666666666666666,
                          "#ed7953"
                        ],
                        [
                          0.7777777777777778,
                          "#fb9f3a"
                        ],
                        [
                          0.8888888888888888,
                          "#fdca26"
                        ],
                        [
                          1,
                          "#f0f921"
                        ]
                      ],
                      "sequentialminus": [
                        [
                          0,
                          "#0d0887"
                        ],
                        [
                          0.1111111111111111,
                          "#46039f"
                        ],
                        [
                          0.2222222222222222,
                          "#7201a8"
                        ],
                        [
                          0.3333333333333333,
                          "#9c179e"
                        ],
                        [
                          0.4444444444444444,
                          "#bd3786"
                        ],
                        [
                          0.5555555555555556,
                          "#d8576b"
                        ],
                        [
                          0.6666666666666666,
                          "#ed7953"
                        ],
                        [
                          0.7777777777777778,
                          "#fb9f3a"
                        ],
                        [
                          0.8888888888888888,
                          "#fdca26"
                        ],
                        [
                          1,
                          "#f0f921"
                        ]
                      ]
                    },
                    "colorway": [
                      "#636efa",
                      "#EF553B",
                      "#00cc96",
                      "#ab63fa",
                      "#FFA15A",
                      "#19d3f3",
                      "#FF6692",
                      "#B6E880",
                      "#FF97FF",
                      "#FECB52"
                    ],
                    "font": {
                      "color": "#2a3f5f"
                    },
                    "geo": {
                      "bgcolor": "white",
                      "lakecolor": "white",
                      "landcolor": "#E5ECF6",
                      "showlakes": true,
                      "showland": true,
                      "subunitcolor": "white"
                    },
                    "hoverlabel": {
                      "align": "left"
                    },
                    "hovermode": "closest",
                    "mapbox": {
                      "style": "light"
                    },
                    "paper_bgcolor": "white",
                    "plot_bgcolor": "#E5ECF6",
                    "polar": {
                      "angularaxis": {
                        "gridcolor": "white",
                        "linecolor": "white",
                        "ticks": ""
                      },
                      "bgcolor": "#E5ECF6",
                      "radialaxis": {
                        "gridcolor": "white",
                        "linecolor": "white",
                        "ticks": ""
                      }
                    },
                    "scene": {
                      "xaxis": {
                        "backgroundcolor": "#E5ECF6",
                        "gridcolor": "white",
                        "gridwidth": 2,
                        "linecolor": "white",
                        "showbackground": true,
                        "ticks": "",
                        "zerolinecolor": "white"
                      },
                      "yaxis": {
                        "backgroundcolor": "#E5ECF6",
                        "gridcolor": "white",
                        "gridwidth": 2,
                        "linecolor": "white",
                        "showbackground": true,
                        "ticks": "",
                        "zerolinecolor": "white"
                      },
                      "zaxis": {
                        "backgroundcolor": "#E5ECF6",
                        "gridcolor": "white",
                        "gridwidth": 2,
                        "linecolor": "white",
                        "showbackground": true,
                        "ticks": "",
                        "zerolinecolor": "white"
                      }
                    },
                    "shapedefaults": {
                      "line": {
                        "color": "#2a3f5f"
                      }
                    },
                    "ternary": {
                      "aaxis": {
                        "gridcolor": "white",
                        "linecolor": "white",
                        "ticks": ""
                      },
                      "baxis": {
                        "gridcolor": "white",
                        "linecolor": "white",
                        "ticks": ""
                      },
                      "bgcolor": "#E5ECF6",
                      "caxis": {
                        "gridcolor": "white",
                        "linecolor": "white",
                        "ticks": ""
                      }
                    },
                    "title": {
                      "x": 0.05
                    },
                    "xaxis": {
                      "automargin": true,
                      "gridcolor": "white",
                      "linecolor": "white",
                      "ticks": "",
                      "title": {
                        "standoff": 15
                      },
                      "zerolinecolor": "white",
                      "zerolinewidth": 2
                    },
                    "yaxis": {
                      "automargin": true,
                      "gridcolor": "white",
                      "linecolor": "white",
                      "ticks": "",
                      "title": {
                        "standoff": 15
                      },
                      "zerolinecolor": "white",
                      "zerolinewidth": 2
                    }
                  }
                },
                "title": {
                  "text": "Optimization History Plot"
                },
                "xaxis": {
                  "title": {
                    "text": "Trial"
                  }
                },
                "yaxis": {
                  "title": {
                    "text": "Objective Value"
                  }
                }
              }
            }
          },
          "metadata": {},
          "output_type": "display_data"
        }
      ],
      "source": [
        "optuna.visualization.plot_optimization_history(study)"
      ]
    },
    {
      "cell_type": "code",
      "execution_count": 14,
      "metadata": {},
      "outputs": [
        {
          "data": {
            "application/vnd.plotly.v1+json": {
              "config": {
                "plotlyServerURL": "https://plot.ly"
              },
              "data": [
                {
                  "marker": {
                    "color": [
                      0,
                      1,
                      2,
                      3,
                      4,
                      5,
                      6,
                      7,
                      8,
                      9,
                      10,
                      11,
                      12,
                      13,
                      14,
                      15,
                      16,
                      17,
                      18,
                      19,
                      20,
                      21,
                      22,
                      23,
                      24,
                      25,
                      26,
                      27,
                      28,
                      29,
                      30,
                      31,
                      32,
                      33,
                      34,
                      35,
                      36,
                      37,
                      38,
                      39,
                      40,
                      41,
                      42,
                      43,
                      44,
                      45,
                      46,
                      47,
                      48,
                      49,
                      50,
                      51,
                      52,
                      53,
                      54,
                      55,
                      56,
                      57,
                      58,
                      59,
                      60,
                      61,
                      62,
                      63,
                      64,
                      65,
                      66,
                      67,
                      68,
                      69,
                      70,
                      71,
                      72,
                      73,
                      74,
                      75,
                      76,
                      77,
                      78,
                      79,
                      80,
                      81,
                      82,
                      83,
                      84,
                      85,
                      86,
                      87,
                      88,
                      89,
                      90,
                      91,
                      92,
                      93,
                      94,
                      95,
                      96,
                      97,
                      98,
                      99
                    ],
                    "colorbar": {
                      "title": {
                        "text": "Trial"
                      },
                      "x": 1,
                      "xpad": 40
                    },
                    "colorscale": [
                      [
                        0,
                        "rgb(247,251,255)"
                      ],
                      [
                        0.125,
                        "rgb(222,235,247)"
                      ],
                      [
                        0.25,
                        "rgb(198,219,239)"
                      ],
                      [
                        0.375,
                        "rgb(158,202,225)"
                      ],
                      [
                        0.5,
                        "rgb(107,174,214)"
                      ],
                      [
                        0.625,
                        "rgb(66,146,198)"
                      ],
                      [
                        0.75,
                        "rgb(33,113,181)"
                      ],
                      [
                        0.875,
                        "rgb(8,81,156)"
                      ],
                      [
                        1,
                        "rgb(8,48,107)"
                      ]
                    ],
                    "line": {
                      "color": "Grey",
                      "width": 0.5
                    },
                    "showscale": true
                  },
                  "mode": "markers",
                  "name": "Feasible Trial",
                  "showlegend": false,
                  "type": "scatter",
                  "x": [
                    10,
                    15,
                    6,
                    14,
                    13,
                    10,
                    11,
                    5,
                    14,
                    15,
                    12,
                    12,
                    12,
                    8,
                    9,
                    12,
                    12,
                    8,
                    11,
                    13,
                    11,
                    12,
                    13,
                    13,
                    14,
                    14,
                    15,
                    14,
                    13,
                    10,
                    14,
                    14,
                    15,
                    15,
                    15,
                    15,
                    15,
                    15,
                    13,
                    14,
                    14,
                    13,
                    15,
                    11,
                    11,
                    11,
                    9,
                    10,
                    9,
                    7,
                    9,
                    11,
                    10,
                    8,
                    9,
                    5,
                    10,
                    7,
                    10,
                    8,
                    11,
                    12,
                    10,
                    12,
                    11,
                    9,
                    11,
                    11,
                    11,
                    11,
                    12,
                    11,
                    11,
                    10,
                    10,
                    11,
                    12,
                    11,
                    12,
                    13,
                    10,
                    9,
                    9,
                    10,
                    11,
                    10,
                    8,
                    11,
                    15,
                    9,
                    10,
                    12,
                    11,
                    12,
                    11,
                    14,
                    15,
                    15,
                    15,
                    15
                  ],
                  "xaxis": "x",
                  "y": [
                    544348000,
                    544614000,
                    544754000,
                    543655000,
                    545027000,
                    545811000,
                    544439000,
                    543907000,
                    546119000,
                    543676000,
                    546378000,
                    546399000,
                    546266000,
                    546063000,
                    545328000,
                    544726000,
                    546287000,
                    545832000,
                    543256000,
                    545734000,
                    545797000,
                    546889000,
                    546791000,
                    545937000,
                    546882000,
                    546658000,
                    546399000,
                    546140000,
                    545860000,
                    545538000,
                    546420000,
                    546623000,
                    547267000,
                    547309000,
                    546350000,
                    546427000,
                    543039000,
                    546420000,
                    544516000,
                    546224000,
                    544915000,
                    546364000,
                    546630000,
                    547253000,
                    547785000,
                    546238000,
                    543711000,
                    546245000,
                    547169000,
                    545699000,
                    546259000,
                    546063000,
                    547925000,
                    546007000,
                    546588000,
                    543830000,
                    546287000,
                    544803000,
                    545846000,
                    543130000,
                    545622000,
                    546462000,
                    546812000,
                    545797000,
                    547211000,
                    546644000,
                    547848000,
                    546875000,
                    547876000,
                    546847000,
                    546868000,
                    546756000,
                    546651000,
                    546119000,
                    546343000,
                    545328000,
                    545685000,
                    545825000,
                    546021000,
                    546700000,
                    546273000,
                    546084000,
                    546182000,
                    545972000,
                    546560000,
                    546497000,
                    545160000,
                    545937000,
                    545643000,
                    546000000,
                    546413000,
                    546336000,
                    546742000,
                    546147000,
                    546168000,
                    546063000,
                    547442000,
                    547736000,
                    547176000,
                    546735000
                  ],
                  "yaxis": "y"
                },
                {
                  "marker": {
                    "color": [
                      0,
                      1,
                      2,
                      3,
                      4,
                      5,
                      6,
                      7,
                      8,
                      9,
                      10,
                      11,
                      12,
                      13,
                      14,
                      15,
                      16,
                      17,
                      18,
                      19,
                      20,
                      21,
                      22,
                      23,
                      24,
                      25,
                      26,
                      27,
                      28,
                      29,
                      30,
                      31,
                      32,
                      33,
                      34,
                      35,
                      36,
                      37,
                      38,
                      39,
                      40,
                      41,
                      42,
                      43,
                      44,
                      45,
                      46,
                      47,
                      48,
                      49,
                      50,
                      51,
                      52,
                      53,
                      54,
                      55,
                      56,
                      57,
                      58,
                      59,
                      60,
                      61,
                      62,
                      63,
                      64,
                      65,
                      66,
                      67,
                      68,
                      69,
                      70,
                      71,
                      72,
                      73,
                      74,
                      75,
                      76,
                      77,
                      78,
                      79,
                      80,
                      81,
                      82,
                      83,
                      84,
                      85,
                      86,
                      87,
                      88,
                      89,
                      90,
                      91,
                      92,
                      93,
                      94,
                      95,
                      96,
                      97,
                      98,
                      99
                    ],
                    "colorbar": {
                      "title": {
                        "text": "Trial"
                      },
                      "x": 1,
                      "xpad": 40
                    },
                    "colorscale": [
                      [
                        0,
                        "rgb(247,251,255)"
                      ],
                      [
                        0.125,
                        "rgb(222,235,247)"
                      ],
                      [
                        0.25,
                        "rgb(198,219,239)"
                      ],
                      [
                        0.375,
                        "rgb(158,202,225)"
                      ],
                      [
                        0.5,
                        "rgb(107,174,214)"
                      ],
                      [
                        0.625,
                        "rgb(66,146,198)"
                      ],
                      [
                        0.75,
                        "rgb(33,113,181)"
                      ],
                      [
                        0.875,
                        "rgb(8,81,156)"
                      ],
                      [
                        1,
                        "rgb(8,48,107)"
                      ]
                    ],
                    "line": {
                      "color": "Grey",
                      "width": 0.5
                    },
                    "showscale": false
                  },
                  "mode": "markers",
                  "name": "Feasible Trial",
                  "showlegend": false,
                  "type": "scatter",
                  "x": [
                    119,
                    110,
                    95,
                    180,
                    68,
                    34,
                    127,
                    114,
                    28,
                    143,
                    2,
                    2,
                    3,
                    4,
                    51,
                    78,
                    21,
                    49,
                    168,
                    52,
                    83,
                    19,
                    1,
                    26,
                    15,
                    40,
                    18,
                    63,
                    15,
                    44,
                    66,
                    41,
                    14,
                    14,
                    18,
                    32,
                    199,
                    13,
                    92,
                    34,
                    59,
                    9,
                    23,
                    11,
                    28,
                    34,
                    127,
                    10,
                    29,
                    30,
                    75,
                    25,
                    10,
                    8,
                    38,
                    106,
                    53,
                    1,
                    24,
                    156,
                    46,
                    10,
                    19,
                    28,
                    6,
                    8,
                    13,
                    6,
                    14,
                    17,
                    14,
                    2,
                    22,
                    14,
                    39,
                    7,
                    1,
                    21,
                    15,
                    36,
                    27,
                    31,
                    11,
                    6,
                    21,
                    30,
                    13,
                    44,
                    23,
                    5,
                    18,
                    25,
                    13,
                    18,
                    28,
                    34,
                    10,
                    5,
                    4,
                    9
                  ],
                  "xaxis": "x2",
                  "y": [
                    544348000,
                    544614000,
                    544754000,
                    543655000,
                    545027000,
                    545811000,
                    544439000,
                    543907000,
                    546119000,
                    543676000,
                    546378000,
                    546399000,
                    546266000,
                    546063000,
                    545328000,
                    544726000,
                    546287000,
                    545832000,
                    543256000,
                    545734000,
                    545797000,
                    546889000,
                    546791000,
                    545937000,
                    546882000,
                    546658000,
                    546399000,
                    546140000,
                    545860000,
                    545538000,
                    546420000,
                    546623000,
                    547267000,
                    547309000,
                    546350000,
                    546427000,
                    543039000,
                    546420000,
                    544516000,
                    546224000,
                    544915000,
                    546364000,
                    546630000,
                    547253000,
                    547785000,
                    546238000,
                    543711000,
                    546245000,
                    547169000,
                    545699000,
                    546259000,
                    546063000,
                    547925000,
                    546007000,
                    546588000,
                    543830000,
                    546287000,
                    544803000,
                    545846000,
                    543130000,
                    545622000,
                    546462000,
                    546812000,
                    545797000,
                    547211000,
                    546644000,
                    547848000,
                    546875000,
                    547876000,
                    546847000,
                    546868000,
                    546756000,
                    546651000,
                    546119000,
                    546343000,
                    545328000,
                    545685000,
                    545825000,
                    546021000,
                    546700000,
                    546273000,
                    546084000,
                    546182000,
                    545972000,
                    546560000,
                    546497000,
                    545160000,
                    545937000,
                    545643000,
                    546000000,
                    546413000,
                    546336000,
                    546742000,
                    546147000,
                    546168000,
                    546063000,
                    547442000,
                    547736000,
                    547176000,
                    546735000
                  ],
                  "yaxis": "y2"
                },
                {
                  "marker": {
                    "color": [
                      0,
                      1,
                      2,
                      3,
                      4,
                      5,
                      6,
                      7,
                      8,
                      9,
                      10,
                      11,
                      12,
                      13,
                      14,
                      15,
                      16,
                      17,
                      18,
                      19,
                      20,
                      21,
                      22,
                      23,
                      24,
                      25,
                      26,
                      27,
                      28,
                      29,
                      30,
                      31,
                      32,
                      33,
                      34,
                      35,
                      36,
                      37,
                      38,
                      39,
                      40,
                      41,
                      42,
                      43,
                      44,
                      45,
                      46,
                      47,
                      48,
                      49,
                      50,
                      51,
                      52,
                      53,
                      54,
                      55,
                      56,
                      57,
                      58,
                      59,
                      60,
                      61,
                      62,
                      63,
                      64,
                      65,
                      66,
                      67,
                      68,
                      69,
                      70,
                      71,
                      72,
                      73,
                      74,
                      75,
                      76,
                      77,
                      78,
                      79,
                      80,
                      81,
                      82,
                      83,
                      84,
                      85,
                      86,
                      87,
                      88,
                      89,
                      90,
                      91,
                      92,
                      93,
                      94,
                      95,
                      96,
                      97,
                      98,
                      99
                    ],
                    "colorbar": {
                      "title": {
                        "text": "Trial"
                      },
                      "x": 1,
                      "xpad": 40
                    },
                    "colorscale": [
                      [
                        0,
                        "rgb(247,251,255)"
                      ],
                      [
                        0.125,
                        "rgb(222,235,247)"
                      ],
                      [
                        0.25,
                        "rgb(198,219,239)"
                      ],
                      [
                        0.375,
                        "rgb(158,202,225)"
                      ],
                      [
                        0.5,
                        "rgb(107,174,214)"
                      ],
                      [
                        0.625,
                        "rgb(66,146,198)"
                      ],
                      [
                        0.75,
                        "rgb(33,113,181)"
                      ],
                      [
                        0.875,
                        "rgb(8,81,156)"
                      ],
                      [
                        1,
                        "rgb(8,48,107)"
                      ]
                    ],
                    "line": {
                      "color": "Grey",
                      "width": 0.5
                    },
                    "showscale": false
                  },
                  "mode": "markers",
                  "name": "Feasible Trial",
                  "showlegend": false,
                  "type": "scatter",
                  "x": [
                    210,
                    63,
                    171,
                    54,
                    278,
                    190,
                    219,
                    265,
                    93,
                    156,
                    111,
                    111,
                    107,
                    118,
                    129,
                    138,
                    85,
                    79,
                    148,
                    239,
                    109,
                    85,
                    78,
                    50,
                    79,
                    73,
                    92,
                    71,
                    168,
                    193,
                    95,
                    69,
                    66,
                    50,
                    58,
                    52,
                    63,
                    129,
                    99,
                    62,
                    86,
                    75,
                    81,
                    68,
                    52,
                    52,
                    298,
                    64,
                    99,
                    119,
                    95,
                    64,
                    51,
                    50,
                    59,
                    103,
                    67,
                    236,
                    90,
                    58,
                    74,
                    84,
                    70,
                    116,
                    86,
                    57,
                    103,
                    78,
                    50,
                    52,
                    68,
                    60,
                    50,
                    73,
                    87,
                    201,
                    174,
                    146,
                    57,
                    66,
                    80,
                    101,
                    128,
                    105,
                    89,
                    74,
                    63,
                    165,
                    56,
                    98,
                    183,
                    110,
                    94,
                    82,
                    69,
                    62,
                    76,
                    54,
                    54,
                    77
                  ],
                  "xaxis": "x3",
                  "y": [
                    544348000,
                    544614000,
                    544754000,
                    543655000,
                    545027000,
                    545811000,
                    544439000,
                    543907000,
                    546119000,
                    543676000,
                    546378000,
                    546399000,
                    546266000,
                    546063000,
                    545328000,
                    544726000,
                    546287000,
                    545832000,
                    543256000,
                    545734000,
                    545797000,
                    546889000,
                    546791000,
                    545937000,
                    546882000,
                    546658000,
                    546399000,
                    546140000,
                    545860000,
                    545538000,
                    546420000,
                    546623000,
                    547267000,
                    547309000,
                    546350000,
                    546427000,
                    543039000,
                    546420000,
                    544516000,
                    546224000,
                    544915000,
                    546364000,
                    546630000,
                    547253000,
                    547785000,
                    546238000,
                    543711000,
                    546245000,
                    547169000,
                    545699000,
                    546259000,
                    546063000,
                    547925000,
                    546007000,
                    546588000,
                    543830000,
                    546287000,
                    544803000,
                    545846000,
                    543130000,
                    545622000,
                    546462000,
                    546812000,
                    545797000,
                    547211000,
                    546644000,
                    547848000,
                    546875000,
                    547876000,
                    546847000,
                    546868000,
                    546756000,
                    546651000,
                    546119000,
                    546343000,
                    545328000,
                    545685000,
                    545825000,
                    546021000,
                    546700000,
                    546273000,
                    546084000,
                    546182000,
                    545972000,
                    546560000,
                    546497000,
                    545160000,
                    545937000,
                    545643000,
                    546000000,
                    546413000,
                    546336000,
                    546742000,
                    546147000,
                    546168000,
                    546063000,
                    547442000,
                    547736000,
                    547176000,
                    546735000
                  ],
                  "yaxis": "y3"
                },
                {
                  "marker": {
                    "color": [
                      0,
                      1,
                      2,
                      3,
                      4,
                      5,
                      6,
                      7,
                      8,
                      9,
                      10,
                      11,
                      12,
                      13,
                      14,
                      15,
                      16,
                      17,
                      18,
                      19,
                      20,
                      21,
                      22,
                      23,
                      24,
                      25,
                      26,
                      27,
                      28,
                      29,
                      30,
                      31,
                      32,
                      33,
                      34,
                      35,
                      36,
                      37,
                      38,
                      39,
                      40,
                      41,
                      42,
                      43,
                      44,
                      45,
                      46,
                      47,
                      48,
                      49,
                      50,
                      51,
                      52,
                      53,
                      54,
                      55,
                      56,
                      57,
                      58,
                      59,
                      60,
                      61,
                      62,
                      63,
                      64,
                      65,
                      66,
                      67,
                      68,
                      69,
                      70,
                      71,
                      72,
                      73,
                      74,
                      75,
                      76,
                      77,
                      78,
                      79,
                      80,
                      81,
                      82,
                      83,
                      84,
                      85,
                      86,
                      87,
                      88,
                      89,
                      90,
                      91,
                      92,
                      93,
                      94,
                      95,
                      96,
                      97,
                      98,
                      99
                    ],
                    "colorbar": {
                      "title": {
                        "text": "Trial"
                      },
                      "x": 1,
                      "xpad": 40
                    },
                    "colorscale": [
                      [
                        0,
                        "rgb(247,251,255)"
                      ],
                      [
                        0.125,
                        "rgb(222,235,247)"
                      ],
                      [
                        0.25,
                        "rgb(198,219,239)"
                      ],
                      [
                        0.375,
                        "rgb(158,202,225)"
                      ],
                      [
                        0.5,
                        "rgb(107,174,214)"
                      ],
                      [
                        0.625,
                        "rgb(66,146,198)"
                      ],
                      [
                        0.75,
                        "rgb(33,113,181)"
                      ],
                      [
                        0.875,
                        "rgb(8,81,156)"
                      ],
                      [
                        1,
                        "rgb(8,48,107)"
                      ]
                    ],
                    "line": {
                      "color": "Grey",
                      "width": 0.5
                    },
                    "showscale": false
                  },
                  "mode": "markers",
                  "name": "Feasible Trial",
                  "showlegend": false,
                  "type": "scatter",
                  "x": [
                    235,
                    152,
                    238,
                    176,
                    184,
                    188,
                    106,
                    179,
                    344,
                    484,
                    404,
                    387,
                    390,
                    435,
                    325,
                    375,
                    462,
                    415,
                    268,
                    302,
                    356,
                    494,
                    498,
                    480,
                    442,
                    499,
                    441,
                    449,
                    498,
                    420,
                    468,
                    500,
                    468,
                    454,
                    449,
                    427,
                    463,
                    224,
                    409,
                    472,
                    444,
                    476,
                    485,
                    103,
                    208,
                    125,
                    157,
                    220,
                    260,
                    260,
                    202,
                    100,
                    262,
                    259,
                    281,
                    312,
                    247,
                    129,
                    193,
                    288,
                    337,
                    151,
                    168,
                    239,
                    275,
                    278,
                    222,
                    225,
                    210,
                    210,
                    181,
                    243,
                    207,
                    298,
                    317,
                    380,
                    194,
                    234,
                    251,
                    271,
                    358,
                    263,
                    294,
                    218,
                    229,
                    253,
                    272,
                    458,
                    114,
                    143,
                    308,
                    491,
                    399,
                    172,
                    327,
                    288,
                    483,
                    430,
                    434,
                    458
                  ],
                  "xaxis": "x4",
                  "y": [
                    544348000,
                    544614000,
                    544754000,
                    543655000,
                    545027000,
                    545811000,
                    544439000,
                    543907000,
                    546119000,
                    543676000,
                    546378000,
                    546399000,
                    546266000,
                    546063000,
                    545328000,
                    544726000,
                    546287000,
                    545832000,
                    543256000,
                    545734000,
                    545797000,
                    546889000,
                    546791000,
                    545937000,
                    546882000,
                    546658000,
                    546399000,
                    546140000,
                    545860000,
                    545538000,
                    546420000,
                    546623000,
                    547267000,
                    547309000,
                    546350000,
                    546427000,
                    543039000,
                    546420000,
                    544516000,
                    546224000,
                    544915000,
                    546364000,
                    546630000,
                    547253000,
                    547785000,
                    546238000,
                    543711000,
                    546245000,
                    547169000,
                    545699000,
                    546259000,
                    546063000,
                    547925000,
                    546007000,
                    546588000,
                    543830000,
                    546287000,
                    544803000,
                    545846000,
                    543130000,
                    545622000,
                    546462000,
                    546812000,
                    545797000,
                    547211000,
                    546644000,
                    547848000,
                    546875000,
                    547876000,
                    546847000,
                    546868000,
                    546756000,
                    546651000,
                    546119000,
                    546343000,
                    545328000,
                    545685000,
                    545825000,
                    546021000,
                    546700000,
                    546273000,
                    546084000,
                    546182000,
                    545972000,
                    546560000,
                    546497000,
                    545160000,
                    545937000,
                    545643000,
                    546000000,
                    546413000,
                    546336000,
                    546742000,
                    546147000,
                    546168000,
                    546063000,
                    547442000,
                    547736000,
                    547176000,
                    546735000
                  ],
                  "yaxis": "y4"
                }
              ],
              "layout": {
                "template": {
                  "data": {
                    "bar": [
                      {
                        "error_x": {
                          "color": "#2a3f5f"
                        },
                        "error_y": {
                          "color": "#2a3f5f"
                        },
                        "marker": {
                          "line": {
                            "color": "#E5ECF6",
                            "width": 0.5
                          },
                          "pattern": {
                            "fillmode": "overlay",
                            "size": 10,
                            "solidity": 0.2
                          }
                        },
                        "type": "bar"
                      }
                    ],
                    "barpolar": [
                      {
                        "marker": {
                          "line": {
                            "color": "#E5ECF6",
                            "width": 0.5
                          },
                          "pattern": {
                            "fillmode": "overlay",
                            "size": 10,
                            "solidity": 0.2
                          }
                        },
                        "type": "barpolar"
                      }
                    ],
                    "carpet": [
                      {
                        "aaxis": {
                          "endlinecolor": "#2a3f5f",
                          "gridcolor": "white",
                          "linecolor": "white",
                          "minorgridcolor": "white",
                          "startlinecolor": "#2a3f5f"
                        },
                        "baxis": {
                          "endlinecolor": "#2a3f5f",
                          "gridcolor": "white",
                          "linecolor": "white",
                          "minorgridcolor": "white",
                          "startlinecolor": "#2a3f5f"
                        },
                        "type": "carpet"
                      }
                    ],
                    "choropleth": [
                      {
                        "colorbar": {
                          "outlinewidth": 0,
                          "ticks": ""
                        },
                        "type": "choropleth"
                      }
                    ],
                    "contour": [
                      {
                        "colorbar": {
                          "outlinewidth": 0,
                          "ticks": ""
                        },
                        "colorscale": [
                          [
                            0,
                            "#0d0887"
                          ],
                          [
                            0.1111111111111111,
                            "#46039f"
                          ],
                          [
                            0.2222222222222222,
                            "#7201a8"
                          ],
                          [
                            0.3333333333333333,
                            "#9c179e"
                          ],
                          [
                            0.4444444444444444,
                            "#bd3786"
                          ],
                          [
                            0.5555555555555556,
                            "#d8576b"
                          ],
                          [
                            0.6666666666666666,
                            "#ed7953"
                          ],
                          [
                            0.7777777777777778,
                            "#fb9f3a"
                          ],
                          [
                            0.8888888888888888,
                            "#fdca26"
                          ],
                          [
                            1,
                            "#f0f921"
                          ]
                        ],
                        "type": "contour"
                      }
                    ],
                    "contourcarpet": [
                      {
                        "colorbar": {
                          "outlinewidth": 0,
                          "ticks": ""
                        },
                        "type": "contourcarpet"
                      }
                    ],
                    "heatmap": [
                      {
                        "colorbar": {
                          "outlinewidth": 0,
                          "ticks": ""
                        },
                        "colorscale": [
                          [
                            0,
                            "#0d0887"
                          ],
                          [
                            0.1111111111111111,
                            "#46039f"
                          ],
                          [
                            0.2222222222222222,
                            "#7201a8"
                          ],
                          [
                            0.3333333333333333,
                            "#9c179e"
                          ],
                          [
                            0.4444444444444444,
                            "#bd3786"
                          ],
                          [
                            0.5555555555555556,
                            "#d8576b"
                          ],
                          [
                            0.6666666666666666,
                            "#ed7953"
                          ],
                          [
                            0.7777777777777778,
                            "#fb9f3a"
                          ],
                          [
                            0.8888888888888888,
                            "#fdca26"
                          ],
                          [
                            1,
                            "#f0f921"
                          ]
                        ],
                        "type": "heatmap"
                      }
                    ],
                    "heatmapgl": [
                      {
                        "colorbar": {
                          "outlinewidth": 0,
                          "ticks": ""
                        },
                        "colorscale": [
                          [
                            0,
                            "#0d0887"
                          ],
                          [
                            0.1111111111111111,
                            "#46039f"
                          ],
                          [
                            0.2222222222222222,
                            "#7201a8"
                          ],
                          [
                            0.3333333333333333,
                            "#9c179e"
                          ],
                          [
                            0.4444444444444444,
                            "#bd3786"
                          ],
                          [
                            0.5555555555555556,
                            "#d8576b"
                          ],
                          [
                            0.6666666666666666,
                            "#ed7953"
                          ],
                          [
                            0.7777777777777778,
                            "#fb9f3a"
                          ],
                          [
                            0.8888888888888888,
                            "#fdca26"
                          ],
                          [
                            1,
                            "#f0f921"
                          ]
                        ],
                        "type": "heatmapgl"
                      }
                    ],
                    "histogram": [
                      {
                        "marker": {
                          "pattern": {
                            "fillmode": "overlay",
                            "size": 10,
                            "solidity": 0.2
                          }
                        },
                        "type": "histogram"
                      }
                    ],
                    "histogram2d": [
                      {
                        "colorbar": {
                          "outlinewidth": 0,
                          "ticks": ""
                        },
                        "colorscale": [
                          [
                            0,
                            "#0d0887"
                          ],
                          [
                            0.1111111111111111,
                            "#46039f"
                          ],
                          [
                            0.2222222222222222,
                            "#7201a8"
                          ],
                          [
                            0.3333333333333333,
                            "#9c179e"
                          ],
                          [
                            0.4444444444444444,
                            "#bd3786"
                          ],
                          [
                            0.5555555555555556,
                            "#d8576b"
                          ],
                          [
                            0.6666666666666666,
                            "#ed7953"
                          ],
                          [
                            0.7777777777777778,
                            "#fb9f3a"
                          ],
                          [
                            0.8888888888888888,
                            "#fdca26"
                          ],
                          [
                            1,
                            "#f0f921"
                          ]
                        ],
                        "type": "histogram2d"
                      }
                    ],
                    "histogram2dcontour": [
                      {
                        "colorbar": {
                          "outlinewidth": 0,
                          "ticks": ""
                        },
                        "colorscale": [
                          [
                            0,
                            "#0d0887"
                          ],
                          [
                            0.1111111111111111,
                            "#46039f"
                          ],
                          [
                            0.2222222222222222,
                            "#7201a8"
                          ],
                          [
                            0.3333333333333333,
                            "#9c179e"
                          ],
                          [
                            0.4444444444444444,
                            "#bd3786"
                          ],
                          [
                            0.5555555555555556,
                            "#d8576b"
                          ],
                          [
                            0.6666666666666666,
                            "#ed7953"
                          ],
                          [
                            0.7777777777777778,
                            "#fb9f3a"
                          ],
                          [
                            0.8888888888888888,
                            "#fdca26"
                          ],
                          [
                            1,
                            "#f0f921"
                          ]
                        ],
                        "type": "histogram2dcontour"
                      }
                    ],
                    "mesh3d": [
                      {
                        "colorbar": {
                          "outlinewidth": 0,
                          "ticks": ""
                        },
                        "type": "mesh3d"
                      }
                    ],
                    "parcoords": [
                      {
                        "line": {
                          "colorbar": {
                            "outlinewidth": 0,
                            "ticks": ""
                          }
                        },
                        "type": "parcoords"
                      }
                    ],
                    "pie": [
                      {
                        "automargin": true,
                        "type": "pie"
                      }
                    ],
                    "scatter": [
                      {
                        "fillpattern": {
                          "fillmode": "overlay",
                          "size": 10,
                          "solidity": 0.2
                        },
                        "type": "scatter"
                      }
                    ],
                    "scatter3d": [
                      {
                        "line": {
                          "colorbar": {
                            "outlinewidth": 0,
                            "ticks": ""
                          }
                        },
                        "marker": {
                          "colorbar": {
                            "outlinewidth": 0,
                            "ticks": ""
                          }
                        },
                        "type": "scatter3d"
                      }
                    ],
                    "scattercarpet": [
                      {
                        "marker": {
                          "colorbar": {
                            "outlinewidth": 0,
                            "ticks": ""
                          }
                        },
                        "type": "scattercarpet"
                      }
                    ],
                    "scattergeo": [
                      {
                        "marker": {
                          "colorbar": {
                            "outlinewidth": 0,
                            "ticks": ""
                          }
                        },
                        "type": "scattergeo"
                      }
                    ],
                    "scattergl": [
                      {
                        "marker": {
                          "colorbar": {
                            "outlinewidth": 0,
                            "ticks": ""
                          }
                        },
                        "type": "scattergl"
                      }
                    ],
                    "scattermapbox": [
                      {
                        "marker": {
                          "colorbar": {
                            "outlinewidth": 0,
                            "ticks": ""
                          }
                        },
                        "type": "scattermapbox"
                      }
                    ],
                    "scatterpolar": [
                      {
                        "marker": {
                          "colorbar": {
                            "outlinewidth": 0,
                            "ticks": ""
                          }
                        },
                        "type": "scatterpolar"
                      }
                    ],
                    "scatterpolargl": [
                      {
                        "marker": {
                          "colorbar": {
                            "outlinewidth": 0,
                            "ticks": ""
                          }
                        },
                        "type": "scatterpolargl"
                      }
                    ],
                    "scatterternary": [
                      {
                        "marker": {
                          "colorbar": {
                            "outlinewidth": 0,
                            "ticks": ""
                          }
                        },
                        "type": "scatterternary"
                      }
                    ],
                    "surface": [
                      {
                        "colorbar": {
                          "outlinewidth": 0,
                          "ticks": ""
                        },
                        "colorscale": [
                          [
                            0,
                            "#0d0887"
                          ],
                          [
                            0.1111111111111111,
                            "#46039f"
                          ],
                          [
                            0.2222222222222222,
                            "#7201a8"
                          ],
                          [
                            0.3333333333333333,
                            "#9c179e"
                          ],
                          [
                            0.4444444444444444,
                            "#bd3786"
                          ],
                          [
                            0.5555555555555556,
                            "#d8576b"
                          ],
                          [
                            0.6666666666666666,
                            "#ed7953"
                          ],
                          [
                            0.7777777777777778,
                            "#fb9f3a"
                          ],
                          [
                            0.8888888888888888,
                            "#fdca26"
                          ],
                          [
                            1,
                            "#f0f921"
                          ]
                        ],
                        "type": "surface"
                      }
                    ],
                    "table": [
                      {
                        "cells": {
                          "fill": {
                            "color": "#EBF0F8"
                          },
                          "line": {
                            "color": "white"
                          }
                        },
                        "header": {
                          "fill": {
                            "color": "#C8D4E3"
                          },
                          "line": {
                            "color": "white"
                          }
                        },
                        "type": "table"
                      }
                    ]
                  },
                  "layout": {
                    "annotationdefaults": {
                      "arrowcolor": "#2a3f5f",
                      "arrowhead": 0,
                      "arrowwidth": 1
                    },
                    "autotypenumbers": "strict",
                    "coloraxis": {
                      "colorbar": {
                        "outlinewidth": 0,
                        "ticks": ""
                      }
                    },
                    "colorscale": {
                      "diverging": [
                        [
                          0,
                          "#8e0152"
                        ],
                        [
                          0.1,
                          "#c51b7d"
                        ],
                        [
                          0.2,
                          "#de77ae"
                        ],
                        [
                          0.3,
                          "#f1b6da"
                        ],
                        [
                          0.4,
                          "#fde0ef"
                        ],
                        [
                          0.5,
                          "#f7f7f7"
                        ],
                        [
                          0.6,
                          "#e6f5d0"
                        ],
                        [
                          0.7,
                          "#b8e186"
                        ],
                        [
                          0.8,
                          "#7fbc41"
                        ],
                        [
                          0.9,
                          "#4d9221"
                        ],
                        [
                          1,
                          "#276419"
                        ]
                      ],
                      "sequential": [
                        [
                          0,
                          "#0d0887"
                        ],
                        [
                          0.1111111111111111,
                          "#46039f"
                        ],
                        [
                          0.2222222222222222,
                          "#7201a8"
                        ],
                        [
                          0.3333333333333333,
                          "#9c179e"
                        ],
                        [
                          0.4444444444444444,
                          "#bd3786"
                        ],
                        [
                          0.5555555555555556,
                          "#d8576b"
                        ],
                        [
                          0.6666666666666666,
                          "#ed7953"
                        ],
                        [
                          0.7777777777777778,
                          "#fb9f3a"
                        ],
                        [
                          0.8888888888888888,
                          "#fdca26"
                        ],
                        [
                          1,
                          "#f0f921"
                        ]
                      ],
                      "sequentialminus": [
                        [
                          0,
                          "#0d0887"
                        ],
                        [
                          0.1111111111111111,
                          "#46039f"
                        ],
                        [
                          0.2222222222222222,
                          "#7201a8"
                        ],
                        [
                          0.3333333333333333,
                          "#9c179e"
                        ],
                        [
                          0.4444444444444444,
                          "#bd3786"
                        ],
                        [
                          0.5555555555555556,
                          "#d8576b"
                        ],
                        [
                          0.6666666666666666,
                          "#ed7953"
                        ],
                        [
                          0.7777777777777778,
                          "#fb9f3a"
                        ],
                        [
                          0.8888888888888888,
                          "#fdca26"
                        ],
                        [
                          1,
                          "#f0f921"
                        ]
                      ]
                    },
                    "colorway": [
                      "#636efa",
                      "#EF553B",
                      "#00cc96",
                      "#ab63fa",
                      "#FFA15A",
                      "#19d3f3",
                      "#FF6692",
                      "#B6E880",
                      "#FF97FF",
                      "#FECB52"
                    ],
                    "font": {
                      "color": "#2a3f5f"
                    },
                    "geo": {
                      "bgcolor": "white",
                      "lakecolor": "white",
                      "landcolor": "#E5ECF6",
                      "showlakes": true,
                      "showland": true,
                      "subunitcolor": "white"
                    },
                    "hoverlabel": {
                      "align": "left"
                    },
                    "hovermode": "closest",
                    "mapbox": {
                      "style": "light"
                    },
                    "paper_bgcolor": "white",
                    "plot_bgcolor": "#E5ECF6",
                    "polar": {
                      "angularaxis": {
                        "gridcolor": "white",
                        "linecolor": "white",
                        "ticks": ""
                      },
                      "bgcolor": "#E5ECF6",
                      "radialaxis": {
                        "gridcolor": "white",
                        "linecolor": "white",
                        "ticks": ""
                      }
                    },
                    "scene": {
                      "xaxis": {
                        "backgroundcolor": "#E5ECF6",
                        "gridcolor": "white",
                        "gridwidth": 2,
                        "linecolor": "white",
                        "showbackground": true,
                        "ticks": "",
                        "zerolinecolor": "white"
                      },
                      "yaxis": {
                        "backgroundcolor": "#E5ECF6",
                        "gridcolor": "white",
                        "gridwidth": 2,
                        "linecolor": "white",
                        "showbackground": true,
                        "ticks": "",
                        "zerolinecolor": "white"
                      },
                      "zaxis": {
                        "backgroundcolor": "#E5ECF6",
                        "gridcolor": "white",
                        "gridwidth": 2,
                        "linecolor": "white",
                        "showbackground": true,
                        "ticks": "",
                        "zerolinecolor": "white"
                      }
                    },
                    "shapedefaults": {
                      "line": {
                        "color": "#2a3f5f"
                      }
                    },
                    "ternary": {
                      "aaxis": {
                        "gridcolor": "white",
                        "linecolor": "white",
                        "ticks": ""
                      },
                      "baxis": {
                        "gridcolor": "white",
                        "linecolor": "white",
                        "ticks": ""
                      },
                      "bgcolor": "#E5ECF6",
                      "caxis": {
                        "gridcolor": "white",
                        "linecolor": "white",
                        "ticks": ""
                      }
                    },
                    "title": {
                      "x": 0.05
                    },
                    "xaxis": {
                      "automargin": true,
                      "gridcolor": "white",
                      "linecolor": "white",
                      "ticks": "",
                      "title": {
                        "standoff": 15
                      },
                      "zerolinecolor": "white",
                      "zerolinewidth": 2
                    },
                    "yaxis": {
                      "automargin": true,
                      "gridcolor": "white",
                      "linecolor": "white",
                      "ticks": "",
                      "title": {
                        "standoff": 15
                      },
                      "zerolinecolor": "white",
                      "zerolinewidth": 2
                    }
                  }
                },
                "title": {
                  "text": "Slice Plot"
                },
                "width": 1200,
                "xaxis": {
                  "anchor": "y",
                  "domain": [
                    0,
                    0.2125
                  ],
                  "title": {
                    "text": "max_depth"
                  }
                },
                "xaxis2": {
                  "anchor": "y2",
                  "domain": [
                    0.2625,
                    0.475
                  ],
                  "title": {
                    "text": "min_samples_leaf"
                  }
                },
                "xaxis3": {
                  "anchor": "y3",
                  "domain": [
                    0.525,
                    0.7375
                  ],
                  "title": {
                    "text": "min_samples_split"
                  }
                },
                "xaxis4": {
                  "anchor": "y4",
                  "domain": [
                    0.7875,
                    1
                  ],
                  "title": {
                    "text": "n_estimators"
                  }
                },
                "yaxis": {
                  "anchor": "x",
                  "domain": [
                    0,
                    1
                  ],
                  "title": {
                    "text": "Objective Value"
                  }
                },
                "yaxis2": {
                  "anchor": "x2",
                  "domain": [
                    0,
                    1
                  ],
                  "matches": "y",
                  "showticklabels": false
                },
                "yaxis3": {
                  "anchor": "x3",
                  "domain": [
                    0,
                    1
                  ],
                  "matches": "y",
                  "showticklabels": false
                },
                "yaxis4": {
                  "anchor": "x4",
                  "domain": [
                    0,
                    1
                  ],
                  "matches": "y",
                  "showticklabels": false
                }
              }
            }
          },
          "metadata": {},
          "output_type": "display_data"
        }
      ],
      "source": [
        "plot_slice(study)"
      ]
    },
    {
      "cell_type": "code",
      "execution_count": 15,
      "metadata": {},
      "outputs": [
        {
          "name": "stdout",
          "output_type": "stream",
          "text": [
            "Mejor modelo: {'n_estimators': 262, 'max_depth': 10, 'min_samples_split': 51, 'min_samples_leaf': 10}\n"
          ]
        }
      ],
      "source": [
        "best_trial = study.best_trial\n",
        "best_model_params = best_trial.params\n",
        "print(\"Mejor modelo:\", best_model_params)"
      ]
    },
    {
      "cell_type": "code",
      "execution_count": 16,
      "metadata": {},
      "outputs": [
        {
          "data": {
            "text/html": [
              "<style>#sk-container-id-1 {\n",
              "  /* Definition of color scheme common for light and dark mode */\n",
              "  --sklearn-color-text: black;\n",
              "  --sklearn-color-line: gray;\n",
              "  /* Definition of color scheme for unfitted estimators */\n",
              "  --sklearn-color-unfitted-level-0: #fff5e6;\n",
              "  --sklearn-color-unfitted-level-1: #f6e4d2;\n",
              "  --sklearn-color-unfitted-level-2: #ffe0b3;\n",
              "  --sklearn-color-unfitted-level-3: chocolate;\n",
              "  /* Definition of color scheme for fitted estimators */\n",
              "  --sklearn-color-fitted-level-0: #f0f8ff;\n",
              "  --sklearn-color-fitted-level-1: #d4ebff;\n",
              "  --sklearn-color-fitted-level-2: #b3dbfd;\n",
              "  --sklearn-color-fitted-level-3: cornflowerblue;\n",
              "\n",
              "  /* Specific color for light theme */\n",
              "  --sklearn-color-text-on-default-background: var(--sg-text-color, var(--theme-code-foreground, var(--jp-content-font-color1, black)));\n",
              "  --sklearn-color-background: var(--sg-background-color, var(--theme-background, var(--jp-layout-color0, white)));\n",
              "  --sklearn-color-border-box: var(--sg-text-color, var(--theme-code-foreground, var(--jp-content-font-color1, black)));\n",
              "  --sklearn-color-icon: #696969;\n",
              "\n",
              "  @media (prefers-color-scheme: dark) {\n",
              "    /* Redefinition of color scheme for dark theme */\n",
              "    --sklearn-color-text-on-default-background: var(--sg-text-color, var(--theme-code-foreground, var(--jp-content-font-color1, white)));\n",
              "    --sklearn-color-background: var(--sg-background-color, var(--theme-background, var(--jp-layout-color0, #111)));\n",
              "    --sklearn-color-border-box: var(--sg-text-color, var(--theme-code-foreground, var(--jp-content-font-color1, white)));\n",
              "    --sklearn-color-icon: #878787;\n",
              "  }\n",
              "}\n",
              "\n",
              "#sk-container-id-1 {\n",
              "  color: var(--sklearn-color-text);\n",
              "}\n",
              "\n",
              "#sk-container-id-1 pre {\n",
              "  padding: 0;\n",
              "}\n",
              "\n",
              "#sk-container-id-1 input.sk-hidden--visually {\n",
              "  border: 0;\n",
              "  clip: rect(1px 1px 1px 1px);\n",
              "  clip: rect(1px, 1px, 1px, 1px);\n",
              "  height: 1px;\n",
              "  margin: -1px;\n",
              "  overflow: hidden;\n",
              "  padding: 0;\n",
              "  position: absolute;\n",
              "  width: 1px;\n",
              "}\n",
              "\n",
              "#sk-container-id-1 div.sk-dashed-wrapped {\n",
              "  border: 1px dashed var(--sklearn-color-line);\n",
              "  margin: 0 0.4em 0.5em 0.4em;\n",
              "  box-sizing: border-box;\n",
              "  padding-bottom: 0.4em;\n",
              "  background-color: var(--sklearn-color-background);\n",
              "}\n",
              "\n",
              "#sk-container-id-1 div.sk-container {\n",
              "  /* jupyter's `normalize.less` sets `[hidden] { display: none; }`\n",
              "     but bootstrap.min.css set `[hidden] { display: none !important; }`\n",
              "     so we also need the `!important` here to be able to override the\n",
              "     default hidden behavior on the sphinx rendered scikit-learn.org.\n",
              "     See: https://github.com/scikit-learn/scikit-learn/issues/21755 */\n",
              "  display: inline-block !important;\n",
              "  position: relative;\n",
              "}\n",
              "\n",
              "#sk-container-id-1 div.sk-text-repr-fallback {\n",
              "  display: none;\n",
              "}\n",
              "\n",
              "div.sk-parallel-item,\n",
              "div.sk-serial,\n",
              "div.sk-item {\n",
              "  /* draw centered vertical line to link estimators */\n",
              "  background-image: linear-gradient(var(--sklearn-color-text-on-default-background), var(--sklearn-color-text-on-default-background));\n",
              "  background-size: 2px 100%;\n",
              "  background-repeat: no-repeat;\n",
              "  background-position: center center;\n",
              "}\n",
              "\n",
              "/* Parallel-specific style estimator block */\n",
              "\n",
              "#sk-container-id-1 div.sk-parallel-item::after {\n",
              "  content: \"\";\n",
              "  width: 100%;\n",
              "  border-bottom: 2px solid var(--sklearn-color-text-on-default-background);\n",
              "  flex-grow: 1;\n",
              "}\n",
              "\n",
              "#sk-container-id-1 div.sk-parallel {\n",
              "  display: flex;\n",
              "  align-items: stretch;\n",
              "  justify-content: center;\n",
              "  background-color: var(--sklearn-color-background);\n",
              "  position: relative;\n",
              "}\n",
              "\n",
              "#sk-container-id-1 div.sk-parallel-item {\n",
              "  display: flex;\n",
              "  flex-direction: column;\n",
              "}\n",
              "\n",
              "#sk-container-id-1 div.sk-parallel-item:first-child::after {\n",
              "  align-self: flex-end;\n",
              "  width: 50%;\n",
              "}\n",
              "\n",
              "#sk-container-id-1 div.sk-parallel-item:last-child::after {\n",
              "  align-self: flex-start;\n",
              "  width: 50%;\n",
              "}\n",
              "\n",
              "#sk-container-id-1 div.sk-parallel-item:only-child::after {\n",
              "  width: 0;\n",
              "}\n",
              "\n",
              "/* Serial-specific style estimator block */\n",
              "\n",
              "#sk-container-id-1 div.sk-serial {\n",
              "  display: flex;\n",
              "  flex-direction: column;\n",
              "  align-items: center;\n",
              "  background-color: var(--sklearn-color-background);\n",
              "  padding-right: 1em;\n",
              "  padding-left: 1em;\n",
              "}\n",
              "\n",
              "\n",
              "/* Toggleable style: style used for estimator/Pipeline/ColumnTransformer box that is\n",
              "clickable and can be expanded/collapsed.\n",
              "- Pipeline and ColumnTransformer use this feature and define the default style\n",
              "- Estimators will overwrite some part of the style using the `sk-estimator` class\n",
              "*/\n",
              "\n",
              "/* Pipeline and ColumnTransformer style (default) */\n",
              "\n",
              "#sk-container-id-1 div.sk-toggleable {\n",
              "  /* Default theme specific background. It is overwritten whether we have a\n",
              "  specific estimator or a Pipeline/ColumnTransformer */\n",
              "  background-color: var(--sklearn-color-background);\n",
              "}\n",
              "\n",
              "/* Toggleable label */\n",
              "#sk-container-id-1 label.sk-toggleable__label {\n",
              "  cursor: pointer;\n",
              "  display: block;\n",
              "  width: 100%;\n",
              "  margin-bottom: 0;\n",
              "  padding: 0.5em;\n",
              "  box-sizing: border-box;\n",
              "  text-align: center;\n",
              "}\n",
              "\n",
              "#sk-container-id-1 label.sk-toggleable__label-arrow:before {\n",
              "  /* Arrow on the left of the label */\n",
              "  content: \"▸\";\n",
              "  float: left;\n",
              "  margin-right: 0.25em;\n",
              "  color: var(--sklearn-color-icon);\n",
              "}\n",
              "\n",
              "#sk-container-id-1 label.sk-toggleable__label-arrow:hover:before {\n",
              "  color: var(--sklearn-color-text);\n",
              "}\n",
              "\n",
              "/* Toggleable content - dropdown */\n",
              "\n",
              "#sk-container-id-1 div.sk-toggleable__content {\n",
              "  max-height: 0;\n",
              "  max-width: 0;\n",
              "  overflow: hidden;\n",
              "  text-align: left;\n",
              "  /* unfitted */\n",
              "  background-color: var(--sklearn-color-unfitted-level-0);\n",
              "}\n",
              "\n",
              "#sk-container-id-1 div.sk-toggleable__content.fitted {\n",
              "  /* fitted */\n",
              "  background-color: var(--sklearn-color-fitted-level-0);\n",
              "}\n",
              "\n",
              "#sk-container-id-1 div.sk-toggleable__content pre {\n",
              "  margin: 0.2em;\n",
              "  border-radius: 0.25em;\n",
              "  color: var(--sklearn-color-text);\n",
              "  /* unfitted */\n",
              "  background-color: var(--sklearn-color-unfitted-level-0);\n",
              "}\n",
              "\n",
              "#sk-container-id-1 div.sk-toggleable__content.fitted pre {\n",
              "  /* unfitted */\n",
              "  background-color: var(--sklearn-color-fitted-level-0);\n",
              "}\n",
              "\n",
              "#sk-container-id-1 input.sk-toggleable__control:checked~div.sk-toggleable__content {\n",
              "  /* Expand drop-down */\n",
              "  max-height: 200px;\n",
              "  max-width: 100%;\n",
              "  overflow: auto;\n",
              "}\n",
              "\n",
              "#sk-container-id-1 input.sk-toggleable__control:checked~label.sk-toggleable__label-arrow:before {\n",
              "  content: \"▾\";\n",
              "}\n",
              "\n",
              "/* Pipeline/ColumnTransformer-specific style */\n",
              "\n",
              "#sk-container-id-1 div.sk-label input.sk-toggleable__control:checked~label.sk-toggleable__label {\n",
              "  color: var(--sklearn-color-text);\n",
              "  background-color: var(--sklearn-color-unfitted-level-2);\n",
              "}\n",
              "\n",
              "#sk-container-id-1 div.sk-label.fitted input.sk-toggleable__control:checked~label.sk-toggleable__label {\n",
              "  background-color: var(--sklearn-color-fitted-level-2);\n",
              "}\n",
              "\n",
              "/* Estimator-specific style */\n",
              "\n",
              "/* Colorize estimator box */\n",
              "#sk-container-id-1 div.sk-estimator input.sk-toggleable__control:checked~label.sk-toggleable__label {\n",
              "  /* unfitted */\n",
              "  background-color: var(--sklearn-color-unfitted-level-2);\n",
              "}\n",
              "\n",
              "#sk-container-id-1 div.sk-estimator.fitted input.sk-toggleable__control:checked~label.sk-toggleable__label {\n",
              "  /* fitted */\n",
              "  background-color: var(--sklearn-color-fitted-level-2);\n",
              "}\n",
              "\n",
              "#sk-container-id-1 div.sk-label label.sk-toggleable__label,\n",
              "#sk-container-id-1 div.sk-label label {\n",
              "  /* The background is the default theme color */\n",
              "  color: var(--sklearn-color-text-on-default-background);\n",
              "}\n",
              "\n",
              "/* On hover, darken the color of the background */\n",
              "#sk-container-id-1 div.sk-label:hover label.sk-toggleable__label {\n",
              "  color: var(--sklearn-color-text);\n",
              "  background-color: var(--sklearn-color-unfitted-level-2);\n",
              "}\n",
              "\n",
              "/* Label box, darken color on hover, fitted */\n",
              "#sk-container-id-1 div.sk-label.fitted:hover label.sk-toggleable__label.fitted {\n",
              "  color: var(--sklearn-color-text);\n",
              "  background-color: var(--sklearn-color-fitted-level-2);\n",
              "}\n",
              "\n",
              "/* Estimator label */\n",
              "\n",
              "#sk-container-id-1 div.sk-label label {\n",
              "  font-family: monospace;\n",
              "  font-weight: bold;\n",
              "  display: inline-block;\n",
              "  line-height: 1.2em;\n",
              "}\n",
              "\n",
              "#sk-container-id-1 div.sk-label-container {\n",
              "  text-align: center;\n",
              "}\n",
              "\n",
              "/* Estimator-specific */\n",
              "#sk-container-id-1 div.sk-estimator {\n",
              "  font-family: monospace;\n",
              "  border: 1px dotted var(--sklearn-color-border-box);\n",
              "  border-radius: 0.25em;\n",
              "  box-sizing: border-box;\n",
              "  margin-bottom: 0.5em;\n",
              "  /* unfitted */\n",
              "  background-color: var(--sklearn-color-unfitted-level-0);\n",
              "}\n",
              "\n",
              "#sk-container-id-1 div.sk-estimator.fitted {\n",
              "  /* fitted */\n",
              "  background-color: var(--sklearn-color-fitted-level-0);\n",
              "}\n",
              "\n",
              "/* on hover */\n",
              "#sk-container-id-1 div.sk-estimator:hover {\n",
              "  /* unfitted */\n",
              "  background-color: var(--sklearn-color-unfitted-level-2);\n",
              "}\n",
              "\n",
              "#sk-container-id-1 div.sk-estimator.fitted:hover {\n",
              "  /* fitted */\n",
              "  background-color: var(--sklearn-color-fitted-level-2);\n",
              "}\n",
              "\n",
              "/* Specification for estimator info (e.g. \"i\" and \"?\") */\n",
              "\n",
              "/* Common style for \"i\" and \"?\" */\n",
              "\n",
              ".sk-estimator-doc-link,\n",
              "a:link.sk-estimator-doc-link,\n",
              "a:visited.sk-estimator-doc-link {\n",
              "  float: right;\n",
              "  font-size: smaller;\n",
              "  line-height: 1em;\n",
              "  font-family: monospace;\n",
              "  background-color: var(--sklearn-color-background);\n",
              "  border-radius: 1em;\n",
              "  height: 1em;\n",
              "  width: 1em;\n",
              "  text-decoration: none !important;\n",
              "  margin-left: 1ex;\n",
              "  /* unfitted */\n",
              "  border: var(--sklearn-color-unfitted-level-1) 1pt solid;\n",
              "  color: var(--sklearn-color-unfitted-level-1);\n",
              "}\n",
              "\n",
              ".sk-estimator-doc-link.fitted,\n",
              "a:link.sk-estimator-doc-link.fitted,\n",
              "a:visited.sk-estimator-doc-link.fitted {\n",
              "  /* fitted */\n",
              "  border: var(--sklearn-color-fitted-level-1) 1pt solid;\n",
              "  color: var(--sklearn-color-fitted-level-1);\n",
              "}\n",
              "\n",
              "/* On hover */\n",
              "div.sk-estimator:hover .sk-estimator-doc-link:hover,\n",
              ".sk-estimator-doc-link:hover,\n",
              "div.sk-label-container:hover .sk-estimator-doc-link:hover,\n",
              ".sk-estimator-doc-link:hover {\n",
              "  /* unfitted */\n",
              "  background-color: var(--sklearn-color-unfitted-level-3);\n",
              "  color: var(--sklearn-color-background);\n",
              "  text-decoration: none;\n",
              "}\n",
              "\n",
              "div.sk-estimator.fitted:hover .sk-estimator-doc-link.fitted:hover,\n",
              ".sk-estimator-doc-link.fitted:hover,\n",
              "div.sk-label-container:hover .sk-estimator-doc-link.fitted:hover,\n",
              ".sk-estimator-doc-link.fitted:hover {\n",
              "  /* fitted */\n",
              "  background-color: var(--sklearn-color-fitted-level-3);\n",
              "  color: var(--sklearn-color-background);\n",
              "  text-decoration: none;\n",
              "}\n",
              "\n",
              "/* Span, style for the box shown on hovering the info icon */\n",
              ".sk-estimator-doc-link span {\n",
              "  display: none;\n",
              "  z-index: 9999;\n",
              "  position: relative;\n",
              "  font-weight: normal;\n",
              "  right: .2ex;\n",
              "  padding: .5ex;\n",
              "  margin: .5ex;\n",
              "  width: min-content;\n",
              "  min-width: 20ex;\n",
              "  max-width: 50ex;\n",
              "  color: var(--sklearn-color-text);\n",
              "  box-shadow: 2pt 2pt 4pt #999;\n",
              "  /* unfitted */\n",
              "  background: var(--sklearn-color-unfitted-level-0);\n",
              "  border: .5pt solid var(--sklearn-color-unfitted-level-3);\n",
              "}\n",
              "\n",
              ".sk-estimator-doc-link.fitted span {\n",
              "  /* fitted */\n",
              "  background: var(--sklearn-color-fitted-level-0);\n",
              "  border: var(--sklearn-color-fitted-level-3);\n",
              "}\n",
              "\n",
              ".sk-estimator-doc-link:hover span {\n",
              "  display: block;\n",
              "}\n",
              "\n",
              "/* \"?\"-specific style due to the `<a>` HTML tag */\n",
              "\n",
              "#sk-container-id-1 a.estimator_doc_link {\n",
              "  float: right;\n",
              "  font-size: 1rem;\n",
              "  line-height: 1em;\n",
              "  font-family: monospace;\n",
              "  background-color: var(--sklearn-color-background);\n",
              "  border-radius: 1rem;\n",
              "  height: 1rem;\n",
              "  width: 1rem;\n",
              "  text-decoration: none;\n",
              "  /* unfitted */\n",
              "  color: var(--sklearn-color-unfitted-level-1);\n",
              "  border: var(--sklearn-color-unfitted-level-1) 1pt solid;\n",
              "}\n",
              "\n",
              "#sk-container-id-1 a.estimator_doc_link.fitted {\n",
              "  /* fitted */\n",
              "  border: var(--sklearn-color-fitted-level-1) 1pt solid;\n",
              "  color: var(--sklearn-color-fitted-level-1);\n",
              "}\n",
              "\n",
              "/* On hover */\n",
              "#sk-container-id-1 a.estimator_doc_link:hover {\n",
              "  /* unfitted */\n",
              "  background-color: var(--sklearn-color-unfitted-level-3);\n",
              "  color: var(--sklearn-color-background);\n",
              "  text-decoration: none;\n",
              "}\n",
              "\n",
              "#sk-container-id-1 a.estimator_doc_link.fitted:hover {\n",
              "  /* fitted */\n",
              "  background-color: var(--sklearn-color-fitted-level-3);\n",
              "}\n",
              "</style><div id=\"sk-container-id-1\" class=\"sk-top-container\"><div class=\"sk-text-repr-fallback\"><pre>RandomForestClassifier(max_depth=10, max_samples=0.7, min_samples_leaf=10,\n",
              "                       min_samples_split=51, n_estimators=262, n_jobs=-1,\n",
              "                       oob_score=True, random_state=540079)</pre><b>In a Jupyter environment, please rerun this cell to show the HTML representation or trust the notebook. <br />On GitHub, the HTML representation is unable to render, please try loading this page with nbviewer.org.</b></div><div class=\"sk-container\" hidden><div class=\"sk-item\"><div class=\"sk-estimator fitted sk-toggleable\"><input class=\"sk-toggleable__control sk-hidden--visually\" id=\"sk-estimator-id-1\" type=\"checkbox\" checked><label for=\"sk-estimator-id-1\" class=\"sk-toggleable__label fitted sk-toggleable__label-arrow fitted\">&nbsp;&nbsp;RandomForestClassifier<a class=\"sk-estimator-doc-link fitted\" rel=\"noreferrer\" target=\"_blank\" href=\"https://scikit-learn.org/1.5/modules/generated/sklearn.ensemble.RandomForestClassifier.html\">?<span>Documentation for RandomForestClassifier</span></a><span class=\"sk-estimator-doc-link fitted\">i<span>Fitted</span></span></label><div class=\"sk-toggleable__content fitted\"><pre>RandomForestClassifier(max_depth=10, max_samples=0.7, min_samples_leaf=10,\n",
              "                       min_samples_split=51, n_estimators=262, n_jobs=-1,\n",
              "                       oob_score=True, random_state=540079)</pre></div> </div></div></div></div>"
            ],
            "text/plain": [
              "RandomForestClassifier(max_depth=10, max_samples=0.7, min_samples_leaf=10,\n",
              "                       min_samples_split=51, n_estimators=262, n_jobs=-1,\n",
              "                       oob_score=True, random_state=540079)"
            ]
          },
          "execution_count": 16,
          "metadata": {},
          "output_type": "execute_result"
        }
      ],
      "source": [
        "model_rf_1 = RandomForestClassifier(\n",
        "        **study.best_params,\n",
        "        max_samples=0.7,\n",
        "        random_state=semillas[0],\n",
        "        n_jobs=-1,\n",
        "        oob_score=True\n",
        "    )\n",
        "\n",
        "model_rf_1.fit(Xtrain_rf_imp, ytrain_rf)"
      ]
    },
    {
      "cell_type": "code",
      "execution_count": 17,
      "metadata": {},
      "outputs": [
        {
          "data": {
            "text/html": [
              "<div>\n",
              "<style scoped>\n",
              "    .dataframe tbody tr th:only-of-type {\n",
              "        vertical-align: middle;\n",
              "    }\n",
              "\n",
              "    .dataframe tbody tr th {\n",
              "        vertical-align: top;\n",
              "    }\n",
              "\n",
              "    .dataframe thead th {\n",
              "        text-align: right;\n",
              "    }\n",
              "</style>\n",
              "<table border=\"1\" class=\"dataframe\">\n",
              "  <thead>\n",
              "    <tr style=\"text-align: right;\">\n",
              "      <th></th>\n",
              "      <th>feature</th>\n",
              "      <th>importance</th>\n",
              "    </tr>\n",
              "  </thead>\n",
              "  <tbody>\n",
              "    <tr>\n",
              "      <th>160</th>\n",
              "      <td>percent_rank_ctrx_quarter</td>\n",
              "      <td>0.069957</td>\n",
              "    </tr>\n",
              "    <tr>\n",
              "      <th>2</th>\n",
              "      <td>ctrx_quarter</td>\n",
              "      <td>0.053655</td>\n",
              "    </tr>\n",
              "    <tr>\n",
              "      <th>102</th>\n",
              "      <td>avg_3_ctrx_quarter</td>\n",
              "      <td>0.041788</td>\n",
              "    </tr>\n",
              "    <tr>\n",
              "      <th>159</th>\n",
              "      <td>percent_rank_mcaja_ahorro</td>\n",
              "      <td>0.038201</td>\n",
              "    </tr>\n",
              "    <tr>\n",
              "      <th>3</th>\n",
              "      <td>mcaja_ahorro</td>\n",
              "      <td>0.035264</td>\n",
              "    </tr>\n",
              "    <tr>\n",
              "      <th>92</th>\n",
              "      <td>avg_3_mcaja_ahorro</td>\n",
              "      <td>0.034381</td>\n",
              "    </tr>\n",
              "    <tr>\n",
              "      <th>4</th>\n",
              "      <td>mtarjetas_consumo</td>\n",
              "      <td>0.033477</td>\n",
              "    </tr>\n",
              "    <tr>\n",
              "      <th>156</th>\n",
              "      <td>percent_rank_mpasivos_margen</td>\n",
              "      <td>0.022238</td>\n",
              "    </tr>\n",
              "    <tr>\n",
              "      <th>17</th>\n",
              "      <td>m_cpayroll_total</td>\n",
              "      <td>0.021491</td>\n",
              "    </tr>\n",
              "    <tr>\n",
              "      <th>161</th>\n",
              "      <td>percent_rank_mprestamos_personales</td>\n",
              "      <td>0.021462</td>\n",
              "    </tr>\n",
              "    <tr>\n",
              "      <th>89</th>\n",
              "      <td>avg_3_mpasivos_margen</td>\n",
              "      <td>0.019793</td>\n",
              "    </tr>\n",
              "    <tr>\n",
              "      <th>5</th>\n",
              "      <td>mpasivos_margen</td>\n",
              "      <td>0.018670</td>\n",
              "    </tr>\n",
              "    <tr>\n",
              "      <th>164</th>\n",
              "      <td>percent_rank_cpayroll_trx</td>\n",
              "      <td>0.018213</td>\n",
              "    </tr>\n",
              "    <tr>\n",
              "      <th>12</th>\n",
              "      <td>mpayroll</td>\n",
              "      <td>0.017978</td>\n",
              "    </tr>\n",
              "    <tr>\n",
              "      <th>6</th>\n",
              "      <td>mtarjeta_visa_consumo</td>\n",
              "      <td>0.017256</td>\n",
              "    </tr>\n",
              "    <tr>\n",
              "      <th>9</th>\n",
              "      <td>m_payroll_total</td>\n",
              "      <td>0.017092</td>\n",
              "    </tr>\n",
              "    <tr>\n",
              "      <th>7</th>\n",
              "      <td>cant_transac_tarjetas</td>\n",
              "      <td>0.017039</td>\n",
              "    </tr>\n",
              "    <tr>\n",
              "      <th>54</th>\n",
              "      <td>lag_1_mcaja_ahorro</td>\n",
              "      <td>0.016889</td>\n",
              "    </tr>\n",
              "    <tr>\n",
              "      <th>157</th>\n",
              "      <td>percent_rank_mcuentas_saldo</td>\n",
              "      <td>0.015156</td>\n",
              "    </tr>\n",
              "    <tr>\n",
              "      <th>53</th>\n",
              "      <td>lag_1_mpasivos_margen</td>\n",
              "      <td>0.015064</td>\n",
              "    </tr>\n",
              "    <tr>\n",
              "      <th>10</th>\n",
              "      <td>ctarjeta_visa_transacciones</td>\n",
              "      <td>0.014960</td>\n",
              "    </tr>\n",
              "    <tr>\n",
              "      <th>11</th>\n",
              "      <td>cpayroll_trx</td>\n",
              "      <td>0.014781</td>\n",
              "    </tr>\n",
              "    <tr>\n",
              "      <th>8</th>\n",
              "      <td>msaldototal_total</td>\n",
              "      <td>0.014470</td>\n",
              "    </tr>\n",
              "    <tr>\n",
              "      <th>16</th>\n",
              "      <td>mcuentas_saldo</td>\n",
              "      <td>0.014281</td>\n",
              "    </tr>\n",
              "    <tr>\n",
              "      <th>15</th>\n",
              "      <td>msaldopesos_total</td>\n",
              "      <td>0.013391</td>\n",
              "    </tr>\n",
              "  </tbody>\n",
              "</table>\n",
              "</div>"
            ],
            "text/plain": [
              "                                feature  importance\n",
              "160           percent_rank_ctrx_quarter    0.069957\n",
              "2                          ctrx_quarter    0.053655\n",
              "102                  avg_3_ctrx_quarter    0.041788\n",
              "159           percent_rank_mcaja_ahorro    0.038201\n",
              "3                          mcaja_ahorro    0.035264\n",
              "92                   avg_3_mcaja_ahorro    0.034381\n",
              "4                     mtarjetas_consumo    0.033477\n",
              "156        percent_rank_mpasivos_margen    0.022238\n",
              "17                     m_cpayroll_total    0.021491\n",
              "161  percent_rank_mprestamos_personales    0.021462\n",
              "89                avg_3_mpasivos_margen    0.019793\n",
              "5                       mpasivos_margen    0.018670\n",
              "164           percent_rank_cpayroll_trx    0.018213\n",
              "12                             mpayroll    0.017978\n",
              "6                 mtarjeta_visa_consumo    0.017256\n",
              "9                       m_payroll_total    0.017092\n",
              "7                 cant_transac_tarjetas    0.017039\n",
              "54                   lag_1_mcaja_ahorro    0.016889\n",
              "157         percent_rank_mcuentas_saldo    0.015156\n",
              "53                lag_1_mpasivos_margen    0.015064\n",
              "10          ctarjeta_visa_transacciones    0.014960\n",
              "11                         cpayroll_trx    0.014781\n",
              "8                     msaldototal_total    0.014470\n",
              "16                       mcuentas_saldo    0.014281\n",
              "15                    msaldopesos_total    0.013391"
            ]
          },
          "execution_count": 17,
          "metadata": {},
          "output_type": "execute_result"
        }
      ],
      "source": [
        "importances = model_rf_1.feature_importances_\n",
        "\n",
        "features = Xtrain_rf.columns\n",
        "feat_importances = pd.DataFrame({'feature': features, 'importance': importances})\n",
        "feat_importances = feat_importances.sort_values('importance', ascending=False)\n",
        "\n",
        "feat_importances.head(25)"
      ]
    },
    {
      "cell_type": "markdown",
      "metadata": {
        "id": "3WkehiTNzRrL"
      },
      "source": [
        "Armamos (copiamos de internet) una función que nos calcule la matriz de distancias"
      ]
    },
    {
      "cell_type": "code",
      "execution_count": 18,
      "metadata": {
        "id": "Ab0UY9VAo1mj"
      },
      "outputs": [],
      "source": [
        "def distanceMatrix(model, X):\n",
        "\n",
        "    terminals = model.apply(X)\n",
        "    nTrees = terminals.shape[1]\n",
        "\n",
        "    a = terminals[:,0]\n",
        "    proxMat = 1*np.equal.outer(a, a)\n",
        "\n",
        "    for i in range(1, nTrees):\n",
        "        a = terminals[:,i]\n",
        "        proxMat += 1*np.equal.outer(a, a)\n",
        "\n",
        "    proxMat = proxMat / nTrees\n",
        "\n",
        "    return proxMat.max() - proxMat\n",
        "\n",
        "md = distanceMatrix(model_rf_1, Xtrain_rf_imp)"
      ]
    },
    {
      "cell_type": "code",
      "execution_count": 19,
      "metadata": {
        "colab": {
          "base_uri": "https://localhost:8080/"
        },
        "id": "jM0crgSQqC5x",
        "outputId": "cdf7d73d-fbc2-4a1c-ce31-2056e062dc57"
      },
      "outputs": [
        {
          "data": {
            "text/plain": [
              "array([[0.        , 1.        , 0.35496183, ..., 1.        , 0.25954198,\n",
              "        1.        ],\n",
              "       [1.        , 0.        , 1.        , ..., 0.99618321, 1.        ,\n",
              "        1.        ],\n",
              "       [0.35496183, 1.        , 0.        , ..., 1.        , 0.4351145 ,\n",
              "        1.        ],\n",
              "       ...,\n",
              "       [1.        , 0.99618321, 1.        , ..., 0.        , 1.        ,\n",
              "        1.        ],\n",
              "       [0.25954198, 1.        , 0.4351145 , ..., 1.        , 0.        ,\n",
              "        1.        ],\n",
              "       [1.        , 1.        , 1.        , ..., 1.        , 1.        ,\n",
              "        0.        ]])"
            ]
          },
          "execution_count": 19,
          "metadata": {},
          "output_type": "execute_result"
        }
      ],
      "source": [
        "md"
      ]
    },
    {
      "cell_type": "markdown",
      "metadata": {
        "id": "xrhE0O2nzodC"
      },
      "source": [
        "Para poder visualizar la matriz, utilizaremos un embedding. Los *embeddings* son representaciones vectoriales de datos en un espacio de menor dimensión\n",
        "\n",
        "Podría utilizar un **PCA** con ese fin, pero en los últimos años hay mejores algoritmos como **t-sne** o **umap**.\n",
        "\n",
        "UMAP (Uniform Manifold Approximation and Projection) es una técnica avanzada para la reducción de dimensionalidad y visualización de datos en espacios de menor dimensión, que busca mantener al máximo la estructura de los datos en alta dimensión.\n",
        "\n",
        "1. **Preservación de la Estructura Global y Local**:\n",
        "   - Intenta preservar tanto la estructura local (relaciones cercanas) como la global (estructura general) de los datos al proyectarlos en un espacio de menor dimensión.\n",
        "\n",
        "2. **Basado en Manifold Learning**:\n",
        "   - UMAP asume que los datos de alta dimensión se encuentran en un espacio de menor dimensión (un \"manifold\") y busca proyectar esos datos de manera que se mantenga esa estructura subyacente.\n",
        "\n",
        "3. **Velocidad y Escalabilidad**:\n",
        "   - UMAP es más rápido y escalable en comparación con técnicas similares como t-SNE, especialmente en conjuntos de datos grandes.\n",
        "\n",
        "4. **Control sobre la Estructura**:\n",
        "   - UMAP permite al usuario ajustar parámetros que controlan la preservación de la estructura local y global, como el número de vecinos cercanos (n_neighbors) y la distancia mínima entre puntos (min_dist).\n",
        "\n",
        "Una característica adicional, es que cuenta con la posibilidad de recibir de entrada una matriz de distancia.\n",
        "\n",
        "Veamos los datos por primera vez:"
      ]
    },
    {
      "cell_type": "code",
      "execution_count": 20,
      "metadata": {
        "colab": {
          "base_uri": "https://localhost:8080/",
          "height": 544
        },
        "id": "5LRYIYv-rBb6",
        "outputId": "cf878468-23ef-438a-d32b-e07f179f3ccf"
      },
      "outputs": [
        {
          "name": "stderr",
          "output_type": "stream",
          "text": [
            "c:\\Users\\Federico\\AppData\\Local\\Programs\\Python\\Python312\\Lib\\site-packages\\umap\\umap_.py:1858: UserWarning:\n",
            "\n",
            "using precomputed metric; inverse_transform will be unavailable\n",
            "\n",
            "c:\\Users\\Federico\\AppData\\Local\\Programs\\Python\\Python312\\Lib\\site-packages\\umap\\umap_.py:1945: UserWarning:\n",
            "\n",
            "n_jobs value 1 overridden to 1 by setting random_state. Use no seed for parallelism.\n",
            "\n"
          ]
        },
        {
          "data": {
            "text/plain": [
              "<matplotlib.collections.PathCollection at 0x174148bcef0>"
            ]
          },
          "execution_count": 20,
          "metadata": {},
          "output_type": "execute_result"
        },
        {
          "data": {
            "image/png": "[encoded data removed]",
            "text/plain": [
              "<Figure size 640x480 with 1 Axes>"
            ]
          },
          "metadata": {},
          "output_type": "display_data"
        }
      ],
      "source": [
        "embedding_rf = UMAP(\n",
        "  n_components=2,\n",
        "  n_neighbors=50,\n",
        "  metric=\"precomputed\",\n",
        "  random_state=17,\n",
        ").fit_transform(md)\n",
        "\n",
        "plt.scatter(embedding_rf[:,0], embedding_rf[:,1])"
      ]
    },
    {
      "cell_type": "markdown",
      "metadata": {
        "id": "r2StQEZK3Guh"
      },
      "source": [
        "Agreguemos la dimensión de la probabilidad de salida, para ver donde cree el modelo que se encuentran los **bajas**."
      ]
    },
    {
      "cell_type": "code",
      "execution_count": 22,
      "metadata": {
        "colab": {
          "base_uri": "https://localhost:8080/",
          "height": 435
        },
        "id": "A1Rfhj7CTeLt",
        "outputId": "cc6bf1e7-2099-4b20-dc81-44ebfab9b88d"
      },
      "outputs": [
        {
          "data": {
            "image/png": "[encoded data removed]",
            "text/plain": [
              "<Figure size 640x480 with 2 Axes>"
            ]
          },
          "metadata": {},
          "output_type": "display_data"
        }
      ],
      "source": [
        "class_index = np.where(model_rf_1.classes_ == 1)[0]\n",
        "prob_baja = model_rf_1.predict_proba(Xtrain_rf_imp)[:,class_index]\n",
        "\n",
        "plt.scatter(embedding_rf[:,0], embedding_rf[:,1], c=prob_baja)\n",
        "plt.colorbar()\n",
        "plt.show()"
      ]
    },
    {
      "cell_type": "markdown",
      "metadata": {
        "id": "xpthaD3P3d4C"
      },
      "source": [
        "Vamos a partir de este embedding para segmentar a los clientes. Puede utilizar cualquier técnica, los datos ya son simples para cualquier algoritmo. Utilizaremos uno bastante estandar"
      ]
    },
    {
      "cell_type": "code",
      "execution_count": 23,
      "metadata": {
        "colab": {
          "base_uri": "https://localhost:8080/",
          "height": 486
        },
        "id": "RtyL7PdqrVpr",
        "outputId": "4e457963-66a5-40bb-c3a5-001a2c249c32"
      },
      "outputs": [
        {
          "data": {
            "image/png": "[encoded data removed]",
            "text/plain": [
              "<Figure size 640x480 with 1 Axes>"
            ]
          },
          "metadata": {},
          "output_type": "display_data"
        }
      ],
      "source": [
        "hdb = DBSCAN(eps=0.3)\n",
        "y = hdb.fit(embedding_rf)\n",
        "\n",
        "plt.scatter(embedding_rf[:, 0], embedding_rf[:, 1], c=y.labels_, cmap='tab10')\n",
        "# plt.tight_layout()\n",
        "plt.show()"
      ]
    },
    {
      "cell_type": "code",
      "execution_count": 24,
      "metadata": {},
      "outputs": [
        {
          "data": {
            "image/png": "[encoded data removed]",
            "text/plain": [
              "<Figure size 1200x600 with 4 Axes>"
            ]
          },
          "metadata": {},
          "output_type": "display_data"
        }
      ],
      "source": [
        "# Ajustamos el modelo DBSCAN (como en tu código)\n",
        "hdb = DBSCAN(eps=0.3)\n",
        "y = hdb.fit(embedding_rf)\n",
        "\n",
        "# Creamos la figura con 2 subplots\n",
        "fig, (ax1, ax2) = plt.subplots(1, 2, figsize=(12, 6))\n",
        "\n",
        "# Primer gráfico: clusters con anotaciones\n",
        "scatter1 = ax1.scatter(embedding_rf[:, 0], embedding_rf[:, 1], c=y.labels_, cmap='tab10')\n",
        "\n",
        "# Anotamos el número de clústeres en el centro de cada grupo\n",
        "unique_labels = set(y.labels_)\n",
        "for label in unique_labels:\n",
        "    if label == -1:  # Ignoramos el ruido (outliers)\n",
        "        continue\n",
        "    mask = (y.labels_ == label)\n",
        "    cluster_center = embedding_rf[mask].mean(axis=0)\n",
        "    ax1.annotate(f'{label}', cluster_center, textcoords=\"offset points\", xytext=(0, 10), ha='center')\n",
        "\n",
        "ax1.set_title('Clusters con DBSCAN')\n",
        "fig.colorbar(scatter1, ax=ax1)\n",
        "\n",
        "# Segundo gráfico: probabilidades de clase\n",
        "class_index = np.where(model_rf_1.classes_ == 1)[0]\n",
        "prob_baja = model_rf_1.predict_proba(Xtrain_rf_imp)[:, class_index]\n",
        "\n",
        "scatter2 = ax2.scatter(embedding_rf[:, 0], embedding_rf[:, 1], c=prob_baja)\n",
        "ax2.set_title('Probabilidades de Clase')\n",
        "fig.colorbar(scatter2, ax=ax2)\n",
        "\n",
        "# Ajustamos el layout de toda la figura\n",
        "plt.tight_layout()\n",
        "plt.show()\n"
      ]
    },
    {
      "cell_type": "markdown",
      "metadata": {
        "id": "1DT8Napm4giz"
      },
      "source": [
        "Veamos cuantos cluster detecto y cuantos clientes tiene cada uno"
      ]
    },
    {
      "cell_type": "code",
      "execution_count": 25,
      "metadata": {
        "colab": {
          "base_uri": "https://localhost:8080/",
          "height": 429
        },
        "id": "oYA4-CLXtGxa",
        "outputId": "55c14c45-6193-4f60-aadb-e3fccaa87b26"
      },
      "outputs": [
        {
          "data": {
            "text/plain": [
              " 0    4516\n",
              " 1    4427\n",
              " 3    2192\n",
              " 2     684\n",
              " 4     154\n",
              " 5     110\n",
              " 6      55\n",
              " 7      26\n",
              "-1       7\n",
              "Name: count, dtype: int64"
            ]
          },
          "execution_count": 25,
          "metadata": {},
          "output_type": "execute_result"
        }
      ],
      "source": [
        "pd.Series(y.labels_).value_counts()"
      ]
    },
    {
      "cell_type": "markdown",
      "metadata": {
        "id": "qDcWrYG94sGq"
      },
      "source": [
        "Los que tienen -1, son considerados outliers."
      ]
    },
    {
      "cell_type": "markdown",
      "metadata": {
        "id": "O4kSLegC4wXT"
      },
      "source": [
        "Por último necesitamos alguna forma de saber que hace a cada cluster distinto del otro. Para esto utilizaremos modelos (**rf**) que buscan separar los cluster uno a uno del resto de los datos.\n",
        "\n",
        "Por cada modelo, miraremos cuales son las variables más importantes que separan los datos para luego caracterizarlos:\n",
        "\n",
        "Manos a la obra:"
      ]
    },
    {
      "cell_type": "code",
      "execution_count": 69,
      "metadata": {
        "id": "JNAspxcDNsJO"
      },
      "outputs": [],
      "source": [
        "df_embedding = pd.DataFrame(embedding_rf, columns=['embedding_1', 'embedding_2'])\n",
        "df_embedding['cluster'] = y.labels_\n",
        "\n",
        "clusters = df_embedding['cluster'].unique()\n",
        "\n",
        "important_features_by_cluster = {}\n",
        "\n",
        "for cluster in clusters:\n",
        "  y_binary = (df_embedding['cluster'] == cluster).astype(int)\n",
        "\n",
        "  model = RandomForestClassifier(random_state=17)\n",
        "  model.fit(Xtrain_rf_imp, y_binary)\n",
        "\n",
        "  importances = model.feature_importances_\n",
        "  feature_names = Xtrain_rf.columns\n",
        "\n",
        "  indices = np.argsort(importances)[::-1]\n",
        "  important_features_by_cluster[cluster] = [feature_names[i] for i in indices]"
      ]
    },
    {
      "cell_type": "markdown",
      "metadata": {
        "id": "y7Mz0fa35llh"
      },
      "source": [
        "Y exploramos cuales son las variables importantes por cada cluster"
      ]
    },
    {
      "cell_type": "code",
      "execution_count": 70,
      "metadata": {
        "colab": {
          "base_uri": "https://localhost:8080/"
        },
        "id": "TXC_cFv45mO5",
        "outputId": "e8c852a3-bc84-42b8-9c61-865b61eb3094"
      },
      "outputs": [
        {
          "name": "stdout",
          "output_type": "stream",
          "text": [
            "Cluster 0 vs. Resto:\n",
            "  - Visa_msaldopesos\n",
            "  - mpayroll\n",
            "  - ctrx_quarter\n",
            "  - cpayroll_trx\n",
            "  - Visa_msaldototal\n",
            "  - Visa_mpagominimo\n",
            "  - cproductos\n",
            "  - mtarjeta_visa_consumo\n",
            "  - ctarjeta_master\n",
            "  - ctarjeta_visa\n",
            "  - ctarjeta_visa_transacciones\n",
            "  - Visa_mconsumototal\n",
            "Cluster 1 vs. Resto:\n",
            "  - mpayroll\n",
            "  - cpayroll_trx\n",
            "  - ctrx_quarter\n",
            "  - mtarjeta_visa_consumo\n",
            "  - Visa_msaldototal\n",
            "  - ctarjeta_visa_transacciones\n",
            "  - Visa_msaldopesos\n",
            "  - Visa_mconsumototal\n",
            "  - ccomisiones_mantenimiento\n",
            "  - Visa_mpagospesos\n",
            "  - Visa_cconsumos\n",
            "  - Visa_mconsumospesos\n",
            "Cluster 2 vs. Resto:\n",
            "  - mpayroll\n",
            "  - cpayroll_trx\n",
            "  - mextraccion_autoservicio\n",
            "  - cextraccion_autoservicio\n",
            "  - Visa_msaldopesos\n",
            "  - Visa_msaldototal\n",
            "  - matm\n",
            "  - mtarjeta_visa_consumo\n",
            "  - catm_trx\n",
            "  - mautoservicio\n",
            "  - ctarjeta_debito_transacciones\n",
            "  - Visa_mpagominimo\n",
            "Cluster 3 vs. Resto:\n",
            "  - ctarjeta_visa\n",
            "  - Visa_msaldopesos\n",
            "  - cproductos\n",
            "  - mcomisiones\n",
            "  - mcomisiones_mantenimiento\n",
            "  - mcomisiones_otras\n",
            "  - mpasivos_margen\n",
            "  - ctarjeta_master\n",
            "  - Visa_msaldototal\n",
            "  - Visa_fechaalta\n",
            "  - mcuentas_saldo\n",
            "  - ccomisiones_mantenimiento\n",
            "Cluster 4 vs. Resto:\n",
            "  - Visa_status\n",
            "  - Visa_mfinanciacion_limite\n",
            "  - Visa_mpagominimo\n",
            "  - Visa_delinquency\n",
            "  - Visa_Finiciomora\n",
            "  - mcuentas_saldo\n",
            "  - Master_status\n",
            "  - ctarjeta_visa\n",
            "  - mcuenta_corriente\n",
            "  - mpasivos_margen\n",
            "  - mcaja_ahorro\n",
            "  - Visa_fechaalta\n",
            "Cluster -1 vs. Resto:\n",
            "  - mcuentas_saldo\n",
            "  - mcuenta_corriente\n",
            "  - mcomisiones_otras\n",
            "  - numero_de_cliente\n",
            "  - mcomisiones\n",
            "  - mactivos_margen\n",
            "  - Master_fechaalta\n",
            "  - cliente_antiguedad\n",
            "  - mpasivos_margen\n",
            "  - Visa_msaldototal\n",
            "  - cliente_edad\n",
            "  - Visa_msaldopesos\n",
            "Cluster 5 vs. Resto:\n",
            "  - cextraccion_autoservicio\n",
            "  - mextraccion_autoservicio\n",
            "  - mpayroll\n",
            "  - cpayroll_trx\n",
            "  - mautoservicio\n",
            "  - catm_trx\n",
            "  - matm\n",
            "  - ctarjeta_debito_transacciones\n",
            "  - Visa_msaldototal\n",
            "  - mtarjeta_visa_consumo\n",
            "  - mcomisiones_mantenimiento\n",
            "  - matm_other\n",
            "Cluster 6 vs. Resto:\n",
            "  - cpayroll_trx\n",
            "  - mpayroll\n",
            "  - Visa_msaldototal\n",
            "  - Visa_msaldopesos\n",
            "  - mtarjeta_visa_consumo\n",
            "  - mcomisiones_otras\n",
            "  - Visa_mpagominimo\n",
            "  - ctarjeta_visa_transacciones\n",
            "  - Visa_mpagospesos\n",
            "  - mextraccion_autoservicio\n",
            "  - mcomisiones\n",
            "  - ccomisiones_mantenimiento\n",
            "Cluster 7 vs. Resto:\n",
            "  - mcomisiones_otras\n",
            "  - ctarjeta_visa\n",
            "  - mcomisiones\n",
            "  - ccomisiones_otras\n",
            "  - ccomisiones_mantenimiento\n",
            "  - mcomisiones_mantenimiento\n",
            "  - mpasivos_margen\n",
            "  - mrentabilidad\n",
            "  - ctrx_quarter\n",
            "  - cproductos\n",
            "  - Visa_msaldototal\n",
            "  - Visa_msaldopesos\n",
            "Cluster 8 vs. Resto:\n",
            "  - mautoservicio\n",
            "  - ctarjeta_debito_transacciones\n",
            "  - mpayroll\n",
            "  - cpayroll_trx\n",
            "  - ctrx_quarter\n",
            "  - mtarjeta_visa_consumo\n",
            "  - Visa_msaldopesos\n",
            "  - mcomisiones_otras\n",
            "  - Visa_mpagominimo\n",
            "  - Visa_msaldototal\n",
            "  - ctarjeta_visa_transacciones\n",
            "  - mcaja_ahorro\n",
            "Cluster 9 vs. Resto:\n",
            "  - ctarjeta_master\n",
            "  - Master_fechaalta\n",
            "  - mpasivos_margen\n",
            "  - cproductos\n",
            "  - Master_Fvencimiento\n",
            "  - Visa_fechaalta\n",
            "  - Master_mfinanciacion_limite\n",
            "  - Visa_msaldopesos\n",
            "  - Visa_mfinanciacion_limite\n",
            "  - mcuentas_saldo\n",
            "  - mactivos_margen\n",
            "  - Visa_mlimitecompra\n",
            "Cluster 10 vs. Resto:\n",
            "  - mpasivos_margen\n",
            "  - mactivos_margen\n",
            "  - mrentabilidad\n",
            "  - mrentabilidad_annual\n",
            "  - mcuentas_saldo\n",
            "  - mcuenta_corriente\n",
            "  - ctrx_quarter\n",
            "  - mcaja_ahorro\n",
            "  - mcomisiones\n",
            "  - Visa_msaldopesos\n",
            "  - cliente_antiguedad\n",
            "  - mcomisiones_otras\n",
            "Cluster 11 vs. Resto:\n",
            "  - Visa_msaldopesos\n",
            "  - numero_de_cliente\n",
            "  - matm\n",
            "  - Master_fechaalta\n",
            "  - ctransferencias_recibidas\n",
            "  - mactivos_margen\n",
            "  - cprestamos_hipotecarios\n",
            "  - Visa_msaldodolares\n",
            "  - cliente_edad\n",
            "  - Visa_mconsumototal\n",
            "  - Visa_fechaalta\n",
            "  - Master_Fvencimiento\n"
          ]
        }
      ],
      "source": [
        "for cluster, features in important_features_by_cluster.items():\n",
        "  print(f\"Cluster {cluster} vs. Resto:\")\n",
        "  for feature in features[:12]:\n",
        "    print(f\"  - {feature}\")\n"
      ]
    },
    {
      "cell_type": "markdown",
      "metadata": {
        "id": "h5WHCJDw53Pa"
      },
      "source": [
        "Luego resta, analizar los estadísticos de los datos de cada cluster para las variables importantes, comparar sus distribuciones con histogramas, boxplots, pivot tables, etc.\n"
      ]
    },
    {
      "cell_type": "markdown",
      "metadata": {
        "id": "Th9-1pcqMZeG"
      },
      "source": [
        "Junto con el diccionaro de datos, de sentido a lo que ve a través del análisis multivariado de datos.\n",
        "\n",
        "Obviamente, esto es apenas mas que una semilla. Agregue las variables históricas, juegue con los **rf** y genere una segmentación pro, que encante a Miranda\n"
      ]
    }
  ],
  "metadata": {
    "colab": {
      "provenance": []
    },
    "kernelspec": {
      "display_name": "Python 3",
      "name": "python3"
    },
    "language_info": {
      "codemirror_mode": {
        "name": "ipython",
        "version": 3
      },
      "file_extension": ".py",
      "mimetype": "text/x-python",
      "name": "python",
      "nbconvert_exporter": "python",
      "pygments_lexer": "ipython3",
      "version": "3.12.5"
    }
  },
  "nbformat": 4,
  "nbformat_minor": 0
}
