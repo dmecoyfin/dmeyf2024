{
  "cells": [
    {
      "cell_type": "markdown",
      "metadata": {
        "id": "FX-Vq4mgJS_t"
      },
      "source": [
        "# Segmentando clientes\n",
        "\n",
        "En esta notebook se verá una forma sobre como segmentar a los clientes, cuando cuenta con una gran cantidad de estos sobre una base de datos de una gran (?) cantidad de dimensiones.\n",
        "\n",
        "Empezaremos cargando el entorno e instalando los requerimentos necesarios."
      ]
    },
    {
      "cell_type": "code",
      "execution_count": null,
      "metadata": {
        "colab": {
          "base_uri": "https://localhost:8080/"
        },
        "id": "CqrQIDd8JRlJ",
        "outputId": "28396bd0-b03c-4514-9f77-39c0930afb05"
      },
      "outputs": [
        {
          "name": "stdout",
          "output_type": "stream",
          "text": [
            "Requirement already satisfied: umap in /usr/local/lib/python3.10/dist-packages (0.1.1)\n",
            "Requirement already satisfied: umap-learn in /usr/local/lib/python3.10/dist-packages (0.5.6)\n",
            "Requirement already satisfied: numpy>=1.17 in /usr/local/lib/python3.10/dist-packages (from umap-learn) (1.26.4)\n",
            "Requirement already satisfied: scipy>=1.3.1 in /usr/local/lib/python3.10/dist-packages (from umap-learn) (1.13.1)\n",
            "Requirement already satisfied: scikit-learn>=0.22 in /usr/local/lib/python3.10/dist-packages (from umap-learn) (1.3.2)\n",
            "Requirement already satisfied: numba>=0.51.2 in /usr/local/lib/python3.10/dist-packages (from umap-learn) (0.60.0)\n",
            "Requirement already satisfied: pynndescent>=0.5 in /usr/local/lib/python3.10/dist-packages (from umap-learn) (0.5.13)\n",
            "Requirement already satisfied: tqdm in /usr/local/lib/python3.10/dist-packages (from umap-learn) (4.66.5)\n",
            "Requirement already satisfied: llvmlite<0.44,>=0.43.0dev0 in /usr/local/lib/python3.10/dist-packages (from numba>=0.51.2->umap-learn) (0.43.0)\n",
            "Requirement already satisfied: joblib>=0.11 in /usr/local/lib/python3.10/dist-packages (from pynndescent>=0.5->umap-learn) (1.4.2)\n",
            "Requirement already satisfied: threadpoolctl>=2.0.0 in /usr/local/lib/python3.10/dist-packages (from scikit-learn>=0.22->umap-learn) (3.5.0)\n"
          ]
        }
      ],
      "source": [
        "#%pip install scikit-learn==1.3.2\n",
        "#%pip install seaborn==0.13.1\n",
        "#%pip install numpy==1.26.4\n",
        "#%pip install matplotlib==3.7.1\n",
        "%pip install umap\n",
        "%pip install umap-learn"
      ]
    },
    {
      "cell_type": "code",
      "execution_count": 1,
      "metadata": {
        "id": "T8x1jAl_kqFt"
      },
      "outputs": [
        {
          "name": "stderr",
          "output_type": "stream",
          "text": [
            "c:\\Users\\Federico\\AppData\\Local\\Programs\\Python\\Python312\\Lib\\site-packages\\tqdm\\auto.py:21: TqdmWarning: IProgress not found. Please update jupyter and ipywidgets. See https://ipywidgets.readthedocs.io/en/stable/user_install.html\n",
            "  from .autonotebook import tqdm as notebook_tqdm\n"
          ]
        }
      ],
      "source": [
        "import pandas as pd\n",
        "import numpy as np\n",
        "import seaborn as sns\n",
        "\n",
        "from umap import UMAP\n",
        "import matplotlib.pyplot as plt\n",
        "from sklearn.cluster import DBSCAN\n",
        "from sklearn.ensemble import  RandomForestClassifier\n",
        "from sklearn.impute import SimpleImputer\n",
        "\n",
        "import optuna\n",
        "from optuna.visualization import plot_param_importances, plot_contour,  plot_slice, plot_optimization_history\n",
        "import pickle"
      ]
    },
    {
      "cell_type": "code",
      "execution_count": 2,
      "metadata": {
        "id": "R58qDmLYtVXk"
      },
      "outputs": [],
      "source": [
        "dataset_path = 'C:/Users/Federico/Desktop/Maestria Data mining/DM EyF/datasets/'\n",
        "dataset='competencia_01_fe.csv'\n",
        "\n",
        "base_path = 'C:/Users/Federico/Desktop/Maestria Data mining/DM EyF/'\n",
        "dataset_path = base_path + 'datasets/'\n",
        "modelos_path = base_path + 'modelos/'\n",
        "db_path = base_path + 'db/'\n",
        "\n",
        "ganancia_acierto = 273000\n",
        "costo_estimulo = 7000\n",
        "\n",
        "# agregue sus semillas\n",
        "semillas = [540079, 250829, 314299, 302111, 801007]\n",
        "\n",
        "def ganancia_prob(y_hat, y, prop=1, class_index=1, threshold=0.025):\n",
        "  @np.vectorize\n",
        "  def ganancia_row(predicted, actual, threshold=0.025):\n",
        "    return  (predicted >= threshold) * (ganancia_acierto if actual == 1 else -costo_estimulo)\n",
        "\n",
        "  return ganancia_row(y_hat[:,class_index], y).sum() / prop\n"
      ]
    },
    {
      "cell_type": "code",
      "execution_count": 3,
      "metadata": {},
      "outputs": [],
      "source": [
        "data = pd.read_csv(dataset_path + dataset)"
      ]
    },
    {
      "cell_type": "code",
      "execution_count": 4,
      "metadata": {},
      "outputs": [
        {
          "data": {
            "text/plain": [
              "(981946, 312)"
            ]
          },
          "execution_count": 4,
          "metadata": {},
          "output_type": "execute_result"
        }
      ],
      "source": [
        "df_train=data.copy()\n",
        "df_train.shape"
      ]
    },
    {
      "cell_type": "markdown",
      "metadata": {
        "id": "AEDRaksFthSF"
      },
      "source": [
        "Solo segmentaremos a los clientes de abril, dado que necesitaremos variables en algún momento agregar variables históricas para entender su comportamiento previo a la **baja**"
      ]
    },
    {
      "cell_type": "code",
      "execution_count": 5,
      "metadata": {
        "id": "MNZ1Vrg4k9r8"
      },
      "outputs": [],
      "source": [
        "# Filtro 3 meses de entrenamiento, ya que hice lag2\n",
        "mes_train = [202102,202103,202104]\n",
        "df_train = df_train[df_train['foto_mes'].isin(mes_train)]\n",
        "\n",
        "\n",
        "# df_train = df_train[df_train['foto_mes']==202104] \n",
        "# df_train.shape\n",
        "\n"
      ]
    },
    {
      "cell_type": "code",
      "execution_count": 6,
      "metadata": {},
      "outputs": [],
      "source": [
        "## elimino columnas duplicadas que se me crear al hacer merge de las distintas tablas en sql.. solucionar a futuro\n",
        "df_clean = df_train.drop(columns=['foto_mes_1', 'foto_mes_2','foto_mes_3', 'foto_mes_4','foto_mes_5', 'numero_de_cliente_1','numero_de_cliente_2','numero_de_cliente_3','numero_de_cliente_4','numero_de_cliente_5'])"
      ]
    },
    {
      "cell_type": "markdown",
      "metadata": {},
      "source": [
        "# Preparo la data para entrenar cada modelo"
      ]
    },
    {
      "cell_type": "markdown",
      "metadata": {},
      "source": [
        "### funciones generales"
      ]
    },
    {
      "cell_type": "code",
      "execution_count": 7,
      "metadata": {},
      "outputs": [],
      "source": [
        "def prepare_data(df):\n",
        "    y = df[\"clase_ternaria\"].map(lambda x: 0 if x == \"CONTINUA\" else 1)\n",
        "    X = df.drop(\"clase_ternaria\", axis=1)\n",
        "    return X, y\n",
        "\n",
        "def sample_data(X, y, sample_size=5000,seed=semillas[0]):\n",
        "\n",
        "    np.random.seed(seed)\n",
        "    continua_sample = y[y == 0].sample(sample_size).index  # Muestra aleatoria de clase 0\n",
        "    bajas_1_2 = y[y == 1].index  # Índices de clase 1\n",
        "    rf_index = continua_sample.union(bajas_1_2)  # Unión de índices\n",
        "\n",
        "    X_sample = X.loc[rf_index]  # Filtra X usando los índices seleccionados\n",
        "    y_sample = y.loc[rf_index]  # Filtra y usando los índices seleccionados\n",
        "\n",
        "    return X_sample, y_sample\n",
        "\n",
        "def train_random_forest(X, y, n_estimators=100, max_depth=10, min_samples_leaf=40, strategy='median', random_state=semillas[0]):\n",
        " \n",
        "    # Imputar valores faltantes\n",
        "    imp_mean = SimpleImputer(missing_values=np.nan, strategy=strategy)\n",
        "    X_imputed = imp_mean.fit_transform(X)\n",
        "\n",
        "    # Entrenar RandomForestClassifier\n",
        "    model = RandomForestClassifier(\n",
        "        n_estimators=n_estimators,\n",
        "        max_depth=max_depth,\n",
        "        min_samples_leaf=min_samples_leaf,\n",
        "        random_state=random_state\n",
        "    )\n",
        "    \n",
        "    model.fit(X_imputed, y)\n",
        "\n",
        "    return model, X_imputed"
      ]
    },
    {
      "cell_type": "markdown",
      "metadata": {},
      "source": [
        "Empiezo con el df con todas las variables, para poder seleccionar algunas"
      ]
    },
    {
      "cell_type": "code",
      "execution_count": 14,
      "metadata": {},
      "outputs": [],
      "source": [
        "Xtrain, ytrain = prepare_data(df_clean)"
      ]
    },
    {
      "cell_type": "code",
      "execution_count": 15,
      "metadata": {},
      "outputs": [
        {
          "data": {
            "text/plain": [
              "clase_ternaria\n",
              "0    484447\n",
              "1      5974\n",
              "Name: count, dtype: int64"
            ]
          },
          "execution_count": 15,
          "metadata": {},
          "output_type": "execute_result"
        }
      ],
      "source": [
        "ytrain.value_counts()"
      ]
    },
    {
      "cell_type": "code",
      "execution_count": 10,
      "metadata": {},
      "outputs": [],
      "source": [
        "Xtrain_rf, ytrain_rf = sample_data(Xtrain, ytrain)"
      ]
    },
    {
      "cell_type": "code",
      "execution_count": 19,
      "metadata": {},
      "outputs": [
        {
          "data": {
            "text/plain": [
              "clase_ternaria\n",
              "1    5974\n",
              "0    5000\n",
              "Name: count, dtype: int64"
            ]
          },
          "execution_count": 19,
          "metadata": {},
          "output_type": "execute_result"
        }
      ],
      "source": [
        "ytrain_rf.value_counts()"
      ]
    },
    {
      "cell_type": "code",
      "execution_count": 20,
      "metadata": {},
      "outputs": [
        {
          "data": {
            "text/plain": [
              "10974"
            ]
          },
          "execution_count": 20,
          "metadata": {},
          "output_type": "execute_result"
        }
      ],
      "source": [
        "len(ytrain_rf)"
      ]
    },
    {
      "cell_type": "code",
      "execution_count": 21,
      "metadata": {},
      "outputs": [],
      "source": [
        "model_rf, Xtrain_rf_imp = train_random_forest(Xtrain_rf, ytrain_rf)"
      ]
    },
    {
      "cell_type": "markdown",
      "metadata": {},
      "source": [
        "Miro la importancia de cada df y anoto las que mejor dan. "
      ]
    },
    {
      "cell_type": "code",
      "execution_count": 22,
      "metadata": {},
      "outputs": [
        {
          "name": "stdout",
          "output_type": "stream",
          "text": [
            "                                feature  importance\n",
            "196                  lag_1_ctrx_quarter    0.068208\n",
            "256                  avg_3_ctrx_quarter    0.062811\n",
            "107                        ctrx_quarter    0.061949\n",
            "286           percent_rank_ctrx_quarter    0.040509\n",
            "52                             mpayroll    0.039348\n",
            "200                  lag_1_cpayroll_trx    0.038539\n",
            "28                mtarjeta_visa_consumo    0.038440\n",
            "288               percent_rank_mpayroll    0.038122\n",
            "176                     m_payroll_total    0.034262\n",
            "51                         cpayroll_trx    0.032216\n",
            "18                         mcaja_ahorro    0.031072\n",
            "264                  avg_3_mcaja_ahorro    0.028426\n",
            "177                    m_cpayroll_total    0.027272\n",
            "294           percent_rank_mcaja_ahorro    0.027264\n",
            "287           percent_rank_cpayroll_trx    0.023521\n",
            "298  percent_rank_mtarjeta_visa_consumo    0.023291\n",
            "291        percent_rank_mpasivos_margen    0.021302\n",
            "204                      lag_1_mpayroll    0.016271\n",
            "11                      mpasivos_margen    0.014938\n",
            "261               avg_3_mpasivos_margen    0.014123\n",
            "174                   mtarjetas_consumo    0.013915\n",
            "268         avg_3_mtarjeta_visa_consumo    0.011658\n",
            "257                  avg_3_cpayroll_trx    0.011231\n",
            "244         lag_1_mtarjeta_visa_consumo    0.010292\n",
            "293         percent_rank_mcuentas_saldo    0.010125\n",
            "280   mcomisiones_mantenimiento_slope_3    0.009155\n",
            "216               lag_1_mpasivos_margen    0.009009\n",
            "258                      avg_3_mpayroll    0.008896\n",
            "137                    Visa_msaldototal    0.006932\n",
            "173               cant_transac_tarjetas    0.006764\n",
            "22                       mcuentas_saldo    0.006585\n",
            "81            mtransferencias_recibidas    0.006501\n",
            "166                   mpagospesos_total    0.006316\n",
            "273                    mpayroll_slope_3    0.006175\n",
            "24        ctarjeta_debito_transacciones    0.005950\n",
            "25                        mautoservicio    0.005927\n",
            "8                  mrentabilidad_annual    0.005854\n",
            "33                mprestamos_personales    0.005144\n",
            "158                   msaldopesos_total    0.005132\n",
            "147                    Visa_mpagospesos    0.004934\n",
            "27          ctarjeta_visa_transacciones    0.004887\n",
            "153                    Visa_mpagominimo    0.004651\n",
            "157                   msaldototal_total    0.004650\n",
            "169                     cconsumos_total    0.004381\n",
            "235   delta_2_mcomisiones_mantenimiento    0.004159\n",
            "228                  lag_1_mcaja_ahorro    0.004051\n",
            "171                   mpagominimo_total    0.003798\n",
            "181                   ratio_uso_credito    0.003733\n",
            "292  percent_rank_mprestamos_personales    0.003510\n",
            "265     avg_3_mcomisiones_mantenimiento    0.003280\n"
          ]
        }
      ],
      "source": [
        "def get_feature_importance(model, X, top_n=50):\n",
        "    importances = model.feature_importances_  # Obtiene la importancia de las características\n",
        "    features = X.columns  # Nombres de las características\n",
        "    feat_importances = pd.DataFrame({'feature': features, 'importance': importances})  # Crea un DataFrame\n",
        "    feat_importances = feat_importances.sort_values('importance', ascending=False)  # Ordena por importancia\n",
        "\n",
        "    return feat_importances.head(top_n)  # Devuelve las principales `top_n` características\n",
        "\n",
        "# Ejemplo de uso:\n",
        "top_features = get_feature_importance(model_rf, Xtrain_rf)\n",
        "print(top_features)\n"
      ]
    },
    {
      "cell_type": "code",
      "execution_count": 23,
      "metadata": {},
      "outputs": [],
      "source": [
        "def get_top_features(model, X, top_n=30):\n",
        "\n",
        "    importances = model.feature_importances_  # Importancia de las características\n",
        "    features = X.columns  # Nombres de las características\n",
        "    feat_importances = pd.DataFrame({'feature': features, 'importance': importances})  # Crea un DataFrame\n",
        "    feat_importances = feat_importances.sort_values('importance', ascending=False)  # Ordena por importancia\n",
        "\n",
        "    top_features = feat_importances['feature'].head(top_n).tolist()  # Obtiene los nombres de las top_n características\n",
        "\n",
        "    return top_features\n",
        "\n",
        "top_features = get_top_features(model_rf, Xtrain_rf)\n"
      ]
    },
    {
      "cell_type": "code",
      "execution_count": 24,
      "metadata": {},
      "outputs": [
        {
          "name": "stdout",
          "output_type": "stream",
          "text": [
            "['lag_1_ctrx_quarter', 'avg_3_ctrx_quarter', 'ctrx_quarter', 'percent_rank_ctrx_quarter', 'mpayroll', 'lag_1_cpayroll_trx', 'mtarjeta_visa_consumo', 'percent_rank_mpayroll', 'm_payroll_total', 'cpayroll_trx', 'mcaja_ahorro', 'avg_3_mcaja_ahorro', 'm_cpayroll_total', 'percent_rank_mcaja_ahorro', 'percent_rank_cpayroll_trx', 'percent_rank_mtarjeta_visa_consumo', 'percent_rank_mpasivos_margen', 'lag_1_mpayroll', 'mpasivos_margen', 'avg_3_mpasivos_margen', 'mtarjetas_consumo', 'avg_3_mtarjeta_visa_consumo', 'avg_3_cpayroll_trx', 'lag_1_mtarjeta_visa_consumo', 'percent_rank_mcuentas_saldo', 'mcomisiones_mantenimiento_slope_3', 'lag_1_mpasivos_margen', 'avg_3_mpayroll', 'Visa_msaldototal', 'cant_transac_tarjetas']\n"
          ]
        }
      ],
      "source": [
        "print(top_features)"
      ]
    },
    {
      "cell_type": "markdown",
      "metadata": {},
      "source": [
        "Selecciono 50 de las variables mas importantes optimizo el rf con esas"
      ]
    },
    {
      "cell_type": "code",
      "execution_count": 8,
      "metadata": {},
      "outputs": [],
      "source": [
        "df_clean = df_clean[['numero_de_cliente','lag_1_ctrx_quarter', 'avg_3_ctrx_quarter', 'ctrx_quarter', 'percent_rank_ctrx_quarter', 'mpayroll', 'lag_1_cpayroll_trx', 'mtarjeta_visa_consumo', 'percent_rank_mpayroll', 'm_payroll_total', 'cpayroll_trx', 'mcaja_ahorro', 'avg_3_mcaja_ahorro', 'm_cpayroll_total', 'percent_rank_mcaja_ahorro', 'percent_rank_cpayroll_trx', 'percent_rank_mtarjeta_visa_consumo', 'percent_rank_mpasivos_margen', 'lag_1_mpayroll', 'mpasivos_margen', 'avg_3_mpasivos_margen', 'mtarjetas_consumo', 'avg_3_mtarjeta_visa_consumo', 'avg_3_cpayroll_trx', 'lag_1_mtarjeta_visa_consumo', 'percent_rank_mcuentas_saldo', 'mcomisiones_mantenimiento_slope_3', 'lag_1_mpasivos_margen', 'avg_3_mpayroll', 'Visa_msaldototal', 'cant_transac_tarjetas','clase_ternaria']]"
      ]
    },
    {
      "cell_type": "code",
      "execution_count": 9,
      "metadata": {},
      "outputs": [
        {
          "data": {
            "text/plain": [
              "(490421, 32)"
            ]
          },
          "execution_count": 9,
          "metadata": {},
          "output_type": "execute_result"
        }
      ],
      "source": [
        "df_clean.shape"
      ]
    },
    {
      "cell_type": "markdown",
      "metadata": {},
      "source": [
        "Una vez seleccionadas las variables vuelvo a preparar todo"
      ]
    },
    {
      "cell_type": "code",
      "execution_count": 10,
      "metadata": {},
      "outputs": [],
      "source": [
        "Xtrain, ytrain = prepare_data(df_clean)\n",
        "Xtrain_rf, ytrain_rf = sample_data(Xtrain, ytrain)"
      ]
    },
    {
      "cell_type": "markdown",
      "metadata": {},
      "source": [
        "# Optimizacion del mejor modelo"
      ]
    },
    {
      "cell_type": "code",
      "execution_count": 11,
      "metadata": {},
      "outputs": [
        {
          "name": "stderr",
          "output_type": "stream",
          "text": [
            "[I 2024-09-21 15:53:26,190] Using an existing study with name 'exp_segmentacion_random-forest-opt7' instead of creating a new one.\n"
          ]
        }
      ],
      "source": [
        "imp_mean = SimpleImputer(missing_values=np.nan, strategy='median')\n",
        "Xtrain_rf_imp = imp_mean.fit_transform(Xtrain_rf)\n",
        "\n",
        "# Optimizacion extendida\n",
        "def objective(trial):\n",
        "    # Hiperparámetros adicionales\n",
        "    n_estimators = trial.suggest_int('n_estimators', 100, 500)  # Número de árboles\n",
        "    max_depth = trial.suggest_int('max_depth', 5, 20)  # Profundidad máxima del árbol\n",
        "    min_samples_split = trial.suggest_int('min_samples_split', 50, 300)  # Mínimas muestras para dividir un nodo\n",
        "    min_samples_leaf = trial.suggest_int('min_samples_leaf', 5, 200)  # Mínimas muestras por hoja\n",
        "    \n",
        "    model = RandomForestClassifier(\n",
        "        n_estimators=n_estimators,\n",
        "        max_depth=max_depth,\n",
        "        min_samples_split=min_samples_split,\n",
        "        min_samples_leaf=min_samples_leaf,\n",
        "        criterion=\"entropy\",\n",
        "        random_state=semillas[0],\n",
        "        n_jobs=-1,\n",
        "        oob_score=True  # Se mantiene para evaluar con muestras fuera de bolsa\n",
        "    )\n",
        "\n",
        "    model.fit(Xtrain_rf_imp, ytrain_rf)\n",
        "\n",
        "    return ganancia_prob(model.oob_decision_function_, ytrain_rf)\n",
        "\n",
        "storage_name = \"sqlite:///\" + db_path + \"optimization_tree_segmentacion7.db\"\n",
        "study_name = \"exp_segmentacion_random-forest-opt7\"\n",
        "\n",
        "study = optuna.create_study(\n",
        "    direction=\"maximize\",\n",
        "    study_name=study_name,\n",
        "    storage=storage_name,\n",
        "    load_if_exists=True,\n",
        ")"
      ]
    },
    {
      "cell_type": "code",
      "execution_count": 121,
      "metadata": {},
      "outputs": [
        {
          "name": "stderr",
          "output_type": "stream",
          "text": [
            "[I 2024-09-20 22:56:34,350] Trial 0 finished with value: 1598254000.0 and parameters: {'n_estimators': 189, 'max_depth': 8, 'min_samples_split': 56, 'min_samples_leaf': 120}. Best is trial 0 with value: 1598254000.0.\n",
            "[I 2024-09-20 22:56:35,508] Trial 1 finished with value: 1597316000.0 and parameters: {'n_estimators': 162, 'max_depth': 6, 'min_samples_split': 208, 'min_samples_leaf': 43}. Best is trial 0 with value: 1598254000.0.\n",
            "[I 2024-09-20 22:56:39,077] Trial 2 finished with value: 1598674000.0 and parameters: {'n_estimators': 462, 'max_depth': 13, 'min_samples_split': 62, 'min_samples_leaf': 38}. Best is trial 2 with value: 1598674000.0.\n",
            "[I 2024-09-20 22:56:40,439] Trial 3 finished with value: 1597225000.0 and parameters: {'n_estimators': 213, 'max_depth': 12, 'min_samples_split': 74, 'min_samples_leaf': 161}. Best is trial 2 with value: 1598674000.0.\n",
            "[I 2024-09-20 22:56:42,574] Trial 4 finished with value: 1597778000.0 and parameters: {'n_estimators': 365, 'max_depth': 12, 'min_samples_split': 217, 'min_samples_leaf': 153}. Best is trial 2 with value: 1598674000.0.\n",
            "[I 2024-09-20 22:56:44,152] Trial 5 finished with value: 1597799000.0 and parameters: {'n_estimators': 309, 'max_depth': 14, 'min_samples_split': 233, 'min_samples_leaf': 156}. Best is trial 2 with value: 1598674000.0.\n",
            "[I 2024-09-20 22:56:45,004] Trial 6 finished with value: 1597421000.0 and parameters: {'n_estimators': 177, 'max_depth': 18, 'min_samples_split': 149, 'min_samples_leaf': 192}. Best is trial 2 with value: 1598674000.0.\n",
            "[I 2024-09-20 22:56:46,983] Trial 7 finished with value: 1598975000.0 and parameters: {'n_estimators': 269, 'max_depth': 12, 'min_samples_split': 65, 'min_samples_leaf': 9}. Best is trial 7 with value: 1598975000.0.\n",
            "[I 2024-09-20 22:56:47,806] Trial 8 finished with value: 1596315000.0 and parameters: {'n_estimators': 162, 'max_depth': 5, 'min_samples_split': 211, 'min_samples_leaf': 150}. Best is trial 7 with value: 1598975000.0.\n",
            "[I 2024-09-20 22:56:49,879] Trial 9 finished with value: 1597932000.0 and parameters: {'n_estimators': 363, 'max_depth': 10, 'min_samples_split': 295, 'min_samples_leaf': 111}. Best is trial 7 with value: 1598975000.0.\n",
            "[I 2024-09-20 22:56:51,851] Trial 10 finished with value: 1598828000.0 and parameters: {'n_estimators': 265, 'max_depth': 20, 'min_samples_split': 125, 'min_samples_leaf': 5}. Best is trial 7 with value: 1598975000.0.\n",
            "[I 2024-09-20 22:56:53,766] Trial 11 finished with value: 1598317000.0 and parameters: {'n_estimators': 267, 'max_depth': 19, 'min_samples_split': 114, 'min_samples_leaf': 11}. Best is trial 7 with value: 1598975000.0.\n",
            "[I 2024-09-20 22:56:55,430] Trial 12 finished with value: 1598296000.0 and parameters: {'n_estimators': 270, 'max_depth': 16, 'min_samples_split': 116, 'min_samples_leaf': 63}. Best is trial 7 with value: 1598975000.0.\n",
            "[I 2024-09-20 22:56:57,857] Trial 13 finished with value: 1598898000.0 and parameters: {'n_estimators': 346, 'max_depth': 16, 'min_samples_split': 110, 'min_samples_leaf': 13}. Best is trial 7 with value: 1598975000.0.\n",
            "[I 2024-09-20 22:57:00,342] Trial 14 finished with value: 1598324000.0 and parameters: {'n_estimators': 446, 'max_depth': 16, 'min_samples_split': 99, 'min_samples_leaf': 76}. Best is trial 7 with value: 1598975000.0.\n",
            "[I 2024-09-20 22:57:02,707] Trial 15 finished with value: 1598576000.0 and parameters: {'n_estimators': 358, 'max_depth': 16, 'min_samples_split': 161, 'min_samples_leaf': 34}. Best is trial 7 with value: 1598975000.0.\n",
            "[I 2024-09-20 22:57:04,947] Trial 16 finished with value: 1598296000.0 and parameters: {'n_estimators': 394, 'max_depth': 10, 'min_samples_split': 84, 'min_samples_leaf': 80}. Best is trial 7 with value: 1598975000.0.\n",
            "[I 2024-09-20 22:57:05,754] Trial 17 finished with value: 1598121000.0 and parameters: {'n_estimators': 104, 'max_depth': 14, 'min_samples_split': 142, 'min_samples_leaf': 22}. Best is trial 7 with value: 1598975000.0.\n",
            "[I 2024-09-20 22:57:07,780] Trial 18 finished with value: 1598373000.0 and parameters: {'n_estimators': 327, 'max_depth': 10, 'min_samples_split': 185, 'min_samples_leaf': 61}. Best is trial 7 with value: 1598975000.0.\n",
            "[I 2024-09-20 22:57:10,266] Trial 19 finished with value: 1598163000.0 and parameters: {'n_estimators': 438, 'max_depth': 17, 'min_samples_split': 82, 'min_samples_leaf': 93}. Best is trial 7 with value: 1598975000.0.\n",
            "[I 2024-09-20 22:57:11,787] Trial 20 finished with value: 1598233000.0 and parameters: {'n_estimators': 230, 'max_depth': 14, 'min_samples_split': 52, 'min_samples_leaf': 56}. Best is trial 7 with value: 1598975000.0.\n",
            "[I 2024-09-20 22:57:13,864] Trial 21 finished with value: 1598730000.0 and parameters: {'n_estimators': 268, 'max_depth': 20, 'min_samples_split': 123, 'min_samples_leaf': 8}. Best is trial 7 with value: 1598975000.0.\n",
            "[I 2024-09-20 22:57:16,480] Trial 22 finished with value: 1598345000.0 and parameters: {'n_estimators': 294, 'max_depth': 19, 'min_samples_split': 102, 'min_samples_leaf': 5}. Best is trial 7 with value: 1598975000.0.\n",
            "[I 2024-09-20 22:57:19,801] Trial 23 finished with value: 1598576000.0 and parameters: {'n_estimators': 498, 'max_depth': 20, 'min_samples_split': 131, 'min_samples_leaf': 26}. Best is trial 7 with value: 1598975000.0.\n",
            "[I 2024-09-20 22:57:21,620] Trial 24 finished with value: 1597925000.0 and parameters: {'n_estimators': 233, 'max_depth': 17, 'min_samples_split': 167, 'min_samples_leaf': 21}. Best is trial 7 with value: 1598975000.0.\n",
            "[I 2024-09-20 22:57:24,253] Trial 25 finished with value: 1598541000.0 and parameters: {'n_estimators': 397, 'max_depth': 11, 'min_samples_split': 96, 'min_samples_leaf': 46}. Best is trial 7 with value: 1598975000.0.\n",
            "[I 2024-09-20 22:57:26,468] Trial 26 finished with value: 1598289000.0 and parameters: {'n_estimators': 319, 'max_depth': 15, 'min_samples_split': 186, 'min_samples_leaf': 19}. Best is trial 7 with value: 1598975000.0.\n",
            "[I 2024-09-20 22:57:28,186] Trial 27 finished with value: 1598800000.0 and parameters: {'n_estimators': 246, 'max_depth': 8, 'min_samples_split': 74, 'min_samples_leaf': 6}. Best is trial 7 with value: 1598975000.0.\n",
            "[I 2024-09-20 22:57:30,697] Trial 28 finished with value: 1598275000.0 and parameters: {'n_estimators': 339, 'max_depth': 18, 'min_samples_split': 140, 'min_samples_leaf': 31}. Best is trial 7 with value: 1598975000.0.\n",
            "[I 2024-09-20 22:57:32,060] Trial 29 finished with value: 1597722000.0 and parameters: {'n_estimators': 206, 'max_depth': 9, 'min_samples_split': 54, 'min_samples_leaf': 130}. Best is trial 7 with value: 1598975000.0.\n",
            "[I 2024-09-20 22:57:34,073] Trial 30 finished with value: 1598828000.0 and parameters: {'n_estimators': 297, 'max_depth': 13, 'min_samples_split': 107, 'min_samples_leaf': 52}. Best is trial 7 with value: 1598975000.0.\n",
            "[I 2024-09-20 22:57:36,026] Trial 31 finished with value: 1598485000.0 and parameters: {'n_estimators': 290, 'max_depth': 13, 'min_samples_split': 105, 'min_samples_leaf': 51}. Best is trial 7 with value: 1598975000.0.\n",
            "[I 2024-09-20 22:57:38,117] Trial 32 finished with value: 1598709000.0 and parameters: {'n_estimators': 289, 'max_depth': 15, 'min_samples_split': 87, 'min_samples_leaf': 38}. Best is trial 7 with value: 1598975000.0.\n",
            "[I 2024-09-20 22:57:40,138] Trial 33 finished with value: 1598191000.0 and parameters: {'n_estimators': 252, 'max_depth': 11, 'min_samples_split': 128, 'min_samples_leaf': 16}. Best is trial 7 with value: 1598975000.0.\n",
            "[I 2024-09-20 22:57:42,603] Trial 34 finished with value: 1598114000.0 and parameters: {'n_estimators': 405, 'max_depth': 13, 'min_samples_split': 74, 'min_samples_leaf': 74}. Best is trial 7 with value: 1598975000.0.\n",
            "[I 2024-09-20 22:57:43,876] Trial 35 finished with value: 1598373000.0 and parameters: {'n_estimators': 203, 'max_depth': 7, 'min_samples_split': 70, 'min_samples_leaf': 38}. Best is trial 7 with value: 1598975000.0.\n",
            "[I 2024-09-20 22:57:46,236] Trial 36 finished with value: 1598562000.0 and parameters: {'n_estimators': 344, 'max_depth': 12, 'min_samples_split': 153, 'min_samples_leaf': 28}. Best is trial 7 with value: 1598975000.0.\n",
            "[I 2024-09-20 22:57:48,303] Trial 37 finished with value: 1598590000.0 and parameters: {'n_estimators': 312, 'max_depth': 15, 'min_samples_split': 114, 'min_samples_leaf': 46}. Best is trial 7 with value: 1598975000.0.\n",
            "[I 2024-09-20 22:57:50,983] Trial 38 finished with value: 1598205000.0 and parameters: {'n_estimators': 373, 'max_depth': 11, 'min_samples_split': 273, 'min_samples_leaf': 5}. Best is trial 7 with value: 1598975000.0.\n",
            "[I 2024-09-20 22:57:51,679] Trial 39 finished with value: 1597855000.0 and parameters: {'n_estimators': 128, 'max_depth': 13, 'min_samples_split': 66, 'min_samples_leaf': 182}. Best is trial 7 with value: 1598975000.0.\n",
            "[I 2024-09-20 22:57:52,965] Trial 40 finished with value: 1598086000.0 and parameters: {'n_estimators': 184, 'max_depth': 18, 'min_samples_split': 91, 'min_samples_leaf': 93}. Best is trial 7 with value: 1598975000.0.\n",
            "[I 2024-09-20 22:57:54,777] Trial 41 finished with value: 1598947000.0 and parameters: {'n_estimators': 246, 'max_depth': 8, 'min_samples_split': 66, 'min_samples_leaf': 14}. Best is trial 7 with value: 1598975000.0.\n",
            "[I 2024-09-20 22:57:56,244] Trial 42 finished with value: 1595573000.0 and parameters: {'n_estimators': 279, 'max_depth': 5, 'min_samples_split': 108, 'min_samples_leaf': 14}. Best is trial 7 with value: 1598975000.0.\n",
            "[I 2024-09-20 22:57:57,944] Trial 43 finished with value: 1598940000.0 and parameters: {'n_estimators': 251, 'max_depth': 9, 'min_samples_split': 62, 'min_samples_leaf': 26}. Best is trial 7 with value: 1598975000.0.\n",
            "[I 2024-09-20 22:57:59,361] Trial 44 finished with value: 1598450000.0 and parameters: {'n_estimators': 225, 'max_depth': 7, 'min_samples_split': 63, 'min_samples_leaf': 17}. Best is trial 7 with value: 1598975000.0.\n",
            "[I 2024-09-20 22:58:01,201] Trial 45 finished with value: 1598898000.0 and parameters: {'n_estimators': 251, 'max_depth': 9, 'min_samples_split': 52, 'min_samples_leaf': 29}. Best is trial 7 with value: 1598975000.0.\n",
            "[I 2024-09-20 22:58:02,326] Trial 46 finished with value: 1598492000.0 and parameters: {'n_estimators': 158, 'max_depth': 9, 'min_samples_split': 51, 'min_samples_leaf': 31}. Best is trial 7 with value: 1598975000.0.\n",
            "[I 2024-09-20 22:58:03,936] Trial 47 finished with value: 1598618000.0 and parameters: {'n_estimators': 249, 'max_depth': 8, 'min_samples_split': 78, 'min_samples_leaf': 39}. Best is trial 7 with value: 1598975000.0.\n",
            "[I 2024-09-20 22:58:05,054] Trial 48 finished with value: 1597008000.0 and parameters: {'n_estimators': 210, 'max_depth': 6, 'min_samples_split': 63, 'min_samples_leaf': 128}. Best is trial 7 with value: 1598975000.0.\n",
            "[I 2024-09-20 22:58:06,283] Trial 49 finished with value: 1598065000.0 and parameters: {'n_estimators': 167, 'max_depth': 9, 'min_samples_split': 61, 'min_samples_leaf': 20}. Best is trial 7 with value: 1598975000.0.\n",
            "[I 2024-09-20 22:58:07,865] Trial 50 finished with value: 1598429000.0 and parameters: {'n_estimators': 256, 'max_depth': 7, 'min_samples_split': 88, 'min_samples_leaf': 27}. Best is trial 7 with value: 1598975000.0.\n",
            "[I 2024-09-20 22:58:10,010] Trial 51 finished with value: 1598625000.0 and parameters: {'n_estimators': 275, 'max_depth': 10, 'min_samples_split': 78, 'min_samples_leaf': 13}. Best is trial 7 with value: 1598975000.0.\n",
            "[I 2024-09-20 22:58:11,627] Trial 52 finished with value: 1599402000.0 and parameters: {'n_estimators': 237, 'max_depth': 8, 'min_samples_split': 58, 'min_samples_leaf': 12}. Best is trial 52 with value: 1599402000.0.\n",
            "[I 2024-09-20 22:58:12,960] Trial 53 finished with value: 1597624000.0 and parameters: {'n_estimators': 238, 'max_depth': 6, 'min_samples_split': 51, 'min_samples_leaf': 68}. Best is trial 52 with value: 1599402000.0.\n",
            "[I 2024-09-20 22:58:14,478] Trial 54 finished with value: 1599101000.0 and parameters: {'n_estimators': 219, 'max_depth': 9, 'min_samples_split': 61, 'min_samples_leaf': 24}. Best is trial 52 with value: 1599402000.0.\n",
            "[I 2024-09-20 22:58:16,082] Trial 55 finished with value: 1599290000.0 and parameters: {'n_estimators': 227, 'max_depth': 8, 'min_samples_split': 67, 'min_samples_leaf': 12}. Best is trial 52 with value: 1599402000.0.\n",
            "[I 2024-09-20 22:58:17,582] Trial 56 finished with value: 1598982000.0 and parameters: {'n_estimators': 222, 'max_depth': 8, 'min_samples_split': 68, 'min_samples_leaf': 23}. Best is trial 52 with value: 1599402000.0.\n",
            "[I 2024-09-20 22:58:19,105] Trial 57 finished with value: 1598317000.0 and parameters: {'n_estimators': 219, 'max_depth': 8, 'min_samples_split': 94, 'min_samples_leaf': 12}. Best is trial 52 with value: 1599402000.0.\n",
            "[I 2024-09-20 22:58:20,357] Trial 58 finished with value: 1598289000.0 and parameters: {'n_estimators': 190, 'max_depth': 8, 'min_samples_split': 243, 'min_samples_leaf': 36}. Best is trial 52 with value: 1599402000.0.\n",
            "[I 2024-09-20 22:58:21,581] Trial 59 finished with value: 1597582000.0 and parameters: {'n_estimators': 197, 'max_depth': 6, 'min_samples_split': 73, 'min_samples_leaf': 43}. Best is trial 52 with value: 1599402000.0.\n",
            "[I 2024-09-20 22:58:22,562] Trial 60 finished with value: 1598219000.0 and parameters: {'n_estimators': 150, 'max_depth': 7, 'min_samples_split': 87, 'min_samples_leaf': 21}. Best is trial 52 with value: 1599402000.0.\n",
            "[I 2024-09-20 22:58:24,398] Trial 61 finished with value: 1598933000.0 and parameters: {'n_estimators': 222, 'max_depth': 10, 'min_samples_split': 60, 'min_samples_leaf': 11}. Best is trial 52 with value: 1599402000.0.\n",
            "[I 2024-09-20 22:58:26,179] Trial 62 finished with value: 1598583000.0 and parameters: {'n_estimators': 239, 'max_depth': 9, 'min_samples_split': 66, 'min_samples_leaf': 26}. Best is trial 52 with value: 1599402000.0.\n",
            "[I 2024-09-20 22:58:28,146] Trial 63 finished with value: 1598835000.0 and parameters: {'n_estimators': 259, 'max_depth': 10, 'min_samples_split': 82, 'min_samples_leaf': 24}. Best is trial 52 with value: 1599402000.0.\n",
            "[I 2024-09-20 22:58:29,637] Trial 64 finished with value: 1598947000.0 and parameters: {'n_estimators': 212, 'max_depth': 8, 'min_samples_split': 59, 'min_samples_leaf': 18}. Best is trial 52 with value: 1599402000.0.\n",
            "[I 2024-09-20 22:58:31,208] Trial 65 finished with value: 1599395000.0 and parameters: {'n_estimators': 213, 'max_depth': 8, 'min_samples_split': 67, 'min_samples_leaf': 5}. Best is trial 52 with value: 1599402000.0.\n",
            "[I 2024-09-20 22:58:32,416] Trial 66 finished with value: 1598037000.0 and parameters: {'n_estimators': 180, 'max_depth': 7, 'min_samples_split': 70, 'min_samples_leaf': 5}. Best is trial 52 with value: 1599402000.0.\n",
            "[I 2024-09-20 22:58:33,673] Trial 67 finished with value: 1595468000.0 and parameters: {'n_estimators': 226, 'max_depth': 5, 'min_samples_split': 97, 'min_samples_leaf': 13}. Best is trial 52 with value: 1599402000.0.\n",
            "[I 2024-09-20 22:58:34,689] Trial 68 finished with value: 1597596000.0 and parameters: {'n_estimators': 195, 'max_depth': 8, 'min_samples_split': 78, 'min_samples_leaf': 144}. Best is trial 52 with value: 1599402000.0.\n",
            "[I 2024-09-20 22:58:36,796] Trial 69 finished with value: 1598401000.0 and parameters: {'n_estimators': 277, 'max_depth': 11, 'min_samples_split': 70, 'min_samples_leaf': 10}. Best is trial 52 with value: 1599402000.0.\n",
            "[I 2024-09-20 22:58:38,122] Trial 70 finished with value: 1597505000.0 and parameters: {'n_estimators': 236, 'max_depth': 7, 'min_samples_split': 50, 'min_samples_leaf': 107}. Best is trial 52 with value: 1599402000.0.\n",
            "[I 2024-09-20 22:58:39,595] Trial 71 finished with value: 1598758000.0 and parameters: {'n_estimators': 212, 'max_depth': 8, 'min_samples_split': 56, 'min_samples_leaf': 18}. Best is trial 52 with value: 1599402000.0.\n",
            "[I 2024-09-20 22:58:40,830] Trial 72 finished with value: 1598870000.0 and parameters: {'n_estimators': 169, 'max_depth': 8, 'min_samples_split': 58, 'min_samples_leaf': 20}. Best is trial 52 with value: 1599402000.0.\n",
            "[I 2024-09-20 22:58:42,325] Trial 73 finished with value: 1598492000.0 and parameters: {'n_estimators': 207, 'max_depth': 9, 'min_samples_split': 79, 'min_samples_leaf': 34}. Best is trial 52 with value: 1599402000.0.\n",
            "[I 2024-09-20 22:58:44,145] Trial 74 finished with value: 1598863000.0 and parameters: {'n_estimators': 263, 'max_depth': 8, 'min_samples_split': 85, 'min_samples_leaf': 8}. Best is trial 52 with value: 1599402000.0.\n",
            "[I 2024-09-20 22:58:45,539] Trial 75 finished with value: 1598485000.0 and parameters: {'n_estimators': 216, 'max_depth': 7, 'min_samples_split': 68, 'min_samples_leaf': 16}. Best is trial 52 with value: 1599402000.0.\n",
            "[I 2024-09-20 22:58:46,944] Trial 76 finished with value: 1597484000.0 and parameters: {'n_estimators': 240, 'max_depth': 6, 'min_samples_split': 58, 'min_samples_leaf': 32}. Best is trial 52 with value: 1599402000.0.\n",
            "[I 2024-09-20 22:58:47,977] Trial 77 finished with value: 1598310000.0 and parameters: {'n_estimators': 142, 'max_depth': 9, 'min_samples_split': 200, 'min_samples_leaf': 5}. Best is trial 52 with value: 1599402000.0.\n",
            "[I 2024-09-20 22:58:49,889] Trial 78 finished with value: 1598198000.0 and parameters: {'n_estimators': 303, 'max_depth': 10, 'min_samples_split': 120, 'min_samples_leaf': 46}. Best is trial 52 with value: 1599402000.0.\n",
            "[I 2024-09-20 22:58:51,338] Trial 79 finished with value: 1598170000.0 and parameters: {'n_estimators': 228, 'max_depth': 7, 'min_samples_split': 74, 'min_samples_leaf': 23}. Best is trial 52 with value: 1599402000.0.\n",
            "[I 2024-09-20 22:58:52,687] Trial 80 finished with value: 1598520000.0 and parameters: {'n_estimators': 199, 'max_depth': 12, 'min_samples_split': 103, 'min_samples_leaf': 55}. Best is trial 52 with value: 1599402000.0.\n",
            "[I 2024-09-20 22:58:54,621] Trial 81 finished with value: 1598877000.0 and parameters: {'n_estimators': 283, 'max_depth': 9, 'min_samples_split': 61, 'min_samples_leaf': 24}. Best is trial 52 with value: 1599402000.0.\n",
            "[I 2024-09-20 22:58:56,446] Trial 82 finished with value: 1599227000.0 and parameters: {'n_estimators': 262, 'max_depth': 8, 'min_samples_split': 67, 'min_samples_leaf': 15}. Best is trial 52 with value: 1599402000.0.\n",
            "[I 2024-09-20 22:58:58,265] Trial 83 finished with value: 1599241000.0 and parameters: {'n_estimators': 269, 'max_depth': 8, 'min_samples_split': 68, 'min_samples_leaf': 15}. Best is trial 52 with value: 1599402000.0.\n",
            "[I 2024-09-20 22:59:00,093] Trial 84 finished with value: 1599178000.0 and parameters: {'n_estimators': 268, 'max_depth': 8, 'min_samples_split': 90, 'min_samples_leaf': 11}. Best is trial 52 with value: 1599402000.0.\n",
            "[I 2024-09-20 22:59:01,847] Trial 85 finished with value: 1598723000.0 and parameters: {'n_estimators': 269, 'max_depth': 8, 'min_samples_split': 91, 'min_samples_leaf': 8}. Best is trial 52 with value: 1599402000.0.\n",
            "[I 2024-09-20 22:59:03,617] Trial 86 finished with value: 1598611000.0 and parameters: {'n_estimators': 287, 'max_depth': 7, 'min_samples_split': 82, 'min_samples_leaf': 9}. Best is trial 52 with value: 1599402000.0.\n",
            "[I 2024-09-20 22:59:05,275] Trial 87 finished with value: 1597435000.0 and parameters: {'n_estimators': 318, 'max_depth': 9, 'min_samples_split': 74, 'min_samples_leaf': 200}. Best is trial 52 with value: 1599402000.0.\n",
            "[I 2024-09-20 22:59:07,257] Trial 88 finished with value: 1598492000.0 and parameters: {'n_estimators': 262, 'max_depth': 10, 'min_samples_split': 100, 'min_samples_leaf': 16}. Best is trial 52 with value: 1599402000.0.\n",
            "[I 2024-09-20 22:59:09,026] Trial 89 finished with value: 1597491000.0 and parameters: {'n_estimators': 301, 'max_depth': 6, 'min_samples_split': 68, 'min_samples_leaf': 40}. Best is trial 52 with value: 1599402000.0.\n",
            "[I 2024-09-20 22:59:11,239] Trial 90 finished with value: 1598639000.0 and parameters: {'n_estimators': 332, 'max_depth': 8, 'min_samples_split': 50, 'min_samples_leaf': 30}. Best is trial 52 with value: 1599402000.0.\n",
            "[I 2024-09-20 22:59:12,986] Trial 91 finished with value: 1598954000.0 and parameters: {'n_estimators': 250, 'max_depth': 8, 'min_samples_split': 66, 'min_samples_leaf': 11}. Best is trial 52 with value: 1599402000.0.\n",
            "[I 2024-09-20 22:59:14,597] Trial 92 finished with value: 1598520000.0 and parameters: {'n_estimators': 245, 'max_depth': 7, 'min_samples_split': 74, 'min_samples_leaf': 11}. Best is trial 52 with value: 1599402000.0.\n",
            "[I 2024-09-20 22:59:16,610] Trial 93 finished with value: 1598968000.0 and parameters: {'n_estimators': 271, 'max_depth': 9, 'min_samples_split': 57, 'min_samples_leaf': 15}. Best is trial 52 with value: 1599402000.0.\n",
            "[I 2024-09-20 22:59:18,790] Trial 94 finished with value: 1599325000.0 and parameters: {'n_estimators': 272, 'max_depth': 9, 'min_samples_split': 54, 'min_samples_leaf': 22}. Best is trial 52 with value: 1599402000.0.\n",
            "[I 2024-09-20 22:59:20,042] Trial 95 finished with value: 1597204000.0 and parameters: {'n_estimators': 233, 'max_depth': 9, 'min_samples_split': 80, 'min_samples_leaf': 172}. Best is trial 52 with value: 1599402000.0.\n",
            "[I 2024-09-20 22:59:22,377] Trial 96 finished with value: 1599255000.0 and parameters: {'n_estimators': 292, 'max_depth': 11, 'min_samples_split': 56, 'min_samples_leaf': 23}. Best is trial 52 with value: 1599402000.0.\n",
            "[I 2024-09-20 22:59:24,591] Trial 97 finished with value: 1598352000.0 and parameters: {'n_estimators': 293, 'max_depth': 11, 'min_samples_split': 54, 'min_samples_leaf': 22}. Best is trial 52 with value: 1599402000.0.\n",
            "[I 2024-09-20 22:59:26,725] Trial 98 finished with value: 1598625000.0 and parameters: {'n_estimators': 308, 'max_depth': 8, 'min_samples_split': 64, 'min_samples_leaf': 35}. Best is trial 52 with value: 1599402000.0.\n",
            "[I 2024-09-20 22:59:28,890] Trial 99 finished with value: 1598891000.0 and parameters: {'n_estimators': 260, 'max_depth': 10, 'min_samples_split': 90, 'min_samples_leaf': 29}. Best is trial 52 with value: 1599402000.0.\n"
          ]
        }
      ],
      "source": [
        "study.optimize(objective,n_trials=100)"
      ]
    },
    {
      "cell_type": "code",
      "execution_count": 12,
      "metadata": {},
      "outputs": [
        {
          "data": {
            "application/vnd.plotly.v1+json": {
              "config": {
                "plotlyServerURL": "https://plot.ly"
              },
              "data": [
                {
                  "mode": "markers",
                  "name": "Objective Value",
                  "type": "scatter",
                  "x": [
                    0,
                    1,
                    2,
                    3,
                    4,
                    5,
                    6,
                    7,
                    8,
                    9,
                    10,
                    11,
                    12,
                    13,
                    14,
                    15,
                    16,
                    17,
                    18,
                    19,
                    20,
                    21,
                    22,
                    23,
                    24,
                    25,
                    26,
                    27,
                    28,
                    29,
                    30,
                    31,
                    32,
                    33,
                    34,
                    35,
                    36,
                    37,
                    38,
                    39,
                    40,
                    41,
                    42,
                    43,
                    44,
                    45,
                    46,
                    47,
                    48,
                    49,
                    50,
                    51,
                    52,
                    53,
                    54,
                    55,
                    56,
                    57,
                    58,
                    59,
                    60,
                    61,
                    62,
                    63,
                    64,
                    65,
                    66,
                    67,
                    68,
                    69,
                    70,
                    71,
                    72,
                    73,
                    74,
                    75,
                    76,
                    77,
                    78,
                    79,
                    80,
                    81,
                    82,
                    83,
                    84,
                    85,
                    86,
                    87,
                    88,
                    89,
                    90,
                    91,
                    92,
                    93,
                    94,
                    95,
                    96,
                    97,
                    98,
                    99
                  ],
                  "y": [
                    1598254000,
                    1597316000,
                    1598674000,
                    1597225000,
                    1597778000,
                    1597799000,
                    1597421000,
                    1598975000,
                    1596315000,
                    1597932000,
                    1598828000,
                    1598317000,
                    1598296000,
                    1598898000,
                    1598324000,
                    1598576000,
                    1598296000,
                    1598121000,
                    1598373000,
                    1598163000,
                    1598233000,
                    1598730000,
                    1598345000,
                    1598576000,
                    1597925000,
                    1598541000,
                    1598289000,
                    1598800000,
                    1598275000,
                    1597722000,
                    1598828000,
                    1598485000,
                    1598709000,
                    1598191000,
                    1598114000,
                    1598373000,
                    1598562000,
                    1598590000,
                    1598205000,
                    1597855000,
                    1598086000,
                    1598947000,
                    1595573000,
                    1598940000,
                    1598450000,
                    1598898000,
                    1598492000,
                    1598618000,
                    1597008000,
                    1598065000,
                    1598429000,
                    1598625000,
                    1599402000,
                    1597624000,
                    1599101000,
                    1599290000,
                    1598982000,
                    1598317000,
                    1598289000,
                    1597582000,
                    1598219000,
                    1598933000,
                    1598583000,
                    1598835000,
                    1598947000,
                    1599395000,
                    1598037000,
                    1595468000,
                    1597596000,
                    1598401000,
                    1597505000,
                    1598758000,
                    1598870000,
                    1598492000,
                    1598863000,
                    1598485000,
                    1597484000,
                    1598310000,
                    1598198000,
                    1598170000,
                    1598520000,
                    1598877000,
                    1599227000,
                    1599241000,
                    1599178000,
                    1598723000,
                    1598611000,
                    1597435000,
                    1598492000,
                    1597491000,
                    1598639000,
                    1598954000,
                    1598520000,
                    1598968000,
                    1599325000,
                    1597204000,
                    1599255000,
                    1598352000,
                    1598625000,
                    1598891000
                  ]
                },
                {
                  "mode": "lines",
                  "name": "Best Value",
                  "type": "scatter",
                  "x": [
                    0,
                    1,
                    2,
                    3,
                    4,
                    5,
                    6,
                    7,
                    8,
                    9,
                    10,
                    11,
                    12,
                    13,
                    14,
                    15,
                    16,
                    17,
                    18,
                    19,
                    20,
                    21,
                    22,
                    23,
                    24,
                    25,
                    26,
                    27,
                    28,
                    29,
                    30,
                    31,
                    32,
                    33,
                    34,
                    35,
                    36,
                    37,
                    38,
                    39,
                    40,
                    41,
                    42,
                    43,
                    44,
                    45,
                    46,
                    47,
                    48,
                    49,
                    50,
                    51,
                    52,
                    53,
                    54,
                    55,
                    56,
                    57,
                    58,
                    59,
                    60,
                    61,
                    62,
                    63,
                    64,
                    65,
                    66,
                    67,
                    68,
                    69,
                    70,
                    71,
                    72,
                    73,
                    74,
                    75,
                    76,
                    77,
                    78,
                    79,
                    80,
                    81,
                    82,
                    83,
                    84,
                    85,
                    86,
                    87,
                    88,
                    89,
                    90,
                    91,
                    92,
                    93,
                    94,
                    95,
                    96,
                    97,
                    98,
                    99
                  ],
                  "y": [
                    1598254000,
                    1598254000,
                    1598674000,
                    1598674000,
                    1598674000,
                    1598674000,
                    1598674000,
                    1598975000,
                    1598975000,
                    1598975000,
                    1598975000,
                    1598975000,
                    1598975000,
                    1598975000,
                    1598975000,
                    1598975000,
                    1598975000,
                    1598975000,
                    1598975000,
                    1598975000,
                    1598975000,
                    1598975000,
                    1598975000,
                    1598975000,
                    1598975000,
                    1598975000,
                    1598975000,
                    1598975000,
                    1598975000,
                    1598975000,
                    1598975000,
                    1598975000,
                    1598975000,
                    1598975000,
                    1598975000,
                    1598975000,
                    1598975000,
                    1598975000,
                    1598975000,
                    1598975000,
                    1598975000,
                    1598975000,
                    1598975000,
                    1598975000,
                    1598975000,
                    1598975000,
                    1598975000,
                    1598975000,
                    1598975000,
                    1598975000,
                    1598975000,
                    1598975000,
                    1599402000,
                    1599402000,
                    1599402000,
                    1599402000,
                    1599402000,
                    1599402000,
                    1599402000,
                    1599402000,
                    1599402000,
                    1599402000,
                    1599402000,
                    1599402000,
                    1599402000,
                    1599402000,
                    1599402000,
                    1599402000,
                    1599402000,
                    1599402000,
                    1599402000,
                    1599402000,
                    1599402000,
                    1599402000,
                    1599402000,
                    1599402000,
                    1599402000,
                    1599402000,
                    1599402000,
                    1599402000,
                    1599402000,
                    1599402000,
                    1599402000,
                    1599402000,
                    1599402000,
                    1599402000,
                    1599402000,
                    1599402000,
                    1599402000,
                    1599402000,
                    1599402000,
                    1599402000,
                    1599402000,
                    1599402000,
                    1599402000,
                    1599402000,
                    1599402000,
                    1599402000,
                    1599402000,
                    1599402000
                  ]
                },
                {
                  "marker": {
                    "color": "#cccccc"
                  },
                  "mode": "markers",
                  "name": "Infeasible Trial",
                  "showlegend": false,
                  "type": "scatter",
                  "x": [],
                  "y": []
                }
              ],
              "layout": {
                "template": {
                  "data": {
                    "bar": [
                      {
                        "error_x": {
                          "color": "#2a3f5f"
                        },
                        "error_y": {
                          "color": "#2a3f5f"
                        },
                        "marker": {
                          "line": {
                            "color": "#E5ECF6",
                            "width": 0.5
                          },
                          "pattern": {
                            "fillmode": "overlay",
                            "size": 10,
                            "solidity": 0.2
                          }
                        },
                        "type": "bar"
                      }
                    ],
                    "barpolar": [
                      {
                        "marker": {
                          "line": {
                            "color": "#E5ECF6",
                            "width": 0.5
                          },
                          "pattern": {
                            "fillmode": "overlay",
                            "size": 10,
                            "solidity": 0.2
                          }
                        },
                        "type": "barpolar"
                      }
                    ],
                    "carpet": [
                      {
                        "aaxis": {
                          "endlinecolor": "#2a3f5f",
                          "gridcolor": "white",
                          "linecolor": "white",
                          "minorgridcolor": "white",
                          "startlinecolor": "#2a3f5f"
                        },
                        "baxis": {
                          "endlinecolor": "#2a3f5f",
                          "gridcolor": "white",
                          "linecolor": "white",
                          "minorgridcolor": "white",
                          "startlinecolor": "#2a3f5f"
                        },
                        "type": "carpet"
                      }
                    ],
                    "choropleth": [
                      {
                        "colorbar": {
                          "outlinewidth": 0,
                          "ticks": ""
                        },
                        "type": "choropleth"
                      }
                    ],
                    "contour": [
                      {
                        "colorbar": {
                          "outlinewidth": 0,
                          "ticks": ""
                        },
                        "colorscale": [
                          [
                            0,
                            "#0d0887"
                          ],
                          [
                            0.1111111111111111,
                            "#46039f"
                          ],
                          [
                            0.2222222222222222,
                            "#7201a8"
                          ],
                          [
                            0.3333333333333333,
                            "#9c179e"
                          ],
                          [
                            0.4444444444444444,
                            "#bd3786"
                          ],
                          [
                            0.5555555555555556,
                            "#d8576b"
                          ],
                          [
                            0.6666666666666666,
                            "#ed7953"
                          ],
                          [
                            0.7777777777777778,
                            "#fb9f3a"
                          ],
                          [
                            0.8888888888888888,
                            "#fdca26"
                          ],
                          [
                            1,
                            "#f0f921"
                          ]
                        ],
                        "type": "contour"
                      }
                    ],
                    "contourcarpet": [
                      {
                        "colorbar": {
                          "outlinewidth": 0,
                          "ticks": ""
                        },
                        "type": "contourcarpet"
                      }
                    ],
                    "heatmap": [
                      {
                        "colorbar": {
                          "outlinewidth": 0,
                          "ticks": ""
                        },
                        "colorscale": [
                          [
                            0,
                            "#0d0887"
                          ],
                          [
                            0.1111111111111111,
                            "#46039f"
                          ],
                          [
                            0.2222222222222222,
                            "#7201a8"
                          ],
                          [
                            0.3333333333333333,
                            "#9c179e"
                          ],
                          [
                            0.4444444444444444,
                            "#bd3786"
                          ],
                          [
                            0.5555555555555556,
                            "#d8576b"
                          ],
                          [
                            0.6666666666666666,
                            "#ed7953"
                          ],
                          [
                            0.7777777777777778,
                            "#fb9f3a"
                          ],
                          [
                            0.8888888888888888,
                            "#fdca26"
                          ],
                          [
                            1,
                            "#f0f921"
                          ]
                        ],
                        "type": "heatmap"
                      }
                    ],
                    "heatmapgl": [
                      {
                        "colorbar": {
                          "outlinewidth": 0,
                          "ticks": ""
                        },
                        "colorscale": [
                          [
                            0,
                            "#0d0887"
                          ],
                          [
                            0.1111111111111111,
                            "#46039f"
                          ],
                          [
                            0.2222222222222222,
                            "#7201a8"
                          ],
                          [
                            0.3333333333333333,
                            "#9c179e"
                          ],
                          [
                            0.4444444444444444,
                            "#bd3786"
                          ],
                          [
                            0.5555555555555556,
                            "#d8576b"
                          ],
                          [
                            0.6666666666666666,
                            "#ed7953"
                          ],
                          [
                            0.7777777777777778,
                            "#fb9f3a"
                          ],
                          [
                            0.8888888888888888,
                            "#fdca26"
                          ],
                          [
                            1,
                            "#f0f921"
                          ]
                        ],
                        "type": "heatmapgl"
                      }
                    ],
                    "histogram": [
                      {
                        "marker": {
                          "pattern": {
                            "fillmode": "overlay",
                            "size": 10,
                            "solidity": 0.2
                          }
                        },
                        "type": "histogram"
                      }
                    ],
                    "histogram2d": [
                      {
                        "colorbar": {
                          "outlinewidth": 0,
                          "ticks": ""
                        },
                        "colorscale": [
                          [
                            0,
                            "#0d0887"
                          ],
                          [
                            0.1111111111111111,
                            "#46039f"
                          ],
                          [
                            0.2222222222222222,
                            "#7201a8"
                          ],
                          [
                            0.3333333333333333,
                            "#9c179e"
                          ],
                          [
                            0.4444444444444444,
                            "#bd3786"
                          ],
                          [
                            0.5555555555555556,
                            "#d8576b"
                          ],
                          [
                            0.6666666666666666,
                            "#ed7953"
                          ],
                          [
                            0.7777777777777778,
                            "#fb9f3a"
                          ],
                          [
                            0.8888888888888888,
                            "#fdca26"
                          ],
                          [
                            1,
                            "#f0f921"
                          ]
                        ],
                        "type": "histogram2d"
                      }
                    ],
                    "histogram2dcontour": [
                      {
                        "colorbar": {
                          "outlinewidth": 0,
                          "ticks": ""
                        },
                        "colorscale": [
                          [
                            0,
                            "#0d0887"
                          ],
                          [
                            0.1111111111111111,
                            "#46039f"
                          ],
                          [
                            0.2222222222222222,
                            "#7201a8"
                          ],
                          [
                            0.3333333333333333,
                            "#9c179e"
                          ],
                          [
                            0.4444444444444444,
                            "#bd3786"
                          ],
                          [
                            0.5555555555555556,
                            "#d8576b"
                          ],
                          [
                            0.6666666666666666,
                            "#ed7953"
                          ],
                          [
                            0.7777777777777778,
                            "#fb9f3a"
                          ],
                          [
                            0.8888888888888888,
                            "#fdca26"
                          ],
                          [
                            1,
                            "#f0f921"
                          ]
                        ],
                        "type": "histogram2dcontour"
                      }
                    ],
                    "mesh3d": [
                      {
                        "colorbar": {
                          "outlinewidth": 0,
                          "ticks": ""
                        },
                        "type": "mesh3d"
                      }
                    ],
                    "parcoords": [
                      {
                        "line": {
                          "colorbar": {
                            "outlinewidth": 0,
                            "ticks": ""
                          }
                        },
                        "type": "parcoords"
                      }
                    ],
                    "pie": [
                      {
                        "automargin": true,
                        "type": "pie"
                      }
                    ],
                    "scatter": [
                      {
                        "fillpattern": {
                          "fillmode": "overlay",
                          "size": 10,
                          "solidity": 0.2
                        },
                        "type": "scatter"
                      }
                    ],
                    "scatter3d": [
                      {
                        "line": {
                          "colorbar": {
                            "outlinewidth": 0,
                            "ticks": ""
                          }
                        },
                        "marker": {
                          "colorbar": {
                            "outlinewidth": 0,
                            "ticks": ""
                          }
                        },
                        "type": "scatter3d"
                      }
                    ],
                    "scattercarpet": [
                      {
                        "marker": {
                          "colorbar": {
                            "outlinewidth": 0,
                            "ticks": ""
                          }
                        },
                        "type": "scattercarpet"
                      }
                    ],
                    "scattergeo": [
                      {
                        "marker": {
                          "colorbar": {
                            "outlinewidth": 0,
                            "ticks": ""
                          }
                        },
                        "type": "scattergeo"
                      }
                    ],
                    "scattergl": [
                      {
                        "marker": {
                          "colorbar": {
                            "outlinewidth": 0,
                            "ticks": ""
                          }
                        },
                        "type": "scattergl"
                      }
                    ],
                    "scattermapbox": [
                      {
                        "marker": {
                          "colorbar": {
                            "outlinewidth": 0,
                            "ticks": ""
                          }
                        },
                        "type": "scattermapbox"
                      }
                    ],
                    "scatterpolar": [
                      {
                        "marker": {
                          "colorbar": {
                            "outlinewidth": 0,
                            "ticks": ""
                          }
                        },
                        "type": "scatterpolar"
                      }
                    ],
                    "scatterpolargl": [
                      {
                        "marker": {
                          "colorbar": {
                            "outlinewidth": 0,
                            "ticks": ""
                          }
                        },
                        "type": "scatterpolargl"
                      }
                    ],
                    "scatterternary": [
                      {
                        "marker": {
                          "colorbar": {
                            "outlinewidth": 0,
                            "ticks": ""
                          }
                        },
                        "type": "scatterternary"
                      }
                    ],
                    "surface": [
                      {
                        "colorbar": {
                          "outlinewidth": 0,
                          "ticks": ""
                        },
                        "colorscale": [
                          [
                            0,
                            "#0d0887"
                          ],
                          [
                            0.1111111111111111,
                            "#46039f"
                          ],
                          [
                            0.2222222222222222,
                            "#7201a8"
                          ],
                          [
                            0.3333333333333333,
                            "#9c179e"
                          ],
                          [
                            0.4444444444444444,
                            "#bd3786"
                          ],
                          [
                            0.5555555555555556,
                            "#d8576b"
                          ],
                          [
                            0.6666666666666666,
                            "#ed7953"
                          ],
                          [
                            0.7777777777777778,
                            "#fb9f3a"
                          ],
                          [
                            0.8888888888888888,
                            "#fdca26"
                          ],
                          [
                            1,
                            "#f0f921"
                          ]
                        ],
                        "type": "surface"
                      }
                    ],
                    "table": [
                      {
                        "cells": {
                          "fill": {
                            "color": "#EBF0F8"
                          },
                          "line": {
                            "color": "white"
                          }
                        },
                        "header": {
                          "fill": {
                            "color": "#C8D4E3"
                          },
                          "line": {
                            "color": "white"
                          }
                        },
                        "type": "table"
                      }
                    ]
                  },
                  "layout": {
                    "annotationdefaults": {
                      "arrowcolor": "#2a3f5f",
                      "arrowhead": 0,
                      "arrowwidth": 1
                    },
                    "autotypenumbers": "strict",
                    "coloraxis": {
                      "colorbar": {
                        "outlinewidth": 0,
                        "ticks": ""
                      }
                    },
                    "colorscale": {
                      "diverging": [
                        [
                          0,
                          "#8e0152"
                        ],
                        [
                          0.1,
                          "#c51b7d"
                        ],
                        [
                          0.2,
                          "#de77ae"
                        ],
                        [
                          0.3,
                          "#f1b6da"
                        ],
                        [
                          0.4,
                          "#fde0ef"
                        ],
                        [
                          0.5,
                          "#f7f7f7"
                        ],
                        [
                          0.6,
                          "#e6f5d0"
                        ],
                        [
                          0.7,
                          "#b8e186"
                        ],
                        [
                          0.8,
                          "#7fbc41"
                        ],
                        [
                          0.9,
                          "#4d9221"
                        ],
                        [
                          1,
                          "#276419"
                        ]
                      ],
                      "sequential": [
                        [
                          0,
                          "#0d0887"
                        ],
                        [
                          0.1111111111111111,
                          "#46039f"
                        ],
                        [
                          0.2222222222222222,
                          "#7201a8"
                        ],
                        [
                          0.3333333333333333,
                          "#9c179e"
                        ],
                        [
                          0.4444444444444444,
                          "#bd3786"
                        ],
                        [
                          0.5555555555555556,
                          "#d8576b"
                        ],
                        [
                          0.6666666666666666,
                          "#ed7953"
                        ],
                        [
                          0.7777777777777778,
                          "#fb9f3a"
                        ],
                        [
                          0.8888888888888888,
                          "#fdca26"
                        ],
                        [
                          1,
                          "#f0f921"
                        ]
                      ],
                      "sequentialminus": [
                        [
                          0,
                          "#0d0887"
                        ],
                        [
                          0.1111111111111111,
                          "#46039f"
                        ],
                        [
                          0.2222222222222222,
                          "#7201a8"
                        ],
                        [
                          0.3333333333333333,
                          "#9c179e"
                        ],
                        [
                          0.4444444444444444,
                          "#bd3786"
                        ],
                        [
                          0.5555555555555556,
                          "#d8576b"
                        ],
                        [
                          0.6666666666666666,
                          "#ed7953"
                        ],
                        [
                          0.7777777777777778,
                          "#fb9f3a"
                        ],
                        [
                          0.8888888888888888,
                          "#fdca26"
                        ],
                        [
                          1,
                          "#f0f921"
                        ]
                      ]
                    },
                    "colorway": [
                      "#636efa",
                      "#EF553B",
                      "#00cc96",
                      "#ab63fa",
                      "#FFA15A",
                      "#19d3f3",
                      "#FF6692",
                      "#B6E880",
                      "#FF97FF",
                      "#FECB52"
                    ],
                    "font": {
                      "color": "#2a3f5f"
                    },
                    "geo": {
                      "bgcolor": "white",
                      "lakecolor": "white",
                      "landcolor": "#E5ECF6",
                      "showlakes": true,
                      "showland": true,
                      "subunitcolor": "white"
                    },
                    "hoverlabel": {
                      "align": "left"
                    },
                    "hovermode": "closest",
                    "mapbox": {
                      "style": "light"
                    },
                    "paper_bgcolor": "white",
                    "plot_bgcolor": "#E5ECF6",
                    "polar": {
                      "angularaxis": {
                        "gridcolor": "white",
                        "linecolor": "white",
                        "ticks": ""
                      },
                      "bgcolor": "#E5ECF6",
                      "radialaxis": {
                        "gridcolor": "white",
                        "linecolor": "white",
                        "ticks": ""
                      }
                    },
                    "scene": {
                      "xaxis": {
                        "backgroundcolor": "#E5ECF6",
                        "gridcolor": "white",
                        "gridwidth": 2,
                        "linecolor": "white",
                        "showbackground": true,
                        "ticks": "",
                        "zerolinecolor": "white"
                      },
                      "yaxis": {
                        "backgroundcolor": "#E5ECF6",
                        "gridcolor": "white",
                        "gridwidth": 2,
                        "linecolor": "white",
                        "showbackground": true,
                        "ticks": "",
                        "zerolinecolor": "white"
                      },
                      "zaxis": {
                        "backgroundcolor": "#E5ECF6",
                        "gridcolor": "white",
                        "gridwidth": 2,
                        "linecolor": "white",
                        "showbackground": true,
                        "ticks": "",
                        "zerolinecolor": "white"
                      }
                    },
                    "shapedefaults": {
                      "line": {
                        "color": "#2a3f5f"
                      }
                    },
                    "ternary": {
                      "aaxis": {
                        "gridcolor": "white",
                        "linecolor": "white",
                        "ticks": ""
                      },
                      "baxis": {
                        "gridcolor": "white",
                        "linecolor": "white",
                        "ticks": ""
                      },
                      "bgcolor": "#E5ECF6",
                      "caxis": {
                        "gridcolor": "white",
                        "linecolor": "white",
                        "ticks": ""
                      }
                    },
                    "title": {
                      "x": 0.05
                    },
                    "xaxis": {
                      "automargin": true,
                      "gridcolor": "white",
                      "linecolor": "white",
                      "ticks": "",
                      "title": {
                        "standoff": 15
                      },
                      "zerolinecolor": "white",
                      "zerolinewidth": 2
                    },
                    "yaxis": {
                      "automargin": true,
                      "gridcolor": "white",
                      "linecolor": "white",
                      "ticks": "",
                      "title": {
                        "standoff": 15
                      },
                      "zerolinecolor": "white",
                      "zerolinewidth": 2
                    }
                  }
                },
                "title": {
                  "text": "Optimization History Plot"
                },
                "xaxis": {
                  "title": {
                    "text": "Trial"
                  }
                },
                "yaxis": {
                  "title": {
                    "text": "Objective Value"
                  }
                }
              }
            }
          },
          "metadata": {},
          "output_type": "display_data"
        }
      ],
      "source": [
        "optuna.visualization.plot_optimization_history(study)"
      ]
    },
    {
      "cell_type": "code",
      "execution_count": 13,
      "metadata": {},
      "outputs": [
        {
          "data": {
            "application/vnd.plotly.v1+json": {
              "config": {
                "plotlyServerURL": "https://plot.ly"
              },
              "data": [
                {
                  "marker": {
                    "color": [
                      0,
                      1,
                      2,
                      3,
                      4,
                      5,
                      6,
                      7,
                      8,
                      9,
                      10,
                      11,
                      12,
                      13,
                      14,
                      15,
                      16,
                      17,
                      18,
                      19,
                      20,
                      21,
                      22,
                      23,
                      24,
                      25,
                      26,
                      27,
                      28,
                      29,
                      30,
                      31,
                      32,
                      33,
                      34,
                      35,
                      36,
                      37,
                      38,
                      39,
                      40,
                      41,
                      42,
                      43,
                      44,
                      45,
                      46,
                      47,
                      48,
                      49,
                      50,
                      51,
                      52,
                      53,
                      54,
                      55,
                      56,
                      57,
                      58,
                      59,
                      60,
                      61,
                      62,
                      63,
                      64,
                      65,
                      66,
                      67,
                      68,
                      69,
                      70,
                      71,
                      72,
                      73,
                      74,
                      75,
                      76,
                      77,
                      78,
                      79,
                      80,
                      81,
                      82,
                      83,
                      84,
                      85,
                      86,
                      87,
                      88,
                      89,
                      90,
                      91,
                      92,
                      93,
                      94,
                      95,
                      96,
                      97,
                      98,
                      99
                    ],
                    "colorbar": {
                      "title": {
                        "text": "Trial"
                      },
                      "x": 1,
                      "xpad": 40
                    },
                    "colorscale": [
                      [
                        0,
                        "rgb(247,251,255)"
                      ],
                      [
                        0.125,
                        "rgb(222,235,247)"
                      ],
                      [
                        0.25,
                        "rgb(198,219,239)"
                      ],
                      [
                        0.375,
                        "rgb(158,202,225)"
                      ],
                      [
                        0.5,
                        "rgb(107,174,214)"
                      ],
                      [
                        0.625,
                        "rgb(66,146,198)"
                      ],
                      [
                        0.75,
                        "rgb(33,113,181)"
                      ],
                      [
                        0.875,
                        "rgb(8,81,156)"
                      ],
                      [
                        1,
                        "rgb(8,48,107)"
                      ]
                    ],
                    "line": {
                      "color": "Grey",
                      "width": 0.5
                    },
                    "showscale": true
                  },
                  "mode": "markers",
                  "name": "Feasible Trial",
                  "showlegend": false,
                  "type": "scatter",
                  "x": [
                    8,
                    6,
                    13,
                    12,
                    12,
                    14,
                    18,
                    12,
                    5,
                    10,
                    20,
                    19,
                    16,
                    16,
                    16,
                    16,
                    10,
                    14,
                    10,
                    17,
                    14,
                    20,
                    19,
                    20,
                    17,
                    11,
                    15,
                    8,
                    18,
                    9,
                    13,
                    13,
                    15,
                    11,
                    13,
                    7,
                    12,
                    15,
                    11,
                    13,
                    18,
                    8,
                    5,
                    9,
                    7,
                    9,
                    9,
                    8,
                    6,
                    9,
                    7,
                    10,
                    8,
                    6,
                    9,
                    8,
                    8,
                    8,
                    8,
                    6,
                    7,
                    10,
                    9,
                    10,
                    8,
                    8,
                    7,
                    5,
                    8,
                    11,
                    7,
                    8,
                    8,
                    9,
                    8,
                    7,
                    6,
                    9,
                    10,
                    7,
                    12,
                    9,
                    8,
                    8,
                    8,
                    8,
                    7,
                    9,
                    10,
                    6,
                    8,
                    8,
                    7,
                    9,
                    9,
                    9,
                    11,
                    11,
                    8,
                    10
                  ],
                  "xaxis": "x",
                  "y": [
                    1598254000,
                    1597316000,
                    1598674000,
                    1597225000,
                    1597778000,
                    1597799000,
                    1597421000,
                    1598975000,
                    1596315000,
                    1597932000,
                    1598828000,
                    1598317000,
                    1598296000,
                    1598898000,
                    1598324000,
                    1598576000,
                    1598296000,
                    1598121000,
                    1598373000,
                    1598163000,
                    1598233000,
                    1598730000,
                    1598345000,
                    1598576000,
                    1597925000,
                    1598541000,
                    1598289000,
                    1598800000,
                    1598275000,
                    1597722000,
                    1598828000,
                    1598485000,
                    1598709000,
                    1598191000,
                    1598114000,
                    1598373000,
                    1598562000,
                    1598590000,
                    1598205000,
                    1597855000,
                    1598086000,
                    1598947000,
                    1595573000,
                    1598940000,
                    1598450000,
                    1598898000,
                    1598492000,
                    1598618000,
                    1597008000,
                    1598065000,
                    1598429000,
                    1598625000,
                    1599402000,
                    1597624000,
                    1599101000,
                    1599290000,
                    1598982000,
                    1598317000,
                    1598289000,
                    1597582000,
                    1598219000,
                    1598933000,
                    1598583000,
                    1598835000,
                    1598947000,
                    1599395000,
                    1598037000,
                    1595468000,
                    1597596000,
                    1598401000,
                    1597505000,
                    1598758000,
                    1598870000,
                    1598492000,
                    1598863000,
                    1598485000,
                    1597484000,
                    1598310000,
                    1598198000,
                    1598170000,
                    1598520000,
                    1598877000,
                    1599227000,
                    1599241000,
                    1599178000,
                    1598723000,
                    1598611000,
                    1597435000,
                    1598492000,
                    1597491000,
                    1598639000,
                    1598954000,
                    1598520000,
                    1598968000,
                    1599325000,
                    1597204000,
                    1599255000,
                    1598352000,
                    1598625000,
                    1598891000
                  ],
                  "yaxis": "y"
                },
                {
                  "marker": {
                    "color": [
                      0,
                      1,
                      2,
                      3,
                      4,
                      5,
                      6,
                      7,
                      8,
                      9,
                      10,
                      11,
                      12,
                      13,
                      14,
                      15,
                      16,
                      17,
                      18,
                      19,
                      20,
                      21,
                      22,
                      23,
                      24,
                      25,
                      26,
                      27,
                      28,
                      29,
                      30,
                      31,
                      32,
                      33,
                      34,
                      35,
                      36,
                      37,
                      38,
                      39,
                      40,
                      41,
                      42,
                      43,
                      44,
                      45,
                      46,
                      47,
                      48,
                      49,
                      50,
                      51,
                      52,
                      53,
                      54,
                      55,
                      56,
                      57,
                      58,
                      59,
                      60,
                      61,
                      62,
                      63,
                      64,
                      65,
                      66,
                      67,
                      68,
                      69,
                      70,
                      71,
                      72,
                      73,
                      74,
                      75,
                      76,
                      77,
                      78,
                      79,
                      80,
                      81,
                      82,
                      83,
                      84,
                      85,
                      86,
                      87,
                      88,
                      89,
                      90,
                      91,
                      92,
                      93,
                      94,
                      95,
                      96,
                      97,
                      98,
                      99
                    ],
                    "colorbar": {
                      "title": {
                        "text": "Trial"
                      },
                      "x": 1,
                      "xpad": 40
                    },
                    "colorscale": [
                      [
                        0,
                        "rgb(247,251,255)"
                      ],
                      [
                        0.125,
                        "rgb(222,235,247)"
                      ],
                      [
                        0.25,
                        "rgb(198,219,239)"
                      ],
                      [
                        0.375,
                        "rgb(158,202,225)"
                      ],
                      [
                        0.5,
                        "rgb(107,174,214)"
                      ],
                      [
                        0.625,
                        "rgb(66,146,198)"
                      ],
                      [
                        0.75,
                        "rgb(33,113,181)"
                      ],
                      [
                        0.875,
                        "rgb(8,81,156)"
                      ],
                      [
                        1,
                        "rgb(8,48,107)"
                      ]
                    ],
                    "line": {
                      "color": "Grey",
                      "width": 0.5
                    },
                    "showscale": false
                  },
                  "mode": "markers",
                  "name": "Feasible Trial",
                  "showlegend": false,
                  "type": "scatter",
                  "x": [
                    120,
                    43,
                    38,
                    161,
                    153,
                    156,
                    192,
                    9,
                    150,
                    111,
                    5,
                    11,
                    63,
                    13,
                    76,
                    34,
                    80,
                    22,
                    61,
                    93,
                    56,
                    8,
                    5,
                    26,
                    21,
                    46,
                    19,
                    6,
                    31,
                    130,
                    52,
                    51,
                    38,
                    16,
                    74,
                    38,
                    28,
                    46,
                    5,
                    182,
                    93,
                    14,
                    14,
                    26,
                    17,
                    29,
                    31,
                    39,
                    128,
                    20,
                    27,
                    13,
                    12,
                    68,
                    24,
                    12,
                    23,
                    12,
                    36,
                    43,
                    21,
                    11,
                    26,
                    24,
                    18,
                    5,
                    5,
                    13,
                    144,
                    10,
                    107,
                    18,
                    20,
                    34,
                    8,
                    16,
                    32,
                    5,
                    46,
                    23,
                    55,
                    24,
                    15,
                    15,
                    11,
                    8,
                    9,
                    200,
                    16,
                    40,
                    30,
                    11,
                    11,
                    15,
                    22,
                    172,
                    23,
                    22,
                    35,
                    29
                  ],
                  "xaxis": "x2",
                  "y": [
                    1598254000,
                    1597316000,
                    1598674000,
                    1597225000,
                    1597778000,
                    1597799000,
                    1597421000,
                    1598975000,
                    1596315000,
                    1597932000,
                    1598828000,
                    1598317000,
                    1598296000,
                    1598898000,
                    1598324000,
                    1598576000,
                    1598296000,
                    1598121000,
                    1598373000,
                    1598163000,
                    1598233000,
                    1598730000,
                    1598345000,
                    1598576000,
                    1597925000,
                    1598541000,
                    1598289000,
                    1598800000,
                    1598275000,
                    1597722000,
                    1598828000,
                    1598485000,
                    1598709000,
                    1598191000,
                    1598114000,
                    1598373000,
                    1598562000,
                    1598590000,
                    1598205000,
                    1597855000,
                    1598086000,
                    1598947000,
                    1595573000,
                    1598940000,
                    1598450000,
                    1598898000,
                    1598492000,
                    1598618000,
                    1597008000,
                    1598065000,
                    1598429000,
                    1598625000,
                    1599402000,
                    1597624000,
                    1599101000,
                    1599290000,
                    1598982000,
                    1598317000,
                    1598289000,
                    1597582000,
                    1598219000,
                    1598933000,
                    1598583000,
                    1598835000,
                    1598947000,
                    1599395000,
                    1598037000,
                    1595468000,
                    1597596000,
                    1598401000,
                    1597505000,
                    1598758000,
                    1598870000,
                    1598492000,
                    1598863000,
                    1598485000,
                    1597484000,
                    1598310000,
                    1598198000,
                    1598170000,
                    1598520000,
                    1598877000,
                    1599227000,
                    1599241000,
                    1599178000,
                    1598723000,
                    1598611000,
                    1597435000,
                    1598492000,
                    1597491000,
                    1598639000,
                    1598954000,
                    1598520000,
                    1598968000,
                    1599325000,
                    1597204000,
                    1599255000,
                    1598352000,
                    1598625000,
                    1598891000
                  ],
                  "yaxis": "y2"
                },
                {
                  "marker": {
                    "color": [
                      0,
                      1,
                      2,
                      3,
                      4,
                      5,
                      6,
                      7,
                      8,
                      9,
                      10,
                      11,
                      12,
                      13,
                      14,
                      15,
                      16,
                      17,
                      18,
                      19,
                      20,
                      21,
                      22,
                      23,
                      24,
                      25,
                      26,
                      27,
                      28,
                      29,
                      30,
                      31,
                      32,
                      33,
                      34,
                      35,
                      36,
                      37,
                      38,
                      39,
                      40,
                      41,
                      42,
                      43,
                      44,
                      45,
                      46,
                      47,
                      48,
                      49,
                      50,
                      51,
                      52,
                      53,
                      54,
                      55,
                      56,
                      57,
                      58,
                      59,
                      60,
                      61,
                      62,
                      63,
                      64,
                      65,
                      66,
                      67,
                      68,
                      69,
                      70,
                      71,
                      72,
                      73,
                      74,
                      75,
                      76,
                      77,
                      78,
                      79,
                      80,
                      81,
                      82,
                      83,
                      84,
                      85,
                      86,
                      87,
                      88,
                      89,
                      90,
                      91,
                      92,
                      93,
                      94,
                      95,
                      96,
                      97,
                      98,
                      99
                    ],
                    "colorbar": {
                      "title": {
                        "text": "Trial"
                      },
                      "x": 1,
                      "xpad": 40
                    },
                    "colorscale": [
                      [
                        0,
                        "rgb(247,251,255)"
                      ],
                      [
                        0.125,
                        "rgb(222,235,247)"
                      ],
                      [
                        0.25,
                        "rgb(198,219,239)"
                      ],
                      [
                        0.375,
                        "rgb(158,202,225)"
                      ],
                      [
                        0.5,
                        "rgb(107,174,214)"
                      ],
                      [
                        0.625,
                        "rgb(66,146,198)"
                      ],
                      [
                        0.75,
                        "rgb(33,113,181)"
                      ],
                      [
                        0.875,
                        "rgb(8,81,156)"
                      ],
                      [
                        1,
                        "rgb(8,48,107)"
                      ]
                    ],
                    "line": {
                      "color": "Grey",
                      "width": 0.5
                    },
                    "showscale": false
                  },
                  "mode": "markers",
                  "name": "Feasible Trial",
                  "showlegend": false,
                  "type": "scatter",
                  "x": [
                    56,
                    208,
                    62,
                    74,
                    217,
                    233,
                    149,
                    65,
                    211,
                    295,
                    125,
                    114,
                    116,
                    110,
                    99,
                    161,
                    84,
                    142,
                    185,
                    82,
                    52,
                    123,
                    102,
                    131,
                    167,
                    96,
                    186,
                    74,
                    140,
                    54,
                    107,
                    105,
                    87,
                    128,
                    74,
                    70,
                    153,
                    114,
                    273,
                    66,
                    91,
                    66,
                    108,
                    62,
                    63,
                    52,
                    51,
                    78,
                    63,
                    61,
                    88,
                    78,
                    58,
                    51,
                    61,
                    67,
                    68,
                    94,
                    243,
                    73,
                    87,
                    60,
                    66,
                    82,
                    59,
                    67,
                    70,
                    97,
                    78,
                    70,
                    50,
                    56,
                    58,
                    79,
                    85,
                    68,
                    58,
                    200,
                    120,
                    74,
                    103,
                    61,
                    67,
                    68,
                    90,
                    91,
                    82,
                    74,
                    100,
                    68,
                    50,
                    66,
                    74,
                    57,
                    54,
                    80,
                    56,
                    54,
                    64,
                    90
                  ],
                  "xaxis": "x3",
                  "y": [
                    1598254000,
                    1597316000,
                    1598674000,
                    1597225000,
                    1597778000,
                    1597799000,
                    1597421000,
                    1598975000,
                    1596315000,
                    1597932000,
                    1598828000,
                    1598317000,
                    1598296000,
                    1598898000,
                    1598324000,
                    1598576000,
                    1598296000,
                    1598121000,
                    1598373000,
                    1598163000,
                    1598233000,
                    1598730000,
                    1598345000,
                    1598576000,
                    1597925000,
                    1598541000,
                    1598289000,
                    1598800000,
                    1598275000,
                    1597722000,
                    1598828000,
                    1598485000,
                    1598709000,
                    1598191000,
                    1598114000,
                    1598373000,
                    1598562000,
                    1598590000,
                    1598205000,
                    1597855000,
                    1598086000,
                    1598947000,
                    1595573000,
                    1598940000,
                    1598450000,
                    1598898000,
                    1598492000,
                    1598618000,
                    1597008000,
                    1598065000,
                    1598429000,
                    1598625000,
                    1599402000,
                    1597624000,
                    1599101000,
                    1599290000,
                    1598982000,
                    1598317000,
                    1598289000,
                    1597582000,
                    1598219000,
                    1598933000,
                    1598583000,
                    1598835000,
                    1598947000,
                    1599395000,
                    1598037000,
                    1595468000,
                    1597596000,
                    1598401000,
                    1597505000,
                    1598758000,
                    1598870000,
                    1598492000,
                    1598863000,
                    1598485000,
                    1597484000,
                    1598310000,
                    1598198000,
                    1598170000,
                    1598520000,
                    1598877000,
                    1599227000,
                    1599241000,
                    1599178000,
                    1598723000,
                    1598611000,
                    1597435000,
                    1598492000,
                    1597491000,
                    1598639000,
                    1598954000,
                    1598520000,
                    1598968000,
                    1599325000,
                    1597204000,
                    1599255000,
                    1598352000,
                    1598625000,
                    1598891000
                  ],
                  "yaxis": "y3"
                },
                {
                  "marker": {
                    "color": [
                      0,
                      1,
                      2,
                      3,
                      4,
                      5,
                      6,
                      7,
                      8,
                      9,
                      10,
                      11,
                      12,
                      13,
                      14,
                      15,
                      16,
                      17,
                      18,
                      19,
                      20,
                      21,
                      22,
                      23,
                      24,
                      25,
                      26,
                      27,
                      28,
                      29,
                      30,
                      31,
                      32,
                      33,
                      34,
                      35,
                      36,
                      37,
                      38,
                      39,
                      40,
                      41,
                      42,
                      43,
                      44,
                      45,
                      46,
                      47,
                      48,
                      49,
                      50,
                      51,
                      52,
                      53,
                      54,
                      55,
                      56,
                      57,
                      58,
                      59,
                      60,
                      61,
                      62,
                      63,
                      64,
                      65,
                      66,
                      67,
                      68,
                      69,
                      70,
                      71,
                      72,
                      73,
                      74,
                      75,
                      76,
                      77,
                      78,
                      79,
                      80,
                      81,
                      82,
                      83,
                      84,
                      85,
                      86,
                      87,
                      88,
                      89,
                      90,
                      91,
                      92,
                      93,
                      94,
                      95,
                      96,
                      97,
                      98,
                      99
                    ],
                    "colorbar": {
                      "title": {
                        "text": "Trial"
                      },
                      "x": 1,
                      "xpad": 40
                    },
                    "colorscale": [
                      [
                        0,
                        "rgb(247,251,255)"
                      ],
                      [
                        0.125,
                        "rgb(222,235,247)"
                      ],
                      [
                        0.25,
                        "rgb(198,219,239)"
                      ],
                      [
                        0.375,
                        "rgb(158,202,225)"
                      ],
                      [
                        0.5,
                        "rgb(107,174,214)"
                      ],
                      [
                        0.625,
                        "rgb(66,146,198)"
                      ],
                      [
                        0.75,
                        "rgb(33,113,181)"
                      ],
                      [
                        0.875,
                        "rgb(8,81,156)"
                      ],
                      [
                        1,
                        "rgb(8,48,107)"
                      ]
                    ],
                    "line": {
                      "color": "Grey",
                      "width": 0.5
                    },
                    "showscale": false
                  },
                  "mode": "markers",
                  "name": "Feasible Trial",
                  "showlegend": false,
                  "type": "scatter",
                  "x": [
                    189,
                    162,
                    462,
                    213,
                    365,
                    309,
                    177,
                    269,
                    162,
                    363,
                    265,
                    267,
                    270,
                    346,
                    446,
                    358,
                    394,
                    104,
                    327,
                    438,
                    230,
                    268,
                    294,
                    498,
                    233,
                    397,
                    319,
                    246,
                    339,
                    206,
                    297,
                    290,
                    289,
                    252,
                    405,
                    203,
                    344,
                    312,
                    373,
                    128,
                    184,
                    246,
                    279,
                    251,
                    225,
                    251,
                    158,
                    249,
                    210,
                    167,
                    256,
                    275,
                    237,
                    238,
                    219,
                    227,
                    222,
                    219,
                    190,
                    197,
                    150,
                    222,
                    239,
                    259,
                    212,
                    213,
                    180,
                    226,
                    195,
                    277,
                    236,
                    212,
                    169,
                    207,
                    263,
                    216,
                    240,
                    142,
                    303,
                    228,
                    199,
                    283,
                    262,
                    269,
                    268,
                    269,
                    287,
                    318,
                    262,
                    301,
                    332,
                    250,
                    245,
                    271,
                    272,
                    233,
                    292,
                    293,
                    308,
                    260
                  ],
                  "xaxis": "x4",
                  "y": [
                    1598254000,
                    1597316000,
                    1598674000,
                    1597225000,
                    1597778000,
                    1597799000,
                    1597421000,
                    1598975000,
                    1596315000,
                    1597932000,
                    1598828000,
                    1598317000,
                    1598296000,
                    1598898000,
                    1598324000,
                    1598576000,
                    1598296000,
                    1598121000,
                    1598373000,
                    1598163000,
                    1598233000,
                    1598730000,
                    1598345000,
                    1598576000,
                    1597925000,
                    1598541000,
                    1598289000,
                    1598800000,
                    1598275000,
                    1597722000,
                    1598828000,
                    1598485000,
                    1598709000,
                    1598191000,
                    1598114000,
                    1598373000,
                    1598562000,
                    1598590000,
                    1598205000,
                    1597855000,
                    1598086000,
                    1598947000,
                    1595573000,
                    1598940000,
                    1598450000,
                    1598898000,
                    1598492000,
                    1598618000,
                    1597008000,
                    1598065000,
                    1598429000,
                    1598625000,
                    1599402000,
                    1597624000,
                    1599101000,
                    1599290000,
                    1598982000,
                    1598317000,
                    1598289000,
                    1597582000,
                    1598219000,
                    1598933000,
                    1598583000,
                    1598835000,
                    1598947000,
                    1599395000,
                    1598037000,
                    1595468000,
                    1597596000,
                    1598401000,
                    1597505000,
                    1598758000,
                    1598870000,
                    1598492000,
                    1598863000,
                    1598485000,
                    1597484000,
                    1598310000,
                    1598198000,
                    1598170000,
                    1598520000,
                    1598877000,
                    1599227000,
                    1599241000,
                    1599178000,
                    1598723000,
                    1598611000,
                    1597435000,
                    1598492000,
                    1597491000,
                    1598639000,
                    1598954000,
                    1598520000,
                    1598968000,
                    1599325000,
                    1597204000,
                    1599255000,
                    1598352000,
                    1598625000,
                    1598891000
                  ],
                  "yaxis": "y4"
                }
              ],
              "layout": {
                "template": {
                  "data": {
                    "bar": [
                      {
                        "error_x": {
                          "color": "#2a3f5f"
                        },
                        "error_y": {
                          "color": "#2a3f5f"
                        },
                        "marker": {
                          "line": {
                            "color": "#E5ECF6",
                            "width": 0.5
                          },
                          "pattern": {
                            "fillmode": "overlay",
                            "size": 10,
                            "solidity": 0.2
                          }
                        },
                        "type": "bar"
                      }
                    ],
                    "barpolar": [
                      {
                        "marker": {
                          "line": {
                            "color": "#E5ECF6",
                            "width": 0.5
                          },
                          "pattern": {
                            "fillmode": "overlay",
                            "size": 10,
                            "solidity": 0.2
                          }
                        },
                        "type": "barpolar"
                      }
                    ],
                    "carpet": [
                      {
                        "aaxis": {
                          "endlinecolor": "#2a3f5f",
                          "gridcolor": "white",
                          "linecolor": "white",
                          "minorgridcolor": "white",
                          "startlinecolor": "#2a3f5f"
                        },
                        "baxis": {
                          "endlinecolor": "#2a3f5f",
                          "gridcolor": "white",
                          "linecolor": "white",
                          "minorgridcolor": "white",
                          "startlinecolor": "#2a3f5f"
                        },
                        "type": "carpet"
                      }
                    ],
                    "choropleth": [
                      {
                        "colorbar": {
                          "outlinewidth": 0,
                          "ticks": ""
                        },
                        "type": "choropleth"
                      }
                    ],
                    "contour": [
                      {
                        "colorbar": {
                          "outlinewidth": 0,
                          "ticks": ""
                        },
                        "colorscale": [
                          [
                            0,
                            "#0d0887"
                          ],
                          [
                            0.1111111111111111,
                            "#46039f"
                          ],
                          [
                            0.2222222222222222,
                            "#7201a8"
                          ],
                          [
                            0.3333333333333333,
                            "#9c179e"
                          ],
                          [
                            0.4444444444444444,
                            "#bd3786"
                          ],
                          [
                            0.5555555555555556,
                            "#d8576b"
                          ],
                          [
                            0.6666666666666666,
                            "#ed7953"
                          ],
                          [
                            0.7777777777777778,
                            "#fb9f3a"
                          ],
                          [
                            0.8888888888888888,
                            "#fdca26"
                          ],
                          [
                            1,
                            "#f0f921"
                          ]
                        ],
                        "type": "contour"
                      }
                    ],
                    "contourcarpet": [
                      {
                        "colorbar": {
                          "outlinewidth": 0,
                          "ticks": ""
                        },
                        "type": "contourcarpet"
                      }
                    ],
                    "heatmap": [
                      {
                        "colorbar": {
                          "outlinewidth": 0,
                          "ticks": ""
                        },
                        "colorscale": [
                          [
                            0,
                            "#0d0887"
                          ],
                          [
                            0.1111111111111111,
                            "#46039f"
                          ],
                          [
                            0.2222222222222222,
                            "#7201a8"
                          ],
                          [
                            0.3333333333333333,
                            "#9c179e"
                          ],
                          [
                            0.4444444444444444,
                            "#bd3786"
                          ],
                          [
                            0.5555555555555556,
                            "#d8576b"
                          ],
                          [
                            0.6666666666666666,
                            "#ed7953"
                          ],
                          [
                            0.7777777777777778,
                            "#fb9f3a"
                          ],
                          [
                            0.8888888888888888,
                            "#fdca26"
                          ],
                          [
                            1,
                            "#f0f921"
                          ]
                        ],
                        "type": "heatmap"
                      }
                    ],
                    "heatmapgl": [
                      {
                        "colorbar": {
                          "outlinewidth": 0,
                          "ticks": ""
                        },
                        "colorscale": [
                          [
                            0,
                            "#0d0887"
                          ],
                          [
                            0.1111111111111111,
                            "#46039f"
                          ],
                          [
                            0.2222222222222222,
                            "#7201a8"
                          ],
                          [
                            0.3333333333333333,
                            "#9c179e"
                          ],
                          [
                            0.4444444444444444,
                            "#bd3786"
                          ],
                          [
                            0.5555555555555556,
                            "#d8576b"
                          ],
                          [
                            0.6666666666666666,
                            "#ed7953"
                          ],
                          [
                            0.7777777777777778,
                            "#fb9f3a"
                          ],
                          [
                            0.8888888888888888,
                            "#fdca26"
                          ],
                          [
                            1,
                            "#f0f921"
                          ]
                        ],
                        "type": "heatmapgl"
                      }
                    ],
                    "histogram": [
                      {
                        "marker": {
                          "pattern": {
                            "fillmode": "overlay",
                            "size": 10,
                            "solidity": 0.2
                          }
                        },
                        "type": "histogram"
                      }
                    ],
                    "histogram2d": [
                      {
                        "colorbar": {
                          "outlinewidth": 0,
                          "ticks": ""
                        },
                        "colorscale": [
                          [
                            0,
                            "#0d0887"
                          ],
                          [
                            0.1111111111111111,
                            "#46039f"
                          ],
                          [
                            0.2222222222222222,
                            "#7201a8"
                          ],
                          [
                            0.3333333333333333,
                            "#9c179e"
                          ],
                          [
                            0.4444444444444444,
                            "#bd3786"
                          ],
                          [
                            0.5555555555555556,
                            "#d8576b"
                          ],
                          [
                            0.6666666666666666,
                            "#ed7953"
                          ],
                          [
                            0.7777777777777778,
                            "#fb9f3a"
                          ],
                          [
                            0.8888888888888888,
                            "#fdca26"
                          ],
                          [
                            1,
                            "#f0f921"
                          ]
                        ],
                        "type": "histogram2d"
                      }
                    ],
                    "histogram2dcontour": [
                      {
                        "colorbar": {
                          "outlinewidth": 0,
                          "ticks": ""
                        },
                        "colorscale": [
                          [
                            0,
                            "#0d0887"
                          ],
                          [
                            0.1111111111111111,
                            "#46039f"
                          ],
                          [
                            0.2222222222222222,
                            "#7201a8"
                          ],
                          [
                            0.3333333333333333,
                            "#9c179e"
                          ],
                          [
                            0.4444444444444444,
                            "#bd3786"
                          ],
                          [
                            0.5555555555555556,
                            "#d8576b"
                          ],
                          [
                            0.6666666666666666,
                            "#ed7953"
                          ],
                          [
                            0.7777777777777778,
                            "#fb9f3a"
                          ],
                          [
                            0.8888888888888888,
                            "#fdca26"
                          ],
                          [
                            1,
                            "#f0f921"
                          ]
                        ],
                        "type": "histogram2dcontour"
                      }
                    ],
                    "mesh3d": [
                      {
                        "colorbar": {
                          "outlinewidth": 0,
                          "ticks": ""
                        },
                        "type": "mesh3d"
                      }
                    ],
                    "parcoords": [
                      {
                        "line": {
                          "colorbar": {
                            "outlinewidth": 0,
                            "ticks": ""
                          }
                        },
                        "type": "parcoords"
                      }
                    ],
                    "pie": [
                      {
                        "automargin": true,
                        "type": "pie"
                      }
                    ],
                    "scatter": [
                      {
                        "fillpattern": {
                          "fillmode": "overlay",
                          "size": 10,
                          "solidity": 0.2
                        },
                        "type": "scatter"
                      }
                    ],
                    "scatter3d": [
                      {
                        "line": {
                          "colorbar": {
                            "outlinewidth": 0,
                            "ticks": ""
                          }
                        },
                        "marker": {
                          "colorbar": {
                            "outlinewidth": 0,
                            "ticks": ""
                          }
                        },
                        "type": "scatter3d"
                      }
                    ],
                    "scattercarpet": [
                      {
                        "marker": {
                          "colorbar": {
                            "outlinewidth": 0,
                            "ticks": ""
                          }
                        },
                        "type": "scattercarpet"
                      }
                    ],
                    "scattergeo": [
                      {
                        "marker": {
                          "colorbar": {
                            "outlinewidth": 0,
                            "ticks": ""
                          }
                        },
                        "type": "scattergeo"
                      }
                    ],
                    "scattergl": [
                      {
                        "marker": {
                          "colorbar": {
                            "outlinewidth": 0,
                            "ticks": ""
                          }
                        },
                        "type": "scattergl"
                      }
                    ],
                    "scattermapbox": [
                      {
                        "marker": {
                          "colorbar": {
                            "outlinewidth": 0,
                            "ticks": ""
                          }
                        },
                        "type": "scattermapbox"
                      }
                    ],
                    "scatterpolar": [
                      {
                        "marker": {
                          "colorbar": {
                            "outlinewidth": 0,
                            "ticks": ""
                          }
                        },
                        "type": "scatterpolar"
                      }
                    ],
                    "scatterpolargl": [
                      {
                        "marker": {
                          "colorbar": {
                            "outlinewidth": 0,
                            "ticks": ""
                          }
                        },
                        "type": "scatterpolargl"
                      }
                    ],
                    "scatterternary": [
                      {
                        "marker": {
                          "colorbar": {
                            "outlinewidth": 0,
                            "ticks": ""
                          }
                        },
                        "type": "scatterternary"
                      }
                    ],
                    "surface": [
                      {
                        "colorbar": {
                          "outlinewidth": 0,
                          "ticks": ""
                        },
                        "colorscale": [
                          [
                            0,
                            "#0d0887"
                          ],
                          [
                            0.1111111111111111,
                            "#46039f"
                          ],
                          [
                            0.2222222222222222,
                            "#7201a8"
                          ],
                          [
                            0.3333333333333333,
                            "#9c179e"
                          ],
                          [
                            0.4444444444444444,
                            "#bd3786"
                          ],
                          [
                            0.5555555555555556,
                            "#d8576b"
                          ],
                          [
                            0.6666666666666666,
                            "#ed7953"
                          ],
                          [
                            0.7777777777777778,
                            "#fb9f3a"
                          ],
                          [
                            0.8888888888888888,
                            "#fdca26"
                          ],
                          [
                            1,
                            "#f0f921"
                          ]
                        ],
                        "type": "surface"
                      }
                    ],
                    "table": [
                      {
                        "cells": {
                          "fill": {
                            "color": "#EBF0F8"
                          },
                          "line": {
                            "color": "white"
                          }
                        },
                        "header": {
                          "fill": {
                            "color": "#C8D4E3"
                          },
                          "line": {
                            "color": "white"
                          }
                        },
                        "type": "table"
                      }
                    ]
                  },
                  "layout": {
                    "annotationdefaults": {
                      "arrowcolor": "#2a3f5f",
                      "arrowhead": 0,
                      "arrowwidth": 1
                    },
                    "autotypenumbers": "strict",
                    "coloraxis": {
                      "colorbar": {
                        "outlinewidth": 0,
                        "ticks": ""
                      }
                    },
                    "colorscale": {
                      "diverging": [
                        [
                          0,
                          "#8e0152"
                        ],
                        [
                          0.1,
                          "#c51b7d"
                        ],
                        [
                          0.2,
                          "#de77ae"
                        ],
                        [
                          0.3,
                          "#f1b6da"
                        ],
                        [
                          0.4,
                          "#fde0ef"
                        ],
                        [
                          0.5,
                          "#f7f7f7"
                        ],
                        [
                          0.6,
                          "#e6f5d0"
                        ],
                        [
                          0.7,
                          "#b8e186"
                        ],
                        [
                          0.8,
                          "#7fbc41"
                        ],
                        [
                          0.9,
                          "#4d9221"
                        ],
                        [
                          1,
                          "#276419"
                        ]
                      ],
                      "sequential": [
                        [
                          0,
                          "#0d0887"
                        ],
                        [
                          0.1111111111111111,
                          "#46039f"
                        ],
                        [
                          0.2222222222222222,
                          "#7201a8"
                        ],
                        [
                          0.3333333333333333,
                          "#9c179e"
                        ],
                        [
                          0.4444444444444444,
                          "#bd3786"
                        ],
                        [
                          0.5555555555555556,
                          "#d8576b"
                        ],
                        [
                          0.6666666666666666,
                          "#ed7953"
                        ],
                        [
                          0.7777777777777778,
                          "#fb9f3a"
                        ],
                        [
                          0.8888888888888888,
                          "#fdca26"
                        ],
                        [
                          1,
                          "#f0f921"
                        ]
                      ],
                      "sequentialminus": [
                        [
                          0,
                          "#0d0887"
                        ],
                        [
                          0.1111111111111111,
                          "#46039f"
                        ],
                        [
                          0.2222222222222222,
                          "#7201a8"
                        ],
                        [
                          0.3333333333333333,
                          "#9c179e"
                        ],
                        [
                          0.4444444444444444,
                          "#bd3786"
                        ],
                        [
                          0.5555555555555556,
                          "#d8576b"
                        ],
                        [
                          0.6666666666666666,
                          "#ed7953"
                        ],
                        [
                          0.7777777777777778,
                          "#fb9f3a"
                        ],
                        [
                          0.8888888888888888,
                          "#fdca26"
                        ],
                        [
                          1,
                          "#f0f921"
                        ]
                      ]
                    },
                    "colorway": [
                      "#636efa",
                      "#EF553B",
                      "#00cc96",
                      "#ab63fa",
                      "#FFA15A",
                      "#19d3f3",
                      "#FF6692",
                      "#B6E880",
                      "#FF97FF",
                      "#FECB52"
                    ],
                    "font": {
                      "color": "#2a3f5f"
                    },
                    "geo": {
                      "bgcolor": "white",
                      "lakecolor": "white",
                      "landcolor": "#E5ECF6",
                      "showlakes": true,
                      "showland": true,
                      "subunitcolor": "white"
                    },
                    "hoverlabel": {
                      "align": "left"
                    },
                    "hovermode": "closest",
                    "mapbox": {
                      "style": "light"
                    },
                    "paper_bgcolor": "white",
                    "plot_bgcolor": "#E5ECF6",
                    "polar": {
                      "angularaxis": {
                        "gridcolor": "white",
                        "linecolor": "white",
                        "ticks": ""
                      },
                      "bgcolor": "#E5ECF6",
                      "radialaxis": {
                        "gridcolor": "white",
                        "linecolor": "white",
                        "ticks": ""
                      }
                    },
                    "scene": {
                      "xaxis": {
                        "backgroundcolor": "#E5ECF6",
                        "gridcolor": "white",
                        "gridwidth": 2,
                        "linecolor": "white",
                        "showbackground": true,
                        "ticks": "",
                        "zerolinecolor": "white"
                      },
                      "yaxis": {
                        "backgroundcolor": "#E5ECF6",
                        "gridcolor": "white",
                        "gridwidth": 2,
                        "linecolor": "white",
                        "showbackground": true,
                        "ticks": "",
                        "zerolinecolor": "white"
                      },
                      "zaxis": {
                        "backgroundcolor": "#E5ECF6",
                        "gridcolor": "white",
                        "gridwidth": 2,
                        "linecolor": "white",
                        "showbackground": true,
                        "ticks": "",
                        "zerolinecolor": "white"
                      }
                    },
                    "shapedefaults": {
                      "line": {
                        "color": "#2a3f5f"
                      }
                    },
                    "ternary": {
                      "aaxis": {
                        "gridcolor": "white",
                        "linecolor": "white",
                        "ticks": ""
                      },
                      "baxis": {
                        "gridcolor": "white",
                        "linecolor": "white",
                        "ticks": ""
                      },
                      "bgcolor": "#E5ECF6",
                      "caxis": {
                        "gridcolor": "white",
                        "linecolor": "white",
                        "ticks": ""
                      }
                    },
                    "title": {
                      "x": 0.05
                    },
                    "xaxis": {
                      "automargin": true,
                      "gridcolor": "white",
                      "linecolor": "white",
                      "ticks": "",
                      "title": {
                        "standoff": 15
                      },
                      "zerolinecolor": "white",
                      "zerolinewidth": 2
                    },
                    "yaxis": {
                      "automargin": true,
                      "gridcolor": "white",
                      "linecolor": "white",
                      "ticks": "",
                      "title": {
                        "standoff": 15
                      },
                      "zerolinecolor": "white",
                      "zerolinewidth": 2
                    }
                  }
                },
                "title": {
                  "text": "Slice Plot"
                },
                "width": 1200,
                "xaxis": {
                  "anchor": "y",
                  "domain": [
                    0,
                    0.2125
                  ],
                  "title": {
                    "text": "max_depth"
                  }
                },
                "xaxis2": {
                  "anchor": "y2",
                  "domain": [
                    0.2625,
                    0.475
                  ],
                  "title": {
                    "text": "min_samples_leaf"
                  }
                },
                "xaxis3": {
                  "anchor": "y3",
                  "domain": [
                    0.525,
                    0.7375
                  ],
                  "title": {
                    "text": "min_samples_split"
                  }
                },
                "xaxis4": {
                  "anchor": "y4",
                  "domain": [
                    0.7875,
                    1
                  ],
                  "title": {
                    "text": "n_estimators"
                  }
                },
                "yaxis": {
                  "anchor": "x",
                  "domain": [
                    0,
                    1
                  ],
                  "title": {
                    "text": "Objective Value"
                  }
                },
                "yaxis2": {
                  "anchor": "x2",
                  "domain": [
                    0,
                    1
                  ],
                  "matches": "y",
                  "showticklabels": false
                },
                "yaxis3": {
                  "anchor": "x3",
                  "domain": [
                    0,
                    1
                  ],
                  "matches": "y",
                  "showticklabels": false
                },
                "yaxis4": {
                  "anchor": "x4",
                  "domain": [
                    0,
                    1
                  ],
                  "matches": "y",
                  "showticklabels": false
                }
              }
            }
          },
          "metadata": {},
          "output_type": "display_data"
        }
      ],
      "source": [
        "plot_slice(study)"
      ]
    },
    {
      "cell_type": "code",
      "execution_count": 14,
      "metadata": {},
      "outputs": [
        {
          "name": "stdout",
          "output_type": "stream",
          "text": [
            "Mejor modelo: {'n_estimators': 237, 'max_depth': 8, 'min_samples_split': 58, 'min_samples_leaf': 12}\n"
          ]
        }
      ],
      "source": [
        "best_trial = study.best_trial\n",
        "best_model_params = best_trial.params\n",
        "print(\"Mejor modelo:\", best_model_params)"
      ]
    },
    {
      "cell_type": "code",
      "execution_count": 44,
      "metadata": {},
      "outputs": [
        {
          "data": {
            "text/html": [
              "<style>#sk-container-id-4 {\n",
              "  /* Definition of color scheme common for light and dark mode */\n",
              "  --sklearn-color-text: black;\n",
              "  --sklearn-color-line: gray;\n",
              "  /* Definition of color scheme for unfitted estimators */\n",
              "  --sklearn-color-unfitted-level-0: #fff5e6;\n",
              "  --sklearn-color-unfitted-level-1: #f6e4d2;\n",
              "  --sklearn-color-unfitted-level-2: #ffe0b3;\n",
              "  --sklearn-color-unfitted-level-3: chocolate;\n",
              "  /* Definition of color scheme for fitted estimators */\n",
              "  --sklearn-color-fitted-level-0: #f0f8ff;\n",
              "  --sklearn-color-fitted-level-1: #d4ebff;\n",
              "  --sklearn-color-fitted-level-2: #b3dbfd;\n",
              "  --sklearn-color-fitted-level-3: cornflowerblue;\n",
              "\n",
              "  /* Specific color for light theme */\n",
              "  --sklearn-color-text-on-default-background: var(--sg-text-color, var(--theme-code-foreground, var(--jp-content-font-color1, black)));\n",
              "  --sklearn-color-background: var(--sg-background-color, var(--theme-background, var(--jp-layout-color0, white)));\n",
              "  --sklearn-color-border-box: var(--sg-text-color, var(--theme-code-foreground, var(--jp-content-font-color1, black)));\n",
              "  --sklearn-color-icon: #696969;\n",
              "\n",
              "  @media (prefers-color-scheme: dark) {\n",
              "    /* Redefinition of color scheme for dark theme */\n",
              "    --sklearn-color-text-on-default-background: var(--sg-text-color, var(--theme-code-foreground, var(--jp-content-font-color1, white)));\n",
              "    --sklearn-color-background: var(--sg-background-color, var(--theme-background, var(--jp-layout-color0, #111)));\n",
              "    --sklearn-color-border-box: var(--sg-text-color, var(--theme-code-foreground, var(--jp-content-font-color1, white)));\n",
              "    --sklearn-color-icon: #878787;\n",
              "  }\n",
              "}\n",
              "\n",
              "#sk-container-id-4 {\n",
              "  color: var(--sklearn-color-text);\n",
              "}\n",
              "\n",
              "#sk-container-id-4 pre {\n",
              "  padding: 0;\n",
              "}\n",
              "\n",
              "#sk-container-id-4 input.sk-hidden--visually {\n",
              "  border: 0;\n",
              "  clip: rect(1px 1px 1px 1px);\n",
              "  clip: rect(1px, 1px, 1px, 1px);\n",
              "  height: 1px;\n",
              "  margin: -1px;\n",
              "  overflow: hidden;\n",
              "  padding: 0;\n",
              "  position: absolute;\n",
              "  width: 1px;\n",
              "}\n",
              "\n",
              "#sk-container-id-4 div.sk-dashed-wrapped {\n",
              "  border: 1px dashed var(--sklearn-color-line);\n",
              "  margin: 0 0.4em 0.5em 0.4em;\n",
              "  box-sizing: border-box;\n",
              "  padding-bottom: 0.4em;\n",
              "  background-color: var(--sklearn-color-background);\n",
              "}\n",
              "\n",
              "#sk-container-id-4 div.sk-container {\n",
              "  /* jupyter's `normalize.less` sets `[hidden] { display: none; }`\n",
              "     but bootstrap.min.css set `[hidden] { display: none !important; }`\n",
              "     so we also need the `!important` here to be able to override the\n",
              "     default hidden behavior on the sphinx rendered scikit-learn.org.\n",
              "     See: https://github.com/scikit-learn/scikit-learn/issues/21755 */\n",
              "  display: inline-block !important;\n",
              "  position: relative;\n",
              "}\n",
              "\n",
              "#sk-container-id-4 div.sk-text-repr-fallback {\n",
              "  display: none;\n",
              "}\n",
              "\n",
              "div.sk-parallel-item,\n",
              "div.sk-serial,\n",
              "div.sk-item {\n",
              "  /* draw centered vertical line to link estimators */\n",
              "  background-image: linear-gradient(var(--sklearn-color-text-on-default-background), var(--sklearn-color-text-on-default-background));\n",
              "  background-size: 2px 100%;\n",
              "  background-repeat: no-repeat;\n",
              "  background-position: center center;\n",
              "}\n",
              "\n",
              "/* Parallel-specific style estimator block */\n",
              "\n",
              "#sk-container-id-4 div.sk-parallel-item::after {\n",
              "  content: \"\";\n",
              "  width: 100%;\n",
              "  border-bottom: 2px solid var(--sklearn-color-text-on-default-background);\n",
              "  flex-grow: 1;\n",
              "}\n",
              "\n",
              "#sk-container-id-4 div.sk-parallel {\n",
              "  display: flex;\n",
              "  align-items: stretch;\n",
              "  justify-content: center;\n",
              "  background-color: var(--sklearn-color-background);\n",
              "  position: relative;\n",
              "}\n",
              "\n",
              "#sk-container-id-4 div.sk-parallel-item {\n",
              "  display: flex;\n",
              "  flex-direction: column;\n",
              "}\n",
              "\n",
              "#sk-container-id-4 div.sk-parallel-item:first-child::after {\n",
              "  align-self: flex-end;\n",
              "  width: 50%;\n",
              "}\n",
              "\n",
              "#sk-container-id-4 div.sk-parallel-item:last-child::after {\n",
              "  align-self: flex-start;\n",
              "  width: 50%;\n",
              "}\n",
              "\n",
              "#sk-container-id-4 div.sk-parallel-item:only-child::after {\n",
              "  width: 0;\n",
              "}\n",
              "\n",
              "/* Serial-specific style estimator block */\n",
              "\n",
              "#sk-container-id-4 div.sk-serial {\n",
              "  display: flex;\n",
              "  flex-direction: column;\n",
              "  align-items: center;\n",
              "  background-color: var(--sklearn-color-background);\n",
              "  padding-right: 1em;\n",
              "  padding-left: 1em;\n",
              "}\n",
              "\n",
              "\n",
              "/* Toggleable style: style used for estimator/Pipeline/ColumnTransformer box that is\n",
              "clickable and can be expanded/collapsed.\n",
              "- Pipeline and ColumnTransformer use this feature and define the default style\n",
              "- Estimators will overwrite some part of the style using the `sk-estimator` class\n",
              "*/\n",
              "\n",
              "/* Pipeline and ColumnTransformer style (default) */\n",
              "\n",
              "#sk-container-id-4 div.sk-toggleable {\n",
              "  /* Default theme specific background. It is overwritten whether we have a\n",
              "  specific estimator or a Pipeline/ColumnTransformer */\n",
              "  background-color: var(--sklearn-color-background);\n",
              "}\n",
              "\n",
              "/* Toggleable label */\n",
              "#sk-container-id-4 label.sk-toggleable__label {\n",
              "  cursor: pointer;\n",
              "  display: block;\n",
              "  width: 100%;\n",
              "  margin-bottom: 0;\n",
              "  padding: 0.5em;\n",
              "  box-sizing: border-box;\n",
              "  text-align: center;\n",
              "}\n",
              "\n",
              "#sk-container-id-4 label.sk-toggleable__label-arrow:before {\n",
              "  /* Arrow on the left of the label */\n",
              "  content: \"▸\";\n",
              "  float: left;\n",
              "  margin-right: 0.25em;\n",
              "  color: var(--sklearn-color-icon);\n",
              "}\n",
              "\n",
              "#sk-container-id-4 label.sk-toggleable__label-arrow:hover:before {\n",
              "  color: var(--sklearn-color-text);\n",
              "}\n",
              "\n",
              "/* Toggleable content - dropdown */\n",
              "\n",
              "#sk-container-id-4 div.sk-toggleable__content {\n",
              "  max-height: 0;\n",
              "  max-width: 0;\n",
              "  overflow: hidden;\n",
              "  text-align: left;\n",
              "  /* unfitted */\n",
              "  background-color: var(--sklearn-color-unfitted-level-0);\n",
              "}\n",
              "\n",
              "#sk-container-id-4 div.sk-toggleable__content.fitted {\n",
              "  /* fitted */\n",
              "  background-color: var(--sklearn-color-fitted-level-0);\n",
              "}\n",
              "\n",
              "#sk-container-id-4 div.sk-toggleable__content pre {\n",
              "  margin: 0.2em;\n",
              "  border-radius: 0.25em;\n",
              "  color: var(--sklearn-color-text);\n",
              "  /* unfitted */\n",
              "  background-color: var(--sklearn-color-unfitted-level-0);\n",
              "}\n",
              "\n",
              "#sk-container-id-4 div.sk-toggleable__content.fitted pre {\n",
              "  /* unfitted */\n",
              "  background-color: var(--sklearn-color-fitted-level-0);\n",
              "}\n",
              "\n",
              "#sk-container-id-4 input.sk-toggleable__control:checked~div.sk-toggleable__content {\n",
              "  /* Expand drop-down */\n",
              "  max-height: 200px;\n",
              "  max-width: 100%;\n",
              "  overflow: auto;\n",
              "}\n",
              "\n",
              "#sk-container-id-4 input.sk-toggleable__control:checked~label.sk-toggleable__label-arrow:before {\n",
              "  content: \"▾\";\n",
              "}\n",
              "\n",
              "/* Pipeline/ColumnTransformer-specific style */\n",
              "\n",
              "#sk-container-id-4 div.sk-label input.sk-toggleable__control:checked~label.sk-toggleable__label {\n",
              "  color: var(--sklearn-color-text);\n",
              "  background-color: var(--sklearn-color-unfitted-level-2);\n",
              "}\n",
              "\n",
              "#sk-container-id-4 div.sk-label.fitted input.sk-toggleable__control:checked~label.sk-toggleable__label {\n",
              "  background-color: var(--sklearn-color-fitted-level-2);\n",
              "}\n",
              "\n",
              "/* Estimator-specific style */\n",
              "\n",
              "/* Colorize estimator box */\n",
              "#sk-container-id-4 div.sk-estimator input.sk-toggleable__control:checked~label.sk-toggleable__label {\n",
              "  /* unfitted */\n",
              "  background-color: var(--sklearn-color-unfitted-level-2);\n",
              "}\n",
              "\n",
              "#sk-container-id-4 div.sk-estimator.fitted input.sk-toggleable__control:checked~label.sk-toggleable__label {\n",
              "  /* fitted */\n",
              "  background-color: var(--sklearn-color-fitted-level-2);\n",
              "}\n",
              "\n",
              "#sk-container-id-4 div.sk-label label.sk-toggleable__label,\n",
              "#sk-container-id-4 div.sk-label label {\n",
              "  /* The background is the default theme color */\n",
              "  color: var(--sklearn-color-text-on-default-background);\n",
              "}\n",
              "\n",
              "/* On hover, darken the color of the background */\n",
              "#sk-container-id-4 div.sk-label:hover label.sk-toggleable__label {\n",
              "  color: var(--sklearn-color-text);\n",
              "  background-color: var(--sklearn-color-unfitted-level-2);\n",
              "}\n",
              "\n",
              "/* Label box, darken color on hover, fitted */\n",
              "#sk-container-id-4 div.sk-label.fitted:hover label.sk-toggleable__label.fitted {\n",
              "  color: var(--sklearn-color-text);\n",
              "  background-color: var(--sklearn-color-fitted-level-2);\n",
              "}\n",
              "\n",
              "/* Estimator label */\n",
              "\n",
              "#sk-container-id-4 div.sk-label label {\n",
              "  font-family: monospace;\n",
              "  font-weight: bold;\n",
              "  display: inline-block;\n",
              "  line-height: 1.2em;\n",
              "}\n",
              "\n",
              "#sk-container-id-4 div.sk-label-container {\n",
              "  text-align: center;\n",
              "}\n",
              "\n",
              "/* Estimator-specific */\n",
              "#sk-container-id-4 div.sk-estimator {\n",
              "  font-family: monospace;\n",
              "  border: 1px dotted var(--sklearn-color-border-box);\n",
              "  border-radius: 0.25em;\n",
              "  box-sizing: border-box;\n",
              "  margin-bottom: 0.5em;\n",
              "  /* unfitted */\n",
              "  background-color: var(--sklearn-color-unfitted-level-0);\n",
              "}\n",
              "\n",
              "#sk-container-id-4 div.sk-estimator.fitted {\n",
              "  /* fitted */\n",
              "  background-color: var(--sklearn-color-fitted-level-0);\n",
              "}\n",
              "\n",
              "/* on hover */\n",
              "#sk-container-id-4 div.sk-estimator:hover {\n",
              "  /* unfitted */\n",
              "  background-color: var(--sklearn-color-unfitted-level-2);\n",
              "}\n",
              "\n",
              "#sk-container-id-4 div.sk-estimator.fitted:hover {\n",
              "  /* fitted */\n",
              "  background-color: var(--sklearn-color-fitted-level-2);\n",
              "}\n",
              "\n",
              "/* Specification for estimator info (e.g. \"i\" and \"?\") */\n",
              "\n",
              "/* Common style for \"i\" and \"?\" */\n",
              "\n",
              ".sk-estimator-doc-link,\n",
              "a:link.sk-estimator-doc-link,\n",
              "a:visited.sk-estimator-doc-link {\n",
              "  float: right;\n",
              "  font-size: smaller;\n",
              "  line-height: 1em;\n",
              "  font-family: monospace;\n",
              "  background-color: var(--sklearn-color-background);\n",
              "  border-radius: 1em;\n",
              "  height: 1em;\n",
              "  width: 1em;\n",
              "  text-decoration: none !important;\n",
              "  margin-left: 1ex;\n",
              "  /* unfitted */\n",
              "  border: var(--sklearn-color-unfitted-level-1) 1pt solid;\n",
              "  color: var(--sklearn-color-unfitted-level-1);\n",
              "}\n",
              "\n",
              ".sk-estimator-doc-link.fitted,\n",
              "a:link.sk-estimator-doc-link.fitted,\n",
              "a:visited.sk-estimator-doc-link.fitted {\n",
              "  /* fitted */\n",
              "  border: var(--sklearn-color-fitted-level-1) 1pt solid;\n",
              "  color: var(--sklearn-color-fitted-level-1);\n",
              "}\n",
              "\n",
              "/* On hover */\n",
              "div.sk-estimator:hover .sk-estimator-doc-link:hover,\n",
              ".sk-estimator-doc-link:hover,\n",
              "div.sk-label-container:hover .sk-estimator-doc-link:hover,\n",
              ".sk-estimator-doc-link:hover {\n",
              "  /* unfitted */\n",
              "  background-color: var(--sklearn-color-unfitted-level-3);\n",
              "  color: var(--sklearn-color-background);\n",
              "  text-decoration: none;\n",
              "}\n",
              "\n",
              "div.sk-estimator.fitted:hover .sk-estimator-doc-link.fitted:hover,\n",
              ".sk-estimator-doc-link.fitted:hover,\n",
              "div.sk-label-container:hover .sk-estimator-doc-link.fitted:hover,\n",
              ".sk-estimator-doc-link.fitted:hover {\n",
              "  /* fitted */\n",
              "  background-color: var(--sklearn-color-fitted-level-3);\n",
              "  color: var(--sklearn-color-background);\n",
              "  text-decoration: none;\n",
              "}\n",
              "\n",
              "/* Span, style for the box shown on hovering the info icon */\n",
              ".sk-estimator-doc-link span {\n",
              "  display: none;\n",
              "  z-index: 9999;\n",
              "  position: relative;\n",
              "  font-weight: normal;\n",
              "  right: .2ex;\n",
              "  padding: .5ex;\n",
              "  margin: .5ex;\n",
              "  width: min-content;\n",
              "  min-width: 20ex;\n",
              "  max-width: 50ex;\n",
              "  color: var(--sklearn-color-text);\n",
              "  box-shadow: 2pt 2pt 4pt #999;\n",
              "  /* unfitted */\n",
              "  background: var(--sklearn-color-unfitted-level-0);\n",
              "  border: .5pt solid var(--sklearn-color-unfitted-level-3);\n",
              "}\n",
              "\n",
              ".sk-estimator-doc-link.fitted span {\n",
              "  /* fitted */\n",
              "  background: var(--sklearn-color-fitted-level-0);\n",
              "  border: var(--sklearn-color-fitted-level-3);\n",
              "}\n",
              "\n",
              ".sk-estimator-doc-link:hover span {\n",
              "  display: block;\n",
              "}\n",
              "\n",
              "/* \"?\"-specific style due to the `<a>` HTML tag */\n",
              "\n",
              "#sk-container-id-4 a.estimator_doc_link {\n",
              "  float: right;\n",
              "  font-size: 1rem;\n",
              "  line-height: 1em;\n",
              "  font-family: monospace;\n",
              "  background-color: var(--sklearn-color-background);\n",
              "  border-radius: 1rem;\n",
              "  height: 1rem;\n",
              "  width: 1rem;\n",
              "  text-decoration: none;\n",
              "  /* unfitted */\n",
              "  color: var(--sklearn-color-unfitted-level-1);\n",
              "  border: var(--sklearn-color-unfitted-level-1) 1pt solid;\n",
              "}\n",
              "\n",
              "#sk-container-id-4 a.estimator_doc_link.fitted {\n",
              "  /* fitted */\n",
              "  border: var(--sklearn-color-fitted-level-1) 1pt solid;\n",
              "  color: var(--sklearn-color-fitted-level-1);\n",
              "}\n",
              "\n",
              "/* On hover */\n",
              "#sk-container-id-4 a.estimator_doc_link:hover {\n",
              "  /* unfitted */\n",
              "  background-color: var(--sklearn-color-unfitted-level-3);\n",
              "  color: var(--sklearn-color-background);\n",
              "  text-decoration: none;\n",
              "}\n",
              "\n",
              "#sk-container-id-4 a.estimator_doc_link.fitted:hover {\n",
              "  /* fitted */\n",
              "  background-color: var(--sklearn-color-fitted-level-3);\n",
              "}\n",
              "</style><div id=\"sk-container-id-4\" class=\"sk-top-container\"><div class=\"sk-text-repr-fallback\"><pre>RandomForestClassifier(criterion=&#x27;entropy&#x27;, max_depth=8, min_samples_leaf=12,\n",
              "                       min_samples_split=58, n_estimators=237, n_jobs=-1,\n",
              "                       oob_score=True, random_state=540079)</pre><b>In a Jupyter environment, please rerun this cell to show the HTML representation or trust the notebook. <br />On GitHub, the HTML representation is unable to render, please try loading this page with nbviewer.org.</b></div><div class=\"sk-container\" hidden><div class=\"sk-item\"><div class=\"sk-estimator fitted sk-toggleable\"><input class=\"sk-toggleable__control sk-hidden--visually\" id=\"sk-estimator-id-4\" type=\"checkbox\" checked><label for=\"sk-estimator-id-4\" class=\"sk-toggleable__label fitted sk-toggleable__label-arrow fitted\">&nbsp;&nbsp;RandomForestClassifier<a class=\"sk-estimator-doc-link fitted\" rel=\"noreferrer\" target=\"_blank\" href=\"https://scikit-learn.org/1.5/modules/generated/sklearn.ensemble.RandomForestClassifier.html\">?<span>Documentation for RandomForestClassifier</span></a><span class=\"sk-estimator-doc-link fitted\">i<span>Fitted</span></span></label><div class=\"sk-toggleable__content fitted\"><pre>RandomForestClassifier(criterion=&#x27;entropy&#x27;, max_depth=8, min_samples_leaf=12,\n",
              "                       min_samples_split=58, n_estimators=237, n_jobs=-1,\n",
              "                       oob_score=True, random_state=540079)</pre></div> </div></div></div></div>"
            ],
            "text/plain": [
              "RandomForestClassifier(criterion='entropy', max_depth=8, min_samples_leaf=12,\n",
              "                       min_samples_split=58, n_estimators=237, n_jobs=-1,\n",
              "                       oob_score=True, random_state=540079)"
            ]
          },
          "execution_count": 44,
          "metadata": {},
          "output_type": "execute_result"
        }
      ],
      "source": [
        "model_rf_1 = RandomForestClassifier(\n",
        "        **study.best_params,\n",
        "        criterion=\"entropy\",\n",
        "        random_state=semillas[0],\n",
        "        n_jobs=-1,\n",
        "        oob_score=True,\n",
        "    )\n",
        "\n",
        "model_rf_1.fit(Xtrain_rf_imp, ytrain_rf)"
      ]
    },
    {
      "cell_type": "code",
      "execution_count": 15,
      "metadata": {},
      "outputs": [],
      "source": [
        "##guardo el modelo\n",
        "\n",
        "filename = modelos_path + 'exp_segmentacion_random-forest_7.sav'\n",
        "#pickle.dump(model_rf_1, open(filename, 'wb')) "
      ]
    },
    {
      "cell_type": "code",
      "execution_count": 16,
      "metadata": {},
      "outputs": [],
      "source": [
        "#levanto el modelo\n",
        "model_rf_1 = pickle.load(open(filename, 'rb'))"
      ]
    },
    {
      "cell_type": "code",
      "execution_count": 17,
      "metadata": {},
      "outputs": [
        {
          "data": {
            "text/html": [
              "<div>\n",
              "<style scoped>\n",
              "    .dataframe tbody tr th:only-of-type {\n",
              "        vertical-align: middle;\n",
              "    }\n",
              "\n",
              "    .dataframe tbody tr th {\n",
              "        vertical-align: top;\n",
              "    }\n",
              "\n",
              "    .dataframe thead th {\n",
              "        text-align: right;\n",
              "    }\n",
              "</style>\n",
              "<table border=\"1\" class=\"dataframe\">\n",
              "  <thead>\n",
              "    <tr style=\"text-align: right;\">\n",
              "      <th></th>\n",
              "      <th>feature</th>\n",
              "      <th>importance</th>\n",
              "    </tr>\n",
              "  </thead>\n",
              "  <tbody>\n",
              "    <tr>\n",
              "      <th>4</th>\n",
              "      <td>percent_rank_ctrx_quarter</td>\n",
              "      <td>0.112704</td>\n",
              "    </tr>\n",
              "    <tr>\n",
              "      <th>3</th>\n",
              "      <td>ctrx_quarter</td>\n",
              "      <td>0.105882</td>\n",
              "    </tr>\n",
              "    <tr>\n",
              "      <th>2</th>\n",
              "      <td>avg_3_ctrx_quarter</td>\n",
              "      <td>0.068065</td>\n",
              "    </tr>\n",
              "    <tr>\n",
              "      <th>8</th>\n",
              "      <td>percent_rank_mpayroll</td>\n",
              "      <td>0.058562</td>\n",
              "    </tr>\n",
              "    <tr>\n",
              "      <th>1</th>\n",
              "      <td>lag_1_ctrx_quarter</td>\n",
              "      <td>0.054193</td>\n",
              "    </tr>\n",
              "    <tr>\n",
              "      <th>5</th>\n",
              "      <td>mpayroll</td>\n",
              "      <td>0.051445</td>\n",
              "    </tr>\n",
              "    <tr>\n",
              "      <th>9</th>\n",
              "      <td>m_payroll_total</td>\n",
              "      <td>0.044230</td>\n",
              "    </tr>\n",
              "    <tr>\n",
              "      <th>13</th>\n",
              "      <td>m_cpayroll_total</td>\n",
              "      <td>0.037648</td>\n",
              "    </tr>\n",
              "    <tr>\n",
              "      <th>11</th>\n",
              "      <td>mcaja_ahorro</td>\n",
              "      <td>0.037371</td>\n",
              "    </tr>\n",
              "    <tr>\n",
              "      <th>15</th>\n",
              "      <td>percent_rank_cpayroll_trx</td>\n",
              "      <td>0.036764</td>\n",
              "    </tr>\n",
              "    <tr>\n",
              "      <th>21</th>\n",
              "      <td>mtarjetas_consumo</td>\n",
              "      <td>0.036334</td>\n",
              "    </tr>\n",
              "    <tr>\n",
              "      <th>10</th>\n",
              "      <td>cpayroll_trx</td>\n",
              "      <td>0.031027</td>\n",
              "    </tr>\n",
              "    <tr>\n",
              "      <th>14</th>\n",
              "      <td>percent_rank_mcaja_ahorro</td>\n",
              "      <td>0.029301</td>\n",
              "    </tr>\n",
              "    <tr>\n",
              "      <th>16</th>\n",
              "      <td>percent_rank_mtarjeta_visa_consumo</td>\n",
              "      <td>0.028500</td>\n",
              "    </tr>\n",
              "    <tr>\n",
              "      <th>26</th>\n",
              "      <td>mcomisiones_mantenimiento_slope_3</td>\n",
              "      <td>0.023446</td>\n",
              "    </tr>\n",
              "    <tr>\n",
              "      <th>23</th>\n",
              "      <td>avg_3_cpayroll_trx</td>\n",
              "      <td>0.022704</td>\n",
              "    </tr>\n",
              "    <tr>\n",
              "      <th>7</th>\n",
              "      <td>mtarjeta_visa_consumo</td>\n",
              "      <td>0.022696</td>\n",
              "    </tr>\n",
              "    <tr>\n",
              "      <th>12</th>\n",
              "      <td>avg_3_mcaja_ahorro</td>\n",
              "      <td>0.021422</td>\n",
              "    </tr>\n",
              "    <tr>\n",
              "      <th>25</th>\n",
              "      <td>percent_rank_mcuentas_saldo</td>\n",
              "      <td>0.020330</td>\n",
              "    </tr>\n",
              "    <tr>\n",
              "      <th>20</th>\n",
              "      <td>avg_3_mpasivos_margen</td>\n",
              "      <td>0.020062</td>\n",
              "    </tr>\n",
              "    <tr>\n",
              "      <th>19</th>\n",
              "      <td>mpasivos_margen</td>\n",
              "      <td>0.019190</td>\n",
              "    </tr>\n",
              "    <tr>\n",
              "      <th>17</th>\n",
              "      <td>percent_rank_mpasivos_margen</td>\n",
              "      <td>0.018418</td>\n",
              "    </tr>\n",
              "    <tr>\n",
              "      <th>30</th>\n",
              "      <td>cant_transac_tarjetas</td>\n",
              "      <td>0.016252</td>\n",
              "    </tr>\n",
              "    <tr>\n",
              "      <th>28</th>\n",
              "      <td>avg_3_mpayroll</td>\n",
              "      <td>0.014775</td>\n",
              "    </tr>\n",
              "    <tr>\n",
              "      <th>27</th>\n",
              "      <td>lag_1_mpasivos_margen</td>\n",
              "      <td>0.013657</td>\n",
              "    </tr>\n",
              "  </tbody>\n",
              "</table>\n",
              "</div>"
            ],
            "text/plain": [
              "                               feature  importance\n",
              "4            percent_rank_ctrx_quarter    0.112704\n",
              "3                         ctrx_quarter    0.105882\n",
              "2                   avg_3_ctrx_quarter    0.068065\n",
              "8                percent_rank_mpayroll    0.058562\n",
              "1                   lag_1_ctrx_quarter    0.054193\n",
              "5                             mpayroll    0.051445\n",
              "9                      m_payroll_total    0.044230\n",
              "13                    m_cpayroll_total    0.037648\n",
              "11                        mcaja_ahorro    0.037371\n",
              "15           percent_rank_cpayroll_trx    0.036764\n",
              "21                   mtarjetas_consumo    0.036334\n",
              "10                        cpayroll_trx    0.031027\n",
              "14           percent_rank_mcaja_ahorro    0.029301\n",
              "16  percent_rank_mtarjeta_visa_consumo    0.028500\n",
              "26   mcomisiones_mantenimiento_slope_3    0.023446\n",
              "23                  avg_3_cpayroll_trx    0.022704\n",
              "7                mtarjeta_visa_consumo    0.022696\n",
              "12                  avg_3_mcaja_ahorro    0.021422\n",
              "25         percent_rank_mcuentas_saldo    0.020330\n",
              "20               avg_3_mpasivos_margen    0.020062\n",
              "19                     mpasivos_margen    0.019190\n",
              "17        percent_rank_mpasivos_margen    0.018418\n",
              "30               cant_transac_tarjetas    0.016252\n",
              "28                      avg_3_mpayroll    0.014775\n",
              "27               lag_1_mpasivos_margen    0.013657"
            ]
          },
          "execution_count": 17,
          "metadata": {},
          "output_type": "execute_result"
        }
      ],
      "source": [
        "importances = model_rf_1.feature_importances_\n",
        "\n",
        "features = Xtrain_rf.columns\n",
        "feat_importances = pd.DataFrame({'feature': features, 'importance': importances})\n",
        "feat_importances = feat_importances.sort_values('importance', ascending=False)\n",
        "\n",
        "feat_importances.head(25)"
      ]
    },
    {
      "cell_type": "markdown",
      "metadata": {
        "id": "3WkehiTNzRrL"
      },
      "source": [
        "Armamos (copiamos de internet) una función que nos calcule la matriz de distancias"
      ]
    },
    {
      "cell_type": "code",
      "execution_count": 18,
      "metadata": {
        "id": "Ab0UY9VAo1mj"
      },
      "outputs": [],
      "source": [
        "def distanceMatrix(model, X):\n",
        "\n",
        "    terminals = model.apply(X)\n",
        "    nTrees = terminals.shape[1]\n",
        "\n",
        "    a = terminals[:,0]\n",
        "    proxMat = 1*np.equal.outer(a, a)\n",
        "\n",
        "    for i in range(1, nTrees):\n",
        "        a = terminals[:,i]\n",
        "        proxMat += 1*np.equal.outer(a, a)\n",
        "\n",
        "    proxMat = proxMat / nTrees\n",
        "\n",
        "    return proxMat.max() - proxMat\n",
        "\n",
        "md = distanceMatrix(model_rf_1, Xtrain_rf_imp)"
      ]
    },
    {
      "cell_type": "code",
      "execution_count": 19,
      "metadata": {
        "colab": {
          "base_uri": "https://localhost:8080/"
        },
        "id": "jM0crgSQqC5x",
        "outputId": "cdf7d73d-fbc2-4a1c-ce31-2056e062dc57"
      },
      "outputs": [
        {
          "name": "stdout",
          "output_type": "stream",
          "text": [
            "[[0.         1.         1.         ... 0.99578059 0.97890295 0.96624473]\n",
            " [1.         0.         0.91983122 ... 1.         1.         1.        ]\n",
            " [1.         0.91983122 0.         ... 1.         1.         1.        ]\n",
            " ...\n",
            " [0.99578059 1.         1.         ... 0.         0.9535865  0.91561181]\n",
            " [0.97890295 1.         1.         ... 0.9535865  0.         0.97046414]\n",
            " [0.96624473 1.         1.         ... 0.91561181 0.97046414 0.        ]]\n"
          ]
        }
      ],
      "source": [
        "print(md)"
      ]
    },
    {
      "cell_type": "code",
      "execution_count": null,
      "metadata": {},
      "outputs": [],
      "source": [
        "# Un valor cercano a 0 indica que las muestras han sido clasificadas de manera similar por el bosque (caen en las mismas hojas en muchos árboles).\n",
        "# Un valor cercano a 1 indica que las muestras fueron clasificadas de manera diferente en la mayoría de los árboles.\n",
        "\n",
        "### Entonces, la diagonal de la matriz va a ser 0 ya que voy a estar comparando cada muestra consigo misma, por cada fila me compara ese cliente con todo el resto, y asi con el resto de clientes, \n"
      ]
    },
    {
      "cell_type": "markdown",
      "metadata": {
        "id": "xrhE0O2nzodC"
      },
      "source": [
        "Para poder visualizar la matriz, utilizaremos un embedding. Los *embeddings* son representaciones vectoriales de datos en un espacio de menor dimensión\n",
        "\n",
        "Podría utilizar un **PCA** con ese fin, pero en los últimos años hay mejores algoritmos como **t-sne** o **umap**.\n",
        "\n",
        "UMAP (Uniform Manifold Approximation and Projection) es una técnica avanzada para la reducción de dimensionalidad y visualización de datos en espacios de menor dimensión, que busca mantener al máximo la estructura de los datos en alta dimensión.\n",
        "\n",
        "1. **Preservación de la Estructura Global y Local**:\n",
        "   - Intenta preservar tanto la estructura local (relaciones cercanas) como la global (estructura general) de los datos al proyectarlos en un espacio de menor dimensión.\n",
        "\n",
        "2. **Basado en Manifold Learning**:\n",
        "   - UMAP asume que los datos de alta dimensión se encuentran en un espacio de menor dimensión (un \"manifold\") y busca proyectar esos datos de manera que se mantenga esa estructura subyacente.\n",
        "\n",
        "3. **Velocidad y Escalabilidad**:\n",
        "   - UMAP es más rápido y escalable en comparación con técnicas similares como t-SNE, especialmente en conjuntos de datos grandes.\n",
        "\n",
        "4. **Control sobre la Estructura**:\n",
        "   - UMAP permite al usuario ajustar parámetros que controlan la preservación de la estructura local y global, como el número de vecinos cercanos (n_neighbors) y la distancia mínima entre puntos (min_dist).\n",
        "\n",
        "Una característica adicional, es que cuenta con la posibilidad de recibir de entrada una matriz de distancia.\n",
        "\n",
        "Veamos los datos por primera vez:"
      ]
    },
    {
      "cell_type": "code",
      "execution_count": 20,
      "metadata": {
        "colab": {
          "base_uri": "https://localhost:8080/",
          "height": 544
        },
        "id": "5LRYIYv-rBb6",
        "outputId": "cf878468-23ef-438a-d32b-e07f179f3ccf"
      },
      "outputs": [
        {
          "name": "stderr",
          "output_type": "stream",
          "text": [
            "c:\\Users\\Federico\\AppData\\Local\\Programs\\Python\\Python312\\Lib\\site-packages\\umap\\umap_.py:1945: UserWarning:\n",
            "\n",
            "n_jobs value 1 overridden to 1 by setting random_state. Use no seed for parallelism.\n",
            "\n"
          ]
        },
        {
          "data": {
            "text/plain": [
              "<matplotlib.collections.PathCollection at 0x1e4102696a0>"
            ]
          },
          "execution_count": 20,
          "metadata": {},
          "output_type": "execute_result"
        },
        {
          "data": {
            "image/png": "[encoded data removed]",
            "text/plain": [
              "<Figure size 640x480 with 1 Axes>"
            ]
          },
          "metadata": {},
          "output_type": "display_data"
        }
      ],
      "source": [
        "# embedding_rf = UMAP(\n",
        "#   n_components=2,\n",
        "#   n_neighbors=40,\n",
        "#   min_dist=0.1,\n",
        "#   metric=\"euclidean\",\n",
        "#   random_state=semillas[0],\n",
        "# ).fit_transform(md)\n",
        "\n",
        "\n",
        "\n",
        "# plt.scatter(embedding_rf[:,0], embedding_rf[:,1])"
      ]
    },
    {
      "cell_type": "code",
      "execution_count": 21,
      "metadata": {},
      "outputs": [
        {
          "name": "stderr",
          "output_type": "stream",
          "text": [
            "c:\\Users\\Federico\\AppData\\Local\\Programs\\Python\\Python312\\Lib\\site-packages\\umap\\umap_.py:1945: UserWarning:\n",
            "\n",
            "n_jobs value 1 overridden to 1 by setting random_state. Use no seed for parallelism.\n",
            "\n"
          ]
        },
        {
          "data": {
            "text/plain": [
              "<matplotlib.collections.PathCollection at 0x1e310c62de0>"
            ]
          },
          "execution_count": 21,
          "metadata": {},
          "output_type": "execute_result"
        },
        {
          "data": {
            "image/png": "[encoded data removed]",
            "text/plain": [
              "<Figure size 640x480 with 1 Axes>"
            ]
          },
          "metadata": {},
          "output_type": "display_data"
        }
      ],
      "source": [
        "embedding_rf = UMAP(\n",
        "    n_components=2,\n",
        "    n_neighbors=40,          \n",
        "    min_dist=0.05,           \n",
        "    metric=\"euclidean\",       \n",
        "    spread=1.0,              \n",
        "    set_op_mix_ratio=0.8,    \n",
        "    random_state=semillas[0] \n",
        ").fit_transform(md)\n",
        "\n",
        "plt.scatter(embedding_rf[:,0], embedding_rf[:,1])"
      ]
    },
    {
      "cell_type": "markdown",
      "metadata": {
        "id": "r2StQEZK3Guh"
      },
      "source": [
        "Agreguemos la dimensión de la probabilidad de salida, para ver donde cree el modelo que se encuentran los **bajas**."
      ]
    },
    {
      "cell_type": "code",
      "execution_count": 22,
      "metadata": {
        "colab": {
          "base_uri": "https://localhost:8080/",
          "height": 435
        },
        "id": "A1Rfhj7CTeLt",
        "outputId": "cc6bf1e7-2099-4b20-dc81-44ebfab9b88d"
      },
      "outputs": [
        {
          "data": {
            "image/png": "[encoded data removed]",
            "text/plain": [
              "<Figure size 640x480 with 2 Axes>"
            ]
          },
          "metadata": {},
          "output_type": "display_data"
        }
      ],
      "source": [
        "class_index = np.where(model_rf_1.classes_ == 1)[0]\n",
        "prob_baja = model_rf_1.predict_proba(Xtrain_rf_imp)[:,class_index]\n",
        "\n",
        "plt.scatter(embedding_rf[:,0], embedding_rf[:,1], c=prob_baja)\n",
        "plt.colorbar()\n",
        "plt.show()"
      ]
    },
    {
      "cell_type": "markdown",
      "metadata": {
        "id": "xpthaD3P3d4C"
      },
      "source": [
        "Vamos a partir de este embedding para segmentar a los clientes. Puede utilizar cualquier técnica, los datos ya son simples para cualquier algoritmo. Utilizaremos uno bastante estandar"
      ]
    },
    {
      "cell_type": "code",
      "execution_count": 23,
      "metadata": {
        "colab": {
          "base_uri": "https://localhost:8080/",
          "height": 486
        },
        "id": "RtyL7PdqrVpr",
        "outputId": "4e457963-66a5-40bb-c3a5-001a2c249c32"
      },
      "outputs": [
        {
          "data": {
            "image/png": "[encoded data removed]",
            "text/plain": [
              "<Figure size 640x480 with 1 Axes>"
            ]
          },
          "metadata": {},
          "output_type": "display_data"
        }
      ],
      "source": [
        "hdb = DBSCAN(eps=0.2)\n",
        "y = hdb.fit(embedding_rf)\n",
        "\n",
        "plt.scatter(embedding_rf[:, 0], embedding_rf[:, 1], c=y.labels_, cmap='tab10')\n",
        "# plt.tight_layout()\n",
        "plt.show()"
      ]
    },
    {
      "cell_type": "code",
      "execution_count": 24,
      "metadata": {},
      "outputs": [
        {
          "data": {
            "image/png": "[encoded data removed]",
            "text/plain": [
              "<Figure size 1200x600 with 4 Axes>"
            ]
          },
          "metadata": {},
          "output_type": "display_data"
        }
      ],
      "source": [
        "hdb = DBSCAN(eps=0.21)\n",
        "y = hdb.fit(embedding_rf)\n",
        "\n",
        "# Creamos la figura con 2 subplots\n",
        "fig, (ax1, ax2) = plt.subplots(1, 2, figsize=(12, 6))\n",
        "\n",
        "# Primer gráfico: clusters con anotaciones\n",
        "scatter1 = ax1.scatter(embedding_rf[:, 0], embedding_rf[:, 1], c=y.labels_, cmap='tab10')\n",
        "\n",
        "# Anotamos el número de clústeres en el centro de cada grupo\n",
        "unique_labels = set(y.labels_)\n",
        "for label in unique_labels:\n",
        "    if label == -1:  # Ignoramos el ruido (outliers)\n",
        "        continue\n",
        "    mask = (y.labels_ == label)\n",
        "    cluster_center = embedding_rf[mask].mean(axis=0)\n",
        "    ax1.annotate(f'{label}', cluster_center, textcoords=\"offset points\", xytext=(0, 10), ha='center')\n",
        "\n",
        "ax1.set_title('Clusters con DBSCAN')\n",
        "fig.colorbar(scatter1, ax=ax1)\n",
        "\n",
        "# Segundo gráfico: probabilidades de clase\n",
        "class_index = np.where(model_rf_1.classes_ == 1)[0]\n",
        "prob_baja = model_rf_1.predict_proba(Xtrain_rf_imp)[:, class_index]\n",
        "\n",
        "scatter2 = ax2.scatter(embedding_rf[:, 0], embedding_rf[:, 1], c=prob_baja)\n",
        "ax2.set_title('Probabilidades de Baja')\n",
        "fig.colorbar(scatter2, ax=ax2)\n",
        "\n",
        "# Ajustamos el layout de toda la figura\n",
        "plt.tight_layout()\n",
        "plt.show()"
      ]
    },
    {
      "cell_type": "code",
      "execution_count": null,
      "metadata": {},
      "outputs": [],
      "source": [
        "pd.Series(y.labels_).value_counts()"
      ]
    },
    {
      "cell_type": "code",
      "execution_count": null,
      "metadata": {},
      "outputs": [],
      "source": [
        "df_embedding = pd.DataFrame(embedding_rf, columns=['embedding_1', 'embedding_2'])\n",
        "df_embedding['cluster'] = y.labels_\n",
        "\n",
        "clusters = df_embedding['cluster'].unique()\n",
        "\n",
        "important_features_by_cluster = {}\n",
        "\n",
        "for cluster in clusters:\n",
        "  y_binary = (df_embedding['cluster'] == cluster).astype(int)\n",
        "\n",
        "  #model = RandomForestClassifier(random_state=17) yo ya tengo mi rf guardado, uso ese\n",
        "  model_rf_1.fit(Xtrain_rf_imp, y_binary)\n",
        "\n",
        "  importances = model_rf_1.feature_importances_\n",
        "  feature_names = Xtrain_rf.columns\n",
        "\n",
        "  indices = np.argsort(importances)[::-1]\n",
        "  important_features_by_cluster[cluster] = [feature_names[i] for i in indices]"
      ]
    },
    {
      "cell_type": "code",
      "execution_count": null,
      "metadata": {},
      "outputs": [],
      "source": [
        "for cluster, features in important_features_by_cluster.items():\n",
        "  print(f\"Cluster {cluster} vs. Resto:\")\n",
        "  for feature in features[:12]:\n",
        "    print(f\"  - {feature}\")\n"
      ]
    },
    {
      "cell_type": "markdown",
      "metadata": {},
      "source": [
        "## comparacion 1 vs 1"
      ]
    },
    {
      "cell_type": "code",
      "execution_count": null,
      "metadata": {},
      "outputs": [],
      "source": [
        "def compare_two_clusters(df_embedding, Xtrain_rf_imp, model_rf_1, cluster_1, cluster_2, num_features=12):\n",
        "    # Cluster 1\n",
        "    y_binary_1 = (df_embedding['cluster'] == cluster_1).astype(int)\n",
        "    importances_1 = model_rf_1.fit(Xtrain_rf_imp, y_binary_1).feature_importances_\n",
        "    \n",
        "    # Cluster 2\n",
        "    y_binary_2 = (df_embedding['cluster'] == cluster_2).astype(int)\n",
        "    importances_2 = model_rf_1.fit(Xtrain_rf_imp, y_binary_2).feature_importances_\n",
        "    \n",
        "    # Calculamos la diferencia entre las importancias de los clusters\n",
        "    difference = importances_1 - importances_2\n",
        "    feature_names = Xtrain_rf.columns\n",
        "    indices = np.argsort(np.abs(difference))[::-1]\n",
        "    \n",
        "    important_features = [feature_names[i] for i in indices[:num_features]]\n",
        "    \n",
        "    print(f\"Comparación entre Cluster {cluster_1} y Cluster {cluster_2}:\")\n",
        "    for feature in important_features:\n",
        "        print(f\" - {feature}\")\n",
        "    \n",
        "    return important_features\n",
        "\n",
        "important_features = compare_two_clusters(df_embedding, Xtrain_rf_imp, model_rf_1, 2, 6)"
      ]
    },
    {
      "cell_type": "code",
      "execution_count": null,
      "metadata": {},
      "outputs": [],
      "source": []
    },
    {
      "cell_type": "code",
      "execution_count": 25,
      "metadata": {},
      "outputs": [
        {
          "data": {
            "image/png": "[encoded data removed]",
            "text/plain": [
              "<Figure size 640x480 with 2 Axes>"
            ]
          },
          "metadata": {},
          "output_type": "display_data"
        }
      ],
      "source": [
        "plt.hexbin(embedding_rf[:,0], embedding_rf[:,1], C=ytrain_rf, gridsize=50, cmap='coolwarm', reduce_C_function=np.mean)\n",
        "plt.colorbar()\n",
        "plt.show()"
      ]
    },
    {
      "cell_type": "code",
      "execution_count": 46,
      "metadata": {},
      "outputs": [
        {
          "ename": "IndexError",
          "evalue": "boolean index did not match indexed array along axis 0; size of axis is 5974 but size of corresponding boolean axis is 10974",
          "output_type": "error",
          "traceback": [
            "\u001b[1;31m---------------------------------------------------------------------------\u001b[0m",
            "\u001b[1;31mIndexError\u001b[0m                                Traceback (most recent call last)",
            "Cell \u001b[1;32mIn[46], line 6\u001b[0m\n\u001b[0;32m      3\u001b[0m no_bajas \u001b[38;5;241m=\u001b[39m ytrain_rf \u001b[38;5;241m==\u001b[39m \u001b[38;5;241m0\u001b[39m  \u001b[38;5;66;03m# Boolean mask for no bajas (0)\u001b[39;00m\n\u001b[0;32m      5\u001b[0m \u001b[38;5;66;03m# Scatter plot para los puntos \"bajas\"\u001b[39;00m\n\u001b[1;32m----> 6\u001b[0m plt\u001b[38;5;241m.\u001b[39mscatter(\u001b[43membedding_rf\u001b[49m\u001b[43m[\u001b[49m\u001b[43mbajas\u001b[49m\u001b[43m,\u001b[49m\u001b[43m \u001b[49m\u001b[38;5;241;43m0\u001b[39;49m\u001b[43m]\u001b[49m, embedding_rf[bajas, \u001b[38;5;241m1\u001b[39m], color\u001b[38;5;241m=\u001b[39m\u001b[38;5;124m'\u001b[39m\u001b[38;5;124mred\u001b[39m\u001b[38;5;124m'\u001b[39m, label\u001b[38;5;241m=\u001b[39m\u001b[38;5;124m'\u001b[39m\u001b[38;5;124mBaja\u001b[39m\u001b[38;5;124m'\u001b[39m, alpha\u001b[38;5;241m=\u001b[39m\u001b[38;5;241m0.5\u001b[39m)\n\u001b[0;32m      8\u001b[0m \u001b[38;5;66;03m# Scatter plot para los puntos \"no bajas\"\u001b[39;00m\n\u001b[0;32m      9\u001b[0m plt\u001b[38;5;241m.\u001b[39mscatter(embedding_rf[no_bajas, \u001b[38;5;241m0\u001b[39m], embedding_rf[no_bajas, \u001b[38;5;241m1\u001b[39m], color\u001b[38;5;241m=\u001b[39m\u001b[38;5;124m'\u001b[39m\u001b[38;5;124mblue\u001b[39m\u001b[38;5;124m'\u001b[39m, label\u001b[38;5;241m=\u001b[39m\u001b[38;5;124m'\u001b[39m\u001b[38;5;124mNo baja\u001b[39m\u001b[38;5;124m'\u001b[39m, alpha\u001b[38;5;241m=\u001b[39m\u001b[38;5;241m0.5\u001b[39m)\n",
            "\u001b[1;31mIndexError\u001b[0m: boolean index did not match indexed array along axis 0; size of axis is 5974 but size of corresponding boolean axis is 10974"
          ]
        }
      ],
      "source": [
        "# Asumimos que ytrain_rf es una lista/array con 0 (no baja) y 1 (baja)\n",
        "bajas = ytrain_rf == 1  # Boolean mask for bajas (1)\n",
        "no_bajas = ytrain_rf == 0  # Boolean mask for no bajas (0)\n",
        "\n",
        "# Scatter plot para los puntos \"bajas\"\n",
        "plt.scatter(embedding_rf[bajas, 0], embedding_rf[bajas, 1], color='red', label='Baja', alpha=0.5)\n",
        "\n",
        "# Scatter plot para los puntos \"no bajas\"\n",
        "plt.scatter(embedding_rf[no_bajas, 0], embedding_rf[no_bajas, 1], color='blue', label='No baja', alpha=0.5)\n",
        "\n",
        "# Agregamos etiquetas, título y leyenda\n",
        "plt.title(\"Segmentación de Embeddings\")\n",
        "plt.xlabel(\"Embedding 1\")\n",
        "plt.ylabel(\"Embedding 2\")\n",
        "plt.legend()\n",
        "plt.show()"
      ]
    },
    {
      "cell_type": "markdown",
      "metadata": {},
      "source": [
        "Okey al final los cluster que arme pensando y asigna una probabilidad alta de baja son una mezcla de baja y continua.. No es muy bueno el rf. Pero a miranda le interesa el perfil de las personas que se dan de baja. Podria armar cluster con solo los baja? Filtro la matriz de distancia con las etiquetas que tengo de ytrain_rf, md[ytrain_rf==1,][:,ytrain_rf==1]"
      ]
    },
    {
      "cell_type": "code",
      "execution_count": 47,
      "metadata": {},
      "outputs": [
        {
          "name": "stderr",
          "output_type": "stream",
          "text": [
            "c:\\Users\\Federico\\AppData\\Local\\Programs\\Python\\Python312\\Lib\\site-packages\\umap\\umap_.py:1945: UserWarning:\n",
            "\n",
            "n_jobs value 1 overridden to 1 by setting random_state. Use no seed for parallelism.\n",
            "\n"
          ]
        },
        {
          "data": {
            "text/plain": [
              "<matplotlib.collections.PathCollection at 0x1e40feb0650>"
            ]
          },
          "execution_count": 47,
          "metadata": {},
          "output_type": "execute_result"
        },
        {
          "data": {
            "image/png": "[encoded data removed]",
            "text/plain": [
              "<Figure size 640x480 with 1 Axes>"
            ]
          },
          "metadata": {},
          "output_type": "display_data"
        }
      ],
      "source": [
        "embedding_rf = UMAP(\n",
        "    n_components=2,\n",
        "    n_neighbors=40,          \n",
        "    min_dist=0.05,           \n",
        "    metric=\"euclidean\",       \n",
        "    spread=1.0,              \n",
        "    set_op_mix_ratio=0.8,    \n",
        "    random_state=semillas[0] \n",
        ").fit_transform(md[ytrain_rf==1,][:,ytrain_rf==1])\n",
        "\n",
        "plt.scatter(embedding_rf[:,0], embedding_rf[:,1])\n",
        "\n",
        "# embedding_rf = UMAP( \n",
        "#   n_components=2,\n",
        "#   n_neighbors=50,\n",
        "#   metric=\"precomputed\",\n",
        "# ).fit_transform(md[ytrain_rf==1,][:,ytrain_rf==1]) \n"
      ]
    },
    {
      "cell_type": "code",
      "execution_count": 48,
      "metadata": {},
      "outputs": [
        {
          "data": {
            "image/png": "[encoded data removed]",
            "text/plain": [
              "<Figure size 640x480 with 1 Axes>"
            ]
          },
          "metadata": {},
          "output_type": "display_data"
        }
      ],
      "source": [
        "hdb = DBSCAN(eps=0.5)\n",
        "y = hdb.fit(embedding_rf)\n",
        "\n",
        "plt.scatter(embedding_rf[:, 0], embedding_rf[:, 1], c=y.labels_, cmap='tab10')\n",
        "# plt.tight_layout()\n",
        "plt.show()"
      ]
    },
    {
      "cell_type": "markdown",
      "metadata": {
        "id": "1DT8Napm4giz"
      },
      "source": [
        "Veamos cuantos cluster detecto y cuantos clientes tiene cada uno"
      ]
    },
    {
      "cell_type": "code",
      "execution_count": 44,
      "metadata": {
        "colab": {
          "base_uri": "https://localhost:8080/",
          "height": 429
        },
        "id": "oYA4-CLXtGxa",
        "outputId": "55c14c45-6193-4f60-aadb-e3fccaa87b26"
      },
      "outputs": [
        {
          "data": {
            "text/plain": [
              " 0    4318\n",
              " 2     743\n",
              " 1     651\n",
              " 3     249\n",
              " 4      11\n",
              "-1       2\n",
              "Name: count, dtype: int64"
            ]
          },
          "execution_count": 44,
          "metadata": {},
          "output_type": "execute_result"
        }
      ],
      "source": [
        "pd.Series(y.labels_).value_counts()"
      ]
    },
    {
      "cell_type": "code",
      "execution_count": 52,
      "metadata": {},
      "outputs": [
        {
          "name": "stdout",
          "output_type": "stream",
          "text": [
            "   Cliente_Indice  Cluster\n",
            "0               5        0\n",
            "1               6        0\n",
            "2               7        0\n",
            "3               8        0\n",
            "4               9        0\n"
          ]
        }
      ],
      "source": [
        "indices_baja = np.where(ytrain_rf == 1)[0]  # Obtiene los índices originales de los que se dieron de baja\n",
        "\n",
        "# Crear un dataframe para ver qué cliente pertenece a qué cluster\n",
        "df_clusters = pd.DataFrame({\n",
        "    'Cliente_Indice': indices_baja,\n",
        "    'Cluster': y.labels_\n",
        "})\n",
        "\n",
        "# Mostrar los primeros resultados\n",
        "print(df_clusters.head())\n",
        "\n",
        "# # Ahora puedes filtrar por cada cluster\n",
        "# for cluster in np.unique(y.labels_):\n",
        "#     print(f\"Clientes en el cluster {cluster}:\")\n",
        "#     print(df_clusters[df_clusters['Cluster'] == cluster])\n"
      ]
    },
    {
      "cell_type": "code",
      "execution_count": 72,
      "metadata": {},
      "outputs": [
        {
          "data": {
            "text/html": [
              "<div>\n",
              "<style scoped>\n",
              "    .dataframe tbody tr th:only-of-type {\n",
              "        vertical-align: middle;\n",
              "    }\n",
              "\n",
              "    .dataframe tbody tr th {\n",
              "        vertical-align: top;\n",
              "    }\n",
              "\n",
              "    .dataframe thead th {\n",
              "        text-align: right;\n",
              "    }\n",
              "</style>\n",
              "<table border=\"1\" class=\"dataframe\">\n",
              "  <thead>\n",
              "    <tr style=\"text-align: right;\">\n",
              "      <th></th>\n",
              "      <th>Cliente_Indice</th>\n",
              "      <th>Cluster</th>\n",
              "    </tr>\n",
              "  </thead>\n",
              "  <tbody>\n",
              "    <tr>\n",
              "      <th>0</th>\n",
              "      <td>5</td>\n",
              "      <td>0</td>\n",
              "    </tr>\n",
              "    <tr>\n",
              "      <th>1</th>\n",
              "      <td>6</td>\n",
              "      <td>0</td>\n",
              "    </tr>\n",
              "    <tr>\n",
              "      <th>2</th>\n",
              "      <td>7</td>\n",
              "      <td>0</td>\n",
              "    </tr>\n",
              "    <tr>\n",
              "      <th>3</th>\n",
              "      <td>8</td>\n",
              "      <td>0</td>\n",
              "    </tr>\n",
              "    <tr>\n",
              "      <th>4</th>\n",
              "      <td>9</td>\n",
              "      <td>0</td>\n",
              "    </tr>\n",
              "    <tr>\n",
              "      <th>...</th>\n",
              "      <td>...</td>\n",
              "      <td>...</td>\n",
              "    </tr>\n",
              "    <tr>\n",
              "      <th>5969</th>\n",
              "      <td>10966</td>\n",
              "      <td>0</td>\n",
              "    </tr>\n",
              "    <tr>\n",
              "      <th>5970</th>\n",
              "      <td>10969</td>\n",
              "      <td>0</td>\n",
              "    </tr>\n",
              "    <tr>\n",
              "      <th>5971</th>\n",
              "      <td>10971</td>\n",
              "      <td>1</td>\n",
              "    </tr>\n",
              "    <tr>\n",
              "      <th>5972</th>\n",
              "      <td>10972</td>\n",
              "      <td>1</td>\n",
              "    </tr>\n",
              "    <tr>\n",
              "      <th>5973</th>\n",
              "      <td>10973</td>\n",
              "      <td>1</td>\n",
              "    </tr>\n",
              "  </tbody>\n",
              "</table>\n",
              "<p>5974 rows × 2 columns</p>\n",
              "</div>"
            ],
            "text/plain": [
              "      Cliente_Indice  Cluster\n",
              "0                  5        0\n",
              "1                  6        0\n",
              "2                  7        0\n",
              "3                  8        0\n",
              "4                  9        0\n",
              "...              ...      ...\n",
              "5969           10966        0\n",
              "5970           10969        0\n",
              "5971           10971        1\n",
              "5972           10972        1\n",
              "5973           10973        1\n",
              "\n",
              "[5974 rows x 2 columns]"
            ]
          },
          "execution_count": 72,
          "metadata": {},
          "output_type": "execute_result"
        }
      ],
      "source": [
        "df_clusters"
      ]
    },
    {
      "cell_type": "code",
      "execution_count": 87,
      "metadata": {},
      "outputs": [],
      "source": [
        "## uno los datos con los que entrene el rf y arme la matriz de distancia\n",
        "df_entrenamiento=pd.concat([Xtrain_rf,ytrain_rf],axis=1).reset_index() #reseteo el index para que me quede igual que la matriz de distancia"
      ]
    },
    {
      "cell_type": "code",
      "execution_count": 89,
      "metadata": {},
      "outputs": [
        {
          "data": {
            "text/html": [
              "<div>\n",
              "<style scoped>\n",
              "    .dataframe tbody tr th:only-of-type {\n",
              "        vertical-align: middle;\n",
              "    }\n",
              "\n",
              "    .dataframe tbody tr th {\n",
              "        vertical-align: top;\n",
              "    }\n",
              "\n",
              "    .dataframe thead th {\n",
              "        text-align: right;\n",
              "    }\n",
              "</style>\n",
              "<table border=\"1\" class=\"dataframe\">\n",
              "  <thead>\n",
              "    <tr style=\"text-align: right;\">\n",
              "      <th></th>\n",
              "      <th>index</th>\n",
              "      <th>numero_de_cliente</th>\n",
              "      <th>lag_1_ctrx_quarter</th>\n",
              "      <th>avg_3_ctrx_quarter</th>\n",
              "      <th>ctrx_quarter</th>\n",
              "      <th>percent_rank_ctrx_quarter</th>\n",
              "      <th>mpayroll</th>\n",
              "      <th>lag_1_cpayroll_trx</th>\n",
              "      <th>mtarjeta_visa_consumo</th>\n",
              "      <th>percent_rank_mpayroll</th>\n",
              "      <th>...</th>\n",
              "      <th>avg_3_mtarjeta_visa_consumo</th>\n",
              "      <th>avg_3_cpayroll_trx</th>\n",
              "      <th>lag_1_mtarjeta_visa_consumo</th>\n",
              "      <th>percent_rank_mcuentas_saldo</th>\n",
              "      <th>mcomisiones_mantenimiento_slope_3</th>\n",
              "      <th>lag_1_mpasivos_margen</th>\n",
              "      <th>avg_3_mpayroll</th>\n",
              "      <th>Visa_msaldototal</th>\n",
              "      <th>cant_transac_tarjetas</th>\n",
              "      <th>clase_ternaria</th>\n",
              "    </tr>\n",
              "  </thead>\n",
              "  <tbody>\n",
              "    <tr>\n",
              "      <th>0</th>\n",
              "      <td>203</td>\n",
              "      <td>1226922531</td>\n",
              "      <td>32.0</td>\n",
              "      <td>40.750000</td>\n",
              "      <td>19</td>\n",
              "      <td>0.067243</td>\n",
              "      <td>0.00</td>\n",
              "      <td>0.0</td>\n",
              "      <td>0.00</td>\n",
              "      <td>0.000000</td>\n",
              "      <td>...</td>\n",
              "      <td>0.0000</td>\n",
              "      <td>0.000000</td>\n",
              "      <td>0.00</td>\n",
              "      <td>0.402538</td>\n",
              "      <td>0.00</td>\n",
              "      <td>87.39</td>\n",
              "      <td>0.0000</td>\n",
              "      <td>NaN</td>\n",
              "      <td>0</td>\n",
              "      <td>0</td>\n",
              "    </tr>\n",
              "    <tr>\n",
              "      <th>1</th>\n",
              "      <td>217</td>\n",
              "      <td>1229432461</td>\n",
              "      <td>422.0</td>\n",
              "      <td>421.500000</td>\n",
              "      <td>471</td>\n",
              "      <td>0.993852</td>\n",
              "      <td>520580.91</td>\n",
              "      <td>2.0</td>\n",
              "      <td>291424.48</td>\n",
              "      <td>0.990008</td>\n",
              "      <td>...</td>\n",
              "      <td>189981.7600</td>\n",
              "      <td>2.000000</td>\n",
              "      <td>135788.62</td>\n",
              "      <td>0.844385</td>\n",
              "      <td>0.00</td>\n",
              "      <td>1820.29</td>\n",
              "      <td>372045.9750</td>\n",
              "      <td>-34153.28</td>\n",
              "      <td>159</td>\n",
              "      <td>0</td>\n",
              "    </tr>\n",
              "    <tr>\n",
              "      <th>2</th>\n",
              "      <td>245</td>\n",
              "      <td>1232984888</td>\n",
              "      <td>175.0</td>\n",
              "      <td>173.000000</td>\n",
              "      <td>171</td>\n",
              "      <td>0.792959</td>\n",
              "      <td>143046.68</td>\n",
              "      <td>2.0</td>\n",
              "      <td>90965.70</td>\n",
              "      <td>0.830476</td>\n",
              "      <td>...</td>\n",
              "      <td>70163.8550</td>\n",
              "      <td>2.000000</td>\n",
              "      <td>49362.01</td>\n",
              "      <td>0.487189</td>\n",
              "      <td>0.00</td>\n",
              "      <td>293.48</td>\n",
              "      <td>184538.2900</td>\n",
              "      <td>97649.38</td>\n",
              "      <td>23</td>\n",
              "      <td>0</td>\n",
              "    </tr>\n",
              "    <tr>\n",
              "      <th>3</th>\n",
              "      <td>269</td>\n",
              "      <td>1234873843</td>\n",
              "      <td>147.0</td>\n",
              "      <td>138.500000</td>\n",
              "      <td>147</td>\n",
              "      <td>0.706015</td>\n",
              "      <td>318333.43</td>\n",
              "      <td>1.0</td>\n",
              "      <td>46346.59</td>\n",
              "      <td>0.969662</td>\n",
              "      <td>...</td>\n",
              "      <td>53376.1075</td>\n",
              "      <td>1.000000</td>\n",
              "      <td>37430.69</td>\n",
              "      <td>0.548750</td>\n",
              "      <td>0.00</td>\n",
              "      <td>1471.13</td>\n",
              "      <td>270942.1775</td>\n",
              "      <td>39511.16</td>\n",
              "      <td>11</td>\n",
              "      <td>0</td>\n",
              "    </tr>\n",
              "    <tr>\n",
              "      <th>4</th>\n",
              "      <td>318</td>\n",
              "      <td>1243122330</td>\n",
              "      <td>6.0</td>\n",
              "      <td>6.000000</td>\n",
              "      <td>6</td>\n",
              "      <td>0.023561</td>\n",
              "      <td>0.00</td>\n",
              "      <td>0.0</td>\n",
              "      <td>557.26</td>\n",
              "      <td>0.000000</td>\n",
              "      <td>...</td>\n",
              "      <td>557.2600</td>\n",
              "      <td>0.000000</td>\n",
              "      <td>557.26</td>\n",
              "      <td>0.219021</td>\n",
              "      <td>0.00</td>\n",
              "      <td>9.96</td>\n",
              "      <td>0.0000</td>\n",
              "      <td>492.30</td>\n",
              "      <td>1</td>\n",
              "      <td>0</td>\n",
              "    </tr>\n",
              "    <tr>\n",
              "      <th>...</th>\n",
              "      <td>...</td>\n",
              "      <td>...</td>\n",
              "      <td>...</td>\n",
              "      <td>...</td>\n",
              "      <td>...</td>\n",
              "      <td>...</td>\n",
              "      <td>...</td>\n",
              "      <td>...</td>\n",
              "      <td>...</td>\n",
              "      <td>...</td>\n",
              "      <td>...</td>\n",
              "      <td>...</td>\n",
              "      <td>...</td>\n",
              "      <td>...</td>\n",
              "      <td>...</td>\n",
              "      <td>...</td>\n",
              "      <td>...</td>\n",
              "      <td>...</td>\n",
              "      <td>...</td>\n",
              "      <td>...</td>\n",
              "      <td>...</td>\n",
              "    </tr>\n",
              "    <tr>\n",
              "      <th>10969</th>\n",
              "      <td>981406</td>\n",
              "      <td>896136165</td>\n",
              "      <td>27.0</td>\n",
              "      <td>24.750000</td>\n",
              "      <td>23</td>\n",
              "      <td>0.082381</td>\n",
              "      <td>0.00</td>\n",
              "      <td>0.0</td>\n",
              "      <td>0.00</td>\n",
              "      <td>0.000000</td>\n",
              "      <td>...</td>\n",
              "      <td>3362.9300</td>\n",
              "      <td>0.000000</td>\n",
              "      <td>0.00</td>\n",
              "      <td>0.103435</td>\n",
              "      <td>163.64</td>\n",
              "      <td>27.39</td>\n",
              "      <td>0.0000</td>\n",
              "      <td>NaN</td>\n",
              "      <td>0</td>\n",
              "      <td>1</td>\n",
              "    </tr>\n",
              "    <tr>\n",
              "      <th>10970</th>\n",
              "      <td>981443</td>\n",
              "      <td>696320603</td>\n",
              "      <td>92.0</td>\n",
              "      <td>95.500000</td>\n",
              "      <td>99</td>\n",
              "      <td>0.465127</td>\n",
              "      <td>76751.73</td>\n",
              "      <td>1.0</td>\n",
              "      <td>13594.01</td>\n",
              "      <td>0.632478</td>\n",
              "      <td>...</td>\n",
              "      <td>16796.4650</td>\n",
              "      <td>1.250000</td>\n",
              "      <td>13209.54</td>\n",
              "      <td>0.960776</td>\n",
              "      <td>0.00</td>\n",
              "      <td>2678.06</td>\n",
              "      <td>75583.4225</td>\n",
              "      <td>11728.17</td>\n",
              "      <td>11</td>\n",
              "      <td>0</td>\n",
              "    </tr>\n",
              "    <tr>\n",
              "      <th>10971</th>\n",
              "      <td>981467</td>\n",
              "      <td>1065322356</td>\n",
              "      <td>NaN</td>\n",
              "      <td>30.000000</td>\n",
              "      <td>30</td>\n",
              "      <td>0.111111</td>\n",
              "      <td>0.00</td>\n",
              "      <td>NaN</td>\n",
              "      <td>60996.00</td>\n",
              "      <td>0.000000</td>\n",
              "      <td>...</td>\n",
              "      <td>60996.0000</td>\n",
              "      <td>0.000000</td>\n",
              "      <td>NaN</td>\n",
              "      <td>0.591032</td>\n",
              "      <td>NaN</td>\n",
              "      <td>NaN</td>\n",
              "      <td>0.0000</td>\n",
              "      <td>52624.00</td>\n",
              "      <td>1</td>\n",
              "      <td>1</td>\n",
              "    </tr>\n",
              "    <tr>\n",
              "      <th>10972</th>\n",
              "      <td>981520</td>\n",
              "      <td>631217443</td>\n",
              "      <td>9.0</td>\n",
              "      <td>11.000000</td>\n",
              "      <td>13</td>\n",
              "      <td>0.045934</td>\n",
              "      <td>0.00</td>\n",
              "      <td>0.0</td>\n",
              "      <td>6050.33</td>\n",
              "      <td>0.000000</td>\n",
              "      <td>...</td>\n",
              "      <td>5418.0850</td>\n",
              "      <td>0.000000</td>\n",
              "      <td>4785.84</td>\n",
              "      <td>0.840820</td>\n",
              "      <td>2626.15</td>\n",
              "      <td>99.87</td>\n",
              "      <td>0.0000</td>\n",
              "      <td>5345.55</td>\n",
              "      <td>1</td>\n",
              "      <td>1</td>\n",
              "    </tr>\n",
              "    <tr>\n",
              "      <th>10973</th>\n",
              "      <td>981531</td>\n",
              "      <td>348330302</td>\n",
              "      <td>40.0</td>\n",
              "      <td>37.333333</td>\n",
              "      <td>33</td>\n",
              "      <td>0.124137</td>\n",
              "      <td>0.00</td>\n",
              "      <td>0.0</td>\n",
              "      <td>0.00</td>\n",
              "      <td>0.000000</td>\n",
              "      <td>...</td>\n",
              "      <td>15803.0000</td>\n",
              "      <td>0.333333</td>\n",
              "      <td>23345.33</td>\n",
              "      <td>0.350526</td>\n",
              "      <td>288.89</td>\n",
              "      <td>583.64</td>\n",
              "      <td>9775.0000</td>\n",
              "      <td>187.55</td>\n",
              "      <td>0</td>\n",
              "      <td>1</td>\n",
              "    </tr>\n",
              "  </tbody>\n",
              "</table>\n",
              "<p>10974 rows × 33 columns</p>\n",
              "</div>"
            ],
            "text/plain": [
              "        index  numero_de_cliente  lag_1_ctrx_quarter  avg_3_ctrx_quarter  \\\n",
              "0         203         1226922531                32.0           40.750000   \n",
              "1         217         1229432461               422.0          421.500000   \n",
              "2         245         1232984888               175.0          173.000000   \n",
              "3         269         1234873843               147.0          138.500000   \n",
              "4         318         1243122330                 6.0            6.000000   \n",
              "...       ...                ...                 ...                 ...   \n",
              "10969  981406          896136165                27.0           24.750000   \n",
              "10970  981443          696320603                92.0           95.500000   \n",
              "10971  981467         1065322356                 NaN           30.000000   \n",
              "10972  981520          631217443                 9.0           11.000000   \n",
              "10973  981531          348330302                40.0           37.333333   \n",
              "\n",
              "       ctrx_quarter  percent_rank_ctrx_quarter   mpayroll  lag_1_cpayroll_trx  \\\n",
              "0                19                   0.067243       0.00                 0.0   \n",
              "1               471                   0.993852  520580.91                 2.0   \n",
              "2               171                   0.792959  143046.68                 2.0   \n",
              "3               147                   0.706015  318333.43                 1.0   \n",
              "4                 6                   0.023561       0.00                 0.0   \n",
              "...             ...                        ...        ...                 ...   \n",
              "10969            23                   0.082381       0.00                 0.0   \n",
              "10970            99                   0.465127   76751.73                 1.0   \n",
              "10971            30                   0.111111       0.00                 NaN   \n",
              "10972            13                   0.045934       0.00                 0.0   \n",
              "10973            33                   0.124137       0.00                 0.0   \n",
              "\n",
              "       mtarjeta_visa_consumo  percent_rank_mpayroll  ...  \\\n",
              "0                       0.00               0.000000  ...   \n",
              "1                  291424.48               0.990008  ...   \n",
              "2                   90965.70               0.830476  ...   \n",
              "3                   46346.59               0.969662  ...   \n",
              "4                     557.26               0.000000  ...   \n",
              "...                      ...                    ...  ...   \n",
              "10969                   0.00               0.000000  ...   \n",
              "10970               13594.01               0.632478  ...   \n",
              "10971               60996.00               0.000000  ...   \n",
              "10972                6050.33               0.000000  ...   \n",
              "10973                   0.00               0.000000  ...   \n",
              "\n",
              "       avg_3_mtarjeta_visa_consumo  avg_3_cpayroll_trx  \\\n",
              "0                           0.0000            0.000000   \n",
              "1                      189981.7600            2.000000   \n",
              "2                       70163.8550            2.000000   \n",
              "3                       53376.1075            1.000000   \n",
              "4                         557.2600            0.000000   \n",
              "...                            ...                 ...   \n",
              "10969                    3362.9300            0.000000   \n",
              "10970                   16796.4650            1.250000   \n",
              "10971                   60996.0000            0.000000   \n",
              "10972                    5418.0850            0.000000   \n",
              "10973                   15803.0000            0.333333   \n",
              "\n",
              "       lag_1_mtarjeta_visa_consumo  percent_rank_mcuentas_saldo  \\\n",
              "0                             0.00                     0.402538   \n",
              "1                        135788.62                     0.844385   \n",
              "2                         49362.01                     0.487189   \n",
              "3                         37430.69                     0.548750   \n",
              "4                           557.26                     0.219021   \n",
              "...                            ...                          ...   \n",
              "10969                         0.00                     0.103435   \n",
              "10970                     13209.54                     0.960776   \n",
              "10971                          NaN                     0.591032   \n",
              "10972                      4785.84                     0.840820   \n",
              "10973                     23345.33                     0.350526   \n",
              "\n",
              "       mcomisiones_mantenimiento_slope_3  lag_1_mpasivos_margen  \\\n",
              "0                                   0.00                  87.39   \n",
              "1                                   0.00                1820.29   \n",
              "2                                   0.00                 293.48   \n",
              "3                                   0.00                1471.13   \n",
              "4                                   0.00                   9.96   \n",
              "...                                  ...                    ...   \n",
              "10969                             163.64                  27.39   \n",
              "10970                               0.00                2678.06   \n",
              "10971                                NaN                    NaN   \n",
              "10972                            2626.15                  99.87   \n",
              "10973                             288.89                 583.64   \n",
              "\n",
              "       avg_3_mpayroll  Visa_msaldototal  cant_transac_tarjetas  clase_ternaria  \n",
              "0              0.0000               NaN                      0               0  \n",
              "1         372045.9750         -34153.28                    159               0  \n",
              "2         184538.2900          97649.38                     23               0  \n",
              "3         270942.1775          39511.16                     11               0  \n",
              "4              0.0000            492.30                      1               0  \n",
              "...               ...               ...                    ...             ...  \n",
              "10969          0.0000               NaN                      0               1  \n",
              "10970      75583.4225          11728.17                     11               0  \n",
              "10971          0.0000          52624.00                      1               1  \n",
              "10972          0.0000           5345.55                      1               1  \n",
              "10973       9775.0000            187.55                      0               1  \n",
              "\n",
              "[10974 rows x 33 columns]"
            ]
          },
          "execution_count": 89,
          "metadata": {},
          "output_type": "execute_result"
        }
      ],
      "source": [
        "df_entrenamiento.shape\n",
        "df_entrenamiento"
      ]
    },
    {
      "cell_type": "code",
      "execution_count": 70,
      "metadata": {},
      "outputs": [],
      "source": [
        "# baja_cluster_0 = df_clusters[df_clusters[\"Cluster\"] == 0][\"Cliente_Indice\"].values\n",
        "# baja_cluster_1 = df_clusters[df_clusters[\"Cluster\"] == 1][\"Cliente_Indice\"].values\n",
        "# baja_cluster_2 = df_clusters[df_clusters[\"Cluster\"] == 2][\"Cliente_Indice\"].values\n",
        "# baja_cluster_3 = df_clusters[df_clusters[\"Cluster\"] == 3][\"Cliente_Indice\"].values\n",
        "# baja_cluster_4 = df_clusters[df_clusters[\"Cluster\"] == 4][\"Cliente_Indice\"].values\n",
        "\n",
        "# # Filtrar el dataframe original usando esos índices\n",
        "# df_cluster_0 = df_entrenamiento.iloc[baja_cluster_0]\n",
        "# df_cluster_1 = df_entrenamiento.iloc[baja_cluster_1]\n",
        "# df_cluster_2 = df_entrenamiento.iloc[baja_cluster_2]\n",
        "# df_cluster_3 = df_entrenamiento.iloc[baja_cluster_3]\n",
        "# df_cluster_4 = df_entrenamiento.iloc[baja_cluster_4]\n",
        "\n",
        "## muy tedioso mejor tener un solo df y una columna que identifique a cada cluster baja"
      ]
    },
    {
      "cell_type": "code",
      "execution_count": 85,
      "metadata": {},
      "outputs": [
        {
          "data": {
            "text/html": [
              "<div>\n",
              "<style scoped>\n",
              "    .dataframe tbody tr th:only-of-type {\n",
              "        vertical-align: middle;\n",
              "    }\n",
              "\n",
              "    .dataframe tbody tr th {\n",
              "        vertical-align: top;\n",
              "    }\n",
              "\n",
              "    .dataframe thead th {\n",
              "        text-align: right;\n",
              "    }\n",
              "</style>\n",
              "<table border=\"1\" class=\"dataframe\">\n",
              "  <thead>\n",
              "    <tr style=\"text-align: right;\">\n",
              "      <th></th>\n",
              "      <th>index</th>\n",
              "      <th>numero_de_cliente</th>\n",
              "      <th>lag_1_ctrx_quarter</th>\n",
              "      <th>avg_3_ctrx_quarter</th>\n",
              "      <th>ctrx_quarter</th>\n",
              "      <th>percent_rank_ctrx_quarter</th>\n",
              "      <th>mpayroll</th>\n",
              "      <th>lag_1_cpayroll_trx</th>\n",
              "      <th>mtarjeta_visa_consumo</th>\n",
              "      <th>percent_rank_mpayroll</th>\n",
              "      <th>...</th>\n",
              "      <th>avg_3_mtarjeta_visa_consumo</th>\n",
              "      <th>avg_3_cpayroll_trx</th>\n",
              "      <th>lag_1_mtarjeta_visa_consumo</th>\n",
              "      <th>percent_rank_mcuentas_saldo</th>\n",
              "      <th>mcomisiones_mantenimiento_slope_3</th>\n",
              "      <th>lag_1_mpasivos_margen</th>\n",
              "      <th>avg_3_mpayroll</th>\n",
              "      <th>Visa_msaldototal</th>\n",
              "      <th>cant_transac_tarjetas</th>\n",
              "      <th>clase_ternaria</th>\n",
              "    </tr>\n",
              "  </thead>\n",
              "  <tbody>\n",
              "    <tr>\n",
              "      <th>0</th>\n",
              "      <td>203</td>\n",
              "      <td>1226922531</td>\n",
              "      <td>32.0</td>\n",
              "      <td>40.75</td>\n",
              "      <td>19</td>\n",
              "      <td>0.067243</td>\n",
              "      <td>0.00</td>\n",
              "      <td>0.0</td>\n",
              "      <td>0.00</td>\n",
              "      <td>0.000000</td>\n",
              "      <td>...</td>\n",
              "      <td>0.0000</td>\n",
              "      <td>0.0</td>\n",
              "      <td>0.00</td>\n",
              "      <td>0.402538</td>\n",
              "      <td>0.0</td>\n",
              "      <td>87.39</td>\n",
              "      <td>0.0000</td>\n",
              "      <td>NaN</td>\n",
              "      <td>0</td>\n",
              "      <td>0</td>\n",
              "    </tr>\n",
              "    <tr>\n",
              "      <th>1</th>\n",
              "      <td>217</td>\n",
              "      <td>1229432461</td>\n",
              "      <td>422.0</td>\n",
              "      <td>421.50</td>\n",
              "      <td>471</td>\n",
              "      <td>0.993852</td>\n",
              "      <td>520580.91</td>\n",
              "      <td>2.0</td>\n",
              "      <td>291424.48</td>\n",
              "      <td>0.990008</td>\n",
              "      <td>...</td>\n",
              "      <td>189981.7600</td>\n",
              "      <td>2.0</td>\n",
              "      <td>135788.62</td>\n",
              "      <td>0.844385</td>\n",
              "      <td>0.0</td>\n",
              "      <td>1820.29</td>\n",
              "      <td>372045.9750</td>\n",
              "      <td>-34153.28</td>\n",
              "      <td>159</td>\n",
              "      <td>0</td>\n",
              "    </tr>\n",
              "    <tr>\n",
              "      <th>2</th>\n",
              "      <td>245</td>\n",
              "      <td>1232984888</td>\n",
              "      <td>175.0</td>\n",
              "      <td>173.00</td>\n",
              "      <td>171</td>\n",
              "      <td>0.792959</td>\n",
              "      <td>143046.68</td>\n",
              "      <td>2.0</td>\n",
              "      <td>90965.70</td>\n",
              "      <td>0.830476</td>\n",
              "      <td>...</td>\n",
              "      <td>70163.8550</td>\n",
              "      <td>2.0</td>\n",
              "      <td>49362.01</td>\n",
              "      <td>0.487189</td>\n",
              "      <td>0.0</td>\n",
              "      <td>293.48</td>\n",
              "      <td>184538.2900</td>\n",
              "      <td>97649.38</td>\n",
              "      <td>23</td>\n",
              "      <td>0</td>\n",
              "    </tr>\n",
              "    <tr>\n",
              "      <th>3</th>\n",
              "      <td>269</td>\n",
              "      <td>1234873843</td>\n",
              "      <td>147.0</td>\n",
              "      <td>138.50</td>\n",
              "      <td>147</td>\n",
              "      <td>0.706015</td>\n",
              "      <td>318333.43</td>\n",
              "      <td>1.0</td>\n",
              "      <td>46346.59</td>\n",
              "      <td>0.969662</td>\n",
              "      <td>...</td>\n",
              "      <td>53376.1075</td>\n",
              "      <td>1.0</td>\n",
              "      <td>37430.69</td>\n",
              "      <td>0.548750</td>\n",
              "      <td>0.0</td>\n",
              "      <td>1471.13</td>\n",
              "      <td>270942.1775</td>\n",
              "      <td>39511.16</td>\n",
              "      <td>11</td>\n",
              "      <td>0</td>\n",
              "    </tr>\n",
              "    <tr>\n",
              "      <th>4</th>\n",
              "      <td>318</td>\n",
              "      <td>1243122330</td>\n",
              "      <td>6.0</td>\n",
              "      <td>6.00</td>\n",
              "      <td>6</td>\n",
              "      <td>0.023561</td>\n",
              "      <td>0.00</td>\n",
              "      <td>0.0</td>\n",
              "      <td>557.26</td>\n",
              "      <td>0.000000</td>\n",
              "      <td>...</td>\n",
              "      <td>557.2600</td>\n",
              "      <td>0.0</td>\n",
              "      <td>557.26</td>\n",
              "      <td>0.219021</td>\n",
              "      <td>0.0</td>\n",
              "      <td>9.96</td>\n",
              "      <td>0.0000</td>\n",
              "      <td>492.30</td>\n",
              "      <td>1</td>\n",
              "      <td>0</td>\n",
              "    </tr>\n",
              "  </tbody>\n",
              "</table>\n",
              "<p>5 rows × 33 columns</p>\n",
              "</div>"
            ],
            "text/plain": [
              "   index  numero_de_cliente  lag_1_ctrx_quarter  avg_3_ctrx_quarter  \\\n",
              "0    203         1226922531                32.0               40.75   \n",
              "1    217         1229432461               422.0              421.50   \n",
              "2    245         1232984888               175.0              173.00   \n",
              "3    269         1234873843               147.0              138.50   \n",
              "4    318         1243122330                 6.0                6.00   \n",
              "\n",
              "   ctrx_quarter  percent_rank_ctrx_quarter   mpayroll  lag_1_cpayroll_trx  \\\n",
              "0            19                   0.067243       0.00                 0.0   \n",
              "1           471                   0.993852  520580.91                 2.0   \n",
              "2           171                   0.792959  143046.68                 2.0   \n",
              "3           147                   0.706015  318333.43                 1.0   \n",
              "4             6                   0.023561       0.00                 0.0   \n",
              "\n",
              "   mtarjeta_visa_consumo  percent_rank_mpayroll  ...  \\\n",
              "0                   0.00               0.000000  ...   \n",
              "1              291424.48               0.990008  ...   \n",
              "2               90965.70               0.830476  ...   \n",
              "3               46346.59               0.969662  ...   \n",
              "4                 557.26               0.000000  ...   \n",
              "\n",
              "   avg_3_mtarjeta_visa_consumo  avg_3_cpayroll_trx  \\\n",
              "0                       0.0000                 0.0   \n",
              "1                  189981.7600                 2.0   \n",
              "2                   70163.8550                 2.0   \n",
              "3                   53376.1075                 1.0   \n",
              "4                     557.2600                 0.0   \n",
              "\n",
              "   lag_1_mtarjeta_visa_consumo  percent_rank_mcuentas_saldo  \\\n",
              "0                         0.00                     0.402538   \n",
              "1                    135788.62                     0.844385   \n",
              "2                     49362.01                     0.487189   \n",
              "3                     37430.69                     0.548750   \n",
              "4                       557.26                     0.219021   \n",
              "\n",
              "   mcomisiones_mantenimiento_slope_3  lag_1_mpasivos_margen  avg_3_mpayroll  \\\n",
              "0                                0.0                  87.39          0.0000   \n",
              "1                                0.0                1820.29     372045.9750   \n",
              "2                                0.0                 293.48     184538.2900   \n",
              "3                                0.0                1471.13     270942.1775   \n",
              "4                                0.0                   9.96          0.0000   \n",
              "\n",
              "   Visa_msaldototal  cant_transac_tarjetas  clase_ternaria  \n",
              "0               NaN                      0               0  \n",
              "1         -34153.28                    159               0  \n",
              "2          97649.38                     23               0  \n",
              "3          39511.16                     11               0  \n",
              "4            492.30                      1               0  \n",
              "\n",
              "[5 rows x 33 columns]"
            ]
          },
          "execution_count": 85,
          "metadata": {},
          "output_type": "execute_result"
        }
      ],
      "source": [
        "df_entrenamiento.head(5)"
      ]
    },
    {
      "cell_type": "code",
      "execution_count": 95,
      "metadata": {},
      "outputs": [],
      "source": [
        "df_entrenamiento_copy = df_entrenamiento.copy()\n",
        "\n",
        "# Asignar los clusters a los clientes de acuerdo a 'Cliente_Indice' como índice\n",
        "df_entrenamiento_copy.loc[df_clusters[\"Cliente_Indice\"], \"Cluster\"] = df_clusters[\"Cluster\"].values\n",
        "\n",
        "df_bajas=df_entrenamiento_copy.loc[df_entrenamiento_copy[\"clase_ternaria\"]==1]"
      ]
    },
    {
      "cell_type": "code",
      "execution_count": 96,
      "metadata": {},
      "outputs": [
        {
          "name": "stderr",
          "output_type": "stream",
          "text": [
            "C:\\Users\\Federico\\AppData\\Local\\Temp\\ipykernel_4720\\2910127775.py:1: SettingWithCopyWarning:\n",
            "\n",
            "\n",
            "A value is trying to be set on a copy of a slice from a DataFrame\n",
            "\n",
            "See the caveats in the documentation: https://pandas.pydata.org/pandas-docs/stable/user_guide/indexing.html#returning-a-view-versus-a-copy\n",
            "\n"
          ]
        }
      ],
      "source": [
        "df_bajas.drop(\"index\",axis=1,inplace=True)"
      ]
    },
    {
      "cell_type": "code",
      "execution_count": 100,
      "metadata": {},
      "outputs": [
        {
          "data": {
            "text/plain": [
              "Cluster\n",
              "-1.0         0.000000\n",
              " 0.0        74.598726\n",
              " 1.0        51.122596\n",
              " 2.0         0.000000\n",
              " 3.0    168885.416867\n",
              " 4.0         0.000000\n",
              "Name: mpayroll, dtype: float64"
            ]
          },
          "execution_count": 100,
          "metadata": {},
          "output_type": "execute_result"
        }
      ],
      "source": [
        "df_bajas.groupby(\"Cluster\")[\"mpayroll\"].mean()"
      ]
    },
    {
      "cell_type": "markdown",
      "metadata": {
        "id": "qDcWrYG94sGq"
      },
      "source": [
        "Los que tienen -1, son considerados outliers."
      ]
    },
    {
      "cell_type": "markdown",
      "metadata": {
        "id": "O4kSLegC4wXT"
      },
      "source": [
        "Por último necesitamos alguna forma de saber que hace a cada cluster distinto del otro. Para esto utilizaremos modelos (**rf**) que buscan separar los cluster uno a uno del resto de los datos.\n",
        "\n",
        "Por cada modelo, miraremos cuales son las variables más importantes que separan los datos para luego caracterizarlos:\n",
        "\n",
        "Manos a la obra:"
      ]
    },
    {
      "cell_type": "markdown",
      "metadata": {
        "id": "y7Mz0fa35llh"
      },
      "source": [
        "Y exploramos cuales son las variables importantes por cada cluster"
      ]
    },
    {
      "cell_type": "markdown",
      "metadata": {
        "id": "h5WHCJDw53Pa"
      },
      "source": [
        "Luego resta, analizar los estadísticos de los datos de cada cluster para las variables importantes, comparar sus distribuciones con histogramas, boxplots, pivot tables, etc.\n"
      ]
    },
    {
      "cell_type": "markdown",
      "metadata": {
        "id": "Th9-1pcqMZeG"
      },
      "source": [
        "Junto con el diccionaro de datos, de sentido a lo que ve a través del análisis multivariado de datos.\n",
        "\n",
        "Obviamente, esto es apenas mas que una semilla. Agregue las variables históricas, juegue con los **rf** y genere una segmentación pro, que encante a Miranda\n"
      ]
    }
  ],
  "metadata": {
    "colab": {
      "provenance": []
    },
    "kernelspec": {
      "display_name": "Python 3",
      "name": "python3"
    },
    "language_info": {
      "codemirror_mode": {
        "name": "ipython",
        "version": 3
      },
      "file_extension": ".py",
      "mimetype": "text/x-python",
      "name": "python",
      "nbconvert_exporter": "python",
      "pygments_lexer": "ipython3",
      "version": "3.12.5"
    }
  },
  "nbformat": 4,
  "nbformat_minor": 0
}
