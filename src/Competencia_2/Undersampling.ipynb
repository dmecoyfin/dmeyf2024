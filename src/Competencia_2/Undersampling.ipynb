{
 "cells": [
  {
   "cell_type": "markdown",
   "id": "e2d38595-4b99-4c95-9c9d-189d57524034",
   "metadata": {},
   "source": [
    "# Codigo sacado de Eugenio Negrin"
   ]
  },
  {
   "cell_type": "code",
   "execution_count": 1,
   "id": "4adec391-45c3-484d-b142-3e9b22a0731d",
   "metadata": {},
   "outputs": [
    {
     "name": "stdout",
     "output_type": "stream",
     "text": [
      "Collecting imbalanced-learn\n",
      "  Downloading imbalanced_learn-0.12.4-py3-none-any.whl.metadata (8.3 kB)\n",
      "Requirement already satisfied: numpy>=1.17.3 in /home/fedepicado/.venv/lib/python3.12/site-packages (from imbalanced-learn) (2.0.2)\n",
      "Requirement already satisfied: scipy>=1.5.0 in /home/fedepicado/.venv/lib/python3.12/site-packages (from imbalanced-learn) (1.14.1)\n",
      "Requirement already satisfied: scikit-learn>=1.0.2 in /home/fedepicado/.venv/lib/python3.12/site-packages (from imbalanced-learn) (1.5.2)\n",
      "Requirement already satisfied: joblib>=1.1.1 in /home/fedepicado/.venv/lib/python3.12/site-packages (from imbalanced-learn) (1.4.2)\n",
      "Requirement already satisfied: threadpoolctl>=2.0.0 in /home/fedepicado/.venv/lib/python3.12/site-packages (from imbalanced-learn) (3.5.0)\n",
      "Downloading imbalanced_learn-0.12.4-py3-none-any.whl (258 kB)\n",
      "Installing collected packages: imbalanced-learn\n",
      "Successfully installed imbalanced-learn-0.12.4\n"
     ]
    }
   ],
   "source": [
    "!pip install imbalanced-learn"
   ]
  },
  {
   "cell_type": "code",
   "execution_count": 2,
   "id": "c9b5a994-96bc-4221-8892-2688d7e5912d",
   "metadata": {},
   "outputs": [],
   "source": [
    "import pandas as pd\n",
    "import numpy as np\n",
    "\n",
    "from imblearn.under_sampling import RandomUnderSampler"
   ]
  },
  {
   "cell_type": "code",
   "execution_count": 4,
   "id": "b6f65d62-d2f1-4d5d-9a73-0898ed84b2a0",
   "metadata": {},
   "outputs": [
    {
     "name": "stdout",
     "output_type": "stream",
     "text": [
      "Copying file:///home/fedepicado/buckets/b1/datasets/competencia_02_DQ_ft.parquet...\n",
      "- [0 files][    0.0 B/  2.8 GiB]                                                / [1 files][  2.8 GiB/  2.8 GiB]                                                \n",
      "Operation completed over 1 objects/2.8 GiB.                                      \n"
     ]
    }
   ],
   "source": [
    "!gsutil cp /home/fedepicado/buckets/b1/datasets/competencia_02_DQ_ft.parquet /home/fedepicado/datasets/"
   ]
  },
  {
   "cell_type": "code",
   "execution_count": 5,
   "id": "edb95fc1-cd48-467b-8f07-af95e4eb0910",
   "metadata": {},
   "outputs": [],
   "source": [
    "base_path = '/home/fedepicado/'\n",
    "modelos_path = base_path + 'buckets/b1/modelos/'\n",
    "db_path = base_path + 'buckets/b1/db/'\n",
    "dataset_path = base_path + 'buckets/b1/datasets/'\n",
    "exp_path = base_path + 'buckets/b1/exp/'\n",
    "dataset_file = 'competencia_02_DQ_ft.parquet'\n",
    "full_path = dataset_path + dataset_file"
   ]
  },
  {
   "cell_type": "code",
   "execution_count": 11,
   "id": "581b4b06-1fc1-4afe-a0fd-8ae17ffc2b2f",
   "metadata": {},
   "outputs": [],
   "source": [
    "#semillas\n",
    "semillas = [540079,250829,314299,302111,801007]\n",
    "\n",
    "#meses entrenamiento\n",
    "meses_train = [202012,202101,202102,202103,202104]"
   ]
  },
  {
   "cell_type": "code",
   "execution_count": 7,
   "id": "95c4ccb4-6ddd-4a86-a88e-b874ced3b1e9",
   "metadata": {},
   "outputs": [],
   "source": [
    "data = pd.read_parquet(dataset_path + dataset_file)"
   ]
  },
  {
   "cell_type": "code",
   "execution_count": 8,
   "id": "66e7bf6d-24fc-44a3-b8c6-c5a5a7ab17b6",
   "metadata": {},
   "outputs": [
    {
     "data": {
      "text/plain": [
       "(4735593, 288)"
      ]
     },
     "execution_count": 8,
     "metadata": {},
     "output_type": "execute_result"
    }
   ],
   "source": [
    "df=data.copy()\n",
    "df.shape"
   ]
  },
  {
   "cell_type": "code",
   "execution_count": 9,
   "id": "68e762a8-bcb4-445f-8ab5-7f63ab7d9035",
   "metadata": {},
   "outputs": [],
   "source": [
    "df['clase_binaria'] = 0\n",
    "df['clase_binaria'] = np.where(data['clase_ternaria'] == 'BAJA+2', 1, 0)"
   ]
  },
  {
   "cell_type": "code",
   "execution_count": null,
   "id": "939e19c2-724e-429a-b099-d05cb52030ef",
   "metadata": {},
   "outputs": [],
   "source": [
    "df = df[df['foto_mes'].isin(meses_train)]"
   ]
  },
  {
   "cell_type": "code",
   "execution_count": null,
   "id": "d4c9f1db-7f4e-457e-ab84-fb9dbe6d24ea",
   "metadata": {},
   "outputs": [],
   "source": [
    "df_prop = (\n",
    "    df.groupby('foto_mes')['clase_binaria']\n",
    "    .value_counts(normalize=True)\n",
    "    .unstack(fill_value=0)\n",
    "    .reset_index()\n",
    ")\n",
    "\n",
    "df_prop.columns = ['foto_mes', 'proportion_0', 'proportion_1']\n",
    "df_prop"
   ]
  },
  {
   "cell_type": "code",
   "execution_count": null,
   "id": "172cd273-1408-4301-9687-4459817ff490",
   "metadata": {},
   "outputs": [],
   "source": [
    "df_subsampled = []\n",
    "\n",
    "for mes, group in df.groupby(\"foto_mes\"):\n",
    "\n",
    "    X = group.drop(columns=\"clase_binaria\")\n",
    "    y = group[\"clase_binaria\"]\n",
    "    \n",
    "    # Calculo la proporcion de bajas\n",
    "    minority_proportion = y.value_counts(normalize=True).get(1, 0)\n",
    "    print(f'Original proportion:{minority_proportion}')\n",
    "    \n",
    "    # voy a incrementar esa proporcion por 10\n",
    "    new_proportion = minority_proportion * 10\n",
    "\n",
    "    # Apply RandomUnderSampler with the calculated strategy\n",
    "    rus = RandomUnderSampler(sampling_strategy=new_proportion, random_state=semillas[0])\n",
    "    X_res, y_res = rus.fit_resample(X, y)\n",
    "\n",
    "    # Rebuild the resampled DataFrame for the group\n",
    "    group_resampled = pd.concat([X_res, y_res], axis=1)\n",
    "    group_resampled[\"foto_mes\"] = mes  # Add back the 'foto_mes' column\n",
    "\n",
    "    # Add the resampled DataFrame to the list\n",
    "    df_subsampled.append(group_resampled)\n",
    "\n",
    "# Concatenate all resampled groups into a single DataFrame\n",
    "data = pd.concat(df_subsampled, ignore_index=True)"
   ]
  }
 ],
 "metadata": {
  "kernelspec": {
   "display_name": "Python 3 (ipykernel)",
   "language": "python",
   "name": "python3"
  },
  "language_info": {
   "codemirror_mode": {
    "name": "ipython",
    "version": 3
   },
   "file_extension": ".py",
   "mimetype": "text/x-python",
   "name": "python",
   "nbconvert_exporter": "python",
   "pygments_lexer": "ipython3",
   "version": "3.12.3"
  }
 },
 "nbformat": 4,
 "nbformat_minor": 5
}
