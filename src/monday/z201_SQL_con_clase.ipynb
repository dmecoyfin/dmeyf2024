{
 "cells": [
  {
   "cell_type": "markdown",
   "metadata": {
    "id": "g2aDdB5-REu5"
   },
   "source": [
    "# SQL con clase\n",
    "\n",
    "*The single biggest challenge to learning SQL programming is unlearning procedureal programming.*\n",
    "-- Joe Celko\n",
    "\n",
    "En este notebook, exploraremos diversos estilos y prácticas para escribir consultas SQL enfocadas en el análisis de datos. Las consultas analíticas se distinguen de las consultas convencionales en que están diseñadas específicamente para trabajar sobre grandes volúmenes de datos y tienen a ser más complejas.\n",
    "\n",
    "## Setup\n",
    "\n",
    "Primero vamos a configurar la notebook y definir las variables principales.\n",
    "\n",
    "Instalamos los paquetes necesarios. Este paso se puede omitir si ya lo realizó en su entorno, sin embargo si usa **Colab** va a ser necesario ejecutarlo."
   ]
  },
  {
   "cell_type": "code",
   "execution_count": 1,
   "metadata": {
    "id": "sid-iWOhbUeA"
   },
   "outputs": [
    {
     "name": "stdout",
     "output_type": "stream",
     "text": [
      "Requirement already satisfied: duckdb in /Users/bita/.pyenv/versions/3.10.6/envs/traditum/lib/python3.10/site-packages (1.0.0)\n",
      "Requirement already satisfied: jupysql in /Users/bita/.pyenv/versions/3.10.6/envs/traditum/lib/python3.10/site-packages (0.10.12)\n",
      "Requirement already satisfied: prettytable in /Users/bita/.pyenv/versions/3.10.6/envs/traditum/lib/python3.10/site-packages (from jupysql) (3.11.0)\n",
      "Requirement already satisfied: sqlalchemy in /Users/bita/.pyenv/versions/3.10.6/envs/traditum/lib/python3.10/site-packages (from jupysql) (1.4.29)\n",
      "Requirement already satisfied: sqlparse in /Users/bita/.pyenv/versions/3.10.6/envs/traditum/lib/python3.10/site-packages (from jupysql) (0.5.1)\n",
      "Requirement already satisfied: ipython-genutils>=0.1.0 in /Users/bita/.pyenv/versions/3.10.6/envs/traditum/lib/python3.10/site-packages (from jupysql) (0.2.0)\n",
      "Requirement already satisfied: jinja2 in /Users/bita/.pyenv/versions/3.10.6/envs/traditum/lib/python3.10/site-packages (from jupysql) (3.1.2)\n",
      "Requirement already satisfied: sqlglot>=11.3.7 in /Users/bita/.pyenv/versions/3.10.6/envs/traditum/lib/python3.10/site-packages (from jupysql) (25.14.0)\n",
      "Requirement already satisfied: jupysql-plugin>=0.4.2 in /Users/bita/.pyenv/versions/3.10.6/envs/traditum/lib/python3.10/site-packages (from jupysql) (0.4.4)\n",
      "Requirement already satisfied: ploomber-core>=0.2.7 in /Users/bita/.pyenv/versions/3.10.6/envs/traditum/lib/python3.10/site-packages (from jupysql) (0.2.25)\n",
      "Requirement already satisfied: ploomber-extension in /Users/bita/.pyenv/versions/3.10.6/envs/traditum/lib/python3.10/site-packages (from jupysql) (0.1.1)\n",
      "Requirement already satisfied: pyyaml in /Users/bita/.pyenv/versions/3.10.6/envs/traditum/lib/python3.10/site-packages (from ploomber-core>=0.2.7->jupysql) (6.0.1)\n",
      "Requirement already satisfied: posthog in /Users/bita/.pyenv/versions/3.10.6/envs/traditum/lib/python3.10/site-packages (from ploomber-core>=0.2.7->jupysql) (3.5.0)\n",
      "Requirement already satisfied: MarkupSafe>=2.0 in /Users/bita/.pyenv/versions/3.10.6/envs/traditum/lib/python3.10/site-packages (from jinja2->jupysql) (2.1.1)\n",
      "Requirement already satisfied: wcwidth in /Users/bita/.pyenv/versions/3.10.6/envs/traditum/lib/python3.10/site-packages (from prettytable->jupysql) (0.2.5)\n",
      "Requirement already satisfied: greenlet!=0.4.17 in /Users/bita/.pyenv/versions/3.10.6/envs/traditum/lib/python3.10/site-packages (from sqlalchemy->jupysql) (3.0.3)\n",
      "Requirement already satisfied: requests<3.0,>=2.7 in /Users/bita/.pyenv/versions/3.10.6/envs/traditum/lib/python3.10/site-packages (from posthog->ploomber-core>=0.2.7->jupysql) (2.28.1)\n",
      "Requirement already satisfied: six>=1.5 in /Users/bita/.pyenv/versions/3.10.6/envs/traditum/lib/python3.10/site-packages (from posthog->ploomber-core>=0.2.7->jupysql) (1.16.0)\n",
      "Requirement already satisfied: monotonic>=1.5 in /Users/bita/.pyenv/versions/3.10.6/envs/traditum/lib/python3.10/site-packages (from posthog->ploomber-core>=0.2.7->jupysql) (1.6)\n",
      "Requirement already satisfied: backoff>=1.10.0 in /Users/bita/.pyenv/versions/3.10.6/envs/traditum/lib/python3.10/site-packages (from posthog->ploomber-core>=0.2.7->jupysql) (2.2.1)\n",
      "Requirement already satisfied: python-dateutil>2.1 in /Users/bita/.pyenv/versions/3.10.6/envs/traditum/lib/python3.10/site-packages (from posthog->ploomber-core>=0.2.7->jupysql) (2.8.2)\n",
      "Requirement already satisfied: charset-normalizer<3,>=2 in /Users/bita/.pyenv/versions/3.10.6/envs/traditum/lib/python3.10/site-packages (from requests<3.0,>=2.7->posthog->ploomber-core>=0.2.7->jupysql) (2.1.1)\n",
      "Requirement already satisfied: idna<4,>=2.5 in /Users/bita/.pyenv/versions/3.10.6/envs/traditum/lib/python3.10/site-packages (from requests<3.0,>=2.7->posthog->ploomber-core>=0.2.7->jupysql) (3.4)\n",
      "Requirement already satisfied: urllib3<1.27,>=1.21.1 in /Users/bita/.pyenv/versions/3.10.6/envs/traditum/lib/python3.10/site-packages (from requests<3.0,>=2.7->posthog->ploomber-core>=0.2.7->jupysql) (1.26.14)\n",
      "Requirement already satisfied: certifi>=2017.4.17 in /Users/bita/.pyenv/versions/3.10.6/envs/traditum/lib/python3.10/site-packages (from requests<3.0,>=2.7->posthog->ploomber-core>=0.2.7->jupysql) (2022.9.24)\n",
      "Requirement already satisfied: duckdb-engine in /Users/bita/.pyenv/versions/3.10.6/envs/traditum/lib/python3.10/site-packages (0.13.1)\n",
      "Requirement already satisfied: duckdb>=0.5.0 in /Users/bita/.pyenv/versions/3.10.6/envs/traditum/lib/python3.10/site-packages (from duckdb-engine) (1.0.0)\n",
      "Requirement already satisfied: packaging>=21 in /Users/bita/.pyenv/versions/3.10.6/envs/traditum/lib/python3.10/site-packages (from duckdb-engine) (24.0)\n",
      "Requirement already satisfied: sqlalchemy>=1.3.22 in /Users/bita/.pyenv/versions/3.10.6/envs/traditum/lib/python3.10/site-packages (from duckdb-engine) (1.4.29)\n",
      "Requirement already satisfied: greenlet!=0.4.17 in /Users/bita/.pyenv/versions/3.10.6/envs/traditum/lib/python3.10/site-packages (from sqlalchemy>=1.3.22->duckdb-engine) (3.0.3)\n"
     ]
    }
   ],
   "source": [
    "%%bash\n",
    "pip install duckdb\n",
    "pip install jupysql\n",
    "pip install duckdb-engine"
   ]
  },
  {
   "cell_type": "markdown",
   "metadata": {
    "id": "s2SMpCyLbX_v"
   },
   "source": [
    "Configuracion la extensión de %sql para el notebook, lo que nos va a permitir usar lenguaje SQL directamente sobre una celda"
   ]
  },
  {
   "cell_type": "code",
   "execution_count": 2,
   "metadata": {
    "id": "pUwxrZpMb2w4",
    "scrolled": true
   },
   "outputs": [],
   "source": [
    "import duckdb as duckdb\n",
    "import pandas as pd\n",
    "\n",
    "%load_ext sql\n",
    "%config SqlMagic.autopandas = True\n",
    "%config SqlMagic.feedback = False\n",
    "%config SqlMagic.displaycon = False\n",
    "\n",
    "%sql duckdb://"
   ]
  },
  {
   "cell_type": "code",
   "execution_count": 9,
   "metadata": {},
   "outputs": [
    {
     "name": "stdout",
     "output_type": "stream",
     "text": [
      "--2024-08-19 19:22:12--  https://storage.googleapis.com/open-courses/dmeyf2024-b725/competencia_01_crudo.csv\n",
      "Resolving storage.googleapis.com (storage.googleapis.com)... 142.251.133.27, 142.250.79.123, 142.251.134.59, ...\n",
      "Connecting to storage.googleapis.com (storage.googleapis.com)|142.251.133.27|:443... connected.\n",
      "HTTP request sent, awaiting response... 200 OK\n",
      "Length: 491562274 (469M) [text/csv]\n",
      "Saving to: ‘competencia_01_crudo.csv’\n",
      "\n",
      "competencia_01_crud 100%[===================>] 468.79M  2.96MB/s    in 15m 32s \n",
      "\n",
      "2024-08-19 19:37:47 (515 KB/s) - ‘competencia_01_crudo.csv’ saved [491562274/491562274]\n",
      "\n"
     ]
    }
   ],
   "source": [
    "!wget https://storage.googleapis.com/open-courses/dmeyf2024-b725/competencia_01_crudo.csv"
   ]
  },
  {
   "cell_type": "markdown",
   "metadata": {
    "id": "mKupAuNHhL4k"
   },
   "source": [
    "Y finalmente cargamos el dataset en la base de datos"
   ]
  },
  {
   "cell_type": "code",
   "execution_count": 3,
   "metadata": {
    "id": "lkj8JbKpcUmj"
   },
   "outputs": [],
   "source": [
    "#dataset_path = '/home/aleb/DMEyF/2024/datos/' # '/content/drive/MyDrive/DMEyF/2024/datos/'\n",
    "dataset_file = 'competencia_01_crudo.csv'"
   ]
  },
  {
   "cell_type": "code",
   "execution_count": 4,
   "metadata": {
    "id": "wEE_AbHQg-wl"
   },
   "outputs": [
    {
     "data": {
      "application/vnd.jupyter.widget-view+json": {
       "model_id": "05f507be8a5549f0a4d7a29d66dc4105",
       "version_major": 2,
       "version_minor": 0
      },
      "text/plain": [
       "FloatProgress(value=0.0, layout=Layout(width='auto'), style=ProgressStyle(bar_color='black'))"
      ]
     },
     "metadata": {},
     "output_type": "display_data"
    },
    {
     "data": {
      "text/html": [
       "<div>\n",
       "<style scoped>\n",
       "    .dataframe tbody tr th:only-of-type {\n",
       "        vertical-align: middle;\n",
       "    }\n",
       "\n",
       "    .dataframe tbody tr th {\n",
       "        vertical-align: top;\n",
       "    }\n",
       "\n",
       "    .dataframe thead th {\n",
       "        text-align: right;\n",
       "    }\n",
       "</style>\n",
       "<table border=\"1\" class=\"dataframe\">\n",
       "  <thead>\n",
       "    <tr style=\"text-align: right;\">\n",
       "      <th></th>\n",
       "      <th>Count</th>\n",
       "    </tr>\n",
       "  </thead>\n",
       "  <tbody>\n",
       "    <tr>\n",
       "      <th>0</th>\n",
       "      <td>981946</td>\n",
       "    </tr>\n",
       "  </tbody>\n",
       "</table>\n",
       "</div>"
      ],
      "text/plain": [
       "    Count\n",
       "0  981946"
      ]
     },
     "execution_count": 4,
     "metadata": {},
     "output_type": "execute_result"
    }
   ],
   "source": [
    "%%sql\n",
    "create or replace table competencia_01_crudo as\n",
    "select\n",
    "    *\n",
    "from read_csv_auto(\"{{dataset_file}}\")"
   ]
  },
  {
   "cell_type": "markdown",
   "metadata": {
    "id": "2tqxWFfUhS9y"
   },
   "source": [
    "## WITH\n",
    "\n"
   ]
  },
  {
   "cell_type": "markdown",
   "metadata": {
    "id": "RuVklMEWZJKt"
   },
   "source": [
    "Un escenario común es necesitar realizar una consulta a no a una tabla, sino a otra consulta. Una forma tradicional de hacerlo es usando es:\n",
    "* Creando una tabla temporal con esa consulta\n",
    "* Usando `selects from select`.\n",
    "\n",
    "Esta necesidad es muy común, pero como todo en la vida hay peros.\n",
    "- Crear una tabla en una base de datos que va a ser usada UNA SOLA VEZ ensucia los esquemas con un montón de tablas que no son útiles y además del desorden ocupan espacio innecesario\n",
    "- El `select from select`, debe ser de las cosas peor vistas por los administradores de BBDD. Tienen sus razones técnicas, en general la recomendación es no usarlo a menos que uno conozca bien como funciona la base de datos por dentro, ya que hay casos donde terminan ocasionando muchos problemas\n",
    "\n",
    "Y que hacer? bueno hay una clausula en **SQL** llamada `WITH`, que nos permite crear esas (plural) tablas para ser usadas en la **query** principal. Ejemplo si queremos comparar el valor de una variable con su promedio a través de todos los meses.\n"
   ]
  },
  {
   "cell_type": "code",
   "execution_count": 11,
   "metadata": {
    "id": "pLS_xUUdjzc5"
   },
   "outputs": [
    {
     "data": {
      "text/html": [
       "<div>\n",
       "<style scoped>\n",
       "    .dataframe tbody tr th:only-of-type {\n",
       "        vertical-align: middle;\n",
       "    }\n",
       "\n",
       "    .dataframe tbody tr th {\n",
       "        vertical-align: top;\n",
       "    }\n",
       "\n",
       "    .dataframe thead th {\n",
       "        text-align: right;\n",
       "    }\n",
       "</style>\n",
       "<table border=\"1\" class=\"dataframe\">\n",
       "  <thead>\n",
       "    <tr style=\"text-align: right;\">\n",
       "      <th></th>\n",
       "      <th>numero_de_cliente</th>\n",
       "      <th>foto_mes</th>\n",
       "      <th>comparacion</th>\n",
       "    </tr>\n",
       "  </thead>\n",
       "  <tbody>\n",
       "    <tr>\n",
       "      <th>0</th>\n",
       "      <td>916010321</td>\n",
       "      <td>202101</td>\n",
       "      <td>menor</td>\n",
       "    </tr>\n",
       "    <tr>\n",
       "      <th>1</th>\n",
       "      <td>916020603</td>\n",
       "      <td>202101</td>\n",
       "      <td>menor</td>\n",
       "    </tr>\n",
       "    <tr>\n",
       "      <th>2</th>\n",
       "      <td>916022131</td>\n",
       "      <td>202101</td>\n",
       "      <td>menor</td>\n",
       "    </tr>\n",
       "    <tr>\n",
       "      <th>3</th>\n",
       "      <td>916031542</td>\n",
       "      <td>202101</td>\n",
       "      <td>mayor</td>\n",
       "    </tr>\n",
       "    <tr>\n",
       "      <th>4</th>\n",
       "      <td>916035402</td>\n",
       "      <td>202101</td>\n",
       "      <td>mayor</td>\n",
       "    </tr>\n",
       "    <tr>\n",
       "      <th>...</th>\n",
       "      <td>...</td>\n",
       "      <td>...</td>\n",
       "      <td>...</td>\n",
       "    </tr>\n",
       "    <tr>\n",
       "      <th>981941</th>\n",
       "      <td>1583776239</td>\n",
       "      <td>202106</td>\n",
       "      <td>mayor</td>\n",
       "    </tr>\n",
       "    <tr>\n",
       "      <th>981942</th>\n",
       "      <td>1588482879</td>\n",
       "      <td>202106</td>\n",
       "      <td>menor</td>\n",
       "    </tr>\n",
       "    <tr>\n",
       "      <th>981943</th>\n",
       "      <td>1589262181</td>\n",
       "      <td>202106</td>\n",
       "      <td>menor</td>\n",
       "    </tr>\n",
       "    <tr>\n",
       "      <th>981944</th>\n",
       "      <td>1589570953</td>\n",
       "      <td>202106</td>\n",
       "      <td>mayor</td>\n",
       "    </tr>\n",
       "    <tr>\n",
       "      <th>981945</th>\n",
       "      <td>1594726168</td>\n",
       "      <td>202106</td>\n",
       "      <td>mayor</td>\n",
       "    </tr>\n",
       "  </tbody>\n",
       "</table>\n",
       "<p>981946 rows × 3 columns</p>\n",
       "</div>"
      ],
      "text/plain": [
       "        numero_de_cliente  foto_mes comparacion\n",
       "0               916010321    202101       menor\n",
       "1               916020603    202101       menor\n",
       "2               916022131    202101       menor\n",
       "3               916031542    202101       mayor\n",
       "4               916035402    202101       mayor\n",
       "...                   ...       ...         ...\n",
       "981941         1583776239    202106       mayor\n",
       "981942         1588482879    202106       menor\n",
       "981943         1589262181    202106       menor\n",
       "981944         1589570953    202106       mayor\n",
       "981945         1594726168    202106       mayor\n",
       "\n",
       "[981946 rows x 3 columns]"
      ]
     },
     "execution_count": 11,
     "metadata": {},
     "output_type": "execute_result"
    }
   ],
   "source": [
    "%%sql\n",
    "with promedios as (\n",
    "    select\n",
    "        numero_de_cliente\n",
    "        , avg(mrentabilidad) as avg_mrentabilidad\n",
    "    from competencia_01_crudo\n",
    "    group by numero_de_cliente\n",
    ") select\n",
    "    cp.numero_de_cliente\n",
    "    , cp.foto_mes\n",
    "    , if(cp.mrentabilidad > p.avg_mrentabilidad, 'mayor', 'menor') as comparacion\n",
    "from competencia_01_crudo cp\n",
    "join promedios p using (numero_de_cliente)\n"
   ]
  },
  {
   "cell_type": "markdown",
   "metadata": {
    "id": "1aOQS6dXj2VV"
   },
   "source": [
    "- Usar esa clausula tiene muchos beneficios, entre ellos sumar legibilidad de código y le permite al motor de **SQL** optimizar mejor, ya que entiende todo lo que se buscar hacer y planifica como resolverlo en el menor tiempo posible.\n",
    "\n",
    "**NOTA**: Hay un tipo de tabla que se llaman temporales, que se borran solas una vez que uno se desconecta de la base de datos. Es una mejor alternativa frente al `CREATE`, sin embargo si la tabla que se esta creando se usa una sola vez es conveniente usar el `WITH` porque permite optimizar la ejecución. Si esa tabla va a ser usada mas de una vez dentro del proceso, las tablas temporales son la mejor opción."
   ]
  },
  {
   "cell_type": "markdown",
   "metadata": {
    "id": "xd0NhGwNnvGJ"
   },
   "source": [
    "# Funciones Analíticas\n",
    "\n",
    "Las funciones analíticas en SQL son un conjunto de funciones que te permiten realizar cálculos avanzados sobre un conjunto de filas relacionadas dentro de una consulta conservando las filas individuales y calculando sobre ventanas de datos relacionadas.\n",
    "\n",
    "Veamos un ejemplo para que quede más claro:"
   ]
  },
  {
   "cell_type": "code",
   "execution_count": 5,
   "metadata": {
    "id": "CgOu6ratj1__"
   },
   "outputs": [
    {
     "data": {
      "text/html": [
       "<div>\n",
       "<style scoped>\n",
       "    .dataframe tbody tr th:only-of-type {\n",
       "        vertical-align: middle;\n",
       "    }\n",
       "\n",
       "    .dataframe tbody tr th {\n",
       "        vertical-align: top;\n",
       "    }\n",
       "\n",
       "    .dataframe thead th {\n",
       "        text-align: right;\n",
       "    }\n",
       "</style>\n",
       "<table border=\"1\" class=\"dataframe\">\n",
       "  <thead>\n",
       "    <tr style=\"text-align: right;\">\n",
       "      <th></th>\n",
       "      <th>numero_de_cliente</th>\n",
       "      <th>foto_mes</th>\n",
       "      <th>mrentabilidad</th>\n",
       "    </tr>\n",
       "  </thead>\n",
       "  <tbody>\n",
       "    <tr>\n",
       "      <th>0</th>\n",
       "      <td>249221109</td>\n",
       "      <td>202101</td>\n",
       "      <td>1664.94</td>\n",
       "    </tr>\n",
       "    <tr>\n",
       "      <th>1</th>\n",
       "      <td>249221109</td>\n",
       "      <td>202102</td>\n",
       "      <td>1002.92</td>\n",
       "    </tr>\n",
       "    <tr>\n",
       "      <th>2</th>\n",
       "      <td>249221109</td>\n",
       "      <td>202103</td>\n",
       "      <td>769.74</td>\n",
       "    </tr>\n",
       "    <tr>\n",
       "      <th>3</th>\n",
       "      <td>249221109</td>\n",
       "      <td>202104</td>\n",
       "      <td>1532.79</td>\n",
       "    </tr>\n",
       "    <tr>\n",
       "      <th>4</th>\n",
       "      <td>249221109</td>\n",
       "      <td>202105</td>\n",
       "      <td>1804.14</td>\n",
       "    </tr>\n",
       "    <tr>\n",
       "      <th>5</th>\n",
       "      <td>249221109</td>\n",
       "      <td>202106</td>\n",
       "      <td>399.88</td>\n",
       "    </tr>\n",
       "  </tbody>\n",
       "</table>\n",
       "</div>"
      ],
      "text/plain": [
       "   numero_de_cliente  foto_mes  mrentabilidad\n",
       "0          249221109    202101        1664.94\n",
       "1          249221109    202102        1002.92\n",
       "2          249221109    202103         769.74\n",
       "3          249221109    202104        1532.79\n",
       "4          249221109    202105        1804.14\n",
       "5          249221109    202106         399.88"
      ]
     },
     "execution_count": 5,
     "metadata": {},
     "output_type": "execute_result"
    }
   ],
   "source": [
    "%%sql\n",
    "select\n",
    "    numero_de_cliente\n",
    "    , foto_mes\n",
    "    , mrentabilidad\n",
    "from competencia_01_crudo\n",
    "where numero_de_cliente = 249221109\n",
    "order by foto_mes"
   ]
  },
  {
   "cell_type": "code",
   "execution_count": 6,
   "metadata": {
    "id": "dcJ0thoGD_1M"
   },
   "outputs": [
    {
     "data": {
      "text/html": [
       "<div>\n",
       "<style scoped>\n",
       "    .dataframe tbody tr th:only-of-type {\n",
       "        vertical-align: middle;\n",
       "    }\n",
       "\n",
       "    .dataframe tbody tr th {\n",
       "        vertical-align: top;\n",
       "    }\n",
       "\n",
       "    .dataframe thead th {\n",
       "        text-align: right;\n",
       "    }\n",
       "</style>\n",
       "<table border=\"1\" class=\"dataframe\">\n",
       "  <thead>\n",
       "    <tr style=\"text-align: right;\">\n",
       "      <th></th>\n",
       "      <th>numero_de_cliente</th>\n",
       "      <th>foto_mes</th>\n",
       "      <th>mrentabilidad</th>\n",
       "      <th>mrentabilidad_mas_1</th>\n",
       "      <th>mrentabilidad_menos_1</th>\n",
       "      <th>mrentabilidad_mas_2</th>\n",
       "      <th>mrentabilidad_menos_2</th>\n",
       "    </tr>\n",
       "  </thead>\n",
       "  <tbody>\n",
       "    <tr>\n",
       "      <th>0</th>\n",
       "      <td>249221109</td>\n",
       "      <td>202101</td>\n",
       "      <td>1664.94</td>\n",
       "      <td>1002.92</td>\n",
       "      <td>NaN</td>\n",
       "      <td>769.74</td>\n",
       "      <td>NaN</td>\n",
       "    </tr>\n",
       "    <tr>\n",
       "      <th>1</th>\n",
       "      <td>249221109</td>\n",
       "      <td>202102</td>\n",
       "      <td>1002.92</td>\n",
       "      <td>769.74</td>\n",
       "      <td>1664.94</td>\n",
       "      <td>1532.79</td>\n",
       "      <td>NaN</td>\n",
       "    </tr>\n",
       "    <tr>\n",
       "      <th>2</th>\n",
       "      <td>249221109</td>\n",
       "      <td>202103</td>\n",
       "      <td>769.74</td>\n",
       "      <td>1532.79</td>\n",
       "      <td>1002.92</td>\n",
       "      <td>1804.14</td>\n",
       "      <td>1664.94</td>\n",
       "    </tr>\n",
       "    <tr>\n",
       "      <th>3</th>\n",
       "      <td>249221109</td>\n",
       "      <td>202104</td>\n",
       "      <td>1532.79</td>\n",
       "      <td>1804.14</td>\n",
       "      <td>769.74</td>\n",
       "      <td>399.88</td>\n",
       "      <td>1002.92</td>\n",
       "    </tr>\n",
       "    <tr>\n",
       "      <th>4</th>\n",
       "      <td>249221109</td>\n",
       "      <td>202105</td>\n",
       "      <td>1804.14</td>\n",
       "      <td>399.88</td>\n",
       "      <td>1532.79</td>\n",
       "      <td>NaN</td>\n",
       "      <td>769.74</td>\n",
       "    </tr>\n",
       "    <tr>\n",
       "      <th>5</th>\n",
       "      <td>249221109</td>\n",
       "      <td>202106</td>\n",
       "      <td>399.88</td>\n",
       "      <td>NaN</td>\n",
       "      <td>1804.14</td>\n",
       "      <td>NaN</td>\n",
       "      <td>1532.79</td>\n",
       "    </tr>\n",
       "  </tbody>\n",
       "</table>\n",
       "</div>"
      ],
      "text/plain": [
       "   numero_de_cliente  foto_mes  mrentabilidad  mrentabilidad_mas_1  \\\n",
       "0          249221109    202101        1664.94              1002.92   \n",
       "1          249221109    202102        1002.92               769.74   \n",
       "2          249221109    202103         769.74              1532.79   \n",
       "3          249221109    202104        1532.79              1804.14   \n",
       "4          249221109    202105        1804.14               399.88   \n",
       "5          249221109    202106         399.88                  NaN   \n",
       "\n",
       "   mrentabilidad_menos_1  mrentabilidad_mas_2  mrentabilidad_menos_2  \n",
       "0                    NaN               769.74                    NaN  \n",
       "1                1664.94              1532.79                    NaN  \n",
       "2                1002.92              1804.14                1664.94  \n",
       "3                 769.74               399.88                1002.92  \n",
       "4                1532.79                  NaN                 769.74  \n",
       "5                1804.14                  NaN                1532.79  "
      ]
     },
     "execution_count": 6,
     "metadata": {},
     "output_type": "execute_result"
    }
   ],
   "source": [
    "%%sql\n",
    "select\n",
    "    numero_de_cliente\n",
    "    , foto_mes\n",
    "    , mrentabilidad\n",
    "    , lead(mrentabilidad, 1) over (partition by numero_de_cliente order by foto_mes) as mrentabilidad_mas_1\n",
    "    , lag(mrentabilidad, 1) over (partition by numero_de_cliente order by foto_mes) as mrentabilidad_menos_1\n",
    "    , lead(mrentabilidad, 2) over (partition by numero_de_cliente order by foto_mes) as mrentabilidad_mas_2\n",
    "    , lag(mrentabilidad, 2) over (partition by numero_de_cliente order by foto_mes) as mrentabilidad_menos_2\n",
    "from competencia_01_crudo\n",
    "where numero_de_cliente = 249221109\n",
    "order by foto_mes\n"
   ]
  },
  {
   "cell_type": "markdown",
   "metadata": {
    "id": "dYRJzaepFXZL"
   },
   "source": [
    "* Qué paso?\n",
    "* ¿Cómo esta construyendo las nuevas variables?\n",
    "* ¿ Nos puede ayudar a construir targets ?\n",
    "\n",
    "¿Dondé puedo leer un poco más de esta magia negra? https://duckdb.org/docs/sql/window_functions.html\n",
    "\n",
    "## Los casos raros\n",
    "\n",
    "Que pasa con el cliente **304051318** y la foto **202103**\n"
   ]
  },
  {
   "cell_type": "code",
   "execution_count": 7,
   "metadata": {
    "id": "cdbHeTQoyhJ9"
   },
   "outputs": [
    {
     "data": {
      "text/html": [
       "<div>\n",
       "<style scoped>\n",
       "    .dataframe tbody tr th:only-of-type {\n",
       "        vertical-align: middle;\n",
       "    }\n",
       "\n",
       "    .dataframe tbody tr th {\n",
       "        vertical-align: top;\n",
       "    }\n",
       "\n",
       "    .dataframe thead th {\n",
       "        text-align: right;\n",
       "    }\n",
       "</style>\n",
       "<table border=\"1\" class=\"dataframe\">\n",
       "  <thead>\n",
       "    <tr style=\"text-align: right;\">\n",
       "      <th></th>\n",
       "      <th>numero_de_cliente</th>\n",
       "      <th>foto_mes</th>\n",
       "    </tr>\n",
       "  </thead>\n",
       "  <tbody>\n",
       "    <tr>\n",
       "      <th>0</th>\n",
       "      <td>304051318</td>\n",
       "      <td>202101</td>\n",
       "    </tr>\n",
       "    <tr>\n",
       "      <th>1</th>\n",
       "      <td>304051318</td>\n",
       "      <td>202102</td>\n",
       "    </tr>\n",
       "    <tr>\n",
       "      <th>2</th>\n",
       "      <td>304051318</td>\n",
       "      <td>202104</td>\n",
       "    </tr>\n",
       "    <tr>\n",
       "      <th>3</th>\n",
       "      <td>304051318</td>\n",
       "      <td>202105</td>\n",
       "    </tr>\n",
       "    <tr>\n",
       "      <th>4</th>\n",
       "      <td>304051318</td>\n",
       "      <td>202106</td>\n",
       "    </tr>\n",
       "  </tbody>\n",
       "</table>\n",
       "</div>"
      ],
      "text/plain": [
       "   numero_de_cliente  foto_mes\n",
       "0          304051318    202101\n",
       "1          304051318    202102\n",
       "2          304051318    202104\n",
       "3          304051318    202105\n",
       "4          304051318    202106"
      ]
     },
     "execution_count": 7,
     "metadata": {},
     "output_type": "execute_result"
    }
   ],
   "source": [
    "%%sql\n",
    "select\n",
    "    numero_de_cliente\n",
    "    , foto_mes\n",
    "from competencia_01_crudo\n",
    "where numero_de_cliente = 304051318\n",
    "order by foto_mes"
   ]
  },
  {
   "cell_type": "markdown",
   "metadata": {
    "id": "UC_iKnqVyuf2"
   },
   "source": [
    "* ¿Cuál debería ser la clase para cada periodo?\n",
    "\n",
    "### Una pista\n",
    "\n",
    "Podemos generar todas las posibles combinaciones de clientes y periodos de manera muy simple"
   ]
  },
  {
   "cell_type": "code",
   "execution_count": 15,
   "metadata": {
    "id": "dt0nbm99zB9k"
   },
   "outputs": [
    {
     "data": {
      "text/html": [
       "<div>\n",
       "<style scoped>\n",
       "    .dataframe tbody tr th:only-of-type {\n",
       "        vertical-align: middle;\n",
       "    }\n",
       "\n",
       "    .dataframe tbody tr th {\n",
       "        vertical-align: top;\n",
       "    }\n",
       "\n",
       "    .dataframe thead th {\n",
       "        text-align: right;\n",
       "    }\n",
       "</style>\n",
       "<table border=\"1\" class=\"dataframe\">\n",
       "  <thead>\n",
       "    <tr style=\"text-align: right;\">\n",
       "      <th></th>\n",
       "      <th>numero_de_cliente</th>\n",
       "      <th>foto_mes</th>\n",
       "    </tr>\n",
       "  </thead>\n",
       "  <tbody>\n",
       "    <tr>\n",
       "      <th>0</th>\n",
       "      <td>304051318</td>\n",
       "      <td>202101</td>\n",
       "    </tr>\n",
       "    <tr>\n",
       "      <th>1</th>\n",
       "      <td>304051318</td>\n",
       "      <td>202102</td>\n",
       "    </tr>\n",
       "    <tr>\n",
       "      <th>2</th>\n",
       "      <td>304051318</td>\n",
       "      <td>202103</td>\n",
       "    </tr>\n",
       "    <tr>\n",
       "      <th>3</th>\n",
       "      <td>304051318</td>\n",
       "      <td>202104</td>\n",
       "    </tr>\n",
       "    <tr>\n",
       "      <th>4</th>\n",
       "      <td>304051318</td>\n",
       "      <td>202105</td>\n",
       "    </tr>\n",
       "    <tr>\n",
       "      <th>5</th>\n",
       "      <td>304051318</td>\n",
       "      <td>202106</td>\n",
       "    </tr>\n",
       "  </tbody>\n",
       "</table>\n",
       "</div>"
      ],
      "text/plain": [
       "   numero_de_cliente  foto_mes\n",
       "0          304051318    202101\n",
       "1          304051318    202102\n",
       "2          304051318    202103\n",
       "3          304051318    202104\n",
       "4          304051318    202105\n",
       "5          304051318    202106"
      ]
     },
     "execution_count": 15,
     "metadata": {},
     "output_type": "execute_result"
    }
   ],
   "source": [
    "%%sql\n",
    "with periodos as (\n",
    "  select distinct foto_mes from competencia_01_crudo\n",
    "), clientes as (\n",
    "  select distinct numero_de_cliente from competencia_01_crudo\n",
    ")\n",
    "select numero_de_cliente, foto_mes from clientes cross join periodos\n",
    "where numero_de_cliente = 304051318\n",
    "order by foto_mes"
   ]
  },
  {
   "cell_type": "markdown",
   "metadata": {
    "id": "bq2TnGq9zjur"
   },
   "source": [
    "Solo nos queda saber si estuvo o no el banco el cliente en ese periodo y armar el"
   ]
  },
  {
   "cell_type": "code",
   "execution_count": 8,
   "metadata": {
    "id": "r1P_a5bYzrB0"
   },
   "outputs": [
    {
     "data": {
      "text/html": [
       "<div>\n",
       "<style scoped>\n",
       "    .dataframe tbody tr th:only-of-type {\n",
       "        vertical-align: middle;\n",
       "    }\n",
       "\n",
       "    .dataframe tbody tr th {\n",
       "        vertical-align: top;\n",
       "    }\n",
       "\n",
       "    .dataframe thead th {\n",
       "        text-align: right;\n",
       "    }\n",
       "</style>\n",
       "<table border=\"1\" class=\"dataframe\">\n",
       "  <thead>\n",
       "    <tr style=\"text-align: right;\">\n",
       "      <th></th>\n",
       "      <th>numero_de_cliente</th>\n",
       "      <th>foto_mes</th>\n",
       "      <th>mes_0</th>\n",
       "    </tr>\n",
       "  </thead>\n",
       "  <tbody>\n",
       "    <tr>\n",
       "      <th>0</th>\n",
       "      <td>304051318</td>\n",
       "      <td>202101</td>\n",
       "      <td>1</td>\n",
       "    </tr>\n",
       "    <tr>\n",
       "      <th>1</th>\n",
       "      <td>304051318</td>\n",
       "      <td>202102</td>\n",
       "      <td>1</td>\n",
       "    </tr>\n",
       "    <tr>\n",
       "      <th>2</th>\n",
       "      <td>304051318</td>\n",
       "      <td>202103</td>\n",
       "      <td>0</td>\n",
       "    </tr>\n",
       "    <tr>\n",
       "      <th>3</th>\n",
       "      <td>304051318</td>\n",
       "      <td>202104</td>\n",
       "      <td>1</td>\n",
       "    </tr>\n",
       "    <tr>\n",
       "      <th>4</th>\n",
       "      <td>304051318</td>\n",
       "      <td>202105</td>\n",
       "      <td>1</td>\n",
       "    </tr>\n",
       "    <tr>\n",
       "      <th>5</th>\n",
       "      <td>304051318</td>\n",
       "      <td>202106</td>\n",
       "      <td>1</td>\n",
       "    </tr>\n",
       "  </tbody>\n",
       "</table>\n",
       "</div>"
      ],
      "text/plain": [
       "   numero_de_cliente  foto_mes  mes_0\n",
       "0          304051318    202101      1\n",
       "1          304051318    202102      1\n",
       "2          304051318    202103      0\n",
       "3          304051318    202104      1\n",
       "4          304051318    202105      1\n",
       "5          304051318    202106      1"
      ]
     },
     "execution_count": 8,
     "metadata": {},
     "output_type": "execute_result"
    }
   ],
   "source": [
    "%%sql\n",
    "with periodos as (\n",
    "    select distinct foto_mes from competencia_01_crudo -- Esto también se puede hacer con secuencias\n",
    "), clientes as (\n",
    "    select distinct numero_de_cliente from competencia_01_crudo\n",
    "), todo as (\n",
    "    select numero_de_cliente, foto_mes from clientes cross join periodos\n",
    ")\n",
    "select\n",
    "    t.numero_de_cliente\n",
    "    , t.foto_mes\n",
    "    , if(c.numero_de_cliente is null, 0, 1) as mes_0\n",
    "from todo t\n",
    "left join competencia_01_crudo c using (numero_de_cliente, foto_mes)\n",
    "where t.numero_de_cliente = 304051318\n",
    "order by foto_mes"
   ]
  },
  {
   "cell_type": "markdown",
   "metadata": {
    "id": "srh1jEc40QXi"
   },
   "source": [
    "Antes de continuar, tomémonos un momento para reflexionar. Con todas estas piezas, ¿cómo podemos ensamblar el target?\n",
    "\n",
    "Una vez que lo tengamos claro sobre el papel, proceda a completar el código que sigue."
   ]
  },
  {
   "cell_type": "code",
   "execution_count": 9,
   "metadata": {
    "id": "_qF0ytXR0v4s"
   },
   "outputs": [
    {
     "data": {
      "application/vnd.jupyter.widget-view+json": {
       "model_id": "c5ca856f2c2a499eab6181ca94076fbd",
       "version_major": 2,
       "version_minor": 0
      },
      "text/plain": [
       "FloatProgress(value=0.0, layout=Layout(width='auto'), style=ProgressStyle(bar_color='black'))"
      ]
     },
     "metadata": {},
     "output_type": "display_data"
    },
    {
     "data": {
      "text/html": [
       "<div>\n",
       "<style scoped>\n",
       "    .dataframe tbody tr th:only-of-type {\n",
       "        vertical-align: middle;\n",
       "    }\n",
       "\n",
       "    .dataframe tbody tr th {\n",
       "        vertical-align: top;\n",
       "    }\n",
       "\n",
       "    .dataframe thead th {\n",
       "        text-align: right;\n",
       "    }\n",
       "</style>\n",
       "<table border=\"1\" class=\"dataframe\">\n",
       "  <thead>\n",
       "    <tr style=\"text-align: right;\">\n",
       "      <th></th>\n",
       "      <th>Count</th>\n",
       "    </tr>\n",
       "  </thead>\n",
       "  <tbody>\n",
       "    <tr>\n",
       "      <th>0</th>\n",
       "      <td>981946</td>\n",
       "    </tr>\n",
       "  </tbody>\n",
       "</table>\n",
       "</div>"
      ],
      "text/plain": [
       "    Count\n",
       "0  981946"
      ]
     },
     "execution_count": 9,
     "metadata": {},
     "output_type": "execute_result"
    }
   ],
   "source": [
    "%%sql\n",
    "create or replace table competencia_01 as\n",
    "with periodos as (\n",
    "    select distinct foto_mes from competencia_01_crudo\n",
    "), clientes as (\n",
    "    select distinct numero_de_cliente from competencia_01_crudo\n",
    "), todo as (\n",
    "    select numero_de_cliente, foto_mes from clientes cross join periodos\n",
    "), clase_ternaria as (\n",
    "    select\n",
    "        c.*\n",
    "        , if(c.numero_de_cliente is null, 0, 1) as mes_0\n",
    "        , lead(mes_0, 1) over (partition by t.numero_de_cliente order by foto_mes) as mes_1\n",
    "        , lead(mes_0, 2) over (partition by t.numero_de_cliente order by foto_mes) as mes_2\n",
    "        , if (mes_2 = 1, 'CONTINUA',\n",
    "          if(mes_1 = 1 , 'BAJA+2', 'BAJA+1')), null as clase_ternaria -- Replazar null por la lógica que genera el target\n",
    "    from todo t\n",
    "    left join competencia_01_crudo c using (numero_de_cliente, foto_mes)\n",
    ") select\n",
    "  * EXCLUDE (mes_0, mes_1, mes_2)\n",
    "from clase_ternaria\n",
    "where mes_0 = 1"
   ]
  },
  {
   "cell_type": "markdown",
   "metadata": {
    "id": "acakyUUY2dzk"
   },
   "source": [
    "Revisamos que todo salga como esperamos"
   ]
  },
  {
   "cell_type": "code",
   "execution_count": 10,
   "metadata": {
    "id": "N3zp0WLz2XIK"
   },
   "outputs": [
    {
     "data": {
      "text/html": [
       "<div>\n",
       "<style scoped>\n",
       "    .dataframe tbody tr th:only-of-type {\n",
       "        vertical-align: middle;\n",
       "    }\n",
       "\n",
       "    .dataframe tbody tr th {\n",
       "        vertical-align: top;\n",
       "    }\n",
       "\n",
       "    .dataframe thead th {\n",
       "        text-align: right;\n",
       "    }\n",
       "</style>\n",
       "<table border=\"1\" class=\"dataframe\">\n",
       "  <thead>\n",
       "    <tr style=\"text-align: right;\">\n",
       "      <th></th>\n",
       "      <th>count_star()</th>\n",
       "    </tr>\n",
       "  </thead>\n",
       "  <tbody>\n",
       "    <tr>\n",
       "      <th>0</th>\n",
       "      <td>981946</td>\n",
       "    </tr>\n",
       "  </tbody>\n",
       "</table>\n",
       "</div>"
      ],
      "text/plain": [
       "   count_star()\n",
       "0        981946"
      ]
     },
     "execution_count": 10,
     "metadata": {},
     "output_type": "execute_result"
    }
   ],
   "source": [
    "%sql select count(*) from competencia_01"
   ]
  },
  {
   "cell_type": "markdown",
   "metadata": {
    "id": "90EgjibQ2hcG"
   },
   "source": [
    "Y vemos la cardinalidad de las clases por periodo"
   ]
  },
  {
   "cell_type": "code",
   "execution_count": 19,
   "metadata": {
    "id": "VZJBWI322Z3d"
   },
   "outputs": [
    {
     "data": {
      "text/html": [
       "<div>\n",
       "<style scoped>\n",
       "    .dataframe tbody tr th:only-of-type {\n",
       "        vertical-align: middle;\n",
       "    }\n",
       "\n",
       "    .dataframe tbody tr th {\n",
       "        vertical-align: top;\n",
       "    }\n",
       "\n",
       "    .dataframe thead th {\n",
       "        text-align: right;\n",
       "    }\n",
       "</style>\n",
       "<table border=\"1\" class=\"dataframe\">\n",
       "  <thead>\n",
       "    <tr style=\"text-align: right;\">\n",
       "      <th></th>\n",
       "      <th>foto_mes</th>\n",
       "      <th>BAJA+1</th>\n",
       "      <th>BAJA+2</th>\n",
       "      <th>CONTINUA</th>\n",
       "    </tr>\n",
       "  </thead>\n",
       "  <tbody>\n",
       "    <tr>\n",
       "      <th>0</th>\n",
       "      <td>202101</td>\n",
       "      <td>635</td>\n",
       "      <td>785</td>\n",
       "      <td>160606</td>\n",
       "    </tr>\n",
       "    <tr>\n",
       "      <th>1</th>\n",
       "      <td>202102</td>\n",
       "      <td>785</td>\n",
       "      <td>1017</td>\n",
       "      <td>160844</td>\n",
       "    </tr>\n",
       "    <tr>\n",
       "      <th>2</th>\n",
       "      <td>202103</td>\n",
       "      <td>1020</td>\n",
       "      <td>981</td>\n",
       "      <td>161684</td>\n",
       "    </tr>\n",
       "    <tr>\n",
       "      <th>3</th>\n",
       "      <td>202104</td>\n",
       "      <td>982</td>\n",
       "      <td>1189</td>\n",
       "      <td>161919</td>\n",
       "    </tr>\n",
       "    <tr>\n",
       "      <th>4</th>\n",
       "      <td>202105</td>\n",
       "      <td>1192</td>\n",
       "      <td>163431</td>\n",
       "      <td>0</td>\n",
       "    </tr>\n",
       "    <tr>\n",
       "      <th>5</th>\n",
       "      <td>202106</td>\n",
       "      <td>164876</td>\n",
       "      <td>0</td>\n",
       "      <td>0</td>\n",
       "    </tr>\n",
       "  </tbody>\n",
       "</table>\n",
       "</div>"
      ],
      "text/plain": [
       "   foto_mes  BAJA+1  BAJA+2  CONTINUA\n",
       "0    202101     635     785    160606\n",
       "1    202102     785    1017    160844\n",
       "2    202103    1020     981    161684\n",
       "3    202104     982    1189    161919\n",
       "4    202105    1192  163431         0\n",
       "5    202106  164876       0         0"
      ]
     },
     "execution_count": 19,
     "metadata": {},
     "output_type": "execute_result"
    }
   ],
   "source": [
    "%%sql\n",
    "PIVOT competencia_01\n",
    "on clase_ternaria\n",
    "USING count(numero_de_cliente)\n",
    "GROUP BY foto_mes"
   ]
  },
  {
   "cell_type": "markdown",
   "metadata": {
    "id": "SCxmW_Bv2mFl"
   },
   "source": [
    "Y finalmente almacenamos el nuevo dataset para ser usado a continuación"
   ]
  },
  {
   "cell_type": "code",
   "execution_count": 24,
   "metadata": {
    "id": "qL23ffUz0zCN"
   },
   "outputs": [
    {
     "data": {
      "application/vnd.jupyter.widget-view+json": {
       "model_id": "ca87c9268d454969967f60578894a502",
       "version_major": 2,
       "version_minor": 0
      },
      "text/plain": [
       "FloatProgress(value=0.0, layout=Layout(width='auto'), style=ProgressStyle(bar_color='black'))"
      ]
     },
     "metadata": {},
     "output_type": "display_data"
    },
    {
     "data": {
      "text/html": [
       "<div>\n",
       "<style scoped>\n",
       "    .dataframe tbody tr th:only-of-type {\n",
       "        vertical-align: middle;\n",
       "    }\n",
       "\n",
       "    .dataframe tbody tr th {\n",
       "        vertical-align: top;\n",
       "    }\n",
       "\n",
       "    .dataframe thead th {\n",
       "        text-align: right;\n",
       "    }\n",
       "</style>\n",
       "<table border=\"1\" class=\"dataframe\">\n",
       "  <thead>\n",
       "    <tr style=\"text-align: right;\">\n",
       "      <th></th>\n",
       "      <th>Count</th>\n",
       "    </tr>\n",
       "  </thead>\n",
       "  <tbody>\n",
       "    <tr>\n",
       "      <th>0</th>\n",
       "      <td>981946</td>\n",
       "    </tr>\n",
       "  </tbody>\n",
       "</table>\n",
       "</div>"
      ],
      "text/plain": [
       "    Count\n",
       "0  981946"
      ]
     },
     "execution_count": 24,
     "metadata": {},
     "output_type": "execute_result"
    }
   ],
   "source": [
    "%%sql\n",
    "COPY competencia_01 TO 'competencia_01.csv' (FORMAT CSV, HEADER)"
   ]
  },
  {
   "cell_type": "markdown",
   "metadata": {
    "id": "2Mb_eDF5xmkT"
   },
   "source": [
    "\n",
    "## El pato del amor\n",
    "\n",
    "DuckDB no es una base de datos SQL estándar; su sintaxis moderna facilita significativamente la escritura de consultas. A continuación, te menciono algunas características destacadas:\n",
    "\n",
    "+ Uso de variables: En DuckDB, no es necesario reescribir las variables; puedes utilizar tus variables una vez definidas, lo que simplifica el código.\n",
    "\n",
    "+ Función IF: DuckDB soporta la función IF(condición, valor_si_verdadero, valor_si_falso), lo que hace que tu código sea más claro y legible en comparación con el uso de CASE WHEN.\n",
    "\n",
    "+ Exclusión de campos: Puedes utilizar SELECT * EXCLUDE(field1, ...) para excluir campos específicos de la lista de selección, lo que ahorra tiempo y esfuerzo.\n",
    "\n",
    "+ Alias en cláusulas: Es posible utilizar alias en las cláusulas WHERE, GROUP BY y HAVING, lo que añade flexibilidad a la escritura de consultas.\n",
    "\n",
    "+ Uso de alias en cálculos: DuckDB permite el uso de alias dentro del cálculo de otros campos, facilitando la manipulación y transformación de datos en una consulta.\n",
    "\n",
    "Estas son solo algunas de las capacidades que hacen de DuckDB una herramienta poderosa. Te recomiendo leer la documentación y el blog oficial para explorar más a fondo su potencial."
   ]
  }
 ],
 "metadata": {
  "colab": {
   "authorship_tag": "ABX9TyPgcBggShmVq/KzAdRw17Y5",
   "mount_file_id": "10Dk7hTobk07V7K_54-RmGED7f8I3LaBw",
   "provenance": []
  },
  "kernelspec": {
   "display_name": "Python 3 (ipykernel)",
   "language": "python",
   "name": "python3"
  },
  "language_info": {
   "codemirror_mode": {
    "name": "ipython",
    "version": 3
   },
   "file_extension": ".py",
   "mimetype": "text/x-python",
   "name": "python",
   "nbconvert_exporter": "python",
   "pygments_lexer": "ipython3",
   "version": "3.10.6"
  },
  "toc": {
   "base_numbering": 1,
   "nav_menu": {},
   "number_sections": true,
   "sideBar": true,
   "skip_h1_title": false,
   "title_cell": "Table of Contents",
   "title_sidebar": "Contents",
   "toc_cell": false,
   "toc_position": {},
   "toc_section_display": true,
   "toc_window_display": false
  }
 },
 "nbformat": 4,
 "nbformat_minor": 1
}
