{
  "cells": [
    {
      "cell_type": "markdown",
      "metadata": {
        "id": "FX-Vq4mgJS_t"
      },
      "source": [
        "# Segmentando clientes\n",
        "\n",
        "En esta notebook se verá una forma sobre como segmentar a los clientes, cuando cuenta con una gran cantidad de estos sobre una base de datos de una gran (?) cantidad de dimensiones.\n",
        "\n",
        "Empezaremos cargando el entorno e instalando los requerimentos necesarios."
      ]
    },
    {
      "cell_type": "code",
      "execution_count": null,
      "metadata": {
        "colab": {
          "base_uri": "https://localhost:8080/"
        },
        "id": "CqrQIDd8JRlJ",
        "outputId": "28396bd0-b03c-4514-9f77-39c0930afb05"
      },
      "outputs": [
        {
          "name": "stdout",
          "output_type": "stream",
          "text": [
            "Requirement already satisfied: umap in /usr/local/lib/python3.10/dist-packages (0.1.1)\n",
            "Requirement already satisfied: umap-learn in /usr/local/lib/python3.10/dist-packages (0.5.6)\n",
            "Requirement already satisfied: numpy>=1.17 in /usr/local/lib/python3.10/dist-packages (from umap-learn) (1.26.4)\n",
            "Requirement already satisfied: scipy>=1.3.1 in /usr/local/lib/python3.10/dist-packages (from umap-learn) (1.13.1)\n",
            "Requirement already satisfied: scikit-learn>=0.22 in /usr/local/lib/python3.10/dist-packages (from umap-learn) (1.3.2)\n",
            "Requirement already satisfied: numba>=0.51.2 in /usr/local/lib/python3.10/dist-packages (from umap-learn) (0.60.0)\n",
            "Requirement already satisfied: pynndescent>=0.5 in /usr/local/lib/python3.10/dist-packages (from umap-learn) (0.5.13)\n",
            "Requirement already satisfied: tqdm in /usr/local/lib/python3.10/dist-packages (from umap-learn) (4.66.5)\n",
            "Requirement already satisfied: llvmlite<0.44,>=0.43.0dev0 in /usr/local/lib/python3.10/dist-packages (from numba>=0.51.2->umap-learn) (0.43.0)\n",
            "Requirement already satisfied: joblib>=0.11 in /usr/local/lib/python3.10/dist-packages (from pynndescent>=0.5->umap-learn) (1.4.2)\n",
            "Requirement already satisfied: threadpoolctl>=2.0.0 in /usr/local/lib/python3.10/dist-packages (from scikit-learn>=0.22->umap-learn) (3.5.0)\n"
          ]
        }
      ],
      "source": [
        "#%pip install scikit-learn==1.3.2\n",
        "#%pip install seaborn==0.13.1\n",
        "#%pip install numpy==1.26.4\n",
        "#%pip install matplotlib==3.7.1\n",
        "%pip install umap\n",
        "%pip install umap-learn"
      ]
    },
    {
      "cell_type": "code",
      "execution_count": 1,
      "metadata": {
        "id": "T8x1jAl_kqFt"
      },
      "outputs": [
        {
          "name": "stderr",
          "output_type": "stream",
          "text": [
            "c:\\Users\\Federico\\AppData\\Local\\Programs\\Python\\Python312\\Lib\\site-packages\\tqdm\\auto.py:21: TqdmWarning: IProgress not found. Please update jupyter and ipywidgets. See https://ipywidgets.readthedocs.io/en/stable/user_install.html\n",
            "  from .autonotebook import tqdm as notebook_tqdm\n"
          ]
        }
      ],
      "source": [
        "import pandas as pd\n",
        "import numpy as np\n",
        "import seaborn as sns\n",
        "\n",
        "from umap import UMAP\n",
        "import matplotlib.pyplot as plt\n",
        "from sklearn.cluster import DBSCAN\n",
        "from sklearn.ensemble import  RandomForestClassifier\n",
        "from sklearn.impute import SimpleImputer\n",
        "\n",
        "import optuna\n",
        "from optuna.visualization import plot_param_importances, plot_contour,  plot_slice, plot_optimization_history"
      ]
    },
    {
      "cell_type": "code",
      "execution_count": 2,
      "metadata": {
        "id": "R58qDmLYtVXk"
      },
      "outputs": [],
      "source": [
        "dataset_path = 'C:/Users/Federico/Desktop/Maestria Data mining/DM EyF/datasets/'\n",
        "dataset_file='competencia_01_fe.csv'\n",
        "\n",
        "base_path = 'C:/Users/Federico/Desktop/Maestria Data mining/DM EyF/'\n",
        "dataset_path = base_path + 'datasets/'\n",
        "modelos_path = base_path + 'modelos/'\n",
        "db_path = base_path + 'db/'\n",
        "\n",
        "ganancia_acierto = 273000\n",
        "costo_estimulo = 7000\n",
        "\n",
        "# agregue sus semillas\n",
        "semillas = [540079, 250829, 314299, 302111, 801007]\n",
        "\n",
        "def ganancia_prob(y_hat, y, prop=1, class_index=1, threshold=0.025):\n",
        "  @np.vectorize\n",
        "  def ganancia_row(predicted, actual, threshold=0.025):\n",
        "    return  (predicted >= threshold) * (ganancia_acierto if actual == 1 else -costo_estimulo)\n",
        "\n",
        "  return ganancia_row(y_hat[:,class_index], y).sum() / prop\n"
      ]
    },
    {
      "cell_type": "code",
      "execution_count": 3,
      "metadata": {},
      "outputs": [
        {
          "data": {
            "text/plain": [
              "(981946, 312)"
            ]
          },
          "execution_count": 3,
          "metadata": {},
          "output_type": "execute_result"
        }
      ],
      "source": [
        "df_train = pd.read_csv(dataset_path + dataset_file)\n",
        "df_train.shape"
      ]
    },
    {
      "cell_type": "markdown",
      "metadata": {
        "id": "AEDRaksFthSF"
      },
      "source": [
        "Solo segmentaremos a los clientes de abril, dado que necesitaremos variables en algún momento agregar variables históricas para entender su comportamiento previo a la **baja**"
      ]
    },
    {
      "cell_type": "code",
      "execution_count": 13,
      "metadata": {
        "id": "MNZ1Vrg4k9r8"
      },
      "outputs": [],
      "source": [
        "df_train = df_train[df_train['foto_mes']==202104] ##suma division\n",
        "df_train.shape\n",
        "df_train=df_train[['avg_3_cpayroll_trx', 'avg_3_ctrx_quarter', 'percent_rank_mpayroll', 'mpayroll', 'lag_1_ctrx_quarter', 'm_payroll_total', 'percent_rank_ctrx_quarter', 'percent_rank_mpasivos_margen', 'm_cpayroll_total', 'cpayroll_trx', 'ctrx_quarter', 'lag_1_mpayroll', 'lag_2_ctrx_quarter', 'percent_rank_cpayroll_trx', 'mcaja_ahorro', 'lag_2_cpayroll_trx', 'mtarjetas_consumo', 'ctarjeta_visa_transacciones', 'avg_3_mcaja_ahorro', 'percent_rank_mcaja_ahorro','clase_ternaria']]"
      ]
    },
    {
      "cell_type": "markdown",
      "metadata": {},
      "source": [
        "# Preparo la data para entrenar cada modelo"
      ]
    },
    {
      "cell_type": "code",
      "execution_count": 14,
      "metadata": {},
      "outputs": [],
      "source": [
        "def prepare_data(df):\n",
        "    y = df[\"clase_ternaria\"].map(lambda x: 0 if x == \"CONTINUA\" else 1)\n",
        "    X = df.drop(\"clase_ternaria\", axis=1)\n",
        "    return X, y\n",
        "\n",
        "# Ejemplo de uso para cada dataframe:\n",
        "Xtrain, ytrain = prepare_data(df_train)"
      ]
    },
    {
      "cell_type": "markdown",
      "metadata": {
        "id": "G9omJU4KnsVE"
      },
      "source": [
        "Decido trabajar con todos los bajas y 10000 continua"
      ]
    },
    {
      "cell_type": "code",
      "execution_count": 15,
      "metadata": {},
      "outputs": [],
      "source": [
        "def sample_data(X, y, sample_size=2000,seed=semillas[0]):\n",
        "\n",
        "    np.random.seed(seed)\n",
        "    continua_sample = y[y == 0].sample(sample_size).index  # Muestra aleatoria de clase 0\n",
        "    bajas_1_2 = y[y == 1].index  # Índices de clase 1\n",
        "    rf_index = continua_sample.union(bajas_1_2)  # Unión de índices\n",
        "\n",
        "    X_sample = X.loc[rf_index]  # Filtra X usando los índices seleccionados\n",
        "    y_sample = y.loc[rf_index]  # Filtra y usando los índices seleccionados\n",
        "\n",
        "    return X_sample, y_sample\n",
        "\n",
        "Xtrain_rf, ytrain_rf = sample_data(Xtrain, ytrain)"
      ]
    },
    {
      "cell_type": "markdown",
      "metadata": {
        "id": "CFTvRro4yv2C"
      },
      "source": [
        "Entreno 5 simples **rf**, esto solo para saber que variables dentro de cada dataset tiene sentido tomar\n"
      ]
    },
    {
      "cell_type": "code",
      "execution_count": 16,
      "metadata": {},
      "outputs": [],
      "source": [
        "def train_random_forest(X, y, n_estimators=100, max_features=20, min_samples_leaf=400, strategy='median', random_state=17):\n",
        "\n",
        "    # Imputar valores faltantes\n",
        "    imp_mean = SimpleImputer(missing_values=np.nan, strategy=strategy)\n",
        "    X_imputed = imp_mean.fit_transform(X)\n",
        "\n",
        "    # Entrenar RandomForestClassifier\n",
        "    model = RandomForestClassifier(\n",
        "        n_estimators=n_estimators,\n",
        "        max_features=max_features,\n",
        "        min_samples_leaf=min_samples_leaf,\n",
        "        random_state=random_state\n",
        "    )\n",
        "    \n",
        "    model.fit(X_imputed, y)\n",
        "\n",
        "    return model, X_imputed\n",
        "\n",
        "# Ejemplo de uso:\n",
        "model_rf, Xtrain_rf_imp = train_random_forest(Xtrain_rf, ytrain_rf)\n"
      ]
    },
    {
      "cell_type": "markdown",
      "metadata": {},
      "source": [
        "Miro la importancia de cada df y anoto las que mejor dan. "
      ]
    },
    {
      "cell_type": "code",
      "execution_count": 17,
      "metadata": {},
      "outputs": [
        {
          "name": "stdout",
          "output_type": "stream",
          "text": [
            "                         feature  importance\n",
            "6      percent_rank_ctrx_quarter    0.304505\n",
            "10                  ctrx_quarter    0.227251\n",
            "2          percent_rank_mpayroll    0.119591\n",
            "3                       mpayroll    0.109265\n",
            "16             mtarjetas_consumo    0.088053\n",
            "8               m_cpayroll_total    0.039318\n",
            "9                   cpayroll_trx    0.031711\n",
            "5                m_payroll_total    0.018559\n",
            "19     percent_rank_mcaja_ahorro    0.015900\n",
            "13     percent_rank_cpayroll_trx    0.015371\n",
            "14                  mcaja_ahorro    0.013358\n",
            "7   percent_rank_mpasivos_margen    0.010933\n",
            "18            avg_3_mcaja_ahorro    0.004673\n",
            "12            lag_2_ctrx_quarter    0.000883\n",
            "4             lag_1_ctrx_quarter    0.000629\n",
            "1             avg_3_ctrx_quarter    0.000000\n",
            "0             avg_3_cpayroll_trx    0.000000\n",
            "11                lag_1_mpayroll    0.000000\n",
            "15            lag_2_cpayroll_trx    0.000000\n",
            "17   ctarjeta_visa_transacciones    0.000000\n"
          ]
        }
      ],
      "source": [
        "def get_feature_importance(model, X, top_n=25):\n",
        "    importances = model.feature_importances_  # Obtiene la importancia de las características\n",
        "    features = X.columns  # Nombres de las características\n",
        "    feat_importances = pd.DataFrame({'feature': features, 'importance': importances})  # Crea un DataFrame\n",
        "    feat_importances = feat_importances.sort_values('importance', ascending=False)  # Ordena por importancia\n",
        "\n",
        "    return feat_importances.head(top_n)  # Devuelve las principales `top_n` características\n",
        "\n",
        "# Ejemplo de uso:\n",
        "top_features = get_feature_importance(model_rf, Xtrain_rf)\n",
        "print(top_features)\n"
      ]
    },
    {
      "cell_type": "code",
      "execution_count": 9,
      "metadata": {},
      "outputs": [],
      "source": [
        "def get_top_features(model, X, top_n=20):\n",
        "\n",
        "    importances = model.feature_importances_  # Importancia de las características\n",
        "    features = X.columns  # Nombres de las características\n",
        "    feat_importances = pd.DataFrame({'feature': features, 'importance': importances})  # Crea un DataFrame\n",
        "    feat_importances = feat_importances.sort_values('importance', ascending=False)  # Ordena por importancia\n",
        "\n",
        "    top_features = feat_importances['feature'].head(top_n).tolist()  # Obtiene los nombres de las top_n características\n",
        "\n",
        "    return top_features\n",
        "\n",
        "# Ejemplo de uso:\n",
        "top_features = get_top_features(model_rf, Xtrain_rf)"
      ]
    },
    {
      "cell_type": "code",
      "execution_count": 10,
      "metadata": {},
      "outputs": [
        {
          "name": "stdout",
          "output_type": "stream",
          "text": [
            "['avg_3_cpayroll_trx', 'avg_3_ctrx_quarter', 'percent_rank_mpayroll', 'mpayroll', 'lag_1_ctrx_quarter', 'm_payroll_total', 'percent_rank_ctrx_quarter', 'percent_rank_mpasivos_margen', 'm_cpayroll_total', 'cpayroll_trx', 'ctrx_quarter', 'lag_1_mpayroll', 'lag_2_ctrx_quarter', 'percent_rank_cpayroll_trx', 'mcaja_ahorro', 'lag_2_cpayroll_trx', 'mtarjetas_consumo', 'ctarjeta_visa_transacciones', 'avg_3_mcaja_ahorro', 'percent_rank_mcaja_ahorro']\n"
          ]
        }
      ],
      "source": [
        "print(top_features)"
      ]
    },
    {
      "cell_type": "markdown",
      "metadata": {},
      "source": [
        "# Optimizacion del mejor modelo"
      ]
    },
    {
      "cell_type": "code",
      "execution_count": 19,
      "metadata": {},
      "outputs": [
        {
          "name": "stderr",
          "output_type": "stream",
          "text": [
            "[I 2024-09-20 00:10:05,269] A new study created in RDB with name: exp_111111_random-forest-opt\n"
          ]
        }
      ],
      "source": [
        "imp_mean = SimpleImputer(missing_values=np.nan, strategy='mean')\n",
        "Xtrain_rf_imp = imp_mean.fit_transform(Xtrain_rf)\n",
        "\n",
        "# Optimizacion extendida\n",
        "def objective(trial):\n",
        "    # Hiperparámetros adicionales\n",
        "    n_estimators = trial.suggest_int('n_estimators', 100, 500)  # Número de árboles\n",
        "    max_depth = trial.suggest_int('max_depth', 5, 20)  # Profundidad máxima del árbol\n",
        "    min_samples_split = trial.suggest_int('min_samples_split', 50, 300)  # Mínimas muestras para dividir un nodo\n",
        "    min_samples_leaf = trial.suggest_int('min_samples_leaf', 1, 200)  # Mínimas muestras por hoja\n",
        "    \n",
        "    model = RandomForestClassifier(\n",
        "        n_estimators=n_estimators,\n",
        "        max_depth=max_depth,\n",
        "        min_samples_split=min_samples_split,\n",
        "        min_samples_leaf=min_samples_leaf,\n",
        "        criterion=\"entropy\",\n",
        "        random_state=semillas[0],\n",
        "        n_jobs=-1,\n",
        "        oob_score=True  # Se mantiene para evaluar con muestras fuera de bolsa\n",
        "    )\n",
        "\n",
        "    model.fit(Xtrain_rf_imp, ytrain_rf)\n",
        "\n",
        "    return ganancia_prob(model.oob_decision_function_, ytrain_rf)\n",
        "\n",
        "storage_name = \"sqlite:///\" + db_path + \"optimization_tree_111111.db\"\n",
        "study_name = \"exp_111111_random-forest-opt\"\n",
        "\n",
        "study = optuna.create_study(\n",
        "    direction=\"maximize\",\n",
        "    study_name=study_name,\n",
        "    storage=storage_name,\n",
        "    load_if_exists=True,\n",
        ")"
      ]
    },
    {
      "cell_type": "code",
      "execution_count": 20,
      "metadata": {},
      "outputs": [
        {
          "name": "stderr",
          "output_type": "stream",
          "text": [
            "[I 2024-09-20 00:10:07,967] Trial 0 finished with value: 578851000.0 and parameters: {'n_estimators': 210, 'max_depth': 5, 'min_samples_split': 109, 'min_samples_leaf': 151}. Best is trial 0 with value: 578851000.0.\n",
            "[I 2024-09-20 00:10:08,354] Trial 1 finished with value: 578333000.0 and parameters: {'n_estimators': 149, 'max_depth': 8, 'min_samples_split': 233, 'min_samples_leaf': 112}. Best is trial 0 with value: 578851000.0.\n",
            "[I 2024-09-20 00:10:08,799] Trial 2 finished with value: 578466000.0 and parameters: {'n_estimators': 182, 'max_depth': 15, 'min_samples_split': 68, 'min_samples_leaf': 168}. Best is trial 0 with value: 578851000.0.\n",
            "[I 2024-09-20 00:10:09,516] Trial 3 finished with value: 578501000.0 and parameters: {'n_estimators': 337, 'max_depth': 6, 'min_samples_split': 142, 'min_samples_leaf': 36}. Best is trial 0 with value: 578851000.0.\n",
            "[I 2024-09-20 00:10:09,882] Trial 4 finished with value: 578718000.0 and parameters: {'n_estimators': 142, 'max_depth': 5, 'min_samples_split': 83, 'min_samples_leaf': 98}. Best is trial 0 with value: 578851000.0.\n",
            "[I 2024-09-20 00:10:10,350] Trial 5 finished with value: 578144000.0 and parameters: {'n_estimators': 214, 'max_depth': 18, 'min_samples_split': 182, 'min_samples_leaf': 196}. Best is trial 0 with value: 578851000.0.\n",
            "[I 2024-09-20 00:10:10,814] Trial 6 finished with value: 578494000.0 and parameters: {'n_estimators': 201, 'max_depth': 5, 'min_samples_split': 167, 'min_samples_leaf': 57}. Best is trial 0 with value: 578851000.0.\n",
            "[I 2024-09-20 00:10:11,697] Trial 7 finished with value: 578886000.0 and parameters: {'n_estimators': 417, 'max_depth': 12, 'min_samples_split': 94, 'min_samples_leaf': 144}. Best is trial 7 with value: 578886000.0.\n",
            "[I 2024-09-20 00:10:12,065] Trial 8 finished with value: 578438000.0 and parameters: {'n_estimators': 152, 'max_depth': 6, 'min_samples_split': 238, 'min_samples_leaf': 17}. Best is trial 7 with value: 578886000.0.\n",
            "[I 2024-09-20 00:10:12,746] Trial 9 finished with value: 578291000.0 and parameters: {'n_estimators': 306, 'max_depth': 11, 'min_samples_split': 73, 'min_samples_leaf': 112}. Best is trial 7 with value: 578886000.0.\n",
            "[I 2024-09-20 00:10:13,745] Trial 10 finished with value: 578116000.0 and parameters: {'n_estimators': 459, 'max_depth': 12, 'min_samples_split': 300, 'min_samples_leaf': 79}. Best is trial 7 with value: 578886000.0.\n",
            "[I 2024-09-20 00:10:14,661] Trial 11 finished with value: 578788000.0 and parameters: {'n_estimators': 440, 'max_depth': 20, 'min_samples_split': 122, 'min_samples_leaf': 152}. Best is trial 7 with value: 578886000.0.\n",
            "[I 2024-09-20 00:10:15,543] Trial 12 finished with value: 578641000.0 and parameters: {'n_estimators': 404, 'max_depth': 9, 'min_samples_split': 118, 'min_samples_leaf': 141}. Best is trial 7 with value: 578886000.0.\n",
            "[I 2024-09-20 00:10:16,128] Trial 13 finished with value: 578690000.0 and parameters: {'n_estimators': 260, 'max_depth': 14, 'min_samples_split': 98, 'min_samples_leaf': 192}. Best is trial 7 with value: 578886000.0.\n",
            "[I 2024-09-20 00:10:16,925] Trial 14 finished with value: 578424000.0 and parameters: {'n_estimators': 374, 'max_depth': 16, 'min_samples_split': 165, 'min_samples_leaf': 138}. Best is trial 7 with value: 578886000.0.\n",
            "[I 2024-09-20 00:10:17,926] Trial 15 finished with value: 578459000.0 and parameters: {'n_estimators': 487, 'max_depth': 10, 'min_samples_split': 52, 'min_samples_leaf': 171}. Best is trial 7 with value: 578886000.0.\n",
            "[I 2024-09-20 00:10:18,524] Trial 16 finished with value: 578977000.0 and parameters: {'n_estimators': 264, 'max_depth': 8, 'min_samples_split': 109, 'min_samples_leaf': 130}. Best is trial 16 with value: 578977000.0.\n",
            "[I 2024-09-20 00:10:19,157] Trial 17 finished with value: 578788000.0 and parameters: {'n_estimators': 273, 'max_depth': 8, 'min_samples_split': 205, 'min_samples_leaf': 122}. Best is trial 16 with value: 578977000.0.\n",
            "[I 2024-09-20 00:10:19,939] Trial 18 finished with value: 578242000.0 and parameters: {'n_estimators': 356, 'max_depth': 12, 'min_samples_split': 139, 'min_samples_leaf': 80}. Best is trial 16 with value: 578977000.0.\n",
            "[I 2024-09-20 00:10:20,855] Trial 19 finished with value: 578914000.0 and parameters: {'n_estimators': 407, 'max_depth': 14, 'min_samples_split': 94, 'min_samples_leaf': 89}. Best is trial 16 with value: 578977000.0.\n",
            "[I 2024-09-20 00:10:21,438] Trial 20 finished with value: 578466000.0 and parameters: {'n_estimators': 254, 'max_depth': 14, 'min_samples_split': 137, 'min_samples_leaf': 84}. Best is trial 16 with value: 578977000.0.\n",
            "[I 2024-09-20 00:10:22,337] Trial 21 finished with value: 578781000.0 and parameters: {'n_estimators': 411, 'max_depth': 16, 'min_samples_split': 89, 'min_samples_leaf': 125}. Best is trial 16 with value: 578977000.0.\n",
            "[I 2024-09-20 00:10:23,070] Trial 22 finished with value: 578585000.0 and parameters: {'n_estimators': 317, 'max_depth': 13, 'min_samples_split': 52, 'min_samples_leaf': 59}. Best is trial 16 with value: 578977000.0.\n",
            "[I 2024-09-20 00:10:23,919] Trial 23 finished with value: 579068000.0 and parameters: {'n_estimators': 385, 'max_depth': 10, 'min_samples_split': 101, 'min_samples_leaf': 98}. Best is trial 23 with value: 579068000.0.\n",
            "[I 2024-09-20 00:10:25,018] Trial 24 finished with value: 578858000.0 and parameters: {'n_estimators': 499, 'max_depth': 10, 'min_samples_split': 120, 'min_samples_leaf': 94}. Best is trial 23 with value: 579068000.0.\n",
            "[I 2024-09-20 00:10:25,850] Trial 25 finished with value: 578473000.0 and parameters: {'n_estimators': 376, 'max_depth': 8, 'min_samples_split': 152, 'min_samples_leaf': 53}. Best is trial 23 with value: 579068000.0.\n",
            "[I 2024-09-20 00:10:26,483] Trial 26 finished with value: 578886000.0 and parameters: {'n_estimators': 284, 'max_depth': 10, 'min_samples_split': 191, 'min_samples_leaf': 69}. Best is trial 23 with value: 579068000.0.\n",
            "[I 2024-09-20 00:10:27,366] Trial 27 finished with value: 578669000.0 and parameters: {'n_estimators': 385, 'max_depth': 7, 'min_samples_split': 104, 'min_samples_leaf': 107}. Best is trial 23 with value: 579068000.0.\n",
            "[I 2024-09-20 00:10:28,134] Trial 28 finished with value: 578767000.0 and parameters: {'n_estimators': 339, 'max_depth': 11, 'min_samples_split': 74, 'min_samples_leaf': 128}. Best is trial 23 with value: 579068000.0.\n",
            "[I 2024-09-20 00:10:28,664] Trial 29 finished with value: 578431000.0 and parameters: {'n_estimators': 229, 'max_depth': 17, 'min_samples_split': 111, 'min_samples_leaf': 40}. Best is trial 23 with value: 579068000.0.\n",
            "[I 2024-09-20 00:10:29,647] Trial 30 finished with value: 578851000.0 and parameters: {'n_estimators': 451, 'max_depth': 9, 'min_samples_split': 127, 'min_samples_leaf': 94}. Best is trial 23 with value: 579068000.0.\n",
            "[I 2024-09-20 00:10:30,565] Trial 31 finished with value: 578739000.0 and parameters: {'n_estimators': 422, 'max_depth': 13, 'min_samples_split': 96, 'min_samples_leaf': 134}. Best is trial 23 with value: 579068000.0.\n",
            "[I 2024-09-20 00:10:30,846] Trial 32 finished with value: 578284000.0 and parameters: {'n_estimators': 104, 'max_depth': 11, 'min_samples_split': 66, 'min_samples_leaf': 158}. Best is trial 23 with value: 579068000.0.\n",
            "[I 2024-09-20 00:10:31,878] Trial 33 finished with value: 578830000.0 and parameters: {'n_estimators': 468, 'max_depth': 14, 'min_samples_split': 88, 'min_samples_leaf': 114}. Best is trial 23 with value: 579068000.0.\n",
            "[I 2024-09-20 00:10:32,811] Trial 34 finished with value: 578774000.0 and parameters: {'n_estimators': 429, 'max_depth': 9, 'min_samples_split': 106, 'min_samples_leaf': 158}. Best is trial 23 with value: 579068000.0.\n",
            "[I 2024-09-20 00:10:33,593] Trial 35 finished with value: 578851000.0 and parameters: {'n_estimators': 327, 'max_depth': 12, 'min_samples_split': 64, 'min_samples_leaf': 146}. Best is trial 23 with value: 579068000.0.\n",
            "[I 2024-09-20 00:10:34,459] Trial 36 finished with value: 578711000.0 and parameters: {'n_estimators': 392, 'max_depth': 8, 'min_samples_split': 153, 'min_samples_leaf': 178}. Best is trial 23 with value: 579068000.0.\n",
            "[I 2024-09-20 00:10:35,275] Trial 37 finished with value: 578459000.0 and parameters: {'n_estimators': 347, 'max_depth': 15, 'min_samples_split': 82, 'min_samples_leaf': 104}. Best is trial 23 with value: 579068000.0.\n",
            "[I 2024-09-20 00:10:36,074] Trial 38 finished with value: 578788000.0 and parameters: {'n_estimators': 366, 'max_depth': 7, 'min_samples_split': 129, 'min_samples_leaf': 117}. Best is trial 23 with value: 579068000.0.\n",
            "[I 2024-09-20 00:10:37,074] Trial 39 finished with value: 578571000.0 and parameters: {'n_estimators': 475, 'max_depth': 13, 'min_samples_split': 218, 'min_samples_leaf': 87}. Best is trial 23 with value: 579068000.0.\n",
            "[I 2024-09-20 00:10:37,789] Trial 40 finished with value: 578676000.0 and parameters: {'n_estimators': 305, 'max_depth': 11, 'min_samples_split': 80, 'min_samples_leaf': 67}. Best is trial 23 with value: 579068000.0.\n",
            "[I 2024-09-20 00:10:38,388] Trial 41 finished with value: 578865000.0 and parameters: {'n_estimators': 240, 'max_depth': 10, 'min_samples_split': 191, 'min_samples_leaf': 70}. Best is trial 23 with value: 579068000.0.\n",
            "[I 2024-09-20 00:10:39,059] Trial 42 finished with value: 579068000.0 and parameters: {'n_estimators': 292, 'max_depth': 10, 'min_samples_split': 249, 'min_samples_leaf': 18}. Best is trial 23 with value: 579068000.0.\n",
            "[I 2024-09-20 00:10:39,570] Trial 43 finished with value: 578179000.0 and parameters: {'n_estimators': 197, 'max_depth': 7, 'min_samples_split': 265, 'min_samples_leaf': 9}. Best is trial 23 with value: 579068000.0.\n",
            "[I 2024-09-20 00:10:40,220] Trial 44 finished with value: 578207000.0 and parameters: {'n_estimators': 286, 'max_depth': 9, 'min_samples_split': 281, 'min_samples_leaf': 26}. Best is trial 23 with value: 579068000.0.\n",
            "[I 2024-09-20 00:10:41,153] Trial 45 finished with value: 579432000.0 and parameters: {'n_estimators': 402, 'max_depth': 12, 'min_samples_split': 249, 'min_samples_leaf': 6}. Best is trial 45 with value: 579432000.0.\n",
            "[I 2024-09-20 00:10:41,900] Trial 46 finished with value: 578263000.0 and parameters: {'n_estimators': 321, 'max_depth': 6, 'min_samples_split': 250, 'min_samples_leaf': 10}. Best is trial 45 with value: 579432000.0.\n",
            "[I 2024-09-20 00:10:42,804] Trial 47 finished with value: 579103000.0 and parameters: {'n_estimators': 400, 'max_depth': 11, 'min_samples_split': 241, 'min_samples_leaf': 1}. Best is trial 45 with value: 579432000.0.\n",
            "[I 2024-09-20 00:10:43,800] Trial 48 finished with value: 578865000.0 and parameters: {'n_estimators': 444, 'max_depth': 11, 'min_samples_split': 232, 'min_samples_leaf': 1}. Best is trial 45 with value: 579432000.0.\n",
            "[I 2024-09-20 00:10:44,526] Trial 49 finished with value: 578480000.0 and parameters: {'n_estimators': 290, 'max_depth': 10, 'min_samples_split': 264, 'min_samples_leaf': 28}. Best is trial 45 with value: 579432000.0.\n",
            "[I 2024-09-20 00:10:45,415] Trial 50 finished with value: 578963000.0 and parameters: {'n_estimators': 393, 'max_depth': 12, 'min_samples_split': 298, 'min_samples_leaf': 42}. Best is trial 45 with value: 579432000.0.\n",
            "[I 2024-09-20 00:10:46,264] Trial 51 finished with value: 578571000.0 and parameters: {'n_estimators': 363, 'max_depth': 12, 'min_samples_split': 295, 'min_samples_leaf': 21}. Best is trial 45 with value: 579432000.0.\n",
            "[I 2024-09-20 00:10:47,164] Trial 52 finished with value: 578494000.0 and parameters: {'n_estimators': 396, 'max_depth': 11, 'min_samples_split': 247, 'min_samples_leaf': 38}. Best is trial 45 with value: 579432000.0.\n",
            "[I 2024-09-20 00:10:48,146] Trial 53 finished with value: 578711000.0 and parameters: {'n_estimators': 432, 'max_depth': 9, 'min_samples_split': 284, 'min_samples_leaf': 5}. Best is trial 45 with value: 579432000.0.\n",
            "[I 2024-09-20 00:10:48,979] Trial 54 finished with value: 578550000.0 and parameters: {'n_estimators': 352, 'max_depth': 12, 'min_samples_split': 263, 'min_samples_leaf': 15}. Best is trial 45 with value: 579432000.0.\n",
            "[I 2024-09-20 00:10:49,611] Trial 55 finished with value: 578620000.0 and parameters: {'n_estimators': 261, 'max_depth': 8, 'min_samples_split': 221, 'min_samples_leaf': 50}. Best is trial 45 with value: 579432000.0.\n",
            "[I 2024-09-20 00:10:50,494] Trial 56 finished with value: 578592000.0 and parameters: {'n_estimators': 376, 'max_depth': 10, 'min_samples_split': 281, 'min_samples_leaf': 30}. Best is trial 45 with value: 579432000.0.\n",
            "[I 2024-09-20 00:10:50,943] Trial 57 finished with value: 578711000.0 and parameters: {'n_estimators': 169, 'max_depth': 13, 'min_samples_split': 248, 'min_samples_leaf': 11}. Best is trial 45 with value: 579432000.0.\n",
            "[I 2024-09-20 00:10:51,877] Trial 58 finished with value: 578767000.0 and parameters: {'n_estimators': 407, 'max_depth': 11, 'min_samples_split': 212, 'min_samples_leaf': 42}. Best is trial 45 with value: 579432000.0.\n",
            "[I 2024-09-20 00:10:52,696] Trial 59 finished with value: 579201000.0 and parameters: {'n_estimators': 337, 'max_depth': 12, 'min_samples_split': 270, 'min_samples_leaf': 20}. Best is trial 45 with value: 579432000.0.\n",
            "[I 2024-09-20 00:10:53,474] Trial 60 finished with value: 578851000.0 and parameters: {'n_estimators': 333, 'max_depth': 9, 'min_samples_split': 237, 'min_samples_leaf': 18}. Best is trial 45 with value: 579432000.0.\n",
            "[I 2024-09-20 00:10:54,207] Trial 61 finished with value: 578585000.0 and parameters: {'n_estimators': 309, 'max_depth': 12, 'min_samples_split': 274, 'min_samples_leaf': 2}. Best is trial 45 with value: 579432000.0.\n",
            "[I 2024-09-20 00:10:55,103] Trial 62 finished with value: 578522000.0 and parameters: {'n_estimators': 380, 'max_depth': 12, 'min_samples_split': 291, 'min_samples_leaf': 21}. Best is trial 45 with value: 579432000.0.\n",
            "[I 2024-09-20 00:10:56,004] Trial 63 finished with value: 578494000.0 and parameters: {'n_estimators': 395, 'max_depth': 13, 'min_samples_split': 253, 'min_samples_leaf': 35}. Best is trial 45 with value: 579432000.0.\n",
            "[I 2024-09-20 00:10:56,675] Trial 64 finished with value: 578886000.0 and parameters: {'n_estimators': 274, 'max_depth': 19, 'min_samples_split': 272, 'min_samples_leaf': 15}. Best is trial 45 with value: 579432000.0.\n",
            "[I 2024-09-20 00:10:57,619] Trial 65 finished with value: 578858000.0 and parameters: {'n_estimators': 417, 'max_depth': 10, 'min_samples_split': 299, 'min_samples_leaf': 45}. Best is trial 45 with value: 579432000.0.\n",
            "[I 2024-09-20 00:10:58,470] Trial 66 finished with value: 578347000.0 and parameters: {'n_estimators': 345, 'max_depth': 11, 'min_samples_split': 288, 'min_samples_leaf': 30}. Best is trial 45 with value: 579432000.0.\n",
            "[I 2024-09-20 00:10:59,301] Trial 67 finished with value: 579523000.0 and parameters: {'n_estimators': 360, 'max_depth': 13, 'min_samples_split': 228, 'min_samples_leaf': 23}. Best is trial 67 with value: 579523000.0.\n",
            "[I 2024-09-20 00:11:00,134] Trial 68 finished with value: 578466000.0 and parameters: {'n_estimators': 366, 'max_depth': 15, 'min_samples_split': 225, 'min_samples_leaf': 22}. Best is trial 67 with value: 579523000.0.\n",
            "[I 2024-09-20 00:11:00,702] Trial 69 finished with value: 578837000.0 and parameters: {'n_estimators': 223, 'max_depth': 15, 'min_samples_split': 230, 'min_samples_leaf': 6}. Best is trial 67 with value: 579523000.0.\n",
            "[I 2024-09-20 00:11:01,317] Trial 70 finished with value: 578221000.0 and parameters: {'n_estimators': 247, 'max_depth': 14, 'min_samples_split': 241, 'min_samples_leaf': 32}. Best is trial 67 with value: 579523000.0.\n",
            "[I 2024-09-20 00:11:02,234] Trial 71 finished with value: 578571000.0 and parameters: {'n_estimators': 386, 'max_depth': 13, 'min_samples_split': 258, 'min_samples_leaf': 13}. Best is trial 67 with value: 579523000.0.\n",
            "[I 2024-09-20 00:11:03,067] Trial 72 finished with value: 578445000.0 and parameters: {'n_estimators': 359, 'max_depth': 12, 'min_samples_split': 204, 'min_samples_leaf': 24}. Best is trial 67 with value: 579523000.0.\n",
            "[I 2024-09-20 00:11:03,835] Trial 73 finished with value: 578725000.0 and parameters: {'n_estimators': 333, 'max_depth': 11, 'min_samples_split': 241, 'min_samples_leaf': 47}. Best is trial 67 with value: 579523000.0.\n",
            "[I 2024-09-20 00:11:04,532] Trial 74 finished with value: 578942000.0 and parameters: {'n_estimators': 301, 'max_depth': 10, 'min_samples_split': 273, 'min_samples_leaf': 56}. Best is trial 67 with value: 579523000.0.\n",
            "[I 2024-09-20 00:11:05,313] Trial 75 finished with value: 578788000.0 and parameters: {'n_estimators': 316, 'max_depth': 12, 'min_samples_split': 260, 'min_samples_leaf': 7}. Best is trial 67 with value: 579523000.0.\n",
            "[I 2024-09-20 00:11:06,196] Trial 76 finished with value: 579033000.0 and parameters: {'n_estimators': 398, 'max_depth': 14, 'min_samples_split': 172, 'min_samples_leaf': 130}. Best is trial 67 with value: 579523000.0.\n",
            "[I 2024-09-20 00:11:07,216] Trial 77 finished with value: 579026000.0 and parameters: {'n_estimators': 429, 'max_depth': 14, 'min_samples_split': 152, 'min_samples_leaf': 132}. Best is trial 67 with value: 579523000.0.\n",
            "[I 2024-09-20 00:11:08,144] Trial 78 finished with value: 578760000.0 and parameters: {'n_estimators': 424, 'max_depth': 14, 'min_samples_split': 170, 'min_samples_leaf': 120}. Best is trial 67 with value: 579523000.0.\n",
            "[I 2024-09-20 00:11:09,225] Trial 79 finished with value: 578774000.0 and parameters: {'n_estimators': 454, 'max_depth': 16, 'min_samples_split': 176, 'min_samples_leaf': 132}. Best is trial 67 with value: 579523000.0.\n",
            "[I 2024-09-20 00:11:10,192] Trial 80 finished with value: 578648000.0 and parameters: {'n_estimators': 437, 'max_depth': 14, 'min_samples_split': 157, 'min_samples_leaf': 139}. Best is trial 67 with value: 579523000.0.\n",
            "[I 2024-09-20 00:11:11,140] Trial 81 finished with value: 578431000.0 and parameters: {'n_estimators': 406, 'max_depth': 15, 'min_samples_split': 196, 'min_samples_leaf': 110}. Best is trial 67 with value: 579523000.0.\n",
            "[I 2024-09-20 00:11:12,076] Trial 82 finished with value: 578795000.0 and parameters: {'n_estimators': 415, 'max_depth': 13, 'min_samples_split': 148, 'min_samples_leaf': 154}. Best is trial 67 with value: 579523000.0.\n",
            "[I 2024-09-20 00:11:12,992] Trial 83 finished with value: 578781000.0 and parameters: {'n_estimators': 371, 'max_depth': 14, 'min_samples_split': 116, 'min_samples_leaf': 127}. Best is trial 67 with value: 579523000.0.\n",
            "[I 2024-09-20 00:11:13,796] Trial 84 finished with value: 578466000.0 and parameters: {'n_estimators': 343, 'max_depth': 5, 'min_samples_split': 183, 'min_samples_leaf': 170}. Best is trial 67 with value: 579523000.0.\n",
            "[I 2024-09-20 00:11:14,456] Trial 85 finished with value: 579019000.0 and parameters: {'n_estimators': 275, 'max_depth': 13, 'min_samples_split': 161, 'min_samples_leaf': 134}. Best is trial 67 with value: 579523000.0.\n",
            "[I 2024-09-20 00:11:15,104] Trial 86 finished with value: 578823000.0 and parameters: {'n_estimators': 276, 'max_depth': 13, 'min_samples_split': 163, 'min_samples_leaf': 149}. Best is trial 67 with value: 579523000.0.\n",
            "[I 2024-09-20 00:11:16,003] Trial 87 finished with value: 579019000.0 and parameters: {'n_estimators': 401, 'max_depth': 13, 'min_samples_split': 134, 'min_samples_leaf': 100}. Best is trial 67 with value: 579523000.0.\n",
            "[I 2024-09-20 00:11:16,741] Trial 88 finished with value: 579187000.0 and parameters: {'n_estimators': 291, 'max_depth': 16, 'min_samples_split': 162, 'min_samples_leaf': 1}. Best is trial 67 with value: 579523000.0.\n",
            "[I 2024-09-20 00:11:17,668] Trial 89 finished with value: 579173000.0 and parameters: {'n_estimators': 384, 'max_depth': 17, 'min_samples_split': 147, 'min_samples_leaf': 4}. Best is trial 67 with value: 579523000.0.\n",
            "[I 2024-09-20 00:11:18,618] Trial 90 finished with value: 579068000.0 and parameters: {'n_estimators': 386, 'max_depth': 17, 'min_samples_split': 174, 'min_samples_leaf': 1}. Best is trial 67 with value: 579523000.0.\n",
            "[I 2024-09-20 00:11:19,517] Trial 91 finished with value: 579278000.0 and parameters: {'n_estimators': 380, 'max_depth': 17, 'min_samples_split': 187, 'min_samples_leaf': 3}. Best is trial 67 with value: 579523000.0.\n",
            "[I 2024-09-20 00:11:20,466] Trial 92 finished with value: 579334000.0 and parameters: {'n_estimators': 381, 'max_depth': 18, 'min_samples_split': 143, 'min_samples_leaf': 1}. Best is trial 67 with value: 579523000.0.\n",
            "[I 2024-09-20 00:11:21,332] Trial 93 finished with value: 579348000.0 and parameters: {'n_estimators': 373, 'max_depth': 18, 'min_samples_split': 144, 'min_samples_leaf': 18}. Best is trial 67 with value: 579523000.0.\n",
            "[I 2024-09-20 00:11:22,197] Trial 94 finished with value: 579033000.0 and parameters: {'n_estimators': 353, 'max_depth': 18, 'min_samples_split': 147, 'min_samples_leaf': 11}. Best is trial 67 with value: 579523000.0.\n",
            "[I 2024-09-20 00:11:23,099] Trial 95 finished with value: 579222000.0 and parameters: {'n_estimators': 373, 'max_depth': 18, 'min_samples_split': 142, 'min_samples_leaf': 6}. Best is trial 67 with value: 579523000.0.\n",
            "[I 2024-09-20 00:11:24,079] Trial 96 finished with value: 579502000.0 and parameters: {'n_estimators': 374, 'max_depth': 18, 'min_samples_split': 140, 'min_samples_leaf': 6}. Best is trial 67 with value: 579523000.0.\n",
            "[I 2024-09-20 00:11:25,095] Trial 97 finished with value: 579495000.0 and parameters: {'n_estimators': 372, 'max_depth': 18, 'min_samples_split': 140, 'min_samples_leaf': 6}. Best is trial 67 with value: 579523000.0.\n",
            "[I 2024-09-20 00:11:25,977] Trial 98 finished with value: 579313000.0 and parameters: {'n_estimators': 371, 'max_depth': 19, 'min_samples_split': 141, 'min_samples_leaf': 18}. Best is trial 67 with value: 579523000.0.\n",
            "[I 2024-09-20 00:11:26,860] Trial 99 finished with value: 579159000.0 and parameters: {'n_estimators': 371, 'max_depth': 20, 'min_samples_split': 140, 'min_samples_leaf': 17}. Best is trial 67 with value: 579523000.0.\n"
          ]
        }
      ],
      "source": [
        "study.optimize(objective,n_trials=100)"
      ]
    },
    {
      "cell_type": "code",
      "execution_count": 21,
      "metadata": {},
      "outputs": [
        {
          "data": {
            "application/vnd.plotly.v1+json": {
              "config": {
                "plotlyServerURL": "https://plot.ly"
              },
              "data": [
                {
                  "mode": "markers",
                  "name": "Objective Value",
                  "type": "scatter",
                  "x": [
                    0,
                    1,
                    2,
                    3,
                    4,
                    5,
                    6,
                    7,
                    8,
                    9,
                    10,
                    11,
                    12,
                    13,
                    14,
                    15,
                    16,
                    17,
                    18,
                    19,
                    20,
                    21,
                    22,
                    23,
                    24,
                    25,
                    26,
                    27,
                    28,
                    29,
                    30,
                    31,
                    32,
                    33,
                    34,
                    35,
                    36,
                    37,
                    38,
                    39,
                    40,
                    41,
                    42,
                    43,
                    44,
                    45,
                    46,
                    47,
                    48,
                    49,
                    50,
                    51,
                    52,
                    53,
                    54,
                    55,
                    56,
                    57,
                    58,
                    59,
                    60,
                    61,
                    62,
                    63,
                    64,
                    65,
                    66,
                    67,
                    68,
                    69,
                    70,
                    71,
                    72,
                    73,
                    74,
                    75,
                    76,
                    77,
                    78,
                    79,
                    80,
                    81,
                    82,
                    83,
                    84,
                    85,
                    86,
                    87,
                    88,
                    89,
                    90,
                    91,
                    92,
                    93,
                    94,
                    95,
                    96,
                    97,
                    98,
                    99
                  ],
                  "y": [
                    578851000,
                    578333000,
                    578466000,
                    578501000,
                    578718000,
                    578144000,
                    578494000,
                    578886000,
                    578438000,
                    578291000,
                    578116000,
                    578788000,
                    578641000,
                    578690000,
                    578424000,
                    578459000,
                    578977000,
                    578788000,
                    578242000,
                    578914000,
                    578466000,
                    578781000,
                    578585000,
                    579068000,
                    578858000,
                    578473000,
                    578886000,
                    578669000,
                    578767000,
                    578431000,
                    578851000,
                    578739000,
                    578284000,
                    578830000,
                    578774000,
                    578851000,
                    578711000,
                    578459000,
                    578788000,
                    578571000,
                    578676000,
                    578865000,
                    579068000,
                    578179000,
                    578207000,
                    579432000,
                    578263000,
                    579103000,
                    578865000,
                    578480000,
                    578963000,
                    578571000,
                    578494000,
                    578711000,
                    578550000,
                    578620000,
                    578592000,
                    578711000,
                    578767000,
                    579201000,
                    578851000,
                    578585000,
                    578522000,
                    578494000,
                    578886000,
                    578858000,
                    578347000,
                    579523000,
                    578466000,
                    578837000,
                    578221000,
                    578571000,
                    578445000,
                    578725000,
                    578942000,
                    578788000,
                    579033000,
                    579026000,
                    578760000,
                    578774000,
                    578648000,
                    578431000,
                    578795000,
                    578781000,
                    578466000,
                    579019000,
                    578823000,
                    579019000,
                    579187000,
                    579173000,
                    579068000,
                    579278000,
                    579334000,
                    579348000,
                    579033000,
                    579222000,
                    579502000,
                    579495000,
                    579313000,
                    579159000
                  ]
                },
                {
                  "mode": "lines",
                  "name": "Best Value",
                  "type": "scatter",
                  "x": [
                    0,
                    1,
                    2,
                    3,
                    4,
                    5,
                    6,
                    7,
                    8,
                    9,
                    10,
                    11,
                    12,
                    13,
                    14,
                    15,
                    16,
                    17,
                    18,
                    19,
                    20,
                    21,
                    22,
                    23,
                    24,
                    25,
                    26,
                    27,
                    28,
                    29,
                    30,
                    31,
                    32,
                    33,
                    34,
                    35,
                    36,
                    37,
                    38,
                    39,
                    40,
                    41,
                    42,
                    43,
                    44,
                    45,
                    46,
                    47,
                    48,
                    49,
                    50,
                    51,
                    52,
                    53,
                    54,
                    55,
                    56,
                    57,
                    58,
                    59,
                    60,
                    61,
                    62,
                    63,
                    64,
                    65,
                    66,
                    67,
                    68,
                    69,
                    70,
                    71,
                    72,
                    73,
                    74,
                    75,
                    76,
                    77,
                    78,
                    79,
                    80,
                    81,
                    82,
                    83,
                    84,
                    85,
                    86,
                    87,
                    88,
                    89,
                    90,
                    91,
                    92,
                    93,
                    94,
                    95,
                    96,
                    97,
                    98,
                    99
                  ],
                  "y": [
                    578851000,
                    578851000,
                    578851000,
                    578851000,
                    578851000,
                    578851000,
                    578851000,
                    578886000,
                    578886000,
                    578886000,
                    578886000,
                    578886000,
                    578886000,
                    578886000,
                    578886000,
                    578886000,
                    578977000,
                    578977000,
                    578977000,
                    578977000,
                    578977000,
                    578977000,
                    578977000,
                    579068000,
                    579068000,
                    579068000,
                    579068000,
                    579068000,
                    579068000,
                    579068000,
                    579068000,
                    579068000,
                    579068000,
                    579068000,
                    579068000,
                    579068000,
                    579068000,
                    579068000,
                    579068000,
                    579068000,
                    579068000,
                    579068000,
                    579068000,
                    579068000,
                    579068000,
                    579432000,
                    579432000,
                    579432000,
                    579432000,
                    579432000,
                    579432000,
                    579432000,
                    579432000,
                    579432000,
                    579432000,
                    579432000,
                    579432000,
                    579432000,
                    579432000,
                    579432000,
                    579432000,
                    579432000,
                    579432000,
                    579432000,
                    579432000,
                    579432000,
                    579432000,
                    579523000,
                    579523000,
                    579523000,
                    579523000,
                    579523000,
                    579523000,
                    579523000,
                    579523000,
                    579523000,
                    579523000,
                    579523000,
                    579523000,
                    579523000,
                    579523000,
                    579523000,
                    579523000,
                    579523000,
                    579523000,
                    579523000,
                    579523000,
                    579523000,
                    579523000,
                    579523000,
                    579523000,
                    579523000,
                    579523000,
                    579523000,
                    579523000,
                    579523000,
                    579523000,
                    579523000,
                    579523000,
                    579523000
                  ]
                },
                {
                  "marker": {
                    "color": "#cccccc"
                  },
                  "mode": "markers",
                  "name": "Infeasible Trial",
                  "showlegend": false,
                  "type": "scatter",
                  "x": [],
                  "y": []
                }
              ],
              "layout": {
                "template": {
                  "data": {
                    "bar": [
                      {
                        "error_x": {
                          "color": "#2a3f5f"
                        },
                        "error_y": {
                          "color": "#2a3f5f"
                        },
                        "marker": {
                          "line": {
                            "color": "#E5ECF6",
                            "width": 0.5
                          },
                          "pattern": {
                            "fillmode": "overlay",
                            "size": 10,
                            "solidity": 0.2
                          }
                        },
                        "type": "bar"
                      }
                    ],
                    "barpolar": [
                      {
                        "marker": {
                          "line": {
                            "color": "#E5ECF6",
                            "width": 0.5
                          },
                          "pattern": {
                            "fillmode": "overlay",
                            "size": 10,
                            "solidity": 0.2
                          }
                        },
                        "type": "barpolar"
                      }
                    ],
                    "carpet": [
                      {
                        "aaxis": {
                          "endlinecolor": "#2a3f5f",
                          "gridcolor": "white",
                          "linecolor": "white",
                          "minorgridcolor": "white",
                          "startlinecolor": "#2a3f5f"
                        },
                        "baxis": {
                          "endlinecolor": "#2a3f5f",
                          "gridcolor": "white",
                          "linecolor": "white",
                          "minorgridcolor": "white",
                          "startlinecolor": "#2a3f5f"
                        },
                        "type": "carpet"
                      }
                    ],
                    "choropleth": [
                      {
                        "colorbar": {
                          "outlinewidth": 0,
                          "ticks": ""
                        },
                        "type": "choropleth"
                      }
                    ],
                    "contour": [
                      {
                        "colorbar": {
                          "outlinewidth": 0,
                          "ticks": ""
                        },
                        "colorscale": [
                          [
                            0,
                            "#0d0887"
                          ],
                          [
                            0.1111111111111111,
                            "#46039f"
                          ],
                          [
                            0.2222222222222222,
                            "#7201a8"
                          ],
                          [
                            0.3333333333333333,
                            "#9c179e"
                          ],
                          [
                            0.4444444444444444,
                            "#bd3786"
                          ],
                          [
                            0.5555555555555556,
                            "#d8576b"
                          ],
                          [
                            0.6666666666666666,
                            "#ed7953"
                          ],
                          [
                            0.7777777777777778,
                            "#fb9f3a"
                          ],
                          [
                            0.8888888888888888,
                            "#fdca26"
                          ],
                          [
                            1,
                            "#f0f921"
                          ]
                        ],
                        "type": "contour"
                      }
                    ],
                    "contourcarpet": [
                      {
                        "colorbar": {
                          "outlinewidth": 0,
                          "ticks": ""
                        },
                        "type": "contourcarpet"
                      }
                    ],
                    "heatmap": [
                      {
                        "colorbar": {
                          "outlinewidth": 0,
                          "ticks": ""
                        },
                        "colorscale": [
                          [
                            0,
                            "#0d0887"
                          ],
                          [
                            0.1111111111111111,
                            "#46039f"
                          ],
                          [
                            0.2222222222222222,
                            "#7201a8"
                          ],
                          [
                            0.3333333333333333,
                            "#9c179e"
                          ],
                          [
                            0.4444444444444444,
                            "#bd3786"
                          ],
                          [
                            0.5555555555555556,
                            "#d8576b"
                          ],
                          [
                            0.6666666666666666,
                            "#ed7953"
                          ],
                          [
                            0.7777777777777778,
                            "#fb9f3a"
                          ],
                          [
                            0.8888888888888888,
                            "#fdca26"
                          ],
                          [
                            1,
                            "#f0f921"
                          ]
                        ],
                        "type": "heatmap"
                      }
                    ],
                    "heatmapgl": [
                      {
                        "colorbar": {
                          "outlinewidth": 0,
                          "ticks": ""
                        },
                        "colorscale": [
                          [
                            0,
                            "#0d0887"
                          ],
                          [
                            0.1111111111111111,
                            "#46039f"
                          ],
                          [
                            0.2222222222222222,
                            "#7201a8"
                          ],
                          [
                            0.3333333333333333,
                            "#9c179e"
                          ],
                          [
                            0.4444444444444444,
                            "#bd3786"
                          ],
                          [
                            0.5555555555555556,
                            "#d8576b"
                          ],
                          [
                            0.6666666666666666,
                            "#ed7953"
                          ],
                          [
                            0.7777777777777778,
                            "#fb9f3a"
                          ],
                          [
                            0.8888888888888888,
                            "#fdca26"
                          ],
                          [
                            1,
                            "#f0f921"
                          ]
                        ],
                        "type": "heatmapgl"
                      }
                    ],
                    "histogram": [
                      {
                        "marker": {
                          "pattern": {
                            "fillmode": "overlay",
                            "size": 10,
                            "solidity": 0.2
                          }
                        },
                        "type": "histogram"
                      }
                    ],
                    "histogram2d": [
                      {
                        "colorbar": {
                          "outlinewidth": 0,
                          "ticks": ""
                        },
                        "colorscale": [
                          [
                            0,
                            "#0d0887"
                          ],
                          [
                            0.1111111111111111,
                            "#46039f"
                          ],
                          [
                            0.2222222222222222,
                            "#7201a8"
                          ],
                          [
                            0.3333333333333333,
                            "#9c179e"
                          ],
                          [
                            0.4444444444444444,
                            "#bd3786"
                          ],
                          [
                            0.5555555555555556,
                            "#d8576b"
                          ],
                          [
                            0.6666666666666666,
                            "#ed7953"
                          ],
                          [
                            0.7777777777777778,
                            "#fb9f3a"
                          ],
                          [
                            0.8888888888888888,
                            "#fdca26"
                          ],
                          [
                            1,
                            "#f0f921"
                          ]
                        ],
                        "type": "histogram2d"
                      }
                    ],
                    "histogram2dcontour": [
                      {
                        "colorbar": {
                          "outlinewidth": 0,
                          "ticks": ""
                        },
                        "colorscale": [
                          [
                            0,
                            "#0d0887"
                          ],
                          [
                            0.1111111111111111,
                            "#46039f"
                          ],
                          [
                            0.2222222222222222,
                            "#7201a8"
                          ],
                          [
                            0.3333333333333333,
                            "#9c179e"
                          ],
                          [
                            0.4444444444444444,
                            "#bd3786"
                          ],
                          [
                            0.5555555555555556,
                            "#d8576b"
                          ],
                          [
                            0.6666666666666666,
                            "#ed7953"
                          ],
                          [
                            0.7777777777777778,
                            "#fb9f3a"
                          ],
                          [
                            0.8888888888888888,
                            "#fdca26"
                          ],
                          [
                            1,
                            "#f0f921"
                          ]
                        ],
                        "type": "histogram2dcontour"
                      }
                    ],
                    "mesh3d": [
                      {
                        "colorbar": {
                          "outlinewidth": 0,
                          "ticks": ""
                        },
                        "type": "mesh3d"
                      }
                    ],
                    "parcoords": [
                      {
                        "line": {
                          "colorbar": {
                            "outlinewidth": 0,
                            "ticks": ""
                          }
                        },
                        "type": "parcoords"
                      }
                    ],
                    "pie": [
                      {
                        "automargin": true,
                        "type": "pie"
                      }
                    ],
                    "scatter": [
                      {
                        "fillpattern": {
                          "fillmode": "overlay",
                          "size": 10,
                          "solidity": 0.2
                        },
                        "type": "scatter"
                      }
                    ],
                    "scatter3d": [
                      {
                        "line": {
                          "colorbar": {
                            "outlinewidth": 0,
                            "ticks": ""
                          }
                        },
                        "marker": {
                          "colorbar": {
                            "outlinewidth": 0,
                            "ticks": ""
                          }
                        },
                        "type": "scatter3d"
                      }
                    ],
                    "scattercarpet": [
                      {
                        "marker": {
                          "colorbar": {
                            "outlinewidth": 0,
                            "ticks": ""
                          }
                        },
                        "type": "scattercarpet"
                      }
                    ],
                    "scattergeo": [
                      {
                        "marker": {
                          "colorbar": {
                            "outlinewidth": 0,
                            "ticks": ""
                          }
                        },
                        "type": "scattergeo"
                      }
                    ],
                    "scattergl": [
                      {
                        "marker": {
                          "colorbar": {
                            "outlinewidth": 0,
                            "ticks": ""
                          }
                        },
                        "type": "scattergl"
                      }
                    ],
                    "scattermapbox": [
                      {
                        "marker": {
                          "colorbar": {
                            "outlinewidth": 0,
                            "ticks": ""
                          }
                        },
                        "type": "scattermapbox"
                      }
                    ],
                    "scatterpolar": [
                      {
                        "marker": {
                          "colorbar": {
                            "outlinewidth": 0,
                            "ticks": ""
                          }
                        },
                        "type": "scatterpolar"
                      }
                    ],
                    "scatterpolargl": [
                      {
                        "marker": {
                          "colorbar": {
                            "outlinewidth": 0,
                            "ticks": ""
                          }
                        },
                        "type": "scatterpolargl"
                      }
                    ],
                    "scatterternary": [
                      {
                        "marker": {
                          "colorbar": {
                            "outlinewidth": 0,
                            "ticks": ""
                          }
                        },
                        "type": "scatterternary"
                      }
                    ],
                    "surface": [
                      {
                        "colorbar": {
                          "outlinewidth": 0,
                          "ticks": ""
                        },
                        "colorscale": [
                          [
                            0,
                            "#0d0887"
                          ],
                          [
                            0.1111111111111111,
                            "#46039f"
                          ],
                          [
                            0.2222222222222222,
                            "#7201a8"
                          ],
                          [
                            0.3333333333333333,
                            "#9c179e"
                          ],
                          [
                            0.4444444444444444,
                            "#bd3786"
                          ],
                          [
                            0.5555555555555556,
                            "#d8576b"
                          ],
                          [
                            0.6666666666666666,
                            "#ed7953"
                          ],
                          [
                            0.7777777777777778,
                            "#fb9f3a"
                          ],
                          [
                            0.8888888888888888,
                            "#fdca26"
                          ],
                          [
                            1,
                            "#f0f921"
                          ]
                        ],
                        "type": "surface"
                      }
                    ],
                    "table": [
                      {
                        "cells": {
                          "fill": {
                            "color": "#EBF0F8"
                          },
                          "line": {
                            "color": "white"
                          }
                        },
                        "header": {
                          "fill": {
                            "color": "#C8D4E3"
                          },
                          "line": {
                            "color": "white"
                          }
                        },
                        "type": "table"
                      }
                    ]
                  },
                  "layout": {
                    "annotationdefaults": {
                      "arrowcolor": "#2a3f5f",
                      "arrowhead": 0,
                      "arrowwidth": 1
                    },
                    "autotypenumbers": "strict",
                    "coloraxis": {
                      "colorbar": {
                        "outlinewidth": 0,
                        "ticks": ""
                      }
                    },
                    "colorscale": {
                      "diverging": [
                        [
                          0,
                          "#8e0152"
                        ],
                        [
                          0.1,
                          "#c51b7d"
                        ],
                        [
                          0.2,
                          "#de77ae"
                        ],
                        [
                          0.3,
                          "#f1b6da"
                        ],
                        [
                          0.4,
                          "#fde0ef"
                        ],
                        [
                          0.5,
                          "#f7f7f7"
                        ],
                        [
                          0.6,
                          "#e6f5d0"
                        ],
                        [
                          0.7,
                          "#b8e186"
                        ],
                        [
                          0.8,
                          "#7fbc41"
                        ],
                        [
                          0.9,
                          "#4d9221"
                        ],
                        [
                          1,
                          "#276419"
                        ]
                      ],
                      "sequential": [
                        [
                          0,
                          "#0d0887"
                        ],
                        [
                          0.1111111111111111,
                          "#46039f"
                        ],
                        [
                          0.2222222222222222,
                          "#7201a8"
                        ],
                        [
                          0.3333333333333333,
                          "#9c179e"
                        ],
                        [
                          0.4444444444444444,
                          "#bd3786"
                        ],
                        [
                          0.5555555555555556,
                          "#d8576b"
                        ],
                        [
                          0.6666666666666666,
                          "#ed7953"
                        ],
                        [
                          0.7777777777777778,
                          "#fb9f3a"
                        ],
                        [
                          0.8888888888888888,
                          "#fdca26"
                        ],
                        [
                          1,
                          "#f0f921"
                        ]
                      ],
                      "sequentialminus": [
                        [
                          0,
                          "#0d0887"
                        ],
                        [
                          0.1111111111111111,
                          "#46039f"
                        ],
                        [
                          0.2222222222222222,
                          "#7201a8"
                        ],
                        [
                          0.3333333333333333,
                          "#9c179e"
                        ],
                        [
                          0.4444444444444444,
                          "#bd3786"
                        ],
                        [
                          0.5555555555555556,
                          "#d8576b"
                        ],
                        [
                          0.6666666666666666,
                          "#ed7953"
                        ],
                        [
                          0.7777777777777778,
                          "#fb9f3a"
                        ],
                        [
                          0.8888888888888888,
                          "#fdca26"
                        ],
                        [
                          1,
                          "#f0f921"
                        ]
                      ]
                    },
                    "colorway": [
                      "#636efa",
                      "#EF553B",
                      "#00cc96",
                      "#ab63fa",
                      "#FFA15A",
                      "#19d3f3",
                      "#FF6692",
                      "#B6E880",
                      "#FF97FF",
                      "#FECB52"
                    ],
                    "font": {
                      "color": "#2a3f5f"
                    },
                    "geo": {
                      "bgcolor": "white",
                      "lakecolor": "white",
                      "landcolor": "#E5ECF6",
                      "showlakes": true,
                      "showland": true,
                      "subunitcolor": "white"
                    },
                    "hoverlabel": {
                      "align": "left"
                    },
                    "hovermode": "closest",
                    "mapbox": {
                      "style": "light"
                    },
                    "paper_bgcolor": "white",
                    "plot_bgcolor": "#E5ECF6",
                    "polar": {
                      "angularaxis": {
                        "gridcolor": "white",
                        "linecolor": "white",
                        "ticks": ""
                      },
                      "bgcolor": "#E5ECF6",
                      "radialaxis": {
                        "gridcolor": "white",
                        "linecolor": "white",
                        "ticks": ""
                      }
                    },
                    "scene": {
                      "xaxis": {
                        "backgroundcolor": "#E5ECF6",
                        "gridcolor": "white",
                        "gridwidth": 2,
                        "linecolor": "white",
                        "showbackground": true,
                        "ticks": "",
                        "zerolinecolor": "white"
                      },
                      "yaxis": {
                        "backgroundcolor": "#E5ECF6",
                        "gridcolor": "white",
                        "gridwidth": 2,
                        "linecolor": "white",
                        "showbackground": true,
                        "ticks": "",
                        "zerolinecolor": "white"
                      },
                      "zaxis": {
                        "backgroundcolor": "#E5ECF6",
                        "gridcolor": "white",
                        "gridwidth": 2,
                        "linecolor": "white",
                        "showbackground": true,
                        "ticks": "",
                        "zerolinecolor": "white"
                      }
                    },
                    "shapedefaults": {
                      "line": {
                        "color": "#2a3f5f"
                      }
                    },
                    "ternary": {
                      "aaxis": {
                        "gridcolor": "white",
                        "linecolor": "white",
                        "ticks": ""
                      },
                      "baxis": {
                        "gridcolor": "white",
                        "linecolor": "white",
                        "ticks": ""
                      },
                      "bgcolor": "#E5ECF6",
                      "caxis": {
                        "gridcolor": "white",
                        "linecolor": "white",
                        "ticks": ""
                      }
                    },
                    "title": {
                      "x": 0.05
                    },
                    "xaxis": {
                      "automargin": true,
                      "gridcolor": "white",
                      "linecolor": "white",
                      "ticks": "",
                      "title": {
                        "standoff": 15
                      },
                      "zerolinecolor": "white",
                      "zerolinewidth": 2
                    },
                    "yaxis": {
                      "automargin": true,
                      "gridcolor": "white",
                      "linecolor": "white",
                      "ticks": "",
                      "title": {
                        "standoff": 15
                      },
                      "zerolinecolor": "white",
                      "zerolinewidth": 2
                    }
                  }
                },
                "title": {
                  "text": "Optimization History Plot"
                },
                "xaxis": {
                  "title": {
                    "text": "Trial"
                  }
                },
                "yaxis": {
                  "title": {
                    "text": "Objective Value"
                  }
                }
              }
            }
          },
          "metadata": {},
          "output_type": "display_data"
        }
      ],
      "source": [
        "optuna.visualization.plot_optimization_history(study)"
      ]
    },
    {
      "cell_type": "code",
      "execution_count": 22,
      "metadata": {},
      "outputs": [
        {
          "data": {
            "application/vnd.plotly.v1+json": {
              "config": {
                "plotlyServerURL": "https://plot.ly"
              },
              "data": [
                {
                  "marker": {
                    "color": [
                      0,
                      1,
                      2,
                      3,
                      4,
                      5,
                      6,
                      7,
                      8,
                      9,
                      10,
                      11,
                      12,
                      13,
                      14,
                      15,
                      16,
                      17,
                      18,
                      19,
                      20,
                      21,
                      22,
                      23,
                      24,
                      25,
                      26,
                      27,
                      28,
                      29,
                      30,
                      31,
                      32,
                      33,
                      34,
                      35,
                      36,
                      37,
                      38,
                      39,
                      40,
                      41,
                      42,
                      43,
                      44,
                      45,
                      46,
                      47,
                      48,
                      49,
                      50,
                      51,
                      52,
                      53,
                      54,
                      55,
                      56,
                      57,
                      58,
                      59,
                      60,
                      61,
                      62,
                      63,
                      64,
                      65,
                      66,
                      67,
                      68,
                      69,
                      70,
                      71,
                      72,
                      73,
                      74,
                      75,
                      76,
                      77,
                      78,
                      79,
                      80,
                      81,
                      82,
                      83,
                      84,
                      85,
                      86,
                      87,
                      88,
                      89,
                      90,
                      91,
                      92,
                      93,
                      94,
                      95,
                      96,
                      97,
                      98,
                      99
                    ],
                    "colorbar": {
                      "title": {
                        "text": "Trial"
                      },
                      "x": 1,
                      "xpad": 40
                    },
                    "colorscale": [
                      [
                        0,
                        "rgb(247,251,255)"
                      ],
                      [
                        0.125,
                        "rgb(222,235,247)"
                      ],
                      [
                        0.25,
                        "rgb(198,219,239)"
                      ],
                      [
                        0.375,
                        "rgb(158,202,225)"
                      ],
                      [
                        0.5,
                        "rgb(107,174,214)"
                      ],
                      [
                        0.625,
                        "rgb(66,146,198)"
                      ],
                      [
                        0.75,
                        "rgb(33,113,181)"
                      ],
                      [
                        0.875,
                        "rgb(8,81,156)"
                      ],
                      [
                        1,
                        "rgb(8,48,107)"
                      ]
                    ],
                    "line": {
                      "color": "Grey",
                      "width": 0.5
                    },
                    "showscale": true
                  },
                  "mode": "markers",
                  "name": "Feasible Trial",
                  "showlegend": false,
                  "type": "scatter",
                  "x": [
                    5,
                    8,
                    15,
                    6,
                    5,
                    18,
                    5,
                    12,
                    6,
                    11,
                    12,
                    20,
                    9,
                    14,
                    16,
                    10,
                    8,
                    8,
                    12,
                    14,
                    14,
                    16,
                    13,
                    10,
                    10,
                    8,
                    10,
                    7,
                    11,
                    17,
                    9,
                    13,
                    11,
                    14,
                    9,
                    12,
                    8,
                    15,
                    7,
                    13,
                    11,
                    10,
                    10,
                    7,
                    9,
                    12,
                    6,
                    11,
                    11,
                    10,
                    12,
                    12,
                    11,
                    9,
                    12,
                    8,
                    10,
                    13,
                    11,
                    12,
                    9,
                    12,
                    12,
                    13,
                    19,
                    10,
                    11,
                    13,
                    15,
                    15,
                    14,
                    13,
                    12,
                    11,
                    10,
                    12,
                    14,
                    14,
                    14,
                    16,
                    14,
                    15,
                    13,
                    14,
                    5,
                    13,
                    13,
                    13,
                    16,
                    17,
                    17,
                    17,
                    18,
                    18,
                    18,
                    18,
                    18,
                    18,
                    19,
                    20
                  ],
                  "xaxis": "x",
                  "y": [
                    578851000,
                    578333000,
                    578466000,
                    578501000,
                    578718000,
                    578144000,
                    578494000,
                    578886000,
                    578438000,
                    578291000,
                    578116000,
                    578788000,
                    578641000,
                    578690000,
                    578424000,
                    578459000,
                    578977000,
                    578788000,
                    578242000,
                    578914000,
                    578466000,
                    578781000,
                    578585000,
                    579068000,
                    578858000,
                    578473000,
                    578886000,
                    578669000,
                    578767000,
                    578431000,
                    578851000,
                    578739000,
                    578284000,
                    578830000,
                    578774000,
                    578851000,
                    578711000,
                    578459000,
                    578788000,
                    578571000,
                    578676000,
                    578865000,
                    579068000,
                    578179000,
                    578207000,
                    579432000,
                    578263000,
                    579103000,
                    578865000,
                    578480000,
                    578963000,
                    578571000,
                    578494000,
                    578711000,
                    578550000,
                    578620000,
                    578592000,
                    578711000,
                    578767000,
                    579201000,
                    578851000,
                    578585000,
                    578522000,
                    578494000,
                    578886000,
                    578858000,
                    578347000,
                    579523000,
                    578466000,
                    578837000,
                    578221000,
                    578571000,
                    578445000,
                    578725000,
                    578942000,
                    578788000,
                    579033000,
                    579026000,
                    578760000,
                    578774000,
                    578648000,
                    578431000,
                    578795000,
                    578781000,
                    578466000,
                    579019000,
                    578823000,
                    579019000,
                    579187000,
                    579173000,
                    579068000,
                    579278000,
                    579334000,
                    579348000,
                    579033000,
                    579222000,
                    579502000,
                    579495000,
                    579313000,
                    579159000
                  ],
                  "yaxis": "y"
                },
                {
                  "marker": {
                    "color": [
                      0,
                      1,
                      2,
                      3,
                      4,
                      5,
                      6,
                      7,
                      8,
                      9,
                      10,
                      11,
                      12,
                      13,
                      14,
                      15,
                      16,
                      17,
                      18,
                      19,
                      20,
                      21,
                      22,
                      23,
                      24,
                      25,
                      26,
                      27,
                      28,
                      29,
                      30,
                      31,
                      32,
                      33,
                      34,
                      35,
                      36,
                      37,
                      38,
                      39,
                      40,
                      41,
                      42,
                      43,
                      44,
                      45,
                      46,
                      47,
                      48,
                      49,
                      50,
                      51,
                      52,
                      53,
                      54,
                      55,
                      56,
                      57,
                      58,
                      59,
                      60,
                      61,
                      62,
                      63,
                      64,
                      65,
                      66,
                      67,
                      68,
                      69,
                      70,
                      71,
                      72,
                      73,
                      74,
                      75,
                      76,
                      77,
                      78,
                      79,
                      80,
                      81,
                      82,
                      83,
                      84,
                      85,
                      86,
                      87,
                      88,
                      89,
                      90,
                      91,
                      92,
                      93,
                      94,
                      95,
                      96,
                      97,
                      98,
                      99
                    ],
                    "colorbar": {
                      "title": {
                        "text": "Trial"
                      },
                      "x": 1,
                      "xpad": 40
                    },
                    "colorscale": [
                      [
                        0,
                        "rgb(247,251,255)"
                      ],
                      [
                        0.125,
                        "rgb(222,235,247)"
                      ],
                      [
                        0.25,
                        "rgb(198,219,239)"
                      ],
                      [
                        0.375,
                        "rgb(158,202,225)"
                      ],
                      [
                        0.5,
                        "rgb(107,174,214)"
                      ],
                      [
                        0.625,
                        "rgb(66,146,198)"
                      ],
                      [
                        0.75,
                        "rgb(33,113,181)"
                      ],
                      [
                        0.875,
                        "rgb(8,81,156)"
                      ],
                      [
                        1,
                        "rgb(8,48,107)"
                      ]
                    ],
                    "line": {
                      "color": "Grey",
                      "width": 0.5
                    },
                    "showscale": false
                  },
                  "mode": "markers",
                  "name": "Feasible Trial",
                  "showlegend": false,
                  "type": "scatter",
                  "x": [
                    151,
                    112,
                    168,
                    36,
                    98,
                    196,
                    57,
                    144,
                    17,
                    112,
                    79,
                    152,
                    141,
                    192,
                    138,
                    171,
                    130,
                    122,
                    80,
                    89,
                    84,
                    125,
                    59,
                    98,
                    94,
                    53,
                    69,
                    107,
                    128,
                    40,
                    94,
                    134,
                    158,
                    114,
                    158,
                    146,
                    178,
                    104,
                    117,
                    87,
                    67,
                    70,
                    18,
                    9,
                    26,
                    6,
                    10,
                    1,
                    1,
                    28,
                    42,
                    21,
                    38,
                    5,
                    15,
                    50,
                    30,
                    11,
                    42,
                    20,
                    18,
                    2,
                    21,
                    35,
                    15,
                    45,
                    30,
                    23,
                    22,
                    6,
                    32,
                    13,
                    24,
                    47,
                    56,
                    7,
                    130,
                    132,
                    120,
                    132,
                    139,
                    110,
                    154,
                    127,
                    170,
                    134,
                    149,
                    100,
                    1,
                    4,
                    1,
                    3,
                    1,
                    18,
                    11,
                    6,
                    6,
                    6,
                    18,
                    17
                  ],
                  "xaxis": "x2",
                  "y": [
                    578851000,
                    578333000,
                    578466000,
                    578501000,
                    578718000,
                    578144000,
                    578494000,
                    578886000,
                    578438000,
                    578291000,
                    578116000,
                    578788000,
                    578641000,
                    578690000,
                    578424000,
                    578459000,
                    578977000,
                    578788000,
                    578242000,
                    578914000,
                    578466000,
                    578781000,
                    578585000,
                    579068000,
                    578858000,
                    578473000,
                    578886000,
                    578669000,
                    578767000,
                    578431000,
                    578851000,
                    578739000,
                    578284000,
                    578830000,
                    578774000,
                    578851000,
                    578711000,
                    578459000,
                    578788000,
                    578571000,
                    578676000,
                    578865000,
                    579068000,
                    578179000,
                    578207000,
                    579432000,
                    578263000,
                    579103000,
                    578865000,
                    578480000,
                    578963000,
                    578571000,
                    578494000,
                    578711000,
                    578550000,
                    578620000,
                    578592000,
                    578711000,
                    578767000,
                    579201000,
                    578851000,
                    578585000,
                    578522000,
                    578494000,
                    578886000,
                    578858000,
                    578347000,
                    579523000,
                    578466000,
                    578837000,
                    578221000,
                    578571000,
                    578445000,
                    578725000,
                    578942000,
                    578788000,
                    579033000,
                    579026000,
                    578760000,
                    578774000,
                    578648000,
                    578431000,
                    578795000,
                    578781000,
                    578466000,
                    579019000,
                    578823000,
                    579019000,
                    579187000,
                    579173000,
                    579068000,
                    579278000,
                    579334000,
                    579348000,
                    579033000,
                    579222000,
                    579502000,
                    579495000,
                    579313000,
                    579159000
                  ],
                  "yaxis": "y2"
                },
                {
                  "marker": {
                    "color": [
                      0,
                      1,
                      2,
                      3,
                      4,
                      5,
                      6,
                      7,
                      8,
                      9,
                      10,
                      11,
                      12,
                      13,
                      14,
                      15,
                      16,
                      17,
                      18,
                      19,
                      20,
                      21,
                      22,
                      23,
                      24,
                      25,
                      26,
                      27,
                      28,
                      29,
                      30,
                      31,
                      32,
                      33,
                      34,
                      35,
                      36,
                      37,
                      38,
                      39,
                      40,
                      41,
                      42,
                      43,
                      44,
                      45,
                      46,
                      47,
                      48,
                      49,
                      50,
                      51,
                      52,
                      53,
                      54,
                      55,
                      56,
                      57,
                      58,
                      59,
                      60,
                      61,
                      62,
                      63,
                      64,
                      65,
                      66,
                      67,
                      68,
                      69,
                      70,
                      71,
                      72,
                      73,
                      74,
                      75,
                      76,
                      77,
                      78,
                      79,
                      80,
                      81,
                      82,
                      83,
                      84,
                      85,
                      86,
                      87,
                      88,
                      89,
                      90,
                      91,
                      92,
                      93,
                      94,
                      95,
                      96,
                      97,
                      98,
                      99
                    ],
                    "colorbar": {
                      "title": {
                        "text": "Trial"
                      },
                      "x": 1,
                      "xpad": 40
                    },
                    "colorscale": [
                      [
                        0,
                        "rgb(247,251,255)"
                      ],
                      [
                        0.125,
                        "rgb(222,235,247)"
                      ],
                      [
                        0.25,
                        "rgb(198,219,239)"
                      ],
                      [
                        0.375,
                        "rgb(158,202,225)"
                      ],
                      [
                        0.5,
                        "rgb(107,174,214)"
                      ],
                      [
                        0.625,
                        "rgb(66,146,198)"
                      ],
                      [
                        0.75,
                        "rgb(33,113,181)"
                      ],
                      [
                        0.875,
                        "rgb(8,81,156)"
                      ],
                      [
                        1,
                        "rgb(8,48,107)"
                      ]
                    ],
                    "line": {
                      "color": "Grey",
                      "width": 0.5
                    },
                    "showscale": false
                  },
                  "mode": "markers",
                  "name": "Feasible Trial",
                  "showlegend": false,
                  "type": "scatter",
                  "x": [
                    109,
                    233,
                    68,
                    142,
                    83,
                    182,
                    167,
                    94,
                    238,
                    73,
                    300,
                    122,
                    118,
                    98,
                    165,
                    52,
                    109,
                    205,
                    139,
                    94,
                    137,
                    89,
                    52,
                    101,
                    120,
                    152,
                    191,
                    104,
                    74,
                    111,
                    127,
                    96,
                    66,
                    88,
                    106,
                    64,
                    153,
                    82,
                    129,
                    218,
                    80,
                    191,
                    249,
                    265,
                    281,
                    249,
                    250,
                    241,
                    232,
                    264,
                    298,
                    295,
                    247,
                    284,
                    263,
                    221,
                    281,
                    248,
                    212,
                    270,
                    237,
                    274,
                    291,
                    253,
                    272,
                    299,
                    288,
                    228,
                    225,
                    230,
                    241,
                    258,
                    204,
                    241,
                    273,
                    260,
                    172,
                    152,
                    170,
                    176,
                    157,
                    196,
                    148,
                    116,
                    183,
                    161,
                    163,
                    134,
                    162,
                    147,
                    174,
                    187,
                    143,
                    144,
                    147,
                    142,
                    140,
                    140,
                    141,
                    140
                  ],
                  "xaxis": "x3",
                  "y": [
                    578851000,
                    578333000,
                    578466000,
                    578501000,
                    578718000,
                    578144000,
                    578494000,
                    578886000,
                    578438000,
                    578291000,
                    578116000,
                    578788000,
                    578641000,
                    578690000,
                    578424000,
                    578459000,
                    578977000,
                    578788000,
                    578242000,
                    578914000,
                    578466000,
                    578781000,
                    578585000,
                    579068000,
                    578858000,
                    578473000,
                    578886000,
                    578669000,
                    578767000,
                    578431000,
                    578851000,
                    578739000,
                    578284000,
                    578830000,
                    578774000,
                    578851000,
                    578711000,
                    578459000,
                    578788000,
                    578571000,
                    578676000,
                    578865000,
                    579068000,
                    578179000,
                    578207000,
                    579432000,
                    578263000,
                    579103000,
                    578865000,
                    578480000,
                    578963000,
                    578571000,
                    578494000,
                    578711000,
                    578550000,
                    578620000,
                    578592000,
                    578711000,
                    578767000,
                    579201000,
                    578851000,
                    578585000,
                    578522000,
                    578494000,
                    578886000,
                    578858000,
                    578347000,
                    579523000,
                    578466000,
                    578837000,
                    578221000,
                    578571000,
                    578445000,
                    578725000,
                    578942000,
                    578788000,
                    579033000,
                    579026000,
                    578760000,
                    578774000,
                    578648000,
                    578431000,
                    578795000,
                    578781000,
                    578466000,
                    579019000,
                    578823000,
                    579019000,
                    579187000,
                    579173000,
                    579068000,
                    579278000,
                    579334000,
                    579348000,
                    579033000,
                    579222000,
                    579502000,
                    579495000,
                    579313000,
                    579159000
                  ],
                  "yaxis": "y3"
                },
                {
                  "marker": {
                    "color": [
                      0,
                      1,
                      2,
                      3,
                      4,
                      5,
                      6,
                      7,
                      8,
                      9,
                      10,
                      11,
                      12,
                      13,
                      14,
                      15,
                      16,
                      17,
                      18,
                      19,
                      20,
                      21,
                      22,
                      23,
                      24,
                      25,
                      26,
                      27,
                      28,
                      29,
                      30,
                      31,
                      32,
                      33,
                      34,
                      35,
                      36,
                      37,
                      38,
                      39,
                      40,
                      41,
                      42,
                      43,
                      44,
                      45,
                      46,
                      47,
                      48,
                      49,
                      50,
                      51,
                      52,
                      53,
                      54,
                      55,
                      56,
                      57,
                      58,
                      59,
                      60,
                      61,
                      62,
                      63,
                      64,
                      65,
                      66,
                      67,
                      68,
                      69,
                      70,
                      71,
                      72,
                      73,
                      74,
                      75,
                      76,
                      77,
                      78,
                      79,
                      80,
                      81,
                      82,
                      83,
                      84,
                      85,
                      86,
                      87,
                      88,
                      89,
                      90,
                      91,
                      92,
                      93,
                      94,
                      95,
                      96,
                      97,
                      98,
                      99
                    ],
                    "colorbar": {
                      "title": {
                        "text": "Trial"
                      },
                      "x": 1,
                      "xpad": 40
                    },
                    "colorscale": [
                      [
                        0,
                        "rgb(247,251,255)"
                      ],
                      [
                        0.125,
                        "rgb(222,235,247)"
                      ],
                      [
                        0.25,
                        "rgb(198,219,239)"
                      ],
                      [
                        0.375,
                        "rgb(158,202,225)"
                      ],
                      [
                        0.5,
                        "rgb(107,174,214)"
                      ],
                      [
                        0.625,
                        "rgb(66,146,198)"
                      ],
                      [
                        0.75,
                        "rgb(33,113,181)"
                      ],
                      [
                        0.875,
                        "rgb(8,81,156)"
                      ],
                      [
                        1,
                        "rgb(8,48,107)"
                      ]
                    ],
                    "line": {
                      "color": "Grey",
                      "width": 0.5
                    },
                    "showscale": false
                  },
                  "mode": "markers",
                  "name": "Feasible Trial",
                  "showlegend": false,
                  "type": "scatter",
                  "x": [
                    210,
                    149,
                    182,
                    337,
                    142,
                    214,
                    201,
                    417,
                    152,
                    306,
                    459,
                    440,
                    404,
                    260,
                    374,
                    487,
                    264,
                    273,
                    356,
                    407,
                    254,
                    411,
                    317,
                    385,
                    499,
                    376,
                    284,
                    385,
                    339,
                    229,
                    451,
                    422,
                    104,
                    468,
                    429,
                    327,
                    392,
                    347,
                    366,
                    475,
                    305,
                    240,
                    292,
                    197,
                    286,
                    402,
                    321,
                    400,
                    444,
                    290,
                    393,
                    363,
                    396,
                    432,
                    352,
                    261,
                    376,
                    169,
                    407,
                    337,
                    333,
                    309,
                    380,
                    395,
                    274,
                    417,
                    345,
                    360,
                    366,
                    223,
                    247,
                    386,
                    359,
                    333,
                    301,
                    316,
                    398,
                    429,
                    424,
                    454,
                    437,
                    406,
                    415,
                    371,
                    343,
                    275,
                    276,
                    401,
                    291,
                    384,
                    386,
                    380,
                    381,
                    373,
                    353,
                    373,
                    374,
                    372,
                    371,
                    371
                  ],
                  "xaxis": "x4",
                  "y": [
                    578851000,
                    578333000,
                    578466000,
                    578501000,
                    578718000,
                    578144000,
                    578494000,
                    578886000,
                    578438000,
                    578291000,
                    578116000,
                    578788000,
                    578641000,
                    578690000,
                    578424000,
                    578459000,
                    578977000,
                    578788000,
                    578242000,
                    578914000,
                    578466000,
                    578781000,
                    578585000,
                    579068000,
                    578858000,
                    578473000,
                    578886000,
                    578669000,
                    578767000,
                    578431000,
                    578851000,
                    578739000,
                    578284000,
                    578830000,
                    578774000,
                    578851000,
                    578711000,
                    578459000,
                    578788000,
                    578571000,
                    578676000,
                    578865000,
                    579068000,
                    578179000,
                    578207000,
                    579432000,
                    578263000,
                    579103000,
                    578865000,
                    578480000,
                    578963000,
                    578571000,
                    578494000,
                    578711000,
                    578550000,
                    578620000,
                    578592000,
                    578711000,
                    578767000,
                    579201000,
                    578851000,
                    578585000,
                    578522000,
                    578494000,
                    578886000,
                    578858000,
                    578347000,
                    579523000,
                    578466000,
                    578837000,
                    578221000,
                    578571000,
                    578445000,
                    578725000,
                    578942000,
                    578788000,
                    579033000,
                    579026000,
                    578760000,
                    578774000,
                    578648000,
                    578431000,
                    578795000,
                    578781000,
                    578466000,
                    579019000,
                    578823000,
                    579019000,
                    579187000,
                    579173000,
                    579068000,
                    579278000,
                    579334000,
                    579348000,
                    579033000,
                    579222000,
                    579502000,
                    579495000,
                    579313000,
                    579159000
                  ],
                  "yaxis": "y4"
                }
              ],
              "layout": {
                "template": {
                  "data": {
                    "bar": [
                      {
                        "error_x": {
                          "color": "#2a3f5f"
                        },
                        "error_y": {
                          "color": "#2a3f5f"
                        },
                        "marker": {
                          "line": {
                            "color": "#E5ECF6",
                            "width": 0.5
                          },
                          "pattern": {
                            "fillmode": "overlay",
                            "size": 10,
                            "solidity": 0.2
                          }
                        },
                        "type": "bar"
                      }
                    ],
                    "barpolar": [
                      {
                        "marker": {
                          "line": {
                            "color": "#E5ECF6",
                            "width": 0.5
                          },
                          "pattern": {
                            "fillmode": "overlay",
                            "size": 10,
                            "solidity": 0.2
                          }
                        },
                        "type": "barpolar"
                      }
                    ],
                    "carpet": [
                      {
                        "aaxis": {
                          "endlinecolor": "#2a3f5f",
                          "gridcolor": "white",
                          "linecolor": "white",
                          "minorgridcolor": "white",
                          "startlinecolor": "#2a3f5f"
                        },
                        "baxis": {
                          "endlinecolor": "#2a3f5f",
                          "gridcolor": "white",
                          "linecolor": "white",
                          "minorgridcolor": "white",
                          "startlinecolor": "#2a3f5f"
                        },
                        "type": "carpet"
                      }
                    ],
                    "choropleth": [
                      {
                        "colorbar": {
                          "outlinewidth": 0,
                          "ticks": ""
                        },
                        "type": "choropleth"
                      }
                    ],
                    "contour": [
                      {
                        "colorbar": {
                          "outlinewidth": 0,
                          "ticks": ""
                        },
                        "colorscale": [
                          [
                            0,
                            "#0d0887"
                          ],
                          [
                            0.1111111111111111,
                            "#46039f"
                          ],
                          [
                            0.2222222222222222,
                            "#7201a8"
                          ],
                          [
                            0.3333333333333333,
                            "#9c179e"
                          ],
                          [
                            0.4444444444444444,
                            "#bd3786"
                          ],
                          [
                            0.5555555555555556,
                            "#d8576b"
                          ],
                          [
                            0.6666666666666666,
                            "#ed7953"
                          ],
                          [
                            0.7777777777777778,
                            "#fb9f3a"
                          ],
                          [
                            0.8888888888888888,
                            "#fdca26"
                          ],
                          [
                            1,
                            "#f0f921"
                          ]
                        ],
                        "type": "contour"
                      }
                    ],
                    "contourcarpet": [
                      {
                        "colorbar": {
                          "outlinewidth": 0,
                          "ticks": ""
                        },
                        "type": "contourcarpet"
                      }
                    ],
                    "heatmap": [
                      {
                        "colorbar": {
                          "outlinewidth": 0,
                          "ticks": ""
                        },
                        "colorscale": [
                          [
                            0,
                            "#0d0887"
                          ],
                          [
                            0.1111111111111111,
                            "#46039f"
                          ],
                          [
                            0.2222222222222222,
                            "#7201a8"
                          ],
                          [
                            0.3333333333333333,
                            "#9c179e"
                          ],
                          [
                            0.4444444444444444,
                            "#bd3786"
                          ],
                          [
                            0.5555555555555556,
                            "#d8576b"
                          ],
                          [
                            0.6666666666666666,
                            "#ed7953"
                          ],
                          [
                            0.7777777777777778,
                            "#fb9f3a"
                          ],
                          [
                            0.8888888888888888,
                            "#fdca26"
                          ],
                          [
                            1,
                            "#f0f921"
                          ]
                        ],
                        "type": "heatmap"
                      }
                    ],
                    "heatmapgl": [
                      {
                        "colorbar": {
                          "outlinewidth": 0,
                          "ticks": ""
                        },
                        "colorscale": [
                          [
                            0,
                            "#0d0887"
                          ],
                          [
                            0.1111111111111111,
                            "#46039f"
                          ],
                          [
                            0.2222222222222222,
                            "#7201a8"
                          ],
                          [
                            0.3333333333333333,
                            "#9c179e"
                          ],
                          [
                            0.4444444444444444,
                            "#bd3786"
                          ],
                          [
                            0.5555555555555556,
                            "#d8576b"
                          ],
                          [
                            0.6666666666666666,
                            "#ed7953"
                          ],
                          [
                            0.7777777777777778,
                            "#fb9f3a"
                          ],
                          [
                            0.8888888888888888,
                            "#fdca26"
                          ],
                          [
                            1,
                            "#f0f921"
                          ]
                        ],
                        "type": "heatmapgl"
                      }
                    ],
                    "histogram": [
                      {
                        "marker": {
                          "pattern": {
                            "fillmode": "overlay",
                            "size": 10,
                            "solidity": 0.2
                          }
                        },
                        "type": "histogram"
                      }
                    ],
                    "histogram2d": [
                      {
                        "colorbar": {
                          "outlinewidth": 0,
                          "ticks": ""
                        },
                        "colorscale": [
                          [
                            0,
                            "#0d0887"
                          ],
                          [
                            0.1111111111111111,
                            "#46039f"
                          ],
                          [
                            0.2222222222222222,
                            "#7201a8"
                          ],
                          [
                            0.3333333333333333,
                            "#9c179e"
                          ],
                          [
                            0.4444444444444444,
                            "#bd3786"
                          ],
                          [
                            0.5555555555555556,
                            "#d8576b"
                          ],
                          [
                            0.6666666666666666,
                            "#ed7953"
                          ],
                          [
                            0.7777777777777778,
                            "#fb9f3a"
                          ],
                          [
                            0.8888888888888888,
                            "#fdca26"
                          ],
                          [
                            1,
                            "#f0f921"
                          ]
                        ],
                        "type": "histogram2d"
                      }
                    ],
                    "histogram2dcontour": [
                      {
                        "colorbar": {
                          "outlinewidth": 0,
                          "ticks": ""
                        },
                        "colorscale": [
                          [
                            0,
                            "#0d0887"
                          ],
                          [
                            0.1111111111111111,
                            "#46039f"
                          ],
                          [
                            0.2222222222222222,
                            "#7201a8"
                          ],
                          [
                            0.3333333333333333,
                            "#9c179e"
                          ],
                          [
                            0.4444444444444444,
                            "#bd3786"
                          ],
                          [
                            0.5555555555555556,
                            "#d8576b"
                          ],
                          [
                            0.6666666666666666,
                            "#ed7953"
                          ],
                          [
                            0.7777777777777778,
                            "#fb9f3a"
                          ],
                          [
                            0.8888888888888888,
                            "#fdca26"
                          ],
                          [
                            1,
                            "#f0f921"
                          ]
                        ],
                        "type": "histogram2dcontour"
                      }
                    ],
                    "mesh3d": [
                      {
                        "colorbar": {
                          "outlinewidth": 0,
                          "ticks": ""
                        },
                        "type": "mesh3d"
                      }
                    ],
                    "parcoords": [
                      {
                        "line": {
                          "colorbar": {
                            "outlinewidth": 0,
                            "ticks": ""
                          }
                        },
                        "type": "parcoords"
                      }
                    ],
                    "pie": [
                      {
                        "automargin": true,
                        "type": "pie"
                      }
                    ],
                    "scatter": [
                      {
                        "fillpattern": {
                          "fillmode": "overlay",
                          "size": 10,
                          "solidity": 0.2
                        },
                        "type": "scatter"
                      }
                    ],
                    "scatter3d": [
                      {
                        "line": {
                          "colorbar": {
                            "outlinewidth": 0,
                            "ticks": ""
                          }
                        },
                        "marker": {
                          "colorbar": {
                            "outlinewidth": 0,
                            "ticks": ""
                          }
                        },
                        "type": "scatter3d"
                      }
                    ],
                    "scattercarpet": [
                      {
                        "marker": {
                          "colorbar": {
                            "outlinewidth": 0,
                            "ticks": ""
                          }
                        },
                        "type": "scattercarpet"
                      }
                    ],
                    "scattergeo": [
                      {
                        "marker": {
                          "colorbar": {
                            "outlinewidth": 0,
                            "ticks": ""
                          }
                        },
                        "type": "scattergeo"
                      }
                    ],
                    "scattergl": [
                      {
                        "marker": {
                          "colorbar": {
                            "outlinewidth": 0,
                            "ticks": ""
                          }
                        },
                        "type": "scattergl"
                      }
                    ],
                    "scattermapbox": [
                      {
                        "marker": {
                          "colorbar": {
                            "outlinewidth": 0,
                            "ticks": ""
                          }
                        },
                        "type": "scattermapbox"
                      }
                    ],
                    "scatterpolar": [
                      {
                        "marker": {
                          "colorbar": {
                            "outlinewidth": 0,
                            "ticks": ""
                          }
                        },
                        "type": "scatterpolar"
                      }
                    ],
                    "scatterpolargl": [
                      {
                        "marker": {
                          "colorbar": {
                            "outlinewidth": 0,
                            "ticks": ""
                          }
                        },
                        "type": "scatterpolargl"
                      }
                    ],
                    "scatterternary": [
                      {
                        "marker": {
                          "colorbar": {
                            "outlinewidth": 0,
                            "ticks": ""
                          }
                        },
                        "type": "scatterternary"
                      }
                    ],
                    "surface": [
                      {
                        "colorbar": {
                          "outlinewidth": 0,
                          "ticks": ""
                        },
                        "colorscale": [
                          [
                            0,
                            "#0d0887"
                          ],
                          [
                            0.1111111111111111,
                            "#46039f"
                          ],
                          [
                            0.2222222222222222,
                            "#7201a8"
                          ],
                          [
                            0.3333333333333333,
                            "#9c179e"
                          ],
                          [
                            0.4444444444444444,
                            "#bd3786"
                          ],
                          [
                            0.5555555555555556,
                            "#d8576b"
                          ],
                          [
                            0.6666666666666666,
                            "#ed7953"
                          ],
                          [
                            0.7777777777777778,
                            "#fb9f3a"
                          ],
                          [
                            0.8888888888888888,
                            "#fdca26"
                          ],
                          [
                            1,
                            "#f0f921"
                          ]
                        ],
                        "type": "surface"
                      }
                    ],
                    "table": [
                      {
                        "cells": {
                          "fill": {
                            "color": "#EBF0F8"
                          },
                          "line": {
                            "color": "white"
                          }
                        },
                        "header": {
                          "fill": {
                            "color": "#C8D4E3"
                          },
                          "line": {
                            "color": "white"
                          }
                        },
                        "type": "table"
                      }
                    ]
                  },
                  "layout": {
                    "annotationdefaults": {
                      "arrowcolor": "#2a3f5f",
                      "arrowhead": 0,
                      "arrowwidth": 1
                    },
                    "autotypenumbers": "strict",
                    "coloraxis": {
                      "colorbar": {
                        "outlinewidth": 0,
                        "ticks": ""
                      }
                    },
                    "colorscale": {
                      "diverging": [
                        [
                          0,
                          "#8e0152"
                        ],
                        [
                          0.1,
                          "#c51b7d"
                        ],
                        [
                          0.2,
                          "#de77ae"
                        ],
                        [
                          0.3,
                          "#f1b6da"
                        ],
                        [
                          0.4,
                          "#fde0ef"
                        ],
                        [
                          0.5,
                          "#f7f7f7"
                        ],
                        [
                          0.6,
                          "#e6f5d0"
                        ],
                        [
                          0.7,
                          "#b8e186"
                        ],
                        [
                          0.8,
                          "#7fbc41"
                        ],
                        [
                          0.9,
                          "#4d9221"
                        ],
                        [
                          1,
                          "#276419"
                        ]
                      ],
                      "sequential": [
                        [
                          0,
                          "#0d0887"
                        ],
                        [
                          0.1111111111111111,
                          "#46039f"
                        ],
                        [
                          0.2222222222222222,
                          "#7201a8"
                        ],
                        [
                          0.3333333333333333,
                          "#9c179e"
                        ],
                        [
                          0.4444444444444444,
                          "#bd3786"
                        ],
                        [
                          0.5555555555555556,
                          "#d8576b"
                        ],
                        [
                          0.6666666666666666,
                          "#ed7953"
                        ],
                        [
                          0.7777777777777778,
                          "#fb9f3a"
                        ],
                        [
                          0.8888888888888888,
                          "#fdca26"
                        ],
                        [
                          1,
                          "#f0f921"
                        ]
                      ],
                      "sequentialminus": [
                        [
                          0,
                          "#0d0887"
                        ],
                        [
                          0.1111111111111111,
                          "#46039f"
                        ],
                        [
                          0.2222222222222222,
                          "#7201a8"
                        ],
                        [
                          0.3333333333333333,
                          "#9c179e"
                        ],
                        [
                          0.4444444444444444,
                          "#bd3786"
                        ],
                        [
                          0.5555555555555556,
                          "#d8576b"
                        ],
                        [
                          0.6666666666666666,
                          "#ed7953"
                        ],
                        [
                          0.7777777777777778,
                          "#fb9f3a"
                        ],
                        [
                          0.8888888888888888,
                          "#fdca26"
                        ],
                        [
                          1,
                          "#f0f921"
                        ]
                      ]
                    },
                    "colorway": [
                      "#636efa",
                      "#EF553B",
                      "#00cc96",
                      "#ab63fa",
                      "#FFA15A",
                      "#19d3f3",
                      "#FF6692",
                      "#B6E880",
                      "#FF97FF",
                      "#FECB52"
                    ],
                    "font": {
                      "color": "#2a3f5f"
                    },
                    "geo": {
                      "bgcolor": "white",
                      "lakecolor": "white",
                      "landcolor": "#E5ECF6",
                      "showlakes": true,
                      "showland": true,
                      "subunitcolor": "white"
                    },
                    "hoverlabel": {
                      "align": "left"
                    },
                    "hovermode": "closest",
                    "mapbox": {
                      "style": "light"
                    },
                    "paper_bgcolor": "white",
                    "plot_bgcolor": "#E5ECF6",
                    "polar": {
                      "angularaxis": {
                        "gridcolor": "white",
                        "linecolor": "white",
                        "ticks": ""
                      },
                      "bgcolor": "#E5ECF6",
                      "radialaxis": {
                        "gridcolor": "white",
                        "linecolor": "white",
                        "ticks": ""
                      }
                    },
                    "scene": {
                      "xaxis": {
                        "backgroundcolor": "#E5ECF6",
                        "gridcolor": "white",
                        "gridwidth": 2,
                        "linecolor": "white",
                        "showbackground": true,
                        "ticks": "",
                        "zerolinecolor": "white"
                      },
                      "yaxis": {
                        "backgroundcolor": "#E5ECF6",
                        "gridcolor": "white",
                        "gridwidth": 2,
                        "linecolor": "white",
                        "showbackground": true,
                        "ticks": "",
                        "zerolinecolor": "white"
                      },
                      "zaxis": {
                        "backgroundcolor": "#E5ECF6",
                        "gridcolor": "white",
                        "gridwidth": 2,
                        "linecolor": "white",
                        "showbackground": true,
                        "ticks": "",
                        "zerolinecolor": "white"
                      }
                    },
                    "shapedefaults": {
                      "line": {
                        "color": "#2a3f5f"
                      }
                    },
                    "ternary": {
                      "aaxis": {
                        "gridcolor": "white",
                        "linecolor": "white",
                        "ticks": ""
                      },
                      "baxis": {
                        "gridcolor": "white",
                        "linecolor": "white",
                        "ticks": ""
                      },
                      "bgcolor": "#E5ECF6",
                      "caxis": {
                        "gridcolor": "white",
                        "linecolor": "white",
                        "ticks": ""
                      }
                    },
                    "title": {
                      "x": 0.05
                    },
                    "xaxis": {
                      "automargin": true,
                      "gridcolor": "white",
                      "linecolor": "white",
                      "ticks": "",
                      "title": {
                        "standoff": 15
                      },
                      "zerolinecolor": "white",
                      "zerolinewidth": 2
                    },
                    "yaxis": {
                      "automargin": true,
                      "gridcolor": "white",
                      "linecolor": "white",
                      "ticks": "",
                      "title": {
                        "standoff": 15
                      },
                      "zerolinecolor": "white",
                      "zerolinewidth": 2
                    }
                  }
                },
                "title": {
                  "text": "Slice Plot"
                },
                "width": 1200,
                "xaxis": {
                  "anchor": "y",
                  "domain": [
                    0,
                    0.2125
                  ],
                  "title": {
                    "text": "max_depth"
                  }
                },
                "xaxis2": {
                  "anchor": "y2",
                  "domain": [
                    0.2625,
                    0.475
                  ],
                  "title": {
                    "text": "min_samples_leaf"
                  }
                },
                "xaxis3": {
                  "anchor": "y3",
                  "domain": [
                    0.525,
                    0.7375
                  ],
                  "title": {
                    "text": "min_samples_split"
                  }
                },
                "xaxis4": {
                  "anchor": "y4",
                  "domain": [
                    0.7875,
                    1
                  ],
                  "title": {
                    "text": "n_estimators"
                  }
                },
                "yaxis": {
                  "anchor": "x",
                  "domain": [
                    0,
                    1
                  ],
                  "title": {
                    "text": "Objective Value"
                  }
                },
                "yaxis2": {
                  "anchor": "x2",
                  "domain": [
                    0,
                    1
                  ],
                  "matches": "y",
                  "showticklabels": false
                },
                "yaxis3": {
                  "anchor": "x3",
                  "domain": [
                    0,
                    1
                  ],
                  "matches": "y",
                  "showticklabels": false
                },
                "yaxis4": {
                  "anchor": "x4",
                  "domain": [
                    0,
                    1
                  ],
                  "matches": "y",
                  "showticklabels": false
                }
              }
            }
          },
          "metadata": {},
          "output_type": "display_data"
        }
      ],
      "source": [
        "plot_slice(study)"
      ]
    },
    {
      "cell_type": "code",
      "execution_count": 23,
      "metadata": {},
      "outputs": [
        {
          "name": "stdout",
          "output_type": "stream",
          "text": [
            "Mejor modelo: {'n_estimators': 360, 'max_depth': 13, 'min_samples_split': 228, 'min_samples_leaf': 23}\n"
          ]
        }
      ],
      "source": [
        "best_trial = study.best_trial\n",
        "best_model_params = best_trial.params\n",
        "print(\"Mejor modelo:\", best_model_params)"
      ]
    },
    {
      "cell_type": "code",
      "execution_count": 24,
      "metadata": {},
      "outputs": [
        {
          "data": {
            "text/html": [
              "<style>#sk-container-id-1 {\n",
              "  /* Definition of color scheme common for light and dark mode */\n",
              "  --sklearn-color-text: black;\n",
              "  --sklearn-color-line: gray;\n",
              "  /* Definition of color scheme for unfitted estimators */\n",
              "  --sklearn-color-unfitted-level-0: #fff5e6;\n",
              "  --sklearn-color-unfitted-level-1: #f6e4d2;\n",
              "  --sklearn-color-unfitted-level-2: #ffe0b3;\n",
              "  --sklearn-color-unfitted-level-3: chocolate;\n",
              "  /* Definition of color scheme for fitted estimators */\n",
              "  --sklearn-color-fitted-level-0: #f0f8ff;\n",
              "  --sklearn-color-fitted-level-1: #d4ebff;\n",
              "  --sklearn-color-fitted-level-2: #b3dbfd;\n",
              "  --sklearn-color-fitted-level-3: cornflowerblue;\n",
              "\n",
              "  /* Specific color for light theme */\n",
              "  --sklearn-color-text-on-default-background: var(--sg-text-color, var(--theme-code-foreground, var(--jp-content-font-color1, black)));\n",
              "  --sklearn-color-background: var(--sg-background-color, var(--theme-background, var(--jp-layout-color0, white)));\n",
              "  --sklearn-color-border-box: var(--sg-text-color, var(--theme-code-foreground, var(--jp-content-font-color1, black)));\n",
              "  --sklearn-color-icon: #696969;\n",
              "\n",
              "  @media (prefers-color-scheme: dark) {\n",
              "    /* Redefinition of color scheme for dark theme */\n",
              "    --sklearn-color-text-on-default-background: var(--sg-text-color, var(--theme-code-foreground, var(--jp-content-font-color1, white)));\n",
              "    --sklearn-color-background: var(--sg-background-color, var(--theme-background, var(--jp-layout-color0, #111)));\n",
              "    --sklearn-color-border-box: var(--sg-text-color, var(--theme-code-foreground, var(--jp-content-font-color1, white)));\n",
              "    --sklearn-color-icon: #878787;\n",
              "  }\n",
              "}\n",
              "\n",
              "#sk-container-id-1 {\n",
              "  color: var(--sklearn-color-text);\n",
              "}\n",
              "\n",
              "#sk-container-id-1 pre {\n",
              "  padding: 0;\n",
              "}\n",
              "\n",
              "#sk-container-id-1 input.sk-hidden--visually {\n",
              "  border: 0;\n",
              "  clip: rect(1px 1px 1px 1px);\n",
              "  clip: rect(1px, 1px, 1px, 1px);\n",
              "  height: 1px;\n",
              "  margin: -1px;\n",
              "  overflow: hidden;\n",
              "  padding: 0;\n",
              "  position: absolute;\n",
              "  width: 1px;\n",
              "}\n",
              "\n",
              "#sk-container-id-1 div.sk-dashed-wrapped {\n",
              "  border: 1px dashed var(--sklearn-color-line);\n",
              "  margin: 0 0.4em 0.5em 0.4em;\n",
              "  box-sizing: border-box;\n",
              "  padding-bottom: 0.4em;\n",
              "  background-color: var(--sklearn-color-background);\n",
              "}\n",
              "\n",
              "#sk-container-id-1 div.sk-container {\n",
              "  /* jupyter's `normalize.less` sets `[hidden] { display: none; }`\n",
              "     but bootstrap.min.css set `[hidden] { display: none !important; }`\n",
              "     so we also need the `!important` here to be able to override the\n",
              "     default hidden behavior on the sphinx rendered scikit-learn.org.\n",
              "     See: https://github.com/scikit-learn/scikit-learn/issues/21755 */\n",
              "  display: inline-block !important;\n",
              "  position: relative;\n",
              "}\n",
              "\n",
              "#sk-container-id-1 div.sk-text-repr-fallback {\n",
              "  display: none;\n",
              "}\n",
              "\n",
              "div.sk-parallel-item,\n",
              "div.sk-serial,\n",
              "div.sk-item {\n",
              "  /* draw centered vertical line to link estimators */\n",
              "  background-image: linear-gradient(var(--sklearn-color-text-on-default-background), var(--sklearn-color-text-on-default-background));\n",
              "  background-size: 2px 100%;\n",
              "  background-repeat: no-repeat;\n",
              "  background-position: center center;\n",
              "}\n",
              "\n",
              "/* Parallel-specific style estimator block */\n",
              "\n",
              "#sk-container-id-1 div.sk-parallel-item::after {\n",
              "  content: \"\";\n",
              "  width: 100%;\n",
              "  border-bottom: 2px solid var(--sklearn-color-text-on-default-background);\n",
              "  flex-grow: 1;\n",
              "}\n",
              "\n",
              "#sk-container-id-1 div.sk-parallel {\n",
              "  display: flex;\n",
              "  align-items: stretch;\n",
              "  justify-content: center;\n",
              "  background-color: var(--sklearn-color-background);\n",
              "  position: relative;\n",
              "}\n",
              "\n",
              "#sk-container-id-1 div.sk-parallel-item {\n",
              "  display: flex;\n",
              "  flex-direction: column;\n",
              "}\n",
              "\n",
              "#sk-container-id-1 div.sk-parallel-item:first-child::after {\n",
              "  align-self: flex-end;\n",
              "  width: 50%;\n",
              "}\n",
              "\n",
              "#sk-container-id-1 div.sk-parallel-item:last-child::after {\n",
              "  align-self: flex-start;\n",
              "  width: 50%;\n",
              "}\n",
              "\n",
              "#sk-container-id-1 div.sk-parallel-item:only-child::after {\n",
              "  width: 0;\n",
              "}\n",
              "\n",
              "/* Serial-specific style estimator block */\n",
              "\n",
              "#sk-container-id-1 div.sk-serial {\n",
              "  display: flex;\n",
              "  flex-direction: column;\n",
              "  align-items: center;\n",
              "  background-color: var(--sklearn-color-background);\n",
              "  padding-right: 1em;\n",
              "  padding-left: 1em;\n",
              "}\n",
              "\n",
              "\n",
              "/* Toggleable style: style used for estimator/Pipeline/ColumnTransformer box that is\n",
              "clickable and can be expanded/collapsed.\n",
              "- Pipeline and ColumnTransformer use this feature and define the default style\n",
              "- Estimators will overwrite some part of the style using the `sk-estimator` class\n",
              "*/\n",
              "\n",
              "/* Pipeline and ColumnTransformer style (default) */\n",
              "\n",
              "#sk-container-id-1 div.sk-toggleable {\n",
              "  /* Default theme specific background. It is overwritten whether we have a\n",
              "  specific estimator or a Pipeline/ColumnTransformer */\n",
              "  background-color: var(--sklearn-color-background);\n",
              "}\n",
              "\n",
              "/* Toggleable label */\n",
              "#sk-container-id-1 label.sk-toggleable__label {\n",
              "  cursor: pointer;\n",
              "  display: block;\n",
              "  width: 100%;\n",
              "  margin-bottom: 0;\n",
              "  padding: 0.5em;\n",
              "  box-sizing: border-box;\n",
              "  text-align: center;\n",
              "}\n",
              "\n",
              "#sk-container-id-1 label.sk-toggleable__label-arrow:before {\n",
              "  /* Arrow on the left of the label */\n",
              "  content: \"▸\";\n",
              "  float: left;\n",
              "  margin-right: 0.25em;\n",
              "  color: var(--sklearn-color-icon);\n",
              "}\n",
              "\n",
              "#sk-container-id-1 label.sk-toggleable__label-arrow:hover:before {\n",
              "  color: var(--sklearn-color-text);\n",
              "}\n",
              "\n",
              "/* Toggleable content - dropdown */\n",
              "\n",
              "#sk-container-id-1 div.sk-toggleable__content {\n",
              "  max-height: 0;\n",
              "  max-width: 0;\n",
              "  overflow: hidden;\n",
              "  text-align: left;\n",
              "  /* unfitted */\n",
              "  background-color: var(--sklearn-color-unfitted-level-0);\n",
              "}\n",
              "\n",
              "#sk-container-id-1 div.sk-toggleable__content.fitted {\n",
              "  /* fitted */\n",
              "  background-color: var(--sklearn-color-fitted-level-0);\n",
              "}\n",
              "\n",
              "#sk-container-id-1 div.sk-toggleable__content pre {\n",
              "  margin: 0.2em;\n",
              "  border-radius: 0.25em;\n",
              "  color: var(--sklearn-color-text);\n",
              "  /* unfitted */\n",
              "  background-color: var(--sklearn-color-unfitted-level-0);\n",
              "}\n",
              "\n",
              "#sk-container-id-1 div.sk-toggleable__content.fitted pre {\n",
              "  /* unfitted */\n",
              "  background-color: var(--sklearn-color-fitted-level-0);\n",
              "}\n",
              "\n",
              "#sk-container-id-1 input.sk-toggleable__control:checked~div.sk-toggleable__content {\n",
              "  /* Expand drop-down */\n",
              "  max-height: 200px;\n",
              "  max-width: 100%;\n",
              "  overflow: auto;\n",
              "}\n",
              "\n",
              "#sk-container-id-1 input.sk-toggleable__control:checked~label.sk-toggleable__label-arrow:before {\n",
              "  content: \"▾\";\n",
              "}\n",
              "\n",
              "/* Pipeline/ColumnTransformer-specific style */\n",
              "\n",
              "#sk-container-id-1 div.sk-label input.sk-toggleable__control:checked~label.sk-toggleable__label {\n",
              "  color: var(--sklearn-color-text);\n",
              "  background-color: var(--sklearn-color-unfitted-level-2);\n",
              "}\n",
              "\n",
              "#sk-container-id-1 div.sk-label.fitted input.sk-toggleable__control:checked~label.sk-toggleable__label {\n",
              "  background-color: var(--sklearn-color-fitted-level-2);\n",
              "}\n",
              "\n",
              "/* Estimator-specific style */\n",
              "\n",
              "/* Colorize estimator box */\n",
              "#sk-container-id-1 div.sk-estimator input.sk-toggleable__control:checked~label.sk-toggleable__label {\n",
              "  /* unfitted */\n",
              "  background-color: var(--sklearn-color-unfitted-level-2);\n",
              "}\n",
              "\n",
              "#sk-container-id-1 div.sk-estimator.fitted input.sk-toggleable__control:checked~label.sk-toggleable__label {\n",
              "  /* fitted */\n",
              "  background-color: var(--sklearn-color-fitted-level-2);\n",
              "}\n",
              "\n",
              "#sk-container-id-1 div.sk-label label.sk-toggleable__label,\n",
              "#sk-container-id-1 div.sk-label label {\n",
              "  /* The background is the default theme color */\n",
              "  color: var(--sklearn-color-text-on-default-background);\n",
              "}\n",
              "\n",
              "/* On hover, darken the color of the background */\n",
              "#sk-container-id-1 div.sk-label:hover label.sk-toggleable__label {\n",
              "  color: var(--sklearn-color-text);\n",
              "  background-color: var(--sklearn-color-unfitted-level-2);\n",
              "}\n",
              "\n",
              "/* Label box, darken color on hover, fitted */\n",
              "#sk-container-id-1 div.sk-label.fitted:hover label.sk-toggleable__label.fitted {\n",
              "  color: var(--sklearn-color-text);\n",
              "  background-color: var(--sklearn-color-fitted-level-2);\n",
              "}\n",
              "\n",
              "/* Estimator label */\n",
              "\n",
              "#sk-container-id-1 div.sk-label label {\n",
              "  font-family: monospace;\n",
              "  font-weight: bold;\n",
              "  display: inline-block;\n",
              "  line-height: 1.2em;\n",
              "}\n",
              "\n",
              "#sk-container-id-1 div.sk-label-container {\n",
              "  text-align: center;\n",
              "}\n",
              "\n",
              "/* Estimator-specific */\n",
              "#sk-container-id-1 div.sk-estimator {\n",
              "  font-family: monospace;\n",
              "  border: 1px dotted var(--sklearn-color-border-box);\n",
              "  border-radius: 0.25em;\n",
              "  box-sizing: border-box;\n",
              "  margin-bottom: 0.5em;\n",
              "  /* unfitted */\n",
              "  background-color: var(--sklearn-color-unfitted-level-0);\n",
              "}\n",
              "\n",
              "#sk-container-id-1 div.sk-estimator.fitted {\n",
              "  /* fitted */\n",
              "  background-color: var(--sklearn-color-fitted-level-0);\n",
              "}\n",
              "\n",
              "/* on hover */\n",
              "#sk-container-id-1 div.sk-estimator:hover {\n",
              "  /* unfitted */\n",
              "  background-color: var(--sklearn-color-unfitted-level-2);\n",
              "}\n",
              "\n",
              "#sk-container-id-1 div.sk-estimator.fitted:hover {\n",
              "  /* fitted */\n",
              "  background-color: var(--sklearn-color-fitted-level-2);\n",
              "}\n",
              "\n",
              "/* Specification for estimator info (e.g. \"i\" and \"?\") */\n",
              "\n",
              "/* Common style for \"i\" and \"?\" */\n",
              "\n",
              ".sk-estimator-doc-link,\n",
              "a:link.sk-estimator-doc-link,\n",
              "a:visited.sk-estimator-doc-link {\n",
              "  float: right;\n",
              "  font-size: smaller;\n",
              "  line-height: 1em;\n",
              "  font-family: monospace;\n",
              "  background-color: var(--sklearn-color-background);\n",
              "  border-radius: 1em;\n",
              "  height: 1em;\n",
              "  width: 1em;\n",
              "  text-decoration: none !important;\n",
              "  margin-left: 1ex;\n",
              "  /* unfitted */\n",
              "  border: var(--sklearn-color-unfitted-level-1) 1pt solid;\n",
              "  color: var(--sklearn-color-unfitted-level-1);\n",
              "}\n",
              "\n",
              ".sk-estimator-doc-link.fitted,\n",
              "a:link.sk-estimator-doc-link.fitted,\n",
              "a:visited.sk-estimator-doc-link.fitted {\n",
              "  /* fitted */\n",
              "  border: var(--sklearn-color-fitted-level-1) 1pt solid;\n",
              "  color: var(--sklearn-color-fitted-level-1);\n",
              "}\n",
              "\n",
              "/* On hover */\n",
              "div.sk-estimator:hover .sk-estimator-doc-link:hover,\n",
              ".sk-estimator-doc-link:hover,\n",
              "div.sk-label-container:hover .sk-estimator-doc-link:hover,\n",
              ".sk-estimator-doc-link:hover {\n",
              "  /* unfitted */\n",
              "  background-color: var(--sklearn-color-unfitted-level-3);\n",
              "  color: var(--sklearn-color-background);\n",
              "  text-decoration: none;\n",
              "}\n",
              "\n",
              "div.sk-estimator.fitted:hover .sk-estimator-doc-link.fitted:hover,\n",
              ".sk-estimator-doc-link.fitted:hover,\n",
              "div.sk-label-container:hover .sk-estimator-doc-link.fitted:hover,\n",
              ".sk-estimator-doc-link.fitted:hover {\n",
              "  /* fitted */\n",
              "  background-color: var(--sklearn-color-fitted-level-3);\n",
              "  color: var(--sklearn-color-background);\n",
              "  text-decoration: none;\n",
              "}\n",
              "\n",
              "/* Span, style for the box shown on hovering the info icon */\n",
              ".sk-estimator-doc-link span {\n",
              "  display: none;\n",
              "  z-index: 9999;\n",
              "  position: relative;\n",
              "  font-weight: normal;\n",
              "  right: .2ex;\n",
              "  padding: .5ex;\n",
              "  margin: .5ex;\n",
              "  width: min-content;\n",
              "  min-width: 20ex;\n",
              "  max-width: 50ex;\n",
              "  color: var(--sklearn-color-text);\n",
              "  box-shadow: 2pt 2pt 4pt #999;\n",
              "  /* unfitted */\n",
              "  background: var(--sklearn-color-unfitted-level-0);\n",
              "  border: .5pt solid var(--sklearn-color-unfitted-level-3);\n",
              "}\n",
              "\n",
              ".sk-estimator-doc-link.fitted span {\n",
              "  /* fitted */\n",
              "  background: var(--sklearn-color-fitted-level-0);\n",
              "  border: var(--sklearn-color-fitted-level-3);\n",
              "}\n",
              "\n",
              ".sk-estimator-doc-link:hover span {\n",
              "  display: block;\n",
              "}\n",
              "\n",
              "/* \"?\"-specific style due to the `<a>` HTML tag */\n",
              "\n",
              "#sk-container-id-1 a.estimator_doc_link {\n",
              "  float: right;\n",
              "  font-size: 1rem;\n",
              "  line-height: 1em;\n",
              "  font-family: monospace;\n",
              "  background-color: var(--sklearn-color-background);\n",
              "  border-radius: 1rem;\n",
              "  height: 1rem;\n",
              "  width: 1rem;\n",
              "  text-decoration: none;\n",
              "  /* unfitted */\n",
              "  color: var(--sklearn-color-unfitted-level-1);\n",
              "  border: var(--sklearn-color-unfitted-level-1) 1pt solid;\n",
              "}\n",
              "\n",
              "#sk-container-id-1 a.estimator_doc_link.fitted {\n",
              "  /* fitted */\n",
              "  border: var(--sklearn-color-fitted-level-1) 1pt solid;\n",
              "  color: var(--sklearn-color-fitted-level-1);\n",
              "}\n",
              "\n",
              "/* On hover */\n",
              "#sk-container-id-1 a.estimator_doc_link:hover {\n",
              "  /* unfitted */\n",
              "  background-color: var(--sklearn-color-unfitted-level-3);\n",
              "  color: var(--sklearn-color-background);\n",
              "  text-decoration: none;\n",
              "}\n",
              "\n",
              "#sk-container-id-1 a.estimator_doc_link.fitted:hover {\n",
              "  /* fitted */\n",
              "  background-color: var(--sklearn-color-fitted-level-3);\n",
              "}\n",
              "</style><div id=\"sk-container-id-1\" class=\"sk-top-container\"><div class=\"sk-text-repr-fallback\"><pre>RandomForestClassifier(criterion=&#x27;entropy&#x27;, max_depth=13, min_samples_leaf=23,\n",
              "                       min_samples_split=228, n_estimators=360, n_jobs=-1,\n",
              "                       oob_score=True, random_state=540079)</pre><b>In a Jupyter environment, please rerun this cell to show the HTML representation or trust the notebook. <br />On GitHub, the HTML representation is unable to render, please try loading this page with nbviewer.org.</b></div><div class=\"sk-container\" hidden><div class=\"sk-item\"><div class=\"sk-estimator fitted sk-toggleable\"><input class=\"sk-toggleable__control sk-hidden--visually\" id=\"sk-estimator-id-1\" type=\"checkbox\" checked><label for=\"sk-estimator-id-1\" class=\"sk-toggleable__label fitted sk-toggleable__label-arrow fitted\">&nbsp;&nbsp;RandomForestClassifier<a class=\"sk-estimator-doc-link fitted\" rel=\"noreferrer\" target=\"_blank\" href=\"https://scikit-learn.org/1.5/modules/generated/sklearn.ensemble.RandomForestClassifier.html\">?<span>Documentation for RandomForestClassifier</span></a><span class=\"sk-estimator-doc-link fitted\">i<span>Fitted</span></span></label><div class=\"sk-toggleable__content fitted\"><pre>RandomForestClassifier(criterion=&#x27;entropy&#x27;, max_depth=13, min_samples_leaf=23,\n",
              "                       min_samples_split=228, n_estimators=360, n_jobs=-1,\n",
              "                       oob_score=True, random_state=540079)</pre></div> </div></div></div></div>"
            ],
            "text/plain": [
              "RandomForestClassifier(criterion='entropy', max_depth=13, min_samples_leaf=23,\n",
              "                       min_samples_split=228, n_estimators=360, n_jobs=-1,\n",
              "                       oob_score=True, random_state=540079)"
            ]
          },
          "execution_count": 24,
          "metadata": {},
          "output_type": "execute_result"
        }
      ],
      "source": [
        "model_rf_1 = RandomForestClassifier(\n",
        "        **study.best_params,\n",
        "        criterion=\"entropy\",\n",
        "        random_state=semillas[0],\n",
        "        n_jobs=-1,\n",
        "        oob_score=True,\n",
        "    )\n",
        "\n",
        "model_rf_1.fit(Xtrain_rf_imp, ytrain_rf)"
      ]
    },
    {
      "cell_type": "code",
      "execution_count": 25,
      "metadata": {},
      "outputs": [
        {
          "data": {
            "text/html": [
              "<div>\n",
              "<style scoped>\n",
              "    .dataframe tbody tr th:only-of-type {\n",
              "        vertical-align: middle;\n",
              "    }\n",
              "\n",
              "    .dataframe tbody tr th {\n",
              "        vertical-align: top;\n",
              "    }\n",
              "\n",
              "    .dataframe thead th {\n",
              "        text-align: right;\n",
              "    }\n",
              "</style>\n",
              "<table border=\"1\" class=\"dataframe\">\n",
              "  <thead>\n",
              "    <tr style=\"text-align: right;\">\n",
              "      <th></th>\n",
              "      <th>feature</th>\n",
              "      <th>importance</th>\n",
              "    </tr>\n",
              "  </thead>\n",
              "  <tbody>\n",
              "    <tr>\n",
              "      <th>2</th>\n",
              "      <td>percent_rank_mpayroll</td>\n",
              "      <td>0.110250</td>\n",
              "    </tr>\n",
              "    <tr>\n",
              "      <th>6</th>\n",
              "      <td>percent_rank_ctrx_quarter</td>\n",
              "      <td>0.101775</td>\n",
              "    </tr>\n",
              "    <tr>\n",
              "      <th>3</th>\n",
              "      <td>mpayroll</td>\n",
              "      <td>0.099874</td>\n",
              "    </tr>\n",
              "    <tr>\n",
              "      <th>10</th>\n",
              "      <td>ctrx_quarter</td>\n",
              "      <td>0.097683</td>\n",
              "    </tr>\n",
              "    <tr>\n",
              "      <th>5</th>\n",
              "      <td>m_payroll_total</td>\n",
              "      <td>0.089366</td>\n",
              "    </tr>\n",
              "    <tr>\n",
              "      <th>16</th>\n",
              "      <td>mtarjetas_consumo</td>\n",
              "      <td>0.072705</td>\n",
              "    </tr>\n",
              "    <tr>\n",
              "      <th>9</th>\n",
              "      <td>cpayroll_trx</td>\n",
              "      <td>0.060326</td>\n",
              "    </tr>\n",
              "    <tr>\n",
              "      <th>8</th>\n",
              "      <td>m_cpayroll_total</td>\n",
              "      <td>0.050391</td>\n",
              "    </tr>\n",
              "    <tr>\n",
              "      <th>4</th>\n",
              "      <td>lag_1_ctrx_quarter</td>\n",
              "      <td>0.045260</td>\n",
              "    </tr>\n",
              "    <tr>\n",
              "      <th>13</th>\n",
              "      <td>percent_rank_cpayroll_trx</td>\n",
              "      <td>0.041544</td>\n",
              "    </tr>\n",
              "    <tr>\n",
              "      <th>1</th>\n",
              "      <td>avg_3_ctrx_quarter</td>\n",
              "      <td>0.039852</td>\n",
              "    </tr>\n",
              "    <tr>\n",
              "      <th>7</th>\n",
              "      <td>percent_rank_mpasivos_margen</td>\n",
              "      <td>0.036369</td>\n",
              "    </tr>\n",
              "    <tr>\n",
              "      <th>17</th>\n",
              "      <td>ctarjeta_visa_transacciones</td>\n",
              "      <td>0.033673</td>\n",
              "    </tr>\n",
              "    <tr>\n",
              "      <th>12</th>\n",
              "      <td>lag_2_ctrx_quarter</td>\n",
              "      <td>0.026656</td>\n",
              "    </tr>\n",
              "    <tr>\n",
              "      <th>19</th>\n",
              "      <td>percent_rank_mcaja_ahorro</td>\n",
              "      <td>0.024875</td>\n",
              "    </tr>\n",
              "    <tr>\n",
              "      <th>14</th>\n",
              "      <td>mcaja_ahorro</td>\n",
              "      <td>0.024424</td>\n",
              "    </tr>\n",
              "    <tr>\n",
              "      <th>18</th>\n",
              "      <td>avg_3_mcaja_ahorro</td>\n",
              "      <td>0.017469</td>\n",
              "    </tr>\n",
              "    <tr>\n",
              "      <th>11</th>\n",
              "      <td>lag_1_mpayroll</td>\n",
              "      <td>0.012624</td>\n",
              "    </tr>\n",
              "    <tr>\n",
              "      <th>0</th>\n",
              "      <td>avg_3_cpayroll_trx</td>\n",
              "      <td>0.011388</td>\n",
              "    </tr>\n",
              "    <tr>\n",
              "      <th>15</th>\n",
              "      <td>lag_2_cpayroll_trx</td>\n",
              "      <td>0.003497</td>\n",
              "    </tr>\n",
              "  </tbody>\n",
              "</table>\n",
              "</div>"
            ],
            "text/plain": [
              "                         feature  importance\n",
              "2          percent_rank_mpayroll    0.110250\n",
              "6      percent_rank_ctrx_quarter    0.101775\n",
              "3                       mpayroll    0.099874\n",
              "10                  ctrx_quarter    0.097683\n",
              "5                m_payroll_total    0.089366\n",
              "16             mtarjetas_consumo    0.072705\n",
              "9                   cpayroll_trx    0.060326\n",
              "8               m_cpayroll_total    0.050391\n",
              "4             lag_1_ctrx_quarter    0.045260\n",
              "13     percent_rank_cpayroll_trx    0.041544\n",
              "1             avg_3_ctrx_quarter    0.039852\n",
              "7   percent_rank_mpasivos_margen    0.036369\n",
              "17   ctarjeta_visa_transacciones    0.033673\n",
              "12            lag_2_ctrx_quarter    0.026656\n",
              "19     percent_rank_mcaja_ahorro    0.024875\n",
              "14                  mcaja_ahorro    0.024424\n",
              "18            avg_3_mcaja_ahorro    0.017469\n",
              "11                lag_1_mpayroll    0.012624\n",
              "0             avg_3_cpayroll_trx    0.011388\n",
              "15            lag_2_cpayroll_trx    0.003497"
            ]
          },
          "execution_count": 25,
          "metadata": {},
          "output_type": "execute_result"
        }
      ],
      "source": [
        "importances = model_rf_1.feature_importances_\n",
        "\n",
        "features = Xtrain_rf.columns\n",
        "feat_importances = pd.DataFrame({'feature': features, 'importance': importances})\n",
        "feat_importances = feat_importances.sort_values('importance', ascending=False)\n",
        "\n",
        "feat_importances.head(25)"
      ]
    },
    {
      "cell_type": "markdown",
      "metadata": {
        "id": "3WkehiTNzRrL"
      },
      "source": [
        "Armamos (copiamos de internet) una función que nos calcule la matriz de distancias"
      ]
    },
    {
      "cell_type": "code",
      "execution_count": 26,
      "metadata": {
        "id": "Ab0UY9VAo1mj"
      },
      "outputs": [],
      "source": [
        "def distanceMatrix(model, X):\n",
        "\n",
        "    terminals = model.apply(X)\n",
        "    nTrees = terminals.shape[1]\n",
        "\n",
        "    a = terminals[:,0]\n",
        "    proxMat = 1*np.equal.outer(a, a)\n",
        "\n",
        "    for i in range(1, nTrees):\n",
        "        a = terminals[:,i]\n",
        "        proxMat += 1*np.equal.outer(a, a)\n",
        "\n",
        "    proxMat = proxMat / nTrees\n",
        "\n",
        "    return proxMat.max() - proxMat\n",
        "\n",
        "md = distanceMatrix(model_rf_1, Xtrain_rf_imp)"
      ]
    },
    {
      "cell_type": "code",
      "execution_count": 27,
      "metadata": {
        "colab": {
          "base_uri": "https://localhost:8080/"
        },
        "id": "jM0crgSQqC5x",
        "outputId": "cdf7d73d-fbc2-4a1c-ce31-2056e062dc57"
      },
      "outputs": [
        {
          "data": {
            "text/plain": [
              "array([[0.        , 1.        , 1.        , ..., 0.99722222, 0.99722222,\n",
              "        1.        ],\n",
              "       [1.        , 0.        , 1.        , ..., 1.        , 1.        ,\n",
              "        0.73055556],\n",
              "       [1.        , 1.        , 0.        , ..., 1.        , 1.        ,\n",
              "        1.        ],\n",
              "       ...,\n",
              "       [0.99722222, 1.        , 1.        , ..., 0.        , 0.55833333,\n",
              "        1.        ],\n",
              "       [0.99722222, 1.        , 1.        , ..., 0.55833333, 0.        ,\n",
              "        1.        ],\n",
              "       [1.        , 0.73055556, 1.        , ..., 1.        , 1.        ,\n",
              "        0.        ]])"
            ]
          },
          "execution_count": 27,
          "metadata": {},
          "output_type": "execute_result"
        }
      ],
      "source": [
        "md"
      ]
    },
    {
      "cell_type": "markdown",
      "metadata": {
        "id": "xrhE0O2nzodC"
      },
      "source": [
        "Para poder visualizar la matriz, utilizaremos un embedding. Los *embeddings* son representaciones vectoriales de datos en un espacio de menor dimensión\n",
        "\n",
        "Podría utilizar un **PCA** con ese fin, pero en los últimos años hay mejores algoritmos como **t-sne** o **umap**.\n",
        "\n",
        "UMAP (Uniform Manifold Approximation and Projection) es una técnica avanzada para la reducción de dimensionalidad y visualización de datos en espacios de menor dimensión, que busca mantener al máximo la estructura de los datos en alta dimensión.\n",
        "\n",
        "1. **Preservación de la Estructura Global y Local**:\n",
        "   - Intenta preservar tanto la estructura local (relaciones cercanas) como la global (estructura general) de los datos al proyectarlos en un espacio de menor dimensión.\n",
        "\n",
        "2. **Basado en Manifold Learning**:\n",
        "   - UMAP asume que los datos de alta dimensión se encuentran en un espacio de menor dimensión (un \"manifold\") y busca proyectar esos datos de manera que se mantenga esa estructura subyacente.\n",
        "\n",
        "3. **Velocidad y Escalabilidad**:\n",
        "   - UMAP es más rápido y escalable en comparación con técnicas similares como t-SNE, especialmente en conjuntos de datos grandes.\n",
        "\n",
        "4. **Control sobre la Estructura**:\n",
        "   - UMAP permite al usuario ajustar parámetros que controlan la preservación de la estructura local y global, como el número de vecinos cercanos (n_neighbors) y la distancia mínima entre puntos (min_dist).\n",
        "\n",
        "Una característica adicional, es que cuenta con la posibilidad de recibir de entrada una matriz de distancia.\n",
        "\n",
        "Veamos los datos por primera vez:"
      ]
    },
    {
      "cell_type": "code",
      "execution_count": 39,
      "metadata": {
        "colab": {
          "base_uri": "https://localhost:8080/",
          "height": 544
        },
        "id": "5LRYIYv-rBb6",
        "outputId": "cf878468-23ef-438a-d32b-e07f179f3ccf"
      },
      "outputs": [
        {
          "name": "stderr",
          "output_type": "stream",
          "text": [
            "c:\\Users\\Federico\\AppData\\Local\\Programs\\Python\\Python312\\Lib\\site-packages\\umap\\umap_.py:1858: UserWarning:\n",
            "\n",
            "using precomputed metric; inverse_transform will be unavailable\n",
            "\n",
            "c:\\Users\\Federico\\AppData\\Local\\Programs\\Python\\Python312\\Lib\\site-packages\\umap\\umap_.py:1945: UserWarning:\n",
            "\n",
            "n_jobs value 1 overridden to 1 by setting random_state. Use no seed for parallelism.\n",
            "\n"
          ]
        },
        {
          "data": {
            "text/plain": [
              "<matplotlib.collections.PathCollection at 0x1a65862bc80>"
            ]
          },
          "execution_count": 39,
          "metadata": {},
          "output_type": "execute_result"
        },
        {
          "data": {
            "image/png": "[encoded data removed]",
            "text/plain": [
              "<Figure size 640x480 with 1 Axes>"
            ]
          },
          "metadata": {},
          "output_type": "display_data"
        }
      ],
      "source": [
        "embedding_rf = UMAP(\n",
        "  n_components=2,\n",
        "  n_neighbors=40,\n",
        "  metric=\"precomputed\",\n",
        "  random_state=semillas[0],\n",
        ").fit_transform(md)\n",
        "\n",
        "plt.scatter(embedding_rf[:,0], embedding_rf[:,1])"
      ]
    },
    {
      "cell_type": "markdown",
      "metadata": {
        "id": "r2StQEZK3Guh"
      },
      "source": [
        "Agreguemos la dimensión de la probabilidad de salida, para ver donde cree el modelo que se encuentran los **bajas**."
      ]
    },
    {
      "cell_type": "code",
      "execution_count": 40,
      "metadata": {
        "colab": {
          "base_uri": "https://localhost:8080/",
          "height": 435
        },
        "id": "A1Rfhj7CTeLt",
        "outputId": "cc6bf1e7-2099-4b20-dc81-44ebfab9b88d"
      },
      "outputs": [
        {
          "data": {
            "image/png": "[encoded data removed]",
            "text/plain": [
              "<Figure size 640x480 with 2 Axes>"
            ]
          },
          "metadata": {},
          "output_type": "display_data"
        }
      ],
      "source": [
        "class_index = np.where(model_rf_1.classes_ == 1)[0]\n",
        "prob_baja = model_rf_1.predict_proba(Xtrain_rf_imp)[:,class_index]\n",
        "\n",
        "plt.scatter(embedding_rf[:,0], embedding_rf[:,1], c=prob_baja)\n",
        "plt.colorbar()\n",
        "plt.show()"
      ]
    },
    {
      "cell_type": "markdown",
      "metadata": {
        "id": "xpthaD3P3d4C"
      },
      "source": [
        "Vamos a partir de este embedding para segmentar a los clientes. Puede utilizar cualquier técnica, los datos ya son simples para cualquier algoritmo. Utilizaremos uno bastante estandar"
      ]
    },
    {
      "cell_type": "code",
      "execution_count": 41,
      "metadata": {
        "colab": {
          "base_uri": "https://localhost:8080/",
          "height": 486
        },
        "id": "RtyL7PdqrVpr",
        "outputId": "4e457963-66a5-40bb-c3a5-001a2c249c32"
      },
      "outputs": [
        {
          "data": {
            "image/png": "[encoded data removed]",
            "text/plain": [
              "<Figure size 640x480 with 1 Axes>"
            ]
          },
          "metadata": {},
          "output_type": "display_data"
        }
      ],
      "source": [
        "hdb = DBSCAN(eps=0.3)\n",
        "y = hdb.fit(embedding_rf)\n",
        "\n",
        "plt.scatter(embedding_rf[:, 0], embedding_rf[:, 1], c=y.labels_, cmap='tab10')\n",
        "# plt.tight_layout()\n",
        "plt.show()"
      ]
    },
    {
      "cell_type": "code",
      "execution_count": 42,
      "metadata": {},
      "outputs": [
        {
          "data": {
            "image/png": "[encoded data removed]",
            "text/plain": [
              "<Figure size 1200x600 with 4 Axes>"
            ]
          },
          "metadata": {},
          "output_type": "display_data"
        }
      ],
      "source": [
        "# Ajustamos el modelo DBSCAN (como en tu código)\n",
        "hdb = DBSCAN(eps=0.3)\n",
        "y = hdb.fit(embedding_rf)\n",
        "\n",
        "# Creamos la figura con 2 subplots\n",
        "fig, (ax1, ax2) = plt.subplots(1, 2, figsize=(12, 6))\n",
        "\n",
        "# Primer gráfico: clusters con anotaciones\n",
        "scatter1 = ax1.scatter(embedding_rf[:, 0], embedding_rf[:, 1], c=y.labels_, cmap='tab10')\n",
        "\n",
        "# Anotamos el número de clústeres en el centro de cada grupo\n",
        "unique_labels = set(y.labels_)\n",
        "for label in unique_labels:\n",
        "    if label == -1:  # Ignoramos el ruido (outliers)\n",
        "        continue\n",
        "    mask = (y.labels_ == label)\n",
        "    cluster_center = embedding_rf[mask].mean(axis=0)\n",
        "    ax1.annotate(f'{label}', cluster_center, textcoords=\"offset points\", xytext=(0, 10), ha='center')\n",
        "\n",
        "ax1.set_title('Clusters con DBSCAN')\n",
        "fig.colorbar(scatter1, ax=ax1)\n",
        "\n",
        "# Segundo gráfico: probabilidades de clase\n",
        "class_index = np.where(model_rf_1.classes_ == 1)[0]\n",
        "prob_baja = model_rf_1.predict_proba(Xtrain_rf_imp)[:, class_index]\n",
        "\n",
        "scatter2 = ax2.scatter(embedding_rf[:, 0], embedding_rf[:, 1], c=prob_baja)\n",
        "ax2.set_title('Probabilidades de Clase')\n",
        "fig.colorbar(scatter2, ax=ax2)\n",
        "\n",
        "# Ajustamos el layout de toda la figura\n",
        "plt.tight_layout()\n",
        "plt.show()\n"
      ]
    },
    {
      "cell_type": "markdown",
      "metadata": {
        "id": "1DT8Napm4giz"
      },
      "source": [
        "Veamos cuantos cluster detecto y cuantos clientes tiene cada uno"
      ]
    },
    {
      "cell_type": "code",
      "execution_count": 32,
      "metadata": {
        "colab": {
          "base_uri": "https://localhost:8080/",
          "height": 429
        },
        "id": "oYA4-CLXtGxa",
        "outputId": "55c14c45-6193-4f60-aadb-e3fccaa87b26"
      },
      "outputs": [
        {
          "data": {
            "text/plain": [
              " 0     1379\n",
              " 1      827\n",
              " 3      546\n",
              " 2      418\n",
              " 5      299\n",
              " 6      291\n",
              " 4      191\n",
              " 7       78\n",
              " 11      35\n",
              " 10      31\n",
              " 8       20\n",
              " 12      15\n",
              " 9       14\n",
              "-1       10\n",
              " 14       9\n",
              " 13       8\n",
              "Name: count, dtype: int64"
            ]
          },
          "execution_count": 32,
          "metadata": {},
          "output_type": "execute_result"
        }
      ],
      "source": [
        "pd.Series(y.labels_).value_counts()"
      ]
    },
    {
      "cell_type": "markdown",
      "metadata": {
        "id": "qDcWrYG94sGq"
      },
      "source": [
        "Los que tienen -1, son considerados outliers."
      ]
    },
    {
      "cell_type": "markdown",
      "metadata": {
        "id": "O4kSLegC4wXT"
      },
      "source": [
        "Por último necesitamos alguna forma de saber que hace a cada cluster distinto del otro. Para esto utilizaremos modelos (**rf**) que buscan separar los cluster uno a uno del resto de los datos.\n",
        "\n",
        "Por cada modelo, miraremos cuales son las variables más importantes que separan los datos para luego caracterizarlos:\n",
        "\n",
        "Manos a la obra:"
      ]
    },
    {
      "cell_type": "code",
      "execution_count": 33,
      "metadata": {
        "id": "JNAspxcDNsJO"
      },
      "outputs": [],
      "source": [
        "df_embedding = pd.DataFrame(embedding_rf, columns=['embedding_1', 'embedding_2'])\n",
        "df_embedding['cluster'] = y.labels_\n",
        "\n",
        "clusters = df_embedding['cluster'].unique()\n",
        "\n",
        "important_features_by_cluster = {}\n",
        "\n",
        "for cluster in clusters:\n",
        "  y_binary = (df_embedding['cluster'] == cluster).astype(int)\n",
        "\n",
        "  model = RandomForestClassifier(random_state=17)\n",
        "  model.fit(Xtrain_rf_imp, y_binary)\n",
        "\n",
        "  importances = model.feature_importances_\n",
        "  feature_names = Xtrain_rf.columns\n",
        "\n",
        "  indices = np.argsort(importances)[::-1]\n",
        "  important_features_by_cluster[cluster] = [feature_names[i] for i in indices]"
      ]
    },
    {
      "cell_type": "markdown",
      "metadata": {
        "id": "y7Mz0fa35llh"
      },
      "source": [
        "Y exploramos cuales son las variables importantes por cada cluster"
      ]
    },
    {
      "cell_type": "code",
      "execution_count": 34,
      "metadata": {
        "colab": {
          "base_uri": "https://localhost:8080/"
        },
        "id": "TXC_cFv45mO5",
        "outputId": "e8c852a3-bc84-42b8-9c61-865b61eb3094"
      },
      "outputs": [
        {
          "name": "stdout",
          "output_type": "stream",
          "text": [
            "Cluster 0 vs. Resto:\n",
            "  - mtarjetas_consumo\n",
            "  - percent_rank_ctrx_quarter\n",
            "  - ctrx_quarter\n",
            "  - ctarjeta_visa_transacciones\n",
            "  - mcaja_ahorro\n",
            "  - percent_rank_mcaja_ahorro\n",
            "  - m_payroll_total\n",
            "  - avg_3_mcaja_ahorro\n",
            "  - avg_3_ctrx_quarter\n",
            "  - lag_1_ctrx_quarter\n",
            "  - percent_rank_mpayroll\n",
            "  - mpayroll\n",
            "Cluster 1 vs. Resto:\n",
            "  - m_payroll_total\n",
            "  - percent_rank_mpayroll\n",
            "  - mpayroll\n",
            "  - mtarjetas_consumo\n",
            "  - m_cpayroll_total\n",
            "  - cpayroll_trx\n",
            "  - ctarjeta_visa_transacciones\n",
            "  - avg_3_cpayroll_trx\n",
            "  - lag_1_mpayroll\n",
            "  - ctrx_quarter\n",
            "  - percent_rank_ctrx_quarter\n",
            "  - percent_rank_cpayroll_trx\n",
            "Cluster 2 vs. Resto:\n",
            "  - ctrx_quarter\n",
            "  - percent_rank_ctrx_quarter\n",
            "  - mtarjetas_consumo\n",
            "  - percent_rank_mpayroll\n",
            "  - m_payroll_total\n",
            "  - ctarjeta_visa_transacciones\n",
            "  - mpayroll\n",
            "  - lag_1_ctrx_quarter\n",
            "  - avg_3_ctrx_quarter\n",
            "  - lag_2_ctrx_quarter\n",
            "  - cpayroll_trx\n",
            "  - percent_rank_cpayroll_trx\n",
            "Cluster 3 vs. Resto:\n",
            "  - percent_rank_ctrx_quarter\n",
            "  - avg_3_ctrx_quarter\n",
            "  - ctrx_quarter\n",
            "  - mcaja_ahorro\n",
            "  - percent_rank_mcaja_ahorro\n",
            "  - lag_1_ctrx_quarter\n",
            "  - lag_2_ctrx_quarter\n",
            "  - percent_rank_mpasivos_margen\n",
            "  - mtarjetas_consumo\n",
            "  - avg_3_mcaja_ahorro\n",
            "  - ctarjeta_visa_transacciones\n",
            "  - lag_2_cpayroll_trx\n",
            "Cluster 4 vs. Resto:\n",
            "  - percent_rank_mpasivos_margen\n",
            "  - mtarjetas_consumo\n",
            "  - percent_rank_ctrx_quarter\n",
            "  - ctrx_quarter\n",
            "  - ctarjeta_visa_transacciones\n",
            "  - lag_1_ctrx_quarter\n",
            "  - mcaja_ahorro\n",
            "  - avg_3_ctrx_quarter\n",
            "  - percent_rank_mcaja_ahorro\n",
            "  - lag_2_ctrx_quarter\n",
            "  - avg_3_mcaja_ahorro\n",
            "  - percent_rank_mpayroll\n",
            "Cluster 5 vs. Resto:\n",
            "  - mtarjetas_consumo\n",
            "  - ctarjeta_visa_transacciones\n",
            "  - avg_3_ctrx_quarter\n",
            "  - percent_rank_ctrx_quarter\n",
            "  - m_payroll_total\n",
            "  - ctrx_quarter\n",
            "  - lag_1_ctrx_quarter\n",
            "  - mpayroll\n",
            "  - percent_rank_mpayroll\n",
            "  - lag_2_ctrx_quarter\n",
            "  - cpayroll_trx\n",
            "  - m_cpayroll_total\n",
            "Cluster 6 vs. Resto:\n",
            "  - percent_rank_mpasivos_margen\n",
            "  - mtarjetas_consumo\n",
            "  - ctrx_quarter\n",
            "  - percent_rank_ctrx_quarter\n",
            "  - avg_3_ctrx_quarter\n",
            "  - ctarjeta_visa_transacciones\n",
            "  - lag_1_ctrx_quarter\n",
            "  - m_payroll_total\n",
            "  - lag_2_ctrx_quarter\n",
            "  - mcaja_ahorro\n",
            "  - m_cpayroll_total\n",
            "  - percent_rank_cpayroll_trx\n",
            "Cluster 7 vs. Resto:\n",
            "  - percent_rank_mpasivos_margen\n",
            "  - avg_3_ctrx_quarter\n",
            "  - lag_2_ctrx_quarter\n",
            "  - ctrx_quarter\n",
            "  - lag_1_ctrx_quarter\n",
            "  - percent_rank_ctrx_quarter\n",
            "  - avg_3_mcaja_ahorro\n",
            "  - mcaja_ahorro\n",
            "  - percent_rank_mcaja_ahorro\n",
            "  - ctarjeta_visa_transacciones\n",
            "  - mtarjetas_consumo\n",
            "  - lag_2_cpayroll_trx\n",
            "Cluster 8 vs. Resto:\n",
            "  - percent_rank_mpasivos_margen\n",
            "  - avg_3_ctrx_quarter\n",
            "  - lag_2_ctrx_quarter\n",
            "  - ctrx_quarter\n",
            "  - percent_rank_ctrx_quarter\n",
            "  - lag_1_ctrx_quarter\n",
            "  - percent_rank_mcaja_ahorro\n",
            "  - avg_3_mcaja_ahorro\n",
            "  - mcaja_ahorro\n",
            "  - ctarjeta_visa_transacciones\n",
            "  - mtarjetas_consumo\n",
            "  - lag_2_cpayroll_trx\n",
            "Cluster 9 vs. Resto:\n",
            "  - mcaja_ahorro\n",
            "  - mtarjetas_consumo\n",
            "  - percent_rank_mcaja_ahorro\n",
            "  - ctrx_quarter\n",
            "  - percent_rank_ctrx_quarter\n",
            "  - percent_rank_mpasivos_margen\n",
            "  - avg_3_mcaja_ahorro\n",
            "  - lag_1_ctrx_quarter\n",
            "  - lag_2_ctrx_quarter\n",
            "  - avg_3_ctrx_quarter\n",
            "  - ctarjeta_visa_transacciones\n",
            "  - percent_rank_cpayroll_trx\n",
            "Cluster 10 vs. Resto:\n",
            "  - percent_rank_mpasivos_margen\n",
            "  - avg_3_ctrx_quarter\n",
            "  - lag_2_ctrx_quarter\n",
            "  - percent_rank_ctrx_quarter\n",
            "  - mcaja_ahorro\n",
            "  - ctrx_quarter\n",
            "  - lag_1_ctrx_quarter\n",
            "  - percent_rank_mcaja_ahorro\n",
            "  - avg_3_mcaja_ahorro\n",
            "  - mtarjetas_consumo\n",
            "  - ctarjeta_visa_transacciones\n",
            "  - lag_2_cpayroll_trx\n",
            "Cluster 11 vs. Resto:\n",
            "  - m_payroll_total\n",
            "  - percent_rank_mpayroll\n",
            "  - mpayroll\n",
            "  - lag_1_mpayroll\n",
            "  - mtarjetas_consumo\n",
            "  - ctarjeta_visa_transacciones\n",
            "  - lag_2_ctrx_quarter\n",
            "  - ctrx_quarter\n",
            "  - percent_rank_ctrx_quarter\n",
            "  - avg_3_mcaja_ahorro\n",
            "  - mcaja_ahorro\n",
            "  - avg_3_ctrx_quarter\n",
            "Cluster 12 vs. Resto:\n",
            "  - percent_rank_mpasivos_margen\n",
            "  - avg_3_ctrx_quarter\n",
            "  - percent_rank_ctrx_quarter\n",
            "  - lag_2_ctrx_quarter\n",
            "  - ctrx_quarter\n",
            "  - lag_1_ctrx_quarter\n",
            "  - mcaja_ahorro\n",
            "  - avg_3_mcaja_ahorro\n",
            "  - percent_rank_mcaja_ahorro\n",
            "  - ctarjeta_visa_transacciones\n",
            "  - mtarjetas_consumo\n",
            "  - lag_2_cpayroll_trx\n",
            "Cluster -1 vs. Resto:\n",
            "  - percent_rank_mpasivos_margen\n",
            "  - percent_rank_mcaja_ahorro\n",
            "  - mcaja_ahorro\n",
            "  - avg_3_mcaja_ahorro\n",
            "  - avg_3_ctrx_quarter\n",
            "  - ctrx_quarter\n",
            "  - lag_2_ctrx_quarter\n",
            "  - percent_rank_ctrx_quarter\n",
            "  - lag_1_ctrx_quarter\n",
            "  - mtarjetas_consumo\n",
            "  - ctarjeta_visa_transacciones\n",
            "  - mpayroll\n",
            "Cluster 13 vs. Resto:\n",
            "  - percent_rank_mpasivos_margen\n",
            "  - percent_rank_mcaja_ahorro\n",
            "  - avg_3_mcaja_ahorro\n",
            "  - mcaja_ahorro\n",
            "  - avg_3_ctrx_quarter\n",
            "  - lag_2_ctrx_quarter\n",
            "  - percent_rank_ctrx_quarter\n",
            "  - ctrx_quarter\n",
            "  - lag_1_ctrx_quarter\n",
            "  - mtarjetas_consumo\n",
            "  - avg_3_cpayroll_trx\n",
            "  - ctarjeta_visa_transacciones\n",
            "Cluster 14 vs. Resto:\n",
            "  - avg_3_mcaja_ahorro\n",
            "  - percent_rank_mcaja_ahorro\n",
            "  - mcaja_ahorro\n",
            "  - percent_rank_mpayroll\n",
            "  - m_payroll_total\n",
            "  - ctrx_quarter\n",
            "  - lag_1_ctrx_quarter\n",
            "  - percent_rank_ctrx_quarter\n",
            "  - avg_3_cpayroll_trx\n",
            "  - mpayroll\n",
            "  - lag_1_mpayroll\n",
            "  - lag_2_ctrx_quarter\n"
          ]
        }
      ],
      "source": [
        "for cluster, features in important_features_by_cluster.items():\n",
        "  print(f\"Cluster {cluster} vs. Resto:\")\n",
        "  for feature in features[:12]:\n",
        "    print(f\"  - {feature}\")\n"
      ]
    },
    {
      "cell_type": "markdown",
      "metadata": {
        "id": "h5WHCJDw53Pa"
      },
      "source": [
        "Luego resta, analizar los estadísticos de los datos de cada cluster para las variables importantes, comparar sus distribuciones con histogramas, boxplots, pivot tables, etc.\n"
      ]
    },
    {
      "cell_type": "markdown",
      "metadata": {
        "id": "Th9-1pcqMZeG"
      },
      "source": [
        "Junto con el diccionaro de datos, de sentido a lo que ve a través del análisis multivariado de datos.\n",
        "\n",
        "Obviamente, esto es apenas mas que una semilla. Agregue las variables históricas, juegue con los **rf** y genere una segmentación pro, que encante a Miranda\n"
      ]
    },
    {
      "cell_type": "code",
      "execution_count": null,
      "metadata": {},
      "outputs": [],
      "source": []
    }
  ],
  "metadata": {
    "colab": {
      "provenance": []
    },
    "kernelspec": {
      "display_name": "Python 3",
      "name": "python3"
    },
    "language_info": {
      "codemirror_mode": {
        "name": "ipython",
        "version": 3
      },
      "file_extension": ".py",
      "mimetype": "text/x-python",
      "name": "python",
      "nbconvert_exporter": "python",
      "pygments_lexer": "ipython3",
      "version": "3.12.5"
    }
  },
  "nbformat": 4,
  "nbformat_minor": 0
}
