{
  "nbformat": 4,
  "nbformat_minor": 0,
  "metadata": {
    "colab": {
      "provenance": []
    },
    "kernelspec": {
      "name": "python3",
      "display_name": "Python 3"
    },
    "language_info": {
      "name": "python"
    }
  },
  "cells": [
    {
      "cell_type": "markdown",
      "source": [
        "## Instrucciones:\n",
        "\n",
        "Este archivo es una plantilla que deberás completar para la creación de un job que permita ejecutar tu experimento asignado. Es importante reemplazar el nombre genérico del archivo por un identificador único, que será el número asignado al alumno que lo creó. Cada vez que otro alumno utilice ese job, se recompensará al autor original.\n",
        "\n",
        "El job debe ser ejecutable simplemente configurando correctamente las siguientes secciones:\n",
        "- **Parámetros**\n",
        "- **Input**\n",
        "- **Output**\n",
        "\n",
        "El archivo debe ser obligatoriamente un *Jupyter Notebook*, con el fin de facilitar su uso a los alumnos menos técnicos. Sin embargo, si prefieres migrar o adaptar el código a archivos planos para tus propios pipelines, podrás hacerlo, siempre que quede claro el origen del código.\n",
        "\n",
        "El formato del nombre del job debe seguir la siguiente convención:\n",
        "- `j<id_alumno>_<ref>.ipynb`\n",
        "\n",
        "Cada alumno puede generar más de un job, y también puede modificar los jobs de otros, siempre que se respete el nombre original.\n",
        "\n",
        "Para la entrega de la segunda competencia, debes incluir dos componentes:\n",
        "1. Todos los jobs utilizados, con sus nombres originales.\n",
        "2. Un archivo explicando la secuencia en la que se ejecutaron los jobs.\n",
        "\n",
        "Los jobs se compartirán en las slides de los experimentos con el link al repo de github.\n",
        "---\n"
      ],
      "metadata": {
        "id": "pJz8GT5QDbbR"
      }
    },
    {
      "cell_type": "markdown",
      "source": [
        "# Título\n",
        "\n",
        "## Autor: <Nombre del alumnos>\n",
        "## Fecha de última modificación: <ie: 29/10/2024>\n",
        "## Descripción:\n",
        "\n",
        "< Completar >"
      ],
      "metadata": {
        "id": "d_xvJXPhCkMA"
      }
    },
    {
      "cell_type": "markdown",
      "source": [
        "## Parámetros\n",
        "\n",
        "< Descripción de cada uno de los parámetros que utiliza el job >\n"
      ],
      "metadata": {
        "id": "qRTSvXdLHkpB"
      }
    },
    {
      "cell_type": "code",
      "source": [
        "# Ejemplo\n",
        "cantidad_modelos = 10\n",
        "threshold = 0.025\n"
      ],
      "metadata": {
        "id": "yMU00Fl7IIfm"
      },
      "execution_count": null,
      "outputs": []
    },
    {
      "cell_type": "markdown",
      "source": [
        "## Input\n",
        "\n",
        "< Archivos de datos (csv.gz) con sus paths que van a consumirse por el job>"
      ],
      "metadata": {
        "id": "sH5VivJSIM42"
      }
    },
    {
      "cell_type": "code",
      "source": [
        "# Ejemplo\n",
        "base_path = '/content/drive/MyDrive/DMEyF/2024/'\n",
        "dataset_path = base_path + 'datos/'\n",
        "dataset_file = 'competencia_01.csv'"
      ],
      "metadata": {
        "id": "MEk4Fj7VIv7g"
      },
      "execution_count": null,
      "outputs": []
    },
    {
      "cell_type": "markdown",
      "source": [
        "## Output\n",
        "\n",
        "< Archivos, bases de datos, modelos que va a generar el job>"
      ],
      "metadata": {
        "id": "fQ6MUhENI0Ya"
      }
    },
    {
      "cell_type": "code",
      "source": [
        "# Ejemplo\n",
        "base_path = '/content/drive/MyDrive/DMEyF/2024/'\n",
        "modelos_path = base_path + 'modelos/'\n",
        "modelo_file = 'mi_modelo'"
      ],
      "metadata": {
        "id": "ZT3kxlkFIv4p"
      },
      "execution_count": null,
      "outputs": []
    },
    {
      "cell_type": "code",
      "source": [
        "## Procesos"
      ],
      "metadata": {
        "id": "NtIT33WnJFx-"
      },
      "execution_count": null,
      "outputs": []
    },
    {
      "cell_type": "markdown",
      "source": [
        "### Paquetes necesarios"
      ],
      "metadata": {
        "id": "iVe0GO1IJHtI"
      }
    },
    {
      "cell_type": "code",
      "source": [
        "# Ejemplo\n",
        "%pip install catboost"
      ],
      "metadata": {
        "id": "O2VG2xS_Ivq3"
      },
      "execution_count": null,
      "outputs": []
    },
    {
      "cell_type": "markdown",
      "source": [
        "## Código del proceso\n",
        "\n",
        "< Todo el código a partir de aquí debe poder ejecutarse sin necesidad de parametrizar nada>"
      ],
      "metadata": {
        "id": "0LM2kY_WJj15"
      }
    },
    {
      "cell_type": "code",
      "source": [],
      "metadata": {
        "id": "Nr6BNGDUJkWd"
      },
      "execution_count": null,
      "outputs": []
    }
  ]
}